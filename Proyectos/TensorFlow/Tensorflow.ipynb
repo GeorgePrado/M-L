{
 "cells": [
  {
   "cell_type": "markdown",
   "metadata": {},
   "source": [
    "# TensorFlow\n",
    "\n",
    "## Carlos Antonio Cueva Rojas\n",
    "## Maching Learning\n"
   ]
  },
  {
   "cell_type": "markdown",
   "metadata": {},
   "source": [
    "### Introdución:\n",
    "\n",
    "TensorFlow es una biblioteca desarrollada por Google que nos permite realizar cálculos numéricos usando diagramas de flujo de datos. Los nodos del grafo representan operaciones matemáticas, mientras que los vértices del grafo representan datos multidimensionales (tensores) comunicándose entre ellos. Esta arquitectura facilita crear aplicaciones distribuidas.\n"
   ]
  },
  {
   "cell_type": "markdown",
   "metadata": {},
   "source": [
    "### Instalación:\n",
    "\n",
    "Se puede observar muchas formas de instalar tensorflow, para fines prácticos, partiendo del curso (tenemos conda), usamos esta forma de instalación.\n",
    "\n",
    "De cualquier forma podemos hacer [click aqui](https://www.tensorflow.org/versions/r0.11/get_started/os_setup.html#download-and-setup) para más información.\n",
    "\n",
    "\n",
    "Usando Ubuntu 16.04 y con Anaconda. Basta con seguir las instrucciones.\n",
    "\n",
    "* ``` conda install -c conda-forge tensorflow ```\n",
    "\n",
    "\n"
   ]
  },
  {
   "cell_type": "markdown",
   "metadata": {},
   "source": [
    "### Empenzando a usar:"
   ]
  },
  {
   "cell_type": "markdown",
   "metadata": {},
   "source": [
    "Ya una vez instalado podemos poner a prueba con un pequeño hola mundo."
   ]
  },
  {
   "cell_type": "code",
   "execution_count": 1,
   "metadata": {
    "collapsed": true
   },
   "outputs": [],
   "source": [
    "import tensorflow as tf\n",
    "import numpy as np"
   ]
  },
  {
   "cell_type": "code",
   "execution_count": 2,
   "metadata": {
    "collapsed": false
   },
   "outputs": [
    {
     "name": "stdout",
     "output_type": "stream",
     "text": [
      "[ 0.32311648  0.69779658  0.97849518  0.304389    0.50192624  0.06104559\n",
      "  0.45384809  0.93893033  0.73412353  0.94780862  0.96193254  0.29888785\n",
      "  0.6082285   0.07293429  0.66396761  0.7378999   0.31780696  0.80652118\n",
      "  0.89196074  0.08676874  0.48559481  0.36849794  0.2211825   0.35918251\n",
      "  0.29391763  0.13087136  0.78749144  0.2809121   0.47282714  0.65707159\n",
      "  0.02002251  0.60860437  0.79210663  0.92332107  0.5980407   0.65348822\n",
      "  0.40365309  0.18964496  0.34392872  0.391765    0.65014625  0.10467692\n",
      "  0.34017077  0.33377746  0.53030306  0.42611504  0.6564256   0.26662305\n",
      "  0.01447615  0.03737282  0.71592408  0.86358982  0.72473729  0.57601893\n",
      "  0.17320849  0.31182012  0.45440918  0.10768751  0.25599146  0.4789809\n",
      "  0.65228838  0.15240169  0.54258168  0.43719581  0.78402132  0.3854028\n",
      "  0.80596119  0.25911453  0.73573321  0.92111266  0.3290545   0.80627477\n",
      "  0.63165087  0.90400279  0.73085922  0.99476802  0.91431773  0.82830745\n",
      "  0.18947889  0.89146525  0.28827128  0.84971303  0.98051554  0.60234654\n",
      "  0.43989736  0.0942714   0.82156485  0.853001    0.50869149  0.42957532\n",
      "  0.01890787  0.06678077  0.17046045  0.59936231  0.93673837  0.31799805\n",
      "  0.36895427  0.77847946  0.41021737  0.90071881]\n",
      "[ 0.33231166  0.36977968  0.39784953  0.33043891  0.35019264  0.30610457\n",
      "  0.34538484  0.39389306  0.37341237  0.39478087  0.39619327  0.32988879\n",
      "  0.36082286  0.30729344  0.36639678  0.37379     0.3317807   0.38065213\n",
      "  0.3891961   0.3086769   0.3485595   0.33684981  0.32211825  0.33591825\n",
      "  0.32939178  0.31308714  0.37874916  0.32809123  0.34728274  0.36570716\n",
      "  0.30200225  0.36086044  0.37921068  0.39233214  0.35980409  0.36534885\n",
      "  0.34036532  0.31896451  0.33439288  0.33917651  0.36501464  0.31046769\n",
      "  0.3340171   0.33337775  0.35303032  0.34261152  0.36564258  0.3266623\n",
      "  0.30144763  0.30373728  0.37159243  0.38635901  0.37247375  0.35760191\n",
      "  0.31732085  0.33118203  0.34544092  0.31076875  0.32559916  0.3478981\n",
      "  0.36522886  0.31524017  0.35425818  0.3437196   0.37840214  0.33854029\n",
      "  0.38059613  0.32591146  0.37357333  0.39211127  0.33290547  0.38062748\n",
      "  0.36316511  0.39040029  0.37308595  0.39947683  0.39143178  0.38283077\n",
      "  0.31894791  0.38914654  0.32882714  0.38497132  0.39805156  0.36023468\n",
      "  0.34398976  0.30942714  0.38215649  0.3853001   0.35086915  0.34295756\n",
      "  0.30189079  0.30667809  0.31704605  0.35993624  0.39367384  0.33179981\n",
      "  0.33689544  0.37784797  0.34102175  0.3900719 ]\n"
     ]
    }
   ],
   "source": [
    "x_data = np.random.rand(100).astype(np.float32)\n",
    "print(x_data)\n",
    "y_data = x_data * 0.1 + 0.3\n",
    "print(y_data)"
   ]
  },
  {
   "cell_type": "code",
   "execution_count": 4,
   "metadata": {
    "collapsed": false
   },
   "outputs": [
    {
     "data": {
      "text/plain": [
       "<matplotlib.collections.PathCollection at 0x7ffb58f86898>"
      ]
     },
     "execution_count": 4,
     "metadata": {},
     "output_type": "execute_result"
    },
    {
     "data": {
      "image/png": "[encoded data removed]",
      "text/plain": [
       "<matplotlib.figure.Figure at 0x7ffb698c70b8>"
      ]
     },
     "metadata": {},
     "output_type": "display_data"
    }
   ],
   "source": [
    "%matplotlib inline\n",
    "import matplotlib.pyplot as plt\n",
    "plt.scatter(x_data,y_data)"
   ]
  },
  {
   "cell_type": "markdown",
   "metadata": {},
   "source": [
    "Observamos claramente que **y** esta en función de **x**. Supongamos que requerimos hacer una regresión lineal, los valores óptimos serian 0.1 y 0.3. "
   ]
  },
  {
   "cell_type": "code",
   "execution_count": 26,
   "metadata": {
    "collapsed": true
   },
   "outputs": [],
   "source": [
    "W = tf.Variable(tf.random_uniform([1], -1.0, 1.0))\n",
    "b = tf.Variable(tf.zeros([1]))\n",
    "y = W * x_data + b"
   ]
  },
  {
   "cell_type": "markdown",
   "metadata": {},
   "source": [
    "Ahora tenemos una variable **y** que se define como w * x_data+b, entonces si hacemos y=y_data se tendrá que w=0.1 y b=0.3.   \n",
    "Consultamos el valor de W"
   ]
  },
  {
   "cell_type": "code",
   "execution_count": 27,
   "metadata": {
    "collapsed": false
   },
   "outputs": [
    {
     "name": "stdout",
     "output_type": "stream",
     "text": [
      "<tensorflow.python.ops.variables.Variable object at 0x7ffb581db8d0>\n"
     ]
    }
   ],
   "source": [
    "print(W)"
   ]
  },
  {
   "cell_type": "markdown",
   "metadata": {},
   "source": [
    "No hay ningún valor, esto es porque aún no se inicializan las variables."
   ]
  },
  {
   "cell_type": "code",
   "execution_count": 28,
   "metadata": {
    "collapsed": true
   },
   "outputs": [],
   "source": [
    "loss = tf.reduce_mean(tf.square(y - y_data))\n",
    "optimizer = tf.train.GradientDescentOptimizer(0.5)\n",
    "train = optimizer.minimize(loss)"
   ]
  },
  {
   "cell_type": "markdown",
   "metadata": {},
   "source": [
    "Ahora si probemos a inicializar las variables "
   ]
  },
  {
   "cell_type": "code",
   "execution_count": 29,
   "metadata": {
    "collapsed": true
   },
   "outputs": [],
   "source": [
    "init = tf.initialize_all_variables()"
   ]
  },
  {
   "cell_type": "code",
   "execution_count": 30,
   "metadata": {
    "collapsed": false
   },
   "outputs": [
    {
     "name": "stdout",
     "output_type": "stream",
     "text": [
      "<tensorflow.python.ops.variables.Variable object at 0x7ffb581db8d0>\n"
     ]
    }
   ],
   "source": [
    "print(W)"
   ]
  },
  {
   "cell_type": "markdown",
   "metadata": {},
   "source": [
    "Creamos la sesión y procedemos a ejecutarla."
   ]
  },
  {
   "cell_type": "code",
   "execution_count": 31,
   "metadata": {
    "collapsed": true
   },
   "outputs": [],
   "source": [
    "sess = tf.Session()\n",
    "sess.run(init)"
   ]
  },
  {
   "cell_type": "markdown",
   "metadata": {},
   "source": [
    "Ahora ha inicializado los valores."
   ]
  },
  {
   "cell_type": "code",
   "execution_count": 32,
   "metadata": {
    "collapsed": false
   },
   "outputs": [
    {
     "name": "stdout",
     "output_type": "stream",
     "text": [
      "0 [-0.15120175] [ 0.6222657]\n",
      "20 [ 0.00931638] [ 0.35002753]\n",
      "40 [ 0.07499626] [ 0.31379387]\n",
      "60 [ 0.09310587] [ 0.30380329]\n",
      "80 [ 0.09809911] [ 0.30104867]\n",
      "100 [ 0.09947588] [ 0.30028915]\n",
      "120 [ 0.0998555] [ 0.30007973]\n",
      "140 [ 0.09996015] [ 0.30002201]\n",
      "160 [ 0.09998904] [ 0.30000606]\n",
      "180 [ 0.09999698] [ 0.30000168]\n",
      "200 [ 0.09999915] [ 0.30000049]\n"
     ]
    }
   ],
   "source": [
    "for paso in range(201):\n",
    "    sess.run(train)\n",
    "    if paso % 20 == 0:\n",
    "        print(paso, sess.run(W), sess.run(b))"
   ]
  },
  {
   "cell_type": "code",
   "execution_count": 33,
   "metadata": {
    "collapsed": false
   },
   "outputs": [
    {
     "name": "stdout",
     "output_type": "stream",
     "text": [
      "[ 0.09999915]\n"
     ]
    }
   ],
   "source": [
    "print(sess.run(W))"
   ]
  },
  {
   "cell_type": "markdown",
   "metadata": {
    "collapsed": true
   },
   "source": [
    "De esta forma hemos conseguido un ejemplo muy claro, de  regresión lineal.\n",
    "\n",
    "### Análisis de las  partes."
   ]
  },
  {
   "cell_type": "markdown",
   "metadata": {},
   "source": [
    "####  Construyendo el grafo\n",
    "\n",
    "Como se menciono con anterioridad, tensorflow funciona  considerando las operaciones de un grafo. de esta forma, se genera una construcción fácil de seguir y evaluar."
   ]
  },
  {
   "cell_type": "code",
   "execution_count": 34,
   "metadata": {
    "collapsed": true
   },
   "outputs": [],
   "source": [
    "#Contruimos en el grafo por defecto una matris 1x2\n",
    "\n",
    "matrix1 = tf.constant([[3., 3.]])\n",
    "\n",
    "#Construimos otra matris de 2x1\n",
    "matrix2 = tf.constant([[2.],[2.]])\n",
    "\n",
    "#AGregamos una operación matrix1 x matrix2\n",
    "product = tf.matmul(matrix1, matrix2)\n",
    "\n"
   ]
  },
  {
   "cell_type": "markdown",
   "metadata": {},
   "source": [
    "Ahora el grafo por defecto tiene dos constantes y una operación de multiplicación.  \n",
    "\n",
    "#### Construyendo la sesión\n",
    "\n",
    "Si en la construcción no le enviamos parámetros, carga el grafo por defecto.\n"
   ]
  },
  {
   "cell_type": "code",
   "execution_count": 35,
   "metadata": {
    "collapsed": false
   },
   "outputs": [
    {
     "name": "stdout",
     "output_type": "stream",
     "text": [
      "[[ 12.]]\n"
     ]
    }
   ],
   "source": [
    "sess = tf.Session()\n",
    "result = sess.run(product)\n",
    "print(result)\n",
    "sess.close()"
   ]
  },
  {
   "cell_type": "markdown",
   "metadata": {},
   "source": [
    "Otra forma, es instanciando directamente. en un for"
   ]
  },
  {
   "cell_type": "code",
   "execution_count": 37,
   "metadata": {
    "collapsed": false
   },
   "outputs": [
    {
     "name": "stdout",
     "output_type": "stream",
     "text": [
      "[array([[ 12.]], dtype=float32)]\n"
     ]
    }
   ],
   "source": [
    "with tf.Session() as sess:\n",
    "  result2 = sess.run([product])\n",
    "  print(result2)"
   ]
  },
  {
   "cell_type": "markdown",
   "metadata": {},
   "source": [
    "* Uso iterativo \n",
    "\n",
    "También podemos usar una sessión iterativa. Usar métodos como **.eval** y **.run** en caso de  métodos"
   ]
  },
  {
   "cell_type": "code",
   "execution_count": 43,
   "metadata": {
    "collapsed": false
   },
   "outputs": [
    {
     "name": "stdout",
     "output_type": "stream",
     "text": [
      "[-2. -1.]\n"
     ]
    }
   ],
   "source": [
    "sess = tf.InteractiveSession()\n",
    "\n",
    "x = tf.Variable([1.0, 2.0])\n",
    "a = tf.constant([3.0, 3.0])\n",
    "\n",
    "\n",
    "x.initializer.run()\n",
    "\n",
    "sub = tf.sub(x, a)\n",
    "print(sub.eval())\n",
    "\n",
    "sess.close()"
   ]
  },
  {
   "cell_type": "markdown",
   "metadata": {},
   "source": [
    "## Tensores"
   ]
  },
  {
   "cell_type": "markdown",
   "metadata": {},
   "source": [
    "Tensores son lo que se basa la librería, se puede considerar directamente como un array de n dimensiones o una lista.\n",
    "\n",
    "### Tensor RanK\n",
    "\n",
    "En el sistema TensorFlow, los tensores se describen por una unidad de dimensionalidad conocido como rango. \n",
    "**Tensor Rank** no es el mismo que el rango de la matriz. Tensor Rank (a veces conocido como orden o grado o n-dimensión) es el número de dimensiones del tensor. Por ejemplo, la siguiente tensor (definida como una lista de Python) tiene un rango de 2:\n",
    "\n",
    "t = [[1, 2, 3], [4, 5, 6], [7, 8, 9]]\n",
    "\n",
    "\n",
    "    Rank \tMath entity \t                    Python example\n",
    "    0       Scalar (magnitude only) \t        s = 483\n",
    "    1 \t    Vector (magnitude and direction) \tv = [1.1, 2.2, 3.3]\n",
    "    2 \t    Matrix (table of numbers) \t        m = [[1, 2, 3], [4, 5, 6], [7, 8, 9]]\n",
    "    3 \t    3-Tensor (cube of numbers) \t        t = [[[2], [4], [6]], [[8], [10], [12]], [[14], [16], [18]]]\n",
    "    n \t    n-Tensor (you get the idea) \t    ...\n",
    "    \n",
    "    \n",
    "### Data Type\n",
    "\n",
    "    Data type \tPython type \tDescription\n",
    "    DT_FLOAT \ttf.float32 \t32 bits floating point.\n",
    "    DT_DOUBLE \ttf.float64 \t64 bits floating point.\n",
    "    DT_INT8 \ttf.int8 \t8 bits signed integer.\n",
    "    DT_INT16 \ttf.int16 \t16 bits signed integer.\n",
    "    DT_INT32 \ttf.int32 \t32 bits signed integer.\n",
    "    DT_INT64 \ttf.int64 \t64 bits signed integer.\n",
    "    DT_UINT8 \ttf.uint8 \t8 bits unsigned integer.\n",
    "    DT_UINT16 \ttf.uint16 \t16 bits unsigned integer.\n",
    "    DT_STRING \ttf.string \tVariable length byte arrays. Each element of a Tensor is a byte array.\n",
    "    DT_BOOL \ttf.bool \tBoolean.\n",
    "    DT_COMPLEX64 \ttf.complex64 \tComplex number made of two 32 bits floating points: real and imaginary parts.\n",
    "    DT_COMPLEX128 \ttf.complex128 \tComplex number made of two 64 bits floating points: real and imaginary parts.\n",
    "    DT_QINT8 \ttf.qint8 \t8 bits signed integer used in quantized Ops.\n",
    "    DT_QINT32 \ttf.qint32 \t32 bits signed integer used in quantized Ops.\n",
    "    DT_QUINT8 \ttf.quint8 \t8 bits unsigned integer used in quantized Ops.\n",
    "\n",
    "\n"
   ]
  },
  {
   "cell_type": "markdown",
   "metadata": {},
   "source": [
    "## Variables\n",
    "\n",
    "Cuando se entrena un modelo, se utiliza variables para mantener y actualizar parámetros. Las variables son buffers de memoria que contiene los tensores. Ellos deben inicializarse explícitamente y se pueden guardar en el disco durante y después del entrenamiento. Más tarde, se puede restaurar los valores  o analizar el modelo guardado.\n"
   ]
  },
  {
   "cell_type": "code",
   "execution_count": 44,
   "metadata": {
    "collapsed": true
   },
   "outputs": [],
   "source": [
    "#Inicializando variables\n",
    "\n",
    "weights = tf.Variable(tf.random_normal([784, 200], stddev=0.35),\n",
    "                      name=\"weights\")\n",
    "biases = tf.Variable(tf.zeros([200]), name=\"biases\")\n"
   ]
  },
  {
   "cell_type": "code",
   "execution_count": 45,
   "metadata": {
    "collapsed": false
   },
   "outputs": [
    {
     "name": "stdout",
     "output_type": "stream",
     "text": [
      "0\n",
      "1\n",
      "2\n",
      "3\n"
     ]
    }
   ],
   "source": [
    "state = tf.Variable(0, name=\"counter\")\n",
    "\n",
    "# Create an Op to add one to `state`.\n",
    "\n",
    "one = tf.constant(1)\n",
    "new_value = tf.add(state, one)\n",
    "update = tf.assign(state, new_value)\n",
    "\n",
    "# Variables must be initialized by running an `init` Op after having\n",
    "# launched the graph.  We first have to add the `init` Op to the graph.\n",
    "init_op = tf.initialize_all_variables()\n",
    "\n",
    "# Launch the graph and run the ops.\n",
    "with tf.Session() as sess:\n",
    "  # Run the 'init' op\n",
    "  sess.run(init_op)\n",
    "  # Print the initial value of 'state'\n",
    "  print(sess.run(state))\n",
    "  # Run the op that updates 'state' and print 'state'.\n",
    "  for _ in range(3):\n",
    "    sess.run(update)\n",
    "    print(sess.run(state))"
   ]
  },
  {
   "cell_type": "markdown",
   "metadata": {},
   "source": [
    "### Fetches\n",
    "Las salidas de las operaciones"
   ]
  },
  {
   "cell_type": "code",
   "execution_count": 46,
   "metadata": {
    "collapsed": false
   },
   "outputs": [
    {
     "name": "stdout",
     "output_type": "stream",
     "text": [
      "[array([ 21.], dtype=float32), array([ 7.], dtype=float32)]\n"
     ]
    }
   ],
   "source": [
    "input1 = tf.constant([3.0])\n",
    "input2 = tf.constant([2.0])\n",
    "input3 = tf.constant([5.0])\n",
    "intermed = tf.add(input2, input3)\n",
    "mul = tf.mul(input1, intermed)\n",
    "\n",
    "with tf.Session() as sess:\n",
    "  result = sess.run([mul, intermed])\n",
    "  print(result)"
   ]
  },
  {
   "cell_type": "markdown",
   "metadata": {},
   "source": [
    "### Feeds\n",
    "\n",
    "\n",
    "TensorFlow también proporciona un mecanismo de alimentación para parchear un tensor directamente en cualquier operación en el grafo."
   ]
  },
  {
   "cell_type": "code",
   "execution_count": 47,
   "metadata": {
    "collapsed": false
   },
   "outputs": [
    {
     "name": "stdout",
     "output_type": "stream",
     "text": [
      "[array([ 14.], dtype=float32)]\n"
     ]
    }
   ],
   "source": [
    "input1 = tf.placeholder(tf.float32)\n",
    "input2 = tf.placeholder(tf.float32)\n",
    "output = tf.mul(input1, input2)\n",
    "\n",
    "with tf.Session() as sess:\n",
    "  print(sess.run([output], feed_dict={input1:[7.], input2:[2.]}))\n"
   ]
  },
  {
   "cell_type": "markdown",
   "metadata": {},
   "source": []
  }
 ],
 "metadata": {
  "anaconda-cloud": {},
  "kernelspec": {
   "display_name": "Python 3",
   "language": "python",
   "name": "python3"
  },
  "language_info": {
   "codemirror_mode": {
    "name": "ipython",
    "version": 3
   },
   "file_extension": ".py",
   "mimetype": "text/x-python",
   "name": "python",
   "nbconvert_exporter": "python",
   "pygments_lexer": "ipython3",
   "version": "3.5.1"
  }
 },
 "nbformat": 4,
 "nbformat_minor": 0
}
