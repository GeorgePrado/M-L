{
 "cells": [
  {
   "cell_type": "markdown",
   "metadata": {},
   "source": [
    "# Scipy : Librería Cientifica de Python\n",
    "\n",
    "Referencia: Francisco J.Blanco-Silva Mastering SciPy.\n",
    "\n",
    "[SciPy](http://www.scipy.org)  es la librería de  computación científica para Python, de hecho es más bien una colección de librerías para la computación científica de alto nivel, que son más o menos independientes unas de otras. La biblioteca SciPy se construye sobre  NumPy, que le  proporciona las estructuras de arrays básicas y las operaciones fundamentales en este tipo de arrays. Los módulos en SciPy proporcionan  computación de alto nivel para diversas áreas como:  \n",
    "\n",
    "\n",
    "* Modelamiento y fijado de datos.\n",
    "* Optimización\n",
    "* Procesamiento de imaǵenes.\n",
    "* Estadistica y probabilidades\n",
    "* Clusters\n",
    "* Interpolación\n",
    "* Álgebra lineal\n",
    "* etc.\n",
    "\n",
    "Mayor información en [la documentación de Scipy](https://www.scipy.org/getting-started.html).\n",
    "  \n",
    "Scipy no tiene módulos de Analisis Bayesiano, es decir no tiene capacidades para **MCMC (Markov Chain Monte Carlo)**, pero existen otras alternativas como [PyMC](https://github.com/pymc-devs/pymc) o los [SciKits](https://scikits.appspot.com/).\n",
    " \n",
    " "
   ]
  },
  {
   "cell_type": "markdown",
   "metadata": {},
   "source": [
    "## Optimización\n",
    "\n",
    "Scipy contiene el módulo `optimize` para problemas de optimización no lineal númericos, donde la solución de los ceros de la derivada o del gradiente y probar el resultado como candidato de optimalidad no es factible."
   ]
  },
  {
   "cell_type": "code",
   "execution_count": 1,
   "metadata": {
    "collapsed": false
   },
   "outputs": [],
   "source": [
    "import scipy\n",
    "from scipy import optimize\n",
    "import matplotlib.pyplot as plt\n",
    "import numpy as np\n",
    "%matplotlib inline\n",
    "import os\n",
    "import sys\n",
    "import glob\n",
    "%precision 4\n",
    "plt.style.use('ggplot')\n",
    "#help(optimize) "
   ]
  },
  {
   "cell_type": "code",
   "execution_count": 24,
   "metadata": {
    "collapsed": false
   },
   "outputs": [
    {
     "data": {
      "text/plain": [
       "0.5419"
      ]
     },
     "execution_count": 24,
     "metadata": {},
     "output_type": "execute_result"
    }
   ],
   "source": [
    "# uso de optimize.brent\n",
    "\n",
    "def fun1(x):\n",
    "    return 2*np.pi*x**2 + 2/x\n",
    "x_min = optimize.brent(fun1, brack=(0.1, 5))\n",
    "x_min"
   ]
  },
  {
   "cell_type": "code",
   "execution_count": 25,
   "metadata": {
    "collapsed": false
   },
   "outputs": [
    {
     "data": {
      "text/plain": [
       "5.5358"
      ]
     },
     "execution_count": 25,
     "metadata": {},
     "output_type": "execute_result"
    }
   ],
   "source": [
    "fun1(x_min)"
   ]
  },
  {
   "cell_type": "code",
   "execution_count": 26,
   "metadata": {
    "collapsed": false
   },
   "outputs": [],
   "source": [
    "from scipy import optimize as opt\n",
    "\n",
    "def f(x):\n",
    "    return x**4 + 3*(x-2)**3 - 15*(x)**2 -7*(x) + 1"
   ]
  },
  {
   "cell_type": "code",
   "execution_count": 28,
   "metadata": {
    "collapsed": false
   },
   "outputs": [
    {
     "data": {
      "image/png": "[encoded data removed]",
      "text/plain": [
       "<matplotlib.figure.Figure at 0x23330d54320>"
      ]
     },
     "metadata": {},
     "output_type": "display_data"
    }
   ],
   "source": [
    "x = np.linspace(-8, 5, 100)\n",
    "plt.plot(x, f(x));"
   ]
  },
  {
   "cell_type": "code",
   "execution_count": 29,
   "metadata": {
    "collapsed": false
   },
   "outputs": [
    {
     "data": {
      "text/plain": [
       " nfev: 12\n",
       "    x: 2.7666774362281976\n",
       "  fun: -73.240924695745946\n",
       "  nit: 11"
      ]
     },
     "execution_count": 29,
     "metadata": {},
     "output_type": "execute_result"
    }
   ],
   "source": [
    "# utilicemos minimize_escalar: funcion para encontrar minimos\n",
    "opt.minimize_scalar(f, method='Brent')"
   ]
  },
  {
   "cell_type": "code",
   "execution_count": 30,
   "metadata": {
    "collapsed": false
   },
   "outputs": [
    {
     "data": {
      "text/plain": [
       "    nfev: 12\n",
       "  status: 0\n",
       " success: True\n",
       "       x: 2.7666777288226383\n",
       " message: 'Solution found.'\n",
       "     fun: -73.24092469574272"
      ]
     },
     "execution_count": 30,
     "metadata": {},
     "output_type": "execute_result"
    }
   ],
   "source": [
    "opt.minimize_scalar(f, method='bounded', bounds=[0, 6])"
   ]
  },
  {
   "cell_type": "code",
   "execution_count": 31,
   "metadata": {
    "collapsed": false
   },
   "outputs": [
    {
     "name": "stdout",
     "output_type": "stream",
     "text": [
      "Minimo global: x = -0.1951, f(x0) = -1.0009\n"
     ]
    }
   ],
   "source": [
    "# El algoritmo basin hooping. Ejemplo de la documentacion de scipy\n",
    "\n",
    "from scipy.optimize import basinhopping\n",
    "func = lambda x: np.cos(14.5 * x - 0.3) + (x + 0.2) * x\n",
    "x0=[1.]\n",
    "minimiza_metodo={\"method\":\"BFGS\"}\n",
    "ret = basinhopping(func, x0, minimizer_kwargs=minimiza_metodo,\n",
    "                  niter=200)\n",
    "print(\"Minimo global: x = %.4f, f(x0) = %.4f\" % (ret.x, ret.fun))"
   ]
  },
  {
   "cell_type": "code",
   "execution_count": 32,
   "metadata": {
    "collapsed": false
   },
   "outputs": [
    {
     "name": "stdout",
     "output_type": "stream",
     "text": [
      "Minimo global: x = [-0.1951, -0.1000], f(x0) = -1.0109\n"
     ]
    }
   ],
   "source": [
    "# En el caso de dos dimensiones\n",
    "\n",
    "def func2d(x):\n",
    "    f = np.cos(14.5 * x[0] - 0.3) +(x[1] +0.2) * x[1] + (x[0] + 0.2)*x[0]\n",
    "    df = np.zeros(2)\n",
    "    df[0] = -14.5 * np.sin(14.5 * x[0] - 0.3) + 2. * x[0] + 0.2\n",
    "    df[1] = 2. * x[1] + 0.2\n",
    "    return f, df\n",
    "\n",
    "minimiza_metodo = {\"method\":\"L-BFGS-B\", \"jac\":True}\n",
    "x0 = [1.0, 1.0]\n",
    "ret = basinhopping(func2d, x0, minimizer_kwargs=minimiza_metodo,niter=200)\n",
    "\n",
    "print(\"Minimo global: x = [%.4f, %.4f], f(x0) = %.4f\" % (ret.x[0],ret.x[1], ret.fun))"
   ]
  },
  {
   "cell_type": "markdown",
   "metadata": {},
   "source": [
    "### Ajuste de datos y optimización\n",
    "\n",
    "Hay un número de rutinas en Scipy para realizar ajuste de datos, por ejemplo `curve_fit`. Mayor información de esta rutina, se puede encontrar [aquí](http://docs.scipy.org/doc/scipy/reference/generated/scipy.optimize.curve_fit.html#scipy.optimize.curve_fit)."
   ]
  },
  {
   "cell_type": "code",
   "execution_count": 33,
   "metadata": {
    "collapsed": false
   },
   "outputs": [
    {
     "data": {
      "text/plain": [
       "[<matplotlib.lines.Line2D at 0x2333123a1d0>]"
      ]
     },
     "execution_count": 33,
     "metadata": {},
     "output_type": "execute_result"
    },
    {
     "data": {
      "image/png": "[encoded data removed]",
      "text/plain": [
       "<matplotlib.figure.Figure at 0x23330d541d0>"
      ]
     },
     "metadata": {},
     "output_type": "display_data"
    }
   ],
   "source": [
    "from scipy.optimize import curve_fit\n",
    "\n",
    "x = np.random.uniform(0., 100., 100)\n",
    "y = 3. * x + 2. + np.random.normal(0., 10., 100)\n",
    "plt.plot(x, y, '.')"
   ]
  },
  {
   "cell_type": "code",
   "execution_count": 34,
   "metadata": {
    "collapsed": true
   },
   "outputs": [],
   "source": [
    "# Calculemos una linea de ajuste\n",
    "\n",
    "def linea(x, a, b):\n",
    "    return a * x + b"
   ]
  },
  {
   "cell_type": "code",
   "execution_count": 35,
   "metadata": {
    "collapsed": false
   },
   "outputs": [
    {
     "data": {
      "text/plain": [
       "array([ 2.9568,  3.9455])"
      ]
     },
     "execution_count": 35,
     "metadata": {},
     "output_type": "execute_result"
    }
   ],
   "source": [
    "param, pcov = curve_fit(linea, x, y)\n",
    "param"
   ]
  },
  {
   "cell_type": "code",
   "execution_count": 36,
   "metadata": {
    "collapsed": false
   },
   "outputs": [
    {
     "data": {
      "text/plain": [
       "array([[  1.1675e-03,  -6.0036e-02],\n",
       "       [ -6.0036e-02,   4.0461e+00]])"
      ]
     },
     "execution_count": 36,
     "metadata": {},
     "output_type": "execute_result"
    }
   ],
   "source": [
    "pcov"
   ]
  },
  {
   "cell_type": "code",
   "execution_count": 37,
   "metadata": {
    "collapsed": false
   },
   "outputs": [
    {
     "data": {
      "text/plain": [
       "<Container object of 3 artists>"
      ]
     },
     "execution_count": 37,
     "metadata": {},
     "output_type": "execute_result"
    },
    {
     "data": {
      "image/png": "[encoded data removed]",
      "text/plain": [
       "<matplotlib.figure.Figure at 0x23331295048>"
      ]
     },
     "metadata": {},
     "output_type": "display_data"
    }
   ],
   "source": [
    "# probemos ahora asumiendo que los datos tengan una desviacion estandar\n",
    "# de +/-10\n",
    "\n",
    "import warnings\n",
    "warnings.filterwarnings(\"ignore\", module=\"matplotlib\")\n",
    "e = np.repeat(10., 100)\n",
    "plt.errorbar(x, y, yerr=e, fmt=None)"
   ]
  },
  {
   "cell_type": "code",
   "execution_count": 38,
   "metadata": {
    "collapsed": false
   },
   "outputs": [
    {
     "data": {
      "text/plain": [
       "array([ 2.9568,  3.9455])"
      ]
     },
     "execution_count": 38,
     "metadata": {},
     "output_type": "execute_result"
    }
   ],
   "source": [
    "param, pcov = curve_fit(linea, x, y, sigma=e)\n",
    "param"
   ]
  },
  {
   "cell_type": "code",
   "execution_count": 39,
   "metadata": {
    "collapsed": false
   },
   "outputs": [
    {
     "name": "stdout",
     "output_type": "stream",
     "text": [
      "a = 2.95680242445 +/- 0.0341683871634\n",
      "b = 3.94553836911 +/- 2.01149576632\n"
     ]
    }
   ],
   "source": [
    "print (\"a =\", param[0], \"+/-\", pcov[0,0]**0.5)\n",
    "print (\"b =\", param[1], \"+/-\", pcov[1,1]**0.5)"
   ]
  },
  {
   "cell_type": "code",
   "execution_count": 40,
   "metadata": {
    "collapsed": false
   },
   "outputs": [
    {
     "data": {
      "text/plain": [
       "[<matplotlib.lines.Line2D at 0x233312f0860>]"
      ]
     },
     "execution_count": 40,
     "metadata": {},
     "output_type": "execute_result"
    },
    {
     "data": {
      "image/png": "[encoded data removed]",
      "text/plain": [
       "<matplotlib.figure.Figure at 0x2333120a5c0>"
      ]
     },
     "metadata": {},
     "output_type": "display_data"
    }
   ],
   "source": [
    "# Graficamos la linea de mejor ajuste\n",
    "\n",
    "plt.errorbar(x, y, yerr=e, fmt=None)\n",
    "xfine = np.linspace(0., 100., 100)  # define valores para la funcion \n",
    "plt.plot(xfine, linea(xfine, param[0], param[1]), 'r-')"
   ]
  },
  {
   "cell_type": "markdown",
   "metadata": {},
   "source": [
    "### El método del gradiente\n",
    "\n",
    "El método del gradiente es un algoritmo de optimización utilizado para encontrar el mínimo local de una función, que se  utiliza en muchos  algoritmos del machine learning. \n",
    "\n",
    "El gradiente (o Jacobiano) en un punto indica la dirección para la que hay un mayor grado de inclinación. Dado que estamos buscando un mínimo, una posibilidad  es la de tomar  un paso en la dirección opuesta al gradiente. Estamos ponderando el  tamaño del paso por un factor $\\alpha$ conocido en machine learning como `tasa de aprendizaje`.\n",
    "\n",
    "Si $\\alpha$ es pequeño, el algoritmo puede converger hacia un mínimo local, tomando mucho  tiempo. Si $\\alpha$ es grande, el algoritmo puede converger más rápido, pero también puede sobrepasarse y nunca encontrar el mínimo.  \n",
    "\n",
    "Este método  es de primer orden, ya que se requiere el cálculo de la primera derivada en cada iteración.\n",
    "\n",
    "Como se menciona en algunos textos, algunos algoritmos determinan el valor apropiado de $\\alpha$ en cada escenario (paso) realizando una búsqueda lineal:\n",
    "\n",
    "$$\n",
    "\\alpha^* =  \\operatorname*{arg\\,max}_{\\alpha}f(x_k -\\alpha \\nabla f(x_k))\n",
    "$$\n",
    "\n",
    "el cual es un problema de optimización 1D."
   ]
  },
  {
   "cell_type": "code",
   "execution_count": 41,
   "metadata": {
    "collapsed": true
   },
   "outputs": [],
   "source": [
    "def rosen(x):\n",
    "    \"\"\" Version generalizada de la funcion de  Rosenbrock \"\"\"\n",
    "    return sum(100*(x[1:]-x[:-1]**2.0)**2.0 +(1-x[:-1])**2.0)"
   ]
  },
  {
   "cell_type": "code",
   "execution_count": 42,
   "metadata": {
    "collapsed": true
   },
   "outputs": [],
   "source": [
    "# Ejemplo tomado desde people.duke.edu\n",
    "\n",
    "def rosen_der(x):\n",
    "    \"\"\"Derivada de la funcion Rosen generalizada.\"\"\"\n",
    "    xm = x[1:-1]\n",
    "    xm_m1 = x[:-2]\n",
    "    xm_p1 = x[2:]\n",
    "    der = np.zeros_like(x)\n",
    "    der[1:-1] = 200*(xm-xm_m1**2) - 400*(xm_p1 - xm**2)*xm - 2*(1-xm)\n",
    "    der[0] = -400*x[0]*(x[1]-x[0]**2) - 2*(1-x[0])\n",
    "    der[-1] = 200*(x[-1]-x[-2]**2)\n",
    "    return der"
   ]
  },
  {
   "cell_type": "code",
   "execution_count": 43,
   "metadata": {
    "collapsed": false
   },
   "outputs": [],
   "source": [
    "# Implementacion para la funcion de Rosen\n",
    "from scipy import linalg as la\n",
    "def mdg(fun, x0, args=(), maxfev=None, alpha=0.0002,maxiter=100000, tol=1e-10, callback=None, **options):\n",
    "    \n",
    "    mejorx = x0\n",
    "    mejory = fun(x0)\n",
    "    funcllam = 1\n",
    "    niter = 0\n",
    "    mejor = True\n",
    "    alto = False\n",
    "\n",
    "    while mejor and not alto and niter < maxiter:\n",
    "        niter += 1\n",
    "        # las proximas  2 lineas son descenso de gradiente\n",
    "        paso = alpha * rosen_der(mejorx)\n",
    "        mejorx = mejorx - paso\n",
    "\n",
    "        mejory = fun(mejorx)\n",
    "        funcllam += 1\n",
    "\n",
    "        if la.norm(paso) < tol:\n",
    "            mejor= False\n",
    "        if callback is not None:\n",
    "            callback(mejorx)\n",
    "        if maxfev is not None and funcllam>= maxfev:\n",
    "            alto = True\n",
    "            break\n",
    "\n",
    "    return opt.OptimizeResult(fun=mejory, x=mejorx, nit=niter,\n",
    "                              nfev=funcllam, success=(niter > 1))"
   ]
  },
  {
   "cell_type": "code",
   "execution_count": 44,
   "metadata": {
    "collapsed": true
   },
   "outputs": [],
   "source": [
    "def reporter(p):\n",
    "    \"\"\" funcion  que captura estados intermedios de  optimizacion.\"\"\"\n",
    "    global ps\n",
    "    ps.append(p)"
   ]
  },
  {
   "cell_type": "code",
   "execution_count": 45,
   "metadata": {
    "collapsed": false
   },
   "outputs": [
    {
     "data": {
      "text/plain": [
       "    nfev: 100001\n",
       "       x: array([ 0.9999,  0.9998])\n",
       " success: True\n",
       "     nit: 100000\n",
       "     fun: 1.0604663473448339e-08"
      ]
     },
     "execution_count": 45,
     "metadata": {},
     "output_type": "execute_result"
    }
   ],
   "source": [
    "# inicializando el punto\n",
    "\n",
    "x0 = np.array([4,-4.1])\n",
    "ps = [x0]\n",
    "opt.minimize(rosen, x0, method=mdg, callback=reporter)"
   ]
  },
  {
   "cell_type": "code",
   "execution_count": 47,
   "metadata": {
    "collapsed": false
   },
   "outputs": [
    {
     "data": {
      "image/png": "[encoded data removed]",
      "text/plain": [
       "<matplotlib.figure.Figure at 0x2332f552320>"
      ]
     },
     "metadata": {},
     "output_type": "display_data"
    }
   ],
   "source": [
    "# Realizemos un gráfico del metodo de gradiente con la funcion Rosen\n",
    "\n",
    "x = np.linspace(-5, 5, 100)\n",
    "y = np.linspace(-5, 5, 100)\n",
    "X, Y = np.meshgrid(x, y)\n",
    "Z = rosen(np.vstack([X.ravel(), Y.ravel()])).reshape((100,100))\n",
    "\n",
    "ps = np.array(ps)\n",
    "plt.figure(figsize=(12,4))\n",
    "plt.subplot(121)\n",
    "plt.contour(X, Y, Z, np.arange(10)**5)\n",
    "plt.plot(ps[:, 0], ps[:, 1], '-o')\n",
    "plt.subplot(122)\n",
    "plt.semilogy(range(len(ps)), rosen(ps.T));"
   ]
  },
  {
   "cell_type": "markdown",
   "metadata": {},
   "source": [
    "## Integración \n",
    "\n",
    "En Scipy el principal propósito de la integración es obtener soluciones numéricas. Dependiendo de las propiedades\n",
    "del integrando (la función que se integra) y los límites de integración,  puede ser fácil o difícil\n",
    "numéricamente calcular una integral.\n",
    "\n",
    "Las integrales dobles e integrales de orden superior pueden ser numéricamente calculadas con repetidos  cálculos de  integración de una sola dimensión, o con el uso de métodos que son generalizaciones multidimensionales de las técnicas\n",
    "utilizado para resolver las integrales unidimensionales. \n",
    "\n",
    "Sin embargo, la complejidad computacional crece rápidamente con el número de dimensiones  y en la práctica estos métodos sólo son factibles para integrales de bajas dimensiones ,  como las integrales dobles o triples integrales. Integrales de dimensión más elevada  requieren  técnicas diferentes , como el algoritmo de Monte Carlo.\n",
    "\n",
    "Calculemos como ejemplo: $$ \\int_{0}^3 \\cos^2(e^x) \\ dx$$"
   ]
  },
  {
   "cell_type": "code",
   "execution_count": 2,
   "metadata": {
    "collapsed": false
   },
   "outputs": [
    {
     "name": "stdout",
     "output_type": "stream",
     "text": [
      "(1.296467785724373, 1.397797133112089e-09)\n"
     ]
    }
   ],
   "source": [
    "import numpy as np \n",
    "from scipy.integrate import quad\n",
    "\n",
    "# Defininamos la funcion a integrar\n",
    "\n",
    "func = lambda x: np.cos(np.exp(x))**2\n",
    "\n",
    "# Integrar la función con los limites 0 y 3 respectivamente\n",
    "\n",
    "solucion = quad(func, 0,3)\n",
    "print(solucion)"
   ]
  },
  {
   "cell_type": "markdown",
   "metadata": {},
   "source": [
    "El primer elemento es el valor deseado y el segundo es el error  en el ejemplo anterior.  Hagamos un dibujo de este ejemplo:"
   ]
  },
  {
   "cell_type": "code",
   "execution_count": 4,
   "metadata": {
    "collapsed": false
   },
   "outputs": [
    {
     "data": {
      "image/png": "[encoded data removed]",
      "text/plain": [
       "<matplotlib.figure.Figure at 0x202b9be83c8>"
      ]
     },
     "metadata": {},
     "output_type": "display_data"
    }
   ],
   "source": [
    "# La integral definida (azul) de una función\n",
    "\n",
    "fig = plt.figure(figsize=(8, 4))\n",
    "ax = fig.add_subplot(111)\n",
    "x1 = np.linspace(-1, 4, 10000)\n",
    "x2 = np.linspace(0, 3, 10000)\n",
    "ax.plot(x1, func(x1), label='Funcion')\n",
    "ax.fill_between(x2, 0, func(x2), alpha=0.2)\n",
    "ax.set_xlim(-1, 4)\n",
    "ax.set_ylim(0, 1.05)\n",
    "\n",
    "plt.show()"
   ]
  },
  {
   "cell_type": "markdown",
   "metadata": {},
   "source": [
    "Ejercicio: Calcula lo siguiente $$\\int_{0}^{1}\\sin(x^2)\\ dx$$"
   ]
  },
  {
   "cell_type": "markdown",
   "metadata": {},
   "source": [
    "###  Integración numérica\n",
    "\n",
    "Tenemos aquí un problema donde tenemos datos en lugar de alguna ecuación y la integración númerica es necesaria."
   ]
  },
  {
   "cell_type": "code",
   "execution_count": 6,
   "metadata": {
    "collapsed": false
   },
   "outputs": [
    {
     "name": "stdout",
     "output_type": "stream",
     "text": [
      "fsolucion = 5.100345067540932\n",
      "dsolucion = 5.08056629063\n",
      " La diferencia entre estos dos metodos es 0.019778776906\n"
     ]
    }
   ],
   "source": [
    "import numpy as np\n",
    "from scipy.integrate import quad, trapz\n",
    "\n",
    "# Colocando los datos simulados (fake dates )\n",
    "\n",
    "x = np.sort(np.random.randn(150)*4 + 4).clip(0,5)\n",
    "func = lambda x: np.sin(x) *np.cos(x ** 2) + 1 \n",
    "y = func(x)\n",
    "\n",
    "# Itegrando desde los limites : 0 y 5\n",
    "fsolucion = quad(func, 0, 5)\n",
    "dsolucion = trapz(y, x =x)\n",
    "\n",
    "print(\"fsolucion = \" + str(fsolucion[0]))\n",
    "print(\"dsolucion = \" +  str(dsolucion))\n",
    "\n",
    "print(\" La diferencia entre estos dos metodos es \" \\\n",
    "      +  str(np.abs(fsolucion[0] -dsolucion)))"
   ]
  },
  {
   "cell_type": "markdown",
   "metadata": {},
   "source": [
    "Realicemos un gráfico de este ejemplo:"
   ]
  },
  {
   "cell_type": "code",
   "execution_count": 8,
   "metadata": {
    "collapsed": false
   },
   "outputs": [
    {
     "data": {
      "image/png": "[encoded data removed]",
      "text/plain": [
       "<matplotlib.figure.Figure at 0x202bb5a6668>"
      ]
     },
     "metadata": {},
     "output_type": "display_data"
    }
   ],
   "source": [
    "# integral definida de una funcion. La funcion original\n",
    "# y los puntos de datos\n",
    "\n",
    "fig = plt.figure(figsize=(8, 4))\n",
    "ax = fig.add_subplot(111)\n",
    "x1 = np.linspace(-1, 6, 10000)\n",
    "x2 = np.linspace(0, 5, 10000)\n",
    "\n",
    "ax.plot(x1, func(x1), label='Funcion')\n",
    "ax.fill_between(x2, 0, func(x2), alpha=0.2)\n",
    "ax.scatter(x, y, marker='o', edgecolor='none', facecolor='red',\n",
    "           s=7, zorder=3, label='Puntos de datos')\n",
    "ax.legend(loc='upper left')\n",
    "ax.set_xlim(-1, 6)\n",
    "ax.set_ylim(0, 2.5)\n",
    "plt.show()"
   ]
  },
  {
   "cell_type": "markdown",
   "metadata": {},
   "source": [
    "### Integración  de MonteCarlo\n",
    "\n",
    "Supongamos que queremos encontrar los valores de $\\int_{a}^{b}f(x)dx$ en alguna región con volumen V. La integración de Montecarlo estima esta integral, calculando la fracción de puntos que caen por debajo de $f(x)$ multiplicado por V. \n",
    "\n",
    "En el contexto estadístico, la integración de Montecarlo, se utiliza para la estimación de la esperanza: Sea $g:\\mathbb{R} \\rightarrow \\mathbb{R}$, por definición la esperanza es:\n",
    "\n",
    "$$\n",
    "E_f(g(X)) = \\int_{X}g(x)f_{X}(x)dx\n",
    "$$\n",
    "\n",
    "con \n",
    "$$\n",
    "\\bar{g_n} = \\frac{1}{n}\\sum_{i = 1}^{n}g(x_i),\n",
    "$$\n",
    "\n",
    "donde  $x_i \\sim f$ de la función densidad $f$.\n",
    "\n",
    "Podemos estimar la varianza de Montecarlo, de la aproximación como:\n",
    "\n",
    "$$\n",
    "v_n = \\frac{1}{n^2}\\sum_{i =1}^{n}[h(x_i) - \\bar{g_n}]^2.\n",
    "$$\n",
    "\n",
    "De manera más compacta, debido al [teorema del Límite Central](https://terrytao.wordpress.com/2008/06/18/the-strong-law-of-large-numbers/), para $n$ muy grande\n",
    "\n",
    "$$\n",
    "\\frac{\\bar{g_n} - E_{f}(g(X))}{\\sqrt{v_n}}\n",
    "$$\n",
    "\n",
    "\n",
    "es aproximadamente distribuida como un variables $N(0,1)$y esto conduce a la construcción de un test de convergencia y límites de confianza sobre la aproximación $E_{f}(g(X))$. La convergencia de la integración de Monte Carlo es $O(n^{1/2})$ y es  independiente de la dimensión. De ahí que la integración Monte Carlo resulta útil para la integración de moderada y alta dimensión desde la integración numérica  converge a $O(n^d)$.\n",
    "\n",
    "Incluso para los problemas de baja dimensión, la integración de Monte Carlo puede tener una ventaja cuando el volumen a ser integrado está concentrado en una región muy pequeña y podemos utilizar la información de la distribución para extraer muestras con mayor frecuencia en la región de importancia.\n",
    "\n",
    "\n"
   ]
  },
  {
   "cell_type": "markdown",
   "metadata": {},
   "source": [
    "Veamos un ejemplo: La distribución de Cauchy es dado por \n",
    "    \n",
    "$$\n",
    "f(x) =\\dfrac{1}{\\pi(1 + x^2)},\\ \\    -\\infty < x  < \\infty \n",
    "$$\n",
    "\n",
    "y supongamos que queremos calcular $P(X>4)$ usando Monte Carlo, es decir queremos estimar la cantidad:\n",
    "\n",
    "$$\n",
    "\\int_{4}^{\\infty}\\dfrac{1}{\\pi(1 + x^2)}dx\n",
    "$$\n",
    "\n",
    "usando a sustitución $y = 4/x$ se tiene \n",
    "\n",
    "$$\n",
    "\\int_{0}^{1}\\dfrac{4}{\\pi(16 + y^2)}dy\n",
    "$$\n",
    "\n",
    "Así que en estimador MC es \n",
    "\n",
    "$$\n",
    "\\dfrac{1}{n}\\sum_{i=1}^{n}\\dfrac{4}{\\pi(16 + y_{i}^2)}\n",
    "$$\n",
    "\n",
    "donde $y_i \\sim Uniform(0,1)$."
   ]
  },
  {
   "cell_type": "code",
   "execution_count": 10,
   "metadata": {
    "collapsed": false
   },
   "outputs": [
    {
     "data": {
      "text/plain": [
       "0.0780"
      ]
     },
     "execution_count": 10,
     "metadata": {},
     "output_type": "execute_result"
    }
   ],
   "source": [
    "import scipy.stats as stats\n",
    "\n",
    "h_1 = 1 - stats.cauchy().cdf(4)\n",
    "h_1\n"
   ]
  },
  {
   "cell_type": "code",
   "execution_count": 12,
   "metadata": {
    "collapsed": false
   },
   "outputs": [
    {
     "data": {
      "text/plain": [
       "(0.0781, 0.0000)"
      ]
     },
     "execution_count": 12,
     "metadata": {},
     "output_type": "execute_result"
    }
   ],
   "source": [
    "# veamos el estimador MC\n",
    "\n",
    "n = 100\n",
    "y = stats.uniform().rvs(n)\n",
    "h_2 = 1.0/n * np.sum(4.0/(np.pi * (16 + y**2)))\n",
    "h_2, np.abs(h_2 - h_2)/h_1"
   ]
  },
  {
   "cell_type": "markdown",
   "metadata": {},
   "source": [
    "## Scipy para data mining (mineria de datos)\n",
    "\n",
    "Módulos a usar:\n",
    "\n",
    "- `scipy.stats`: módulo de herramientas estadísticas\n",
    "- `scipy.ndimage.measurements`: módulo  de análisis y organización  de datos.\n",
    "- `scipy.spatial`.\n",
    "- `scipy.cluster`\n",
    "\n",
    "El paquete `scipy.cluster` consiste de dos módulos: `scipy.cluster.vq` y `scipy.cluster.hierarchy`."
   ]
  },
  {
   "cell_type": "markdown",
   "metadata": {
    "collapsed": true
   },
   "source": [
    "## Cuantización de Vector (VQ)\n",
    "\n",
    "Es un término que está asociado con el procesamiento de señales compresión de datos y clustering. En este ejemplo nos vamos a centrar en la cuantización de vector como  componente clustering empezando con llenar de datos al paquete VQ de manera de identificar los cluster:"
   ]
  },
  {
   "cell_type": "code",
   "execution_count": 13,
   "metadata": {
    "collapsed": true
   },
   "outputs": [],
   "source": [
    "import numpy as np\n",
    "from scipy.cluster import vq\n",
    "\n",
    "# Creando datos\n",
    "\n",
    "c1 = np.random.randn(100, 2) + 5\n",
    "c2 = np.random.randn(30, 2) - 5\n",
    "c3 = np.random.randn(50,2)\n",
    "\n",
    "# Creando una matriz para juntar datos (array de 180x2)\n",
    "\n",
    "data = np.vstack([c1, c2, c3])\n",
    "\n",
    "# Calculando el centroide del cluster  y la varianza desde k-means\n",
    "\n",
    "centroide, varianza = vq.kmeans(data, 3)\n",
    "\n",
    "# Separando los puntos en el cluster basados en la funcion vq\n",
    "\n",
    "identi, distancia = vq.vq(data, centroide)\n",
    "\n",
    "# Recuperando las coordenadas para los puntos en cada vq\n",
    "\n",
    "vqc1 = data[identi == 0]\n",
    "vqc2 =data[identi == 1]\n",
    "vqc3 = data[identi == 2]"
   ]
  },
  {
   "cell_type": "code",
   "execution_count": 14,
   "metadata": {
    "collapsed": false
   },
   "outputs": [
    {
     "data": {
      "text/plain": [
       "array([[-0.0363, -0.1992],\n",
       "       [ 4.9749,  4.7997],\n",
       "       [-4.9574, -4.8543]])"
      ]
     },
     "execution_count": 14,
     "metadata": {},
     "output_type": "execute_result"
    }
   ],
   "source": [
    "centroide"
   ]
  },
  {
   "cell_type": "code",
   "execution_count": 15,
   "metadata": {
    "collapsed": false
   },
   "outputs": [
    {
     "data": {
      "text/plain": [
       "1.2513"
      ]
     },
     "execution_count": 15,
     "metadata": {},
     "output_type": "execute_result"
    }
   ],
   "source": [
    "varianza"
   ]
  },
  {
   "cell_type": "code",
   "execution_count": 16,
   "metadata": {
    "collapsed": false
   },
   "outputs": [
    {
     "data": {
      "text/plain": [
       "array([[ 0.6902, -0.6452],\n",
       "       [ 0.4401,  0.0401],\n",
       "       [-0.5267,  1.6704],\n",
       "       [ 1.178 , -0.9988],\n",
       "       [-0.8563, -0.9288],\n",
       "       [ 0.1998, -1.3247],\n",
       "       [ 0.2594, -0.5114],\n",
       "       [ 0.8053, -1.4381],\n",
       "       [-0.7879,  0.0444],\n",
       "       [ 0.1271, -0.9145],\n",
       "       [-0.4674,  1.6759],\n",
       "       [-1.581 , -0.5992],\n",
       "       [-0.9656, -0.2795],\n",
       "       [ 1.2432,  1.0316],\n",
       "       [ 0.2601,  0.7441],\n",
       "       [ 0.3091, -1.2185],\n",
       "       [-0.6914, -1.4904],\n",
       "       [ 0.8837,  0.307 ],\n",
       "       [-0.9436, -0.4515],\n",
       "       [ 0.2721,  0.0401],\n",
       "       [ 0.1129, -1.0193],\n",
       "       [ 0.6733,  0.0729],\n",
       "       [ 0.9283,  0.6242],\n",
       "       [ 0.2229, -1.7648],\n",
       "       [-0.877 , -0.2734],\n",
       "       [-0.5578, -1.05  ],\n",
       "       [ 1.3737,  1.4275],\n",
       "       [ 1.5406,  0.7539],\n",
       "       [ 0.7744, -0.6073],\n",
       "       [-0.4042,  2.2918],\n",
       "       [ 0.0436,  1.3349],\n",
       "       [-1.5888, -1.3835],\n",
       "       [-1.2164, -0.0217],\n",
       "       [ 1.2454, -0.7671],\n",
       "       [-0.2446, -1.0879],\n",
       "       [-0.3946, -0.9339],\n",
       "       [ 1.0283,  0.6417],\n",
       "       [ 0.1261, -2.9488],\n",
       "       [-1.8681, -1.1642],\n",
       "       [-0.1766,  1.2049],\n",
       "       [-0.5245, -0.0037],\n",
       "       [-0.18  , -0.1851],\n",
       "       [-0.3718,  2.1865],\n",
       "       [ 0.2649,  0.0192],\n",
       "       [ 0.4274, -0.61  ],\n",
       "       [-1.4311, -0.9452],\n",
       "       [-0.6834,  0.6814],\n",
       "       [-0.9849,  0.1363],\n",
       "       [ 0.3459, -0.0737],\n",
       "       [ 0.7346, -1.2502]])"
      ]
     },
     "execution_count": 16,
     "metadata": {},
     "output_type": "execute_result"
    }
   ],
   "source": [
    "vqc1"
   ]
  },
  {
   "cell_type": "markdown",
   "metadata": {},
   "source": [
    "## Jerarquía de clusters\n",
    "\n",
    "Clustering es una técnica de data minning, cuyo proceso consiste en la división de datos en grupos de objetos similares. Cuando se representan la información obtenida a través de clusters se pierden algunos detalles de los datos, pero a la vez se simplifica dicha información.\n",
    "\n",
    "Las técnicas de Clustering son las que utilizando algoritmos matemáticos se encargan de agrupar objetos. Usando la información que brindan las variables que pertenecen a cada objeto se mide la similitud entre los mismos, y una vez hecho esto se colocan en clases que son muy similares internamente (entre los miembros de la misma clase) y a la vez diferente entre los miembros de las diferentes clases. \n",
    "\n",
    "Un algoritmo importante se llama k-means:\n",
    "\n",
    "Este algoritmo debe definir el número de clusters que se desean obtener, así se convierte en un algoritmo voraz para particionar. Este algoritmo funciona de la siguiente manera: primeramente se determina la cantidad de clusters en los que se quiere agrupar la información, en este caso las simulaciones. Luego se asume de forma aleatoria los centros por cada clusters. Una vez encontrados los primeros centroides el algoritmo hará los tres pasos siguientes:\n",
    "\n",
    "1 . Determina las coordenadas del centroide.\n",
    "\n",
    "2 . Determina la distancia de cada objeto a los centroides.\n",
    "\n",
    "3 .Agrupa los objetos basados en la menor distancia.\n",
    "\n",
    "\n",
    "\n",
    "Es una herramienta para identificar estructuras que están anidadas dentro de otras grandes estructuras. Hagamos un ejemplo para generar un sistema múltiple de cluster. Para emplear la función (hierarchy) que permite esto, hay que construir la MATRIZ DISTANCIA. "
   ]
  },
  {
   "cell_type": "code",
   "execution_count": 17,
   "metadata": {
    "collapsed": false
   },
   "outputs": [
    {
     "data": {
      "image/png": "[encoded data removed]",
      "text/plain": [
       "<matplotlib.figure.Figure at 0x202bb704390>"
      ]
     },
     "metadata": {},
     "output_type": "display_data"
    }
   ],
   "source": [
    "import numpy as np\n",
    "import matplotlib.pyplot as mpl\n",
    "#from mpl_toolkits.mplot3d import Axes3D\n",
    "from scipy.spatial.distance import pdist, squareform\n",
    "import scipy.cluster.hierarchy as hy\n",
    "\n",
    "# Creando un cluster de una funcion clusters\n",
    "\n",
    "def clusters(numbers = 20, cnumber = 5, csize  = 10):\n",
    "    \n",
    "    rnum  =np.random.rand(cnumber, 2)\n",
    "    rn =rnum[:, 0] * numbers\n",
    "    rn = rn.astype(int)\n",
    "    rn[np.where(rn < 5)] = 5\n",
    "    rn[np.where(rn > numbers/2.0)] = round(numbers/2., 0)\n",
    "    ra = rnum[:, 1] * 2.9\n",
    "    ra[np.where(ra < 1.5)]  =1.5\n",
    "    \n",
    "    cls = np.random.rand(numbers, 3) * csize\n",
    "    \n",
    "# Multiplicadores aleatorios para puntos centrales del cluster\n",
    "\n",
    "    rxyz = np.random.rand(cnumber - 1, 3)\n",
    "    for i in range(cnumber - 1):\n",
    "        tmp = np.random.rand(rn[i +1], 3)\n",
    "    \n",
    "        x = tmp[:, 0] + (rxyz[i, 0] * csize)\n",
    "        y = tmp[:, 1] + (rxyz[i, 1] * csize)\n",
    "        z = tmp[:, 2] + (rxyz[i, 2] * csize)\n",
    "    \n",
    "        tmp = np.column_stack([x ,y, z])\n",
    "        cls = np.vstack([cls, tmp])\n",
    "\n",
    "    return cls\n",
    "\n",
    "# Generamos un cluster de cluster y la matriz distancia\n",
    "\n",
    "cls = clusters()\n",
    "D = pdist(cls [:, 0:2])\n",
    "D = squareform(D)\n",
    "# Calculamos y dibujamos nuestro primer dendrograma\n",
    "    \n",
    "fig = mpl.figure(figsize=(8,8))\n",
    "ax1 = fig.add_axes([0.09, 0.1, 0.2, 0.6])\n",
    "Y1 = hy.linkage(D, method = 'complete')\n",
    "cutoff = 0.3 *np.max(Y1[:,2])\n",
    "Z1 = hy.dendrogram(Y1,  orientation = 'right', color_threshold =cutoff)\n",
    "ax1.xaxis.set_visible(False)\n",
    "ax1.yaxis.set_visible(False)\n",
    "\n",
    "# Calculemos y dibujemos el segundo dendrograma\n",
    "ax2 = fig.add_axes([0.3, 0.71, 0.6, 0.2])\n",
    "Y2 = hy.linkage(D, method = 'average')\n",
    "cutoff = 0.3 *np.max(Y2[:,2])\n",
    "Z2 = hy.dendrogram(Y2,  color_threshold =cutoff)\n",
    "ax2.xaxis.set_visible(False)\n",
    "ax2.yaxis.set_visible(False)\n",
    "\n",
    "    \n",
    "# Graficando la matriz distancia\n",
    "\n",
    "ax3 = fig.add_axes([0.3, 0.1, 0.6, 0.6])\n",
    "idx1 = Z1['leaves']\n",
    "idx2 = Z2['leaves']\n",
    "D = D[idx1,:]\n",
    "D = D[:, idx2]\n",
    "ax3.matshow(D, aspect = 'auto', origin = 'lower', cmap = mpl.cm.YlGnBu)\n",
    "ax3.xaxis.set_visible(False)\n",
    "ax3.yaxis.set_visible(False)\n",
    "    \n",
    "# Colores\n",
    "\n",
    "fig.savefig('clusterq.pdf', bbox ='tight')\n"
   ]
  },
  {
   "cell_type": "markdown",
   "metadata": {},
   "source": []
  },
  {
   "cell_type": "code",
   "execution_count": null,
   "metadata": {
    "collapsed": false
   },
   "outputs": [],
   "source": []
  },
  {
   "cell_type": "markdown",
   "metadata": {},
   "source": [
    "## Matrices Sparse \n",
    "\n",
    "¿ Qué pasaría si queremos manejar matrices de $10^{10}$ elementos?.\n",
    "\n",
    "Si la matriz tiene muchos ceros, entonces es posible manejar de manera eficiente este tipo de matriz, que es llamada Sparse."
   ]
  },
  {
   "cell_type": "code",
   "execution_count": 18,
   "metadata": {
    "collapsed": false
   },
   "outputs": [
    {
     "name": "stdout",
     "output_type": "stream",
     "text": [
      "El array de NUmpy tiene720000 bytes\n",
      "El matriz sparse tiene7200 bytes\n",
      "La operaciones no-sparse toman0.652segundos \n",
      "La operaciones sparse toman0.242segundos \n"
     ]
    }
   ],
   "source": [
    "import numpy as np\n",
    "from  scipy.sparse.linalg import eigsh\n",
    "from  scipy.linalg import eigh\n",
    "import scipy.sparse\n",
    "import time\n",
    "\n",
    "N = 300\n",
    "#  Creamos una matriz aleatoria de tipos sparse\n",
    "\n",
    "m = scipy.sparse.rand(N,N)\n",
    "                     \n",
    "a = m.toarray() # clon de Numpy para m\n",
    "                      \n",
    "print(\"El array de NUmpy tiene\"  + str(a.nbytes) + ' bytes')\n",
    "print(\"El matriz sparse tiene\"  + str(m.data.nbytes) + ' bytes')\n",
    "\n",
    "# No-sparse\n",
    "\n",
    "t0 = time.time()\n",
    "res1 = eigh(a)\n",
    "dt = str(np.round(time.time() -t0, 3)) + 'segundos '\n",
    "print(\"La operaciones no-sparse toman\" + dt)\n",
    "\n",
    "# sparse\n",
    "\n",
    "t0 = time.time()\n",
    "res1 = eigsh(m)\n",
    "dt = str(np.round(time.time() -t0, 3)) + 'segundos '\n",
    "print(\"La operaciones sparse toman\" + dt)"
   ]
  },
  {
   "cell_type": "markdown",
   "metadata": {
    "collapsed": true
   },
   "source": [
    "##  Estadística \n",
    "\n",
    "Numpy tiene  las funciones básicas de la estadística `mean`, `std`, `median`, `argmin` y `argmax ` , sin embargo  `numpy.arrays` tiene métodos construidos para las más importantes aplicaciones."
   ]
  },
  {
   "cell_type": "code",
   "execution_count": 19,
   "metadata": {
    "collapsed": true
   },
   "outputs": [],
   "source": [
    "# Ejemplo de estadística\n",
    "\n",
    "import numpy as np\n",
    "\n",
    "# Construyamos un array aleatorio con 1000 elementos\n",
    "\n",
    "x = np.random.rand(10000)\n",
    "\n",
    "# Calcular varios métodos estadísticos que Numpy tiene\n",
    "\n",
    "mean = x.mean()\n",
    "std = x.std()\n",
    "var = x.var()"
   ]
  },
  {
   "cell_type": "code",
   "execution_count": 20,
   "metadata": {
    "collapsed": false
   },
   "outputs": [
    {
     "data": {
      "text/plain": [
       "0.5021"
      ]
     },
     "execution_count": 20,
     "metadata": {},
     "output_type": "execute_result"
    }
   ],
   "source": [
    "mean"
   ]
  },
  {
   "cell_type": "code",
   "execution_count": 3,
   "metadata": {
    "collapsed": false
   },
   "outputs": [
    {
     "data": {
      "text/plain": [
       "0.2854488682881513"
      ]
     },
     "execution_count": 3,
     "metadata": {},
     "output_type": "execute_result"
    }
   ],
   "source": [
    "std"
   ]
  },
  {
   "cell_type": "code",
   "execution_count": 4,
   "metadata": {
    "collapsed": false
   },
   "outputs": [
    {
     "data": {
      "text/plain": [
       "0.081481056406986357"
      ]
     },
     "execution_count": 4,
     "metadata": {},
     "output_type": "execute_result"
    }
   ],
   "source": [
    "var"
   ]
  },
  {
   "cell_type": "markdown",
   "metadata": {},
   "source": [
    "Scipy contiene en el módulo [scipy.stats](http://docs.scipy.org/doc/scipy/reference/stats.html) una extensa colección de herramientas para la estadistica y las probabilidades. como es el caso de las distribuciones continuas, discretas y multivariadas. \n",
    "\n",
    "Cuando llamamos a distribución desde `scipy.stats`, podemos extraer información de varias maneras: PDF, CDF, RVS. \n",
    "\n",
    "$$\n",
    "PDF = e^{(-x^2/2)/\\sqrt{2\\pi}}\n",
    "$$"
   ]
  },
  {
   "cell_type": "code",
   "execution_count": 7,
   "metadata": {
    "collapsed": false
   },
   "outputs": [],
   "source": [
    "# Ejemplo de probabilidades: PDF de la RV normal\n",
    "\n",
    "import numpy as np\n",
    "from scipy.stats import norm\n",
    "\n",
    "# Rango de la muestra a tomar\n",
    "\n",
    "x = np.linspace(-5, 5, 100000)\n",
    "\n",
    "# Colocando los parametros para la distribucion normal\n",
    "\n",
    "dist = norm( loc = 0, scale = 1)\n",
    "\n",
    "# Recuperando PDF y CDF de la distribucion normal\n",
    "\n",
    "pdf = dist.pdf(x)\n",
    "cdf = dist.cdf(x)\n",
    "\n",
    "# Recupperando RVS ( Muestreo de la variable aleatoria)\n",
    "muestreo = dist.rvs(500) "
   ]
  },
  {
   "cell_type": "code",
   "execution_count": 8,
   "metadata": {
    "collapsed": false
   },
   "outputs": [
    {
     "data": {
      "text/plain": [
       "array([  1.48671951e-06,   1.48746306e-06,   1.48820696e-06, ...,\n",
       "         1.48820696e-06,   1.48746306e-06,   1.48671951e-06])"
      ]
     },
     "execution_count": 8,
     "metadata": {},
     "output_type": "execute_result"
    }
   ],
   "source": [
    "pdf"
   ]
  },
  {
   "cell_type": "code",
   "execution_count": 9,
   "metadata": {
    "collapsed": false
   },
   "outputs": [
    {
     "data": {
      "text/plain": [
       "array([  2.86651572e-07,   2.86800282e-07,   2.86949067e-07, ...,\n",
       "         9.99999713e-01,   9.99999713e-01,   9.99999713e-01])"
      ]
     },
     "execution_count": 9,
     "metadata": {},
     "output_type": "execute_result"
    }
   ],
   "source": [
    "cdf"
   ]
  },
  {
   "cell_type": "markdown",
   "metadata": {},
   "source": [
    " Ejercicio: Hallar mediante `scipy.stats` el PMF, CDF y RVS de la distribución geométrica, cuyo PMF es\n",
    " \n",
    " $$\n",
    " PMF = (1 -p)^{k -1}p\n",
    " $$"
   ]
  },
  {
   "cell_type": "code",
   "execution_count": 16,
   "metadata": {
    "collapsed": false
   },
   "outputs": [],
   "source": [
    "import numpy as np\n",
    "from scipy.stats import geom\n",
    "\n",
    "# Parametros de la distribucion geometrica\n",
    "\n",
    "p = 0.5\n",
    "dist = geom(p)\n",
    "\n",
    "# rango de valores \n",
    "x = np.linspace(0, 5, 1000)\n",
    "\n",
    "# Recuperando PDF y CDF de la distribucion normal\n",
    "pmf = dist.pmf(x)\n",
    "cdf = dist.cdf(x)\n",
    "\n",
    "# Recupperando RVS ( Muestreo de la variable aleatoria)\n",
    "muestreo = dist.rvs(500) "
   ]
  },
  {
   "cell_type": "code",
   "execution_count": 20,
   "metadata": {
    "collapsed": false
   },
   "outputs": [
    {
     "data": {
      "text/plain": [
       "array([ 1,  2,  1,  1,  3,  2,  1,  1,  3,  2,  1,  4,  1,  4,  1,  4,  1,\n",
       "        2,  1,  1,  1,  1,  2,  1,  1,  2,  2,  1,  2,  2,  2,  1,  1,  1,\n",
       "        1,  7,  4,  2,  1,  3,  1,  1,  6,  3,  3,  1,  5,  6,  1,  2,  2,\n",
       "        1,  1,  1,  1,  3,  1,  3,  1,  1,  3,  1,  1,  3,  2,  2,  1,  1,\n",
       "        1,  1,  1,  1,  2,  2,  1,  1,  1,  1,  2,  1,  1,  1,  1,  1,  1,\n",
       "        1,  5,  3,  1,  1,  1,  1,  4,  2,  1,  2,  1,  1,  1,  1,  3,  1,\n",
       "        3,  3,  8,  2,  2,  7,  1,  2,  2,  1,  3,  4,  1,  3,  4,  1,  3,\n",
       "        2,  2,  2,  1,  1,  2,  1,  3,  1,  1,  4,  1,  8,  3,  1,  1,  2,\n",
       "        5,  2,  2,  3,  3,  3,  4,  1,  1,  1,  2,  1,  2,  1,  1,  1,  1,\n",
       "        3,  1,  1,  3,  1,  1,  2,  1,  1,  1,  1,  1,  1,  1,  1,  1,  3,\n",
       "        2,  1,  1,  3,  1,  1,  2,  2,  3,  2,  2,  2,  1,  3,  1,  1,  2,\n",
       "        2,  1,  1,  4,  2,  7,  5,  2,  1,  1,  3,  1,  1,  2,  1,  2,  4,\n",
       "        2,  2,  5,  2,  1,  1,  3,  2,  1,  1,  3,  2,  1,  1,  2,  2,  1,\n",
       "        5,  1,  2,  2,  1,  5,  2,  1,  3,  1,  1,  2,  2,  2,  1,  5,  1,\n",
       "        3,  3,  1,  1, 14,  1,  3,  1,  1,  1,  1,  1,  1,  1,  1,  2,  1,\n",
       "        1,  1,  4,  1,  5,  1,  1,  1,  2,  2,  1,  2,  1,  5,  4,  1,  1,\n",
       "        1,  2,  3,  4,  2,  1,  8,  2,  4,  2,  2,  2,  1,  1,  2,  1,  1,\n",
       "        1,  1,  3,  1,  1,  4,  1,  2,  2,  2,  4,  1,  1,  2,  1,  2,  1,\n",
       "        1,  1,  4,  1,  1,  1,  1,  5,  1,  1,  5,  1,  1,  4,  1,  7,  1,\n",
       "        1,  1,  3,  1,  1,  1,  1,  3,  2,  3,  6,  3,  1,  3,  1,  2,  1,\n",
       "        2,  1,  2,  1,  1,  2,  1,  2,  1,  1,  2,  2,  1,  1,  1,  3,  5,\n",
       "        2,  1,  1,  1,  3,  1,  2,  1,  1,  1,  4,  1,  1,  1,  7,  4,  1,\n",
       "        1,  3,  1,  3,  2,  2,  1,  1,  1,  3,  1,  3,  4,  3,  3,  2,  2,\n",
       "        1,  1,  1,  1,  2,  1,  1,  2,  2,  1,  1,  1,  1,  1,  5,  1,  1,\n",
       "        1,  3,  4,  1,  1,  1,  1,  2,  3,  2,  4,  1,  4,  1,  2,  1,  2,\n",
       "        1,  3,  3,  2,  7,  1,  2,  2,  1,  5,  1,  3,  1,  4,  1,  1,  2,\n",
       "        1,  2,  1,  2,  1,  1,  2,  1,  2,  2,  2,  2,  1,  2,  1,  1,  1,\n",
       "        1,  1,  1,  1,  2,  2,  2,  1,  1,  1,  1,  1,  2,  1,  1,  2,  1,\n",
       "        1,  2,  1,  5,  1,  4,  2,  1,  1,  4,  1,  1,  1,  1,  3,  1,  3,\n",
       "        4,  1,  2,  1,  1,  1,  2])"
      ]
     },
     "execution_count": 20,
     "metadata": {},
     "output_type": "execute_result"
    }
   ],
   "source": [
    "muestreo"
   ]
  },
  {
   "cell_type": "code",
   "execution_count": null,
   "metadata": {
    "collapsed": true
   },
   "outputs": [],
   "source": []
  }
 ],
 "metadata": {
  "kernelspec": {
   "display_name": "Python 3",
   "language": "python",
   "name": "python3"
  },
  "language_info": {
   "codemirror_mode": {
    "name": "ipython",
    "version": 3
   },
   "file_extension": ".py",
   "mimetype": "text/x-python",
   "name": "python",
   "nbconvert_exporter": "python",
   "pygments_lexer": "ipython3",
   "version": "3.5.1"
  }
 },
 "nbformat": 4,
 "nbformat_minor": 0
}
