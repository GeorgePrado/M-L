{
 "cells": [
  {
   "cell_type": "code",
   "execution_count": 28,
   "metadata": {
    "collapsed": true
   },
   "outputs": [],
   "source": [
    "import matplotlib.pyplot as plt\n",
    "import scipy \n",
    "import numpy as np\n",
    "import pandas as pd\n",
    "from scipy import linalg\n",
    "import scipy.linalg as la\n",
    "np.set_printoptions(suppress=True)\n",
    "%matplotlib inline\n",
    "plt.style.use('ggplot')"
   ]
  },
  {
   "cell_type": "markdown",
   "metadata": {},
   "source": [
    "#  Notas de Algebra Lineal\n",
    "\n",
    "Referencias:\n",
    "\n",
    "1 .  [Coding the Matrix: Linear Algebra through Applications to Computer Science](http://codingthematrix.com/), Philip N. Klein, 2013.\n",
    "\n",
    "2 . [Linear Algebra Done Right](http://linear.axler.net/), Sheldon Axler, 2015.\n",
    "\n",
    "3 . [Numerical Algorithms](http://people.csail.mit.edu/jsolomon/share/book/numerical_book.pdf), Justin Solomon 2015.\n"
   ]
  },
  {
   "cell_type": "markdown",
   "metadata": {
    "collapsed": true
   },
   "source": [
    "## Sistemas lineales\n",
    "\n",
    "Consideremos un conjunto de $m$ ecuaciones lineales y $n$ incógnitas. Reescribamos el conjunto como el sistema:\n",
    "\n",
    "$$Ax=b$$\n",
    "\n",
    "es decir un  problema de una ecuación matricial.  Resolver el sistema cuenta con calcular $A^{-1}$.\n",
    "\n",
    "La información de las propiedades de $A$ produce importante información acerca del sistema lineal.\n",
    "\n",
    "\n",
    "* Cuando $m < n$ el sistema que el sistema es subdeterminado. El sistema no tiene soluciones (si el sistema es inconsistente) o tiene infinitas soluciones. Una única solución no es posible.\n",
    "\n",
    "* Cuando $m > n$ se dice que el sistema es sobredeterminado. El sistema puede ser inconsistente o algunas soluciones pueden ser redundantes."
   ]
  },
  {
   "cell_type": "markdown",
   "metadata": {},
   "source": [
    "## Independencia lineal\n",
    "\n",
    "Una colección de vectores $v_1 \\dots v_n$ se dice linealmente independiente si\n",
    "\n",
    "$$c_1v_1 + \\dots c_nv_n  \\iff c_1 = \\cdots c_n = 0$$\n",
    "\n",
    "En otras palabras, una combinación de los vectores que resulta en un vector cero es trivial. Una interpretación de esta definición es que ningún vector puede ser expresado  por la combinación lineal de los otros vectores, en este sentido, la independencia lineal es una expresión de no redundancia en un conjunto de vectores.\n",
    "\n",
    "Un conjunto de $n$ vectores linealmente independientes genera un espacio n-dimensional, es decir el conjunto de todas las posibles combinaciones es $R^n$. Tal conjunto de vectores se dice que es una base  de  $R^n$.\n",
    "\n",
    "Algunos resultados importantes:\n",
    "\n",
    "* Si $A$ es una matriz de orden $m \\times n$ y $m >n $, si toda fila es linealmente independiente, entonces el sistema es sobredeterminado y inconsistente. El sistema no puede resolverse exactamente. Este es un usual caso en ciencia de datos y por que los mínimos cuadrados son muy importantes.\n",
    "* Si $A$ es una matriz de orden $m \\times n$ y $m < n $, si toda fila es linealmente independiente, entonces el sistema es subdeterminado y tiene infinitas soluciones.\n",
    "* Si $A$ es una matriz de orden $m \\times n$  y algunas de sus filas son linealmente dependientes, entonces el sistema es reducible.\n",
    "* Si $A$ es una matriz cuadrada y las filas son linealmente independientes, el sistema tiene solución única.  $A$ es invertible."
   ]
  },
  {
   "cell_type": "markdown",
   "metadata": {},
   "source": [
    "## Norma y distancia de vectores\n",
    "\n",
    "La norma de un vector $v$ es denotada por $\\Vert v \\Vert$ es simplemente su longitud. Para vectores con componentes $v = (v_1 \\dots v_n)$ la norma de $v$ es dada por:\n",
    "\n",
    "$$v = \\sqrt{v_1^2 + \\dots v_n^2}$$\n",
    "\n",
    "\n",
    "La distancia entre dos vectores $v$ y $w$ es la longitud de sus diferencias.\n",
    "\n",
    "$$d(v, w) =\\Vert v -w \\Vert$$."
   ]
  },
  {
   "cell_type": "code",
   "execution_count": 3,
   "metadata": {
    "collapsed": false
   },
   "outputs": [
    {
     "data": {
      "text/plain": [
       "5.0"
      ]
     },
     "execution_count": 3,
     "metadata": {},
     "output_type": "execute_result"
    }
   ],
   "source": [
    "# norma de un vector\n",
    "\n",
    "v = np.array([3,4])\n",
    "linalg.norm(v)"
   ]
  },
  {
   "cell_type": "code",
   "execution_count": 4,
   "metadata": {
    "collapsed": false
   },
   "outputs": [
    {
     "data": {
      "text/plain": [
       "3.6055512754639891"
      ]
     },
     "execution_count": 4,
     "metadata": {},
     "output_type": "execute_result"
    }
   ],
   "source": [
    "# distancia entre dos   vectores\n",
    "\n",
    "w = np.array([1,1])\n",
    "linalg.norm(v-w)"
   ]
  },
  {
   "cell_type": "markdown",
   "metadata": {},
   "source": [
    "## Producto interno\n",
    "\n",
    "El producto interno estándar de dos vectores n-dimensional $v$ y $w$ es dado por \n",
    "\n",
    "$$\\langle v, w \\rangle =  v_1w_1 + \\cdots v_nw_n$$\n",
    "\n",
    "El producto es sólo la suma del producto de los componentes de los vectores. Ciertas matrices también definen productos internos.\n",
    "\n",
    "Un producto interno determina una norma: $\\Vert v \\Vert = \\sqrt{\\langle v, v\\rangle}$.\n",
    "\n",
    "En un caso general, el producto interno sobre un espacio $V$ es una forma bilineal, simétrica y definida positiva.\n",
    "\n",
    "De forma análoga una norma es una función cuyo espacio vectorial es el de los números reales, que es definida positiva, escalable y que satisface la desigualdad triangular."
   ]
  },
  {
   "cell_type": "code",
   "execution_count": 5,
   "metadata": {
    "collapsed": false
   },
   "outputs": [
    {
     "data": {
      "text/plain": [
       "7"
      ]
     },
     "execution_count": 5,
     "metadata": {},
     "output_type": "execute_result"
    }
   ],
   "source": [
    "v.dot(w)"
   ]
  },
  {
   "cell_type": "markdown",
   "metadata": {},
   "source": [
    "## Producto externo\n",
    "\n",
    "El producto interno es sólo la multiplicación matricial de un vector $1 \\times n$ con un vector $n \\times 1$. En efecto, podemos escribir: $\\langle v, w \\rangle = v^{t}w$, considerando $v$ y $w$ vectores columnas.\n",
    "\n",
    "El producto externo de dos vectores es lo opuesto. Es dado por: $$v\\otimes w=vw^t$$.\n",
    "\n",
    "Si el resultado del producto interno es un  escalar, el resultado del producto exterior es una matriz."
   ]
  },
  {
   "cell_type": "code",
   "execution_count": 6,
   "metadata": {
    "collapsed": false
   },
   "outputs": [
    {
     "data": {
      "text/plain": [
       "array([[3, 3],\n",
       "       [4, 4]])"
      ]
     },
     "execution_count": 6,
     "metadata": {},
     "output_type": "execute_result"
    }
   ],
   "source": [
    "# Producto externo\n",
    "\n",
    "np.outer(v, w)"
   ]
  },
  {
   "cell_type": "markdown",
   "metadata": {},
   "source": [
    "La [matriz de covarianza](https://en.wikipedia.org/wiki/Covariance_matrix) es un producto externo. "
   ]
  },
  {
   "cell_type": "code",
   "execution_count": 7,
   "metadata": {
    "collapsed": false
   },
   "outputs": [
    {
     "data": {
      "text/plain": [
       "array([[ 0.0732272 , -0.01090744, -0.03609684, -0.05357588],\n",
       "       [-0.01090744,  0.08274922, -0.03362584,  0.0584788 ],\n",
       "       [-0.03609684, -0.03362584,  0.11922581,  0.04186271],\n",
       "       [-0.05357588,  0.0584788 ,  0.04186271,  0.12734962]])"
      ]
     },
     "execution_count": 7,
     "metadata": {},
     "output_type": "execute_result"
    }
   ],
   "source": [
    "# Tenemos n observaciones de p variables\n",
    "\n",
    "n, p = 10,4\n",
    "v = np.random.random((p, n))\n",
    "\n",
    "# La matriz covarianza es de orden p xp\n",
    "np.cov(v)"
   ]
  },
  {
   "cell_type": "markdown",
   "metadata": {},
   "source": [
    "## Traza y determinantes de matrices\n",
    "\n",
    "La traza de una matriz $A$ es la suma de los elementos en sus diagonales.\n",
    "\n",
    "* Es invariante de una matriz bajo cambios de bases.\n",
    "* Define una norma matricial.\n",
    "\n",
    "El determinante es una matriz es definida como la suma alternada de permutaciones de los elementos de una matriz. Podemos calcular los determinantes con herramientas  como\n",
    "\n",
    "```\n",
    "np.linalg.det(A)\n",
    "```\n",
    "\n",
    "* Como la traza, es invariante bajo cambios de bases.\n",
    "* Una matriz $A$ de orden $n \\times n$ es invertible si y sólo si $\\det(A) \\neq 0$.\n",
    "* Las filas(columnas) de una  matriz $A$ de orden $n \\times n$  es  linealmente independiente si y sólo si $\\det(A) \\neq 0$."
   ]
  },
  {
   "cell_type": "code",
   "execution_count": 8,
   "metadata": {
    "collapsed": false
   },
   "outputs": [
    {
     "name": "stdout",
     "output_type": "stream",
     "text": [
      "[[39 30 75 60 58 14]\n",
      " [24 98  4 23  0  0]\n",
      " [35 91 23 82 36 37]\n",
      " [44 20 39 86  9 47]\n",
      " [27 23 19 90 81 68]\n",
      " [89  8 40 29 24  2]]\n"
     ]
    },
    {
     "data": {
      "text/plain": [
       "-16500879409.999952"
      ]
     },
     "execution_count": 8,
     "metadata": {},
     "output_type": "execute_result"
    }
   ],
   "source": [
    "# Ejemplo de determinante\n",
    "\n",
    "n = 6\n",
    "M = np.random.randint(100,size=(n,n))\n",
    "print(M)\n",
    "np.linalg.det(M)"
   ]
  },
  {
   "cell_type": "markdown",
   "metadata": {},
   "source": [
    "## Espacio columna, espacio fila, rango y núcleo\n",
    "\n",
    "Sea $A$ una matriz de orden $m\\times n$. Podemos ver las columnas de $A$ como vectores $a_1, \\dots ,a_n$. El espacio de todas las combinaciones  de los $a_i$ son el espacio columna de la matriz $A$. Ahora si $a_1, \\dots, a_n$ son linealmente independientes, entonces el espacio columna tiene dimensión $n$. Por otra parte, la dimensión del espacio columna es el tamaño del conjunto maximal linealmente independiente de $a_i$. El espacio fila es de forma análoga, pero los vetores son filas de la matriz $A$.\n",
    "\n",
    "El rango de una matriz $A$ es la dimensión del espacio columna-espacio fila. El rango se puede considerar como una medida de la no degeneración de un sistema de ecuaciones lineales, ya que es la dimensión de la imagen de la transformación lineal determinada por $A$.\n",
    "\n",
    "El núcleo de una matriz $A$  es el conjunto de todos los elementos cuya imagen es el vector cero bajo la transformación de $A$. La dimensión del núcleo  de la transformación lineal es llamado nulidad .\n",
    "\n",
    "\n",
    "**Teorema del Index**\n",
    "\n",
    "Para una matriz $A$ de orden $m \\times n$:\n",
    "\n",
    "\n",
    "$$rango(A) + nulidad(A)  = n$$"
   ]
  },
  {
   "cell_type": "markdown",
   "metadata": {},
   "source": [
    "## Matrices como transformaciones lineales\n",
    "\n",
    "\n",
    "* Una matriz define una transformación lineal.\n",
    "* La forma matricial de una matriz no es única.\n",
    "* Podemos definir una transformación  a partir de una base.\n",
    "\n",
    "Supongamos que tenemos una matriz $A$ que define  alguna transformación. Podemos tomar una matriz invertible $B$ y $BAB^{-1}$ define la misma transformación. Esta operación se llama **cambio de base**, ya que expresamos la tranformación con respecto a diferentes bases.\n",
    "\n",
    "Esto es lo que se hace en PCA, expresamos la matriz en una base de autovectores.\n",
    "\n",
    "Sea $f(x)$ una transformación  que lleva  $e_1 = (1,0)$ a $(2,3)$ y $e_2 = (0,1)$ a $(1,1)$. Una representación matricial de $f$ es dada por:\n",
    "\n",
    "$$\\begin{split}A = \\left(\\begin{matrix}2 & 1\\\\3&1\\end{matrix}\\right)\\end{split}$$\n",
    "\n",
    "Esta es la matriz si es que consideramos los vectores de $R^2$ es una combinación de la forma\n",
    "\n",
    "$$c_1e_1 + c_2e_2$$\n",
    "\n",
    "Ahora consideremos un segundo par de vectores linealmente independiente en $R^2$, $v_1 = (1,3)$ y $v_2 = (4,1)$. Encontremos la transformación que toma $e_1$ a $v_1$ y $e_2$ a $v_2$. Una representación matricial para esto es:\n",
    "\n",
    "$$\\begin{split}B = \\left(\\begin{matrix}1 & 4\\\\3&1\\end{matrix}\\right)\\end{split}$$\n",
    "\n",
    "La transformación original $f$ puede ser expresado con respecto a la base $v_1, v_2$ vía\n",
    "\n",
    "$$BAB^{-1}$$\n"
   ]
  },
  {
   "cell_type": "code",
   "execution_count": 9,
   "metadata": {
    "collapsed": true
   },
   "outputs": [],
   "source": [
    "# Ejemplo\n",
    "\n",
    "A = np.array([[2,1],[3,1]])  # transformacion f en la base estandar\n",
    "e1 = np.array([1,0])         # vectores de la base estandar e1,e2\n",
    "e2 = np.array([0,1])"
   ]
  },
  {
   "cell_type": "code",
   "execution_count": 10,
   "metadata": {
    "collapsed": false
   },
   "outputs": [
    {
     "name": "stdout",
     "output_type": "stream",
     "text": [
      "[2 3]\n",
      "[1 1]\n"
     ]
    }
   ],
   "source": [
    "print(A.dot(e1))             # probamos que  Ae1 es (2,3)\n",
    "print(A.dot(e2))             # probamos que  Ae2 es (1,1)\n"
   ]
  },
  {
   "cell_type": "code",
   "execution_count": 11,
   "metadata": {
    "collapsed": true
   },
   "outputs": [],
   "source": [
    "# nuevos vectores\n",
    "\n",
    "v1 = np.array([1,3])\n",
    "v2 = np.array([4,1])"
   ]
  },
  {
   "cell_type": "code",
   "execution_count": 12,
   "metadata": {
    "collapsed": false
   },
   "outputs": [
    {
     "name": "stdout",
     "output_type": "stream",
     "text": [
      "Av1: \n",
      "[5 6]\n",
      "Av2: \n",
      "[ 9 13]\n"
     ]
    }
   ],
   "source": [
    "# Como v1 y v2 son tranasformados por A\n",
    "\n",
    "print(\"Av1: \")\n",
    "print(A.dot(v1))\n",
    "print(\"Av2: \")\n",
    "print(A.dot(v2))"
   ]
  },
  {
   "cell_type": "code",
   "execution_count": 13,
   "metadata": {
    "collapsed": false
   },
   "outputs": [
    {
     "name": "stdout",
     "output_type": "stream",
     "text": [
      "[[1 4]\n",
      " [3 1]]\n"
     ]
    }
   ],
   "source": [
    "# Cambio de base  desde e1, e2 a v1,v2\n",
    "\n",
    "B = np.array([[1,4],[3,1]])\n",
    "print(B)\n",
    "B_inv = linalg.inv(B)"
   ]
  },
  {
   "cell_type": "code",
   "execution_count": 14,
   "metadata": {
    "collapsed": false
   },
   "outputs": [
    {
     "name": "stdout",
     "output_type": "stream",
     "text": [
      "B B_inv \n",
      "[[ 1. -0.]\n",
      " [ 0.  1.]]\n"
     ]
    }
   ],
   "source": [
    "# verificamos la inversa\n",
    "\n",
    "print(\"B B_inv \")\n",
    "print(B.dot(B_inv))   "
   ]
  },
  {
   "cell_type": "code",
   "execution_count": 15,
   "metadata": {
    "collapsed": false
   },
   "outputs": [
    {
     "name": "stdout",
     "output_type": "stream",
     "text": [
      "[ 1.18181818  0.54545455]\n"
     ]
    }
   ],
   "source": [
    "# transformamos  e1 bajo cambio de coordenadas\n",
    "\n",
    "T = B.dot(A.dot(B_inv))        # B A B^{-1}\n",
    "coeffs = T.dot(e1)\n",
    "print(coeffs[0]*v1 + coeffs[1]*v2)"
   ]
  },
  {
   "cell_type": "code",
   "execution_count": 16,
   "metadata": {
    "collapsed": true
   },
   "outputs": [],
   "source": [
    "# Escribamos un grafico de este ejemplo\n",
    "\n",
    "def g_vector(vs):\n",
    "    \"\"\"dibujamos los vectores asumiendo el origen en (0,0)\"\"\"\n",
    "    n = len(vs)\n",
    "    X, Y = np.zeros((n, 2))\n",
    "    U, V = np.vstack(vs).T\n",
    "    plt.quiver(X, Y, U, V, range(n), angles='xy', scale_units='xy', scale=1)\n",
    "    xmin, xmax = np.min([U, X]), np.max([U, X])\n",
    "    ymin, ymax = np.min([V, Y]), np.max([V, Y])\n",
    "    xrng = xmax - xmin\n",
    "    yrng = ymax - ymin\n",
    "    xmin -= 0.05*xrng\n",
    "    xmax += 0.05*xrng\n",
    "    ymin -= 0.05*yrng\n",
    "    ymax += 0.05*yrng\n",
    "    plt.axis([xmin, xmax, ymin, ymax])"
   ]
  },
  {
   "cell_type": "code",
   "execution_count": 17,
   "metadata": {
    "collapsed": true
   },
   "outputs": [],
   "source": [
    "# Colocamos los datos\n",
    "\n",
    "e1 = np.array([1,0])\n",
    "e2 = np.array([0,1])\n",
    "A = np.array([[2,1],[3,1]])"
   ]
  },
  {
   "cell_type": "code",
   "execution_count": 18,
   "metadata": {
    "collapsed": false
   },
   "outputs": [
    {
     "data": {
      "image/png": "[encoded data removed]",
      "text/plain": [
       "<matplotlib.figure.Figure at 0x7f0b4e3fbb00>"
      ]
     },
     "metadata": {},
     "output_type": "display_data"
    }
   ],
   "source": [
    "# Mostramos  un grafico de Ae_1  y Ae_2\n",
    "\n",
    "plt.figure(figsize=(8,4))\n",
    "plt.subplot(1,2,1)\n",
    "g_vector([e1, e2])\n",
    "plt.subplot(1,2,2)\n",
    "g_vector([A.dot(e1), A.dot(e2)])\n",
    "plt.tight_layout()"
   ]
  },
  {
   "cell_type": "markdown",
   "metadata": {},
   "source": [
    "## Normas matriciales\n",
    "\n",
    " Podemos extender la norma de un vector a una norma matricial. Las normas de matrices son usadas para determinar la condición de una matriz. Hay muchas normas matriciales, pero las más comunes son llamadas `p-normas`. Así por ejemplo para un vector $n$ dimensional y para $1 \\leq p < \\infty$, tenemos \n",
    " \n",
    " $$\\Vert v \\Vert_p = \\left(\\sum\\limits_{i=1}^n \\vert v_i \\vert ^p\\right)^{\\frac{1}{p}}$$\n",
    " \n",
    " y para el caso en que $p = \\infty$\n",
    " \n",
    " $$\\Vert v \\Vert_\\infty = \\max{\\vert v_i\\vert}$$\n",
    " \n",
    " De forma similar para el caso de las matrices\n",
    " \n",
    " $$ \\Vert A\\Vert_p = \\sup_x \\frac{\\Vert Ax\\Vert_p}{\\Vert x \\Vert_p}$$\n",
    " \n",
    " \n",
    " $$\\Vert A \\Vert_{1} = \\max_j\\left(\\sum\\limits_{i=1}^n\\vert a_{ij} \\vert \\right)$$ \n",
    " \n",
    " que es una suma de columnas.\n",
    " \n",
    " $$ \\Vert A \\Vert _{\\infty} = \\max_i\\left(\\sum\\limits_{j=1}^n\\vert a_{ij}\\vert \\right)$$\n",
    " \n",
    " que es una suma de filas.\n",
    " \n",
    " \n",
    " La norma $\\Vert A \\Vert_2$ es dado por el mayor autovalor de $(A^TA)^{\\frac{1}{2}}$, en otras palabras es el mayor `valor singular` de $A$.\n",
    " \n",
    " Otra norma usada es la conocida como la norma Frobenius, que se puede calcular de la siguiente forma\n",
    " \n",
    " $$\\Vert A \\Vert_F = \\left(\\sum\\sum \\left(a_{ij}\\right)^2\\right)^{\\frac{1}{2}} $$\n",
    " "
   ]
  },
  {
   "cell_type": "markdown",
   "metadata": {},
   "source": [
    "## Otras matrices\n",
    "\n",
    "Las matrices cuadradas tienen el mismo número de columnas. Si una matriz cuadrada $n \\times n$ es invertible (el rango de $A$ es n)  esta es única. Esta situación conduce a una solución única en un sistema lineal.\n",
    "\n",
    "Una matriz diagonal es una matriz cuyas entradas fuera de la diagonal son ceros. En este caso también se pueden considerar matrices rectangulares de orden $m \\times n$ ser diagonales si todas las entradas $a_{ij}$ son cero para $i \\neq j$.\n",
    "\n",
    "Una matriz $A$ es (skew)simétrica si: $a_{ij} = (-)a_{ji}$ o de forma equivalente $A = (-)A^{T}$.\n",
    "\n",
    "Una matriz $A$ es triangular (superior)(inferior) si $a_{ij} = 0$ para todo $(i >j)(i < j)$.\n",
    "\n",
    "Esas matrices tienen muchos ceros en sus entradas. Matrices bandas tienen `bandas` de elementos distintos de ceros y se puden utilizar para simplicar cálculos. \n",
    "\n",
    "Las matrices sparse, son aquellas que tienen pocos elementos distintos de cero.\n",
    "\n",
    "Una matriz $A$ es ortogonal si $AA^{T} = I$, en otras palabras $A^{T} = A^{-1}$.\n",
    "\n",
    "* Las filas y columnas de una matriz ortogonal son un conjunto ortonormal de vectores.\n",
    "* Las transformaciones ortogonales preservan longitud y ángulos entre vectores.\n",
    "\n",
    "Una matriz cuadrada es definida positiva si $u^{T}Au > 0$ para un vector $n$-dimensional distinto de cero.\n",
    "\n",
    "Una matriz definida positiva, simétrica $A$ es una matriz definida positiva tal que $A = A^{T}$.\n",
    "\n",
    "* Una matriz simétrica, definida positiva es diagonalizable.\n",
    "* La matriz covarianza es simétrica y definida positiva.\n",
    "* Las matrices simétricas, definidas positivas  tienen raíz cuadrada."
   ]
  },
  {
   "cell_type": "markdown",
   "metadata": {
    "collapsed": true
   },
   "source": [
    "# Descomposiciones matriciales\n",
    "\n",
    "La descomposiciones de matrices es un importante paso para resolver sistema de ecuaciones de manera eficiente computacionalmente."
   ]
  },
  {
   "cell_type": "markdown",
   "metadata": {},
   "source": [
    "## Descomposición LU y Eliminación Gaussiana\n",
    "\n",
    "\n",
    "\n",
    "La eliminación Gaussiana, es esencialmente la descomposición $LU$, veamos como trabaja:\n",
    "\n",
    "\n",
    "Consideremos un sistema de ecuaciones $3\\times 3$, en general este procedimiento funciona para sistemas $n \\times n$:\n",
    "\n",
    "\n",
    "$$\\begin{split}\\left(\\begin{matrix}a_{11}&a_{12} & a_{13}\\\\a_{21}&a_{22}&a_{23}\\\\a_{31}&a_{32}&a_{33}\\end{matrix}\\right)\\left(\\begin{matrix}x_1\\\\x_2\\\\x_3\\end{matrix}\\right) = \\left(\\begin{matrix}b_1\\\\b_2\\\\b_3\\end{matrix}\\right)\\end{split}$$\n",
    "\n",
    "\n",
    "Si la matriz $A$ es no singular, resolvamos el sistema usando la  `eliminación Gaussiana`, empezando por escribir la matriz aumentada del sistema\n",
    "\n",
    "\n",
    "$$\\begin{split}\\left(\\begin{array}{ccc|c}a_{11}&a_{12} & a_{13}& b_1 \\\\a_{21}&a_{22}&a_{23}&b_2\\\\a_{31}&a_{32}&a_{33}&b_3\\end{array}\\right)\\end{split}$$\n",
    "\n",
    "\n",
    "Si la primera entrada $a_{11}$ es diferente de cero, entonces dividimos la primera fila por $a_{11}$ y substraemos el múltiplo apropiado de la primera fila desde las otras filas, de manera que `0` sea el primer valor de todas las filas. Si $a_{11}$ es cero, debemos permutar las filas). El resultado es como sigue\n",
    "\n",
    "$$\\begin{split}\\left(\\begin{array}{ccc|c}\n",
    "1 & \\frac{a_{12}}{a_{11}} & \\frac{a_{13}}{a_{11}} & \\frac{b_1}{a_{11}} \\\\\n",
    "0 & a_{22} - a_{21}\\frac{a_{12}}{a_{11}} & a_{23} - a_{21}\\frac{a_{13}}{a_{11}}  & b_2 - a_{21}\\frac{b_1}{a_{11}}\\\\\n",
    "0&a_{32}-a_{31}\\frac{a_{12}}{a_{11}} & a_{33} - a_{31}\\frac{a_{13}}{a_{11}}  &b_3- a_{31}\\frac{b_1}{a_{11}}\\end{array}\\right)\\end{split}$$\n",
    "\n",
    "\n",
    "Repetimos el procedimiento para la segunda fila, primero dividiendo  por la entrada distinta de cero, a continuación, restando el múltiplo apropiado de la fila con cada una de las filas tercera y primera, de modo que la segunda entrada en la fila $1$ y $3$ sean $0$. Se debe  continuar hasta que la matriz de la izquierda sea la identidad. El vector $x$ solución del sistema  es el vector columna resultante de la derecha. \n",
    "\n",
    "\n",
    "Por lo general, es más eficiente  parar en forma de un `nivel de fila reducida` (triangular superior, con unos en la diagonal), y luego usar otra forma de sustitución (`back sustitution`) para obtener la respuesta final. Ten en cuenta que en algunos casos, es necesario permutar filas para obtener un nivel de fila reducida (` pivoteo parcial`). Si también manipulamos columnas, tenemos un  `pivoteo completo`.\n",
    "\n",
    "Con la eliminación Gaussiana se puede obtener  la inversa de una matriz, mediante la reducción de la matriz $A$ a la identidad, con la matriz de identidad en  la porción aumentada.\n",
    "\n",
    "Ahora, todo esto está bien cuando estamos resolviendo un sistema  una  vez, para un resultado $b$. Muchas aplicaciones implican soluciones a múltiples problemas, donde el  lado izquierdo de la ecuación  no cambia, pero hay muchos vectores  resultados $b$.\n",
    "\n",
    "En este caso, es más eficiente para descomponer $A$.\n",
    "\n",
    "\n",
    "La descomposición $LU$ de una matriz $A$  es una descomposición tal que \n",
    "\n",
    "$$A = LU$$\n",
    "\n",
    "donde $L$ es una matriz triangular inferior y $U$ es una matriz triangular superior.\n",
    "\n",
    "\n",
    "**Ejemplo** \n",
    "\n",
    "Consideramos una matriz \n",
    "\n",
    "$$\\begin{split}A = \\left(\\begin{matrix} 1 & 3 & 4 \\\\\n",
    "  2& 1& 3\\\\\n",
    "  4&1&2\\end{matrix}\\right)\\end{split}$$\n",
    "\n",
    "\n",
    "Necesitamos multiplicar la fila $1$ por 2 y restar a la fila $2$ para eliminar la primera entrada en la fila $2$, y luego multiplicar la fila $1$ por 4 y restar de la fila $3$. En lugar de escribir ceros  en las primeras entradas de las filas $2$ y $3$, se registrar los múltiplos necesarios para su eliminación:\n",
    "\n",
    "\n",
    "$$\\begin{split}\\left(\\begin{matrix} 1 & 3 & 4 \\\\\n",
    "  (2)& -5 & -5\\\\\n",
    "   (4)&-11&-14\n",
    "  \\end{matrix}\\right)\\end{split}$$\n",
    "  \n",
    "  \n",
    "y entonces eliminamos la segunda entrada en la tercera fila:\n",
    "\n",
    "$$\\begin{split}\\left(\\begin{matrix} 1 & 3 & 4 \\\\\n",
    " (2)& -5 & -5\\\\\n",
    "  (4)&(\\frac{-11}{5})&-3\n",
    "   \\end{matrix}\\right)\\end{split}$$\n",
    "   \n",
    "Ahora tenemos la descomposición:\n",
    "\n",
    "\n",
    "$$\\begin{split}L= \\left(\\begin{matrix} 1 & 0 & 0 \\\\\n",
    "   2& 1 & 0\\\\\n",
    "   4&\\frac{-11}5&1\n",
    "   \\end{matrix}\\right)\n",
    "   U = \\left(\\begin{matrix} 1 & 3 & 4 \\\\\n",
    "   0& -5 & -5\\\\\n",
    "   0&0&-3\n",
    "   \\end{matrix}\\right)\\end{split}$$\n",
    "   \n",
    "   \n",
    " Podemos resolver el sistema, con dos substituciones:\n",
    " \n",
    " $$Ly = b$$\n",
    " \n",
    " \n",
    " $$Ux = y$$\n",
    " \n",
    "Con `numpy` se puede realizar de la siguiente manera:"
   ]
  },
  {
   "cell_type": "code",
   "execution_count": 19,
   "metadata": {
    "collapsed": false
   },
   "outputs": [
    {
     "name": "stdout",
     "output_type": "stream",
     "text": [
      "[[1 3 4]\n",
      " [2 1 3]\n",
      " [4 1 2]]\n",
      "[[ 4.  1.  2.]\n",
      " [ 1.  3.  4.]\n",
      " [ 2.  1.  3.]]\n",
      "[[ 4.  1.  2.]\n",
      " [ 1.  3.  4.]\n",
      " [ 2.  1.  3.]]\n",
      "[[ 0.  1.  0.]\n",
      " [ 0.  0.  1.]\n",
      " [ 1.  0.  0.]]\n",
      "[[ 1.          0.          0.        ]\n",
      " [ 0.25        1.          0.        ]\n",
      " [ 0.5         0.18181818  1.        ]]\n",
      "[[ 4.          1.          2.        ]\n",
      " [ 0.          2.75        3.5       ]\n",
      " [ 0.          0.          1.36363636]]\n"
     ]
    }
   ],
   "source": [
    "A = np.array([[1,3,4],[2,1,3],[4,1,2]])\n",
    "print(A)\n",
    "\n",
    "P, L, U = la.lu(A)\n",
    "print(np.dot(P.T, A))\n",
    "print\n",
    "print(np.dot(L, U))\n",
    "print(P)\n",
    "print(L)\n",
    "print(U)"
   ]
  },
  {
   "cell_type": "markdown",
   "metadata": {},
   "source": [
    "`Numpy` utiliza pivoteo parcial en las descomposiciones (las filas de la matriz son permutadas para  utilizar el  mayor pivote). Esto se debe a que  pequeños pivotes pueden conducir a  inestabilidad numérica. "
   ]
  },
  {
   "cell_type": "markdown",
   "metadata": {},
   "source": [
    "## Descomposición de Cholesky\n",
    "\n",
    "Sea $A$ una matriz simétrica, definida positiva. Hay una única descomposición tal que \n",
    "\n",
    "$$A = LL^{T}$$\n",
    "\n",
    "donde $L$ es una matriz triangular con elementos en la diagonal positivos y $L^{T}$ es su transpuesta. \n",
    "\n",
    "\n",
    "* Sea $A$ una matriz $n \\times n$. Encontramos la matriz $L$ usando el siguiente procedimiento iterativo\n",
    "\n",
    "$$\\begin{split}A = \\left(\\begin{matrix}a_{11}&A_{12}\\\\A_{12}&A_{22}\\end{matrix}\\right) =\n",
    "\\left(\\begin{matrix}\\ell_{11}&0\\\\\n",
    "L_{12}&L_{22}\\end{matrix}\\right)\n",
    "\\left(\\begin{matrix}\\ell_{11}&L_{12}\\\\0&L_{22}\\end{matrix}\\right)\\end{split}$$\n",
    "\n",
    "* Sea $\\ell_{11} = \\sqrt{a_{11}}$.\n",
    "* $L_{12} = \\frac{1}{\\ell_{11}}A_{12}$.\n",
    "* Resolvemos $A_{22} - L_{12}L_{12}^T = L_{22}L_{22}^T$ para $L_{22}$.\n",
    "\n",
    "**Ejemplo**\n",
    "\n",
    "$$\\begin{split}A = \\left(\\begin{matrix}1&3&5\\\\3&13&23\\\\5&23&42\\end{matrix}\\right)\\end{split}$$\n",
    "\n",
    "$$\\ell_{11} = \\sqrt{a_{11}} = 1$$\n",
    "\n",
    "$$L_{12} = \\frac{1}{\\ell_{11}} A_{12} = A_{12}$$\n",
    "\n",
    "Y así se concluye con $\\ell_{33}=1$\n",
    "\n",
    "\n",
    "Esto produce la descomposición:\n",
    "\n",
    "$$\\begin{split}\\left(\\begin{matrix}1&3&5\\\\3&13&23\\\\5&23&42\\end{matrix}\\right) =\n",
    "\\left(\\begin{matrix}1&0&0\\\\3&2&0\\\\5&4&1\\end{matrix}\\right)\\left(\\begin{matrix}1&3&5\\\\0&2&4\\\\0&0&1\\end{matrix}\\right)\\end{split}$$\n",
    "\n",
    "\n",
    "Usando `numpy` tenemos lo siguiente:"
   ]
  },
  {
   "cell_type": "code",
   "execution_count": 20,
   "metadata": {
    "collapsed": false
   },
   "outputs": [
    {
     "name": "stdout",
     "output_type": "stream",
     "text": [
      "[[  1.   3.   5.]\n",
      " [  3.  13.  23.]\n",
      " [  5.  23.  42.]]\n",
      "[[ 1.  3.  5.]\n",
      " [ 0.  2.  4.]\n",
      " [ 0.  0.  1.]]\n",
      "[[ 1  3  5]\n",
      " [ 3 13 23]\n",
      " [ 5 23 42]]\n"
     ]
    }
   ],
   "source": [
    "A = np.array([[1,3,5],[3,13,23],[5,23,42]])\n",
    "L = la.cholesky(A)\n",
    "print(np.dot(L.T, L))\n",
    "\n",
    "print(L)\n",
    "print(A)"
   ]
  },
  {
   "cell_type": "markdown",
   "metadata": {},
   "source": [
    "## Descomposición matricial para PCA y mínimos cuadrados\n",
    "\n",
    " Un autovector de una matriz $A$ es un vector distinto cero $v$ tal que\n",
    " \n",
    " $$Av = \\lambda v$$\n",
    " \n",
    " para un escalar $\\lambda$. Un valor $\\lambda$ es llamado un autovalor de $A$.\n",
    " \n",
    " Si una matriz $A$ de orden $n\\times n$ tienen $n$ autovectores independientes, entonces $A$ puede ser descompuesto de la siguiente manera:\n",
    " \n",
    " $$A = B \\Lambda B^{-1}$$\n",
    " \n",
    " \n",
    " donde $\\Lambda$ es una matriz diagonal cuyas elementos en las diagonales son los autovalores  de $A$ y las columnas de $B$ son los autovectores de $A$.\n",
    " \n",
    " * Una matriz $A$ de orden $n \\times n \\iff $ tiene $n$ autovectores linealmente.\n",
    " * Una matriz definida positiva, simétrica tiene sólo autovalores positivos y su descomposición:\n",
    " \n",
    " $$A=B\\Lambda B^{-1}$$\n",
    " \n",
    " es vía una transformación ortogonal $B$, es decir sus autovectores con conjuntos ortonormales."
   ]
  },
  {
   "cell_type": "markdown",
   "metadata": {
    "collapsed": true
   },
   "source": [
    "## Autovalores\n",
    "\n",
    "Si $v$ es un autovector de una matriz $A$ es de orden $n \\times n$ con un autovalor $\\lambda$, entonces\n",
    "\n",
    "$$Av - \\lambda I = 0$$\n",
    "\n",
    "donde $I$ es la matriz identidad de dimensión $n$ y $0$ es el vector cero n-dimensional. Por tanto los autovalores de $A$ satisfacen:\n",
    "\n",
    "$$\\det(A - \\lambda I) = 0$$\n",
    "\n",
    "El lado izquierdo de la ecuación es un polinomio en $\\lambda$ y es llamado polinomio característico de $A$. Así para encontrar un autovalor de $A$, debemos encontrar las raices del polinomio característico.\n",
    "\n",
    "\n",
    "Computacionalmente, el cálculo de polinomio caractístico y resolver las raices se hace a través de cálculo numérico."
   ]
  },
  {
   "cell_type": "code",
   "execution_count": 21,
   "metadata": {
    "collapsed": false
   },
   "outputs": [
    {
     "name": "stdout",
     "output_type": "stream",
     "text": [
      "[[ 0.+0.j  1.+0.j  1.+0.j]\n",
      " [ 2.+0.j  1.+0.j -0.+0.j]\n",
      " [ 1.+0.j  1.+0.j  1.+0.j]]\n",
      "[ 2.61803399+0.j -1.00000000+0.j  0.38196601+0.j]\n"
     ]
    }
   ],
   "source": [
    "# Ejemplo\n",
    "\n",
    "A = np.array([[0,1,1],[2,1,0],[1,1,1]])\n",
    "\n",
    "u, V = la.eig(A)\n",
    "print(np.dot(V,np.dot(np.diag(u), la.inv(V))))\n",
    "print(u)\n"
   ]
  },
  {
   "cell_type": "code",
   "execution_count": 23,
   "metadata": {
    "collapsed": false
   },
   "outputs": [
    {
     "name": "stdout",
     "output_type": "stream",
     "text": [
      "[ 5.85410197+0.j -0.85410197+0.j  1.00000000+0.j]\n",
      "[ 5.85410197 -0.85410197  1.        ]\n"
     ]
    }
   ],
   "source": [
    "# Si $A$ es definida positva (matriz convarianza)\n",
    "# usamos real_if_close \n",
    "\n",
    "A = np.array([[0,1,1],[2,1,0],[3,4,5]])\n",
    "u, V = la.eig(A)\n",
    "print(u)\n",
    "print (np.real_if_close(u))"
   ]
  },
  {
   "cell_type": "markdown",
   "metadata": {},
   "source": [
    "## Valores singulares\n",
    "\n",
    "Para una matriz $A$ de orden $m \\times n$, definimos sus `valores singulares` como  las raices cuadradas de los autovalores de $A^TA$. Esos valores son siempre bien definidos ya que $A^TA$ es siempre simétrica, definida positiva, de manera que sus autovalores son reales y positivos.\n",
    "\n",
    "Los valores singulares tienen importantes propiedades de la matriz. Geométricamente una matriz $A$ lleva la esfera unitaria $R^n$ a un elipse. Los valores singulares son la longitud de los semiejes.  \n",
    "\n",
    "![Representación geométrica de los valores singulares](svd.png)\n",
    "\n",
    "\n",
    "Los valores singulares proporcionan una medida de la `estabilidad de una matriz`."
   ]
  },
  {
   "cell_type": "markdown",
   "metadata": {},
   "source": [
    "## Descomposición QR\n",
    "\n",
    "QR es un método de descomposición para escribir una matriz $A$ como el producto de dos matrices:\n",
    "\n",
    "$$A = QR$$\n",
    "\n",
    "donde $Q$ es una matriz ortogonal de orden $m \\times n$ y $R$ es una matriz triangular de orden $n \\times n$. Las primeras $k$ columnas de $Q$ son una base ortonormal para el espacio columna de las primeras $k$ columnas de $A$.\n",
    "\n",
    "La descomposición QR iterativa es a menudo usada en el cálculo de los autovalores."
   ]
  },
  {
   "cell_type": "code",
   "execution_count": 29,
   "metadata": {
    "collapsed": false
   },
   "outputs": [
    {
     "name": "stdout",
     "output_type": "stream",
     "text": [
      "A:\n",
      "array([[ 12, -51,   4],\n",
      "       [  6, 167, -68],\n",
      "       [ -4,  24, -41]])\n",
      "Q:\n",
      "array([[-0.85714286,  0.39428571,  0.33142857],\n",
      "       [-0.42857143, -0.90285714, -0.03428571],\n",
      "       [ 0.28571429, -0.17142857,  0.94285714]])\n",
      "R:\n",
      "array([[ -14.,  -21.,   14.],\n",
      "       [   0., -175.,   70.],\n",
      "       [   0.,    0.,  -35.]])\n"
     ]
    }
   ],
   "source": [
    "# Ejemplo\n",
    "\n",
    "import pprint  # modulo de mejor presentacion de las estructuras de python\n",
    "\n",
    "A = scipy.array([[12, -51, 4], [6, 167, -68], [-4, 24, -41]]) \n",
    "Q, R = la.qr(A)\n",
    "\n",
    "print (\"A:\")\n",
    "pprint.pprint(A)\n",
    "\n",
    "print (\"Q:\")\n",
    "pprint.pprint(Q)\n",
    "\n",
    "print (\"R:\")\n",
    "pprint.pprint(R)"
   ]
  },
  {
   "cell_type": "markdown",
   "metadata": {},
   "source": [
    "## Descomposición en valores singulares\n",
    "\n",
    "Una importante descomposición de una matriz, es la `Descomposición en valores singulares ` o `SVD`. Para alguna matriz $A$ de orden $m \\times n$, podemos escribir\n",
    "\n",
    "$$A = UDV^T$$\n",
    "\n",
    "donde $U$ es una matriz unitaria (ortogonal en el caso real) de orden $m \\times m$, D es una matriz diagonal de orden $m \\times n$, con elementos en la diagonal $d_1, \\dots d_m$ no negativos y $V$ una matriz unitaria (ortogonal en el caso real) de orden $n \\times n$.\n",
    "\n"
   ]
  },
  {
   "cell_type": "code",
   "execution_count": 30,
   "metadata": {
    "collapsed": false
   },
   "outputs": [
    {
     "name": "stdout",
     "output_type": "stream",
     "text": [
      "U:\n",
      "array([[-0.39458526,  0.23923575, -0.35445911, -0.38062172, -0.29836818,\n",
      "        -0.49464816, -0.30703202, -0.29763321],\n",
      "       [-0.15830232,  0.03054913, -0.15299759, -0.45334816,  0.31122898,\n",
      "         0.23892035, -0.37313346,  0.67223457],\n",
      "       [-0.22155201, -0.52086121,  0.39334917, -0.14974792, -0.65963979,\n",
      "         0.00488292, -0.00783684,  0.25934607],\n",
      "       [-0.39692635, -0.08649009, -0.41052882,  0.74387448, -0.10629499,\n",
      "         0.01372565, -0.17959298,  0.26333462],\n",
      "       [-0.34630257, -0.64128825,  0.07382859, -0.04494155,  0.58000668,\n",
      "        -0.25806239,  0.00211823, -0.24154726],\n",
      "       [-0.53347449,  0.19168874,  0.19949342, -0.03942604,  0.00424495,\n",
      "         0.68715732, -0.06957561, -0.40033035],\n",
      "       [-0.31660464,  0.06109826, -0.30599517, -0.19611823, -0.01334272,\n",
      "         0.01446975,  0.85185852,  0.19463493],\n",
      "       [-0.32840223,  0.45970413,  0.62354764,  0.1783041 ,  0.17631186,\n",
      "        -0.39879476,  0.06065902,  0.25771578]])\n",
      "Valores singulares:\n",
      "array([ 15.09626916,   4.30056855,   3.40701739])\n",
      "V:\n",
      "array([[-0.54184808, -0.67070995, -0.50650649],\n",
      "       [-0.75152295,  0.11680911,  0.64928336],\n",
      "       [ 0.37631623, -0.73246419,  0.56734672]])\n"
     ]
    }
   ],
   "source": [
    "# Ejemplo (Jeremy kun)\n",
    "\n",
    "from numpy.linalg import svd\n",
    "import pprint\n",
    " \n",
    "MR = [\n",
    "    [2, 5, 3],\n",
    "    [1, 2, 1],\n",
    "    [4, 1, 1],\n",
    "    [3, 5, 2],\n",
    "    [5, 3, 1],\n",
    "    [4, 5, 5],\n",
    "    [2, 4, 2],\n",
    "    [2, 2, 5],\n",
    "]\n",
    "\n",
    "U, valores_singulares, V = svd(MR)\n",
    "\n",
    "\n",
    "print (\"U:\")\n",
    "pprint.pprint(U)\n",
    "\n",
    "print (\"Valores singulares:\")\n",
    "pprint.pprint(valores_singulares)\n",
    "\n",
    "print (\"V:\")\n",
    "pprint.pprint(V)"
   ]
  },
  {
   "cell_type": "markdown",
   "metadata": {},
   "source": [
    "Estos resultados, son un poco extraños., ya que las matrices $U$ y $V$ son de forma incorrecta, debido a que la matriz de entrada tiene rango $3$. Mejoremos un poco, esta situación, reconstuyendo la forma de la matriz inicial."
   ]
  },
  {
   "cell_type": "code",
   "execution_count": 31,
   "metadata": {
    "collapsed": false
   },
   "outputs": [
    {
     "name": "stdout",
     "output_type": "stream",
     "text": [
      "[[ 0.  0.  0.]\n",
      " [ 0.  0.  0.]\n",
      " [ 0.  0.  0.]\n",
      " [ 0. -0.  0.]\n",
      " [ 0. -0. -0.]\n",
      " [ 0.  0.  0.]\n",
      " [ 0. -0. -0.]\n",
      " [ 0.  0. -0.]]\n"
     ]
    }
   ],
   "source": [
    "S = np.vstack([\n",
    "    np.diag(valores_singulares),\n",
    "    np.zeros((5, 3)),\n",
    "])\n",
    " \n",
    "print(np.round(MR - np.dot(U, np.dot(S, V)), decimals=10))"
   ]
  },
  {
   "cell_type": "code",
   "execution_count": 35,
   "metadata": {
    "collapsed": false
   },
   "outputs": [
    {
     "name": "stdout",
     "output_type": "stream",
     "text": [
      "U:\n",
      "array([[-0.39458526,  0.23923575, -0.35445911],\n",
      "       [-0.15830232,  0.03054913, -0.15299759],\n",
      "       [-0.22155201, -0.52086121,  0.39334917],\n",
      "       [-0.39692635, -0.08649009, -0.41052882],\n",
      "       [-0.34630257, -0.64128825,  0.07382859],\n",
      "       [-0.53347449,  0.19168874,  0.19949342],\n",
      "       [-0.31660464,  0.06109826, -0.30599517],\n",
      "       [-0.32840223,  0.45970413,  0.62354764]])\n",
      "Valores singulares:\n",
      "array([ 15.09626916,   4.30056855,   3.40701739])\n",
      "V:\n",
      "array([[-0.54184808, -0.67070995, -0.50650649],\n",
      "       [-0.75152295,  0.11680911,  0.64928336],\n",
      "       [ 0.37631623, -0.73246419,  0.56734672]])\n",
      "Diferencia: \n",
      "array([[ 0.,  0.,  0.],\n",
      "       [ 0.,  0.,  0.],\n",
      "       [ 0.,  0.,  0.],\n",
      "       [ 0., -0.,  0.],\n",
      "       [ 0., -0., -0.],\n",
      "       [ 0.,  0.,  0.],\n",
      "       [ 0., -0., -0.],\n",
      "       [ 0., -0., -0.]])\n"
     ]
    }
   ],
   "source": [
    "# Repetimos  el procedimiento anterior\n",
    "\n",
    "U, valores_singulares, V = svd(MR, full_matrices=False)\n",
    "\n",
    "\n",
    "print (\"U:\")\n",
    "pprint.pprint(U)\n",
    "\n",
    "print (\"Valores singulares:\")\n",
    "pprint.pprint(valores_singulares)\n",
    "\n",
    "print (\"V:\")\n",
    "pprint.pprint(V)\n",
    "\n",
    "S = np.diag(valores_singulares)\n",
    "\n",
    "print(\"Diferencia: \")\n",
    "pprint.pprint(np.round(MR - np.dot(U, np.dot(S, V)), decimals=10))"
   ]
  },
  {
   "cell_type": "markdown",
   "metadata": {},
   "source": [
    "Esto hace que la reconstrucción mucho mejor , ya que sólo podemos multiplicar todo sin tener que añadir más filas de ceros a $D$.\n",
    "\n"
   ]
  },
  {
   "cell_type": "markdown",
   "metadata": {},
   "source": [
    "### Número de condición\n",
    "\n",
    "Una de las aplicaciones del SVD es lo que se conoce como **número de condición**:\n",
    "\n",
    "Para una matriz cuadrada no singular, el número de condición que se define como\n",
    "\n",
    "$$cond (A) = \\Vert A\\Vert\\Vert A^{-1}\\Vert$$ y se puede expresar usando valores singulares.\n",
    "\n",
    "Para eso si $A =UDV^T$, entonces $A^{-1}= VD^{-1}U^T$. Por lo tanto los valores singulares de $A^{-1}$ s son $\\frac{1}{\\lambda_1}, \\dots, \\frac{1}{\\lambda_n}$ y \n",
    "\n",
    "\n",
    "$$\\frac{1}{\\lambda_n} \\geq \\dots \\geq \\frac{1}{\\lambda_1}$$.\n",
    "\n",
    "De aquí se obtiene que $\\Vert A^{-1} \\Vert = \\frac{1}{\\lambda_n}$, de manera que \n",
    "\n",
    "$$cond (A) = \\Vert A\\Vert\\Vert A^{-1}\\Vert = \\lambda_1/\\lambda_n$$.\n",
    "\n"
   ]
  },
  {
   "cell_type": "code",
   "execution_count": 37,
   "metadata": {
    "collapsed": false
   },
   "outputs": [
    {
     "name": "stdout",
     "output_type": "stream",
     "text": [
      "Valores singulares:\n",
      "array([ 190.56724372,   32.85688323,   13.69492038])\n",
      "Numero de condicion:\n",
      "13.915177188954052\n"
     ]
    }
   ],
   "source": [
    "import pprint \n",
    "\n",
    "U, s, V = np.linalg.svd(A)\n",
    "\n",
    "print (\"Valores singulares:\")\n",
    "pprint.pprint(s)\n",
    "\n",
    "print (\"Numero de condicion:\")\n",
    "pprint.pprint(max(s)/min(s))"
   ]
  },
  {
   "cell_type": "markdown",
   "metadata": {},
   "source": [
    "Una de las principales aplicaciones a machine learning es el siguiente teorema:\n",
    "\n",
    "**Teorema SVD** \n",
    "\n",
    "`Cálcular el mejor subespacio k-dimensional se reduce a k aplicaciones del problema unidimensional`."
   ]
  },
  {
   "cell_type": "code",
   "execution_count": null,
   "metadata": {
    "collapsed": true
   },
   "outputs": [],
   "source": []
  }
 ],
 "metadata": {
  "kernelspec": {
   "display_name": "Python 3",
   "language": "python",
   "name": "python3"
  },
  "language_info": {
   "codemirror_mode": {
    "name": "ipython",
    "version": 3
   },
   "file_extension": ".py",
   "mimetype": "text/x-python",
   "name": "python",
   "nbconvert_exporter": "python",
   "pygments_lexer": "ipython3",
   "version": "3.5.1"
  }
 },
 "nbformat": 4,
 "nbformat_minor": 0
}
