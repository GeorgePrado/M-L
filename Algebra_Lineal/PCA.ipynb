{
 "cells": [
  {
   "cell_type": "markdown",
   "metadata": {},
   "source": [
    "# Análisis de componentes principales \n",
    "\n",
    "El análisis de componentes principales (PCA) tiene como propósito detectar la correlación entre las variables. Si existe una fuerte correlación entre las variables, el intento de reducir la dimensionalidad  tiene sentido.\n",
    "\n",
    "Lo que el PCA hace es  encontrar las direcciones de máxima varianza en los datos de alta dimensión, por ejemplo $d$ y proyectarlo sobre un subespacio dimensional $k$ más pequeño al tiempo que conserva la mayor parte de la información.\n",
    "\n",
    "El enfoque del PCA, se basa en los siguientes pasos:\n",
    "\n",
    "* Normalizar los datos.\n",
    "* Obtenemos los autovectores (principales componentes) y autovalores desde la matriz covarianza o matriz de correlación, o llevar a cabo SVD.\n",
    "* Ordenar los autovalores en orden descendiente y escogemos los $k$ autovectores  que corresponden  a los $k$ mayores autovalores, donde $k$ es el número de dimensiones del nuevo subespacio $(k \\leq d)$.\n",
    "* Construir la matriz proyección $P$ desde los $k$ autovectores.\n",
    "* Transformar el conjunto de datos $X$ via $P$ para obtener un subespacio $Y$ de dimensión  $k$ .\n",
    "\n",
    "\n",
    "Para mostrar un ejemplo de aplicación de PCA, usaremos la base de datos `iris`, que contiene la medida de $150$ flores iris, desde $3$ diferentes especies. Las clases son:\n",
    "\n",
    "- Iris-setosa ($n=50$)\n",
    "- Iris-versicolor ($n=50$)\n",
    "- Iris-virginica ($n=50$)\n",
    "\n",
    "Y las características del conjunto de datos son:\n",
    "\n",
    "\n",
    "- longitud sepalo en cm\n",
    "- ancho   sepalo  en cm\n",
    "- longitud petalo en cm\n",
    "- ancho petalo     en cm\n"
   ]
  },
  {
   "cell_type": "code",
   "execution_count": 2,
   "metadata": {
    "collapsed": false
   },
   "outputs": [
    {
     "data": {
      "text/html": [
       "<div>\n",
       "<table border=\"1\" class=\"dataframe\">\n",
       "  <thead>\n",
       "    <tr style=\"text-align: right;\">\n",
       "      <th></th>\n",
       "      <th>sepal_len</th>\n",
       "      <th>sepal_anc</th>\n",
       "      <th>petal_len</th>\n",
       "      <th>petal_anc</th>\n",
       "      <th>clases</th>\n",
       "    </tr>\n",
       "  </thead>\n",
       "  <tbody>\n",
       "    <tr>\n",
       "      <th>0</th>\n",
       "      <td>5.1</td>\n",
       "      <td>3.5</td>\n",
       "      <td>1.4</td>\n",
       "      <td>0.2</td>\n",
       "      <td>setosa</td>\n",
       "    </tr>\n",
       "    <tr>\n",
       "      <th>1</th>\n",
       "      <td>4.9</td>\n",
       "      <td>3.0</td>\n",
       "      <td>1.4</td>\n",
       "      <td>0.2</td>\n",
       "      <td>setosa</td>\n",
       "    </tr>\n",
       "    <tr>\n",
       "      <th>2</th>\n",
       "      <td>4.7</td>\n",
       "      <td>3.2</td>\n",
       "      <td>1.3</td>\n",
       "      <td>0.2</td>\n",
       "      <td>setosa</td>\n",
       "    </tr>\n",
       "    <tr>\n",
       "      <th>3</th>\n",
       "      <td>4.6</td>\n",
       "      <td>3.1</td>\n",
       "      <td>1.5</td>\n",
       "      <td>0.2</td>\n",
       "      <td>setosa</td>\n",
       "    </tr>\n",
       "    <tr>\n",
       "      <th>4</th>\n",
       "      <td>5.0</td>\n",
       "      <td>3.6</td>\n",
       "      <td>1.4</td>\n",
       "      <td>0.2</td>\n",
       "      <td>setosa</td>\n",
       "    </tr>\n",
       "  </tbody>\n",
       "</table>\n",
       "</div>"
      ],
      "text/plain": [
       "   sepal_len  sepal_anc  petal_len  petal_anc  clases\n",
       "0        5.1        3.5        1.4        0.2  setosa\n",
       "1        4.9        3.0        1.4        0.2  setosa\n",
       "2        4.7        3.2        1.3        0.2  setosa\n",
       "3        4.6        3.1        1.5        0.2  setosa\n",
       "4        5.0        3.6        1.4        0.2  setosa"
      ]
     },
     "execution_count": 2,
     "metadata": {},
     "output_type": "execute_result"
    }
   ],
   "source": [
    "# Cargamos los datos usando \n",
    "import  pandas as pd\n",
    "\n",
    "df = pd.read_csv(\n",
    "    filepath_or_buffer='iris.csv',\n",
    "    header=None,\n",
    "    sep=',')\n",
    "\n",
    "df.columns=['sepal_len', 'sepal_anc', 'petal_len', 'petal_anc', 'clases']\n",
    "df.dropna(how=\"all\", inplace=True) \n",
    "\n",
    "df.head()"
   ]
  },
  {
   "cell_type": "code",
   "execution_count": 3,
   "metadata": {
    "collapsed": true
   },
   "outputs": [],
   "source": [
    "# Diviendo los datos en X y clases y\n",
    "\n",
    "X = df.ix[:,0:4].values\n",
    "y = df.ix[:,4].values"
   ]
  },
  {
   "cell_type": "markdown",
   "metadata": {},
   "source": [
    "Ahora los datos $X$, se han dividido en una matriz $150 \\times 4$ donde las columnas son las diferentes características y cada fila representa una muestra de flores. Cada fila de $X$ puede ser visto con un vector de dimensión $4$.\n",
    "\n",
    "$$\\mathbf{x^T} = \\begin{pmatrix} x_1 \\\\ x_2 \\\\ x_3 \\\\ x_4 \\end{pmatrix}\n",
    "= \\begin{pmatrix} \\text{longitud sepalo} \\\\ \\text{ancho sepalo} \\\\\\text{longitud petalo} \\\\ \\text{ancho petalo} \\end{pmatrix}$$"
   ]
  },
  {
   "cell_type": "markdown",
   "metadata": {},
   "source": [
    "### Normalizar datos\n",
    "\n",
    "El PCA produce un subespacio  de características que maximiza la varianza a lo largo de los ejes,  tiene sentido  normalizar los datos, sobre todo, si se mide en diferentes escalas. Si bien, en nuestro ejemplos todas las características del conjunto de datos `iris` se miden en centímetros,  nos permite continuar con la transformación de los datos sobre una unidad de escala (media = 0 y varianza = 1), lo cual es un requisito para el funcionamiento óptimo de muchos algoritmos de machine learning."
   ]
  },
  {
   "cell_type": "code",
   "execution_count": 4,
   "metadata": {
    "collapsed": true
   },
   "outputs": [],
   "source": [
    "from sklearn.preprocessing import StandardScaler\n",
    "X_std = StandardScaler().fit_transform(X)\n",
    "\n"
   ]
  },
  {
   "cell_type": "markdown",
   "metadata": {},
   "source": [
    "### Calculando los autovectores y autovalores\n",
    "\n",
    "Los autovectores y autovalores de una matriz de covarianza (o correlación) representan el \"núcleo\" de un PCA: Los autovectores (componentes principales) determinan las direcciones del nuevo  espacio de  características, y los autovalores determinan  su magnitud. En otras palabras, los autovalores  describen  la varianza de los datos a lo largo de los nuevos ejes de  características.\n",
    "\n",
    "El enfoque clásico de la PCA es realizar la descomposición  en la matriz de covarianza $\\sigma$, que es una matriz $d\\times d$  donde cada elemento representa la covarianza entre dos características. La covarianza entre dos características se calcula como sigue:\n",
    "\n",
    "$$\\sigma_{jk} = \\frac{1}{n-1}\\sum_{i=1}^{N}\\left(  x_{ij}-\\bar{x}_j \\right)  \\left( x_{ik}-\\bar{x}_k \\right).$$\n",
    "\n",
    "\n",
    "Podemos resumir el cálculo de la matriz de covarianza a través de la siguiente ecuación matricial:\n",
    "\n",
    "$$\\Sigma = \\frac{1}{n-1} \\left( (\\mathbf{X} - \\mathbf{\\bar{x}})^T\\;(\\mathbf{X} - \\mathbf{\\bar{x}}) \\right)$$\n",
    "\n",
    "\n",
    "donde $\\mathbf{\\bar{x}}$ es la media de $\\mathbf{\\bar{x}} = \\sum\\limits_{k=1}^n x_{i}$. \n",
    "\n",
    "\n",
    "La media es un vector de dimensión $d$, donde cada valor de este vector representa la media muestral de una columna de características en el conjunto de datos."
   ]
  },
  {
   "cell_type": "code",
   "execution_count": 5,
   "metadata": {
    "collapsed": false
   },
   "outputs": [
    {
     "data": {
      "text/plain": [
       "array([[ 0.05128345, -0.01998437],\n",
       "       [-0.01998437,  0.04359458]])"
      ]
     },
     "execution_count": 5,
     "metadata": {},
     "output_type": "execute_result"
    }
   ],
   "source": [
    "# Algunos ejemplos preliminares\n",
    "\n",
    "import numpy as np\n",
    "\n",
    "X1 = np.random.random(10)\n",
    "Y1 = np.random.random(10)\n",
    "\n",
    "np.cov(X1, Y1) # Covarianza usando numpy"
   ]
  },
  {
   "cell_type": "code",
   "execution_count": 6,
   "metadata": {
    "collapsed": false
   },
   "outputs": [
    {
     "data": {
      "text/plain": [
       "array([[ 0.05128345, -0.01998437, -0.01121   ],\n",
       "       [-0.01998437,  0.04359458, -0.04122589],\n",
       "       [-0.01121   , -0.04122589,  0.10084593]])"
      ]
     },
     "execution_count": 6,
     "metadata": {},
     "output_type": "execute_result"
    }
   ],
   "source": [
    "# Podemos extender a mas de dos variables  \n",
    "Z1 = np.random.random(10)\n",
    "np.cov([X1, Y1, Z1])"
   ]
  },
  {
   "cell_type": "code",
   "execution_count": 7,
   "metadata": {
    "collapsed": true
   },
   "outputs": [],
   "source": [
    "# Descomposicion de una matriz covarianza\n",
    "import matplotlib.pyplot as plt\n",
    "%matplotlib inline\n",
    "plt.style.use('ggplot')\n",
    "\n",
    "\n",
    "mu = [0,0]\n",
    "sigma = [[0.6,0.2],[0.2,0.2]]\n",
    "n = 1000\n",
    "x = np.random.multivariate_normal(mu, sigma, n).T\n",
    "\n",
    "A = np.cov(x)"
   ]
  },
  {
   "cell_type": "code",
   "execution_count": 8,
   "metadata": {
    "collapsed": false
   },
   "outputs": [
    {
     "data": {
      "text/plain": [
       "array([ 0.70389368,  0.11671504])"
      ]
     },
     "execution_count": 8,
     "metadata": {},
     "output_type": "execute_result"
    }
   ],
   "source": [
    "e, v = np.linalg.eig(A)\n",
    "e"
   ]
  },
  {
   "cell_type": "code",
   "execution_count": 9,
   "metadata": {
    "collapsed": false
   },
   "outputs": [
    {
     "data": {
      "image/png": "[encoded data removed]",
      "text/plain": [
       "<matplotlib.figure.Figure at 0x7f83c7e5bef0>"
      ]
     },
     "metadata": {},
     "output_type": "display_data"
    }
   ],
   "source": [
    "# Realicemos un grafico con matplotlib\n",
    "\n",
    "plt.style.context('seaborn-whitegrid')\n",
    "\n",
    "plt.scatter(x[0,:], x[1,:], alpha=0.2)\n",
    "for e_, v_ in zip(e, v.T):\n",
    "    plt.plot([0, 3*e_*v_[0]], [0, 3*e_*v_[1]], 'r-', lw=2)\n",
    "plt.axis([-3,3,-3,3])\n",
    "plt.title('Autovectores de la matriz covarianza escalada por autovalores .');"
   ]
  },
  {
   "cell_type": "code",
   "execution_count": 10,
   "metadata": {
    "collapsed": false
   },
   "outputs": [
    {
     "name": "stdout",
     "output_type": "stream",
     "text": [
      "Matriz covarianza\n",
      "array([[ 1.00671141, -0.11835884,  0.87760447,  0.82343066],\n",
      "       [-0.11835884,  1.00671141, -0.43131554, -0.36858315],\n",
      "       [ 0.87760447, -0.43131554,  1.00671141,  0.96932762],\n",
      "       [ 0.82343066, -0.36858315,  0.96932762,  1.00671141]])\n"
     ]
    }
   ],
   "source": [
    "# Para el caso del conjunto de datos iris\n",
    "\n",
    "import pprint\n",
    "\n",
    "media_vec = np.mean(X_std, axis=0)\n",
    "cov_mat = (X_std - media_vec).T.dot((X_std - media_vec)) / (X_std.shape[0]-1)\n",
    "print('Matriz covarianza')\n",
    "pprint.pprint(cov_mat)\n",
    "\n"
   ]
  },
  {
   "cell_type": "code",
   "execution_count": 11,
   "metadata": {
    "collapsed": false
   },
   "outputs": [
    {
     "name": "stdout",
     "output_type": "stream",
     "text": [
      "Autovectores \n",
      "array([[ 0.52106591, -0.37741762, -0.71956635,  0.26128628],\n",
      "       [-0.26934744, -0.92329566,  0.24438178, -0.12350962],\n",
      "       [ 0.5804131 , -0.02449161,  0.14212637, -0.80144925],\n",
      "       [ 0.56485654, -0.06694199,  0.63427274,  0.52359713]])\n",
      "Autovalores \n",
      "array([ 2.93808505,  0.9201649 ,  0.14774182,  0.02085386])\n"
     ]
    }
   ],
   "source": [
    "# descomposicion de la matriz covarianza para el conjunto de datos iris\n",
    "\n",
    "cov_matriz = np.cov(X_std.T)\n",
    "\n",
    "auto_vals, auto_vecs = np.linalg.eig(cov_matriz)\n",
    "\n",
    "\n",
    "print('Autovectores ' )\n",
    "pprint.pprint(auto_vecs)\n",
    "print('Autovalores ' )\n",
    "pprint.pprint(auto_vals)\n",
    "\n"
   ]
  },
  {
   "cell_type": "markdown",
   "metadata": {},
   "source": [
    "La matriz de correlación se puede interpretar como la matriz de covarianza normalizada. La descomposición de los datos normalizados sobre la correlación se puede hacer con `numpy`:"
   ]
  },
  {
   "cell_type": "code",
   "execution_count": 12,
   "metadata": {
    "collapsed": false
   },
   "outputs": [
    {
     "name": "stdout",
     "output_type": "stream",
     "text": [
      "Autovectores\n",
      "Autovalores \n",
      "Autovectores \n",
      "array([[ 0.52106591, -0.37741762, -0.71956635,  0.26128628],\n",
      "       [-0.26934744, -0.92329566,  0.24438178, -0.12350962],\n",
      "       [ 0.5804131 , -0.02449161,  0.14212637, -0.80144925],\n",
      "       [ 0.56485654, -0.06694199,  0.63427274,  0.52359713]])\n",
      "Autovalores \n",
      "array([ 2.91849782,  0.91403047,  0.14675688,  0.02071484])\n"
     ]
    }
   ],
   "source": [
    "# descomposicion de la matriz correlacion  para el conjunto de datos iris normalizados\n",
    "\n",
    "cor_mat1 = np.corrcoef(X_std.T)\n",
    "\n",
    "auto_vals, auto_vecs = np.linalg.eig(cor_mat1)\n",
    "\n",
    "print('Autovectores' )\n",
    "print('Autovalores ')\n",
    "\n",
    "print('Autovectores ' )\n",
    "pprint.pprint(auto_vecs)\n",
    "print('Autovalores ' )\n",
    "pprint.pprint(auto_vals)"
   ]
  },
  {
   "cell_type": "code",
   "execution_count": 13,
   "metadata": {
    "collapsed": false
   },
   "outputs": [
    {
     "name": "stdout",
     "output_type": "stream",
     "text": [
      "Autovectores:\n",
      "array([[ 0.52106591, -0.37741762, -0.71956635,  0.26128628],\n",
      "       [-0.26934744, -0.92329566,  0.24438178, -0.12350962],\n",
      "       [ 0.5804131 , -0.02449161,  0.14212637, -0.80144925],\n",
      "       [ 0.56485654, -0.06694199,  0.63427274,  0.52359713]])\n",
      "Autovalores: \n",
      "array([ 2.91849782,  0.91403047,  0.14675688,  0.02071484])\n"
     ]
    }
   ],
   "source": [
    "# # descomposicion de la matriz correlacion  para el conjunto de datos iris\n",
    "\n",
    "import pprint \n",
    "\n",
    "cor_mat2 = np.corrcoef(X.T)\n",
    "\n",
    "auto_vals, auto_vecs = np.linalg.eig(cor_mat2)\n",
    "\n",
    "print('Autovectores:'  )\n",
    "pprint.pprint(auto_vecs)\n",
    "print('Autovalores: ' )\n",
    "pprint.pprint(auto_vals)\n"
   ]
  },
  {
   "cell_type": "markdown",
   "metadata": {},
   "source": [
    "En todos los casos se producen los mismos autovalores y autovectores."
   ]
  },
  {
   "cell_type": "markdown",
   "metadata": {},
   "source": [
    "### SVD\n",
    "\n",
    "Mientras que la descomposición de la matriz de covarianza o correlación puede ser más intuitiva , la mayoría de las implementaciones de PCA realizan `SVD` para mejorar la eficiencia computacional."
   ]
  },
  {
   "cell_type": "code",
   "execution_count": 14,
   "metadata": {
    "collapsed": false
   },
   "outputs": [
    {
     "data": {
      "image/png": "[encoded data removed]",
      "text/plain": [
       "<matplotlib.figure.Figure at 0x7f83c7a08588>"
      ]
     },
     "metadata": {},
     "output_type": "display_data"
    }
   ],
   "source": [
    "# Veamos un ejemplo\n",
    "\n",
    "plt.style.context('seaborn-whitegrid')\n",
    "mu = [0,0]\n",
    "sigma = [[0.6,0.2],[0.2,0.2]]\n",
    "n = 1000\n",
    "x = np.random.multivariate_normal(mu, sigma, n).T\n",
    "\n",
    "e1, v1 = np.linalg.eig(np.dot(x, x.T)/(n-1))\n",
    "u, s, v = np.linalg.svd(x)\n",
    "\n",
    "e2 = s**2/(n-1)\n",
    "v2 = u\n",
    "plt.scatter(x[0,:], x[1,:], alpha=0.2)\n",
    "for e_, v_ in zip(e2, v2):\n",
    "    plt.plot([0, 3*e_*v_[0]], [0, 3*e_*v_[1]], 'r-', lw=2)\n",
    "plt.axis([-3,3,-3,3]);\n",
    "\n",
    "\n"
   ]
  },
  {
   "cell_type": "code",
   "execution_count": 15,
   "metadata": {
    "collapsed": false
   },
   "outputs": [
    {
     "name": "stdout",
     "output_type": "stream",
     "text": [
      "e1:autovalor de la matriz covarianza\n",
      "array([ 0.69405123,  0.11427228])\n",
      "e1:autovalor desde SVD\n",
      "array([ 0.69405123,  0.11427228])\n",
      "v1:autovector de la matriz covarianza\n",
      "array([[ 0.9240296 , -0.38232093],\n",
      "       [ 0.38232093,  0.9240296 ]])\n",
      "e1:autovalor desde SVD\n",
      "array([[-0.9240296 , -0.38232093],\n",
      "       [-0.38232093,  0.9240296 ]])\n"
     ]
    }
   ],
   "source": [
    "# Veamos los resultados obtenidos \n",
    "\n",
    "print(\"e1:autovalor de la matriz covarianza\")\n",
    "pprint.pprint(e1)\n",
    "\n",
    "print(\"e1:autovalor desde SVD\")\n",
    "pprint.pprint(e2)\n",
    "\n",
    "print(\"v1:autovector de la matriz covarianza\")\n",
    "pprint.pprint(v1)\n",
    "\n",
    "print(\"e1:autovalor desde SVD\")\n",
    "pprint.pprint(v2)"
   ]
  },
  {
   "cell_type": "code",
   "execution_count": 16,
   "metadata": {
    "collapsed": false
   },
   "outputs": [
    {
     "data": {
      "text/plain": [
       "array([[-0.52106591, -0.37741762,  0.71956635,  0.26128628],\n",
       "       [ 0.26934744, -0.92329566, -0.24438178, -0.12350962],\n",
       "       [-0.5804131 , -0.02449161, -0.14212637, -0.80144925],\n",
       "       [-0.56485654, -0.06694199, -0.63427274,  0.52359713]])"
      ]
     },
     "execution_count": 16,
     "metadata": {},
     "output_type": "execute_result"
    }
   ],
   "source": [
    "# Para el caso del conjunto de datos iris tenemos\n",
    "\n",
    "u,s,v = np.linalg.svd(X_std.T)\n",
    "u\n",
    "\n"
   ]
  },
  {
   "cell_type": "markdown",
   "metadata": {},
   "source": [
    "## Seleccionando los componentes principales"
   ]
  },
  {
   "cell_type": "markdown",
   "metadata": {},
   "source": [
    "### Ordenando los autovalores\n",
    "\n",
    "El objetivo del  PCA es reducir la dimensionalidad del espacio de características originales proyectándolo sobre un subespacio más pequeño, donde los autovectores  se formarán los ejes. Sin embargo, los autovectores solamente definen  las direcciones del nuevo eje, desde que ellos  tienen  la misma unidad de longitud  $1$, que se  puede confirmar por las siguientes dos líneas de código:"
   ]
  },
  {
   "cell_type": "code",
   "execution_count": 17,
   "metadata": {
    "collapsed": false
   },
   "outputs": [
    {
     "name": "stdout",
     "output_type": "stream",
     "text": [
      "Unidad de longitud es 1\n"
     ]
    }
   ],
   "source": [
    "for ev in auto_vecs:\n",
    "    np.testing.assert_array_almost_equal(1.0, np.linalg.norm(ev))\n",
    "print('Unidad de longitud es 1')\n"
   ]
  },
  {
   "cell_type": "markdown",
   "metadata": {},
   "source": [
    "Para  decidir qué autovectores  pueden `bajar` sin perder demasiada información para la construcción de subespacio dimensional inferior, tenemos que inspeccionar los autovalores correspondientes: autovectores  con los autovalores e menor valor que  llevan la menor cantidad de información acerca de la distribución de los datos; esos son los que se pueden descartar.\n",
    "\n",
    "Con el fin de hacer esto, el enfoque  es clasificar los autovalores desde el  mayor a menor valor , con el fin de elegir los $k$ autovectores de mayor valor."
   ]
  },
  {
   "cell_type": "code",
   "execution_count": 18,
   "metadata": {
    "collapsed": false
   },
   "outputs": [
    {
     "name": "stdout",
     "output_type": "stream",
     "text": [
      "Autovalores en orden decreciente:\n",
      "2.91849781653\n",
      "0.914030471468\n",
      "0.146756875571\n",
      "0.0207148364286\n"
     ]
    }
   ],
   "source": [
    "# Lista de tuplas de  (autovalores, autovectores) tuples\n",
    "\n",
    "par_auto = [(np.abs(auto_vals[i]), auto_vecs[:,i]) for i in range(len(auto_vals))]\n",
    "\n",
    "# Ordenamos las tuplas (autovalores, autovectores) desde el mayor al menor valor\n",
    "\n",
    "par_auto.sort()\n",
    "par_auto.reverse()\n",
    "\n",
    "# Cofirmamos que la lista es ordenada en orden decreciente de autovalores\n",
    "\n",
    "print('Autovalores en orden decreciente:')\n",
    "for i in par_auto:\n",
    "    print(i[0])\n"
   ]
  },
  {
   "cell_type": "markdown",
   "metadata": {},
   "source": [
    "Después de clasificar los autovalores y autovectores,  debemos conocer cuantos componentes principales se va a elegir para el subespacio de características. \n",
    "\n",
    "Una medida útil es la llamada \"varianza explicada\", que se puede calcular a partir de los autovalores. La varianza explicada nos dice cuanta  cantidad de información (varianza) se puede atribuir a cada uno de los componentes principales."
   ]
  },
  {
   "cell_type": "code",
   "execution_count": 19,
   "metadata": {
    "collapsed": true
   },
   "outputs": [],
   "source": [
    "total = sum(auto_vals)\n",
    "var_exp = [(i / total)*100 for i in sorted(auto_vals, reverse=True)]\n",
    "cum_var_exp = np.cumsum(var_exp)\n"
   ]
  },
  {
   "cell_type": "code",
   "execution_count": 20,
   "metadata": {
    "collapsed": false
   },
   "outputs": [
    {
     "data": {
      "image/png": "[encoded data removed]",
      "text/plain": [
       "<matplotlib.figure.Figure at 0x7f83c74c7908>"
      ]
     },
     "metadata": {},
     "output_type": "display_data"
    }
   ],
   "source": [
    "with plt.style.context('seaborn-whitegrid'):\n",
    "    plt.figure(figsize=(6, 4))\n",
    "\n",
    "    plt.bar(range(4), var_exp, alpha=0.5, align='center',\n",
    "            label='varianza explicada individual')\n",
    "    plt.step(range(4), cum_var_exp, where='mid',\n",
    "             label=' varianza explicada acumulativa')\n",
    "    plt.ylabel('Radio de la varianza explicada ')\n",
    "    plt.xlabel('Componentes principales')\n",
    "    plt.legend(loc='best')\n",
    "    plt.tight_layout()\n",
    "\n"
   ]
  },
  {
   "cell_type": "markdown",
   "metadata": {},
   "source": [
    "El gráfico de arriba muestra que la mayor parte de la varianza ($72,77\\%$ de la varianza para ser exactos) se puede explicar por el primer componente principal . El segundo componente principal aún conserva algo de información ($23,03\\%$), mientras que los componentes principales tercero y cuarto con seguridad pueden ser dejados sin perder a mucha información. Juntos, los dos primeros componentes principales contienen $95,8\\%$ de la información."
   ]
  },
  {
   "cell_type": "markdown",
   "metadata": {},
   "source": [
    "## Matriz proyección\n",
    "\n",
    "La construcción de la matriz de proyección  se utiliza para transformar los datos del conjunto de datos `iris` a un nuevo suespacio de características. La matriz de proyección\"  es básicamente una matriz de nuestros  $k$  mayores  autovectores concatenados.\n",
    "\n",
    "Aquí, estamos reduciendo el  espacio de $4$ dimensiones a un  subespacio de características  de $2$ dimensiones, escogiendo  dos autovectores con los mayores autovaores  para construir la matriz de proyección $P$ de autovectores de orden $ d \\times k$."
   ]
  },
  {
   "cell_type": "code",
   "execution_count": 21,
   "metadata": {
    "collapsed": false
   },
   "outputs": [
    {
     "name": "stdout",
     "output_type": "stream",
     "text": [
      "Matriz de proyeccion:\n",
      "array([[ 0.52106591, -0.37741762],\n",
      "       [-0.26934744, -0.92329566],\n",
      "       [ 0.5804131 , -0.02449161],\n",
      "       [ 0.56485654, -0.06694199]])\n"
     ]
    }
   ],
   "source": [
    "# Construccion de la matriz proyeccion \n",
    "\n",
    "matriz_P = np.hstack((par_auto[0][1].reshape(4,1),\n",
    "                      par_auto[1][1].reshape(4,1)))\n",
    "\n",
    "print('Matriz de proyeccion:')\n",
    "pprint.pprint(matriz_P)\n"
   ]
  },
  {
   "cell_type": "markdown",
   "metadata": {},
   "source": [
    "### Proyección sobre un nuevo subespacio de características\n",
    "\n",
    "En este último paso usaremos la matriz de proyección de orden $4 \\times 2$ que transforma el conjunto de datos en un nuevo subspacio via la siguiente ecuación\n",
    "\n",
    "$$\\mathbf{Z} = \\mathbf{X} \\times  \\mathbf{Y}$$\n",
    "\n",
    "donde $\\mathbf{Z}$ es una matriz de orden $150 \\times 2$."
   ]
  },
  {
   "cell_type": "code",
   "execution_count": 27,
   "metadata": {
    "collapsed": false
   },
   "outputs": [],
   "source": [
    "Z = X_std.dot(matriz_P)\n"
   ]
  },
  {
   "cell_type": "markdown",
   "metadata": {
    "collapsed": true
   },
   "source": [
    "## PCA  en scikit-learn\n",
    "\n"
   ]
  },
  {
   "cell_type": "code",
   "execution_count": 42,
   "metadata": {
    "collapsed": false
   },
   "outputs": [
    {
     "data": {
      "text/plain": [
       "<matplotlib.figure.Figure at 0x7f83bef53080>"
      ]
     },
     "metadata": {},
     "output_type": "display_data"
    },
    {
     "data": {
      "image/png": "[encoded data removed]",
      "text/plain": [
       "<matplotlib.figure.Figure at 0x7f83bef3bd68>"
      ]
     },
     "metadata": {},
     "output_type": "display_data"
    }
   ],
   "source": [
    "from sklearn.decomposition import PCA \n",
    "pca = PCA(n_components=2)\n",
    "Z = pca.fit_transform(X_std)\n",
    "\n",
    "with plt.style.context('seaborn-whitegrid'):\n",
    "    plt.figure(figsize=(6, 4))\n",
    "    nombres = ('Iris-setosa', 'Iris-versicolor', 'Iris-virginica')\n",
    "    plt.figure()\n",
    "    for c, i, nombres in zip(\"brg\", [0, 1, 2], nombres ):\n",
    "        plt.scatter(Z[y == i, 0], Z[y == i, 1], c=c, label=nombres)\n",
    "        plt.xlabel('Componente principal 1')\n",
    "        plt.ylabel('Componente principal 2')\n",
    "        plt.legend()\n"
   ]
  },
  {
   "cell_type": "code",
   "execution_count": null,
   "metadata": {
    "collapsed": true
   },
   "outputs": [],
   "source": []
  }
 ],
 "metadata": {
  "kernelspec": {
   "display_name": "Python 3",
   "language": "python",
   "name": "python3"
  },
  "language_info": {
   "codemirror_mode": {
    "name": "ipython",
    "version": 3
   },
   "file_extension": ".py",
   "mimetype": "text/x-python",
   "name": "python",
   "nbconvert_exporter": "python",
   "pygments_lexer": "ipython3",
   "version": "3.5.1"
  }
 },
 "nbformat": 4,
 "nbformat_minor": 0
}
