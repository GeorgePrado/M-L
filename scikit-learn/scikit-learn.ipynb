{
 "cells": [
  {
   "cell_type": "markdown",
   "metadata": {},
   "source": [
    "# Notas de Scikit-Learn"
   ]
  },
  {
   "cell_type": "markdown",
   "metadata": {},
   "source": [
    "Machine Learning(Aprendizaje Automático), es una rama  de la inteligencia artificial que estudia el diseño de algoritmos que puedan aprender. \n",
    "\n",
    "Típicas tareas del machine learning son el aprendizaje de conceptos,el desarrollo de  modelos de predicción,  la búsqueda de patrones predictivos y el clustering. Estas tareas son aprendidas  a través de los datos disponibles observados  a través de experiencias o instrucciones. Podemos dividir los algoritmos  del machine learning en 3 categorias:\n",
    "\n",
    "- **Aprendizaje supervisado**\n",
    "- **Aprendizaje no supervisado**\n",
    "- **Aprendizaje por refuerzo**\n",
    " \n",
    "** [scikit](https://scikits.appspot.com/)**  es un conjunto de paquetes en Python, para temas específicos:\n",
    "\n",
    "- scikit-image: Contiene rutina para procesamiento de imágenes en Scipy.\n",
    "- scikit-monaco: Paquete relacionado a la integración de Montecarlo.\n",
    "- timeseries: Un paquete para la manipulación de series de tiempo.\n",
    "- scikit-learn: Un conjunto de módulos en Python, para Machine Learning y Data Minning.\n",
    "\n",
    "La librería  [scikit-learn](scikit-learn.org/stable/a) proporciona una gran número de herramientas para la ciencia de datos y data minning en Python centrandose en el machine learning:\n",
    "\n",
    "- scikit-learn posee excelente documentación como el  [tutorial](http://scikit-learn.org/stable/tutorial/basic/tutorial.html) inicial o los [ejemplos](http://scikit-learn.org/dev/auto_examples/index.html).\n",
    "- Posee muchos de lo algoritmos del machine learning.\n",
    "- Todo se trabaja sobre [github](https://github.com/scikit-learn/scikit-learn).\n",
    "- Cada método implementado sobre sckit-learn asume que la data viene en un conjunto de datos. Sckit-learn incluye algunos conjuntos de datos conocidos."
   ]
  },
  {
   "cell_type": "markdown",
   "metadata": {},
   "source": [
    "### Datos de entrenamiento, validación y de prueba\n",
    "\n",
    "\n",
    "- Los datos de entrenamiento(**training**): son los datos que entrenan los modelos\n",
    "- Los datos de validación (**validation**) : elecciona el mejor de los modelos entrenados.\n",
    "- Los datos de prueba (**testing**): Nos ofrece el error real cometido con el modelo seleccionado.\n",
    "\n",
    "[Hastie, Tibshirani y Friedman](http://www-stat.stanford.edu/~tibs/ElemStatLearn/) en su libro *The Elements of Statistical Learning* indican que una división típica para estos conjuntos puede ser de 50% para el entrenamiento y 25% para la validación y prueba, respectivamente."
   ]
  },
  {
   "cell_type": "markdown",
   "metadata": {},
   "source": [
    "## API de scikit-learn\n",
    "\n",
    "Los principales \"interfaces\" en scikit-learn son (una clase puede implementar múltiples interfaces):\n",
    "\n",
    "- **Estimador**:    Un estimador es un objeto que se ajuste a un modelo basado en algunos datos de entrenamiento y es capaz de inferir algunas propiedades de los nuevos datos.\n",
    "\n",
    "    `estimador = obj.fit(data, targets)` \n",
    "    \n",
    " \n",
    "- **Predictor**:\n",
    "\n",
    "    `prediccion = obj.predict(data)` \n",
    "    \n",
    "    \n",
    "- **Transformador**:\n",
    "\n",
    "    `n_data = obj.transform(data)` \n",
    "    \n",
    "    \n",
    "- **Modelo**:\n",
    "\n",
    "    `s = obj.score(data)`\n",
    "\n"
   ]
  },
  {
   "cell_type": "code",
   "execution_count": 21,
   "metadata": {
    "collapsed": false
   },
   "outputs": [
    {
     "name": "stdout",
     "output_type": "stream",
     "text": [
      "[[-0.40731745 -1.46092371  2.24004724  1.00841492]]\n"
     ]
    }
   ],
   "source": [
    "# Ejemplos\n",
    "\n",
    "from sklearn import datasets\n",
    "from numpy import logical_or\n",
    "from sklearn.linear_model import LogisticRegression\n",
    "\n",
    "iris = datasets.load_iris()\n",
    "subconjunto = logical_or(iris.target == 0, iris.target == 1)\n",
    "\n",
    "X = iris.data[subconjunto]\n",
    "y = iris.target[subconjunto]\n",
    "\n",
    "# Creamos el modelo\n",
    "model = LogisticRegression()\n",
    "\n",
    "# Fijamos el modelo\n",
    "model.fit(X, y)\n",
    "print (model.coef_)"
   ]
  },
  {
   "cell_type": "code",
   "execution_count": 22,
   "metadata": {
    "collapsed": false
   },
   "outputs": [
    {
     "name": "stdout",
     "output_type": "stream",
     "text": [
      "[[ 5.006  3.418  1.464  0.244]\n",
      " [ 5.936  2.77   4.26   1.326]]\n"
     ]
    }
   ],
   "source": [
    "# Para aprendizaje no supervisado\n",
    "\n",
    "from sklearn.cluster import KMeans\n",
    "\n",
    "# Creamos el modelo\n",
    "kmeans = KMeans(n_clusters = 2)\n",
    "\n",
    "# Fijamos el modelo\n",
    "kmeans.fit(X)\n",
    "print (kmeans.cluster_centers_)"
   ]
  },
  {
   "cell_type": "code",
   "execution_count": 24,
   "metadata": {
    "collapsed": false
   },
   "outputs": [
    {
     "name": "stdout",
     "output_type": "stream",
     "text": [
      "[ 2.73946394  0.22599044]\n"
     ]
    }
   ],
   "source": [
    "# Reduccion de la dimension\n",
    "\n",
    "from sklearn.decomposition import PCA\n",
    "\n",
    "# Creamos el modelo\n",
    "pca = PCA(n_components=2)\n",
    "\n",
    "# Fijamos el modelo\n",
    "pca.fit(X)\n",
    "print (pca.explained_variance_)"
   ]
  },
  {
   "cell_type": "code",
   "execution_count": 25,
   "metadata": {
    "collapsed": false
   },
   "outputs": [
    {
     "data": {
      "text/plain": [
       "array([0, 1])"
      ]
     },
     "execution_count": 25,
     "metadata": {},
     "output_type": "execute_result"
    }
   ],
   "source": [
    "# Predictores\n",
    "\n",
    "model = LogisticRegression()\n",
    "model.fit(X, y)\n",
    "\n",
    "X_test = [[ 5.006,  3.418,  1.464,  0.244], [ 5.936,  2.77 ,  4.26 ,  1.326]]\n",
    "model.predict(X_test)"
   ]
  },
  {
   "cell_type": "code",
   "execution_count": 26,
   "metadata": {
    "collapsed": false
   },
   "outputs": [
    {
     "name": "stdout",
     "output_type": "stream",
     "text": [
      "[[ 0.97741151  0.02258849]\n",
      " [ 0.01544837  0.98455163]]\n"
     ]
    }
   ],
   "source": [
    "print (model.predict_proba(X_test))"
   ]
  },
  {
   "cell_type": "code",
   "execution_count": 30,
   "metadata": {
    "collapsed": false
   },
   "outputs": [
    {
     "data": {
      "text/plain": [
       "array([8])"
      ]
     },
     "execution_count": 30,
     "metadata": {},
     "output_type": "execute_result"
    }
   ],
   "source": [
    "# Ejemplo más avanzado de SVM,  usando SVC (support vector classification)\n",
    "\n",
    "from sklearn import svm\n",
    "digitos = datasets.load_digits()\n",
    "clasificador = svm.SVC(gamma=0.001, C=100.)\n",
    "\n",
    "# Fijamos el modelo\n",
    "\n",
    "clasificador.fit(digitos.data[:-1], digitos.target[:-1])  \n",
    "\n",
    "# Usamos los predictores en el modelo\n",
    "\n",
    "clasificador.predict(digitos.data[-1:])\n"
   ]
  },
  {
   "cell_type": "code",
   "execution_count": 33,
   "metadata": {
    "collapsed": false
   },
   "outputs": [
    {
     "name": "stdout",
     "output_type": "stream",
     "text": [
      "[[-1.65441341 -0.20660719]\n",
      " [-1.63509488  0.2988347 ]\n",
      " [-1.82037547  0.27141696]\n",
      " [-1.66207305  0.43021683]\n",
      " [-1.70358916 -0.21574051]]\n"
     ]
    }
   ],
   "source": [
    "# El metodo transform para aprendizaje no supervisado\n",
    "\n",
    "pca = PCA(n_components=2)\n",
    "pca.fit(X)\n",
    "\n",
    "print (pca.transform(X)[0:5,:])"
   ]
  },
  {
   "cell_type": "code",
   "execution_count": 36,
   "metadata": {
    "collapsed": false
   },
   "outputs": [
    {
     "name": "stdout",
     "output_type": "stream",
     "text": [
      "[[-1.65441341 -0.20660719]\n",
      " [-1.63509488  0.2988347 ]\n",
      " [-1.82037547  0.27141696]\n",
      " [-1.66207305  0.43021683]\n",
      " [-1.70358916 -0.21574051]]\n"
     ]
    }
   ],
   "source": [
    "# El metodo fit.transform\n",
    "\n",
    "pca = PCA(n_components=2)\n",
    "print (pca.fit_transform(X)[0:5,:])\n"
   ]
  },
  {
   "cell_type": "code",
   "execution_count": 37,
   "metadata": {
    "collapsed": false
   },
   "outputs": [
    {
     "data": {
      "text/plain": [
       "0.45000000000000001"
      ]
     },
     "execution_count": 37,
     "metadata": {},
     "output_type": "execute_result"
    }
   ],
   "source": [
    "# Ejemplo sobre el metodo Model\n",
    "\n",
    "# Utilizamos DummyClassifier un clasificador que hace predicciones simples\n",
    "\n",
    "from sklearn.dummy import DummyClassifier\n",
    "\n",
    "model = DummyClassifier()\n",
    "model.fit(X, y)\n",
    "\n",
    "model.score(X, y)\n"
   ]
  },
  {
   "cell_type": "markdown",
   "metadata": {},
   "source": [
    "## Algoritmos en machine learning\n",
    "\n",
    "### Aprendizaje supervisado\n",
    "\n",
    "\n",
    "Estos algoritmos consisten en una variable de salida/resultado (o variable dependiente) que ha de ser predicha a partir de un conjunto dado de predictores (variables independientes). Usando  este conjunto de variables, generamos una función que se asignan las entradas a las salidas deseadas. El proceso de formación continúa hasta que el modelo alcanza un nivel deseado de precisión en los datos de entrenamiento. Algunos ejemplos:\n",
    "\n",
    "- [**Linear Regression**](https://jeremykun.com/2013/08/18/linear-regression/).\n",
    "- [** Logistic Regression**](http://blog.yhat.com/posts/logistic-regression-and-python.html).\n",
    "- [**KNN**](https://jeremykun.com/2012/08/26/k-nearest-neighbors-and-handwritten-digit-classification/).\n",
    "- [**Random Forest**](http://www.analyticsvidhya.com/blog/2014/06/introduction-random-forest-simplified/).\n",
    "\n",
    "### Aprendizaje no supervisado\n",
    "\n",
    "En estos algoritmos, no tenemos ninguna variable objetivo o resultado para predecir/estimar. Se utiliza para la agrupación de la población en  diferentes grupos, lo que  es ampliamente utilizado para la segmentación de clientes en diferentes grupos por intervención específica. Algunos ejemplos :\n",
    "\n",
    "- [**K-Means**](https://jeremykun.com/2012/10/08/decision-trees-and-political-party-classification/).\n",
    "- [**Dimensionality Reduction Algorithms**](http://www.kdnuggets.com/2015/05/7-methods-data-dimensionality-reduction.html).\n",
    "\n",
    "### Aprendizaje por refuerzo\n",
    "\n",
    "Utilizando este algoritmo, la máquina está capacitada para tomar decisiones específicas. Funciona de la siguiente manera: la máquina está expuesta a un ambiente donde se entrena a sí misma continuamente mediante ensayo y error. Esta máquina aprende de la experiencia pasada y trata de captar el mejor conocimiento posible para tomar decisiones de negocio precisos. Un ejemplo:\n",
    "\n",
    "- Procesos de decisión de Markov.\n",
    "- Metodos de Montecarlo.\n"
   ]
  },
  {
   "cell_type": "markdown",
   "metadata": {},
   "source": [
    "### Regresión lineal\n",
    "\n",
    "Se utiliza para estimar los valores reales (costo de las casas, número de llamadas, las ventas totales, etc.) en base a la variables continuas. Aquí se establece una  relación entre las variables dependientes e independientes ajustando una  línea. Esta línea de mejor ajuste se conoce como `línea de regresión` y  es representado por una ecuación lineal:\n",
    "\n",
    "```\n",
    "Y = a*X + b\n",
    "\n",
    "```\n",
    "\n",
    "En esta ecuación:\n",
    "\n",
    "- `Y` : Variable dependiente\n",
    "- `a` : Pendiente\n",
    "- `X` : Variable independiente\n",
    "- `b` : Intercepto\n",
    "\n",
    "\n",
    "Estos coeficientes a y b son derivados basados en la minimización de la suma de la diferencias de cuadrados de la distancia entre los puntos de los datos y la línea de regresión.\n",
    "\n",
    "La regresión lineal es principalmente de dos tipos: `regresión lineal simple` y `regresión lineal múltiple`.\n",
    "\n",
    "La regresión lineal simple se caracteriza por una variable independiente, mientras que la  regresión lineal múltiple se caracteriza por múltiples variables independientes, además para encontrar  la mejor línea de ajuste, podemos fijar  una `regresión polinómica` o `curvilínea`. "
   ]
  },
  {
   "cell_type": "code",
   "execution_count": 9,
   "metadata": {
    "collapsed": false
   },
   "outputs": [
    {
     "name": "stdout",
     "output_type": "stream",
     "text": [
      "   CRIM:  -0.10717\n",
      "     ZN:   0.04640\n",
      "  INDUS:   0.02086\n",
      "   CHAS:   2.68856\n",
      "    NOX: -17.79576\n",
      "     RM:   3.80475\n",
      "    AGE:   0.00075\n",
      "    DIS:  -1.47576\n",
      "    RAD:   0.30566\n",
      "    TAX:  -0.01233\n",
      "PTRATIO:  -0.95346\n",
      "      B:   0.00939\n",
      "  LSTAT:  -0.52547\n"
     ]
    }
   ],
   "source": [
    "# Ejemplo: Pablo Fernández\n",
    "\n",
    "from sklearn import datasets\n",
    "\n",
    "# boston es un conjunto de datos para el análisis de los precios de las viviendas  de Boston.\n",
    "# El conjunto de datos tiene 506 muestras y 13 atributos\n",
    "boston = datasets.load_boston() \n",
    "\n",
    "\n",
    "from sklearn.linear_model import LinearRegression\n",
    "rl = LinearRegression(normalize=True) \n",
    "\n",
    "# Como sabemos el modelo a utilizar, usamos los estimadores\n",
    "\n",
    "rl.fit(boston.data, boston.target)\n",
    "\n",
    "# Veamos como los coeficientes que han sido asignados a cada atributo\n",
    "\n",
    "for (feature, coef) in zip(boston.feature_names, rl.coef_):\n",
    "    print('{:>7}: {: 9.5f}'.format(feature, coef))"
   ]
  },
  {
   "cell_type": "code",
   "execution_count": 12,
   "metadata": {
    "collapsed": false
   },
   "outputs": [
    {
     "data": {
      "image/png": "[encoded data removed]",
      "text/plain": [
       "<matplotlib.figure.Figure at 0x7fd19030b940>"
      ]
     },
     "metadata": {},
     "output_type": "display_data"
    }
   ],
   "source": [
    "# Visualicemos los datos\n",
    "\n",
    "#%matplotlib inline\n",
    "import matplotlib.pyplot as plt\n",
    "import numpy as np\n",
    "\n",
    "def plot_feature(feature):\n",
    "    f = (boston.feature_names == feature)\n",
    "    plt.scatter(boston.data[:,f], boston.target, c='b', alpha=0.3)\n",
    "    plt.plot(boston.data[:,f], boston.data[:,f]*rl.coef_[f] + rl.intercept_, 'k')\n",
    "    plt.legend(['Valor previsto', 'Valor actual'])\n",
    "    plt.xlabel(feature)\n",
    "    plt.ylabel(\"Valor medio en $1000's\")\n",
    "plot_feature('AGE')"
   ]
  },
  {
   "cell_type": "markdown",
   "metadata": {},
   "source": [
    "## Un ejemplo:"
   ]
  },
  {
   "cell_type": "markdown",
   "metadata": {},
   "source": [
    "El conjunto de datos tiene 150 instancias y 4 atributos. En nuestro primer paso, separamos el conjunto de datos , usando el %75 de la instancia para 'entrenar' nuestro clasificador y el 25% para evaluarlos."
   ]
  },
  {
   "cell_type": "code",
   "execution_count": 4,
   "metadata": {
    "collapsed": false
   },
   "outputs": [
    {
     "name": "stdout",
     "output_type": "stream",
     "text": [
      "(150, 4) (150,)\n",
      "[ 5.1  3.5  1.4  0.2] 0\n"
     ]
    }
   ],
   "source": [
    "from sklearn import datasets\n",
    "iris = datasets.load_iris()\n",
    "X_iris, Y_iris = iris.data, iris.target\n",
    "print (X_iris.shape, Y_iris.shape)\n",
    "print(X_iris[0], Y_iris[0])"
   ]
  },
  {
   "cell_type": "markdown",
   "metadata": {},
   "source": [
    "Estamos evaluando  ahora dos caracteristicas de `iris`: sepal width, sepal length de manera aleatoria el conjunto de evalaución. También calculamos el promedio, retamos el valor medio desde el valor caracteristico y dividimos el resultado por la desviacion estandar (Estandarización de valores).\n"
   ]
  },
  {
   "cell_type": "code",
   "execution_count": 25,
   "metadata": {
    "collapsed": false
   },
   "outputs": [
    {
     "name": "stdout",
     "output_type": "stream",
     "text": [
      "(112, 2) (112,)\n"
     ]
    }
   ],
   "source": [
    "from sklearn.cross_validation import train_test_split\n",
    "from sklearn.preprocessing import StandardScaler\n",
    "import matplotlib.pyplot as plt\n",
    "\n",
    "# Conseguimos el conjunto de datos solo con los dos primeros\n",
    "# atributos\n",
    "\n",
    "X,Y =X_iris[:, :2], Y_iris\n",
    "\n",
    "# Dividir el conjunto de datos en conjuntos de entrenamiento \n",
    "# testing\n",
    "\n",
    "X_entrenamiento, X_test, Y_entrenamiento, Y_test \\\n",
    "= train_test_split(X, Y, test_size = 0.25, random_state=34)\n",
    "print(X_entrenamiento.shape, Y_entrenamiento.shape)\n",
    "\n",
    "# Estandarizacion\n",
    "\n",
    "scaler = StandardScaler().fit(X_entrenamiento)\n",
    "X_entrenamiento = scaler.transform(X_entrenamiento)\n",
    "\n",
    "X_test =scaler.transform(X_test)\n",
    "# Graficando los datos de entranamiento usando pyplot\n",
    "\n",
    "colores = ['red', 'green', 'blue']\n",
    "for i in range(len(colores)):\n",
    "    px =X_entrenamiento[:,0][Y_entrenamiento == i]\n",
    "    py =X_entrenamiento[:, 1][Y_entrenamiento ==i]\n",
    "    plt.scatter(px, py, c =colores[i])\n",
    "\n",
    "plt.legend(iris.target_names)\n",
    "plt.xlabel(\"Sepal length\")\n",
    "plt.ylabel(\"Sepal width\")\n",
    "plt.show()"
   ]
  },
  {
   "cell_type": "markdown",
   "metadata": {},
   "source": [
    " La setosa es facilmente separable de las otras dos clases mientras que versicolor y virginica son muy desordenadas. Para implementar una clasificacion lineal, usamos `SGDClassifier` desde Scikit-learn.\n",
    " \n",
    " SGD  es el método del *descenso de gradiente estocástico*  que es muy útil para encontrar mínimos locales de una función."
   ]
  },
  {
   "cell_type": "code",
   "execution_count": null,
   "metadata": {
    "collapsed": false
   },
   "outputs": [
    {
     "name": "stdout",
     "output_type": "stream",
     "text": [
      "[[-28.67108892  22.96191474]\n",
      " [-11.32002052 -14.57276498]\n",
      " [  3.79132988   8.15912468]]\n",
      "[-26.45480613  -9.95033872  -8.79589017]\n"
     ]
    }
   ],
   "source": [
    "# Creamos un modelo lineal clasificatorio\n",
    "import numpy as np\n",
    "import matplotlib.pyplot as plt\n",
    "from sklearn.linear_model import SGDClassifier\n",
    "clf = SGDClassifier()\n",
    "\n",
    "#fijamos el clasificador (entrenamiento)\n",
    "clf.fit(X_entrenamiento, Y_entrenamiento)\n",
    "\n",
    "# Imprimimos los coeficientes del hiperplano que minimiza \n",
    "# loss function(funcion de perdida)\n",
    "\n",
    "print(clf.coef_)\n",
    "print(clf.intercept_)\n",
    "\n",
    "# Dibujar las 3 curvas de decision \n",
    "\n",
    "x_min, x_max = X_entrenamiento[:,0].min() -.5, X_entrenamiento[:,0].max() + .5\n",
    "y_min, y_max = X_entrenamiento[:,1].min() -.5, X_entrenamiento[:,1].max() + .5\n",
    "\n",
    "xs = np.arange(x_min, x_max, 0.5)\n",
    "fig, axes = plt.subplots(1,3)\n",
    "fig.set_size_inches(10,6)\n",
    "\n",
    "for i in [0,1,2]:\n",
    "    axes[i].set_aspect(\"equal\")\n",
    "    axes[i].set_title('Clase' + str(i) + 'versus el resto')\n",
    "    axes[i].set_xlim(x_min, x_max)\n",
    "    axes[i].set_ylim(y_min, y_max)\n",
    "    axes[i].set_xlabel(\"Longitud Sepal\")\n",
    "    axes[i].set_ylabel(\"Ancho Sepal\")\n",
    "    \n",
    "    plt.sca(axes[i])\n",
    "    \n",
    "    for j in range(len(colores)):\n",
    "        px =X_entrenamiento[:,0][Y_entrenamiento == j]\n",
    "        py =X_entrenamiento[:, 1][Y_entrenamiento ==j]\n",
    "        plt.scatter(px, py, c =colores[j])\n",
    "\n",
    "    ys = (-clf.intercept_[i] -xs*clf.coef_[i,0])/clf.coef_[i,1]\n",
    "    plt.plot(xs, ys, hold =True)\n",
    "plt.show()"
   ]
  },
  {
   "cell_type": "code",
   "execution_count": null,
   "metadata": {
    "collapsed": true
   },
   "outputs": [],
   "source": []
  }
 ],
 "metadata": {
  "kernelspec": {
   "display_name": "Python 3",
   "language": "python",
   "name": "python3"
  },
  "language_info": {
   "codemirror_mode": {
    "name": "ipython",
    "version": 3
   },
   "file_extension": ".py",
   "mimetype": "text/x-python",
   "name": "python",
   "nbconvert_exporter": "python",
   "pygments_lexer": "ipython3",
   "version": "3.5.1"
  }
 },
 "nbformat": 4,
 "nbformat_minor": 0
}
