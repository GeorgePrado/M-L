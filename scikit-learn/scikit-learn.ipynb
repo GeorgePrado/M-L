{
 "cells": [
  {
   "cell_type": "markdown",
   "metadata": {},
   "source": [
    "# Notas de Scikit-Learn\n",
    "\n",
    "Scipy y Numpy proporcionan herramientas y funcionalidades para diversas áreas científicas. Algunas veces necesitamos herramientas más avanzadas para temas muy específicos, es ahí donde los paquetes ** [scikit](https://scikits.appspot.com/)** intervienen. \n",
    "\n",
    "Por ejemplo tenemos:\n",
    "\n",
    "- Scikit-Image: Contiene rutina para procesmiento de imágenes en Scipy.\n",
    "- Scikit-Learn: Un conjunto de módulos en Python, para Machine Learning y Data Minning."
   ]
  },
  {
   "cell_type": "markdown",
   "metadata": {},
   "source": [
    "## Scikit-Learn\n",
    "\n",
    "Lectura:\n",
    "\n",
    " * [Tutorial de Scikit-Learn](http://scikit-learn.org/stable/tutorial/basic/tutorial.html).\n",
    "\n",
    "Cada método implementado sobre sckit-learn asume que la data viene en un conjunto de datos. Sckit-learn incluye algunos conjuntos de datos conocidos."
   ]
  },
  {
   "cell_type": "markdown",
   "metadata": {},
   "source": [
    "El conjunto de datos tiene 150 instancias y 4 atributos. En nuestro primer paso, separamos el conjunto de datos , usando el %75 de la instancia para 'entrenar' nuestro clasificador y el 25% para evaluarlos."
   ]
  },
  {
   "cell_type": "code",
   "execution_count": 4,
   "metadata": {
    "collapsed": false
   },
   "outputs": [
    {
     "name": "stdout",
     "output_type": "stream",
     "text": [
      "(150, 4) (150,)\n",
      "[ 5.1  3.5  1.4  0.2] 0\n"
     ]
    }
   ],
   "source": [
    "from sklearn import datasets\n",
    "iris = datasets.load_iris()\n",
    "X_iris, Y_iris = iris.data, iris.target\n",
    "print (X_iris.shape, Y_iris.shape)\n",
    "print(X_iris[0], Y_iris[0])"
   ]
  },
  {
   "cell_type": "markdown",
   "metadata": {},
   "source": [
    "Estamos evaluando  ahora dos caracteristicas de `iris`: sepal width, sepal length de manera aleatoria el conjunto de evalaución. También calculamos el promedio, retamos el valor medio desde el valor caracteristico y dividimos el resultado por la desviacion estandar (Estandarización de valores).\n"
   ]
  },
  {
   "cell_type": "code",
   "execution_count": 25,
   "metadata": {
    "collapsed": false
   },
   "outputs": [
    {
     "name": "stdout",
     "output_type": "stream",
     "text": [
      "(112, 2) (112,)\n"
     ]
    }
   ],
   "source": [
    "from sklearn.cross_validation import train_test_split\n",
    "from sklearn.preprocessing import StandardScaler\n",
    "import matplotlib.pyplot as plt\n",
    "\n",
    "# Conseguimos el conjunto de datos solo con los dos primeros\n",
    "# atributos\n",
    "\n",
    "X,Y =X_iris[:, :2], Y_iris\n",
    "\n",
    "# Dividir el conjunto de datos en conjuntos de entrenamiento \n",
    "# testing\n",
    "\n",
    "X_entrenamiento, X_test, Y_entrenamiento, Y_test \\\n",
    "= train_test_split(X, Y, test_size = 0.25, random_state=34)\n",
    "print(X_entrenamiento.shape, Y_entrenamiento.shape)\n",
    "\n",
    "# Estandarizacion\n",
    "\n",
    "scaler = StandardScaler().fit(X_entrenamiento)\n",
    "X_entrenamiento = scaler.transform(X_entrenamiento)\n",
    "\n",
    "X_test =scaler.transform(X_test)\n",
    "# Graficando los datos de entranamiento usando pyplot\n",
    "\n",
    "colores = ['red', 'green', 'blue']\n",
    "for i in range(len(colores)):\n",
    "    px =X_entrenamiento[:,0][Y_entrenamiento == i]\n",
    "    py =X_entrenamiento[:, 1][Y_entrenamiento ==i]\n",
    "    plt.scatter(px, py, c =colores[i])\n",
    "\n",
    "plt.legend(iris.target_names)\n",
    "plt.xlabel(\"Sepal length\")\n",
    "plt.ylabel(\"Sepal width\")\n",
    "plt.show()"
   ]
  },
  {
   "cell_type": "markdown",
   "metadata": {},
   "source": [
    " La setosa es facilmente separable de las otras dos clases mientras que versicolor y virginica son muy desordenadas. Para implementar una clasificacion lineal, usamos `SGDClassifier` desde Scikit-learn.\n",
    " \n",
    " SGD  es el método del *descenso de gradiente estocástico*  que es muy útil para encontrar mínimos locales de una función."
   ]
  },
  {
   "cell_type": "code",
   "execution_count": null,
   "metadata": {
    "collapsed": false
   },
   "outputs": [
    {
     "name": "stdout",
     "output_type": "stream",
     "text": [
      "[[-28.67108892  22.96191474]\n",
      " [-11.32002052 -14.57276498]\n",
      " [  3.79132988   8.15912468]]\n",
      "[-26.45480613  -9.95033872  -8.79589017]\n"
     ]
    }
   ],
   "source": [
    "# Creamos un modelo lineal clasificatorio\n",
    "import numpy as np\n",
    "import matplotlib.pyplot as plt\n",
    "from sklearn.linear_model import SGDClassifier\n",
    "clf = SGDClassifier()\n",
    "\n",
    "#fijamos el clasificador (entrenamiento)\n",
    "clf.fit(X_entrenamiento, Y_entrenamiento)\n",
    "\n",
    "# Imprimimos los coeficientes del hiperplano que minimiza \n",
    "# loss function(funcion de perdida)\n",
    "\n",
    "print(clf.coef_)\n",
    "print(clf.intercept_)\n",
    "\n",
    "# Dibujar las 3 curvas de decision \n",
    "\n",
    "x_min, x_max = X_entrenamiento[:,0].min() -.5, X_entrenamiento[:,0].max() + .5\n",
    "y_min, y_max = X_entrenamiento[:,1].min() -.5, X_entrenamiento[:,1].max() + .5\n",
    "\n",
    "xs = np.arange(x_min, x_max, 0.5)\n",
    "fig, axes = plt.subplots(1,3)\n",
    "fig.set_size_inches(10,6)\n",
    "\n",
    "for i in [0,1,2]:\n",
    "    axes[i].set_aspect(\"equal\")\n",
    "    axes[i].set_title('Clase' + str(i) + 'versus el resto')\n",
    "    axes[i].set_xlim(x_min, x_max)\n",
    "    axes[i].set_ylim(y_min, y_max)\n",
    "    axes[i].set_xlabel(\"Longitud Sepal\")\n",
    "    axes[i].set_ylabel(\"Ancho Sepal\")\n",
    "    \n",
    "    plt.sca(axes[i])\n",
    "    \n",
    "    for j in range(len(colores)):\n",
    "        px =X_entrenamiento[:,0][Y_entrenamiento == j]\n",
    "        py =X_entrenamiento[:, 1][Y_entrenamiento ==j]\n",
    "        plt.scatter(px, py, c =colores[j])\n",
    "\n",
    "    ys = (-clf.intercept_[i] -xs*clf.coef_[i,0])/clf.coef_[i,1]\n",
    "    plt.plot(xs, ys, hold =True)\n",
    "plt.show()"
   ]
  },
  {
   "cell_type": "code",
   "execution_count": null,
   "metadata": {
    "collapsed": true
   },
   "outputs": [],
   "source": []
  }
 ],
 "metadata": {
  "kernelspec": {
   "display_name": "Python 3",
   "language": "python",
   "name": "python3"
  },
  "language_info": {
   "codemirror_mode": {
    "name": "ipython",
    "version": 3
   },
   "file_extension": ".py",
   "mimetype": "text/x-python",
   "name": "python",
   "nbconvert_exporter": "python",
   "pygments_lexer": "ipython3",
   "version": "3.5.1"
  }
 },
 "nbformat": 4,
 "nbformat_minor": 0
}
