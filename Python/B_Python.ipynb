{
 "cells": [
  {
   "cell_type": "markdown",
   "metadata": {},
   "source": [
    "# Curso de Python Básico"
   ]
  },
  {
   "cell_type": "markdown",
   "metadata": {},
   "source": [
    "## El Zen de Python"
   ]
  },
  {
   "cell_type": "code",
   "execution_count": 129,
   "metadata": {
    "collapsed": false
   },
   "outputs": [],
   "source": [
    "import this"
   ]
  },
  {
   "cell_type": "markdown",
   "metadata": {},
   "source": [
    "### Formato de los espacios en blanco\n",
    "En [Python](https://www.python.org/)  se usa la **indentación**, a diferencia de otros lenguajes de programación, que usan llaves para delimitar bloques de código:\n",
    "\n",
    "\n"
   ]
  },
  {
   "cell_type": "code",
   "execution_count": 130,
   "metadata": {
    "collapsed": false
   },
   "outputs": [
    {
     "name": "stdout",
     "output_type": "stream",
     "text": [
      "Yo soy Kapu, y puedo ser tu amigo\n"
     ]
    }
   ],
   "source": [
    "# Clases y herencia en Python\n",
    "\n",
    "class Animalito():\n",
    "    def __init__(self, nombre):\n",
    "        self.nombre = nombre\n",
    "    \n",
    "    def decir_algo(self):\n",
    "        print (\"Yo soy\" + self.nombre)\n",
    "\n",
    "class Perrito(Animalito):\n",
    "    def decir_algo(self):\n",
    "        print (\"Yo soy \" +  self.nombre + \", y puedo ser tu amigo\")\n",
    "\n",
    "perrito = Perrito(\"Kapu\")\n",
    "perrito.decir_algo()"
   ]
  },
  {
   "cell_type": "markdown",
   "metadata": {},
   "source": []
  },
  {
   "cell_type": "markdown",
   "metadata": {},
   "source": [
    "## Listas\n",
    "\n",
    "Una de las estructuras fundamentales de Python, es sin lugar a dudas el de lista (list). Una lista es ordenación (Esto es similar a lo que en otros lenguajes puede ser llamado como array, pero con algo más de funcionalidad."
   ]
  },
  {
   "cell_type": "code",
   "execution_count": 131,
   "metadata": {
    "collapsed": false
   },
   "outputs": [
    {
     "data": {
      "text/plain": [
       "(0, 1, 9, 8)"
      ]
     },
     "execution_count": 131,
     "metadata": {},
     "output_type": "execute_result"
    }
   ],
   "source": [
    "lista_entero = [2, 5,6]\n",
    "lista_heterogenea = ['Python', 0.3, True]\n",
    "lista_de_lista = [lista_entero, lista_heterogenea]\n",
    "\n",
    "\n",
    "lista_longitud = len(lista_entero)\n",
    "lista_suma     = sum(lista_entero)\n",
    "\n",
    "lista_longitud\n",
    "lista_suma\n",
    "\n",
    "\n",
    "# Podemos conseguir el conjunto de elementos de una lista con corchetes\n",
    "\n",
    "x = list(range(10))\n",
    "zero = x[0]\n",
    "one  = x[1]\n",
    "nine  = x[-1]\n",
    "eight = x[-2]\n",
    "zero, one, nine, eight\n"
   ]
  },
  {
   "cell_type": "code",
   "execution_count": 132,
   "metadata": {
    "collapsed": false
   },
   "outputs": [
    {
     "data": {
      "text/plain": [
       "[-1, 1, 2, 3, 4, 5, 6, 7, 8, 9]"
      ]
     },
     "execution_count": 132,
     "metadata": {},
     "output_type": "execute_result"
    }
   ],
   "source": [
    "# Podemos modificar los valores de la lista\n",
    "\n",
    "x = list(range(10))\n",
    "x[0] = -1\n",
    "x"
   ]
  },
  {
   "cell_type": "markdown",
   "metadata": {},
   "source": [
    "Podemos ingresar 'corchetes' para dividir una lista"
   ]
  },
  {
   "cell_type": "code",
   "execution_count": 133,
   "metadata": {
    "collapsed": false
   },
   "outputs": [
    {
     "data": {
      "text/plain": [
       "[-1, 1, 2]"
      ]
     },
     "execution_count": 133,
     "metadata": {},
     "output_type": "execute_result"
    }
   ],
   "source": [
    "primeros_tres = x[:3]\n",
    "tres_ultimos  = x[3:]\n",
    "uno_al_cuatro = x[1:5]\n",
    "ultimos_tres = x[-3:]\n",
    "sin_el_primero_ultimo = x[1:-1]\n",
    "copia_de_x = x[:]\n",
    "primeros_tres"
   ]
  },
  {
   "cell_type": "code",
   "execution_count": 134,
   "metadata": {
    "collapsed": false
   },
   "outputs": [
    {
     "data": {
      "text/plain": [
       "[3, 4, 5, 6, 7, 8, 9]"
      ]
     },
     "execution_count": 134,
     "metadata": {},
     "output_type": "execute_result"
    }
   ],
   "source": [
    "tres_ultimos"
   ]
  },
  {
   "cell_type": "code",
   "execution_count": 135,
   "metadata": {
    "collapsed": false
   },
   "outputs": [
    {
     "data": {
      "text/plain": [
       "[1, 2, 3, 4, 5, 6, 7, 8]"
      ]
     },
     "execution_count": 135,
     "metadata": {},
     "output_type": "execute_result"
    }
   ],
   "source": [
    "sin_el_primero_ultimo"
   ]
  },
  {
   "cell_type": "markdown",
   "metadata": {},
   "source": [
    " Python tiene un operador **in** para verificar si un elemento pertenece a una lista. Esto implica que examina los elementos de la lista uno a la vez, de manera que es adecuado  usarlo  si es que la lista es muy pequeña."
   ]
  },
  {
   "cell_type": "code",
   "execution_count": 136,
   "metadata": {
    "collapsed": false
   },
   "outputs": [
    {
     "data": {
      "text/plain": [
       "True"
      ]
     },
     "execution_count": 136,
     "metadata": {},
     "output_type": "execute_result"
    }
   ],
   "source": [
    "'erika' in [\"Erika\", \"erika\", \"ErIka\"]"
   ]
  },
  {
   "cell_type": "code",
   "execution_count": 137,
   "metadata": {
    "collapsed": false
   },
   "outputs": [
    {
     "data": {
      "text/plain": [
       "False"
      ]
     },
     "execution_count": 137,
     "metadata": {},
     "output_type": "execute_result"
    }
   ],
   "source": [
    "0 in [1,2,3,4]"
   ]
  },
  {
   "cell_type": "markdown",
   "metadata": {},
   "source": [
    "Es facil, concatenar listas, usando la función `extend` :"
   ]
  },
  {
   "cell_type": "code",
   "execution_count": 138,
   "metadata": {
    "collapsed": false
   },
   "outputs": [
    {
     "data": {
      "text/plain": [
       "['Python', 3, 'C++', 1.2, ['JavaScript', 'R'], 3, 5, 7]"
      ]
     },
     "execution_count": 138,
     "metadata": {},
     "output_type": "execute_result"
    }
   ],
   "source": [
    "y = [\"Python\", 3, \"C++\", 1.2, [\"JavaScript\", \"R\"]]\n",
    "y.extend([3,5,7])\n",
    "y"
   ]
  },
  {
   "cell_type": "markdown",
   "metadata": {},
   "source": [
    "Es frecuente también agregar un elemento a la vez, usando la función `append` :"
   ]
  },
  {
   "cell_type": "code",
   "execution_count": 139,
   "metadata": {
    "collapsed": false
   },
   "outputs": [
    {
     "data": {
      "text/plain": [
       "[1, 3, 5, 7, 9]"
      ]
     },
     "execution_count": 139,
     "metadata": {},
     "output_type": "execute_result"
    }
   ],
   "source": [
    "z = [1, 3, 5, 7]\n",
    "z.append(9)\n",
    "z"
   ]
  },
  {
   "cell_type": "markdown",
   "metadata": {},
   "source": [
    "Es conveniente 'desempaquetar' listas si se conoce cuantos elementos ellos contienen, ya que de lo que contrario se puede encontrar un `ValueError`, sino tenemos el mismo número de elementos en ambos lados.  Es común usar un guión abajo, para un valor que estas lanzando:"
   ]
  },
  {
   "cell_type": "code",
   "execution_count": 140,
   "metadata": {
    "collapsed": false
   },
   "outputs": [
    {
     "data": {
      "text/plain": [
       "2"
      ]
     },
     "execution_count": 140,
     "metadata": {},
     "output_type": "execute_result"
    }
   ],
   "source": [
    "x, y = [1 , 2]\n",
    "_, y = [1 , 2]\n",
    "y"
   ]
  },
  {
   "cell_type": "markdown",
   "metadata": {},
   "source": [
    "## Tuplas\n",
    "\n",
    "Las tuplas son primas *inmutables* de las  listas. Casi todo lo que se puede hacer a una lista que\n",
    "no implica la modificación, se puede hacer para una tupla. Puede especificar una tupla utilizando\n",
    "paréntesis (o nada) en lugar de corchetes:"
   ]
  },
  {
   "cell_type": "code",
   "execution_count": 141,
   "metadata": {
    "collapsed": false
   },
   "outputs": [
    {
     "name": "stdout",
     "output_type": "stream",
     "text": [
      "Python R C++ Bash "
     ]
    }
   ],
   "source": [
    "a = 'Python', 'R', 'C++', 'Bash'\n",
    "a\n",
    "a[1]\n",
    "for x in a :\n",
    "    print(x, end=' ')"
   ]
  },
  {
   "cell_type": "markdown",
   "metadata": {},
   "source": [
    "La tuplas no se pueden modificar, es decir no se puede eliminar, agregar o editar algún valor dentro de la tupla."
   ]
  },
  {
   "cell_type": "code",
   "execution_count": 142,
   "metadata": {
    "collapsed": false
   },
   "outputs": [
    {
     "name": "stdout",
     "output_type": "stream",
     "text": [
      "No se puede modificar la tupla\n"
     ]
    }
   ],
   "source": [
    "lista1 = [1 ,3]\n",
    "tupla1 = (1,3)\n",
    "tupla2 = 4, 5\n",
    "lista1[1] = 8 # la lista es ahora [1,8]\n",
    "\n",
    "try:\n",
    "    tupla1[1] = 8\n",
    "except TypeError:\n",
    "    print (\"No se puede modificar la tupla\")"
   ]
  },
  {
   "cell_type": "markdown",
   "metadata": {},
   "source": [
    "Se pueden desempaquetar valores de alguna tupla en variables:\n"
   ]
  },
  {
   "cell_type": "code",
   "execution_count": 143,
   "metadata": {
    "collapsed": false
   },
   "outputs": [
    {
     "data": {
      "text/plain": [
       "2"
      ]
     },
     "execution_count": 143,
     "metadata": {},
     "output_type": "execute_result"
    }
   ],
   "source": [
    "divmod(23, 4)\n",
    "x ,y = divmod(23,8) # (2,7)\n",
    "x"
   ]
  },
  {
   "cell_type": "code",
   "execution_count": 144,
   "metadata": {
    "collapsed": false
   },
   "outputs": [
    {
     "data": {
      "text/plain": [
       "7"
      ]
     },
     "execution_count": 144,
     "metadata": {},
     "output_type": "execute_result"
    }
   ],
   "source": [
    "y"
   ]
  },
  {
   "cell_type": "markdown",
   "metadata": {},
   "source": [
    "Las tuplas son una manera conveniente de retornar múltiples valores de las funciones"
   ]
  },
  {
   "cell_type": "code",
   "execution_count": 145,
   "metadata": {
    "collapsed": true
   },
   "outputs": [],
   "source": [
    "def sum_and_product(x, y):\n",
    "    return (x + y),(x * y)\n",
    "\n",
    "sp = sum_and_product(2, 3) # igual a  (5, 6)\n",
    "s, p = sum_and_product(5, 10)"
   ]
  },
  {
   "cell_type": "code",
   "execution_count": 146,
   "metadata": {
    "collapsed": false
   },
   "outputs": [
    {
     "data": {
      "text/plain": [
       "15"
      ]
     },
     "execution_count": 146,
     "metadata": {},
     "output_type": "execute_result"
    }
   ],
   "source": [
    "s"
   ]
  },
  {
   "cell_type": "code",
   "execution_count": 147,
   "metadata": {
    "collapsed": false
   },
   "outputs": [
    {
     "data": {
      "text/plain": [
       "50"
      ]
     },
     "execution_count": 147,
     "metadata": {},
     "output_type": "execute_result"
    }
   ],
   "source": [
    "p"
   ]
  },
  {
   "cell_type": "markdown",
   "metadata": {},
   "source": [
    "## Diccionarios\n",
    "\n",
    "Una estructura fundamental de Python, es el diccionario, el cual está asociado con *valores* y *claves* y permite recuperar el valor correspondiente a la clave."
   ]
  },
  {
   "cell_type": "code",
   "execution_count": 148,
   "metadata": {
    "collapsed": false
   },
   "outputs": [
    {
     "data": {
      "text/plain": [
       "89"
      ]
     },
     "execution_count": 148,
     "metadata": {},
     "output_type": "execute_result"
    }
   ],
   "source": [
    "diccionario_vacio ={}\n",
    "diccionario_vacio1 = dict()\n",
    "notas = {'Cesar': 85, \"Milagros\": 89} # diccionario literal\n",
    "\n",
    "Mili_notas = notas[\"Milagros\"] # Mostramos el valor de una clave\n",
    "Mili_notas "
   ]
  },
  {
   "cell_type": "markdown",
   "metadata": {},
   "source": [
    "Conseguimos un `KeyError` si solicitas por una clave que no está en el diccionario"
   ]
  },
  {
   "cell_type": "code",
   "execution_count": 149,
   "metadata": {
    "collapsed": false
   },
   "outputs": [
    {
     "name": "stdout",
     "output_type": "stream",
     "text": [
      "No existen notas para checha!\n"
     ]
    }
   ],
   "source": [
    "try:\n",
    "    Checha_notas = notas[\"checha\"]\n",
    "except KeyError:\n",
    "    print (\"No existen notas para checha!\")"
   ]
  },
  {
   "cell_type": "code",
   "execution_count": 150,
   "metadata": {
    "collapsed": false
   },
   "outputs": [
    {
     "data": {
      "text/plain": [
       "True"
      ]
     },
     "execution_count": 150,
     "metadata": {},
     "output_type": "execute_result"
    }
   ],
   "source": [
    "# Verificamos la existencia de una clave usando: in\n",
    "\n",
    "Mili_tiene_notas = 'Milagros' in notas\n",
    "checha_tiene_notas = 'checha' in notas\n",
    "\n",
    "Mili_tiene_notas"
   ]
  },
  {
   "cell_type": "markdown",
   "metadata": {},
   "source": [
    "Los diccionarios tienen un método `get ` que retorna un valor por defecto (en lugar de mostrar una `excepción`, cuando miras  que la clave no está en el diccionario:"
   ]
  },
  {
   "cell_type": "code",
   "execution_count": 151,
   "metadata": {
    "collapsed": true
   },
   "outputs": [],
   "source": [
    "Mili_notas = notas.get(\"Milagros\", 0)\n",
    "Checha_notas = notas.get(\"checha\", 0) # igual a 0\n",
    "no_hay_notas = notas.get(\"Ninguna\")   # el valor por defecto es None"
   ]
  },
  {
   "cell_type": "code",
   "execution_count": 152,
   "metadata": {
    "collapsed": false
   },
   "outputs": [
    {
     "data": {
      "text/plain": [
       "0"
      ]
     },
     "execution_count": 152,
     "metadata": {},
     "output_type": "execute_result"
    }
   ],
   "source": [
    "Checha_notas"
   ]
  },
  {
   "cell_type": "code",
   "execution_count": 153,
   "metadata": {
    "collapsed": true
   },
   "outputs": [],
   "source": [
    "no_hay_notas"
   ]
  },
  {
   "cell_type": "markdown",
   "metadata": {},
   "source": [
    "Podemos asignar clave-valor usando los mismos corchetes\n"
   ]
  },
  {
   "cell_type": "code",
   "execution_count": 168,
   "metadata": {
    "collapsed": false
   },
   "outputs": [
    {
     "data": {
      "text/plain": [
       "{'Cesar': 91, 'Gabriela': 88, 'Milagros': 89}"
      ]
     },
     "execution_count": 168,
     "metadata": {},
     "output_type": "execute_result"
    }
   ],
   "source": [
    "notas['Gabriela'] = 88\n",
    "notas['Cesar'] = 91\n",
    "num_estudiantes = len(notas)\n",
    "notas"
   ]
  },
  {
   "cell_type": "markdown",
   "metadata": {},
   "source": [
    "Los diccionarios se usan como una manera simple de representar datos estructurados:"
   ]
  },
  {
   "cell_type": "code",
   "execution_count": 174,
   "metadata": {
    "collapsed": false
   },
   "outputs": [
    {
     "data": {
      "text/plain": [
       "{'hashtags': ['#data', '#science', '#datascience', '#python', '#R'],\n",
       " 'respuestas': 100,\n",
       " 'texto': 'M-L',\n",
       " 'usuario': 'C-Lara'}"
      ]
     },
     "execution_count": 174,
     "metadata": {},
     "output_type": "execute_result"
    }
   ],
   "source": [
    "tweet = {\n",
    "    \"usuario\" : \"C-Lara\",\n",
    "    \"texto\" : \"M-L\",\n",
    "    \"respuestas\" : 100,\n",
    "    \"hashtags\" : [\"#data\", \"#science\", \"#datascience\", \"#python\", \"#R\"]\n",
    "}\n",
    "tweet"
   ]
  },
  {
   "cell_type": "markdown",
   "metadata": {},
   "source": [
    "Además de buscar las claves específicas, podemos realizar todas las operaciones anteriores:"
   ]
  },
  {
   "cell_type": "code",
   "execution_count": 175,
   "metadata": {
    "collapsed": false
   },
   "outputs": [
    {
     "data": {
      "text/plain": [
       "True"
      ]
     },
     "execution_count": 175,
     "metadata": {},
     "output_type": "execute_result"
    }
   ],
   "source": [
    "tweet_claves  = tweet.keys() # lista todas las claves\n",
    "tweet_valores = tweet.values() # lista todos los valores\n",
    "tweet_items   = tweet.items()   # lista de (clave, valor) en tuplas\n",
    "\n",
    "'usuario' in tweet_claves\n",
    "'usuario' in  tweet\n",
    "'C-Lara'  in tweet_valores"
   ]
  },
  {
   "cell_type": "code",
   "execution_count": 176,
   "metadata": {
    "collapsed": false
   },
   "outputs": [
    {
     "data": {
      "text/plain": [
       "dict_items([('hashtags', ['#data', '#science', '#datascience', '#python', '#R']), ('usuario', 'C-Lara'), ('respuestas', 100), ('texto', 'M-L')])"
      ]
     },
     "execution_count": 176,
     "metadata": {},
     "output_type": "execute_result"
    }
   ],
   "source": [
    "tweet_items"
   ]
  },
  {
   "cell_type": "markdown",
   "metadata": {},
   "source": [
    "Las claves de los diccionarios deben ser inmutables; en particular, no puede utilizar una `list` como claves. Si\n",
    "es necesaria una clave se  debe usar una tupla o encontrar una manera de poner la clave en una cadena. \n",
    "\n"
   ]
  },
  {
   "cell_type": "markdown",
   "metadata": {},
   "source": [
    "El módulo **json** proporciona una API para convertir objetos de Python en memoria a una representación serializada conocido como JavaScript Object Notation (JSON). JSON tiene la ventaja de contar con implementaciones en muchos lenguajes (especialmente en JavaScript), lo que es adecuado para la comunicación entre aplicaciones. Por ejemplo:"
   ]
  },
  {
   "cell_type": "code",
   "execution_count": 180,
   "metadata": {
    "collapsed": false
   },
   "outputs": [
    {
     "data": {
      "text/plain": [
       "'{\"precio\": 542.23, \"nombre\": \"Python\", \"descarga\": 100}'"
      ]
     },
     "execution_count": 180,
     "metadata": {},
     "output_type": "execute_result"
    }
   ],
   "source": [
    "import json\n",
    "\n",
    "data = {\n",
    "   'nombre' : 'Python',\n",
    "   'descarga' : 100,\n",
    "   'precio' : 542.23\n",
    "}\n",
    "\n",
    "json_str = json.dumps(data)\n",
    "json_str   # Codificamos una estructura python en JSON"
   ]
  },
  {
   "cell_type": "code",
   "execution_count": 181,
   "metadata": {
    "collapsed": false
   },
   "outputs": [
    {
     "data": {
      "text/plain": [
       "dict"
      ]
     },
     "execution_count": 181,
     "metadata": {},
     "output_type": "execute_result"
    }
   ],
   "source": [
    "# Realizamos el proceso inverso\n",
    "\n",
    "data = json.loads(json_str)\n",
    "type(data)"
   ]
  },
  {
   "cell_type": "markdown",
   "metadata": {},
   "source": [
    "EL formato JSON, es casi idéntico a la sintaxis de Python, salvo, algunas diferencias. Por ejemplo `True` es llevado a `true`, `False` es llevado a `false` y `None` es llevado a `null`:"
   ]
  },
  {
   "cell_type": "code",
   "execution_count": 182,
   "metadata": {
    "collapsed": false
   },
   "outputs": [
    {
     "data": {
      "text/plain": [
       "'false'"
      ]
     },
     "execution_count": 182,
     "metadata": {},
     "output_type": "execute_result"
    }
   ],
   "source": [
    "json.dumps(False)"
   ]
  },
  {
   "cell_type": "code",
   "execution_count": 183,
   "metadata": {
    "collapsed": false
   },
   "outputs": [
    {
     "data": {
      "text/plain": [
       "'{\"a\": true, \"c\": null, \"b\": \"Hello\"}'"
      ]
     },
     "execution_count": 183,
     "metadata": {},
     "output_type": "execute_result"
    }
   ],
   "source": [
    "d = {'a': True,\n",
    "     'b': 'Hello',\n",
    "     'c': None}\n",
    "json.dumps(d)"
   ]
  },
  {
   "cell_type": "markdown",
   "metadata": {
    "collapsed": true
   },
   "source": [
    "### Aleatoriedad \n",
    "\n",
    "En análisis de datos, es frecuente generar números aleatorios, el cual puede hacerse con el módulo [random](https://docs.python.org/3.0/library/random.html):"
   ]
  },
  {
   "cell_type": "code",
   "execution_count": 154,
   "metadata": {
    "collapsed": false
   },
   "outputs": [
    {
     "data": {
      "text/plain": [
       "[0.9429593602379831,\n",
       " 0.025639681733548914,\n",
       " 0.6406886414189066,\n",
       " 0.2602541506323802]"
      ]
     },
     "execution_count": 154,
     "metadata": {},
     "output_type": "execute_result"
    }
   ],
   "source": [
    "import random \n",
    "\n",
    "cuatro_elementos_aleatorios = [random.random() for _ in range(4)]\n",
    "cuatro_elementos_aleatorios"
   ]
  },
  {
   "cell_type": "markdown",
   "metadata": {},
   "source": [
    "El módulo random, produce [números pseudoaleatorios](https://es.wikipedia.org/wiki/N%C3%BAmero_pseudoaleatorio). Las funciones a las que hacemos referencia, cada vez que son invocadas, devuelven un valor de una secuencia de números predeterminada. Esta secuencia tiene un periodo bastante largo, es decir, es necesario obtener muchos números antes de que se vuelva a reproducir la misma secuencia. De ahí, el tratamiento de pseudo (o falso), aunque la utilidad que nos ofrezca sea equivalente al de los números aleatorios. Cuando nos interese obtener varias veces la misma secuencia de números pseudoaleatoria se puede utilizar la función  [random.seed](http://stackoverflow.com/questions/22639587/random-seed-what-does-it-do)  que fija mediante una \"semilla\" el mismo comienzo en cada secuencia, permitiendo con ello obtener series con los mismos valores. \n"
   ]
  },
  {
   "cell_type": "code",
   "execution_count": 155,
   "metadata": {
    "collapsed": false
   },
   "outputs": [
    {
     "name": "stdout",
     "output_type": "stream",
     "text": [
      "0.23604808973743452\n",
      "0.23604808973743452\n",
      "0.23604808973743452\n",
      "0.23604808973743452\n"
     ]
    }
   ],
   "source": [
    "random.seed(4)\n",
    "print (random.random())\n",
    "random.seed(4)\n",
    "print (random.random())\n",
    "random.seed(4)\n",
    "print (random.random())\n",
    "random.seed(4)\n",
    "print (random.random())\n"
   ]
  },
  {
   "cell_type": "markdown",
   "metadata": {},
   "source": [
    "Algunas veces usamos la función `random.randrange` que devuelve enteros que van desde un valor inicial a otro final separados entre sí un número de valores determinados. Esta separación (o paso) se utiliza en primer lugar con el valor inicial para calcular el siguiente valor y los sucesivos hasta llegar al valor final o al más cercano posible. "
   ]
  },
  {
   "cell_type": "code",
   "execution_count": 156,
   "metadata": {
    "collapsed": false
   },
   "outputs": [
    {
     "data": {
      "text/plain": [
       "3"
      ]
     },
     "execution_count": 156,
     "metadata": {},
     "output_type": "execute_result"
    }
   ],
   "source": [
    "random.randrange(3, 6) # Escoge aleatoriamente desde el rango[3,4,5]"
   ]
  },
  {
   "cell_type": "markdown",
   "metadata": {},
   "source": [
    "Hay otros métodos que también pueden ser convenientes. `random.shuffle` 'mezcla' o cambia aleatoriamente el orden de los elementos de una lista antes de realizar la selección de alguno de ellos. "
   ]
  },
  {
   "cell_type": "code",
   "execution_count": 157,
   "metadata": {
    "collapsed": false
   },
   "outputs": [
    {
     "name": "stdout",
     "output_type": "stream",
     "text": [
      "[4, 1, 8, 3, 5, 9, 0, 2, 7, 6]\n"
     ]
    }
   ],
   "source": [
    "hasta_diez = list(range(10))\n",
    "random.shuffle(hasta_diez)\n",
    "print (hasta_diez)"
   ]
  },
  {
   "cell_type": "markdown",
   "metadata": {},
   "source": [
    "Si necesitamos aleatoriamente escoger un elemento de una lista, podemos usar la función `random.choice`"
   ]
  },
  {
   "cell_type": "code",
   "execution_count": 158,
   "metadata": {
    "collapsed": false
   },
   "outputs": [
    {
     "data": {
      "text/plain": [
       "'Python'"
      ]
     },
     "execution_count": 158,
     "metadata": {},
     "output_type": "execute_result"
    }
   ],
   "source": [
    "mis_lenguajes_favoritos = random.choice(['Python', 'R', 'JavaScript', 'SQL', \"C\"])\n",
    "mis_lenguajes_favoritos"
   ]
  },
  {
   "cell_type": "markdown",
   "metadata": {},
   "source": [
    "Para escoger de manera aleatoria una muestra de elementos sin reemplazamiento ( sin duplicados), podemos usar la función \n",
    "`random.sample`"
   ]
  },
  {
   "cell_type": "code",
   "execution_count": 159,
   "metadata": {
    "collapsed": false
   },
   "outputs": [
    {
     "data": {
      "text/plain": [
       "[14, 33, 34, 23, 17, 49]"
      ]
     },
     "execution_count": 159,
     "metadata": {},
     "output_type": "execute_result"
    }
   ],
   "source": [
    "numeros_loteria = list(range(60))\n",
    "numeros_ganadores = random.sample(numeros_loteria, 6)\n",
    "numeros_ganadores"
   ]
  },
  {
   "cell_type": "markdown",
   "metadata": {},
   "source": [
    "Para escoger una muestra de elementos con reemplazo (se permite duplicados), se hace llamadas múltiples a `random.choice`:"
   ]
  },
  {
   "cell_type": "code",
   "execution_count": 160,
   "metadata": {
    "collapsed": false
   },
   "outputs": [
    {
     "data": {
      "text/plain": [
       "[2, 1, 4, 3]"
      ]
     },
     "execution_count": 160,
     "metadata": {},
     "output_type": "execute_result"
    }
   ],
   "source": [
    "cuatro_con_reemplazamiento = [random.choice(list(range(10)) ) for _ in range(4)]\n",
    "cuatro_con_reemplazamiento"
   ]
  },
  {
   "cell_type": "markdown",
   "metadata": {},
   "source": [
    "## Expresiones regulares \n",
    "\n",
    "Las [expresiones regulares](https://docs.python.org/3/library/re.html) proporcionan una manera de buscar patrones en los textos. Estas son increiblemente útiles, pero bastante complicadas, de forma que hay libros enteros escritos acerca de ellos. Mostremos algunos ejemplos acerca de sus aplicaciones\n",
    "\n",
    "El método `re.search()` toma un patrón sobre  expresión regular y una cadena y busca ese patrón dentro de la cadena. Si la búsqueda es exitosa, `search()` devuelve un objeto que cumple con ese patrón o `None` en caso contrario. Por lo tanto, la búsqueda es generalmente seguida  por una sentencia `if` para comprobar si la búsqueda tuvo éxito.\n"
   ]
  },
  {
   "cell_type": "code",
   "execution_count": 161,
   "metadata": {
    "collapsed": false
   },
   "outputs": [
    {
     "name": "stdout",
     "output_type": "stream",
     "text": [
      "Encontramos la  palabra:cat\n"
     ]
    }
   ],
   "source": [
    "import re\n",
    "\n",
    "str = 'un ejemplo de  palabra:cat!!'\n",
    "match = re.search(r'palabra:\\w\\w\\w', str)\n",
    "if match:\n",
    "    print ('Encontramos la ', match.group() )\n",
    "else:\n",
    "    print ('palabra no encontrada ')\n"
   ]
  },
  {
   "cell_type": "markdown",
   "metadata": {},
   "source": [
    "El módulo `re` incluye funciones  para trabajar con expresiones regulares como cadena de textos, pero es usualmente más eficiente *compilar* las expresiones que tu programa usa frecuentemente. La función `compile()` convierte una cadena en un `RegexObject`."
   ]
  },
  {
   "cell_type": "code",
   "execution_count": 162,
   "metadata": {
    "collapsed": false
   },
   "outputs": [
    {
     "name": "stdout",
     "output_type": "stream",
     "text": [
      " Buscando por \"sc\" en\"Scala y python son lenguajes de programacion?\" ->\n",
      "No hay emparejamientos\n",
      " Buscando por \"py\" en\"Scala y python son lenguajes de programacion?\" ->\n",
      "Encontramos un emparejamiento\n"
     ]
    }
   ],
   "source": [
    "import re\n",
    "\n",
    "# Pre-compilamos el patron del texto\n",
    "\n",
    "regexes = [re.compile(p) for p in ['sc',\n",
    "                                  'py']\n",
    "          ]\n",
    "texto = \"Scala y python son lenguajes de programacion?\"\n",
    "\n",
    "for regex in regexes:\n",
    "    print(' Buscando por \"%s\" en\"%s\" ->' %(regex.pattern, texto),)\n",
    "    if regex.search(texto):\n",
    "        print ('Encontramos un emparejamiento')\n",
    "    else:\n",
    "        print ('No hay emparejamientos')\n"
   ]
  },
  {
   "cell_type": "markdown",
   "metadata": {
    "collapsed": true
   },
   "source": [
    "### Enumerate \n",
    "\n",
    "[enumerate](https://docs.python.org/3/library/enum.html) es una función integrada de Python. Su utilidad no se puede resumir en una sóla línea.  Sin embargo, la mayoría de los recién llegados e incluso algunos programadores avanzados no son conscientes de ello. Con esta función se  nos permite iterar sobre algo y tener un contador automático. \n",
    "\n",
    "```python\n",
    "for i, valor in enumerate(lista):\n",
    "    print(i, valor)\n",
    "```\n",
    "\n",
    "Aquí unos ejemplos:"
   ]
  },
  {
   "cell_type": "code",
   "execution_count": 163,
   "metadata": {
    "collapsed": false
   },
   "outputs": [
    {
     "name": "stdout",
     "output_type": "stream",
     "text": [
      "1 R\n",
      "2 Python\n",
      "3 C++\n",
      "4 JavaScript\n"
     ]
    }
   ],
   "source": [
    "mis_lenguajes= ['R', 'Python', \"C++\", \"JavaScript\"]\n",
    "for i, lenguajes in enumerate(mis_lenguajes, 1):\n",
    "    print(i, lenguajes)"
   ]
  },
  {
   "cell_type": "markdown",
   "metadata": {},
   "source": [
    "### La función zip\n",
    "\n",
    "Muchas veces vamos a necesitar  comprimir dos o más listas juntas. La [función zip](https://docs.python.org/3.3/library/functions.html#zip) transforma varias listas en una única lista de tuplas de elementos correspondientes:\n",
    "\n",
    "\n"
   ]
  },
  {
   "cell_type": "code",
   "execution_count": 164,
   "metadata": {
    "collapsed": false
   },
   "outputs": [
    {
     "data": {
      "text/plain": [
       "[('Erika', 1), ('Delia', 2), ('Milagros', 3)]"
      ]
     },
     "execution_count": 164,
     "metadata": {},
     "output_type": "execute_result"
    }
   ],
   "source": [
    "lista1 = ['Erika', 'Delia', 'Milagros']\n",
    "lista2 = [1,2,3]\n",
    "lista  = zip(lista1, lista2)\n",
    "list(lista)"
   ]
  },
  {
   "cell_type": "markdown",
   "metadata": {},
   "source": [
    "Si las listas tienen diferentes longitud, zip se detiene tan pronto como la primera lista finaliza. Tu puedes 'descomprimir' una lista, usando un 'truco'"
   ]
  },
  {
   "cell_type": "code",
   "execution_count": 165,
   "metadata": {
    "collapsed": false
   },
   "outputs": [
    {
     "data": {
      "text/plain": [
       "('Erika', 'Delia', 'Milagros')"
      ]
     },
     "execution_count": 165,
     "metadata": {},
     "output_type": "execute_result"
    }
   ],
   "source": [
    "chicas = [('Erika', 1), ('Delia', 2), ('Milagros', 3)]\n",
    "lista1, lista2 = zip(*chicas)\n",
    "lista1"
   ]
  },
  {
   "cell_type": "code",
   "execution_count": 166,
   "metadata": {
    "collapsed": false
   },
   "outputs": [
    {
     "data": {
      "text/plain": [
       "(1, 2, 3)"
      ]
     },
     "execution_count": 166,
     "metadata": {},
     "output_type": "execute_result"
    }
   ],
   "source": [
    "lista2"
   ]
  },
  {
   "cell_type": "code",
   "execution_count": null,
   "metadata": {
    "collapsed": true
   },
   "outputs": [],
   "source": []
  }
 ],
 "metadata": {
  "kernelspec": {
   "display_name": "Python 3",
   "language": "python",
   "name": "python3"
  },
  "language_info": {
   "codemirror_mode": {
    "name": "ipython",
    "version": 3
   },
   "file_extension": ".py",
   "mimetype": "text/x-python",
   "name": "python",
   "nbconvert_exporter": "python",
   "pygments_lexer": "ipython3",
   "version": "3.5.1"
  }
 },
 "nbformat": 4,
 "nbformat_minor": 0
}
