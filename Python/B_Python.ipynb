{
 "cells": [
  {
   "cell_type": "markdown",
   "metadata": {},
   "source": [
    "# Curso de Python Básico"
   ]
  },
  {
   "cell_type": "markdown",
   "metadata": {},
   "source": [
    "## El Zen de Python"
   ]
  },
  {
   "cell_type": "code",
   "execution_count": 38,
   "metadata": {
    "collapsed": false
   },
   "outputs": [],
   "source": [
    "import this"
   ]
  },
  {
   "cell_type": "markdown",
   "metadata": {},
   "source": [
    "### Formato de los espacios en blanco\n",
    "En [Python](https://www.python.org/)  se usa la **indentación**, a diferencia de otros lenguajes de programación, que usan llaves para delimitar bloques de código:\n",
    "\n",
    "\n"
   ]
  },
  {
   "cell_type": "code",
   "execution_count": 39,
   "metadata": {
    "collapsed": false
   },
   "outputs": [
    {
     "name": "stdout",
     "output_type": "stream",
     "text": [
      "Yo soy Kapu, y puedo ser tu amigo\n"
     ]
    }
   ],
   "source": [
    "# Clases y herencia en Python\n",
    "\n",
    "class Animalito():\n",
    "    def __init__(self, nombre):\n",
    "        self.nombre = nombre\n",
    "    \n",
    "    def decir_algo(self):\n",
    "        print (\"Yo soy\" + self.nombre)\n",
    "\n",
    "class Perrito(Animalito):\n",
    "    def decir_algo(self):\n",
    "        print (\"Yo soy \" +  self.nombre + \", y puedo ser tu amigo\")\n",
    "\n",
    "perrito = Perrito(\"Kapu\")\n",
    "perrito.decir_algo()"
   ]
  },
  {
   "cell_type": "markdown",
   "metadata": {},
   "source": []
  },
  {
   "cell_type": "markdown",
   "metadata": {},
   "source": [
    "## Listas\n",
    "\n",
    "Una de las estructuras fundamentales de Python, es sin lugar a dudas el de lista (list). Una lista es ordenación (Esto es similar a lo que en otros lenguajes puede ser llamado como array, pero con algo más de funcionalidad."
   ]
  },
  {
   "cell_type": "code",
   "execution_count": 40,
   "metadata": {
    "collapsed": false
   },
   "outputs": [
    {
     "data": {
      "text/plain": [
       "(0, 1, 9, 8)"
      ]
     },
     "execution_count": 40,
     "metadata": {},
     "output_type": "execute_result"
    }
   ],
   "source": [
    "lista_entero = [2, 5,6]\n",
    "lista_heterogenea = ['Python', 0.3, True]\n",
    "lista_de_lista = [lista_entero, lista_heterogenea]\n",
    "\n",
    "\n",
    "lista_longitud = len(lista_entero)\n",
    "lista_suma     = sum(lista_entero)\n",
    "\n",
    "lista_longitud\n",
    "lista_suma\n",
    "\n",
    "\n",
    "# Podemos conseguir el conjunto de elementos de una lista con corchetes\n",
    "\n",
    "x = list(range(10))\n",
    "zero = x[0]\n",
    "one  = x[1]\n",
    "nine  = x[-1]\n",
    "eight = x[-2]\n",
    "zero, one, nine, eight\n"
   ]
  },
  {
   "cell_type": "code",
   "execution_count": 41,
   "metadata": {
    "collapsed": false
   },
   "outputs": [
    {
     "data": {
      "text/plain": [
       "[-1, 1, 2, 3, 4, 5, 6, 7, 8, 9]"
      ]
     },
     "execution_count": 41,
     "metadata": {},
     "output_type": "execute_result"
    }
   ],
   "source": [
    "# Podemos modificar los valores de la lista\n",
    "\n",
    "x = list(range(10))\n",
    "x[0] = -1\n",
    "x"
   ]
  },
  {
   "cell_type": "markdown",
   "metadata": {},
   "source": [
    "Podemos ingresar 'corchetes' para dividir una lista"
   ]
  },
  {
   "cell_type": "code",
   "execution_count": 42,
   "metadata": {
    "collapsed": false
   },
   "outputs": [
    {
     "data": {
      "text/plain": [
       "[-1, 1, 2]"
      ]
     },
     "execution_count": 42,
     "metadata": {},
     "output_type": "execute_result"
    }
   ],
   "source": [
    "primeros_tres = x[:3]\n",
    "tres_ultimos  = x[3:]\n",
    "uno_al_cuatro = x[1:5]\n",
    "ultimos_tres = x[-3:]\n",
    "sin_el_primero_ultimo = x[1:-1]\n",
    "copia_de_x = x[:]\n",
    "primeros_tres"
   ]
  },
  {
   "cell_type": "code",
   "execution_count": 43,
   "metadata": {
    "collapsed": false
   },
   "outputs": [
    {
     "data": {
      "text/plain": [
       "[3, 4, 5, 6, 7, 8, 9]"
      ]
     },
     "execution_count": 43,
     "metadata": {},
     "output_type": "execute_result"
    }
   ],
   "source": [
    "tres_ultimos"
   ]
  },
  {
   "cell_type": "code",
   "execution_count": 44,
   "metadata": {
    "collapsed": false
   },
   "outputs": [
    {
     "data": {
      "text/plain": [
       "[1, 2, 3, 4, 5, 6, 7, 8]"
      ]
     },
     "execution_count": 44,
     "metadata": {},
     "output_type": "execute_result"
    }
   ],
   "source": [
    "sin_el_primero_ultimo"
   ]
  },
  {
   "cell_type": "markdown",
   "metadata": {},
   "source": [
    " Python tiene un operador **in** para verificar si un elemento pertenece a una lista. Esto implica que examina los elementos de la lista uno a la vez, de manera que es adecuado  usarlo  si es que la lista es muy pequeña."
   ]
  },
  {
   "cell_type": "code",
   "execution_count": 49,
   "metadata": {
    "collapsed": false
   },
   "outputs": [
    {
     "data": {
      "text/plain": [
       "True"
      ]
     },
     "execution_count": 49,
     "metadata": {},
     "output_type": "execute_result"
    }
   ],
   "source": [
    "'erika' in [\"Erika\", \"erika\", \"ErIka\"]"
   ]
  },
  {
   "cell_type": "code",
   "execution_count": 50,
   "metadata": {
    "collapsed": false
   },
   "outputs": [
    {
     "data": {
      "text/plain": [
       "False"
      ]
     },
     "execution_count": 50,
     "metadata": {},
     "output_type": "execute_result"
    }
   ],
   "source": [
    "0 in [1,2,3,4]"
   ]
  },
  {
   "cell_type": "markdown",
   "metadata": {},
   "source": [
    "Es facil, concatenar listas, usando la función `extend` :"
   ]
  },
  {
   "cell_type": "code",
   "execution_count": 51,
   "metadata": {
    "collapsed": false
   },
   "outputs": [
    {
     "data": {
      "text/plain": [
       "['Python', 3, 'C++', 1.2, ['JavaScript', 'R'], 3, 5, 7]"
      ]
     },
     "execution_count": 51,
     "metadata": {},
     "output_type": "execute_result"
    }
   ],
   "source": [
    "y = [\"Python\", 3, \"C++\", 1.2, [\"JavaScript\", \"R\"]]\n",
    "y.extend([3,5,7])\n",
    "y"
   ]
  },
  {
   "cell_type": "markdown",
   "metadata": {},
   "source": [
    "Es frecuente también agregar un elemento a la vez, usando la función `append` :"
   ]
  },
  {
   "cell_type": "code",
   "execution_count": 54,
   "metadata": {
    "collapsed": false
   },
   "outputs": [
    {
     "data": {
      "text/plain": [
       "[1, 3, 5, 7, 9]"
      ]
     },
     "execution_count": 54,
     "metadata": {},
     "output_type": "execute_result"
    }
   ],
   "source": [
    "z = [1, 3, 5, 7]\n",
    "z.append(9)\n",
    "z"
   ]
  },
  {
   "cell_type": "markdown",
   "metadata": {},
   "source": [
    "Es conveniente 'desempaquetar' listas si se conoce cuantos elementos ellos contienen, ya que de lo que contrario se puede encontrar un `ValueError`, sino tenemos el mismo número de elementos en ambos lados.  Es común usar un guión abajo, para un valor que estas lanzando:"
   ]
  },
  {
   "cell_type": "code",
   "execution_count": 55,
   "metadata": {
    "collapsed": true
   },
   "outputs": [],
   "source": []
  },
  {
   "cell_type": "code",
   "execution_count": null,
   "metadata": {
    "collapsed": true
   },
   "outputs": [],
   "source": []
  },
  {
   "cell_type": "markdown",
   "metadata": {
    "collapsed": true
   },
   "source": [
    "### Enumerate \n",
    "\n",
    "[enumerate](https://docs.python.org/3/library/enum.html) es una función integrada de Python. Su utilidad no se puede resumir en una sóla línea.  Sin embargo, la mayoría de los recién llegados e incluso algunos programadores avanzados no son conscientes de ello. Con esta función se  nos permite iterar sobre algo y tener un contador automático. \n",
    "\n",
    "```python\n",
    "for i, valor in enumerate(lista):\n",
    "    print(i, valor)\n",
    "```\n",
    "\n",
    "Aquí unos ejemplos:"
   ]
  },
  {
   "cell_type": "code",
   "execution_count": 45,
   "metadata": {
    "collapsed": false
   },
   "outputs": [
    {
     "name": "stdout",
     "output_type": "stream",
     "text": [
      "1 R\n",
      "2 Python\n",
      "3 C++\n",
      "4 JavaScript\n"
     ]
    }
   ],
   "source": [
    "mis_lenguajes= ['R', 'Python', \"C++\", \"JavaScript\"]\n",
    "for i, lenguajes in enumerate(mis_lenguajes, 1):\n",
    "    print(i, lenguajes)"
   ]
  },
  {
   "cell_type": "markdown",
   "metadata": {},
   "source": [
    "### La función zip\n",
    "\n",
    "Muchas veces vamos a necesitar  comprimir dos o más listas juntas. La [función zip](https://docs.python.org/3.3/library/functions.html#zip) transforma varias listas en una única lista de tuplas de elementos correspondientes:\n",
    "\n",
    "\n"
   ]
  },
  {
   "cell_type": "code",
   "execution_count": 46,
   "metadata": {
    "collapsed": false
   },
   "outputs": [
    {
     "data": {
      "text/plain": [
       "[('Erika', 1), ('Delia', 2), ('Milagros', 3)]"
      ]
     },
     "execution_count": 46,
     "metadata": {},
     "output_type": "execute_result"
    }
   ],
   "source": [
    "lista1 = ['Erika', 'Delia', 'Milagros']\n",
    "lista2 = [1,2,3]\n",
    "lista  = zip(lista1, lista2)\n",
    "list(lista)"
   ]
  },
  {
   "cell_type": "markdown",
   "metadata": {},
   "source": [
    "Si las listas tienen diferentes longitud, zip se detiene tan pronto como la primera lista finaliza. Tu puedes 'descomprimir' una lista, usando un 'truco'"
   ]
  },
  {
   "cell_type": "code",
   "execution_count": 47,
   "metadata": {
    "collapsed": false
   },
   "outputs": [
    {
     "data": {
      "text/plain": [
       "('Erika', 'Delia', 'Milagros')"
      ]
     },
     "execution_count": 47,
     "metadata": {},
     "output_type": "execute_result"
    }
   ],
   "source": [
    "chicas = [('Erika', 1), ('Delia', 2), ('Milagros', 3)]\n",
    "lista1, lista2 = zip(*chicas)\n",
    "lista1"
   ]
  },
  {
   "cell_type": "code",
   "execution_count": 48,
   "metadata": {
    "collapsed": false
   },
   "outputs": [
    {
     "data": {
      "text/plain": [
       "(1, 2, 3)"
      ]
     },
     "execution_count": 48,
     "metadata": {},
     "output_type": "execute_result"
    }
   ],
   "source": [
    "lista2"
   ]
  },
  {
   "cell_type": "code",
   "execution_count": null,
   "metadata": {
    "collapsed": true
   },
   "outputs": [],
   "source": []
  }
 ],
 "metadata": {
  "kernelspec": {
   "display_name": "Python 3",
   "language": "python",
   "name": "python3"
  },
  "language_info": {
   "codemirror_mode": {
    "name": "ipython",
    "version": 3
   },
   "file_extension": ".py",
   "mimetype": "text/x-python",
   "name": "python",
   "nbconvert_exporter": "python",
   "pygments_lexer": "ipython3",
   "version": "3.5.1"
  }
 },
 "nbformat": 4,
 "nbformat_minor": 0
}
