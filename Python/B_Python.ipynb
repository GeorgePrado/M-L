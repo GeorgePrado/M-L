{
 "cells": [
  {
   "cell_type": "markdown",
   "metadata": {},
   "source": [
    "# Curso de Python Básico"
   ]
  },
  {
   "cell_type": "markdown",
   "metadata": {},
   "source": [
    "Referencias importantes:\n",
    "\n",
    "1 . [Automate the Boring Stuff con Python](http://automatetheboringstuff.com/chapter0/) Gran Libro escrito del Al Sweigart, para gente que empiezan a programar.\n",
    "\n",
    "2 . [http://getpython3.com/diveintopython3/](Dive in Python3) Libro intermedio de Python, escrito por Mark Pilgrim, que abarca tópicos avanzados como `Refactoring` y `Pruebas Unitarias`.\n",
    "\n",
    "3 . [Composing Programs](http://composingprograms.com/) Introducción online  de Programación y Ciencia de la Computación, de la Universidad de Berkeley, escrita por John DeNero,  basado en el Libro: `Structure and Interpretation of Computer Programs` [SICP](https://mitpress.mit.edu/sicp/)  de Harold Abelson y Gerald Jay Sussman y Julie Sussman.\n",
    "\n",
    "4 . [Python Cookbook](http://chimera.labs.oreilly.com/books/1230000000393/index.html) Libro escrito por [David Beazley](http://www.dabeaz.com/) y Brian k. Jones, para programadores con cierta experiencia en Python, que se centra en algunas de las más avanzadas técnicas usadas por librerias, framework y aplicaciones.\n",
    "\n",
    "5 . [Tutorial de Python](http://docs.python.org.ar/tutorial/3/) traducido por Python Argentina. "
   ]
  },
  {
   "cell_type": "markdown",
   "metadata": {},
   "source": [
    "## Consiguiendo Python\n",
    "\n",
    "Puedes descargar Python desde [](https://www.python.org/). Pero es, recomendable  instalar la distribución [Anaconda](https://www.continuum.io/downloads), que incluye la mayor parte de las bibliotecas que se necesita para hacer ciencia de datos. \n",
    "Si no desea o no consigue Anaconda, asegúrese de instalar [pip](https://pypi.python.org/pypi/pip), que es un administrador de paquete que te permite instalar fácilmente paquetes de terceros. Por ejemplo es digno conseguir IPython, que es un terminal de Python mucho más agradable para trabajar:\n",
    "\n",
    "```bash\n",
    "pip install Ipython\n",
    "```\n",
    "\n",
    "[El Proyecto Jupyter ](http://jupyter.org/) anteriormente conocido como el proyecto IPython, proporciona una colección de herramientas para la ciencia de datos mediante shells (Python, R, Julia) que combinan la ejecución del código con la creación de documentos informáticos activos.  Esta herramienta viene con la distribución Anaconda. Python en sus dos versiones 2 y 3 y Jupyter son buenos amigos.\n",
    "\n",
    "[]() es un IDE de Python, que se incluye con Anaconda. Incluye la edición, la prueba interactiva, depuración y características de introspección. Después de haber instalado Anaconda, se puede empezar  a utilizar Spyder en OSX, Linux o Windows mediante el terminal o el prompt de  comandos y ejecutando el  comando `spyder`."
   ]
  },
  {
   "cell_type": "markdown",
   "metadata": {},
   "source": [
    "## El Zen de Python\n",
    "\n",
    "David Goodger, presenta un  [tutorial interactivo](http://python.net/~goodger/projects/pycon/2007/idiomatic/handout.html), que cubre  lo esencial de Python y técnicas en profundidad, empezando con el Zen de Python de Tim Peters."
   ]
  },
  {
   "cell_type": "code",
   "execution_count": 49,
   "metadata": {
    "collapsed": false
   },
   "outputs": [],
   "source": [
    "import this"
   ]
  },
  {
   "cell_type": "markdown",
   "metadata": {},
   "source": [
    "O en Español:"
   ]
  },
  {
   "cell_type": "raw",
   "metadata": {},
   "source": [
    "Hermoso es mejor que feo.\n",
    "\n",
    "Explícito es mejor que implícito.\n",
    "\n",
    "Simple es mejor que complejo.\n",
    "\n",
    "Complejo es mejor que complicado.\n",
    "\n",
    "Sencillo es mejor que anidado.\n",
    "\n",
    "Escaso es mejor que denso.\n",
    "\n",
    "Cuenta la legibilidad.\n",
    "\n",
    "Los casos especiales no son lo suficientemente especial como para romper las reglas.\n",
    "\n",
    "Lo práctico supera a la pureza.\n",
    "\n",
    "Los errores nunca debe pasar en silencio.\n",
    "\n",
    "A menos que sean  silenciados.\n",
    "\n",
    "Ante la ambigüedad, rechaza la tentación de adivinar.\n",
    "\n",
    "Debería haber una  y preferiblemente sólo una  manera obvia de hacerlo.\n",
    "\n",
    "Aunque esa manera puede no ser obvia al principio a menos que seas holandés.\n",
    "\n",
    "Ahora es mejor que nunca.\n",
    "\n",
    "Aunque \"nunca\" es a menudo mejor que \"ahora mismo\".\n",
    "\n",
    "Si la aplicación es difícil de explicar, es una mala idea.\n",
    "\n",
    "Si la aplicación es fácil de explicar, puede ser una buena idea.\n",
    "\n",
    "Namespaces son una gran idea ¡hay que hacer más de eso!."
   ]
  },
  {
   "cell_type": "markdown",
   "metadata": {},
   "source": [
    "### Formato de los espacios en blanco\n",
    "En [Python](https://www.python.org/)  se usa la **indentación**, a diferencia de otros lenguajes de programación, que usan llaves para delimitar bloques de código. Mayor información en la [Guia de Estilo de Google para Python](https://google.github.io/styleguide/pyguide.html).\n",
    "\n",
    "```python\n",
    "# Un ejemplo usando el bucle for \n",
    "\n",
    "for i in [1,2,3,4,5,6]:                    # primera linea en el bloque 'for i'\n",
    "    print (i)                              \n",
    "    for j in [1, 2, 3, 4, 5, 6]:           \n",
    "        print(j)                           # primera linea en el bloque 'for j'\n",
    "        print (i + j)                      # ultima linea en el bloque 'for j'\n",
    "    print (i)                              # ultima  linea en el bloque 'for i'\n",
    "print (\"Viendo el bucle\")\n",
    "```"
   ]
  },
  {
   "cell_type": "markdown",
   "metadata": {},
   "source": [
    "Esto hace del código Python fácil de leer, pero también significa que se tiene que ser muy cuidadoso  con nuestro formato. El espacio en blanco es ignorado dentro de los paréntesis y corchetes."
   ]
  },
  {
   "cell_type": "code",
   "execution_count": 50,
   "metadata": {
    "collapsed": false
   },
   "outputs": [
    {
     "name": "stdout",
     "output_type": "stream",
     "text": [
      "Yo soy Kapu, y puedo ser tu amigo\n"
     ]
    }
   ],
   "source": [
    "# Clases y herencia en Python\n",
    "\n",
    "class Animalito():\n",
    "    def __init__(self, nombre):\n",
    "        self.nombre = nombre\n",
    "    \n",
    "    def decir_algo(self):\n",
    "        print (\"Yo soy\" + self.nombre)\n",
    "\n",
    "class Perrito(Animalito):\n",
    "    def decir_algo(self):\n",
    "        print (\"Yo soy \" +  self.nombre + \", y puedo ser tu amigo\")\n",
    "\n",
    "perrito = Perrito(\"Kapu\")\n",
    "perrito.decir_algo()"
   ]
  },
  {
   "cell_type": "markdown",
   "metadata": {},
   "source": [
    "##  Control de flujo\n",
    " Empezemos con un ejemplo. En casi todos los lenguajes, tu puedes llevar acciones condicionalmente usando **if**"
   ]
  },
  {
   "cell_type": "code",
   "execution_count": 51,
   "metadata": {
    "collapsed": true
   },
   "outputs": [],
   "source": [
    "if 1 > 2:\n",
    "    mensaje = \"si 1 es mayor que 2\"\n",
    "elif 1 > 3:\n",
    "    mensaje = \"elif representa 'else if'\"\n",
    "else:\n",
    "    mensaje = \" cuando todas las alternativas  fallan usamos else\""
   ]
  },
  {
   "cell_type": "markdown",
   "metadata": {},
   "source": [
    "Los operadores ternarios son comúnmente usados como expresiones condicionales en Python.Se convirtieron en una parte de Python en la versión 2.4. Aquí la sintaxis de un operador ternario y un ejemplo del uso de estas expresiones condicionales.\n",
    "\n",
    "```python\n",
    "condicion_es_verdad if condicion else condicion_is_falso\n",
    "```"
   ]
  },
  {
   "cell_type": "code",
   "execution_count": 52,
   "metadata": {
    "collapsed": false
   },
   "outputs": [
    {
     "data": {
      "text/plain": [
       "'impar'"
      ]
     },
     "execution_count": 52,
     "metadata": {},
     "output_type": "execute_result"
    }
   ],
   "source": [
    "x = 9\n",
    "paridad = 'par' if x%2 ==0 else 'impar'\n",
    "paridad"
   ]
  },
  {
   "cell_type": "markdown",
   "metadata": {},
   "source": [
    "Python, tiene el bucle `while`. Las sumatorias siempre aparecen en matemáticas. Por ejemplo la función seno puede ser calculado como :\n",
    "\n",
    "$$\\sin (x) \\approx x - \\dfrac{x^3}{3!} +  \\dfrac{x^5}{5!} - \\dfrac{x^7}{7!} + \\cdots $$\n",
    "\n",
    "Calculemos esta suma usando el bucle `while`:"
   ]
  },
  {
   "cell_type": "code",
   "execution_count": 53,
   "metadata": {
    "collapsed": false
   },
   "outputs": [
    {
     "name": "stdout",
     "output_type": "stream",
     "text": [
      "seno(1.2) = 0.932039 (aproximacion con 25 terminos)\n"
     ]
    }
   ],
   "source": [
    "x = 1.2 # asignamos algun valor\n",
    "N = 25 # maximo potencia de sumas\n",
    "k = 1\n",
    "s = x\n",
    "sign = 1.0\n",
    "import math\n",
    "\n",
    "while k < N:\n",
    "    sign = - sign\n",
    "    k = k + 2\n",
    "    term = sign*x**k/math.factorial(k)\n",
    "    s = s + term\n",
    "print (\"seno(%g) = %g (aproximacion con %d terminos)\" % (x, s, N))"
   ]
  },
  {
   "cell_type": "markdown",
   "metadata": {},
   "source": [
    "Pese al uso de  `while` , a menudo se usa `for`  acompañado con la palabra `in`: "
   ]
  },
  {
   "cell_type": "code",
   "execution_count": 54,
   "metadata": {
    "collapsed": false
   },
   "outputs": [
    {
     "name": "stdout",
     "output_type": "stream",
     "text": [
      "Manzanas\n",
      "Pera\n",
      "Mango\n"
     ]
    }
   ],
   "source": [
    "frutas = ['manzanas', 'pera', 'mango']\n",
    "for fruta in frutas:\n",
    "    print(fruta.capitalize())"
   ]
  },
  {
   "cell_type": "markdown",
   "metadata": {},
   "source": [
    "Los bucles en Python también tienen la  cláusula `else`. La estructura básica de un bucle `for/else` es:\n",
    "\n",
    "```python\n",
    "for item in contenedor:\n",
    "    if buscar_algo(item):\n",
    "        # Encontrado!\n",
    "        procesarlo(item)\n",
    "        break\n",
    "else:\n",
    "    # No se ha encontrado..\n",
    "    no_encontrado_en_el_contenedor()\n",
    "```\n",
    "\n",
    "Veamos un ejemplo:"
   ]
  },
  {
   "cell_type": "code",
   "execution_count": 55,
   "metadata": {
    "collapsed": false
   },
   "outputs": [
    {
     "name": "stdout",
     "output_type": "stream",
     "text": [
      "2 es un numero primo\n",
      "3 es un numero primo\n",
      "4 igual 2 * 2.0\n",
      "5 es un numero primo\n",
      "6 igual 2 * 3.0\n",
      "7 es un numero primo\n",
      "8 igual 2 * 4.0\n",
      "9 igual 3 * 3.0\n",
      "10 igual 2 * 5.0\n",
      "11 es un numero primo\n",
      "12 igual 2 * 6.0\n",
      "13 es un numero primo\n",
      "14 igual 2 * 7.0\n",
      "15 igual 3 * 5.0\n",
      "16 igual 2 * 8.0\n",
      "17 es un numero primo\n",
      "18 igual 2 * 9.0\n",
      "19 es un numero primo\n"
     ]
    }
   ],
   "source": [
    "# Encontremos los numeros primos entre 2 y el 20\n",
    "\n",
    "for n in range(2, 20):\n",
    "    for x in range(2, n):\n",
    "        if n % x == 0:\n",
    "            print( n, 'igual', x, '*', n/x)\n",
    "            break\n",
    "    else:\n",
    "        # el bucle no encontró un factor \n",
    "        print(n, 'es un numero primo')"
   ]
  },
  {
   "cell_type": "markdown",
   "metadata": {},
   "source": [
    "## Funciones \n",
    "\n",
    "Una función es una pieza de código de un programa que lleva una especifica tarea. Las  funciones  pueden ser asignadas a variables, almacenadas en collecciones o pasadas como argumentos. Hay dos tipos de funciones, las que son parte del lenguaje como `dir()`, `len` o `abs()` y las que puede definir el usuario, las cuales se crean con la palabra reservada\n",
    "`def`."
   ]
  },
  {
   "cell_type": "code",
   "execution_count": 56,
   "metadata": {
    "collapsed": true
   },
   "outputs": [],
   "source": [
    "def doble(x):\n",
    "    \"\"\"\n",
    "    aqui es donde tu colocas informacion extra que\n",
    "    indican lo que la funcion hace (docstring)\n",
    "    \"\"\"\n",
    "    \n",
    "    return x *2\n"
   ]
  },
  {
   "cell_type": "markdown",
   "metadata": {},
   "source": [
    "La función se ejecuta posteriormente  cuando es necesario. Decimos que `llamamos` a la función. Si llamamos a la función, las declaraciones dentro del cuerpo de la función son ejecutadas. No se ejecutan  hasta que la función es llamada."
   ]
  },
  {
   "cell_type": "code",
   "execution_count": 57,
   "metadata": {
    "collapsed": false
   },
   "outputs": [
    {
     "data": {
      "text/plain": [
       "8"
      ]
     },
     "execution_count": 57,
     "metadata": {},
     "output_type": "execute_result"
    }
   ],
   "source": [
    "doble(4)"
   ]
  },
  {
   "cell_type": "markdown",
   "metadata": {},
   "source": [
    "Las definiciones de las funciones deben preceder a su uso. De lo contrario el intérprete mostrará una excepción NameError."
   ]
  },
  {
   "cell_type": "code",
   "execution_count": 58,
   "metadata": {
    "collapsed": false
   },
   "outputs": [
    {
     "name": "stdout",
     "output_type": "stream",
     "text": [
      "f1()\n"
     ]
    },
    {
     "ename": "NameError",
     "evalue": "name 'f2' is not defined",
     "output_type": "error",
     "traceback": [
      "\u001b[1;31m---------------------------------------------------------------------------\u001b[0m",
      "\u001b[1;31mNameError\u001b[0m                                 Traceback (most recent call last)",
      "\u001b[1;32m<ipython-input-58-d7df64a3f7fd>\u001b[0m in \u001b[0;36m<module>\u001b[1;34m()\u001b[0m\n\u001b[0;32m      6\u001b[0m \u001b[1;33m\u001b[0m\u001b[0m\n\u001b[0;32m      7\u001b[0m \u001b[0mf1\u001b[0m\u001b[1;33m(\u001b[0m\u001b[1;33m)\u001b[0m\u001b[1;33m\u001b[0m\u001b[0m\n\u001b[1;32m----> 8\u001b[1;33m \u001b[0mf2\u001b[0m\u001b[1;33m(\u001b[0m\u001b[1;33m)\u001b[0m\u001b[1;33m\u001b[0m\u001b[0m\n\u001b[0m\u001b[0;32m      9\u001b[0m \u001b[1;32mdef\u001b[0m \u001b[0mf2\u001b[0m\u001b[1;33m(\u001b[0m\u001b[1;33m)\u001b[0m\u001b[1;33m:\u001b[0m\u001b[1;33m\u001b[0m\u001b[0m\n\u001b[0;32m     10\u001b[0m     \u001b[0mprint\u001b[0m\u001b[1;33m(\u001b[0m\u001b[1;34m\"f2()\"\u001b[0m\u001b[1;33m)\u001b[0m\u001b[1;33m\u001b[0m\u001b[0m\n",
      "\u001b[1;31mNameError\u001b[0m: name 'f2' is not defined"
     ]
    }
   ],
   "source": [
    "# Ejemplo de las funciones que muestra que su definicion\n",
    "# precede su uso\n",
    "\n",
    "def f1():\n",
    "    print(\"f1()\")\n",
    "    \n",
    "f1()\n",
    "f2()\n",
    "def f2():\n",
    "    print(\"f2()\")"
   ]
  },
  {
   "cell_type": "markdown",
   "metadata": {},
   "source": [
    "Una función  puede ser definida dentro de un módulo, una clase o otra función. Una función definida dentro de una clase es llamado  un `método`. Veamos el siguiente ejemplo:"
   ]
  },
  {
   "cell_type": "code",
   "execution_count": null,
   "metadata": {
    "collapsed": false
   },
   "outputs": [],
   "source": [
    "# Ejemplo donde definimos una funcion f()                                                                                                   \n",
    "# en todos los posibles lugares: en una clase, modulo o funcion\n",
    "\n",
    "class g1():\n",
    "    @staticmethod\n",
    "    def h1():\n",
    "        print (\"h1() es un metodo\")\n",
    "        \n",
    "def h1():\n",
    "    print (\"h1() es una funcion\")\n",
    "    \n",
    "def k1():\n",
    "    def h1():\n",
    "        print (\"h1() es una funcion interna\")\n",
    "    h1()\n",
    "\n",
    "g1.h1()\n",
    "h1()\n",
    "k1()       "
   ]
  },
  {
   "cell_type": "markdown",
   "metadata": {},
   "source": [
    "Las funciones en Python, son objetos. Ellos pueden ser manipulados como otros objetos en Python. Por tanto las funciones son llamadas  de `primera clase`. Esto no es cierto para lenguajes como Java o C#. Esta particuaridad se muestra en el siguiente ejemplo:"
   ]
  },
  {
   "cell_type": "code",
   "execution_count": null,
   "metadata": {
    "collapsed": false
   },
   "outputs": [],
   "source": [
    "# Las funciones en Python son objetos.                                                                                                       \n",
    "def f():\n",
    "    \"\"\" Esta funcion imprime un mensaje\"\"\"\n",
    "    print (\"Python es un lenguaje tan importante como R\")\n",
    "    \n",
    "print (isinstance(f, object)) # Se verifica si f() es una instancia de object.\n",
    "print (id(f))\n",
    "    \n",
    "print (f.__doc__)\n",
    "print (f.__name__)                    "
   ]
  },
  {
   "cell_type": "markdown",
   "metadata": {},
   "source": [
    "Los objetos pueden ser almacenados en colecciones y pasados a funciones."
   ]
  },
  {
   "cell_type": "code",
   "execution_count": null,
   "metadata": {
    "collapsed": false
   },
   "outputs": [],
   "source": [
    "# Ejemplo de colecciones de objetos que pueden ser pasados a funciones\n",
    "\n",
    "def f():\n",
    "    pass\n",
    "\n",
    "def g():\n",
    "    pass\n",
    "\n",
    "def h(f):\n",
    "    print(id(f))\n",
    "    \n",
    "a = (f, g, h)\n",
    "\n",
    "for i in a:\n",
    "    print (i)\n",
    "    \n",
    "h(f)\n",
    "h(g)"
   ]
  },
  {
   "cell_type": "markdown",
   "metadata": {},
   "source": [
    "Hay en el mundo de las funciones de Python, funciones que siempre están disponibles para su uso, funciones que son contenidas dentro de un  módulo externo, las que deben ser importadas y funciones definidas por el usuario  con la palabra reservada `def`:"
   ]
  },
  {
   "cell_type": "code",
   "execution_count": null,
   "metadata": {
    "collapsed": false
   },
   "outputs": [],
   "source": [
    "from math import sqrt\n",
    "\n",
    "def cuadratica(x):\n",
    "    return x*x*x*x\n",
    "\n",
    "print (abs(-1)) # funcion que es parte del core del lenguaje\n",
    "print (cuadratica(4))\n",
    "print (sqrt(89))"
   ]
  },
  {
   "cell_type": "markdown",
   "metadata": {},
   "source": [
    "La palabra reservada de Python `return` es usada para devolver valores desde una función. Una función puede o no retornar un valor. Si una función no tiene un `return`, entonces se debería enviar un valor `None`."
   ]
  },
  {
   "cell_type": "code",
   "execution_count": null,
   "metadata": {
    "collapsed": false
   },
   "outputs": [],
   "source": [
    "def g1(msg):\n",
    "    print (msg)\n",
    "def suma(x, y):\n",
    "    return x + y\n",
    "\n",
    "z = suma(3,5)\n",
    "print(z)\n",
    "\n",
    "g1(\"Notebook a punto de terminar\")\n",
    "print (g1(\"Listo\"))"
   ]
  },
  {
   "cell_type": "markdown",
   "metadata": {},
   "source": [
    "Podemos enviar más de un valor de una función.. Los objetos después de la palabra clave `return` están separados por comas."
   ]
  },
  {
   "cell_type": "code",
   "execution_count": null,
   "metadata": {
    "collapsed": false
   },
   "outputs": [],
   "source": [
    "n = [1, 2 , 3, 4, 5,6]\n",
    "\n",
    "def estadistica(x):\n",
    "    mx = max(x)\n",
    "    mn = min(x)\n",
    "    ln = len(x)\n",
    "    sm = sum(x)\n",
    "    \n",
    "    return mx, mn, ln, sm\n",
    "\n",
    "mx, mn, ln, sm = estadistica(n)\n",
    "print (estadistica(n))\n",
    "print (mx, mn, ln, sm)"
   ]
  },
  {
   "cell_type": "markdown",
   "metadata": {},
   "source": [
    "La naturaleza dinámica de Python, permite redefinir funciones ya definidas. Veamos un ejemplo hecho por Jan Bodnar:"
   ]
  },
  {
   "cell_type": "code",
   "execution_count": null,
   "metadata": {
    "collapsed": false
   },
   "outputs": [],
   "source": [
    "from time import gmtime, strftime\n",
    "\n",
    "def msg1(msg):\n",
    "    \n",
    "    print(msg)\n",
    "    \n",
    "msg1(\"Hola, mi nombre es alegria\")\n",
    "\n",
    "def msg1(msg):\n",
    "    print(strftime(\"%H:%M:%S\", gmtime()))\n",
    "    print(msg)\n",
    "    \n",
    "msg1(\"Proceso\")"
   ]
  },
  {
   "cell_type": "markdown",
   "metadata": {},
   "source": [
    "\n",
    "Muchas funciones aceptan argumentos. Los argumentos son valores que son enviados a la función. Las funciones procesan los valores y opcionalmente retornan un valor."
   ]
  },
  {
   "cell_type": "code",
   "execution_count": null,
   "metadata": {
    "collapsed": false
   },
   "outputs": [],
   "source": [
    "a = 20; b = -2.5    #variables globales\n",
    "def f1(x):          # x es un argumento de la funcioon f1\n",
    "    a = 21;\n",
    "    return a *x + b\n",
    "f1(9)"
   ]
  },
  {
   "cell_type": "markdown",
   "metadata": {},
   "source": [
    "Los argumentos en las funciones pueden tener implícitos valores. Un implícito valor es usado si un valor no es proporcionado:"
   ]
  },
  {
   "cell_type": "code",
   "execution_count": null,
   "metadata": {
    "collapsed": false
   },
   "outputs": [],
   "source": [
    "def potencia(x, y=2):\n",
    "    r = 1\n",
    "    for i in range(y):\n",
    "        r = r * x\n",
    "    return r\n",
    "\n",
    "print (potencia(3))\n",
    "print (potencia(4, 3))\n",
    "print (potencia(5, 4))\n"
   ]
  },
  {
   "cell_type": "markdown",
   "metadata": {},
   "source": [
    "Las funciones de Python pueden especificar sus argumentos con una palabra clave. Esto significa que cuando se llama a una función, se especifica tanto una palabra clave y un valor. Cuando tenemos varios argumentos y se usan sin palabras clave, el orden en que se pasa esos argumentos es crucial. "
   ]
  },
  {
   "cell_type": "code",
   "execution_count": null,
   "metadata": {
    "collapsed": false
   },
   "outputs": [],
   "source": [
    "def Informacion(nombre ,edad, lenguaje):\n",
    "   print (\"Nombre: \", nombre)\n",
    "   print (\"Edad: \", edad)\n",
    "   print (\"Lenguaje: \", lenguaje)\n",
    "\n",
    "\n",
    "Informacion(edad=43, nombre=\"Lary\", lenguaje=\"Java\")   # no recomendable cambiar el orden.\n",
    "Informacion(nombre = \"Milagros\", edad = 28, lenguaje = \"C\")\n",
    "Informacion(nombre = \"Karen\", edad=24,  \"Python\") # no podemos usar una palabra sin clave, despues de \n",
    "                                                  #un argumento con clave. Eso produce un error de sintaxis."
   ]
  },
  {
   "cell_type": "markdown",
   "metadata": {},
   "source": [
    "Las funciones en Python puede aceptar un número arbitrario de argumentos. El operador `*` indica que la función acepta un número arbitrario de argumentos."
   ]
  },
  {
   "cell_type": "code",
   "execution_count": null,
   "metadata": {
    "collapsed": false
   },
   "outputs": [],
   "source": [
    "def suma(*args):\n",
    "   '''Funcion que retorna la suma de todos los valores '''\n",
    "   r = 0\n",
    "   for i in args:\n",
    "      r += i\n",
    "   return r\n",
    "\n",
    "\n",
    "print (suma.__doc__)\n",
    "print (suma(1, 2, 3))\n",
    "print (suma(1, 2, 3, 4, 5))\n"
   ]
  },
  {
   "cell_type": "markdown",
   "metadata": {},
   "source": [
    "También podemos usar el operador `**`  en nuestras funciones. En tal caso, la función aceptará un diccionario. Un diccionario tiene una longitud arbitraria. Podemos entonces normalmente analizar el diccionario, de la manera usual:"
   ]
  },
  {
   "cell_type": "code",
   "execution_count": null,
   "metadata": {
    "collapsed": false
   },
   "outputs": [],
   "source": [
    "def muestra(**datos):\n",
    "\n",
    "   for i in datos:\n",
    "      print (\"%s: %s\" % (i, datos[i]))\n",
    "\n",
    "\n",
    "muestra(lenguaje=\"Python\", paradigma=\"OOP\", edad= 23)"
   ]
  },
  {
   "cell_type": "markdown",
   "metadata": {},
   "source": [
    "Los parámetros a funciones se pasan por referencia. [Mayor información en stackoverflow](http://stackoverflow.com/questions/986006/how-do-i-pass-a-variable-by-reference). Algunos lenguajes 'pasan' copias de los objetos a las funciones. Pasar objetos por referencia tiene dos importantes conclusiones. El proceso es más rápido que si se pasaron copias de los objetos y los objetos mutables que son modificados en funciones cambian de forma permanente. Un ejemplo de Jan Bodnar: "
   ]
  },
  {
   "cell_type": "code",
   "execution_count": null,
   "metadata": {
    "collapsed": false
   },
   "outputs": [],
   "source": [
    "n = [1, 2, 3, 4, 5]\n",
    "\n",
    "print (\"Lista original:\", n)\n",
    "\n",
    "def f(x):\n",
    "    x.pop()\n",
    "    x.pop()\n",
    "    x.insert(0, 0)\n",
    "    print (\"dentro de  f():\", x)    \n",
    "    \n",
    "f(n)    \n",
    "\n",
    "print  (\"despues de la llamada de la funcion:\", n)"
   ]
  },
  {
   "cell_type": "markdown",
   "metadata": {},
   "source": [
    "En el ejemplo  se pasa una lista de números enteros a una función. El objeto se modifica en el interior del cuerpo de la función. Después de llamar a la función, el objeto original, la lista de los números enteros es modificada.  En el cuerpo de la función trabajamos con el objeto original. No con una copia del objeto."
   ]
  },
  {
   "cell_type": "markdown",
   "metadata": {},
   "source": [
    "Las variables definidas en el cuerpo de una función tienen un alcance `local`, esto es, sólo son válidos dentro del cuerpo de la función. Por defecto, se puede obtener el contenido de una variable global en el interior del cuerpo de una función. Pero si queremos cambiar una variable global en una función, hay que utilizar la palabra clave `global`."
   ]
  },
  {
   "cell_type": "code",
   "execution_count": null,
   "metadata": {
    "collapsed": false
   },
   "outputs": [],
   "source": [
    "a = 20; b = -2.5     # variables globales\n",
    "def f1(x):\n",
    "    a = 21\n",
    "    return a*x + b   # esta es una nueva variable local \n",
    "                     # 21*x - 2.5\n",
    "print (a)            #  20\n",
    "\n",
    "def f2(x):\n",
    "    global a\n",
    "    a = 21\n",
    "    return a*x + b   # la variable global a is cambiada\n",
    "                     # 21*x - 2.5\n",
    "f1(3); print (a)     # 20 es impreso\n",
    "f2(3); print (a)     # 21 es impreso"
   ]
  },
  {
   "cell_type": "markdown",
   "metadata": {},
   "source": [
    "Es posible crear funciones anónimas en Python. Las funciones anónimas no tienen un nombre. La palabra reservada `lambda` las pequeñas funciones anónimas de Python, puede ser creadas. Ellas son parte del paradigma funcional (Lisp) incorporados a Python."
   ]
  },
  {
   "cell_type": "code",
   "execution_count": null,
   "metadata": {
    "collapsed": false
   },
   "outputs": [],
   "source": [
    "def f(x):\n",
    "    return x*2\n",
    "f(4)"
   ]
  },
  {
   "cell_type": "code",
   "execution_count": null,
   "metadata": {
    "collapsed": false
   },
   "outputs": [],
   "source": [
    "g = lambda x: x *2\n",
    "g(4)"
   ]
  },
  {
   "cell_type": "code",
   "execution_count": null,
   "metadata": {
    "collapsed": false
   },
   "outputs": [],
   "source": [
    "# Simplemente no asignando una variable\n",
    "(lambda x: x*2)(4)"
   ]
  },
  {
   "cell_type": "markdown",
   "metadata": {},
   "source": [
    "La función lambda, puede ser usada por otras partes funcionales de Python, como las funciones `filter()`, `map()` o `reduce()`. La función de `map()` aplica una función a cada elemento de un iterable y devuelve el resultado. "
   ]
  },
  {
   "cell_type": "code",
   "execution_count": null,
   "metadata": {
    "collapsed": false
   },
   "outputs": [],
   "source": [
    "def cuadrado(x):\n",
    "    return x**2\n",
    "\n",
    "cuadrados = map(cuadrado, range(8))\n",
    "print (list(cuadrados))"
   ]
  },
  {
   "cell_type": "code",
   "execution_count": null,
   "metadata": {
    "collapsed": false
   },
   "outputs": [],
   "source": [
    "# Usando lambda() y map() juntos\n",
    "\n",
    "cuadrados = map(lambda x: x**2, range(8))\n",
    "print(list(cuadrados))"
   ]
  },
  {
   "cell_type": "markdown",
   "metadata": {},
   "source": [
    "`filter` toma una función que devuelve True o False y lo aplica a una secuencia, devolviendo  una lista de los  miembros de la secuencia para el cual la función devolvió True."
   ]
  },
  {
   "cell_type": "code",
   "execution_count": null,
   "metadata": {
    "collapsed": false
   },
   "outputs": [],
   "source": [
    "# Usando lambda(), map() y filter() juntos\n",
    "\n",
    "cuadrados = map(lambda x: x**2, range(8))\n",
    "cuadrados1 = filter(lambda x: x>3 and x < 40, cuadrados)\n",
    "print(list(cuadrados1))"
   ]
  },
  {
   "cell_type": "markdown",
   "metadata": {},
   "source": [
    "La función `reduce()` aplica una función a una lista de datos evaluando los elementos por pares. La primera vez se aplica al primer y segundo elemento, la siguiente, se aplicará al valor devuelto por la función junto al tercer elemento y así, sucesivamente, reduciendo la lista hasta que quede un sólo elemento. \n",
    "\n",
    "Mayor información en [Functional Programming HOWTO](https://docs.python.org/3/howto/functional.html)."
   ]
  },
  {
   "cell_type": "code",
   "execution_count": null,
   "metadata": {
    "collapsed": false
   },
   "outputs": [],
   "source": [
    "import functools  # A partir de python3\n",
    "\n",
    "functools.reduce(lambda x, y: x +y , [4,6,7])"
   ]
  },
  {
   "cell_type": "code",
   "execution_count": null,
   "metadata": {
    "collapsed": false
   },
   "outputs": [],
   "source": [
    "# Otro ejemplo:\n",
    "\n",
    "cadenas1 = ['Python es un lenguaje de programacion, multiparadigma',\n",
    "         'Lisp, C, C++ son utilizados en muchos paquetes',\n",
    "        \"Numpy, Scilab o Pandas son ejemplos de ellos\"]\n",
    "cont = 0\n",
    "for cadena in cadenas1:\n",
    "    cont += cadena.count('son')\n",
    "    \n",
    "print(cont)"
   ]
  },
  {
   "cell_type": "markdown",
   "metadata": {},
   "source": [
    "Para revisar más ejemplos acerca del paradigma de la Programación Funcional en Python, revisar el [A Practical Introduction to Functional Programming](http://maryrosecook.com/blog/post/a-practical-introduction-to-functional-programming) de Mary Roose Cook."
   ]
  },
  {
   "cell_type": "markdown",
   "metadata": {},
   "source": [
    "## Listas  por Comprensión\n",
    "\n",
    "Las listas por comprensión se añadieron con Python 2.0. En esencia, es una forma  de implementar una notación muy conocida en la teoria de  conjuntos y usadas por los matemáticos, (en matemáticas los  cuadrados de los números naturales son, por ejemplo, creados escribiendo $\\{x^2: x \\in \\mathbb{N}\\}$ de la misma manera  el conjunto de los enteros $\\{(x, y): x \\in  \\mathbb{Z} ∧ y \\in \\mathbb{Z}\\}$.\n",
    "\n",
    "```python\n",
    "[expresion_con_variable_del_bucle for variable_del_bucle in secuencia]\n",
    "```\n",
    "\n",
    "Las listas por comprensión  es una manera elegante de definir y crear  listas en Python y son un sustituto  para la función `lambda`, así como para las funciones `map(), filter()` y `reduce()`."
   ]
  },
  {
   "cell_type": "code",
   "execution_count": null,
   "metadata": {
    "collapsed": false
   },
   "outputs": [],
   "source": [
    "cuadrados = [x **2 for x in range(8)]\n",
    "print(cuadrados)"
   ]
  },
  {
   "cell_type": "code",
   "execution_count": null,
   "metadata": {
    "collapsed": false
   },
   "outputs": [],
   "source": [
    "# Otro ejemplo\n",
    "\n",
    "Celsius = [39.2, 36.5, 37.3, 37.8]\n",
    "Fahrenheit = [((float(9)/5)*x + 32) for x in Celsius ]\n",
    "print(Fahrenheit)"
   ]
  },
  {
   "cell_type": "markdown",
   "metadata": {},
   "source": [
    "Las lista por comprensión pueden ser anidadas y tienen la siguiente forma:\n",
    "\n",
    "```python\n",
    "[expresiones_con_variables_de_bucle for variable_del_bucle_exterior in secuencia_exterior for variable_del_bucle_interior in secuencia_exterior]\n",
    "```"
   ]
  },
  {
   "cell_type": "code",
   "execution_count": null,
   "metadata": {
    "collapsed": false
   },
   "outputs": [],
   "source": [
    "posible_paradigma = [ [OOP,FP] for OOP in ['Python', 'JavaScript', 'SmallTalk'] for FP in ['Lisp', 'Haskell', 'Scala'] ]\n",
    "print (posible_paradigma)"
   ]
  },
  {
   "cell_type": "code",
   "execution_count": null,
   "metadata": {
    "collapsed": false
   },
   "outputs": [],
   "source": [
    "# La lista por comprension se puede usar para crear la ternas Pitagóricas\n",
    "\n",
    "[(x,y,z) for x in range(1,30) for y in range(x,30) for z in range(y,30) if x**2 + y**2 == z**2]"
   ]
  },
  {
   "cell_type": "markdown",
   "metadata": {},
   "source": [
    "## Módulos\n",
    "\n",
    "Un módulo es un archivo que contiene código Python. El nombre de un módulo es el nombre del archivo con la extensión `.py`.\n",
    "La variable `__name__` es una variable que almacena el nombre del módulo que se está haciendo referencia. El actual módulo, el módulo que está siendo ejecutado tiene un especial nombre: `__main__`. Con este nombre puede ser referenciado desde el código Python.\n",
    "\n",
    "Supongamos que tenemos dos archivos: `mod1.py` y `mod2.py`. El segundo módulo es el módulo principal, el cual es ejecutado. Este importa el primer módulo. Los módulos son importados usando la palabra clave `import`."
   ]
  },
  {
   "cell_type": "code",
   "execution_count": null,
   "metadata": {
    "collapsed": false
   },
   "outputs": [],
   "source": [
    "# Archivo mod1.py\n",
    "\n",
    "\"\"\"\n",
    "Ejemplo de un módulo\n",
    "\"\"\"\n",
    "print(\"hola: yo soy un módulo\")"
   ]
  },
  {
   "cell_type": "code",
   "execution_count": null,
   "metadata": {
    "collapsed": false
   },
   "outputs": [],
   "source": [
    "# Archivo mod2.py\n",
    "\n",
    "import mod1\n",
    "import sys\n",
    "\n",
    "print (__name__)\n",
    "print (mod1.__name__)\n",
    "print(sys.__name__)"
   ]
  },
  {
   "cell_type": "markdown",
   "metadata": {},
   "source": [
    "Cuando se importa un módulo el itérprete busca entre los módulos integrados  ese nombre. Si no lo encuentra, entonces busca en una lista de directorios dada por la  variable `sys.path`. La variable `sys.path` es una lista de cadenas que especifica la ruta de búsqueda para los módulos. Consiste del directorio de trabajo actual, los nombres de directorios especificados en la variable de entorno `PYTHONPATH` y algunos directorios adicionales  dependientes de la instalación . Si no se encuentra el módulo, se produce una excepción `ImportError`.\n",
    "\n",
    "\n",
    "La palabra clave `import ` puede ser usado de varias maneras:\n",
    "\n",
    "```python\n",
    "import modulo\n",
    "````"
   ]
  },
  {
   "cell_type": "code",
   "execution_count": null,
   "metadata": {
    "collapsed": false
   },
   "outputs": [],
   "source": [
    "import re\n",
    "my_regex = re.compile(\"[0-9]+\", re.I)\n",
    "my_regex"
   ]
  },
  {
   "cell_type": "markdown",
   "metadata": {},
   "source": [
    "Aquí `re` es el módulo conteniendo funciones y constantes que trabajan con expresiones regulares. Después este tipo de `ìmport` solo se puede acceder a esas funciones con prefijo `re.`  Se puede usar un alias si es que por ejemplo tienes que escribir demasiado. Por ejemplo, en el uso de `matplotlib` y visualización de datos, una convención estándar es:\n",
    "\n",
    "```python\n",
    "import matplotlib.pyplot as plt\n",
    "```\n",
    "\n",
    "Si tu necesitas especificar algunos valores de un módulo, puedes importarlos explícitamente y usarlos sin restricción:\n",
    "\n",
    "``` python\n",
    "from module import f1, f2...\n",
    "```\n"
   ]
  },
  {
   "cell_type": "code",
   "execution_count": null,
   "metadata": {
    "collapsed": true
   },
   "outputs": [],
   "source": [
    "from collections import defaultdict, Counter\n",
    "l = defaultdict(int)\n",
    "contador = Counter()"
   ]
  },
  {
   "cell_type": "markdown",
   "metadata": {},
   "source": [
    "Una manera poco recomendable sería importar todo el contenido de un módulo en tu espacio de nombres,\n",
    "\n",
    "```python\n",
    "from modulo import*\n",
    "```\n",
    "\n",
    "El uso de esta forma  de importación puede resultar en problemas en en el espacio de nombres. Podemos tener varios objetos del mismo nombre y sus definiciones pueden ser anuladas:\n"
   ]
  },
  {
   "cell_type": "code",
   "execution_count": null,
   "metadata": {
    "collapsed": false
   },
   "outputs": [],
   "source": [
    "match = 10\n",
    "from re import *\n",
    "print (match)"
   ]
  },
  {
   "cell_type": "markdown",
   "metadata": {},
   "source": [
    "Una excepción `ImportError` es producido si un módulo no puede ser importado.\n",
    "\n",
    "\n",
    "Los módulos pueden ser importados en otros módulos o ellos pueden ser ejecutados. Si el módulo es ejecutado como un script, el atributo `__name__` es igual a `__main__`."
   ]
  },
  {
   "cell_type": "code",
   "execution_count": null,
   "metadata": {
    "collapsed": false
   },
   "outputs": [],
   "source": [
    "# Modulo conteniendo la funcion de fibonacci\n",
    "\n",
    "\"\"\"\n",
    "Modulo que contiene una funcion que genera\n",
    "la secuencia de Fibonacci\n",
    "\"\"\"\n",
    "\n",
    "def fib(n):\n",
    "    x ,y =0, 1\n",
    "    while y < n:\n",
    "        print (y)\n",
    "        (x , y) = (y, x +y)\n",
    "        \n",
    "# Prueba\n",
    "        \n",
    "if __name__ == '__main__':\n",
    "    fib(500)"
   ]
  },
  {
   "cell_type": "markdown",
   "metadata": {
    "collapsed": true
   },
   "source": [
    "Si el módulo `fibo` es importado, la `prueba`, no es ejecutado automáticamante:\n"
   ]
  },
  {
   "cell_type": "code",
   "execution_count": null,
   "metadata": {
    "collapsed": false
   },
   "outputs": [],
   "source": [
    "import fibo as fib\n",
    "fib.fib(34)"
   ]
  },
  {
   "cell_type": "markdown",
   "metadata": {},
   "source": [
    "La función `dir()` da una lista ordenada de cadenas que contienen los nombres definidos por un módulo. En el siguiente módulo, importamos dos sistemas de módulos. Nosotros definimos una variable, una lista y una función:"
   ]
  },
  {
   "cell_type": "code",
   "execution_count": null,
   "metadata": {
    "collapsed": false
   },
   "outputs": [],
   "source": [
    "# Uso de la funcion dir() en el espacio de nombres\n",
    "# del modulo\n",
    "\n",
    "\"\"\"\n",
    "Este es un modulo de ejemplo para el\n",
    "uso de la funcion dir()\n",
    "\"\"\"\n",
    "\n",
    "import math, sys\n",
    "\n",
    "x = math.sin(20)\n",
    "\n",
    "lenguajes = [\"Python\", \"R\",\"Java\", \"C\", \"Make\"]\n",
    "\n",
    "def mostrar_lenguajes():\n",
    "    for i in lenguajes:\n",
    "        print (i)\n",
    "\n",
    "print (dir(sys.modules['__main__']))\n",
    "\n"
   ]
  },
  {
   "cell_type": "markdown",
   "metadata": {},
   "source": [
    "La función `dir()` retorna todos los nombres disponibles en el actual espacio de nombres. `__main__` es el nombre del actual módulo. Partiendo de la idea de como los módulos como todo lo demás es un objeto, una vez importados, siempre se pude obtener una referencia a un módulo mediante el diccionario global `sys.modules`.\n",
    "\n",
    "La función `globals()` retorna un diccionario que representa el actual espacio de nombres global. Este es un diccionario de nombres (globales) y  sus valores. Este es el diccionario del actual módulo y se usa para imprimir todos los nombres globales del actual módulo."
   ]
  },
  {
   "cell_type": "code",
   "execution_count": null,
   "metadata": {
    "collapsed": false
   },
   "outputs": [],
   "source": [
    "# uso de la funcion globals() en el uso de modulos\n",
    "\n",
    "import  math\n",
    "import textwrap\n",
    "\n",
    "z = math.sqrt(5)\n",
    "\n",
    "def f1():\n",
    "    pass\n",
    "\n",
    "gl = globals()\n",
    "gb = ' ,'.join(gl)\n",
    "\n",
    "print (textwrap.fill(gb))"
   ]
  },
  {
   "cell_type": "markdown",
   "metadata": {},
   "source": [
    "El atributo de clase `__module__` tiene el nombre del módulo en el cual la clase es definida. Sea el módulo, llamado `mod3.py` "
   ]
  },
  {
   "cell_type": "code",
   "execution_count": null,
   "metadata": {
    "collapsed": true
   },
   "outputs": [],
   "source": [
    "\"\"\"\n",
    "modulo ejemplo\n",
    "\n",
    "\"\"\"\n",
    "\n",
    "class m1:\n",
    "    pass\n",
    "\n",
    "class m2:\n",
    "    pass\n",
    "\n"
   ]
  },
  {
   "cell_type": "markdown",
   "metadata": {},
   "source": [
    "Escribamos ahora un segundo módulo, usando el atributo `__module__`:"
   ]
  },
  {
   "cell_type": "code",
   "execution_count": null,
   "metadata": {
    "collapsed": false
   },
   "outputs": [],
   "source": [
    "# uso del atributo __mod__ en los modulos de Python.\n",
    "\n",
    "from mod3 import m1\n",
    "\n",
    "class l1:\n",
    "    pass\n",
    "\n",
    "b = l1()\n",
    "print (b.__module__)\n",
    "\n",
    "c = m1()\n",
    "print (c.__module__)\n"
   ]
  },
  {
   "cell_type": "markdown",
   "metadata": {},
   "source": [
    "Desde el módulo `mod3` importamos  la clase `m1 `. En el actual módulo, definimos una clase `l1`\n",
    "\n",
    "```python\n",
    "class l1:\n",
    "    pass\n",
    "```\n",
    "\n",
    "Una instancia de clase `l1` es creada. Imprimimos el nombre de este módulo\n",
    "\n",
    "```python\n",
    "b = l1()\n",
    "print (b.__module__)\n",
    "```\n",
    "\n",
    "Creamos un objeto desde la clase `m1`. También imprimimos el módulo donde fue definido.\n",
    "\n",
    "```python\n",
    "c = m1()\n",
    "print (c.__module__)\n",
    "```\n",
    "\n",
    "En Ipython podemos correr el  módulo ``%run mod4.py`:\n",
    "\n",
    "```python\n",
    "__main__\n",
    "mod3\n",
    "```\n",
    "\n",
    "El nombre actual del módulo es `__main__` y el nombre del módulo `m1` es `mod3`."
   ]
  },
  {
   "cell_type": "markdown",
   "metadata": {},
   "source": [
    "## Excepciones \n",
    "\n",
    "Cualquier error que se produce durante la ejecución del código es una excepción. Cada excepción generalmente  muestra algún mensaje de error. Usamos el bloque `try...except` para manejar excepciones. La sintaxis básica es la siguiente:\n",
    "\n",
    "```python\n",
    "try:\n",
    "    declaracion1\n",
    "    declaracion2\n",
    "    ...\n",
    "    \n",
    "except Nombre_Excepcion:\n",
    "    declaracion a ser evaluada en caso de que \n",
    "    aparezca alguna excepcion\n",
    "```\n",
    "\n",
    "Veamos algunos ejemplos:"
   ]
  },
  {
   "cell_type": "code",
   "execution_count": null,
   "metadata": {
    "collapsed": false
   },
   "outputs": [],
   "source": [
    "print('c++' + 1) # TypeError"
   ]
  },
  {
   "cell_type": "code",
   "execution_count": null,
   "metadata": {
    "collapsed": false
   },
   "outputs": [],
   "source": [
    "print(w)    # NameError"
   ]
  },
  {
   "cell_type": "code",
   "execution_count": null,
   "metadata": {
    "collapsed": false
   },
   "outputs": [],
   "source": [
    "while True:\n",
    "    try:\n",
    "        n = input(\"Ingresa un numero entero: \")\n",
    "        n = int(n)\n",
    "        break\n",
    "    except ValueError:\n",
    "        print(\"No es un numero entero, vuelve  a intentarlo ...\")\n",
    "print(\"Bien, este es un numero entero!\")"
   ]
  },
  {
   "cell_type": "markdown",
   "metadata": {},
   "source": [
    "Una sentencia `try` puede tener más de una cláusula de `except` para diferentes excepciones. Sin embargo, a lo sumo una cláusula `except` será ejecutada. veamos un ejemplo de la [documentacion de Python a Excepciones](https://docs.python.org/3/tutorial/errors.html):"
   ]
  },
  {
   "cell_type": "code",
   "execution_count": null,
   "metadata": {
    "collapsed": false
   },
   "outputs": [],
   "source": [
    "import sys\n",
    "try:\n",
    "    f = open('Hadoop.txt')\n",
    "    s = f.readline()\n",
    "    i = int(s.strip())\n",
    "except OSError as err:\n",
    "    print(\"OS error: {0}\".format(err))\n",
    "except ValueError:\n",
    "    print(\"No se puedo convertir los datos a entero.\")\n",
    "except:\n",
    "    print(\"Error inesperado:\", sys.exc_info()[0])\n",
    "    raise"
   ]
  },
  {
   "cell_type": "markdown",
   "metadata": {},
   "source": [
    "Uno puede lanzar una excepción usando `raise`, como muestra en el siguiente ejemplo:"
   ]
  },
  {
   "cell_type": "code",
   "execution_count": null,
   "metadata": {
    "collapsed": false
   },
   "outputs": [],
   "source": [
    "raise ValueError(\"Un error de valor a ocurrido.\")"
   ]
  },
  {
   "cell_type": "markdown",
   "metadata": {},
   "source": [
    "Podemos manejar  estas excepciones como cualquier otras excepciones:"
   ]
  },
  {
   "cell_type": "code",
   "execution_count": null,
   "metadata": {
    "collapsed": false
   },
   "outputs": [],
   "source": [
    "try:\n",
    "    raise ValueError(\"Un valor a ocurrido.\")\n",
    "except ValueError:\n",
    "    print(\"ValueError en nuestro codigo.\")"
   ]
  },
  {
   "cell_type": "markdown",
   "metadata": {},
   "source": [
    "La sentencia `try` puede ser seguido por una cláusula `finally`. A la cláusula `finally`  se lo conoce como *cláusulas de limpieza*, y debe ser ejecutada en cualquier circunstancia, es decir, la cláusula se ejecuta siempre, independientemente si se ha producido una excepción en un bloque `try` o no."
   ]
  },
  {
   "cell_type": "code",
   "execution_count": null,
   "metadata": {
    "collapsed": false
   },
   "outputs": [],
   "source": [
    "try:\n",
    "    x = float(input(\"Ingresa un numero: \"))\n",
    "    inverse = 1.0 / x\n",
    "except ValueError:\n",
    "    print(\"Deberías haber dado  un int o un float\")\n",
    "except ZeroDivisionError:\n",
    "    print(\"Infinito\")\n",
    "finally:\n",
    "    print(\"Hay o no hay una excepcion.\")"
   ]
  },
  {
   "cell_type": "markdown",
   "metadata": {},
   "source": [
    "La sentencia `try...except` tiene una cláusula `else` opcional. Un bloque más tiene que ser colocado después de todas las cláusulas `èxcept`. Una cláusula `else` se ejecutará si la cláusula `try` no lanza  una excepción."
   ]
  },
  {
   "cell_type": "code",
   "execution_count": null,
   "metadata": {
    "collapsed": false
   },
   "outputs": [],
   "source": [
    "def division(x, y):\n",
    "    try:\n",
    "        resultado = x / y\n",
    "    except ZeroDivisionError:\n",
    "        print(\"division por cero!\")\n",
    "    else:\n",
    "        print(\"result is\", result)\n",
    "    finally:\n",
    "        print(\"executando la clausula finally\")\n",
    "division(\"uno\", \"dos\")"
   ]
  },
  {
   "cell_type": "code",
   "execution_count": null,
   "metadata": {
    "collapsed": false
   },
   "outputs": [],
   "source": [
    "division(2,0)"
   ]
  },
  {
   "cell_type": "markdown",
   "metadata": {},
   "source": [
    "## Listas\n",
    "\n",
    "Una de las estructuras fundamentales de Python, es sin lugar a dudas el de lista (list). Una lista es ordenación (Esto es similar a lo que en otros lenguajes puede ser llamado como array, pero con algo más de funcionalidad."
   ]
  },
  {
   "cell_type": "code",
   "execution_count": null,
   "metadata": {
    "collapsed": false
   },
   "outputs": [],
   "source": [
    "lista_entero = [2, 5,6]\n",
    "lista_heterogenea = ['Python', 0.3, True]\n",
    "lista_de_lista = [lista_entero, lista_heterogenea]\n",
    "\n",
    "\n",
    "lista_longitud = len(lista_entero)\n",
    "lista_suma     = sum(lista_entero)\n",
    "\n",
    "lista_longitud\n",
    "lista_suma\n",
    "\n",
    "\n",
    "# Podemos conseguir el conjunto de elementos de una lista con corchetes\n",
    "\n",
    "x = list(range(10))\n",
    "zero = x[0]\n",
    "one  = x[1]\n",
    "nine  = x[-1]\n",
    "eight = x[-2]\n",
    "zero, one, nine, eight\n"
   ]
  },
  {
   "cell_type": "code",
   "execution_count": null,
   "metadata": {
    "collapsed": false
   },
   "outputs": [],
   "source": [
    "# Podemos modificar los valores de la lista\n",
    "\n",
    "x = list(range(10))\n",
    "x[0] = -1\n",
    "x"
   ]
  },
  {
   "cell_type": "markdown",
   "metadata": {},
   "source": [
    "Podemos ingresar 'corchetes' para dividir una lista"
   ]
  },
  {
   "cell_type": "code",
   "execution_count": null,
   "metadata": {
    "collapsed": false
   },
   "outputs": [],
   "source": [
    "primeros_tres = x[:3]\n",
    "tres_ultimos  = x[3:]\n",
    "uno_al_cuatro = x[1:5]\n",
    "ultimos_tres = x[-3:]\n",
    "sin_el_primero_ultimo = x[1:-1]\n",
    "copia_de_x = x[:]\n",
    "primeros_tres"
   ]
  },
  {
   "cell_type": "code",
   "execution_count": null,
   "metadata": {
    "collapsed": false
   },
   "outputs": [],
   "source": [
    "tres_ultimos"
   ]
  },
  {
   "cell_type": "code",
   "execution_count": null,
   "metadata": {
    "collapsed": false
   },
   "outputs": [],
   "source": [
    "sin_el_primero_ultimo"
   ]
  },
  {
   "cell_type": "markdown",
   "metadata": {},
   "source": [
    " Python tiene un operador **in** para verificar si un elemento pertenece a una lista. Esto implica que examina los elementos de la lista uno a la vez, de manera que es adecuado  usarlo  si es que la lista es muy pequeña."
   ]
  },
  {
   "cell_type": "code",
   "execution_count": null,
   "metadata": {
    "collapsed": false
   },
   "outputs": [],
   "source": [
    "'erika' in [\"Erika\", \"erika\", \"ErIka\"]"
   ]
  },
  {
   "cell_type": "code",
   "execution_count": null,
   "metadata": {
    "collapsed": false
   },
   "outputs": [],
   "source": [
    "0 in [1,2,3,4]"
   ]
  },
  {
   "cell_type": "markdown",
   "metadata": {},
   "source": [
    "Es facil, concatenar listas, usando la función `extend` :"
   ]
  },
  {
   "cell_type": "code",
   "execution_count": null,
   "metadata": {
    "collapsed": false
   },
   "outputs": [],
   "source": [
    "y = [\"Python\", 3, \"C++\", 1.2, [\"JavaScript\", \"R\"]]\n",
    "y.extend([3,5,7])\n",
    "y"
   ]
  },
  {
   "cell_type": "markdown",
   "metadata": {},
   "source": [
    "Es frecuente también agregar un elemento a la vez, usando la función `append` :"
   ]
  },
  {
   "cell_type": "code",
   "execution_count": null,
   "metadata": {
    "collapsed": false
   },
   "outputs": [],
   "source": [
    "z = [1, 3, 5, 7]\n",
    "z.append(9)\n",
    "z"
   ]
  },
  {
   "cell_type": "markdown",
   "metadata": {},
   "source": [
    "Es conveniente 'desempaquetar' listas si se conoce cuantos elementos ellos contienen, ya que de lo que contrario se puede encontrar un `ValueError`, sino tenemos el mismo número de elementos en ambos lados.  Es común usar un guión abajo, para un valor que estas lanzando:"
   ]
  },
  {
   "cell_type": "code",
   "execution_count": null,
   "metadata": {
    "collapsed": false
   },
   "outputs": [],
   "source": [
    "x, y = [1 , 2]\n",
    "_, y = [1 , 2]\n",
    "y"
   ]
  },
  {
   "cell_type": "markdown",
   "metadata": {},
   "source": [
    "## Tuplas\n",
    "\n",
    "Las tuplas son primas *inmutables* de las  listas. Casi todo lo que se puede hacer a una lista que\n",
    "no implica la modificación, se puede hacer para una tupla. Puede especificar una tupla utilizando\n",
    "paréntesis (o nada) en lugar de corchetes:"
   ]
  },
  {
   "cell_type": "code",
   "execution_count": null,
   "metadata": {
    "collapsed": false
   },
   "outputs": [],
   "source": [
    "a = 'Python', 'R', 'C++', 'Bash'\n",
    "a\n",
    "a[1]\n",
    "for x in a :\n",
    "    print(x, end=' ')"
   ]
  },
  {
   "cell_type": "markdown",
   "metadata": {},
   "source": [
    "La tuplas no se pueden modificar, es decir no se puede eliminar, agregar o editar algún valor dentro de la tupla."
   ]
  },
  {
   "cell_type": "code",
   "execution_count": null,
   "metadata": {
    "collapsed": false
   },
   "outputs": [],
   "source": [
    "lista1 = [1 ,3]\n",
    "tupla1 = (1,3)\n",
    "tupla2 = 4, 5\n",
    "lista1[1] = 8 # la lista es ahora [1,8]\n",
    "\n",
    "try:\n",
    "    tupla1[1] = 8\n",
    "except TypeError:\n",
    "    print (\"No se puede modificar la tupla\")"
   ]
  },
  {
   "cell_type": "markdown",
   "metadata": {},
   "source": [
    "Se pueden desempaquetar valores de alguna tupla en variables:\n"
   ]
  },
  {
   "cell_type": "code",
   "execution_count": null,
   "metadata": {
    "collapsed": false
   },
   "outputs": [],
   "source": [
    "divmod(23, 4)\n",
    "x ,y = divmod(23,8) # (2,7)\n",
    "x"
   ]
  },
  {
   "cell_type": "code",
   "execution_count": null,
   "metadata": {
    "collapsed": false
   },
   "outputs": [],
   "source": [
    "y"
   ]
  },
  {
   "cell_type": "markdown",
   "metadata": {},
   "source": [
    "Las tuplas son una manera conveniente de retornar múltiples valores de las funciones"
   ]
  },
  {
   "cell_type": "code",
   "execution_count": null,
   "metadata": {
    "collapsed": true
   },
   "outputs": [],
   "source": [
    "def sum_and_product(x, y):\n",
    "    return (x + y),(x * y)\n",
    "\n",
    "sp = sum_and_product(2, 3) # igual a  (5, 6)\n",
    "s, p = sum_and_product(5, 10)"
   ]
  },
  {
   "cell_type": "code",
   "execution_count": null,
   "metadata": {
    "collapsed": false
   },
   "outputs": [],
   "source": [
    "s"
   ]
  },
  {
   "cell_type": "code",
   "execution_count": null,
   "metadata": {
    "collapsed": false
   },
   "outputs": [],
   "source": [
    "p"
   ]
  },
  {
   "cell_type": "markdown",
   "metadata": {},
   "source": [
    "## Cadenas \n",
    "\n",
    "En Python, una cadena es una secuencia  de caracteres y son inmutables, es decir, una vez que son definidas no se pueden modificar. "
   ]
  },
  {
   "cell_type": "code",
   "execution_count": null,
   "metadata": {
    "collapsed": false
   },
   "outputs": [],
   "source": [
    "a = \"python, scala, R, C\"\n",
    "b = 'Machine Learning'\n",
    "c = \"\"\"\n",
    "El\n",
    "Mago de\n",
    "Oz\n",
    "\"\"\"\n",
    "\n",
    "print (a)\n",
    "print (b)\n",
    "print (c)"
   ]
  },
  {
   "cell_type": "markdown",
   "metadata": {},
   "source": [
    "Si queremos crear cadenas Unicode, agregamos los caracteres `u` o `U` al inicio del texto."
   ]
  },
  {
   "cell_type": "code",
   "execution_count": null,
   "metadata": {
    "collapsed": false
   },
   "outputs": [],
   "source": [
    "texto = u'\\u041b\\u0435\\u0432 \\u041d\\u0438\\u043a\\u043e\\u043b\\u0430\\\n",
    "\\u0435\\u0432\\u0438\\u0447 \\u0422\\u043e\\u043b\\u0441\\u0442\\u043e\\u0439: \\n\\\n",
    "\\u0410\\u043d\\u043d\\u0430 \\u041a\\u0430\\u0440\\u0435\\u043d\\u0438\\u043d\\u0430'\n",
    "\n",
    "print (texto)"
   ]
  },
  {
   "cell_type": "code",
   "execution_count": null,
   "metadata": {
    "collapsed": false
   },
   "outputs": [],
   "source": [
    "# Algunas operaciones con cadenas\n",
    "\n",
    "lenguajes = [\"Python\", \"C\", \"C++\", \"Java\", \"Perl\"]\n",
    "len(lenguajes)    # 5\n",
    "print(lenguajes[0], lenguajes[2]) # Python, C++\n",
    "print(lenguajes[0] + \" y \" + lenguajes[4] + \" son muy diferentes\")"
   ]
  },
  {
   "cell_type": "code",
   "execution_count": null,
   "metadata": {
    "collapsed": false
   },
   "outputs": [],
   "source": [
    "# Slicing \n",
    "\n",
    "str1 = \"Python es un poderoso lenguaje de Programacion, Java es un lenguaje de programacion comercial\"\n",
    "s_str=str1[0:46]   # Python es un poderoso lenguaje de Programacion\n",
    "s1_str = str1[48:] # Java es un lenguaje de programacion comercial\n",
    "s1_str\n",
    "copia_str = str1[:]\n",
    "copia_str\n"
   ]
  },
  {
   "cell_type": "markdown",
   "metadata": {},
   "source": [
    "También el 'slicing' trabaja con tres argumentos:\n",
    "\n",
    "```python\n",
    "s[inicio : final: paso]\n",
    "```\n",
    "\n",
    "El resultado es una secuencia consistente de los siguientes elementos:\n",
    "\n",
    "```python\n",
    "s[inicio], s[inicio + 1 * paso], ... s[inicio + i * paso], donde  (inicio + i * paso) < final.\n",
    "```"
   ]
  },
  {
   "cell_type": "code",
   "execution_count": null,
   "metadata": {
    "collapsed": false
   },
   "outputs": [],
   "source": [
    "str2 = 'Python en Linux, usando Jupyter es genial'\n",
    "str2[::3]"
   ]
  },
  {
   "cell_type": "markdown",
   "metadata": {},
   "source": [
    "Cuando usamos cadenas, podemos utilizar *secuencias de escape*. Las *secuencia de escape* son caracteres especiales, para própositos específicos, cuando es usada dentro de una cadena. Por ejemplo la secuencia de escape `\\t` coloca espacio de blanco entre texto:"
   ]
  },
  {
   "cell_type": "code",
   "execution_count": null,
   "metadata": {
    "collapsed": false
   },
   "outputs": [],
   "source": [
    "print (\"Python\\tC++\")"
   ]
  },
  {
   "cell_type": "markdown",
   "metadata": {},
   "source": [
    "Si  anteponemos un `r` a  la cadena, se obtiene una cadena de texto (raw string). Las secuencias de escape no se interpretan."
   ]
  },
  {
   "cell_type": "code",
   "execution_count": null,
   "metadata": {
    "collapsed": false
   },
   "outputs": [],
   "source": [
    "print (r\"Another world\\n\")"
   ]
  },
  {
   "cell_type": "markdown",
   "metadata": {},
   "source": [
    "Los métodos `find(), index()` y `rindex()` son usados para encontrar subcadenas en una cadena."
   ]
  },
  {
   "cell_type": "code",
   "execution_count": null,
   "metadata": {
    "collapsed": false
   },
   "outputs": [],
   "source": [
    "a = \"Yo aprendi Python!. Si Python\"\n",
    "\n",
    "print (a.find(\"Python\")) # Encuentra el indice de la subcadena en la cadena\n",
    "print (a.find(\"Python\", 10, 20))\n",
    "print (a.find(\"Python\", 15))\n",
    "\n",
    "print (a.rfind(\"Python\")) # Lo mismo que find(), solo le que empieza desde el final de la cadena"
   ]
  },
  {
   "cell_type": "markdown",
   "metadata": {},
   "source": [
    "Usemos el método `ìndex()` en el siguiente ejemplo:"
   ]
  },
  {
   "cell_type": "code",
   "execution_count": null,
   "metadata": {
    "collapsed": false
   },
   "outputs": [],
   "source": [
    "a1 = \"Yo aprendi Java!. Si Java y Python\"\n",
    "\n",
    "print (a1.index(\"Java\"))\n",
    "print (a1.rindex(\"Java\"))\n",
    "\n",
    "try:\n",
    "    print (a1.rindex('Perl'))\n",
    "except ValueError :\n",
    "    print ('No se encuentra en  la cadena')"
   ]
  },
  {
   "cell_type": "markdown",
   "metadata": {},
   "source": [
    "El método `replace()`  reemplaza subcadenas en una cadena con otras. Por defecto, se reemplaza todas las ocurrencias de una subcadena. El método tiene un tercer argumento que limita los reemplazos a un determinado número."
   ]
  },
  {
   "cell_type": "code",
   "execution_count": null,
   "metadata": {
    "collapsed": false
   },
   "outputs": [],
   "source": [
    "a2 = \"Yo aprendi Java!. Si Java y Python\"\n",
    "a3 = a2.replace(\"Java\", \"Lisp\")\n",
    "print(a3)\n",
    "a4 = a2.replace(\"Java\", \"C++\", 1)\n",
    "print(a4)"
   ]
  },
  {
   "cell_type": "markdown",
   "metadata": {},
   "source": [
    "Una cadena se puede dividir con los métodos `split()` o `rsplit()`. Estos devuelven  una lista de cadenas que 'fueron cortadas' de la cadena mediante un separador. Hay un segundo parámetro opcional que es el máximo de divisiones permitidos."
   ]
  },
  {
   "cell_type": "code",
   "execution_count": null,
   "metadata": {
    "collapsed": false
   },
   "outputs": [],
   "source": [
    "nums = \"1,3,5,7,9,11,13,15\"\n",
    "\n",
    "k = nums.split(\",\")\n",
    "print (k)\n",
    "\n",
    "l = nums.split(\",\", 5)\n",
    "print (l)\n",
    "\n",
    "m = nums.rsplit(\",\", 3)\n",
    "print (m)"
   ]
  },
  {
   "cell_type": "markdown",
   "metadata": {},
   "source": [
    "Las cadenas pueden ser unidas con el método `join()`. Devuelve una cadena concatenada de las cadenas pasadas como parámetro. El separador entre los elementos es la cadena que proporciona este método:"
   ]
  },
  {
   "cell_type": "code",
   "execution_count": null,
   "metadata": {
    "collapsed": false
   },
   "outputs": [],
   "source": [
    "s = \"-\";\n",
    "seq = (\"a\", \"b\", \"c\"); # Esta es una secuencia de cadenas .\n",
    "print (s.join( seq ))"
   ]
  },
  {
   "cell_type": "code",
   "execution_count": null,
   "metadata": {
    "collapsed": false
   },
   "outputs": [],
   "source": [
    "nums = \"1,4,8,12,28,31,108,900\"\n",
    "n = nums.split(\",\")\n",
    "print (n)\n",
    "\n",
    "m = ':'.join(n)\n",
    "print (m)"
   ]
  },
  {
   "cell_type": "markdown",
   "metadata": {},
   "source": [
    "Python tiene cuatro métodos  que  devuelven una nueva cadena modificada. Veamos un ejemplo:\n"
   ]
  },
  {
   "cell_type": "code",
   "execution_count": null,
   "metadata": {
    "collapsed": false
   },
   "outputs": [],
   "source": [
    "s = \"MachineLearning\"\n",
    "\n",
    "print (s.upper())   # copia de s con letras mayusculas\n",
    "print (s.lower())   # copia de s con letras minusculas \n",
    "print (s.swapcase()) # Intercambio de letras mayuscula a minuscula y viceversa\n",
    "print (s.title())"
   ]
  },
  {
   "cell_type": "markdown",
   "metadata": {},
   "source": [
    "Hay varias funciones incorporadas útiles que se pueden utilizar para trabajar con cadenas."
   ]
  },
  {
   "cell_type": "code",
   "execution_count": null,
   "metadata": {
    "collapsed": false
   },
   "outputs": [],
   "source": [
    "# Uso de funciones incorporadas a  Python para\n",
    "# el uso de cadenas. \n",
    "\n",
    "str1 = \"Hay muchos lenguajes de Programacion raros: Ook, Piet, Befunge\"\n",
    "\n",
    "letras = 0\n",
    "digitos = 0\n",
    "espacios = 0\n",
    "\n",
    "for i in str1:\n",
    "   if i.isalpha():\n",
    "      letras += 1\n",
    "   if i.isdigit():\n",
    "      digitos += 1\n",
    "   if i.isspace():\n",
    "      espacios += 1\n",
    "\n",
    "print (\"Hay\", len(str1), \"caracteres\")\n",
    "print (\"Hay\", letras, \"caracteres alfabeticos\")\n",
    "print (\"Hay\", digitos, \"digitos en la cadena\")\n",
    "print (\"Hay\", espacios, \"espacios en la cadena\")"
   ]
  },
  {
   "cell_type": "markdown",
   "metadata": {},
   "source": [
    "El formato de cadenas, usamos el método `format` agregado en la versión 2.6 de Python. La forma general de este método luce como:\n",
    "\n",
    "```python\n",
    "str.format(p0,p1,..., k0 = v0, k1 = v1,...)\n",
    "```"
   ]
  },
  {
   "cell_type": "code",
   "execution_count": null,
   "metadata": {
    "collapsed": false
   },
   "outputs": [],
   "source": [
    "\"First argument: {0}, second one: {1}\".format(47,11) "
   ]
  },
  {
   "cell_type": "markdown",
   "metadata": {},
   "source": [
    "En el siguiente ejemplo se demuestra cómo los parámetros se puede utilizar con el método  `format`. Mayor información en [stackoverflow: % vs .format](http://stackoverflow.com/questions/5082452/python-string-formatting-vs-format)."
   ]
  },
  {
   "cell_type": "code",
   "execution_count": null,
   "metadata": {
    "collapsed": false
   },
   "outputs": [],
   "source": [
    "\"Regalo: {a:5d},  Precio: {p:8.2f}\".format(a=453, p=59.058)"
   ]
  },
  {
   "cell_type": "markdown",
   "metadata": {},
   "source": [
    "## Diccionarios\n",
    "\n",
    "Una estructura fundamental de Python, es el diccionario, el cual está asociado con *valores* y *claves* y permite recuperar el valor correspondiente a la clave."
   ]
  },
  {
   "cell_type": "code",
   "execution_count": null,
   "metadata": {
    "collapsed": false
   },
   "outputs": [],
   "source": [
    "diccionario_vacio ={}\n",
    "diccionario_vacio1 = dict()\n",
    "notas = {'Cesar': 85, \"Milagros\": 89} # diccionario literal\n",
    "\n",
    "Mili_notas = notas[\"Milagros\"] # Mostramos el valor de una clave\n",
    "Mili_notas "
   ]
  },
  {
   "cell_type": "markdown",
   "metadata": {},
   "source": [
    "Conseguimos un `KeyError` si solicitas por una clave que no está en el diccionario"
   ]
  },
  {
   "cell_type": "code",
   "execution_count": null,
   "metadata": {
    "collapsed": false
   },
   "outputs": [],
   "source": [
    "try:\n",
    "    Checha_notas = notas[\"checha\"]\n",
    "except KeyError:\n",
    "    print (\"No existen notas para checha!\")"
   ]
  },
  {
   "cell_type": "code",
   "execution_count": null,
   "metadata": {
    "collapsed": false
   },
   "outputs": [],
   "source": [
    "# Verificamos la existencia de una clave usando: in\n",
    "\n",
    "Mili_tiene_notas = 'Milagros' in notas\n",
    "checha_tiene_notas = 'checha' in notas\n",
    "\n",
    "Mili_tiene_notas"
   ]
  },
  {
   "cell_type": "markdown",
   "metadata": {},
   "source": [
    "Los diccionarios tienen un método `get ` que retorna un valor por defecto (en lugar de mostrar una `excepción`, cuando miras  que la clave no está en el diccionario:"
   ]
  },
  {
   "cell_type": "code",
   "execution_count": null,
   "metadata": {
    "collapsed": true
   },
   "outputs": [],
   "source": [
    "Mili_notas = notas.get(\"Milagros\", 0)\n",
    "Checha_notas = notas.get(\"checha\", 0) # igual a 0\n",
    "no_hay_notas = notas.get(\"Ninguna\")   # el valor por defecto es None"
   ]
  },
  {
   "cell_type": "code",
   "execution_count": null,
   "metadata": {
    "collapsed": false
   },
   "outputs": [],
   "source": [
    "Checha_notas"
   ]
  },
  {
   "cell_type": "code",
   "execution_count": null,
   "metadata": {
    "collapsed": true
   },
   "outputs": [],
   "source": [
    "no_hay_notas"
   ]
  },
  {
   "cell_type": "markdown",
   "metadata": {},
   "source": [
    "Podemos asignar clave-valor usando los mismos corchetes\n"
   ]
  },
  {
   "cell_type": "code",
   "execution_count": null,
   "metadata": {
    "collapsed": false
   },
   "outputs": [],
   "source": [
    "notas['Gabriela'] = 88\n",
    "notas['Cesar'] = 91\n",
    "num_estudiantes = len(notas)\n",
    "notas"
   ]
  },
  {
   "cell_type": "markdown",
   "metadata": {},
   "source": [
    "Los diccionarios se usan como una manera simple de representar datos estructurados:"
   ]
  },
  {
   "cell_type": "code",
   "execution_count": null,
   "metadata": {
    "collapsed": false
   },
   "outputs": [],
   "source": [
    "tweet = {\n",
    "    \"usuario\" : \"C-Lara\",\n",
    "    \"texto\" : \"M-L\",\n",
    "    \"respuestas\" : 100,\n",
    "    \"hashtags\" : [\"#data\", \"#science\", \"#datascience\", \"#python\", \"#R\"]\n",
    "}\n",
    "tweet"
   ]
  },
  {
   "cell_type": "markdown",
   "metadata": {},
   "source": [
    "Además de buscar las claves específicas, podemos realizar todas las operaciones anteriores:"
   ]
  },
  {
   "cell_type": "code",
   "execution_count": null,
   "metadata": {
    "collapsed": false
   },
   "outputs": [],
   "source": [
    "tweet_claves  = tweet.keys() # lista todas las claves\n",
    "tweet_valores = tweet.values() # lista todos los valores\n",
    "tweet_items   = tweet.items()   # lista de (clave, valor) en tuplas\n",
    "\n",
    "'usuario' in tweet_claves\n",
    "'usuario' in  tweet\n",
    "'C-Lara'  in tweet_valores"
   ]
  },
  {
   "cell_type": "code",
   "execution_count": null,
   "metadata": {
    "collapsed": false
   },
   "outputs": [],
   "source": [
    "tweet_items"
   ]
  },
  {
   "cell_type": "markdown",
   "metadata": {},
   "source": [
    "Las claves de los diccionarios deben ser inmutables; en particular, no puede utilizar una `list` como claves. Si\n",
    "es necesaria una clave se  debe usar una tupla o encontrar una manera de poner la clave en una cadena. \n",
    "\n"
   ]
  },
  {
   "cell_type": "markdown",
   "metadata": {},
   "source": [
    "El módulo **json** proporciona una API para convertir objetos de Python en memoria a una representación serializada conocido como JavaScript Object Notation (JSON). JSON tiene la ventaja de contar con implementaciones en muchos lenguajes (especialmente en JavaScript), lo que es adecuado para la comunicación entre aplicaciones. Por ejemplo:"
   ]
  },
  {
   "cell_type": "code",
   "execution_count": null,
   "metadata": {
    "collapsed": false
   },
   "outputs": [],
   "source": [
    "import json\n",
    "\n",
    "data = {\n",
    "   'nombre' : 'Python',\n",
    "   'descarga' : 100,\n",
    "   'precio' : 542.23\n",
    "}\n",
    "\n",
    "json_str = json.dumps(data)\n",
    "json_str   # Codificamos una estructura python en JSON"
   ]
  },
  {
   "cell_type": "code",
   "execution_count": null,
   "metadata": {
    "collapsed": false
   },
   "outputs": [],
   "source": [
    "# Realizamos el proceso inverso\n",
    "\n",
    "data = json.loads(json_str)\n",
    "type(data)"
   ]
  },
  {
   "cell_type": "markdown",
   "metadata": {},
   "source": [
    "EL formato JSON, es casi idéntico a la sintaxis de Python, salvo, algunas diferencias. Por ejemplo `True` es llevado a `true`, `False` es llevado a `false` y `None` es llevado a `null`:"
   ]
  },
  {
   "cell_type": "code",
   "execution_count": null,
   "metadata": {
    "collapsed": false
   },
   "outputs": [],
   "source": [
    "json.dumps(False)"
   ]
  },
  {
   "cell_type": "code",
   "execution_count": null,
   "metadata": {
    "collapsed": false
   },
   "outputs": [],
   "source": [
    "d = {'a': True,\n",
    "     'b': 'Hello',\n",
    "     'c': None}\n",
    "json.dumps(d)"
   ]
  },
  {
   "cell_type": "markdown",
   "metadata": {},
   "source": []
  },
  {
   "cell_type": "markdown",
   "metadata": {
    "collapsed": true
   },
   "source": [
    "Basados en el [artículo de John Strickler](https://www.accelebrate.com/blog/using-defaultdict-python/), el tipo `defaultdict`, es como un diccionario regular, pero es inicializado con una función que no toma argumentos y proporciona el valor por defecto de una clave no existente.  Con el fin de utilizar `defaultdict`, tenemos  que importarlos desde `collections`."
   ]
  },
  {
   "cell_type": "code",
   "execution_count": null,
   "metadata": {
    "collapsed": false
   },
   "outputs": [],
   "source": [
    "#import collections\n",
    "from collections import defaultdict \n",
    "lenguajes = defaultdict(lambda: 'python')\n",
    "\n",
    "lenguajes[\"Cesar\"] =\"R\"\n",
    "lenguajes[\"Mili\"] = \"Latex\"\n",
    "print(lenguajes[\"Mili\"])\n",
    "print(lenguajes[\"Claudi\"])\n"
   ]
  },
  {
   "cell_type": "markdown",
   "metadata": {},
   "source": [
    "En este ejemplo, `default` es usado para contar. La función por defecto es `int`, la cual a su vez tiene un valor por defecto igual a 0."
   ]
  },
  {
   "cell_type": "code",
   "execution_count": null,
   "metadata": {
    "collapsed": false
   },
   "outputs": [],
   "source": [
    "from collections import defaultdict\n",
    "\n",
    "lenguajes_lista = 'R Python JavaScript C Latex'.split()\n",
    "lenguajes_contador = defaultdict(int) # valor por defecto de int es 0\n",
    "for lenguaje in lenguajes_lista:\n",
    "    lenguajes_contador[lenguaje] +=1\n",
    "\n",
    "lenguajes_contador    "
   ]
  },
  {
   "cell_type": "markdown",
   "metadata": {},
   "source": [
    "`defaultdict` puede ser útil con `list, dict` o incluso con tus propias funciones:"
   ]
  },
  {
   "cell_type": "code",
   "execution_count": null,
   "metadata": {
    "collapsed": false
   },
   "outputs": [],
   "source": [
    "list1_ = defaultdict(list)   #Lista vacia\n",
    "list1_[\"C\"].append(1)\n",
    "list1_                       # {2:[1]}\n",
    "\n",
    "dict1_ = defaultdict(dict)   #diccionario vacio\n",
    "dict1_[\"Cesar\"][\"Ciudad\"] = \"Lima\" #{ \"Cesar\" : { \"Ciudad\" : Lima\"}}\n",
    "dict1_\n",
    "\n",
    "fun1_ = defaultdict(lambda: [0, 0])\n",
    "fun1_[2][1] = 1\n",
    "fun1_"
   ]
  },
  {
   "cell_type": "markdown",
   "metadata": {},
   "source": [
    "`Counter` es un contenedor que mantiene un registro de cuántas veces se añaden valores equivalentes. `Counter` es compatible con tres formas de inicialización. Este constructor puede ser llamado con una secuencia de elementos, un diccionario conteniendo  claves y  conteos o usando nombres como argumentos para los conteos:"
   ]
  },
  {
   "cell_type": "code",
   "execution_count": null,
   "metadata": {
    "collapsed": false
   },
   "outputs": [],
   "source": [
    "import collections\n",
    "\n",
    "print (collections.Counter(['a', 'b', 'c', 'a', 'b', 'b']))\n",
    "print (collections.Counter({'a':2, 'b':3, 'c':1}))\n",
    "print (collections.Counter(a=2, b=3, c=1))"
   ]
  },
  {
   "cell_type": "markdown",
   "metadata": {},
   "source": [
    "Podemos recuperar los valores desde `Counter`, de la siguiente forma :"
   ]
  },
  {
   "cell_type": "code",
   "execution_count": null,
   "metadata": {
    "collapsed": false
   },
   "outputs": [],
   "source": [
    "import collections\n",
    "\n",
    "d = collections.Counter('abbeeddaabbbccc')\n",
    "for letra in 'abcdef':\n",
    "    print ('%s: %d' %(letra, d[letra]))"
   ]
  },
  {
   "cell_type": "markdown",
   "metadata": {},
   "source": [
    "`Counter` no lanza  la excepción `KeyError` para los elementos desconocidos. Si un valor no se  encuentra (como la f en este ejemplo), el conteo es 0. Mayor información en el artículo de Doug Hellmann [PyMOTW-3](https://pymotw.com/2/collections/counter.html)."
   ]
  },
  {
   "cell_type": "markdown",
   "metadata": {},
   "source": [
    "El método `most_common()` produce una secuencia de los *n*  valores de entrada que más se 'encuentran' y sus respectivos números de coincidencia."
   ]
  },
  {
   "cell_type": "code",
   "execution_count": null,
   "metadata": {
    "collapsed": false
   },
   "outputs": [],
   "source": [
    "import collections\n",
    "\n",
    "c = collections.Counter()\n",
    "with open('Svm.txt', 'rt') as f:\n",
    "    for linea in f:\n",
    "        c.update(linea.rstrip().lower())\n",
    "\n",
    "print ('Mas comunes :')\n",
    "for letra, contador in c.most_common(5):\n",
    "    print ('%s: %7d' % (letra, contador))"
   ]
  },
  {
   "cell_type": "markdown",
   "metadata": {},
   "source": [
    "[enumerate](https://docs.python.org/3/library/enum.html) es una función integrada de Python. Su utilidad no se puede resumir en una sóla línea.  Sin embargo, la mayoría de los recién llegados e incluso algunos programadores avanzados no son conscientes de ello. Con esta función se  nos permite iterar sobre algo y tener un contador automático. \n",
    "\n",
    "```python\n",
    "for i, valor in enumerate(lista):\n",
    "    print(i, valor)\n",
    "```\n",
    "\n",
    "Aquí un ejemplo:"
   ]
  },
  {
   "cell_type": "code",
   "execution_count": null,
   "metadata": {
    "collapsed": false
   },
   "outputs": [],
   "source": [
    "mis_lenguajes= ['R', 'Python', \"C++\", \"JavaScript\"]\n",
    "for i, lenguajes in enumerate(mis_lenguajes, 1):\n",
    "    print(i, lenguajes)"
   ]
  },
  {
   "cell_type": "markdown",
   "metadata": {},
   "source": [
    "Muchas veces vamos a necesitar  comprimir dos o más listas juntas. La [función zip](https://docs.python.org/3.3/library/functions.html#zip) transforma varias listas en una única lista de tuplas de elementos correspondientes:\n"
   ]
  },
  {
   "cell_type": "code",
   "execution_count": null,
   "metadata": {
    "collapsed": false
   },
   "outputs": [],
   "source": [
    "lista1 = ['Erika', 'Delia', 'Milagros']\n",
    "lista2 = [1,2,3]\n",
    "lista  = zip(lista1, lista2)\n",
    "list(lista)"
   ]
  },
  {
   "cell_type": "markdown",
   "metadata": {},
   "source": [
    "Si las listas tienen diferentes longitud, zip se detiene tan pronto como la primera lista finaliza. Tu puedes 'descomprimir' una lista, usando un 'truco'"
   ]
  },
  {
   "cell_type": "code",
   "execution_count": null,
   "metadata": {
    "collapsed": false
   },
   "outputs": [],
   "source": [
    "chicas = [('Erika', 1), ('Delia', 2), ('Milagros', 3)]\n",
    "lista1, lista2 = zip(*chicas)\n",
    "lista1"
   ]
  },
  {
   "cell_type": "code",
   "execution_count": null,
   "metadata": {
    "collapsed": false
   },
   "outputs": [],
   "source": [
    "lista2"
   ]
  },
  {
   "cell_type": "markdown",
   "metadata": {},
   "source": [
    "## Conjuntos\n",
    "\n",
    "Otra estructura de datos es `set`, que representa una colección de distintos elementos:"
   ]
  },
  {
   "cell_type": "code",
   "execution_count": null,
   "metadata": {
    "collapsed": false
   },
   "outputs": [],
   "source": [
    "s = set()\n",
    "s.add(1) # s es ahora { 1 }\n",
    "s.add(2) # s es ahora { 1, 2 }\n",
    "s.add(2) # s es aun  { 1, 2 }\n",
    "x = len(s) # igual a 2\n",
    "y = 2 in s # igual a  True\n",
    "z = 3 in s # igual a  False\n",
    "x, y, z"
   ]
  },
  {
   "cell_type": "markdown",
   "metadata": {},
   "source": [
    "Vamos a utilizar conjuntos por dos razones principales. La primera es que `in` es una operación es muy rápida con los conjuntos. Si tenemos una gran colección de objetos que queremos utilizar para una prueba de pertenencia, los conjunto\n",
    "son más apropiada que una lista:"
   ]
  },
  {
   "cell_type": "code",
   "execution_count": null,
   "metadata": {
    "collapsed": false
   },
   "outputs": [],
   "source": [
    "alguna_lista = ['a', 'b', 'c', 'b', 'd', 'm', 'n', 'n']\n",
    "duplicados = set([x for x in alguna_lista if alguna_lista.count(x) > 1])\n",
    "print(duplicados)"
   ]
  },
  {
   "cell_type": "markdown",
   "metadata": {},
   "source": [
    "La segunda razón  es para encontrar distintos ítems en una colección:"
   ]
  },
  {
   "cell_type": "code",
   "execution_count": null,
   "metadata": {
    "collapsed": false
   },
   "outputs": [],
   "source": [
    "item_lista = [1, 2, 3, 1, 2, 3, 4, 5, 5,]\n",
    "num_items = len(item_lista) \n",
    "item_set = set(item_lista) \n",
    "num_distintos_items = len(item_set) \n",
    "distintos_item_lista = list(item_set)\n",
    "num_items, item_set, num_distintos_items, distintos_item_lista"
   ]
  },
  {
   "cell_type": "markdown",
   "metadata": {
    "collapsed": true
   },
   "source": [
    "## Aleatoriedad \n",
    "\n",
    "En análisis de datos, es frecuente generar números aleatorios, el cual puede hacerse con el módulo [random](https://docs.python.org/3.0/library/random.html):"
   ]
  },
  {
   "cell_type": "code",
   "execution_count": null,
   "metadata": {
    "collapsed": false
   },
   "outputs": [],
   "source": [
    "import random \n",
    "\n",
    "cuatro_elementos_aleatorios = [random.random() for _ in range(4)]\n",
    "cuatro_elementos_aleatorios"
   ]
  },
  {
   "cell_type": "markdown",
   "metadata": {},
   "source": [
    "El módulo random, produce [números pseudoaleatorios](https://es.wikipedia.org/wiki/N%C3%BAmero_pseudoaleatorio). Las funciones a las que hacemos referencia, cada vez que son invocadas, devuelven un valor de una secuencia de números predeterminada. Esta secuencia tiene un periodo bastante largo, es decir, es necesario obtener muchos números antes de que se vuelva a reproducir la misma secuencia. De ahí, el tratamiento de pseudo (o falso), aunque la utilidad que nos ofrezca sea equivalente al de los números aleatorios. Cuando nos interese obtener varias veces la misma secuencia de números pseudoaleatoria se puede utilizar la función  [random.seed](http://stackoverflow.com/questions/22639587/random-seed-what-does-it-do)  que fija mediante una \"semilla\" el mismo comienzo en cada secuencia, permitiendo con ello obtener series con los mismos valores. \n"
   ]
  },
  {
   "cell_type": "code",
   "execution_count": null,
   "metadata": {
    "collapsed": false
   },
   "outputs": [],
   "source": [
    "random.seed(4)\n",
    "print (random.random())\n",
    "random.seed(4)\n",
    "print (random.random())\n",
    "random.seed(4)\n",
    "print (random.random())\n",
    "random.seed(4)\n",
    "print (random.random())\n"
   ]
  },
  {
   "cell_type": "markdown",
   "metadata": {},
   "source": [
    "Algunas veces usamos la función `random.randrange` que devuelve enteros que van desde un valor inicial a otro final separados entre sí un número de valores determinados. Esta separación (o paso) se utiliza en primer lugar con el valor inicial para calcular el siguiente valor y los sucesivos hasta llegar al valor final o al más cercano posible. "
   ]
  },
  {
   "cell_type": "code",
   "execution_count": null,
   "metadata": {
    "collapsed": false
   },
   "outputs": [],
   "source": [
    "random.randrange(3, 6) # Escoge aleatoriamente desde el rango[3,4,5]"
   ]
  },
  {
   "cell_type": "markdown",
   "metadata": {},
   "source": [
    "Hay otros métodos que también pueden ser convenientes. `random.shuffle` 'mezcla' o cambia aleatoriamente el orden de los elementos de una lista antes de realizar la selección de alguno de ellos. "
   ]
  },
  {
   "cell_type": "code",
   "execution_count": null,
   "metadata": {
    "collapsed": false
   },
   "outputs": [],
   "source": [
    "hasta_diez = list(range(10))\n",
    "random.shuffle(hasta_diez)\n",
    "print (hasta_diez)"
   ]
  },
  {
   "cell_type": "markdown",
   "metadata": {},
   "source": [
    "Si necesitamos aleatoriamente escoger un elemento de una lista, podemos usar la función `random.choice`"
   ]
  },
  {
   "cell_type": "code",
   "execution_count": null,
   "metadata": {
    "collapsed": false
   },
   "outputs": [],
   "source": [
    "mis_lenguajes_favoritos = random.choice(['Python', 'R', 'JavaScript', 'SQL', \"C\"])\n",
    "mis_lenguajes_favoritos"
   ]
  },
  {
   "cell_type": "markdown",
   "metadata": {},
   "source": [
    "Para escoger de manera aleatoria una muestra de elementos sin reemplazamiento ( sin duplicados), podemos usar la función \n",
    "`random.sample`"
   ]
  },
  {
   "cell_type": "code",
   "execution_count": null,
   "metadata": {
    "collapsed": false
   },
   "outputs": [],
   "source": [
    "numeros_loteria = list(range(60))\n",
    "numeros_ganadores = random.sample(numeros_loteria, 6)\n",
    "numeros_ganadores"
   ]
  },
  {
   "cell_type": "markdown",
   "metadata": {},
   "source": [
    "Para escoger una muestra de elementos con reemplazo (se permite duplicados), se hace llamadas múltiples a `random.choice`:"
   ]
  },
  {
   "cell_type": "code",
   "execution_count": null,
   "metadata": {
    "collapsed": false
   },
   "outputs": [],
   "source": [
    "cuatro_con_reemplazamiento = [random.choice(list(range(10)) ) for _ in range(4)]\n",
    "cuatro_con_reemplazamiento"
   ]
  },
  {
   "cell_type": "markdown",
   "metadata": {},
   "source": [
    "## Expresiones regulares \n",
    "\n",
    "Las [expresiones regulares](https://docs.python.org/3/library/re.html) proporcionan una manera de buscar patrones en los textos. Estas son increiblemente útiles, pero bastante complicadas, de forma que hay libros enteros escritos acerca de ellos. Mostremos algunos ejemplos acerca de sus aplicaciones\n",
    "\n",
    "El método `re.search()` toma un patrón sobre  expresión regular y una cadena y busca ese patrón dentro de la cadena. Si la búsqueda es exitosa, `search()` devuelve un objeto que cumple con ese patrón o `None` en caso contrario. Por lo tanto, la búsqueda es generalmente seguida  por una sentencia `if` para comprobar si la búsqueda tuvo éxito.\n"
   ]
  },
  {
   "cell_type": "code",
   "execution_count": null,
   "metadata": {
    "collapsed": false
   },
   "outputs": [],
   "source": [
    "import re\n",
    "\n",
    "str = 'un ejemplo de  palabra:cat!!'\n",
    "match = re.search(r'palabra:\\w\\w\\w', str)\n",
    "if match:\n",
    "    print ('Encontramos la ', match.group() )\n",
    "else:\n",
    "    print ('palabra no encontrada ')\n"
   ]
  },
  {
   "cell_type": "markdown",
   "metadata": {},
   "source": [
    "El módulo `re` incluye funciones  para trabajar con expresiones regulares como cadena de textos, pero es usualmente más eficiente *compilar* las expresiones que tu programa usa frecuentemente. La función `compile()` convierte una cadena en un `RegexObject`."
   ]
  },
  {
   "cell_type": "code",
   "execution_count": null,
   "metadata": {
    "collapsed": false
   },
   "outputs": [],
   "source": [
    "import re\n",
    "\n",
    "# Pre-compilamos el patron del texto\n",
    "\n",
    "regexes = [re.compile(p) for p in ['sc',\n",
    "                                  'py']\n",
    "          ]\n",
    "texto = \"Scala y python son lenguajes de programacion?\"\n",
    "\n",
    "for regex in regexes:\n",
    "    print(' Buscando por \"%s\" en\"%s\" ->' %(regex.pattern, texto),)\n",
    "    if regex.search(texto):\n",
    "        print ('Encontramos un emparejamiento')\n",
    "    else:\n",
    "        print ('No hay emparejamientos')\n"
   ]
  },
  {
   "cell_type": "code",
   "execution_count": null,
   "metadata": {
    "collapsed": true
   },
   "outputs": [],
   "source": []
  }
 ],
 "metadata": {
  "kernelspec": {
   "display_name": "Python 3",
   "language": "python",
   "name": "python3"
  },
  "language_info": {
   "codemirror_mode": {
    "name": "ipython",
    "version": 3
   },
   "file_extension": ".py",
   "mimetype": "text/x-python",
   "name": "python",
   "nbconvert_exporter": "python",
   "pygments_lexer": "ipython3",
   "version": "3.5.1"
  }
 },
 "nbformat": 4,
 "nbformat_minor": 0
}
