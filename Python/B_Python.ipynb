{
 "cells": [
  {
   "cell_type": "markdown",
   "metadata": {},
   "source": [
    "# Curso de Python Básico"
   ]
  },
  {
   "cell_type": "markdown",
   "metadata": {},
   "source": [
    "## El Zen de Python"
   ]
  },
  {
   "cell_type": "code",
   "execution_count": 10,
   "metadata": {
    "collapsed": false
   },
   "outputs": [
    {
     "name": "stdout",
     "output_type": "stream",
     "text": [
      "The Zen of Python, by Tim Peters\n",
      "\n",
      "Beautiful is better than ugly.\n",
      "Explicit is better than implicit.\n",
      "Simple is better than complex.\n",
      "Complex is better than complicated.\n",
      "Flat is better than nested.\n",
      "Sparse is better than dense.\n",
      "Readability counts.\n",
      "Special cases aren't special enough to break the rules.\n",
      "Although practicality beats purity.\n",
      "Errors should never pass silently.\n",
      "Unless explicitly silenced.\n",
      "In the face of ambiguity, refuse the temptation to guess.\n",
      "There should be one-- and preferably only one --obvious way to do it.\n",
      "Although that way may not be obvious at first unless you're Dutch.\n",
      "Now is better than never.\n",
      "Although never is often better than *right* now.\n",
      "If the implementation is hard to explain, it's a bad idea.\n",
      "If the implementation is easy to explain, it may be a good idea.\n",
      "Namespaces are one honking great idea -- let's do more of those!\n"
     ]
    }
   ],
   "source": [
    "import this"
   ]
  },
  {
   "cell_type": "markdown",
   "metadata": {},
   "source": [
    "### Formato de los espacios en blanco\n",
    "En [Python](https://www.python.org/)  se usa la **indentación**, a diferencia de otros lenguajes de programación, que usan llaves para delimitar bloques de código:\n",
    "\n",
    "\n"
   ]
  },
  {
   "cell_type": "code",
   "execution_count": 11,
   "metadata": {
    "collapsed": false
   },
   "outputs": [
    {
     "name": "stdout",
     "output_type": "stream",
     "text": [
      "Yo soy Kapu, y puedo ser tu amigo\n"
     ]
    }
   ],
   "source": [
    "# Clases y herencia en Python\n",
    "\n",
    "class Animalito():\n",
    "    def __init__(self, nombre):\n",
    "        self.nombre = nombre\n",
    "    \n",
    "    def decir_algo(self):\n",
    "        print (\"Yo soy\" + self.nombre)\n",
    "\n",
    "class Perrito(Animalito):\n",
    "    def decir_algo(self):\n",
    "        print (\"Yo soy \" +  self.nombre + \", y puedo ser tu amigo\")\n",
    "\n",
    "perrito = Perrito(\"Kapu\")\n",
    "perrito.decir_algo()"
   ]
  },
  {
   "cell_type": "markdown",
   "metadata": {},
   "source": [
    "## Módulos\n",
    "\n",
    "Un módulo es un archivo que contiene código Python. El nombre de un módulo es el nombre del archivo con la extensión `.py`.\n",
    "La variable `__name__` es una variable que almacena el nombre del módulo que se está haciendo referencia. El actual módulo, el módulo que está siendo ejecutado tiene un especial nombre: `__main__`. Con este nombre puede ser referenciado desde el código Python.\n",
    "\n",
    "Supongamos que tenemos dos archivos: `mod1.py` y `mod2.py`. El segundo módulo es el módulo principal, el cual es ejecutado. Este importa el primer módulo. Los módulos son importados usando la palabra clave `import`."
   ]
  },
  {
   "cell_type": "code",
   "execution_count": 12,
   "metadata": {
    "collapsed": false
   },
   "outputs": [
    {
     "name": "stdout",
     "output_type": "stream",
     "text": [
      "hola: yo soy un módulo\n"
     ]
    }
   ],
   "source": [
    "# Archivo mod1.py\n",
    "\n",
    "\"\"\"\n",
    "Ejemplo de un módulo\n",
    "\"\"\"\n",
    "print(\"hola: yo soy un módulo\")"
   ]
  },
  {
   "cell_type": "code",
   "execution_count": 13,
   "metadata": {
    "collapsed": false
   },
   "outputs": [
    {
     "name": "stdout",
     "output_type": "stream",
     "text": [
      "hola: yo soy un módulo\n",
      "__main__\n",
      "mod1\n",
      "sys\n"
     ]
    }
   ],
   "source": [
    "# Archivo mod2.py\n",
    "\n",
    "import mod1\n",
    "import sys\n",
    "\n",
    "print (__name__)\n",
    "print (mod1.__name__)\n",
    "print(sys.__name__)"
   ]
  },
  {
   "cell_type": "markdown",
   "metadata": {},
   "source": [
    "Cuando se importa un módulo el itérprete busca entre los módulos integrados  ese nombre. Si no lo encuentra, entonces busca en una lista de directorios dada por la  variable `sys.path`. La variable `sys.path` es una lista de cadenas que especifica la ruta de búsqueda para los módulos. Consiste del directorio de trabajo actual, los nombres de directorios especificados en la variable de entorno `PYTHONPATH` y algunos directorios adicionales  dependientes de la instalación . Si no se encuentra el módulo, se produce una excepción `ImportError`.\n",
    "\n",
    "\n",
    "La palabra clave `import ` puede ser usado de varias maneras:\n",
    "\n",
    "```python\n",
    "import modulo\n",
    "````"
   ]
  },
  {
   "cell_type": "code",
   "execution_count": 14,
   "metadata": {
    "collapsed": false
   },
   "outputs": [
    {
     "data": {
      "text/plain": [
       "re.compile(r'[0-9]+', re.IGNORECASE|re.UNICODE)"
      ]
     },
     "execution_count": 14,
     "metadata": {},
     "output_type": "execute_result"
    }
   ],
   "source": [
    "import re\n",
    "my_regex = re.compile(\"[0-9]+\", re.I)\n",
    "my_regex"
   ]
  },
  {
   "cell_type": "markdown",
   "metadata": {},
   "source": [
    "Aquí `re` es el módulo conteniendo funciones y constantes que trabajan con expresiones regulares. Después este tipo de `ìmport` solo se puede acceder a esas funciones con prefijo `re.`  Se puede usar un alias si es que por ejemplo tienes que escribir demasiado. Por ejemplo, en el uso de `matplotlib` y visualización de datos, una convención estándar es:\n",
    "\n",
    "```python\n",
    "import matplotlib.pyplot as plt\n",
    "```\n",
    "\n",
    "Si tu necesitas especificar algunos valores de un módulo, puedes importarlos explícitamente y usarlos sin restricción:\n",
    "\n",
    "``` python\n",
    "from module import f1, f2...\n",
    "```\n"
   ]
  },
  {
   "cell_type": "code",
   "execution_count": 15,
   "metadata": {
    "collapsed": true
   },
   "outputs": [],
   "source": [
    "from collections import defaultdict, Counter\n",
    "l = defaultdict(int)\n",
    "contador = Counter()"
   ]
  },
  {
   "cell_type": "markdown",
   "metadata": {},
   "source": [
    "Una manera poco recomendable sería importar todo el contenido de un módulo en tu espacio de nombres,\n",
    "\n",
    "```python\n",
    "from modulo import*\n",
    "```\n",
    "\n",
    "El uso de esta forma  de importación puede resultar en problemas en en el espacio de nombres. Podemos tener varios objetos del mismo nombre y sus definiciones pueden ser anuladas:\n"
   ]
  },
  {
   "cell_type": "code",
   "execution_count": 16,
   "metadata": {
    "collapsed": false
   },
   "outputs": [
    {
     "name": "stdout",
     "output_type": "stream",
     "text": [
      "<function match at 0x000000BFE776C598>\n"
     ]
    }
   ],
   "source": [
    "match = 10\n",
    "from re import *\n",
    "print (match)"
   ]
  },
  {
   "cell_type": "markdown",
   "metadata": {},
   "source": [
    "Una excepción `ImportError` es producido si un módulo no puede ser importado.\n",
    "\n",
    "\n",
    "Los módulos pueden ser importados en otros módulos o ellos pueden ser ejecutados. Si el módulo es ejecutado como un script, el atributo `__name__` es igual a `__main__`."
   ]
  },
  {
   "cell_type": "code",
   "execution_count": 17,
   "metadata": {
    "collapsed": false
   },
   "outputs": [
    {
     "name": "stdout",
     "output_type": "stream",
     "text": [
      "1\n",
      "1\n",
      "2\n",
      "3\n",
      "5\n",
      "8\n",
      "13\n",
      "21\n",
      "34\n",
      "55\n",
      "89\n",
      "144\n",
      "233\n",
      "377\n"
     ]
    }
   ],
   "source": [
    "# Modulo conteniendo la funcion de fibonacci\n",
    "\n",
    "\"\"\"\n",
    "Modulo que contiene una funcion que genera\n",
    "la secuencia de Fibonacci\n",
    "\"\"\"\n",
    "\n",
    "def fib(n):\n",
    "    x ,y =0, 1\n",
    "    while y < n:\n",
    "        print (y)\n",
    "        (x , y) = (y, x +y)\n",
    "        \n",
    "# Prueba\n",
    "        \n",
    "if __name__ == '__main__':\n",
    "    fib(500)"
   ]
  },
  {
   "cell_type": "markdown",
   "metadata": {
    "collapsed": true
   },
   "source": [
    "Si el módulo `fibo` es importado, la `prueba`, no es ejecutado automáticamante:\n"
   ]
  },
  {
   "cell_type": "code",
   "execution_count": 18,
   "metadata": {
    "collapsed": false
   },
   "outputs": [
    {
     "name": "stdout",
     "output_type": "stream",
     "text": [
      "1\n",
      "1\n",
      "2\n",
      "3\n",
      "5\n",
      "8\n",
      "13\n",
      "21\n"
     ]
    }
   ],
   "source": [
    "import fibo as fib\n",
    "fib.fib(34)"
   ]
  },
  {
   "cell_type": "markdown",
   "metadata": {},
   "source": [
    "La función `dir()` da una lista ordenada de cadenas que contienen los nombres definidos por un módulo. En el siguiente módulo, importamos dos sistemas de módulos. Nosotros definimos una variable, una lista y una función:"
   ]
  },
  {
   "cell_type": "code",
   "execution_count": 19,
   "metadata": {
    "collapsed": false
   },
   "outputs": [
    {
     "name": "stdout",
     "output_type": "stream",
     "text": [
      "['A', 'ASCII', 'Animalito', 'Counter', 'DOTALL', 'I', 'IGNORECASE', 'In', 'L', 'LOCALE', 'M', 'MULTILINE', 'Out', 'Perrito', 'S', 'U', 'UNICODE', 'VERBOSE', 'X', '_', '_14', '__', '___', '__builtin__', '__builtins__', '__doc__', '__loader__', '__name__', '__package__', '__spec__', '_dh', '_i', '_i1', '_i10', '_i11', '_i12', '_i13', '_i14', '_i15', '_i16', '_i17', '_i18', '_i19', '_i2', '_i3', '_i4', '_i5', '_i6', '_i7', '_i8', '_i9', '_ih', '_ii', '_iii', '_oh', '_sh', 'b', 'c', 'compile', 'contador', 'defaultdict', 'error', 'escape', 'exit', 'f1', 'fib', 'findall', 'finditer', 'fullmatch', 'gb', 'get_ipython', 'gl', 'l', 'l1', 'lenguajes', 'm1', 'm2', 'match', 'math', 'mod1', 'mostrar_lenguajes', 'my_regex', 'perrito', 'purge', 'quit', 're', 'search', 'split', 'sub', 'subn', 'sys', 'template', 'textwrap', 'this', 'x', 'z']\n"
     ]
    }
   ],
   "source": [
    "# Uso de la funcion dir() en el espacio de nombres\n",
    "# del modulo\n",
    "\n",
    "\"\"\"\n",
    "Este es un modulo de ejemplo para el\n",
    "uso de la funcion dir()\n",
    "\"\"\"\n",
    "\n",
    "import math, sys\n",
    "\n",
    "x = math.sin(20)\n",
    "\n",
    "lenguajes = [\"Python\", \"R\",\"Java\", \"C\", \"Make\"]\n",
    "\n",
    "def mostrar_lenguajes():\n",
    "    for i in lenguajes:\n",
    "        print (i)\n",
    "\n",
    "print (dir(sys.modules['__main__']))\n",
    "\n"
   ]
  },
  {
   "cell_type": "markdown",
   "metadata": {},
   "source": [
    "La función `dir()` retorna todos los nombres disponibles en el actual espacio de nombres. `__main__` es el nombre del actual módulo. Partiendo de la idea de como los módulos como todo lo demás es un objeto, una vez importados, siempre se pude obtener una referencia a un módulo mediante el diccionario global `sys.modules`.\n",
    "\n",
    "La función `globals()` retorna un diccionario que representa el actual espacio de nombres global. Este es un diccionario de nombres (globales) y  sus valores. Este es el diccionario del actual módulo y se usa para imprimir todos los nombres globales del actual módulo."
   ]
  },
  {
   "cell_type": "code",
   "execution_count": 20,
   "metadata": {
    "collapsed": false
   },
   "outputs": [
    {
     "name": "stdout",
     "output_type": "stream",
     "text": [
      "_i ,_i18 ,error ,_i19 ,__name__ ,Counter ,_iii ,_i8 ,perrito ,_i4\n",
      ",split ,c ,template ,_i12 ,_i7 ,_i10 ,l1 ,m2 ,_i13 ,_oh ,Perrito ,_14\n",
      ",MULTILINE ,DOTALL ,IGNORECASE ,math ,UNICODE ,VERBOSE ,A ,_dh ,x\n",
      ",search ,z ,sub ,gl ,_i5 ,M ,lenguajes ,_i1 ,get_ipython ,defaultdict\n",
      ",_ ,_sh ,l ,re ,gb ,_i20 ,_i9 ,this ,_ih ,fib ,_i16 ,I ,_i6\n",
      ",__builtin__ ,_ii ,compile ,__loader__ ,match ,_i14 ,ASCII ,quit ,sys\n",
      ",_i3 ,_i15 ,L ,__spec__ ,S ,f1 ,U ,__package__ ,_i17 ,In ,contador\n",
      ",findall ,m1 ,_i2 ,escape ,mostrar_lenguajes ,Out ,exit ,LOCALE\n",
      ",finditer ,b ,Animalito ,mod1 ,purge ,textwrap ,__ ,my_regex ,X ,_i11\n",
      ",___ ,__doc__ ,fullmatch ,subn ,__builtins__\n"
     ]
    }
   ],
   "source": [
    "# uso de la funcion globals() en el uso de modulos\n",
    "\n",
    "import  math\n",
    "import textwrap\n",
    "\n",
    "z = math.sqrt(5)\n",
    "\n",
    "def f1():\n",
    "    pass\n",
    "\n",
    "gl = globals()\n",
    "gb = ' ,'.join(gl)\n",
    "\n",
    "print (textwrap.fill(gb))"
   ]
  },
  {
   "cell_type": "markdown",
   "metadata": {},
   "source": [
    "El atributo de clase `__module__` tiene el nombre del módulo en el cual la clase es definida. Sea el módulo, llamado `mod3.py` "
   ]
  },
  {
   "cell_type": "code",
   "execution_count": 21,
   "metadata": {
    "collapsed": true
   },
   "outputs": [],
   "source": [
    "\"\"\"\n",
    "modulo ejemplo\n",
    "\n",
    "\"\"\"\n",
    "\n",
    "class m1:\n",
    "    pass\n",
    "\n",
    "class m2:\n",
    "    pass\n",
    "\n"
   ]
  },
  {
   "cell_type": "markdown",
   "metadata": {},
   "source": [
    "Escribamos ahora un segundo módulo, usando el atributo `__module__`:"
   ]
  },
  {
   "cell_type": "code",
   "execution_count": 22,
   "metadata": {
    "collapsed": false
   },
   "outputs": [
    {
     "name": "stdout",
     "output_type": "stream",
     "text": [
      "__main__\n",
      "mod3\n"
     ]
    }
   ],
   "source": [
    "# uso del atributo __mod__ en los modulos de Python.\n",
    "\n",
    "from mod3 import m1\n",
    "\n",
    "class l1:\n",
    "    pass\n",
    "\n",
    "b = l1()\n",
    "print (b.__module__)\n",
    "\n",
    "c = m1()\n",
    "print (c.__module__)\n"
   ]
  },
  {
   "cell_type": "markdown",
   "metadata": {},
   "source": [
    "Desde el módulo `mod3` importamos  la clase `m1 `. En el actual módulo, definimos una clase `l1`\n",
    "\n",
    "```python\n",
    "class l1:\n",
    "    pass\n",
    "```\n",
    "\n",
    "Una instancia de clase `l1` es creada. Imprimimos el nombre de este módulo\n",
    "\n",
    "```python\n",
    "b = l1()\n",
    "print (b.__module__)\n",
    "```\n",
    "\n",
    "Creamos un objeto desde la clase `m1`. También imprimimos el módulo donde fue definido.\n",
    "\n",
    "```python\n",
    "c = m1()\n",
    "print (c.__module__)\n",
    "```\n",
    "\n",
    "En Ipython podemos correr el  módulo ``%run mod4.py`:\n",
    "\n",
    "```python\n",
    "__main__\n",
    "mod3\n",
    "```\n",
    "\n",
    "El nombre actual del módulo es `__main__` y el nombre del módulo `m1` es `mod3`."
   ]
  },
  {
   "cell_type": "markdown",
   "metadata": {},
   "source": [
    "## Listas\n",
    "\n",
    "Una de las estructuras fundamentales de Python, es sin lugar a dudas el de lista (list). Una lista es ordenación (Esto es similar a lo que en otros lenguajes puede ser llamado como array, pero con algo más de funcionalidad."
   ]
  },
  {
   "cell_type": "code",
   "execution_count": 23,
   "metadata": {
    "collapsed": false
   },
   "outputs": [
    {
     "data": {
      "text/plain": [
       "(0, 1, 9, 8)"
      ]
     },
     "execution_count": 23,
     "metadata": {},
     "output_type": "execute_result"
    }
   ],
   "source": [
    "lista_entero = [2, 5,6]\n",
    "lista_heterogenea = ['Python', 0.3, True]\n",
    "lista_de_lista = [lista_entero, lista_heterogenea]\n",
    "\n",
    "\n",
    "lista_longitud = len(lista_entero)\n",
    "lista_suma     = sum(lista_entero)\n",
    "\n",
    "lista_longitud\n",
    "lista_suma\n",
    "\n",
    "\n",
    "# Podemos conseguir el conjunto de elementos de una lista con corchetes\n",
    "\n",
    "x = list(range(10))\n",
    "zero = x[0]\n",
    "one  = x[1]\n",
    "nine  = x[-1]\n",
    "eight = x[-2]\n",
    "zero, one, nine, eight\n"
   ]
  },
  {
   "cell_type": "code",
   "execution_count": 24,
   "metadata": {
    "collapsed": false
   },
   "outputs": [
    {
     "data": {
      "text/plain": [
       "[-1, 1, 2, 3, 4, 5, 6, 7, 8, 9]"
      ]
     },
     "execution_count": 24,
     "metadata": {},
     "output_type": "execute_result"
    }
   ],
   "source": [
    "# Podemos modificar los valores de la lista\n",
    "\n",
    "x = list(range(10))\n",
    "x[0] = -1\n",
    "x"
   ]
  },
  {
   "cell_type": "markdown",
   "metadata": {},
   "source": [
    "Podemos ingresar 'corchetes' para dividir una lista"
   ]
  },
  {
   "cell_type": "code",
   "execution_count": 25,
   "metadata": {
    "collapsed": false
   },
   "outputs": [
    {
     "data": {
      "text/plain": [
       "[-1, 1, 2]"
      ]
     },
     "execution_count": 25,
     "metadata": {},
     "output_type": "execute_result"
    }
   ],
   "source": [
    "primeros_tres = x[:3]\n",
    "tres_ultimos  = x[3:]\n",
    "uno_al_cuatro = x[1:5]\n",
    "ultimos_tres = x[-3:]\n",
    "sin_el_primero_ultimo = x[1:-1]\n",
    "copia_de_x = x[:]\n",
    "primeros_tres"
   ]
  },
  {
   "cell_type": "code",
   "execution_count": 26,
   "metadata": {
    "collapsed": false
   },
   "outputs": [
    {
     "data": {
      "text/plain": [
       "[3, 4, 5, 6, 7, 8, 9]"
      ]
     },
     "execution_count": 26,
     "metadata": {},
     "output_type": "execute_result"
    }
   ],
   "source": [
    "tres_ultimos"
   ]
  },
  {
   "cell_type": "code",
   "execution_count": 27,
   "metadata": {
    "collapsed": false
   },
   "outputs": [
    {
     "data": {
      "text/plain": [
       "[1, 2, 3, 4, 5, 6, 7, 8]"
      ]
     },
     "execution_count": 27,
     "metadata": {},
     "output_type": "execute_result"
    }
   ],
   "source": [
    "sin_el_primero_ultimo"
   ]
  },
  {
   "cell_type": "markdown",
   "metadata": {},
   "source": [
    " Python tiene un operador **in** para verificar si un elemento pertenece a una lista. Esto implica que examina los elementos de la lista uno a la vez, de manera que es adecuado  usarlo  si es que la lista es muy pequeña."
   ]
  },
  {
   "cell_type": "code",
   "execution_count": 28,
   "metadata": {
    "collapsed": false
   },
   "outputs": [
    {
     "data": {
      "text/plain": [
       "True"
      ]
     },
     "execution_count": 28,
     "metadata": {},
     "output_type": "execute_result"
    }
   ],
   "source": [
    "'erika' in [\"Erika\", \"erika\", \"ErIka\"]"
   ]
  },
  {
   "cell_type": "code",
   "execution_count": 29,
   "metadata": {
    "collapsed": false
   },
   "outputs": [
    {
     "data": {
      "text/plain": [
       "False"
      ]
     },
     "execution_count": 29,
     "metadata": {},
     "output_type": "execute_result"
    }
   ],
   "source": [
    "0 in [1,2,3,4]"
   ]
  },
  {
   "cell_type": "markdown",
   "metadata": {},
   "source": [
    "Es facil, concatenar listas, usando la función `extend` :"
   ]
  },
  {
   "cell_type": "code",
   "execution_count": 30,
   "metadata": {
    "collapsed": false
   },
   "outputs": [
    {
     "data": {
      "text/plain": [
       "['Python', 3, 'C++', 1.2, ['JavaScript', 'R'], 3, 5, 7]"
      ]
     },
     "execution_count": 30,
     "metadata": {},
     "output_type": "execute_result"
    }
   ],
   "source": [
    "y = [\"Python\", 3, \"C++\", 1.2, [\"JavaScript\", \"R\"]]\n",
    "y.extend([3,5,7])\n",
    "y"
   ]
  },
  {
   "cell_type": "markdown",
   "metadata": {},
   "source": [
    "Es frecuente también agregar un elemento a la vez, usando la función `append` :"
   ]
  },
  {
   "cell_type": "code",
   "execution_count": 31,
   "metadata": {
    "collapsed": false
   },
   "outputs": [
    {
     "data": {
      "text/plain": [
       "[1, 3, 5, 7, 9]"
      ]
     },
     "execution_count": 31,
     "metadata": {},
     "output_type": "execute_result"
    }
   ],
   "source": [
    "z = [1, 3, 5, 7]\n",
    "z.append(9)\n",
    "z"
   ]
  },
  {
   "cell_type": "markdown",
   "metadata": {},
   "source": [
    "Es conveniente 'desempaquetar' listas si se conoce cuantos elementos ellos contienen, ya que de lo que contrario se puede encontrar un `ValueError`, sino tenemos el mismo número de elementos en ambos lados.  Es común usar un guión abajo, para un valor que estas lanzando:"
   ]
  },
  {
   "cell_type": "code",
   "execution_count": 32,
   "metadata": {
    "collapsed": false
   },
   "outputs": [
    {
     "data": {
      "text/plain": [
       "2"
      ]
     },
     "execution_count": 32,
     "metadata": {},
     "output_type": "execute_result"
    }
   ],
   "source": [
    "x, y = [1 , 2]\n",
    "_, y = [1 , 2]\n",
    "y"
   ]
  },
  {
   "cell_type": "markdown",
   "metadata": {},
   "source": [
    "## Tuplas\n",
    "\n",
    "Las tuplas son primas *inmutables* de las  listas. Casi todo lo que se puede hacer a una lista que\n",
    "no implica la modificación, se puede hacer para una tupla. Puede especificar una tupla utilizando\n",
    "paréntesis (o nada) en lugar de corchetes:"
   ]
  },
  {
   "cell_type": "code",
   "execution_count": 33,
   "metadata": {
    "collapsed": false
   },
   "outputs": [
    {
     "name": "stdout",
     "output_type": "stream",
     "text": [
      "Python R C++ Bash "
     ]
    }
   ],
   "source": [
    "a = 'Python', 'R', 'C++', 'Bash'\n",
    "a\n",
    "a[1]\n",
    "for x in a :\n",
    "    print(x, end=' ')"
   ]
  },
  {
   "cell_type": "markdown",
   "metadata": {},
   "source": [
    "La tuplas no se pueden modificar, es decir no se puede eliminar, agregar o editar algún valor dentro de la tupla."
   ]
  },
  {
   "cell_type": "code",
   "execution_count": 34,
   "metadata": {
    "collapsed": false
   },
   "outputs": [
    {
     "name": "stdout",
     "output_type": "stream",
     "text": [
      "No se puede modificar la tupla\n"
     ]
    }
   ],
   "source": [
    "lista1 = [1 ,3]\n",
    "tupla1 = (1,3)\n",
    "tupla2 = 4, 5\n",
    "lista1[1] = 8 # la lista es ahora [1,8]\n",
    "\n",
    "try:\n",
    "    tupla1[1] = 8\n",
    "except TypeError:\n",
    "    print (\"No se puede modificar la tupla\")"
   ]
  },
  {
   "cell_type": "markdown",
   "metadata": {},
   "source": [
    "Se pueden desempaquetar valores de alguna tupla en variables:\n"
   ]
  },
  {
   "cell_type": "code",
   "execution_count": 35,
   "metadata": {
    "collapsed": false
   },
   "outputs": [
    {
     "data": {
      "text/plain": [
       "2"
      ]
     },
     "execution_count": 35,
     "metadata": {},
     "output_type": "execute_result"
    }
   ],
   "source": [
    "divmod(23, 4)\n",
    "x ,y = divmod(23,8) # (2,7)\n",
    "x"
   ]
  },
  {
   "cell_type": "code",
   "execution_count": 36,
   "metadata": {
    "collapsed": false
   },
   "outputs": [
    {
     "data": {
      "text/plain": [
       "7"
      ]
     },
     "execution_count": 36,
     "metadata": {},
     "output_type": "execute_result"
    }
   ],
   "source": [
    "y"
   ]
  },
  {
   "cell_type": "markdown",
   "metadata": {},
   "source": [
    "Las tuplas son una manera conveniente de retornar múltiples valores de las funciones"
   ]
  },
  {
   "cell_type": "code",
   "execution_count": 37,
   "metadata": {
    "collapsed": true
   },
   "outputs": [],
   "source": [
    "def sum_and_product(x, y):\n",
    "    return (x + y),(x * y)\n",
    "\n",
    "sp = sum_and_product(2, 3) # igual a  (5, 6)\n",
    "s, p = sum_and_product(5, 10)"
   ]
  },
  {
   "cell_type": "code",
   "execution_count": 38,
   "metadata": {
    "collapsed": false
   },
   "outputs": [
    {
     "data": {
      "text/plain": [
       "15"
      ]
     },
     "execution_count": 38,
     "metadata": {},
     "output_type": "execute_result"
    }
   ],
   "source": [
    "s"
   ]
  },
  {
   "cell_type": "code",
   "execution_count": 39,
   "metadata": {
    "collapsed": false
   },
   "outputs": [
    {
     "data": {
      "text/plain": [
       "50"
      ]
     },
     "execution_count": 39,
     "metadata": {},
     "output_type": "execute_result"
    }
   ],
   "source": [
    "p"
   ]
  },
  {
   "cell_type": "markdown",
   "metadata": {},
   "source": [
    "## Diccionarios\n",
    "\n",
    "Una estructura fundamental de Python, es el diccionario, el cual está asociado con *valores* y *claves* y permite recuperar el valor correspondiente a la clave."
   ]
  },
  {
   "cell_type": "code",
   "execution_count": 40,
   "metadata": {
    "collapsed": false
   },
   "outputs": [
    {
     "data": {
      "text/plain": [
       "89"
      ]
     },
     "execution_count": 40,
     "metadata": {},
     "output_type": "execute_result"
    }
   ],
   "source": [
    "diccionario_vacio ={}\n",
    "diccionario_vacio1 = dict()\n",
    "notas = {'Cesar': 85, \"Milagros\": 89} # diccionario literal\n",
    "\n",
    "Mili_notas = notas[\"Milagros\"] # Mostramos el valor de una clave\n",
    "Mili_notas "
   ]
  },
  {
   "cell_type": "markdown",
   "metadata": {},
   "source": [
    "Conseguimos un `KeyError` si solicitas por una clave que no está en el diccionario"
   ]
  },
  {
   "cell_type": "code",
   "execution_count": 41,
   "metadata": {
    "collapsed": false
   },
   "outputs": [
    {
     "name": "stdout",
     "output_type": "stream",
     "text": [
      "No existen notas para checha!\n"
     ]
    }
   ],
   "source": [
    "try:\n",
    "    Checha_notas = notas[\"checha\"]\n",
    "except KeyError:\n",
    "    print (\"No existen notas para checha!\")"
   ]
  },
  {
   "cell_type": "code",
   "execution_count": 42,
   "metadata": {
    "collapsed": false
   },
   "outputs": [
    {
     "data": {
      "text/plain": [
       "True"
      ]
     },
     "execution_count": 42,
     "metadata": {},
     "output_type": "execute_result"
    }
   ],
   "source": [
    "# Verificamos la existencia de una clave usando: in\n",
    "\n",
    "Mili_tiene_notas = 'Milagros' in notas\n",
    "checha_tiene_notas = 'checha' in notas\n",
    "\n",
    "Mili_tiene_notas"
   ]
  },
  {
   "cell_type": "markdown",
   "metadata": {},
   "source": [
    "Los diccionarios tienen un método `get ` que retorna un valor por defecto (en lugar de mostrar una `excepción`, cuando miras  que la clave no está en el diccionario:"
   ]
  },
  {
   "cell_type": "code",
   "execution_count": 43,
   "metadata": {
    "collapsed": true
   },
   "outputs": [],
   "source": [
    "Mili_notas = notas.get(\"Milagros\", 0)\n",
    "Checha_notas = notas.get(\"checha\", 0) # igual a 0\n",
    "no_hay_notas = notas.get(\"Ninguna\")   # el valor por defecto es None"
   ]
  },
  {
   "cell_type": "code",
   "execution_count": 44,
   "metadata": {
    "collapsed": false
   },
   "outputs": [
    {
     "data": {
      "text/plain": [
       "0"
      ]
     },
     "execution_count": 44,
     "metadata": {},
     "output_type": "execute_result"
    }
   ],
   "source": [
    "Checha_notas"
   ]
  },
  {
   "cell_type": "code",
   "execution_count": 45,
   "metadata": {
    "collapsed": true
   },
   "outputs": [],
   "source": [
    "no_hay_notas"
   ]
  },
  {
   "cell_type": "markdown",
   "metadata": {},
   "source": [
    "Podemos asignar clave-valor usando los mismos corchetes\n"
   ]
  },
  {
   "cell_type": "code",
   "execution_count": 46,
   "metadata": {
    "collapsed": false
   },
   "outputs": [
    {
     "data": {
      "text/plain": [
       "{'Cesar': 91, 'Gabriela': 88, 'Milagros': 89}"
      ]
     },
     "execution_count": 46,
     "metadata": {},
     "output_type": "execute_result"
    }
   ],
   "source": [
    "notas['Gabriela'] = 88\n",
    "notas['Cesar'] = 91\n",
    "num_estudiantes = len(notas)\n",
    "notas"
   ]
  },
  {
   "cell_type": "markdown",
   "metadata": {},
   "source": [
    "Los diccionarios se usan como una manera simple de representar datos estructurados:"
   ]
  },
  {
   "cell_type": "code",
   "execution_count": 47,
   "metadata": {
    "collapsed": false
   },
   "outputs": [
    {
     "data": {
      "text/plain": [
       "{'hashtags': ['#data', '#science', '#datascience', '#python', '#R'],\n",
       " 'respuestas': 100,\n",
       " 'texto': 'M-L',\n",
       " 'usuario': 'C-Lara'}"
      ]
     },
     "execution_count": 47,
     "metadata": {},
     "output_type": "execute_result"
    }
   ],
   "source": [
    "tweet = {\n",
    "    \"usuario\" : \"C-Lara\",\n",
    "    \"texto\" : \"M-L\",\n",
    "    \"respuestas\" : 100,\n",
    "    \"hashtags\" : [\"#data\", \"#science\", \"#datascience\", \"#python\", \"#R\"]\n",
    "}\n",
    "tweet"
   ]
  },
  {
   "cell_type": "markdown",
   "metadata": {},
   "source": [
    "Además de buscar las claves específicas, podemos realizar todas las operaciones anteriores:"
   ]
  },
  {
   "cell_type": "code",
   "execution_count": 48,
   "metadata": {
    "collapsed": false
   },
   "outputs": [
    {
     "data": {
      "text/plain": [
       "True"
      ]
     },
     "execution_count": 48,
     "metadata": {},
     "output_type": "execute_result"
    }
   ],
   "source": [
    "tweet_claves  = tweet.keys() # lista todas las claves\n",
    "tweet_valores = tweet.values() # lista todos los valores\n",
    "tweet_items   = tweet.items()   # lista de (clave, valor) en tuplas\n",
    "\n",
    "'usuario' in tweet_claves\n",
    "'usuario' in  tweet\n",
    "'C-Lara'  in tweet_valores"
   ]
  },
  {
   "cell_type": "code",
   "execution_count": 49,
   "metadata": {
    "collapsed": false
   },
   "outputs": [
    {
     "data": {
      "text/plain": [
       "dict_items([('hashtags', ['#data', '#science', '#datascience', '#python', '#R']), ('respuestas', 100), ('texto', 'M-L'), ('usuario', 'C-Lara')])"
      ]
     },
     "execution_count": 49,
     "metadata": {},
     "output_type": "execute_result"
    }
   ],
   "source": [
    "tweet_items"
   ]
  },
  {
   "cell_type": "markdown",
   "metadata": {},
   "source": [
    "Las claves de los diccionarios deben ser inmutables; en particular, no puede utilizar una `list` como claves. Si\n",
    "es necesaria una clave se  debe usar una tupla o encontrar una manera de poner la clave en una cadena. \n",
    "\n"
   ]
  },
  {
   "cell_type": "markdown",
   "metadata": {},
   "source": [
    "El módulo **json** proporciona una API para convertir objetos de Python en memoria a una representación serializada conocido como JavaScript Object Notation (JSON). JSON tiene la ventaja de contar con implementaciones en muchos lenguajes (especialmente en JavaScript), lo que es adecuado para la comunicación entre aplicaciones. Por ejemplo:"
   ]
  },
  {
   "cell_type": "code",
   "execution_count": 50,
   "metadata": {
    "collapsed": false
   },
   "outputs": [
    {
     "data": {
      "text/plain": [
       "'{\"descarga\": 100, \"nombre\": \"Python\", \"precio\": 542.23}'"
      ]
     },
     "execution_count": 50,
     "metadata": {},
     "output_type": "execute_result"
    }
   ],
   "source": [
    "import json\n",
    "\n",
    "data = {\n",
    "   'nombre' : 'Python',\n",
    "   'descarga' : 100,\n",
    "   'precio' : 542.23\n",
    "}\n",
    "\n",
    "json_str = json.dumps(data)\n",
    "json_str   # Codificamos una estructura python en JSON"
   ]
  },
  {
   "cell_type": "code",
   "execution_count": 51,
   "metadata": {
    "collapsed": false
   },
   "outputs": [
    {
     "data": {
      "text/plain": [
       "dict"
      ]
     },
     "execution_count": 51,
     "metadata": {},
     "output_type": "execute_result"
    }
   ],
   "source": [
    "# Realizamos el proceso inverso\n",
    "\n",
    "data = json.loads(json_str)\n",
    "type(data)"
   ]
  },
  {
   "cell_type": "markdown",
   "metadata": {},
   "source": [
    "EL formato JSON, es casi idéntico a la sintaxis de Python, salvo, algunas diferencias. Por ejemplo `True` es llevado a `true`, `False` es llevado a `false` y `None` es llevado a `null`:"
   ]
  },
  {
   "cell_type": "code",
   "execution_count": 52,
   "metadata": {
    "collapsed": false
   },
   "outputs": [
    {
     "data": {
      "text/plain": [
       "'false'"
      ]
     },
     "execution_count": 52,
     "metadata": {},
     "output_type": "execute_result"
    }
   ],
   "source": [
    "json.dumps(False)"
   ]
  },
  {
   "cell_type": "code",
   "execution_count": 53,
   "metadata": {
    "collapsed": false
   },
   "outputs": [
    {
     "data": {
      "text/plain": [
       "'{\"b\": \"Hello\", \"c\": null, \"a\": true}'"
      ]
     },
     "execution_count": 53,
     "metadata": {},
     "output_type": "execute_result"
    }
   ],
   "source": [
    "d = {'a': True,\n",
    "     'b': 'Hello',\n",
    "     'c': None}\n",
    "json.dumps(d)"
   ]
  },
  {
   "cell_type": "markdown",
   "metadata": {
    "collapsed": true
   },
   "source": [
    "### Aleatoriedad \n",
    "\n",
    "En análisis de datos, es frecuente generar números aleatorios, el cual puede hacerse con el módulo [random](https://docs.python.org/3.0/library/random.html):"
   ]
  },
  {
   "cell_type": "code",
   "execution_count": 54,
   "metadata": {
    "collapsed": false
   },
   "outputs": [
    {
     "data": {
      "text/plain": [
       "[0.028843429249929553,\n",
       " 0.11149646416016246,\n",
       " 0.7960845754615156,\n",
       " 0.7394000890061129]"
      ]
     },
     "execution_count": 54,
     "metadata": {},
     "output_type": "execute_result"
    }
   ],
   "source": [
    "import random \n",
    "\n",
    "cuatro_elementos_aleatorios = [random.random() for _ in range(4)]\n",
    "cuatro_elementos_aleatorios"
   ]
  },
  {
   "cell_type": "markdown",
   "metadata": {},
   "source": [
    "El módulo random, produce [números pseudoaleatorios](https://es.wikipedia.org/wiki/N%C3%BAmero_pseudoaleatorio). Las funciones a las que hacemos referencia, cada vez que son invocadas, devuelven un valor de una secuencia de números predeterminada. Esta secuencia tiene un periodo bastante largo, es decir, es necesario obtener muchos números antes de que se vuelva a reproducir la misma secuencia. De ahí, el tratamiento de pseudo (o falso), aunque la utilidad que nos ofrezca sea equivalente al de los números aleatorios. Cuando nos interese obtener varias veces la misma secuencia de números pseudoaleatoria se puede utilizar la función  [random.seed](http://stackoverflow.com/questions/22639587/random-seed-what-does-it-do)  que fija mediante una \"semilla\" el mismo comienzo en cada secuencia, permitiendo con ello obtener series con los mismos valores. \n"
   ]
  },
  {
   "cell_type": "code",
   "execution_count": 55,
   "metadata": {
    "collapsed": false
   },
   "outputs": [
    {
     "name": "stdout",
     "output_type": "stream",
     "text": [
      "0.23604808973743452\n",
      "0.23604808973743452\n",
      "0.23604808973743452\n",
      "0.23604808973743452\n"
     ]
    }
   ],
   "source": [
    "random.seed(4)\n",
    "print (random.random())\n",
    "random.seed(4)\n",
    "print (random.random())\n",
    "random.seed(4)\n",
    "print (random.random())\n",
    "random.seed(4)\n",
    "print (random.random())\n"
   ]
  },
  {
   "cell_type": "markdown",
   "metadata": {},
   "source": [
    "Algunas veces usamos la función `random.randrange` que devuelve enteros que van desde un valor inicial a otro final separados entre sí un número de valores determinados. Esta separación (o paso) se utiliza en primer lugar con el valor inicial para calcular el siguiente valor y los sucesivos hasta llegar al valor final o al más cercano posible. "
   ]
  },
  {
   "cell_type": "code",
   "execution_count": 56,
   "metadata": {
    "collapsed": false
   },
   "outputs": [
    {
     "data": {
      "text/plain": [
       "3"
      ]
     },
     "execution_count": 56,
     "metadata": {},
     "output_type": "execute_result"
    }
   ],
   "source": [
    "random.randrange(3, 6) # Escoge aleatoriamente desde el rango[3,4,5]"
   ]
  },
  {
   "cell_type": "markdown",
   "metadata": {},
   "source": [
    "Hay otros métodos que también pueden ser convenientes. `random.shuffle` 'mezcla' o cambia aleatoriamente el orden de los elementos de una lista antes de realizar la selección de alguno de ellos. "
   ]
  },
  {
   "cell_type": "code",
   "execution_count": 57,
   "metadata": {
    "collapsed": false
   },
   "outputs": [
    {
     "name": "stdout",
     "output_type": "stream",
     "text": [
      "[4, 1, 8, 3, 5, 9, 0, 2, 7, 6]\n"
     ]
    }
   ],
   "source": [
    "hasta_diez = list(range(10))\n",
    "random.shuffle(hasta_diez)\n",
    "print (hasta_diez)"
   ]
  },
  {
   "cell_type": "markdown",
   "metadata": {},
   "source": [
    "Si necesitamos aleatoriamente escoger un elemento de una lista, podemos usar la función `random.choice`"
   ]
  },
  {
   "cell_type": "code",
   "execution_count": 58,
   "metadata": {
    "collapsed": false
   },
   "outputs": [
    {
     "data": {
      "text/plain": [
       "'Python'"
      ]
     },
     "execution_count": 58,
     "metadata": {},
     "output_type": "execute_result"
    }
   ],
   "source": [
    "mis_lenguajes_favoritos = random.choice(['Python', 'R', 'JavaScript', 'SQL', \"C\"])\n",
    "mis_lenguajes_favoritos"
   ]
  },
  {
   "cell_type": "markdown",
   "metadata": {},
   "source": [
    "Para escoger de manera aleatoria una muestra de elementos sin reemplazamiento ( sin duplicados), podemos usar la función \n",
    "`random.sample`"
   ]
  },
  {
   "cell_type": "code",
   "execution_count": 59,
   "metadata": {
    "collapsed": false
   },
   "outputs": [
    {
     "data": {
      "text/plain": [
       "[14, 33, 34, 23, 17, 49]"
      ]
     },
     "execution_count": 59,
     "metadata": {},
     "output_type": "execute_result"
    }
   ],
   "source": [
    "numeros_loteria = list(range(60))\n",
    "numeros_ganadores = random.sample(numeros_loteria, 6)\n",
    "numeros_ganadores"
   ]
  },
  {
   "cell_type": "markdown",
   "metadata": {},
   "source": [
    "Para escoger una muestra de elementos con reemplazo (se permite duplicados), se hace llamadas múltiples a `random.choice`:"
   ]
  },
  {
   "cell_type": "code",
   "execution_count": 60,
   "metadata": {
    "collapsed": false
   },
   "outputs": [
    {
     "data": {
      "text/plain": [
       "[2, 1, 4, 3]"
      ]
     },
     "execution_count": 60,
     "metadata": {},
     "output_type": "execute_result"
    }
   ],
   "source": [
    "cuatro_con_reemplazamiento = [random.choice(list(range(10)) ) for _ in range(4)]\n",
    "cuatro_con_reemplazamiento"
   ]
  },
  {
   "cell_type": "markdown",
   "metadata": {},
   "source": [
    "## Expresiones regulares \n",
    "\n",
    "Las [expresiones regulares](https://docs.python.org/3/library/re.html) proporcionan una manera de buscar patrones en los textos. Estas son increiblemente útiles, pero bastante complicadas, de forma que hay libros enteros escritos acerca de ellos. Mostremos algunos ejemplos acerca de sus aplicaciones\n",
    "\n",
    "El método `re.search()` toma un patrón sobre  expresión regular y una cadena y busca ese patrón dentro de la cadena. Si la búsqueda es exitosa, `search()` devuelve un objeto que cumple con ese patrón o `None` en caso contrario. Por lo tanto, la búsqueda es generalmente seguida  por una sentencia `if` para comprobar si la búsqueda tuvo éxito.\n"
   ]
  },
  {
   "cell_type": "code",
   "execution_count": 61,
   "metadata": {
    "collapsed": false
   },
   "outputs": [
    {
     "name": "stdout",
     "output_type": "stream",
     "text": [
      "Encontramos la  palabra:cat\n"
     ]
    }
   ],
   "source": [
    "import re\n",
    "\n",
    "str = 'un ejemplo de  palabra:cat!!'\n",
    "match = re.search(r'palabra:\\w\\w\\w', str)\n",
    "if match:\n",
    "    print ('Encontramos la ', match.group() )\n",
    "else:\n",
    "    print ('palabra no encontrada ')\n"
   ]
  },
  {
   "cell_type": "markdown",
   "metadata": {},
   "source": [
    "El módulo `re` incluye funciones  para trabajar con expresiones regulares como cadena de textos, pero es usualmente más eficiente *compilar* las expresiones que tu programa usa frecuentemente. La función `compile()` convierte una cadena en un `RegexObject`."
   ]
  },
  {
   "cell_type": "code",
   "execution_count": 62,
   "metadata": {
    "collapsed": false
   },
   "outputs": [
    {
     "name": "stdout",
     "output_type": "stream",
     "text": [
      " Buscando por \"sc\" en\"Scala y python son lenguajes de programacion?\" ->\n",
      "No hay emparejamientos\n",
      " Buscando por \"py\" en\"Scala y python son lenguajes de programacion?\" ->\n",
      "Encontramos un emparejamiento\n"
     ]
    }
   ],
   "source": [
    "import re\n",
    "\n",
    "# Pre-compilamos el patron del texto\n",
    "\n",
    "regexes = [re.compile(p) for p in ['sc',\n",
    "                                  'py']\n",
    "          ]\n",
    "texto = \"Scala y python son lenguajes de programacion?\"\n",
    "\n",
    "for regex in regexes:\n",
    "    print(' Buscando por \"%s\" en\"%s\" ->' %(regex.pattern, texto),)\n",
    "    if regex.search(texto):\n",
    "        print ('Encontramos un emparejamiento')\n",
    "    else:\n",
    "        print ('No hay emparejamientos')\n"
   ]
  },
  {
   "cell_type": "markdown",
   "metadata": {
    "collapsed": true
   },
   "source": [
    "### Enumerate \n",
    "\n",
    "[enumerate](https://docs.python.org/3/library/enum.html) es una función integrada de Python. Su utilidad no se puede resumir en una sóla línea.  Sin embargo, la mayoría de los recién llegados e incluso algunos programadores avanzados no son conscientes de ello. Con esta función se  nos permite iterar sobre algo y tener un contador automático. \n",
    "\n",
    "```python\n",
    "for i, valor in enumerate(lista):\n",
    "    print(i, valor)\n",
    "```\n",
    "\n",
    "Aquí unos ejemplos:"
   ]
  },
  {
   "cell_type": "code",
   "execution_count": 63,
   "metadata": {
    "collapsed": false
   },
   "outputs": [
    {
     "name": "stdout",
     "output_type": "stream",
     "text": [
      "1 R\n",
      "2 Python\n",
      "3 C++\n",
      "4 JavaScript\n"
     ]
    }
   ],
   "source": [
    "mis_lenguajes= ['R', 'Python', \"C++\", \"JavaScript\"]\n",
    "for i, lenguajes in enumerate(mis_lenguajes, 1):\n",
    "    print(i, lenguajes)"
   ]
  },
  {
   "cell_type": "markdown",
   "metadata": {},
   "source": [
    "### La función zip\n",
    "\n",
    "Muchas veces vamos a necesitar  comprimir dos o más listas juntas. La [función zip](https://docs.python.org/3.3/library/functions.html#zip) transforma varias listas en una única lista de tuplas de elementos correspondientes:\n",
    "\n",
    "\n"
   ]
  },
  {
   "cell_type": "code",
   "execution_count": 64,
   "metadata": {
    "collapsed": false
   },
   "outputs": [
    {
     "data": {
      "text/plain": [
       "[('Erika', 1), ('Delia', 2), ('Milagros', 3)]"
      ]
     },
     "execution_count": 64,
     "metadata": {},
     "output_type": "execute_result"
    }
   ],
   "source": [
    "lista1 = ['Erika', 'Delia', 'Milagros']\n",
    "lista2 = [1,2,3]\n",
    "lista  = zip(lista1, lista2)\n",
    "list(lista)"
   ]
  },
  {
   "cell_type": "markdown",
   "metadata": {},
   "source": [
    "Si las listas tienen diferentes longitud, zip se detiene tan pronto como la primera lista finaliza. Tu puedes 'descomprimir' una lista, usando un 'truco'"
   ]
  },
  {
   "cell_type": "code",
   "execution_count": 65,
   "metadata": {
    "collapsed": false
   },
   "outputs": [
    {
     "data": {
      "text/plain": [
       "('Erika', 'Delia', 'Milagros')"
      ]
     },
     "execution_count": 65,
     "metadata": {},
     "output_type": "execute_result"
    }
   ],
   "source": [
    "chicas = [('Erika', 1), ('Delia', 2), ('Milagros', 3)]\n",
    "lista1, lista2 = zip(*chicas)\n",
    "lista1"
   ]
  },
  {
   "cell_type": "code",
   "execution_count": 66,
   "metadata": {
    "collapsed": false
   },
   "outputs": [
    {
     "data": {
      "text/plain": [
       "(1, 2, 3)"
      ]
     },
     "execution_count": 66,
     "metadata": {},
     "output_type": "execute_result"
    }
   ],
   "source": [
    "lista2"
   ]
  },
  {
   "cell_type": "code",
   "execution_count": null,
   "metadata": {
    "collapsed": true
   },
   "outputs": [],
   "source": []
  }
 ],
 "metadata": {
  "kernelspec": {
   "display_name": "Python 3",
   "language": "python",
   "name": "python3"
  },
  "language_info": {
   "codemirror_mode": {
    "name": "ipython",
    "version": 3
   },
   "file_extension": ".py",
   "mimetype": "text/x-python",
   "name": "python",
   "nbconvert_exporter": "python",
   "pygments_lexer": "ipython3",
   "version": "3.5.1"
  }
 },
 "nbformat": 4,
 "nbformat_minor": 0
}
