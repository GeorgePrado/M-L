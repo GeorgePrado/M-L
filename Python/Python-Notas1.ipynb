{
 "cells": [
  {
   "cell_type": "markdown",
   "metadata": {},
   "source": [
    "## Espacio de nombres, Ámbitos y la regla LEGB\n",
    "\n",
    "* Notas basada en el artículo de Sebastian Raschka: A Beginner's Guide to Python's Namespaces, Scope Resolution, and the LEGB Rule.\n",
    "* Apuntes de Shrutarshi Basu: A guide to Python Namespaces."
   ]
  },
  {
   "cell_type": "markdown",
   "metadata": {},
   "source": [
    "### ¿ Qué es un nombre en python?\n",
    "\n",
    "\n",
    "Un *nombre* en Python es más o menos análogo a una variable en casi cualquier otro lenguaje, pero con algunos extras. En primer lugar, debido a la naturaleza dinámica de Python, se puede aplicar un nombre a casi cualquier cosa. Por supuesto, puede poner nombres a los valores."
   ]
  },
  {
   "cell_type": "code",
   "execution_count": 1,
   "metadata": {
    "collapsed": true
   },
   "outputs": [],
   "source": [
    "a = 12\n",
    "b = 'M'\n",
    "c = [1, 2, 3, 4, 5, 6]"
   ]
  },
  {
   "cell_type": "markdown",
   "metadata": {},
   "source": [
    "Podemos dar *nombres* también a las funciones"
   ]
  },
  {
   "cell_type": "code",
   "execution_count": 2,
   "metadata": {
    "collapsed": true
   },
   "outputs": [],
   "source": [
    "def func():\n",
    "    print(\"Hola a amigos de Python, soy una funcion!\")\n",
    "\n",
    "f = func"
   ]
  },
  {
   "cell_type": "markdown",
   "metadata": {},
   "source": [
    "Ahora cada vez que se desee utilizar `func()`, se puede utilizar `f()` en su lugar. También se puede tomar un nombre y volver a utilizarlo. Por ejemplo, el siguiente código es perfectamente legal en Python:"
   ]
  },
  {
   "cell_type": "code",
   "execution_count": null,
   "metadata": {
    "collapsed": true
   },
   "outputs": [],
   "source": [
    "var1 = 12\n",
    "var1 = \"Ahora soy una cadena\"\n",
    "var1 = [2, 4, 6, 8]"
   ]
  },
  {
   "cell_type": "markdown",
   "metadata": {},
   "source": [
    "Si ha accedido al nombre **var1** entre asignamiento, se obtendría un número, una cadena y una lista en diferentes momentos. Los  *nombres* van de la mano con el sistema de objetos de Python, es decir, todo en Python es un objeto. Los números, cadenas, funciones, clases son todos los objetos. La forma de comprender  los objetos es a menudo a través de un *nombre*."
   ]
  },
  {
   "cell_type": "markdown",
   "metadata": {},
   "source": [
    "### Espacio de nombres\n",
    "\n",
    "Un **espacio de nombres**, es obvio que parezca, un espacio que tiene un montón de nombres. El tutorial de Python dice que son una asignación de nombres a objetos. No es algo  que se tiene que crear, se crea cada vez que sea necesario.\n",
    "\n",
    "Tal asignación `nombre-a-objeto` permite acceder a un objeto por un nombre que nosotros asignamos. Por ejemplo si creamos una simple asignación a una cadena con \n",
    "\n",
    "```python\n",
    "a_cadena = \"Hola Mili\"\n",
    "\n",
    "```\n",
    " entonces se crea una referencia al objeto `\"Hola Mili` y así de aquí en adelante poder acceder a través de la variable `a_cadena`.\n",
    " \n",
    "Podemos representar un espacio de nombres como una estructura de diccionario , donde las claves del diccionario representan los nombres y los  valores al  objeto en sí.\n",
    "\n",
    "```python\n",
    "a_espacioNombre = {'nombre_a':objeto_1, 'nombre_b':objeto_2, ...}\n",
    "```\n",
    "\n",
    "\n",
    "Ahora, la parte interesante  es que tenemos varios espacios de nombres independientes en Python, y los nombres se puede reutilizar para diferentes espacios de nombres (sólo los objetos son únicos), por ejemplo:\n",
    "\n",
    "\n",
    "```python\n",
    "a_espacioNombre = {'nombre_a':objeto_1, 'nombre_b':objeto_2, ...}\n",
    "b_espacioNombre = {'nombre_a':objeto_3, 'nombre_b':objeto_4, ...}\n",
    "```\n",
    "\n",
    "Por ejemplo cada vez que llamemos un bucle `for`, una función o una clase, se crea su propio espacio de nombres."
   ]
  },
  {
   "cell_type": "markdown",
   "metadata": {},
   "source": [
    "Como se sabe un módulo es simplemente un archivo que contiene  código Python. Este código puede estar escrito en forma de clases, funciones o sólo una lista de nombres. Cada módulo recibe su propio **espacio de nombres global**. Así que no se puede tener dos clases o dos funciones en el mismo módulo con el mismo nombre, ya que comparten el espacio de nombres del módulo (a menos que estén anidadas).\n",
    "\n",
    "Sin embargo, cada espacio de nombres está completamente aislado. Así que dos módulos pueden tener el mismo nombre dentro de ellos. Podemos  tener un módulo llamado *entero* y un módulo llamado *punto-flotante* y ambos podría tener una función llamada `suma1()`. Una vez importado el módulo en la secuencia de comandos, se puede acceder a los nombres usando el prefijo del nombre del módulo: `punto-flotante.suma1()` y `entero.suma1()`."
   ]
  },
  {
   "cell_type": "markdown",
   "metadata": {},
   "source": [
    "Cada vez que se ejecuta un simple script en Python, el intérprete lo trata como si fuese un módulo llamado `__main__`, que obtiene su propio espacio de nombres. Las funciones de orden interno que se utilizan también viven  en un módulo llamado `__builtins__`  y tienen su propio espacio de nombres."
   ]
  },
  {
   "cell_type": "markdown",
   "metadata": {},
   "source": [
    "### Ámbito\n",
    "\n",
    "A pesar de que los módulos tienen sus propios espacios de nombres globales, esto no quiere decir que todos los nombres se pueden utilizar desde cualquier parte del módulo. Los espacios de nombres pueden existir independientemente el uno del otro y  se estructuran en  diferentes niveles de jerarquias.  El *ámbito* en Python define el *nivel de jerarquía* en la que buscamos espacios de nombres para ciertas asignaciones de \"nombre-a-objeto\".\n",
    "\n",
    "\n",
    "Un ámbito se refiere a una región de un programa desde donde un espacio de nombres se puede acceder sin un prefijo. Veamos un ejemplo:"
   ]
  },
  {
   "cell_type": "code",
   "execution_count": 3,
   "metadata": {
    "collapsed": false
   },
   "outputs": [
    {
     "name": "stdout",
     "output_type": "stream",
     "text": [
      "1 global\n",
      "5 en f1()\n"
     ]
    }
   ],
   "source": [
    "i = 1\n",
    "\n",
    "def f1():\n",
    "    i = 5\n",
    "    print(i, 'en f1()')\n",
    "\n",
    "print(i, 'global')\n",
    "\n",
    "f1()"
   ]
  },
  {
   "cell_type": "markdown",
   "metadata": {},
   "source": [
    "Aquí, acabamos de definir la variable `i`  dos veces, una en la función `f1`.\n",
    "\n",
    "```python\n",
    "* f1_espacioNombre = {'i':objeto_3, ...}\n",
    "* global_espacioNombre = {'i':objeto_1, 'nombre_b':objeto_2, ...}\n",
    "```\n",
    "\n",
    "Entonces, ¿cómo sabe  Python que espacio de nombres buscar si queremos imprimir el valor de la variable `i`? Aquí es donde la regla LEGB de Python entran en escena.\n",
    "\n",
    "Si queremos imprimir el diccionario de mapeo de las variables globales y locales, podemos utilizar las funciones `global()` y `local()`, como se indica en el siguiente ejemplo"
   ]
  },
  {
   "cell_type": "code",
   "execution_count": 5,
   "metadata": {
    "collapsed": false
   },
   "outputs": [
    {
     "name": "stdout",
     "output_type": "stream",
     "text": [
      "v_local en f1(): False\n",
      "v_local  en global: False\n",
      "v_global en global: True\n"
     ]
    }
   ],
   "source": [
    "#print(globals()) # imprime  espacio de nombres global\n",
    "#print(locals()) # imprime espacio de nombres  local \n",
    "\n",
    "v_global = 1\n",
    "\n",
    "def f1():\n",
    "    v_local = 5\n",
    "    print('v_local en f1():', 'variable local ' in locals())\n",
    "\n",
    "f1()\n",
    "print('v_local  en global:', 'variable local' in globals())    \n",
    "print('v_global en global:', 'f1' in globals())\n"
   ]
  },
  {
   "cell_type": "markdown",
   "metadata": {},
   "source": [
    "Hemos visto que varios espacios de nombres pueden existir independientemente el uno del otro y que pueden contener los mismos nombres de las variables en  diferentes niveles de jerarquía. El *ámbito* define el  nivel de jerarquía donde python busca  un *nombre de la variable*  para  su objeto asociado.\n",
    "\n",
    "Ahora,  *¿En qué orden  busca Python los diferentes niveles de espacios de nombres antes de que encuentre la asignación de nombre-a-objeto ?*\n",
    "\n",
    "La respuesta es que Python utiliza la regla  LEGB  que significa : `Local -> Enclosed -> Global -> Built-in`, como se muestra el siguiente gŕafico de Sebastian Rachka\n",
    "\n",
    "![alcance](alcance.png)"
   ]
  },
  {
   "cell_type": "markdown",
   "metadata": {},
   "source": [
    "## Iterables, Iteradores  y Generadores\n",
    "\n",
    "* Notas basadas en el artículo de Vincent Driessen: Iterables vs iterators vs Generators*"
   ]
  },
  {
   "cell_type": "markdown",
   "metadata": {},
   "source": [
    "### Contenedores \n",
    "\n",
    "Los contenedores son  estructuras de datos, que contienen elementos y suporta pruebas de permanencia de sus elementos. Son estructuras de datos que viven en la memoria y almacenan sus valores en memoria también. En Python algunos ejemplo son:\n",
    "\n",
    "1 . **list**, `deque , ...`\n",
    "\n",
    "2 . **set**, `frozensets, ...`\n",
    "\n",
    "3 . **dict**, `default, OrderedDict, Counter, ...`\n",
    "\n",
    "4 . **tuple**, `namedtuple, ...`\n",
    "\n",
    "5 . **str**\n",
    "\n",
    "Un objecto es un `contenedor`, cuando podemos preguntar si contiene un cierto elemento. Podemos llevar esas pruebas de pertenencia sobre listas, conjuntos (sets) o tuplas, de la siguiente manera:"
   ]
  },
  {
   "cell_type": "code",
   "execution_count": 13,
   "metadata": {
    "collapsed": true
   },
   "outputs": [],
   "source": [
    "assert 1 in [1, \"R\", 2, \"JS\"]  # listas\n",
    "assert 4 not in [1, 2, 3, 7]\n",
    "assert 1 in {1, 2, 3}         # sets\n",
    "assert 4 not in {1, 2, 3}\n",
    "assert 6 in (2, 4, 6, 8)      # tuplas\n",
    "assert 4 not in (1, 2, 3)\n"
   ]
  },
  {
   "cell_type": "markdown",
   "metadata": {},
   "source": [
    "En el caso de diccionarios:"
   ]
  },
  {
   "cell_type": "code",
   "execution_count": 14,
   "metadata": {
    "collapsed": false
   },
   "outputs": [],
   "source": [
    "d = {1: 'python', 2: 'R', 3: 'C++'}\n",
    "assert 1 in  d\n",
    "assert 'C++' not in d"
   ]
  },
  {
   "cell_type": "markdown",
   "metadata": {},
   "source": [
    "\n",
    "Podemos preguntar si una cadena, contiene una subcadena"
   ]
  },
  {
   "cell_type": "code",
   "execution_count": 15,
   "metadata": {
    "collapsed": false
   },
   "outputs": [],
   "source": [
    "s = 'spandueballett'\n",
    "assert 'a' in s\n",
    "assert 'ball' in s"
   ]
  },
  {
   "cell_type": "markdown",
   "metadata": {},
   "source": [
    "Las cadenas literalmente no almacenan copias de todas sus subcadenas de memoria, pero se pueden usar de esta manera.\n",
    "\n",
    "\n",
    "Aunque la mayoria de los contenedores proporcionan una manera de producir, todos los elementos  que contiene, esta capacidad, no le hace a ellos un contenedor sino un iterable.\n",
    "\n",
    "**No todos los contenedores son iterables**. Un ejemplo de esto es  un  [Bloom Filters](http://billmill.org/bloomfilter-tutorial/), una estructura de datos probabilistica, que permite que se le pregunte si contiene un determinado elemento, pero no es capáz de retornas sus elementos individuales.\n"
   ]
  },
  {
   "cell_type": "markdown",
   "metadata": {},
   "source": [
    "### Iterables \n",
    "\n",
    "La mayoría de los contenedores también son iterables. Pero muchas cosas más son también iterables . Ejemplos de ello son los archivos abiertos, sockets  abiertos, etc. Donde  los  contenedores  son típicamente finitos, un iterable puede  también  representar  una fuente infinita de datos.\n",
    "\n",
    "Un iterable es cualquier objeto, no necesariamente una estructura de datos, que puede devolver un ** iterador** (con el fin de devolver todos los elementos). Eso suena un poco incómodo, pero hay una diferencia importante entre un iterable y un iterador.  Vemos este ejemplo:"
   ]
  },
  {
   "cell_type": "code",
   "execution_count": 22,
   "metadata": {
    "collapsed": false
   },
   "outputs": [
    {
     "data": {
      "text/plain": [
       "1"
      ]
     },
     "execution_count": 22,
     "metadata": {},
     "output_type": "execute_result"
    }
   ],
   "source": [
    "x = [1, 2, 3]\n",
    "y = iter(x)\n",
    "z = iter(x)\n",
    "next(y)\n"
   ]
  },
  {
   "cell_type": "code",
   "execution_count": 23,
   "metadata": {
    "collapsed": false
   },
   "outputs": [
    {
     "data": {
      "text/plain": [
       "2"
      ]
     },
     "execution_count": 23,
     "metadata": {},
     "output_type": "execute_result"
    }
   ],
   "source": [
    "next(y)"
   ]
  },
  {
   "cell_type": "code",
   "execution_count": 24,
   "metadata": {
    "collapsed": false
   },
   "outputs": [
    {
     "data": {
      "text/plain": [
       "1"
      ]
     },
     "execution_count": 24,
     "metadata": {},
     "output_type": "execute_result"
    }
   ],
   "source": [
    "next(z)"
   ]
  },
  {
   "cell_type": "code",
   "execution_count": 25,
   "metadata": {
    "collapsed": false
   },
   "outputs": [
    {
     "data": {
      "text/plain": [
       "list"
      ]
     },
     "execution_count": 25,
     "metadata": {},
     "output_type": "execute_result"
    }
   ],
   "source": [
    "type(x)"
   ]
  },
  {
   "cell_type": "code",
   "execution_count": 26,
   "metadata": {
    "collapsed": false
   },
   "outputs": [
    {
     "data": {
      "text/plain": [
       "list_iterator"
      ]
     },
     "execution_count": 26,
     "metadata": {},
     "output_type": "execute_result"
    }
   ],
   "source": [
    "type(y)"
   ]
  },
  {
   "cell_type": "markdown",
   "metadata": {},
   "source": [
    "Aquí, `x` es el iterable, mientras que `y` y `z` son instancias individuales de un iterador, produciendo valores desde el iterable `x`. Ambos `y` y `z` mantienen un estado como se muestra en el ejemplo.\n",
    "\n",
    "A menudo, las clases iterables implementarán tanto `__iter__()` y `__next__` en la misma clase y tener `__iter__()` devolviendo `self`, lo que hace de la clase un iterable y su propio iterador. Es correcto retornar diferentes objetos como iteradores sin embargo."
   ]
  },
  {
   "cell_type": "markdown",
   "metadata": {},
   "source": [
    "Cuando desensamblamos este código en Python, se puede ver la llamada explícita a `GET_ITER`, que es esencialmente igual a la invocación `iter(x)`. `FOR_ITER` es una instrucción que va a hacer el equivalente a llamar  `next()` repetidamente para obtener todos los elementos, pero esto no se demuestra en  las instrucciones de código de bytes porque está optimizada para la velocidad en el intérprete."
   ]
  },
  {
   "cell_type": "code",
   "execution_count": 27,
   "metadata": {
    "collapsed": false
   },
   "outputs": [
    {
     "name": "stdout",
     "output_type": "stream",
     "text": [
      "  1           0 SETUP_LOOP              14 (to 17)\n",
      "              3 LOAD_NAME                0 (x)\n",
      "              6 GET_ITER\n",
      "        >>    7 FOR_ITER                 6 (to 16)\n",
      "             10 STORE_NAME               1 (_)\n",
      "             13 JUMP_ABSOLUTE            7\n",
      "        >>   16 POP_BLOCK\n",
      "        >>   17 LOAD_CONST               0 (None)\n",
      "             20 RETURN_VALUE\n"
     ]
    }
   ],
   "source": [
    "import dis\n",
    "x = [1,2,3]\n",
    "dis.dis('for _ in x: pass')"
   ]
  },
  {
   "cell_type": "markdown",
   "metadata": {},
   "source": [
    "### Iteradores \n",
    "\n",
    "Un iterador es un objeto auxiliar de 'estado' que producirá el siguiente valor cuando se llama a `next()` en el. Un objecto que tiene un método `__next__` es por tanto un iterador.\n",
    "\n",
    "Cada vez que se pide por el próximo valor (next), este sabe como calcularlo ya que esta sujeto a estados internos.\n",
    "\n",
    "Todas  las funciones de [itertools](https://docs.python.org/3/library/itertools.html) retornan iteradores. Algunas producen secuencias infinitas:"
   ]
  },
  {
   "cell_type": "code",
   "execution_count": 28,
   "metadata": {
    "collapsed": false
   },
   "outputs": [
    {
     "data": {
      "text/plain": [
       "3"
      ]
     },
     "execution_count": 28,
     "metadata": {},
     "output_type": "execute_result"
    }
   ],
   "source": [
    "from itertools import count\n",
    "contador = count(start =3)\n",
    "next(contador)"
   ]
  },
  {
   "cell_type": "code",
   "execution_count": 29,
   "metadata": {
    "collapsed": false
   },
   "outputs": [
    {
     "data": {
      "text/plain": [
       "4"
      ]
     },
     "execution_count": 29,
     "metadata": {},
     "output_type": "execute_result"
    }
   ],
   "source": [
    "next(contador)"
   ]
  },
  {
   "cell_type": "code",
   "execution_count": 30,
   "metadata": {
    "collapsed": false
   },
   "outputs": [
    {
     "data": {
      "text/plain": [
       "5"
      ]
     },
     "execution_count": 30,
     "metadata": {},
     "output_type": "execute_result"
    }
   ],
   "source": [
    "next(contador)"
   ]
  },
  {
   "cell_type": "markdown",
   "metadata": {},
   "source": [
    "Algunos iteradores  producen infinitas secuencias, desde finitas secuencias:"
   ]
  },
  {
   "cell_type": "code",
   "execution_count": 31,
   "metadata": {
    "collapsed": false
   },
   "outputs": [
    {
     "data": {
      "text/plain": [
       "'Python'"
      ]
     },
     "execution_count": 31,
     "metadata": {},
     "output_type": "execute_result"
    }
   ],
   "source": [
    "from itertools import cycle\n",
    "lenguajes = cycle(['Python', 'R', 'C++'])\n",
    "next(lenguajes)"
   ]
  },
  {
   "cell_type": "code",
   "execution_count": 32,
   "metadata": {
    "collapsed": false
   },
   "outputs": [
    {
     "data": {
      "text/plain": [
       "'R'"
      ]
     },
     "execution_count": 32,
     "metadata": {},
     "output_type": "execute_result"
    }
   ],
   "source": [
    "next(lenguajes)"
   ]
  },
  {
   "cell_type": "code",
   "execution_count": 33,
   "metadata": {
    "collapsed": false
   },
   "outputs": [
    {
     "data": {
      "text/plain": [
       "'C++'"
      ]
     },
     "execution_count": 33,
     "metadata": {},
     "output_type": "execute_result"
    }
   ],
   "source": [
    "next(lenguajes)"
   ]
  },
  {
   "cell_type": "markdown",
   "metadata": {},
   "source": [
    "Algunos iterables producen secuencias finitas, desde infinitas secuencias:"
   ]
  },
  {
   "cell_type": "code",
   "execution_count": 38,
   "metadata": {
    "collapsed": false
   },
   "outputs": [
    {
     "name": "stdout",
     "output_type": "stream",
     "text": [
      "Python\n",
      "R\n",
      "C++\n",
      "Python\n"
     ]
    }
   ],
   "source": [
    "import itertools\n",
    "from itertools import islice\n",
    "lenguajes = itertools.cycle(['Python', 'R', 'C++'])  #secuencia infinita\n",
    "lim = islice(lenguajes, 0, 4)                        #secuencia finita\n",
    "for x in lim:\n",
    "    print(x)"
   ]
  },
  {
   "cell_type": "markdown",
   "metadata": {},
   "source": [
    "Para tener una mejor idea de los detalles internos de un iterador, vamos a construir un iterador que produce los números Fibonnaci:"
   ]
  },
  {
   "cell_type": "code",
   "execution_count": 39,
   "metadata": {
    "collapsed": false
   },
   "outputs": [
    {
     "data": {
      "text/plain": [
       "[1, 1, 2, 3, 5, 8, 13, 21, 34, 55, 89, 144]"
      ]
     },
     "execution_count": 39,
     "metadata": {},
     "output_type": "execute_result"
    }
   ],
   "source": [
    "# Iterador que produce los numeros de Fibonacci\n",
    "from itertools import islice\n",
    "\n",
    "class fib:\n",
    "    def __init__(self):\n",
    "        self.prev = 0\n",
    "        self.actual = 1\n",
    "        \n",
    "    def __iter__(self):\n",
    "        return self\n",
    "        \n",
    "    def __next__(self):\n",
    "        valor = self.actual\n",
    "        self.actual += self.prev\n",
    "        self.prev = valor\n",
    "        return valor\n",
    "        \n",
    "f = fib()\n",
    "list(islice(f, 0,12))\n"
   ]
  },
  {
   "cell_type": "markdown",
   "metadata": {},
   "source": [
    "Tenga en cuenta que esta clase es a la vez un iterable ( tiene el método `__iter __ ()`) y su propio iterador (tiene un método `__next __ ()`).\n",
    "\n",
    "El estado dentro de este iterador se  mantiene dentro de las variables de instancia  `prev` y `actual` y se utilizan para   subsecuentes llamadas al iterador. Cada llamada a `next()` realiza dos importantes cosas:\n",
    "\n",
    "1. Modifica el estado para la siguiente llamada a `next()`.\n",
    "2. Presenta el resultado para la actual llamada.\n",
    "\n",
    "\n",
    "Desde el exterior, el iterador es como una fábrica 'perezosa'  que está inactiva hasta que se le  pide para un valor, que es cuando comienza a funcionar y produce un solo valor, después del cual se vuelve inactiva de nuevo.\n",
    "\n",
    "En Python, podemos definir un iterador es un objeto que implementa el `protocolo iterador` que consiste de los métodos mencionados `__iter__()` que retorna el objeto iterador y `__next__()` que retorna el elemento siguiente de una secuencia. Python tiene varios objetos, que implementan el `protocolo iterador`, como las listas, tuplas, diccionarios o archivos."
   ]
  },
  {
   "cell_type": "code",
   "execution_count": 40,
   "metadata": {
    "collapsed": false
   },
   "outputs": [
    {
     "name": "stdout",
     "output_type": "stream",
     "text": [
      "Temas de Python:\n",
      "\n",
      "Programacion orientada de Objetos.\n",
      "\n",
      "Iteradores, generadores.\n",
      "\n",
      "Clausura, decoradores.\n",
      "\n",
      "Programacion funcional.\n"
     ]
    }
   ],
   "source": [
    "# Ejemplo del uso de iteradores con archivos\n",
    "\n",
    "#!/usr/bin/python\n",
    "\n",
    "f = open('python.txt', 'r')\n",
    "\n",
    "for linea in f:\n",
    "    print (linea)\n",
    "    \n",
    "f.close()"
   ]
  },
  {
   "cell_type": "markdown",
   "metadata": {},
   "source": [
    "### Generadores \n",
    "\n",
    "Los generadores son un tipo especial de iterador. Los generadores te permiten escribir iteradores al igual que el ejemplo de secuencia  de los números de Fibonacci, dada anteriormente, pero una sucinta sintaxis, que evita escribir clases con los métodos `__iter__()` y `__next__()`. En general\n",
    "\n",
    "1. Un generador es un iterador, pero no se cumple lo contrario.\n",
    "2. Un generador, por tanto es como una fábrica ('perezosa') que produce valores, en realidad una secuencia de valores.\n",
    "\n",
    "Aquí la misma secuencia de números de Fibonacci, usando generadores:"
   ]
  },
  {
   "cell_type": "code",
   "execution_count": 41,
   "metadata": {
    "collapsed": false
   },
   "outputs": [
    {
     "data": {
      "text/plain": [
       "[1, 1, 2, 3, 5, 8, 13, 21, 34]"
      ]
     },
     "execution_count": 41,
     "metadata": {},
     "output_type": "execute_result"
    }
   ],
   "source": [
    "# Creacion de la secuencia de Fibonacci usando generadores\n",
    "from itertools import islice \n",
    "\n",
    "def fib():\n",
    "    prev, actual = 0, 1\n",
    "    while True:\n",
    "        yield actual\n",
    "        prev, actual = actual, prev + actual\n",
    "        \n",
    "f = fib()\n",
    "list(islice(f, 0,9))"
   ]
  },
  {
   "cell_type": "markdown",
   "metadata": {},
   "source": [
    "Expliquemos paso a paso que sucede en el programa anterior : en primer lugar, debemos darnos cuenta que **fib** se define como una función de Python, nada especial. Nótese, sin embargo, que no hay la  palabra clave `return` dentro del cuerpo de la función. El valor de retorno de la función será un generador (es decir: un iterador, una fábrica, un objeto auxiliar de estado).\n",
    "\n",
    "Ahora, cuando `f = fib()` se llama, el generador (la fábrica) es instanciado y devuelto . Ningún código se ejecutará en este punto: el generador comienza en un estado inactivo inicialmente. Para ser explícitos: la línea \n",
    "\n",
    "`prev, actual = 0, 1`\n",
    "\n",
    "no se ejecuta todavía.\n",
    "\n",
    "Entonces, esta instancia del generador es envuelto en  `islice()`. Este es en sí también un iterador. No pasa nada, todavía.\n",
    "\n",
    "Este iterador es envuelto en  `list()`, que usará todos sus argumentos y crea una lista  de estos argumentos. Para ello, se empieza a llamar a `next()` en la instancia `islice()`, que a su vez empieza a llamar a `next()` en nuestro instancia `f`.\n",
    "\n",
    "Sin embargo, un paso a la vez. En la primera invocación, el código  finalmente correrá un poco: `prev, curr = 0, 1` es ejecutado, ingresamos entonces  en el bucle `while True`, y luego nos encontramos con  la declaración `yield actual`.\n",
    "\n",
    "Esta producirá el valor que está actualmente en la variable `actual` y se volverá inactiva  otra vez. Este valor se pasa a `islice()`, que producirá este valor (porque no se a ido más allá del 9 todavia) y la lista puede agregar el valor 1 a la lista ahora.\n",
    "\n",
    "A continuación, se pide a `ìslice` por el valor siguiente, el cual le pedirá a `f` por este valor, esto deberá \"quitar la pausa\" de f desde su estado anterior, reanudando con la declaración ` prev, actual  = actual, prev + actual`. Luego se vuelve a entrar en la siguiente iteración del bucle `while`, y alcanzamos la declaración `yield actual`, devolviendo el siguiente valor de `actual`.\n",
    "\n",
    "Esto ocurre hasta que la lista tenga 9 elementos y cuando `list()` pide a `islice()` por el valor 10, `islice()` provocará una excepción `StopIteration`,  que indica que el final se ha alcanzado, y la lista devolverá el resultado: una lista  que contienen los 9 primeros números de Fibonacci.\n",
    "\n",
    "Se debe notar que el generador no recibe la llamada 10 de `next()`.\n"
   ]
  },
  {
   "cell_type": "markdown",
   "metadata": {},
   "source": [
    "Mostremos otro ejemplo, para clarificar mejor la relación entre `yield` y la llamada al método `next` sobre el generador"
   ]
  },
  {
   "cell_type": "code",
   "execution_count": 42,
   "metadata": {
    "collapsed": false
   },
   "outputs": [
    {
     "name": "stdout",
     "output_type": "stream",
     "text": [
      "inicio\n",
      "antes de yield 0\n"
     ]
    },
    {
     "data": {
      "text/plain": [
       "0"
      ]
     },
     "execution_count": 42,
     "metadata": {},
     "output_type": "execute_result"
    }
   ],
   "source": [
    "def fg():\n",
    "    print (\"inicio\")\n",
    "    for i in range(3):\n",
    "        print (\"antes de yield\", i)\n",
    "        yield i\n",
    "        print (\"despues de yield\", i)\n",
    "    print (\" fin\")\n",
    "\n",
    "f = fg()\n",
    "next(f)"
   ]
  },
  {
   "cell_type": "code",
   "execution_count": 43,
   "metadata": {
    "collapsed": false
   },
   "outputs": [
    {
     "name": "stdout",
     "output_type": "stream",
     "text": [
      "despues de yield 0\n",
      "antes de yield 1\n"
     ]
    },
    {
     "data": {
      "text/plain": [
       "1"
      ]
     },
     "execution_count": 43,
     "metadata": {},
     "output_type": "execute_result"
    }
   ],
   "source": [
    "next(f)"
   ]
  },
  {
   "cell_type": "code",
   "execution_count": 44,
   "metadata": {
    "collapsed": false
   },
   "outputs": [
    {
     "name": "stdout",
     "output_type": "stream",
     "text": [
      "despues de yield 1\n",
      "antes de yield 2\n"
     ]
    },
    {
     "data": {
      "text/plain": [
       "2"
      ]
     },
     "execution_count": 44,
     "metadata": {},
     "output_type": "execute_result"
    }
   ],
   "source": [
    "next(f)"
   ]
  },
  {
   "cell_type": "code",
   "execution_count": 45,
   "metadata": {
    "collapsed": false
   },
   "outputs": [
    {
     "name": "stdout",
     "output_type": "stream",
     "text": [
      "despues de yield 2\n",
      " fin\n"
     ]
    },
    {
     "ename": "StopIteration",
     "evalue": "",
     "output_type": "error",
     "traceback": [
      "\u001b[1;31m---------------------------------------------------------------------------\u001b[0m",
      "\u001b[1;31mStopIteration\u001b[0m                             Traceback (most recent call last)",
      "\u001b[1;32m<ipython-input-45-468f0afdf1b9>\u001b[0m in \u001b[0;36m<module>\u001b[1;34m()\u001b[0m\n\u001b[1;32m----> 1\u001b[1;33m \u001b[0mnext\u001b[0m\u001b[1;33m(\u001b[0m\u001b[0mf\u001b[0m\u001b[1;33m)\u001b[0m\u001b[1;33m\u001b[0m\u001b[0m\n\u001b[0m",
      "\u001b[1;31mStopIteration\u001b[0m: "
     ]
    }
   ],
   "source": [
    "next(f)"
   ]
  },
  {
   "cell_type": "markdown",
   "metadata": {},
   "source": [
    "### Tipos de Generadores\n",
    "\n",
    "Hay dos tipos de generadores en Python: las funciones generadoras y los generadores  de expresiones. Una función generadora  es cualquier función en la que  la  palabra clave `yield` aparece . Acabamos de ver un ejemplo de ello. La aparición  de `yield` es suficiente para hacer de la función  una función generadora.\n",
    "\n",
    "El otro tipo de generador es el generador equivalente de una lista por comprensión. Su sintaxis es muy elegante pero de uso limitado. Veamos como se utiliza esta sintaxis para crear una lista de números:\n"
   ]
  },
  {
   "cell_type": "code",
   "execution_count": 52,
   "metadata": {
    "collapsed": false
   },
   "outputs": [
    {
     "data": {
      "text/plain": [
       "<generator object <genexpr> at 0x000001B87781D888>"
      ]
     },
     "execution_count": 52,
     "metadata": {},
     "output_type": "execute_result"
    }
   ],
   "source": [
    "cuadrados= (x * x for x in numeros)\n",
    "cuadrados"
   ]
  },
  {
   "cell_type": "code",
   "execution_count": 53,
   "metadata": {
    "collapsed": false
   },
   "outputs": [
    {
     "data": {
      "text/plain": [
       "1"
      ]
     },
     "execution_count": 53,
     "metadata": {},
     "output_type": "execute_result"
    }
   ],
   "source": [
    "next(cuadrados)"
   ]
  },
  {
   "cell_type": "code",
   "execution_count": 54,
   "metadata": {
    "collapsed": false
   },
   "outputs": [
    {
     "data": {
      "text/plain": [
       "[4, 9, 16, 25]"
      ]
     },
     "execution_count": 54,
     "metadata": {},
     "output_type": "execute_result"
    }
   ],
   "source": [
    "list(cuadrados)"
   ]
  },
  {
   "cell_type": "markdown",
   "metadata": {},
   "source": [
    "Tenga en cuenta que, debido a que hemos leido el primer valor de `cuadrado` con `next ()`, su estado se encuentra ahora en el \"segundo\" item, por lo que cuando recorramos la totalidad de las llamadas a `list()`, sólo se devolverá una lista de `cuadrados` parcial, empezando por el segundo valor."
   ]
  },
  {
   "cell_type": "markdown",
   "metadata": {},
   "source": [
    "Podemos hacer lo mismo de distintas formas:"
   ]
  },
  {
   "cell_type": "code",
   "execution_count": 55,
   "metadata": {
    "collapsed": false
   },
   "outputs": [
    {
     "data": {
      "text/plain": [
       "[1, 4, 9, 16, 25]"
      ]
     },
     "execution_count": 55,
     "metadata": {},
     "output_type": "execute_result"
    }
   ],
   "source": [
    "numeros = [1 ,2 ,3 ,4 ,5]\n",
    "[x * x for x in numeros]"
   ]
  },
  {
   "cell_type": "markdown",
   "metadata": {},
   "source": [
    "Usando un  conjunto por comprensión:\n"
   ]
  },
  {
   "cell_type": "code",
   "execution_count": 57,
   "metadata": {
    "collapsed": false
   },
   "outputs": [
    {
     "data": {
      "text/plain": [
       "{1, 4, 9, 16, 25}"
      ]
     },
     "execution_count": 57,
     "metadata": {},
     "output_type": "execute_result"
    }
   ],
   "source": [
    "{x*x for x in numeros}\n",
    "{1, 4, 9, 16, 25}"
   ]
  },
  {
   "cell_type": "markdown",
   "metadata": {
    "collapsed": true
   },
   "source": [
    "## Decoradores\n",
    "\n",
    "* Notas basados en el artículo de Ayman Farhat\n",
    "\n",
    "En el contexto de los patrones de diseño de software, los  decoradores de modifican dinámicamente la funcionalidad de una función, método o clase sin tener que utilizar directamente subclases.\n",
    "\n",
    "Esto es ideal cuando se necesita  extender la funcionalidad de las funciones que no queremos modificar. Podemos implementar el *patrón decorador* en cualquier lugar, pero Python facilita la aplicación, proporcionando  expresiones características y sintaxis de eso. Esencialmente, los  decoradores trabajan como envolturas, modifican el comportamiento del código antes y después de una  ejecución de una  *función objetivo*, sin la necesidad de modificar la función en sí, aumentando la funcionalidad original, así decorándola."
   ]
  },
  {
   "cell_type": "markdown",
   "metadata": {},
   "source": [
    "Veamos algunas ejemplos de funciones útiles para entender decoradores"
   ]
  },
  {
   "cell_type": "code",
   "execution_count": 2,
   "metadata": {
    "collapsed": false
   },
   "outputs": [
    {
     "name": "stdout",
     "output_type": "stream",
     "text": [
      "hola Mili\n"
     ]
    }
   ],
   "source": [
    "# Asignamos funciones  a variables\n",
    "\n",
    "def saludo(nombre):\n",
    "    return \"hola \" + nombre\n",
    "\n",
    "saludo_a = saludo\n",
    "print (saludo_a(\"Mili\"))"
   ]
  },
  {
   "cell_type": "code",
   "execution_count": 6,
   "metadata": {
    "collapsed": false
   },
   "outputs": [
    {
     "name": "stdout",
     "output_type": "stream",
     "text": [
      "Me pasas el libro Mili\n"
     ]
    }
   ],
   "source": [
    "# Definimos funciones dentro de funciones\n",
    "\n",
    "def saludo(nombre):\n",
    "    def conseguir_mensaje():\n",
    "        return \"Me pasas el libro \"\n",
    "    \n",
    "    resultado  = conseguir_mensaje() + nombre\n",
    "    return resultado\n",
    "\n",
    "print(saludo(\"Mili\"))"
   ]
  },
  {
   "cell_type": "code",
   "execution_count": 4,
   "metadata": {
    "collapsed": false
   },
   "outputs": [
    {
     "name": "stdout",
     "output_type": "stream",
     "text": [
      "hola  Cesar\n"
     ]
    }
   ],
   "source": [
    "# Funciones pueden ser pasadas como parametros a otras funciones\n",
    "\n",
    "def saludo(nombre):\n",
    "    return \"hola \" + nombre\n",
    "\n",
    "def llam_func(func):\n",
    "    otro_nombre = \" Cesar\"\n",
    "    return func(otro_nombre)\n",
    "\n",
    "print(llam_func(saludo))"
   ]
  },
  {
   "cell_type": "code",
   "execution_count": 21,
   "metadata": {
    "collapsed": false,
    "scrolled": true
   },
   "outputs": [
    {
     "name": "stdout",
     "output_type": "stream",
     "text": [
      "Te gustó el libro Mili?\n"
     ]
    }
   ],
   "source": [
    "# Las funciones generan otras funciones\n",
    "\n",
    "def compuesto_saludo_func():\n",
    "    def conseguir_mensaje():\n",
    "        return \"Te gustó el libro Mili?\"\n",
    "    \n",
    "    return conseguir_mensaje\n",
    "\n",
    "saludo = compuesto_saludo_func()\n",
    "print(saludo())"
   ]
  },
  {
   "cell_type": "markdown",
   "metadata": {},
   "source": [
    "Las funciones internas tienen acceso al ámbito que lo contiene (enclosing), más comúnmente conocido como `closure`. Un patrón muy potente que nos encontraremos mientras construyamos  los decoradores. Otra cosa a tener en cuenta, es que Python sólo permite acceso de lectura al alcance externo y no produce  asignación."
   ]
  },
  {
   "cell_type": "code",
   "execution_count": 17,
   "metadata": {
    "collapsed": false
   },
   "outputs": [
    {
     "name": "stdout",
     "output_type": "stream",
     "text": [
      "Te gustó el libro Mili? de Marcus Zusak\n"
     ]
    }
   ],
   "source": [
    "# Clausura\n",
    "\n",
    "def compuesto_saludo_func(nombre):\n",
    "    def conseguir_mensaje():\n",
    "        return \"Te gustó el libro Mili?\" + \" de \" + nombre  \n",
    "    \n",
    "    return conseguir_mensaje\n",
    "\n",
    "saludo = compuesto_saludo_func(\"Marcus Zusak\")\n",
    "print(saludo())"
   ]
  },
  {
   "cell_type": "markdown",
   "metadata": {},
   "source": [
    "Otra manera de ver a la clausura es como  objeto de función que recuerda los valores en el ámbito que lo contiene (enclosing) independientemente  de que esos ámbitos todavía estén presentes en la memoria. Si alguna vez has escrito una función que devuelve otra función, es probable que pueda haber utilizado clausura  incluso sin saber acerca de ellas."
   ]
  },
  {
   "cell_type": "code",
   "execution_count": 24,
   "metadata": {
    "collapsed": false
   },
   "outputs": [],
   "source": [
    "# Ejemplo\n",
    "\n",
    "def genera_potencia_func(n):\n",
    "    \n",
    "    print (\"id(n): %X\" % id(n))\n",
    "    \n",
    "    def n_potencia(x):\n",
    "        return x**n\n",
    "    \n",
    "    print (\"id(nth_potencia): %X\" % id(nt_potencia))\n",
    "    return n_potencia\n"
   ]
  },
  {
   "cell_type": "markdown",
   "metadata": {},
   "source": [
    "La función interna `n_potencia` es llamada una clausura ya que tiene acceso a `n` que se define en la función `genera_potencia_func`  incluso después de que el flujo del programa se termina.\n",
    "\n",
    "Vamos a llamar a `genera_potencia_func ` y asignamos el resultado a otra variable para examinar estas cosas con más detalle"
   ]
  },
  {
   "cell_type": "code",
   "execution_count": 23,
   "metadata": {
    "collapsed": false
   },
   "outputs": [
    {
     "name": "stdout",
     "output_type": "stream",
     "text": [
      "id(n): 7FA829FCE700\n",
      "id(nth_potencia): 7FA81D0276A8\n"
     ]
    },
    {
     "data": {
      "text/plain": [
       "'<function genera_potencia_func.<locals>.nth_potencia at 0x7fa81d027ea0>'"
      ]
     },
     "execution_count": 23,
     "metadata": {},
     "output_type": "execute_result"
    }
   ],
   "source": [
    "ìd4 = genera_potencia_func(4)\n",
    "repr(id4)"
   ]
  },
  {
   "cell_type": "markdown",
   "metadata": {},
   "source": [
    "Cuando ejecutamos la función `genera_potencia_func`, se crea un objeto de `n_potencia (0x7fa81d027ea0)`  que es asignado a `id4 ` (se puede ver que `id(id4) == 0x7fa81d027ea0 == id(n_potencia`). Ahora vamos a eliminar  el nombre de la función original `genera_potencia_func` desde el espacio de nombres global."
   ]
  },
  {
   "cell_type": "code",
   "execution_count": 25,
   "metadata": {
    "collapsed": true
   },
   "outputs": [],
   "source": [
    "del genera_potencia_func"
   ]
  },
  {
   "cell_type": "code",
   "execution_count": 26,
   "metadata": {
    "collapsed": false
   },
   "outputs": [
    {
     "data": {
      "text/plain": [
       "81"
      ]
     },
     "execution_count": 26,
     "metadata": {},
     "output_type": "execute_result"
    }
   ],
   "source": [
    "id4(3)"
   ]
  },
  {
   "cell_type": "markdown",
   "metadata": {},
   "source": [
    "¿Cómo funciona? :\n",
    "\n",
    "Como definimos `n = 4` fuera del ámbito local de `n_potencia`. ¿Cómo `id4` (el objeto función `n_potencia`) sabe que el valor de `n` es 4?\n",
    "\n",
    "Tiene sentido que `genera_potencia_func` sabe de `n` (y su valor, 4) cuando el flujo del programa se encuentra dentro `genera_potencia_func`. Sin embargo, el flujo de programa no se encuentra  dentro de `genera_potencia_func`. Por esa cuestión  `genera_potencia_func`   ni siquiera existe en el espacio de nombres.\n",
    "\n",
    "El objeto de la función `n_potencia` devuelto por `genera_potencia_func` es una clausura, ya que sabe acerca de los detalles de la variable `n` desde el ámbito que lo contiene."
   ]
  },
  {
   "cell_type": "markdown",
   "metadata": {},
   "source": [
    "### Composición de Decoradores\n",
    "\n",
    "Los decoradores  son simplemente las envolturas de las funciones existentes. Ponemos las ideas mencionadas anteriormente para construir un decorador. En este ejemplo vamos a considerar una función que envuelve la cadena de salida de otra función por etiquetas *p*."
   ]
  },
  {
   "cell_type": "code",
   "execution_count": 28,
   "metadata": {
    "collapsed": false
   },
   "outputs": [
    {
     "name": "stdout",
     "output_type": "stream",
     "text": [
      "<p>Python es un lenguaje interpretado, R funcional, orientado a objetos</p>\n"
     ]
    }
   ],
   "source": [
    "# Ejemplo\n",
    "\n",
    "def g_texto(nombre):\n",
    "    return \"Python es un lenguaje interpretado, {0} funcional, orientado a objetos\".format(nombre)\n",
    "\n",
    "def p_decorador(func):\n",
    "    \n",
    "    def func_envol(nombre):\n",
    "        return \"<p>{0}</p>\".format(func(nombre))\n",
    "    \n",
    "    return func_envol\n",
    "\n",
    "mi_texto = p_decorador(g_texto)\n",
    "\n",
    "print (mi_texto(\"R\"))"
   ]
  },
  {
   "cell_type": "markdown",
   "metadata": {},
   "source": [
    "Una función que toma otra función como argumento, genera una nueva función, aumentando el trabajo de la función original, y devolviendo la función generada que se puede  usar en cualquier lugar. `g_texto` es decorada por `p_decorador `, sólo tenemos que asignar `g_texto` al resultado de `p_decorador`.\n",
    "\n",
    "```p\n",
    "g_texto = p_decorador(g_texto)\n",
    "print (g_texto(\"R\"))\n",
    "```\n"
   ]
  },
  {
   "cell_type": "markdown",
   "metadata": {
    "collapsed": true
   },
   "source": [
    "### Sintaxis para los decoradores\n",
    "\n",
    "Python hace que la creación y el uso de decoradores un poco más limpio y más agradable para el programador a través de una sintaxis más amigable. Para decorar `g_texto` que no tenemos que  escribir `g_texto = p_decorador(g_texto)`. Hay un atajo  para eso, que es de mencionar el nombre del decorador antes de la función a decorar. El nombre del decorador debe considera con un símbolo `@`."
   ]
  },
  {
   "cell_type": "code",
   "execution_count": 34,
   "metadata": {
    "collapsed": false
   },
   "outputs": [
    {
     "name": "stdout",
     "output_type": "stream",
     "text": [
      "<p>Python es un lenguaje interpretado, R funcional, orientado a objetos</p>\n"
     ]
    }
   ],
   "source": [
    "def p_decorador(func):\n",
    "    \n",
    "    def func_envol(nombre):\n",
    "        return \"<p>{0}</p>\".format(func(nombre))\n",
    "    \n",
    "    return func_envol\n",
    "\n",
    "@p_decorador\n",
    "def g_texto(nombre):\n",
    "    return \"Python es un lenguaje interpretado, {0} funcional, orientado a objetos\".format(nombre)\n",
    "\n",
    "print (mi_texto(\"R\"))"
   ]
  },
  {
   "cell_type": "code",
   "execution_count": null,
   "metadata": {
    "collapsed": true
   },
   "outputs": [],
   "source": []
  }
 ],
 "metadata": {
  "kernelspec": {
   "display_name": "Python 3",
   "language": "python",
   "name": "python3"
  },
  "language_info": {
   "codemirror_mode": {
    "name": "ipython",
    "version": 3
   },
   "file_extension": ".py",
   "mimetype": "text/x-python",
   "name": "python",
   "nbconvert_exporter": "python",
   "pygments_lexer": "ipython3",
   "version": "3.5.2"
  }
 },
 "nbformat": 4,
 "nbformat_minor": 0
}
