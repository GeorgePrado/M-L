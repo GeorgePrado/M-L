{
 "cells": [
  {
   "cell_type": "markdown",
   "metadata": {},
   "source": [
    "## Iterables, Iteradores  y Generadores\n",
    "\n",
    "*Notas basadas en el artículo de Vincent Driessen: Iterables vs iterators vs Generators*"
   ]
  },
  {
   "cell_type": "markdown",
   "metadata": {},
   "source": [
    "### Contenedores \n",
    "\n",
    "Los contenedores son  estructuras de datos, que contienen elementos y suporta pruebas de permanencia de sus elementos. Son estructuras de datos que viven en la memoria y almacenan sus valores en memoria también. En Python algunos ejemplo son:\n",
    "\n",
    "1 . **list**, `deque , ...`\n",
    "\n",
    "2 . **set**, `frozensets, ...`\n",
    "\n",
    "3 . **dict**, `default, OrderedDict, Counter, ...`\n",
    "\n",
    "4 . **tuple**, `namedtuple, ...`\n",
    "\n",
    "5 . **str**\n",
    "\n",
    "Un objecto es un `contenedor`, cuando podemos preguntar si contiene un cierto elemento. Podemos llevar esas pruebas de pertenencia sobre listas, conjuntos (sets) o tuplas, de la siguiente manera:"
   ]
  },
  {
   "cell_type": "code",
   "execution_count": 13,
   "metadata": {
    "collapsed": true
   },
   "outputs": [],
   "source": [
    "assert 1 in [1, \"R\", 2, \"JS\"]  # listas\n",
    "assert 4 not in [1, 2, 3, 7]\n",
    "assert 1 in {1, 2, 3}         # sets\n",
    "assert 4 not in {1, 2, 3}\n",
    "assert 6 in (2, 4, 6, 8)      # tuplas\n",
    "assert 4 not in (1, 2, 3)\n"
   ]
  },
  {
   "cell_type": "markdown",
   "metadata": {},
   "source": [
    "En el caso de diccionarios:"
   ]
  },
  {
   "cell_type": "code",
   "execution_count": 14,
   "metadata": {
    "collapsed": false
   },
   "outputs": [],
   "source": [
    "d = {1: 'python', 2: 'R', 3: 'C++'}\n",
    "assert 1 in  d\n",
    "assert 'C++' not in d"
   ]
  },
  {
   "cell_type": "markdown",
   "metadata": {},
   "source": [
    "\n",
    "Podemos preguntar si una cadena, contiene una subcadena"
   ]
  },
  {
   "cell_type": "code",
   "execution_count": 15,
   "metadata": {
    "collapsed": false
   },
   "outputs": [],
   "source": [
    "s = 'spandueballett'\n",
    "assert 'a' in s\n",
    "assert 'ball' in s"
   ]
  },
  {
   "cell_type": "markdown",
   "metadata": {},
   "source": [
    "Las cadenas literalmente no almacenan copias de todas sus subcadenas de memoria, pero se pueden usar de esta manera.\n",
    "\n",
    "\n",
    "Aunque la mayoria de los contenedores proporcionan una manera de producir, todos los elementos  que contiene, esta capacidad, no le hace a ellos un contenedor sino un iterable.\n",
    "\n",
    "**No todos los contenedores son iterables**. Un ejemplo de esto es  un  [Bloom Filters](http://billmill.org/bloomfilter-tutorial/), una estructura de datos probabilistica, que permite que se le pregunte si contiene un determinado elemento, pero no es capáz de retornas sus elementos individuales.\n"
   ]
  },
  {
   "cell_type": "markdown",
   "metadata": {},
   "source": [
    "### Iterables \n",
    "\n",
    "La mayoría de los contenedores también son iterables. Pero muchas cosas más son también iterables . Ejemplos de ello son los archivos abiertos, sockets  abiertos, etc. Donde  los  contenedores  son típicamente finitos, un iterable puede  también  representar  una fuente infinita de datos.\n",
    "\n",
    "Un iterable es cualquier objeto, no necesariamente una estructura de datos, que puede devolver un ** iterador** (con el fin de devolver todos los elementos). Eso suena un poco incómodo, pero hay una diferencia importante entre un iterable y un iterador.  Vemos este ejemplo:"
   ]
  },
  {
   "cell_type": "code",
   "execution_count": 22,
   "metadata": {
    "collapsed": false
   },
   "outputs": [
    {
     "data": {
      "text/plain": [
       "1"
      ]
     },
     "execution_count": 22,
     "metadata": {},
     "output_type": "execute_result"
    }
   ],
   "source": [
    "x = [1, 2, 3]\n",
    "y = iter(x)\n",
    "z = iter(x)\n",
    "next(y)\n"
   ]
  },
  {
   "cell_type": "code",
   "execution_count": 23,
   "metadata": {
    "collapsed": false
   },
   "outputs": [
    {
     "data": {
      "text/plain": [
       "2"
      ]
     },
     "execution_count": 23,
     "metadata": {},
     "output_type": "execute_result"
    }
   ],
   "source": [
    "next(y)"
   ]
  },
  {
   "cell_type": "code",
   "execution_count": 24,
   "metadata": {
    "collapsed": false
   },
   "outputs": [
    {
     "data": {
      "text/plain": [
       "1"
      ]
     },
     "execution_count": 24,
     "metadata": {},
     "output_type": "execute_result"
    }
   ],
   "source": [
    "next(z)"
   ]
  },
  {
   "cell_type": "code",
   "execution_count": 25,
   "metadata": {
    "collapsed": false
   },
   "outputs": [
    {
     "data": {
      "text/plain": [
       "list"
      ]
     },
     "execution_count": 25,
     "metadata": {},
     "output_type": "execute_result"
    }
   ],
   "source": [
    "type(x)"
   ]
  },
  {
   "cell_type": "code",
   "execution_count": 26,
   "metadata": {
    "collapsed": false
   },
   "outputs": [
    {
     "data": {
      "text/plain": [
       "list_iterator"
      ]
     },
     "execution_count": 26,
     "metadata": {},
     "output_type": "execute_result"
    }
   ],
   "source": [
    "type(y)"
   ]
  },
  {
   "cell_type": "markdown",
   "metadata": {},
   "source": [
    "Aquí, `x` es el iterable, mientras que `y` y `z` son instancias individuales de un iterador, produciendo valores desde el iterable `x`. Ambos `y` y `z` mantienen un estado como se muestra en el ejemplo.\n",
    "\n",
    "A menudo, las clases iterables implementarán tanto `__iter__()` y `__next__` en la misma clase y tener `__iter__()` devolviendo `self`, lo que hace de la clase un iterable y su propio iterador. Es correcto retornar diferentes objetos como iteradores sin embargo."
   ]
  },
  {
   "cell_type": "markdown",
   "metadata": {},
   "source": [
    "Cuando desensamblamos este código en Python, se puede ver la llamada explícita a `GET_ITER`, que es esencialmente igual a la invocación `iter(x)`. `FOR_ITER` es una instrucción que va a hacer el equivalente a llamar  `next()` repetidamente para obtener todos los elementos, pero esto no se demuestra en  las instrucciones de código de bytes porque está optimizada para la velocidad en el intérprete."
   ]
  },
  {
   "cell_type": "code",
   "execution_count": 27,
   "metadata": {
    "collapsed": false
   },
   "outputs": [
    {
     "name": "stdout",
     "output_type": "stream",
     "text": [
      "  1           0 SETUP_LOOP              14 (to 17)\n",
      "              3 LOAD_NAME                0 (x)\n",
      "              6 GET_ITER\n",
      "        >>    7 FOR_ITER                 6 (to 16)\n",
      "             10 STORE_NAME               1 (_)\n",
      "             13 JUMP_ABSOLUTE            7\n",
      "        >>   16 POP_BLOCK\n",
      "        >>   17 LOAD_CONST               0 (None)\n",
      "             20 RETURN_VALUE\n"
     ]
    }
   ],
   "source": [
    "import dis\n",
    "x = [1,2,3]\n",
    "dis.dis('for _ in x: pass')"
   ]
  },
  {
   "cell_type": "markdown",
   "metadata": {},
   "source": [
    "### Iteradores \n",
    "\n",
    "Un iterador es un objeto auxiliar de 'estado' que producirá el siguiente valor cuando se llama a `next()` en el. Un objecto que tiene un método `__next__` es por tanto un iterador.\n",
    "\n",
    "Cada vez que se pide por el próximo valor (next), este sabe como calcularlo ya que esta sujeto a estados internos.\n",
    "\n",
    "Todas  las funciones de [itertools](https://docs.python.org/3/library/itertools.html) retornan iteradores. Algunas producen secuencias infinitas:"
   ]
  },
  {
   "cell_type": "code",
   "execution_count": 28,
   "metadata": {
    "collapsed": false
   },
   "outputs": [
    {
     "data": {
      "text/plain": [
       "3"
      ]
     },
     "execution_count": 28,
     "metadata": {},
     "output_type": "execute_result"
    }
   ],
   "source": [
    "from itertools import count\n",
    "contador = count(start =3)\n",
    "next(contador)"
   ]
  },
  {
   "cell_type": "code",
   "execution_count": 29,
   "metadata": {
    "collapsed": false
   },
   "outputs": [
    {
     "data": {
      "text/plain": [
       "4"
      ]
     },
     "execution_count": 29,
     "metadata": {},
     "output_type": "execute_result"
    }
   ],
   "source": [
    "next(contador)"
   ]
  },
  {
   "cell_type": "code",
   "execution_count": 30,
   "metadata": {
    "collapsed": false
   },
   "outputs": [
    {
     "data": {
      "text/plain": [
       "5"
      ]
     },
     "execution_count": 30,
     "metadata": {},
     "output_type": "execute_result"
    }
   ],
   "source": [
    "next(contador)"
   ]
  },
  {
   "cell_type": "markdown",
   "metadata": {},
   "source": [
    "Algunos iteradores  producen infinitas secuencias, desde finitas secuencias:"
   ]
  },
  {
   "cell_type": "code",
   "execution_count": 31,
   "metadata": {
    "collapsed": false
   },
   "outputs": [
    {
     "data": {
      "text/plain": [
       "'Python'"
      ]
     },
     "execution_count": 31,
     "metadata": {},
     "output_type": "execute_result"
    }
   ],
   "source": [
    "from itertools import cycle\n",
    "lenguajes = cycle(['Python', 'R', 'C++'])\n",
    "next(lenguajes)"
   ]
  },
  {
   "cell_type": "code",
   "execution_count": 32,
   "metadata": {
    "collapsed": false
   },
   "outputs": [
    {
     "data": {
      "text/plain": [
       "'R'"
      ]
     },
     "execution_count": 32,
     "metadata": {},
     "output_type": "execute_result"
    }
   ],
   "source": [
    "next(lenguajes)"
   ]
  },
  {
   "cell_type": "code",
   "execution_count": 33,
   "metadata": {
    "collapsed": false
   },
   "outputs": [
    {
     "data": {
      "text/plain": [
       "'C++'"
      ]
     },
     "execution_count": 33,
     "metadata": {},
     "output_type": "execute_result"
    }
   ],
   "source": [
    "next(lenguajes)"
   ]
  },
  {
   "cell_type": "markdown",
   "metadata": {},
   "source": [
    "Algunos iterables producen secuencias finitas, desde infinitas secuencias:"
   ]
  },
  {
   "cell_type": "code",
   "execution_count": 38,
   "metadata": {
    "collapsed": false
   },
   "outputs": [
    {
     "name": "stdout",
     "output_type": "stream",
     "text": [
      "Python\n",
      "R\n",
      "C++\n",
      "Python\n"
     ]
    }
   ],
   "source": [
    "import itertools\n",
    "from itertools import islice\n",
    "lenguajes = itertools.cycle(['Python', 'R', 'C++'])  #secuencia infinita\n",
    "lim = islice(lenguajes, 0, 4)                        #secuencia finita\n",
    "for x in lim:\n",
    "    print(x)"
   ]
  },
  {
   "cell_type": "markdown",
   "metadata": {},
   "source": [
    "Para tener una mejor idea de los detalles internos de un iterador, vamos a construir un iterador que produce los números Fibonnaci:"
   ]
  },
  {
   "cell_type": "code",
   "execution_count": 39,
   "metadata": {
    "collapsed": false
   },
   "outputs": [
    {
     "data": {
      "text/plain": [
       "[1, 1, 2, 3, 5, 8, 13, 21, 34, 55, 89, 144]"
      ]
     },
     "execution_count": 39,
     "metadata": {},
     "output_type": "execute_result"
    }
   ],
   "source": [
    "# Iterador que produce los numeros de Fibonacci\n",
    "from itertools import islice\n",
    "\n",
    "class fib:\n",
    "    def __init__(self):\n",
    "        self.prev = 0\n",
    "        self.actual = 1\n",
    "        \n",
    "    def __iter__(self):\n",
    "        return self\n",
    "        \n",
    "    def __next__(self):\n",
    "        valor = self.actual\n",
    "        self.actual += self.prev\n",
    "        self.prev = valor\n",
    "        return valor\n",
    "        \n",
    "f = fib()\n",
    "list(islice(f, 0,12))\n"
   ]
  },
  {
   "cell_type": "markdown",
   "metadata": {},
   "source": [
    "Tenga en cuenta que esta clase es a la vez un iterable ( tiene el método `__iter __ ()`) y su propio iterador (tiene un método `__next __ ()`).\n",
    "\n",
    "El estado dentro de este iterador se  mantiene dentro de las variables de instancia  `prev` y `actual` y se utilizan para   subsecuentes llamadas al iterador. Cada llamada a `next()` realiza dos importantes cosas:\n",
    "\n",
    "1. Modifica el estado para la siguiente llamada a `next()`.\n",
    "2. Presenta el resultado para la actual llamada.\n",
    "\n",
    "\n",
    "Desde el exterior, el iterador es como una fábrica 'perezosa'  que está inactiva hasta que se le  pide para un valor, que es cuando comienza a funcionar y produce un solo valor, después del cual se vuelve inactiva de nuevo.\n",
    "\n",
    "En Python, podemos definir un iterador es un objeto que implementa el `protocolo iterador` que consiste de los métodos mencionados `__iter__()` que retorna el objeto iterador y `__next__()` que retorna el elemento siguiente de una secuencia. Python tiene varios objetos, que implementan el `protocolo iterador`, como las listas, tuplas, diccionarios o archivos."
   ]
  },
  {
   "cell_type": "code",
   "execution_count": 40,
   "metadata": {
    "collapsed": false
   },
   "outputs": [
    {
     "name": "stdout",
     "output_type": "stream",
     "text": [
      "Temas de Python:\n",
      "\n",
      "Programacion orientada de Objetos.\n",
      "\n",
      "Iteradores, generadores.\n",
      "\n",
      "Clausura, decoradores.\n",
      "\n",
      "Programacion funcional.\n"
     ]
    }
   ],
   "source": [
    "# Ejemplo del uso de iteradores con archivos\n",
    "\n",
    "#!/usr/bin/python\n",
    "\n",
    "f = open('python.txt', 'r')\n",
    "\n",
    "for linea in f:\n",
    "    print (linea)\n",
    "    \n",
    "f.close()"
   ]
  },
  {
   "cell_type": "markdown",
   "metadata": {},
   "source": [
    "### Generadores \n",
    "\n",
    "Los generadores son un tipo especial de iterador. Los generadores te permiten escribir iteradores al igual que el ejemplo de secuencia  de los números de Fibonacci, dada anteriormente, pero una sucinta sintaxis, que evita escribir clases con los métodos `__iter__()` y `__next__()`. En general\n",
    "\n",
    "1. Un generador es un iterador, pero no se cumple lo contrario.\n",
    "2. Un generador, por tanto es como una fábrica ('perezosa') que produce valores, en realidad una secuencia de valores.\n",
    "\n",
    "Aquí la misma secuencia de números de Fibonacci, usando generadores:"
   ]
  },
  {
   "cell_type": "code",
   "execution_count": 41,
   "metadata": {
    "collapsed": false
   },
   "outputs": [
    {
     "data": {
      "text/plain": [
       "[1, 1, 2, 3, 5, 8, 13, 21, 34]"
      ]
     },
     "execution_count": 41,
     "metadata": {},
     "output_type": "execute_result"
    }
   ],
   "source": [
    "# Creacion de la secuencia de Fibonacci usando generadores\n",
    "from itertools import islice \n",
    "\n",
    "def fib():\n",
    "    prev, actual = 0, 1\n",
    "    while True:\n",
    "        yield actual\n",
    "        prev, actual = actual, prev + actual\n",
    "        \n",
    "f = fib()\n",
    "list(islice(f, 0,9))"
   ]
  },
  {
   "cell_type": "markdown",
   "metadata": {},
   "source": [
    "Expliquemos paso a paso que sucede en el programa anterior : en primer lugar, debemos darnos cuenta que **fib** se define como una función de Python, nada especial. Nótese, sin embargo, que no hay la  palabra clave `return` dentro del cuerpo de la función. El valor de retorno de la función será un generador (es decir: un iterador, una fábrica, un objeto auxiliar de estado).\n",
    "\n",
    "Ahora, cuando `f = fib()` se llama, el generador (la fábrica) es instanciado y devuelto . Ningún código se ejecutará en este punto: el generador comienza en un estado inactivo inicialmente. Para ser explícitos: la línea \n",
    "\n",
    "`prev, actual = 0, 1`\n",
    "\n",
    "no se ejecuta todavía.\n",
    "\n",
    "Entonces, esta instancia del generador es envuelto en  `islice()`. Este es en sí también un iterador. No pasa nada, todavía.\n",
    "\n",
    "Este iterador es envuelto en  `list()`, que usará todos sus argumentos y crea una lista  de estos argumentos. Para ello, se empieza a llamar a `next()` en la instancia `islice()`, que a su vez empieza a llamar a `next()` en nuestro instancia `f`.\n",
    "\n",
    "Sin embargo, un paso a la vez. En la primera invocación, el código  finalmente correrá un poco: `prev, curr = 0, 1` es ejecutado, ingresamos entonces  en el bucle `while True`, y luego nos encontramos con  la declaración `yield actual`.\n",
    "\n",
    "Esta producirá el valor que está actualmente en la variable `actual` y se volverá inactiva  otra vez. Este valor se pasa a `islice()`, que producirá este valor (porque no se a ido más allá del 9 todavia) y la lista puede agregar el valor 1 a la lista ahora.\n",
    "\n",
    "A continuación, se pide a `ìslice` por el valor siguiente, el cual le pedirá a `f` por este valor, esto deberá \"quitar la pausa\" de f desde su estado anterior, reanudando con la declaración ` prev, actual  = actual, prev + actual`. Luego se vuelve a entrar en la siguiente iteración del bucle `while`, y alcanzamos la declaración `yield actual`, devolviendo el siguiente valor de `actual`.\n",
    "\n",
    "Esto ocurre hasta que la lista tenga 9 elementos y cuando `list()` pide a `islice()` por el valor 10, `islice()` provocará una excepción `StopIteration`,  que indica que el final se ha alcanzado, y la lista devolverá el resultado: una lista  que contienen los 9 primeros números de Fibonacci.\n",
    "\n",
    "Se debe notar que el generador no recibe la llamada 10 de `next()`.\n"
   ]
  },
  {
   "cell_type": "markdown",
   "metadata": {},
   "source": [
    "Mostremos otro ejemplo, para clarificar mejor la relación entre `yield` y la llamada al método `next` sobre el generador"
   ]
  },
  {
   "cell_type": "code",
   "execution_count": 42,
   "metadata": {
    "collapsed": false
   },
   "outputs": [
    {
     "name": "stdout",
     "output_type": "stream",
     "text": [
      "inicio\n",
      "antes de yield 0\n"
     ]
    },
    {
     "data": {
      "text/plain": [
       "0"
      ]
     },
     "execution_count": 42,
     "metadata": {},
     "output_type": "execute_result"
    }
   ],
   "source": [
    "def fg():\n",
    "    print (\"inicio\")\n",
    "    for i in range(3):\n",
    "        print (\"antes de yield\", i)\n",
    "        yield i\n",
    "        print (\"despues de yield\", i)\n",
    "    print (\" fin\")\n",
    "\n",
    "f = fg()\n",
    "next(f)"
   ]
  },
  {
   "cell_type": "code",
   "execution_count": 43,
   "metadata": {
    "collapsed": false
   },
   "outputs": [
    {
     "name": "stdout",
     "output_type": "stream",
     "text": [
      "despues de yield 0\n",
      "antes de yield 1\n"
     ]
    },
    {
     "data": {
      "text/plain": [
       "1"
      ]
     },
     "execution_count": 43,
     "metadata": {},
     "output_type": "execute_result"
    }
   ],
   "source": [
    "next(f)"
   ]
  },
  {
   "cell_type": "code",
   "execution_count": 44,
   "metadata": {
    "collapsed": false
   },
   "outputs": [
    {
     "name": "stdout",
     "output_type": "stream",
     "text": [
      "despues de yield 1\n",
      "antes de yield 2\n"
     ]
    },
    {
     "data": {
      "text/plain": [
       "2"
      ]
     },
     "execution_count": 44,
     "metadata": {},
     "output_type": "execute_result"
    }
   ],
   "source": [
    "next(f)"
   ]
  },
  {
   "cell_type": "code",
   "execution_count": 45,
   "metadata": {
    "collapsed": false
   },
   "outputs": [
    {
     "name": "stdout",
     "output_type": "stream",
     "text": [
      "despues de yield 2\n",
      " fin\n"
     ]
    },
    {
     "ename": "StopIteration",
     "evalue": "",
     "output_type": "error",
     "traceback": [
      "\u001b[1;31m---------------------------------------------------------------------------\u001b[0m",
      "\u001b[1;31mStopIteration\u001b[0m                             Traceback (most recent call last)",
      "\u001b[1;32m<ipython-input-45-468f0afdf1b9>\u001b[0m in \u001b[0;36m<module>\u001b[1;34m()\u001b[0m\n\u001b[1;32m----> 1\u001b[1;33m \u001b[0mnext\u001b[0m\u001b[1;33m(\u001b[0m\u001b[0mf\u001b[0m\u001b[1;33m)\u001b[0m\u001b[1;33m\u001b[0m\u001b[0m\n\u001b[0m",
      "\u001b[1;31mStopIteration\u001b[0m: "
     ]
    }
   ],
   "source": [
    "next(f)"
   ]
  },
  {
   "cell_type": "markdown",
   "metadata": {},
   "source": [
    "### Tipos de Generadores\n",
    "\n",
    "Hay dos tipos de generadores en Python: las funciones generadoras y los generadores  de expresiones. Una función generadora  es cualquier función en la que  la  palabra clave `yield` aparece . Acabamos de ver un ejemplo de ello. La aparición  de `yield` es suficiente para hacer de la función  una función generadora.\n",
    "\n",
    "El otro tipo de generador es el generador equivalente de una lista por comprensión. Su sintaxis es muy elegante pero de uso limitado. Veamos como se utiliza esta sintaxis para crear una lista de números:\n"
   ]
  },
  {
   "cell_type": "code",
   "execution_count": 52,
   "metadata": {
    "collapsed": false
   },
   "outputs": [
    {
     "data": {
      "text/plain": [
       "<generator object <genexpr> at 0x000001B87781D888>"
      ]
     },
     "execution_count": 52,
     "metadata": {},
     "output_type": "execute_result"
    }
   ],
   "source": [
    "cuadrados= (x * x for x in numeros)\n",
    "cuadrados"
   ]
  },
  {
   "cell_type": "code",
   "execution_count": 53,
   "metadata": {
    "collapsed": false
   },
   "outputs": [
    {
     "data": {
      "text/plain": [
       "1"
      ]
     },
     "execution_count": 53,
     "metadata": {},
     "output_type": "execute_result"
    }
   ],
   "source": [
    "next(cuadrados)"
   ]
  },
  {
   "cell_type": "code",
   "execution_count": 54,
   "metadata": {
    "collapsed": false
   },
   "outputs": [
    {
     "data": {
      "text/plain": [
       "[4, 9, 16, 25]"
      ]
     },
     "execution_count": 54,
     "metadata": {},
     "output_type": "execute_result"
    }
   ],
   "source": [
    "list(cuadrados)"
   ]
  },
  {
   "cell_type": "markdown",
   "metadata": {},
   "source": [
    "Tenga en cuenta que, debido a que hemos leido el primer valor de `cuadrado` con `next ()`, su estado se encuentra ahora en el \"segundo\" item, por lo que cuando recorramos la totalidad de las llamadas a `list()`, sólo se devolverá una lista de `cuadrados` parcial, empezando por el segundo valor."
   ]
  },
  {
   "cell_type": "markdown",
   "metadata": {},
   "source": [
    "Podemos hacer lo mismo de distintas formas:"
   ]
  },
  {
   "cell_type": "code",
   "execution_count": 55,
   "metadata": {
    "collapsed": false
   },
   "outputs": [
    {
     "data": {
      "text/plain": [
       "[1, 4, 9, 16, 25]"
      ]
     },
     "execution_count": 55,
     "metadata": {},
     "output_type": "execute_result"
    }
   ],
   "source": [
    "numeros = [1 ,2 ,3 ,4 ,5]\n",
    "[x * x for x in numeros]"
   ]
  },
  {
   "cell_type": "markdown",
   "metadata": {},
   "source": [
    "Usando un  conjunto por comprensión:\n"
   ]
  },
  {
   "cell_type": "code",
   "execution_count": 57,
   "metadata": {
    "collapsed": false
   },
   "outputs": [
    {
     "data": {
      "text/plain": [
       "{1, 4, 9, 16, 25}"
      ]
     },
     "execution_count": 57,
     "metadata": {},
     "output_type": "execute_result"
    }
   ],
   "source": [
    "{x*x for x in numeros}\n",
    "{1, 4, 9, 16, 25}"
   ]
  },
  {
   "cell_type": "code",
   "execution_count": null,
   "metadata": {
    "collapsed": true
   },
   "outputs": [],
   "source": []
  }
 ],
 "metadata": {
  "kernelspec": {
   "display_name": "Python 3",
   "language": "python",
   "name": "python3"
  },
  "language_info": {
   "codemirror_mode": {
    "name": "ipython",
    "version": 3
   },
   "file_extension": ".py",
   "mimetype": "text/x-python",
   "name": "python",
   "nbconvert_exporter": "python",
   "pygments_lexer": "ipython3",
   "version": "3.5.1"
  }
 },
 "nbformat": 4,
 "nbformat_minor": 0
}
