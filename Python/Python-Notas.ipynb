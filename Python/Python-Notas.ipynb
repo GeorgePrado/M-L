{
 "cells": [
  {
   "cell_type": "markdown",
   "metadata": {},
   "source": [
    "# Notas de Python  \n",
    "\n",
    "\n",
    "\n",
    "\n",
    "### Referencias importantes:\n",
    "\n",
    "* [Automate the Boring Stuff con Python](http://automatetheboringstuff.com/chapter0/) Gran Libro escrito del Al Sweigart, para gente que empiezan a programar.  \n",
    "\n",
    "\n",
    "* [Dive in Python 3](http://getpython3.com/diveintopython3) Libro intermedio de Python, escrito por Mark Pilgrim, que abarca tópicos avanzados como  Refactoring  y Pruebas Unitarias.  \n",
    "\n",
    "\n",
    "* [Composing Programs](http://composingprograms.com/) Introducción online  de Programación y Ciencia de la Computación, de la Universidad de Berkeley, escrita por John DeNero,  basado en el Libro: Structure and Interpretation of Computer Programs  [SICP](https://mitpress.mit.edu/sicp/)  de Harold Abelson y Gerald Jay Sussman y Julie Sussman.  \n",
    "\n",
    "\n",
    "* [Python Cookbook](http://chimera.labs.oreilly.com/books/1230000000393/index.html) Libro escrito por [David Beazley](http://www.dabeaz.com/) y Brian k. Jones, para programadores con cierta experiencia en Python, que se centra en algunas de las más avanzadas técnicas usadas por librerias, framework y aplicaciones.  \n",
    "\n",
    "\n",
    "* [Tutorial de Python](http://docs.python.org.ar/tutorial/3/) traducido por Python Argentina.\n"
   ]
  },
  {
   "cell_type": "markdown",
   "metadata": {},
   "source": [
    "## Consiguiendo Python \n",
    "\n",
    "\n",
    "Puedes descargar Python desde [](https://www.python.org/). Pero es, recomendable  instalar la distribución [Anaconda](https://www.continuum.io/downloads), que incluye la mayor parte de las bibliotecas que se necesita para hacer ciencia de datos.\n",
    "\n",
    "Si no desea o no consigue Anaconda, asegúrese de instalar [pip](https://pypi.python.org/pypi/pip), que es un administrador de paquete que te permite instalar fácilmente paquetes de terceros. Por ejemplo es digno conseguir IPython, que es un terminal de Python mucho más agradable para trabajar:\n",
    "\n",
    "```bash\n",
    "    pip install Ipython\n",
    " \n",
    " ```"
   ]
  },
  {
   "cell_type": "markdown",
   "metadata": {},
   "source": [
    "## El Proyecto Jupyter\n",
    "\n",
    "[El Proyecto Jupyter ](http://jupyter.org/) anteriormente conocido como el proyecto IPython, proporciona una colección de herramientas para la ciencia de datos mediante shells (Python, R, Julia) que combinan la ejecución del código con la creación de documentos informáticos activos.  Esta herramienta viene con la distribución Anaconda. \n",
    "\n",
    "[Spyder](https://github.com/spyder-ide) es un IDE de Python, que se incluye con Anaconda. Incluye edición,  pruebas interactivas, depuración y características de introspección para Python. Después de haber instalado Anaconda, se puede empezar  a utilizar Spyder en OSX, Linux o Windows mediante el terminal  y ejecutando el  comando  spyder."
   ]
  },
  {
   "cell_type": "markdown",
   "metadata": {},
   "source": [
    "## El Zen de Python  \n",
    "\n",
    "David Goodger, presenta un  [tutorial interactivo](http://python.net/~goodger/projects/pycon/2007/idiomatic/handout.html), que cubre  lo esencial de Python y técnicas en profundidad, empezando con el Zen de Python de Tim Peters."
   ]
  },
  {
   "cell_type": "code",
   "execution_count": 1,
   "metadata": {
    "collapsed": false
   },
   "outputs": [
    {
     "name": "stdout",
     "output_type": "stream",
     "text": [
      "The Zen of Python, by Tim Peters\n",
      "\n",
      "Beautiful is better than ugly.\n",
      "Explicit is better than implicit.\n",
      "Simple is better than complex.\n",
      "Complex is better than complicated.\n",
      "Flat is better than nested.\n",
      "Sparse is better than dense.\n",
      "Readability counts.\n",
      "Special cases aren't special enough to break the rules.\n",
      "Although practicality beats purity.\n",
      "Errors should never pass silently.\n",
      "Unless explicitly silenced.\n",
      "In the face of ambiguity, refuse the temptation to guess.\n",
      "There should be one-- and preferably only one --obvious way to do it.\n",
      "Although that way may not be obvious at first unless you're Dutch.\n",
      "Now is better than never.\n",
      "Although never is often better than *right* now.\n",
      "If the implementation is hard to explain, it's a bad idea.\n",
      "If the implementation is easy to explain, it may be a good idea.\n",
      "Namespaces are one honking great idea -- let's do more of those!\n"
     ]
    }
   ],
   "source": [
    "import this"
   ]
  },
  {
   "cell_type": "markdown",
   "metadata": {},
   "source": [
    "### Formato de los espacios en blanco\n",
    "\n",
    "En [Python](https://www.python.org/)  se usa la **indentación**, para delimitar el c\\'odigo a diferencia de otros lenguajes de programación, que usan llaves para delimitar bloques de código. Mayor información en la [Guia de Estilo de Google para Python](https://google.github.io/styleguide/pyguide.html).\n"
   ]
  },
  {
   "cell_type": "code",
   "execution_count": 2,
   "metadata": {
    "collapsed": false
   },
   "outputs": [
    {
     "name": "stdout",
     "output_type": "stream",
     "text": [
      "1\n",
      "1\n",
      "2\n",
      "2\n",
      "3\n",
      "3\n",
      "4\n",
      "1\n",
      "2\n",
      "1\n",
      "3\n",
      "2\n",
      "4\n",
      "3\n",
      "5\n",
      "2\n",
      "3\n",
      "1\n",
      "4\n",
      "2\n",
      "5\n",
      "3\n",
      "6\n",
      "3\n",
      "Este es un bucle\n"
     ]
    }
   ],
   "source": [
    "# Un ejemplo para el bucle for \n",
    "\n",
    "for i in [1, 2, 3]:   \n",
    "    print(i)\n",
    "    for j in [1,2,3]:\n",
    "        print(j)\n",
    "        print(i + j)\n",
    "    print(i)\n",
    "print(\"Este es un bucle\")"
   ]
  },
  {
   "cell_type": "markdown",
   "metadata": {},
   "source": [
    "La indentación, hace del código Python fácil de leer, pero también significa que se tiene que ser muy cuidadoso  con nuestro formato y la manera de escribir código. El espacio en blanco es ignorado dentro de los paréntesis y corchetes."
   ]
  },
  {
   "cell_type": "code",
   "execution_count": 3,
   "metadata": {
    "collapsed": false
   },
   "outputs": [
    {
     "name": "stdout",
     "output_type": "stream",
     "text": [
      "Yo soy Kapuy puedo ser tu amigo\n"
     ]
    }
   ],
   "source": [
    "# Ejemplo con clases y herencias \n",
    "\n",
    "class Animalito():\n",
    "    def __init__(self, nombre):\n",
    "        self.nombre = nombre\n",
    "        \n",
    "    def decir_algo(self):\n",
    "        print(\" Yo soy\" + self.nombre)\n",
    "        \n",
    "class Perrito(Animalito):\n",
    "    def decir_algo(self):\n",
    "        print(\"Yo soy \" + self.nombre + \"y puedo ser tu amigo\")\n",
    "        \n",
    "perrito = Perrito(\"Kapu\")\n",
    "perrito.decir_algo()"
   ]
  },
  {
   "cell_type": "markdown",
   "metadata": {},
   "source": [
    "### Control de flujo\n",
    "\n",
    "En casi todos los lenguajes, tu puedes llevar acciones condicionalmente usando **if**. Empecemos con un ejemplo:"
   ]
  },
  {
   "cell_type": "code",
   "execution_count": 7,
   "metadata": {
    "collapsed": true
   },
   "outputs": [],
   "source": [
    "if 1 > 2:\n",
    "    mensaje = \"si 1 es mayor que 2\"\n",
    "elif 1 > 3:\n",
    "    mensaje = \"elif representa 'else if\"\n",
    "else:\n",
    "    mensaje = \" cuando todas las alternativas  fallan usamos else\"\n",
    "    "
   ]
  },
  {
   "cell_type": "markdown",
   "metadata": {},
   "source": [
    "Los operadores ternarios son comúnmente usados como expresiones condicionales en Python. Estos se convirtieron en una parte de Python en la versión 2.4. Aquí la sintaxis de un operador ternario y un ejemplo del uso de estas expresiones condicionales.  \n",
    "\n",
    "\n",
    "```python\n",
    "    condicion_es_verdad if condicion else condicion_is_falso\n",
    "```"
   ]
  },
  {
   "cell_type": "code",
   "execution_count": 8,
   "metadata": {
    "collapsed": false
   },
   "outputs": [
    {
     "data": {
      "text/plain": [
       "'impar'"
      ]
     },
     "execution_count": 8,
     "metadata": {},
     "output_type": "execute_result"
    }
   ],
   "source": [
    "x = 9\n",
    "paridad = 'par' if x%2 ==0 else 'impar'\n",
    "paridad"
   ]
  },
  {
   "cell_type": "markdown",
   "metadata": {},
   "source": [
    "Python, tiene el bucle while y una aplicación de while son las sumatorias en matemáticas. Por ejemplo la función seno puede ser calculada aproximadamente usando while de la siguiente manera:"
   ]
  },
  {
   "cell_type": "code",
   "execution_count": 11,
   "metadata": {
    "collapsed": false
   },
   "outputs": [
    {
     "name": "stdout",
     "output_type": "stream",
     "text": [
      "seno(1.2) = 0.932039 (aproximacion con 25 terminos)\n"
     ]
    }
   ],
   "source": [
    "x = 1.2 # asignamos algun valor\",\n",
    "N = 25 # maximo potencia de sumas\"\n",
    "k = 1\n",
    "s = x\n",
    "sign = 1.0\n",
    "\n",
    "import math\n",
    "\n",
    "while k < N:\n",
    "    sign = - sign\n",
    "    k = k + 2\n",
    "    term = sign*x**k/math.factorial(k)\n",
    "    s = s + term\n",
    "print (\"seno(%g) = %g (aproximacion con %d terminos)\" % (x, s, N))"
   ]
  },
  {
   "cell_type": "markdown",
   "metadata": {},
   "source": [
    "Pese al uso de  while , a menudo se usa for  acompañado con la palabra in:"
   ]
  },
  {
   "cell_type": "code",
   "execution_count": 12,
   "metadata": {
    "collapsed": false
   },
   "outputs": [
    {
     "name": "stdout",
     "output_type": "stream",
     "text": [
      "Manzana\n",
      "Pera\n",
      "Mango\n"
     ]
    }
   ],
   "source": [
    "frutas = ['manzana', 'pera', 'mango']\n",
    "for fruta in frutas:\n",
    "    print(fruta.capitalize())"
   ]
  },
  {
   "cell_type": "markdown",
   "metadata": {},
   "source": [
    "Los bucles en Python también tienen la  cláusula else. La estructura básica de un bucle for-else es:\n",
    "\n",
    "```python\n",
    "for item in contenedor:\n",
    "    if buscar_algo(item):\n",
    "        # Encontrado!\n",
    "        procesarlo(item)\n",
    "        break\n",
    "else:\n",
    "    # No encontrado\n",
    "    no_encontrado_en_el_contenedor()\n",
    "```  \n",
    "\n",
    "Veamos un ejemplo:"
   ]
  },
  {
   "cell_type": "code",
   "execution_count": 14,
   "metadata": {
    "collapsed": false
   },
   "outputs": [
    {
     "name": "stdout",
     "output_type": "stream",
     "text": [
      "2 es un numero primo\n",
      "3 es un numero primo\n",
      "4 igual 2 * 2.0\n",
      "5 es un numero primo\n",
      "6 igual 2 * 3.0\n",
      "7 es un numero primo\n",
      "8 igual 2 * 4.0\n",
      "9 igual 3 * 3.0\n",
      "10 igual 2 * 5.0\n",
      "11 es un numero primo\n",
      "12 igual 2 * 6.0\n",
      "13 es un numero primo\n",
      "14 igual 2 * 7.0\n",
      "15 igual 3 * 5.0\n",
      "16 igual 2 * 8.0\n",
      "17 es un numero primo\n",
      "18 igual 2 * 9.0\n",
      "19 es un numero primo\n"
     ]
    }
   ],
   "source": [
    "# Encontremos los numeros primos entre el 2 y el 20\n",
    "\n",
    "for n in range (2,20):\n",
    "    for x in range(2,n):\n",
    "        if n%x ==0:\n",
    "            print(n, 'igual', x, '*', n/x)\n",
    "            break\n",
    "    \n",
    "    else:\n",
    "        # el bucle no encontro ningun factor\n",
    "        print(n, 'es un numero primo')"
   ]
  },
  {
   "cell_type": "markdown",
   "metadata": {},
   "source": [
    "## Funciones\n",
    "\n",
    "Una función es una pieza de código de un programa que lleva una tarea especifica. Las  funciones  pueden ser asignadas a variables, almacenadas en collecciones o pasadas como argumentos. Hay dos tipos de funciones, las que son parte del lenguaje como dir(), len o abs() y las que puede definir el usuario, las que se crean con la palabra reservada, def."
   ]
  },
  {
   "cell_type": "code",
   "execution_count": 15,
   "metadata": {
    "collapsed": true
   },
   "outputs": [],
   "source": [
    "def doble(x):\n",
    "    \"\"\"\n",
    "    aqui es donde colocas informacion extra\n",
    "    que indica lo que hace la funcion(docstring)\n",
    "    \"\"\"\n",
    "    \n",
    "    return x*2"
   ]
  },
  {
   "cell_type": "markdown",
   "metadata": {},
   "source": [
    "La función se ejecuta posteriormente  cuando es necesario. Decimos que  llamamos a la función. Si llamamos a la función, las declaraciones dentro del cuerpo de la función son ejecutadas."
   ]
  },
  {
   "cell_type": "code",
   "execution_count": 17,
   "metadata": {
    "collapsed": false
   },
   "outputs": [
    {
     "data": {
      "text/plain": [
       "10"
      ]
     },
     "execution_count": 17,
     "metadata": {},
     "output_type": "execute_result"
    }
   ],
   "source": [
    "doble(5) # Llamando a la funcion doble()"
   ]
  },
  {
   "cell_type": "markdown",
   "metadata": {},
   "source": [
    "Las definiciones de las funciones deben preceder a su uso. De lo contrario el intérprete mostrará una excepción NameError. Veamos un ejemplo de funciones que muestra que su definición precede a su uso:"
   ]
  },
  {
   "cell_type": "code",
   "execution_count": 19,
   "metadata": {
    "collapsed": false
   },
   "outputs": [
    {
     "name": "stdout",
     "output_type": "stream",
     "text": [
      "f1()\n"
     ]
    },
    {
     "ename": "NameError",
     "evalue": "name 'f2' is not defined",
     "output_type": "error",
     "traceback": [
      "\u001b[1;31m---------------------------------------------------------------------------\u001b[0m",
      "\u001b[1;31mNameError\u001b[0m                                 Traceback (most recent call last)",
      "\u001b[1;32m<ipython-input-19-8ffd228b1367>\u001b[0m in \u001b[0;36m<module>\u001b[1;34m()\u001b[0m\n\u001b[0;32m      2\u001b[0m     \u001b[0mprint\u001b[0m\u001b[1;33m(\u001b[0m\u001b[1;34m\"f1()\"\u001b[0m\u001b[1;33m)\u001b[0m\u001b[1;33m\u001b[0m\u001b[0m\n\u001b[0;32m      3\u001b[0m \u001b[0mf1\u001b[0m\u001b[1;33m(\u001b[0m\u001b[1;33m)\u001b[0m\u001b[1;33m\u001b[0m\u001b[0m\n\u001b[1;32m----> 4\u001b[1;33m \u001b[0mf2\u001b[0m\u001b[1;33m(\u001b[0m\u001b[1;33m)\u001b[0m\u001b[1;33m\u001b[0m\u001b[0m\n\u001b[0m\u001b[0;32m      5\u001b[0m \u001b[1;33m\u001b[0m\u001b[0m\n\u001b[0;32m      6\u001b[0m \u001b[1;32mdef\u001b[0m \u001b[0mf2\u001b[0m\u001b[1;33m(\u001b[0m\u001b[1;33m)\u001b[0m\u001b[1;33m:\u001b[0m\u001b[1;33m\u001b[0m\u001b[0m\n",
      "\u001b[1;31mNameError\u001b[0m: name 'f2' is not defined"
     ]
    }
   ],
   "source": [
    "def f1():\n",
    "    print(\"f1()\")\n",
    "f1()\n",
    "f2()\n",
    "\n",
    "def f2():\n",
    "    print (\"f2()\")"
   ]
  },
  {
   "cell_type": "markdown",
   "metadata": {},
   "source": [
    "Una función  puede ser definida dentro de un módulo, una clase o otra función. Una función definida dentro de una clase es llamado  un método. Veamos el siguiente ejemplo"
   ]
  },
  {
   "cell_type": "code",
   "execution_count": 20,
   "metadata": {
    "collapsed": false
   },
   "outputs": [
    {
     "name": "stdout",
     "output_type": "stream",
     "text": [
      "h1() es un metodo\n",
      "h1() es una funcion\n",
      "h1() es una funcion interna\n"
     ]
    }
   ],
   "source": [
    "class g1():\n",
    "    @staticmethod\n",
    "    def h1():\n",
    "        print(\"h1() es un metodo\")\n",
    "        \n",
    "def h1():\n",
    "    print(\"h1() es una funcion\")\n",
    "    \n",
    "def k1():\n",
    "    def h1():\n",
    "        print(\"h1() es una funcion interna\")\n",
    "    h1()\n",
    "    \n",
    "g1.h1()\n",
    "h1()\n",
    "k1()"
   ]
  },
  {
   "cell_type": "markdown",
   "metadata": {},
   "source": [
    "Las funciones en Python, son objetos. Ellos pueden ser manipulados como otros objetos en Python. Por tanto las funciones son llamadas  de primera clase. Esto no es cierto para lenguajes como Java o C#. Esta particularidad se muestra en el siguiente ejemplo:"
   ]
  },
  {
   "cell_type": "code",
   "execution_count": 21,
   "metadata": {
    "collapsed": false
   },
   "outputs": [
    {
     "name": "stdout",
     "output_type": "stream",
     "text": [
      "True\n",
      "140552634524400\n",
      "\n",
      "    Esta funcion imprime un mensaje\n",
      "    \n",
      "f\n"
     ]
    }
   ],
   "source": [
    "# Las funciones son objetos\n",
    "\n",
    "def f():\n",
    "    \"\"\"\n",
    "    Esta funcion imprime un mensaje\n",
    "    \"\"\"\n",
    "    print(\"Python es un lenguaje tan importante como R\")\n",
    "    \n",
    "print(isinstance(f, object)) # se verifica si f() es una instancia de objeto\n",
    "print(id(f))\n",
    "\n",
    "print(f.__doc__)\n",
    "print(f.__name__)"
   ]
  },
  {
   "cell_type": "markdown",
   "metadata": {},
   "source": [
    "Los objetos pueden ser almacenados en colecciones y pasados a funciones."
   ]
  },
  {
   "cell_type": "code",
   "execution_count": 23,
   "metadata": {
    "collapsed": false
   },
   "outputs": [
    {
     "name": "stdout",
     "output_type": "stream",
     "text": [
      "<function fun1 at 0x7fd4f5dae9d8>\n",
      "<function gfun1 at 0x7fd4f5daea60>\n",
      "<function hfun1 at 0x7fd4f5dae7b8>\n",
      "140552634558936\n",
      "140552634559072\n"
     ]
    }
   ],
   "source": [
    "def fun1():\n",
    "    pass\n",
    "def gfun1():\n",
    "    pass\n",
    "\n",
    "def hfun1(fun1):\n",
    "    print(id(fun1))\n",
    "    \n",
    "a = (fun1, gfun1, hfun1)\n",
    "for i in a:\n",
    "    print(i)\n",
    "    \n",
    "hfun1(fun1)\n",
    "hfun1(gfun1)"
   ]
  },
  {
   "cell_type": "markdown",
   "metadata": {},
   "source": [
    "Hay en el mundo de las funciones de Python, funciones que siempre están disponibles para su uso; funciones que son contenidas dentro de un  módulo externo;  las que deben ser importadas y funciones definidas por el usuario  con la palabra reservada def:"
   ]
  },
  {
   "cell_type": "code",
   "execution_count": 24,
   "metadata": {
    "collapsed": false
   },
   "outputs": [
    {
     "name": "stdout",
     "output_type": "stream",
     "text": [
      "1\n",
      "256\n",
      "9.848857801796104\n"
     ]
    }
   ],
   "source": [
    "from math import sqrt\n",
    "\n",
    "def cuadratica(x):\n",
    "    return x*x*x*x\n",
    "\n",
    "print (abs(-1))   # funcion parte de Python\n",
    "print(cuadratica(4))\n",
    "print(sqrt(97))"
   ]
  },
  {
   "cell_type": "markdown",
   "metadata": {},
   "source": [
    "La palabra reservada de Python return es usada para devolver valores desde una función. Una función puede o no retornar un valor. Si una función no tiene un return, entonces se debería enviar un valor None."
   ]
  },
  {
   "cell_type": "code",
   "execution_count": 25,
   "metadata": {
    "collapsed": false
   },
   "outputs": [
    {
     "name": "stdout",
     "output_type": "stream",
     "text": [
      "8\n",
      "Notebook  a punto de terminar\n",
      "Listo!\n",
      "None\n"
     ]
    }
   ],
   "source": [
    "def g1(msg):\n",
    "    print(msg)\n",
    "\n",
    "def suma(x, y):\n",
    "    return x + y\n",
    "\n",
    "z = suma(3,5)\n",
    "print(z)\n",
    "g1(\"Notebook  a punto de terminar\")\n",
    "print(g1(\"Listo!\"))"
   ]
  },
  {
   "cell_type": "markdown",
   "metadata": {},
   "source": [
    "Podemos enviar más de un valor de una función.. Los objetos después de la palabra clave return  están separados por comas."
   ]
  },
  {
   "cell_type": "code",
   "execution_count": 26,
   "metadata": {
    "collapsed": false
   },
   "outputs": [
    {
     "name": "stdout",
     "output_type": "stream",
     "text": [
      "(6, 1, 6, 21)\n",
      "6 1 6 21\n"
     ]
    }
   ],
   "source": [
    "n = [1, 2, 3, 4, 5, 6]\n",
    "\n",
    "def estadistica(x):\n",
    "    mx = max(x)\n",
    "    mn = min(x)\n",
    "    ln = len(x)\n",
    "    sm = sum(x)\n",
    "    \n",
    "    return mx, mn, ln, sm\n",
    "\n",
    "mx, mn, ln, sm = estadistica(n)\n",
    "print(estadistica(n))\n",
    "print(mx, mn, ln, sm)"
   ]
  },
  {
   "cell_type": "markdown",
   "metadata": {},
   "source": [
    "La naturaleza dinámica de Python, permite redefinir funciones ya definidas. Veamos un ejemplo hecho por Jan Bodnar:"
   ]
  },
  {
   "cell_type": "code",
   "execution_count": 27,
   "metadata": {
    "collapsed": false
   },
   "outputs": [
    {
     "name": "stdout",
     "output_type": "stream",
     "text": [
      "Hola, mi nombre es alegria\n",
      "18:17:08\n",
      "Proceso\n"
     ]
    }
   ],
   "source": [
    "from time import gmtime, strftime\n",
    "\n",
    "def msg1(msg):\n",
    "    print(msg)\n",
    "\n",
    "msg1(\"Hola, mi nombre es alegria\")\n",
    "\n",
    "def msg1(msg):\n",
    "    print(strftime(\"%H:%M:%S\", gmtime()))\n",
    "    print(msg)\n",
    "\n",
    "msg1(\"Proceso\")"
   ]
  },
  {
   "cell_type": "markdown",
   "metadata": {},
   "source": [
    "Muchas funciones aceptan argumentos. Los argumentos son valores que son enviados a la función. Las funciones procesan los valores y opcionalmente retornan un valor."
   ]
  },
  {
   "cell_type": "code",
   "execution_count": 29,
   "metadata": {
    "collapsed": false
   },
   "outputs": [
    {
     "data": {
      "text/plain": [
       "186.5"
      ]
     },
     "execution_count": 29,
     "metadata": {},
     "output_type": "execute_result"
    }
   ],
   "source": [
    "a = 20;  b = -2.5 # variables globales\n",
    "def f1(x):\n",
    "    a = 21\n",
    "    return a * x + b\n",
    "\n",
    "f1(9)"
   ]
  },
  {
   "cell_type": "markdown",
   "metadata": {},
   "source": [
    "Los argumentos en las funciones pueden tener implícitos valores. Un implícito valor es usado si un valor no es proporcionado:"
   ]
  },
  {
   "cell_type": "code",
   "execution_count": 30,
   "metadata": {
    "collapsed": false
   },
   "outputs": [
    {
     "name": "stdout",
     "output_type": "stream",
     "text": [
      "9\n",
      "64\n",
      "625\n"
     ]
    }
   ],
   "source": [
    "def potencia(x, y =2):\n",
    "    r = 1\n",
    "    for i in range(y):\n",
    "        r = r * x\n",
    "    return r\n",
    "\n",
    "print(potencia(3))\n",
    "print(potencia(4,3))\n",
    "print(potencia(5,4))"
   ]
  },
  {
   "cell_type": "markdown",
   "metadata": {},
   "source": [
    "Las funciones de Python pueden especificar sus argumentos con una palabra clave. Esto significa que cuando se llama a una función, se especifica tanto una palabra clave y un valor. Cuando tenemos varios argumentos y se usan sin palabras clave, el orden en que se pasa esos argumentos es crucial."
   ]
  },
  {
   "cell_type": "code",
   "execution_count": 31,
   "metadata": {
    "collapsed": false
   },
   "outputs": [
    {
     "ename": "SyntaxError",
     "evalue": "positional argument follows keyword argument (<ipython-input-31-9a5fffa0bcfc>, line 8)",
     "output_type": "error",
     "traceback": [
      "\u001b[1;36m  File \u001b[1;32m\"<ipython-input-31-9a5fffa0bcfc>\"\u001b[1;36m, line \u001b[1;32m8\u001b[0m\n\u001b[1;33m    informacion(nombre = \"karina\", edad = 24, \"Python\") # no podemos usar una palabra sin clave.\u001b[0m\n\u001b[1;37m                                             ^\u001b[0m\n\u001b[1;31mSyntaxError\u001b[0m\u001b[1;31m:\u001b[0m positional argument follows keyword argument\n"
     ]
    }
   ],
   "source": [
    "def informacion(nombre, edad, lenguaje):\n",
    "    print(\"Nombre\", nombre)\n",
    "    print(\"Edad\", edad)\n",
    "    print(\"Lenguaje\", lenguaje)\n",
    "    \n",
    "informacion(edad =43, nombre= \"cesar\", lenguaje=\"Java\") # no es recomendable cambiar el orden\n",
    "informacion(nombre =\"kapu\", edad = 6, lenguaje = \"R\")\n",
    "informacion(nombre = \"karina\", edad = 24, \"Python\") # no podemos usar una palabra sin clave."
   ]
  },
  {
   "cell_type": "markdown",
   "metadata": {},
   "source": [
    "Las funciones en Python puede aceptar un número arbitrario de argumentos. El operador *  indica que la función acepta un número arbitrario de argumentos."
   ]
  },
  {
   "cell_type": "code",
   "execution_count": 33,
   "metadata": {
    "collapsed": false
   },
   "outputs": [
    {
     "name": "stdout",
     "output_type": "stream",
     "text": [
      " Funciona que retorna la suma de todos los valores dados\n",
      "6\n",
      "15\n"
     ]
    }
   ],
   "source": [
    "def suma(*args):\n",
    "    ''' Funciona que retorna la suma de todos los valores dados'''\n",
    "    \n",
    "    r = 0\n",
    "    for i in args:\n",
    "        r += i\n",
    "    return r\n",
    "\n",
    "print(suma.__doc__)\n",
    "print(suma(1,2,3))\n",
    "print(suma(1,2,3,4,5))"
   ]
  },
  {
   "cell_type": "markdown",
   "metadata": {},
   "source": [
    "También podemos usar el operador ` ** `  en nuestras funciones. En tal caso, la función aceptará un diccionario de  longitud arbitraria. Podemos entonces normalmente analizar el diccionario, de la manera usual:"
   ]
  },
  {
   "cell_type": "code",
   "execution_count": 34,
   "metadata": {
    "collapsed": false
   },
   "outputs": [
    {
     "name": "stdout",
     "output_type": "stream",
     "text": [
      "edad: 23\n",
      "lenguaje: Python\n",
      "paradigma: OOP\n"
     ]
    }
   ],
   "source": [
    "def muestra(**datos):\n",
    "    for i in datos:\n",
    "        print(\"%s: %s\" % (i, datos[i]))\n",
    "muestra(lenguaje=\"Python\", paradigma=\"OOP\", edad= 23)"
   ]
  },
  {
   "cell_type": "markdown",
   "metadata": {},
   "source": [
    "Los parámetros a funciones se pasan por referencia. [Mayor información en stackoverflow](http://stackoverflow.com/questions/986006/how-do-i-pass-a-variable-by-reference). Algunos lenguajes pasan copias de los objetos a las funciones. Pasar objetos por referencia tiene dos importantes conclusiones. El proceso es más rápido que si se pasaron copias de los objetos y los objetos mutables que son modificados en funciones cambian de forma permanente. Un ejemplo de Jan Bodnar, donde se pasa una lista de números enteros a una función, el objeto se modifica en el interior del cuerpo de la función. Después de llamar a la función, el objeto original, la lista de los números enteros es modificada.  En el cuerpo de la función trabajamos con el objeto original, no con una copia del objeto."
   ]
  },
  {
   "cell_type": "code",
   "execution_count": 35,
   "metadata": {
    "collapsed": false
   },
   "outputs": [
    {
     "name": "stdout",
     "output_type": "stream",
     "text": [
      "Lista original: [1, 2, 3, 4, 5]\n",
      "dentro de f() [0, 1, 2, 3]\n",
      "despues de la llamada de la funcion\n"
     ]
    }
   ],
   "source": [
    "n = [1, 2, 3, 4, 5]\n",
    "print(\"Lista original:\", n)\n",
    "\n",
    "def f(x):\n",
    "    x.pop()\n",
    "    x.pop()\n",
    "    x.insert(0,0)\n",
    "    print(\"dentro de f()\", x)\n",
    "    \n",
    "f(n)\n",
    "print(\"despues de la llamada de la funcion\")"
   ]
  },
  {
   "cell_type": "markdown",
   "metadata": {},
   "source": [
    "Las variables definidas en el cuerpo de una función tienen un alcance local, esto es, sólo son válidas dentro del cuerpo de la función. Por defecto, se puede obtener el contenido de una variable global en el interior del cuerpo de una función, pero si queremos cambiar una variable global en una función, hay que utilizar la palabra clave global."
   ]
  },
  {
   "cell_type": "code",
   "execution_count": 36,
   "metadata": {
    "collapsed": false
   },
   "outputs": [
    {
     "name": "stdout",
     "output_type": "stream",
     "text": [
      "20\n",
      "20\n",
      "21\n"
     ]
    }
   ],
   "source": [
    "a = 20; b = -2.5 # variables globales\n",
    "def f1(x):\n",
    "    a = 21\n",
    "    return a *x + b # esta es una nueva variable local\n",
    "\n",
    "print(a)\n",
    "\n",
    "def f2(x):\n",
    "    global a\n",
    "    a = 21\n",
    "    return a *x + b # la variable global a es cambiada\n",
    "\n",
    "f1(3); print(a)   # 20 es impreso\n",
    "f2(3); print(a)   # 21 es impreso"
   ]
  },
  {
   "cell_type": "markdown",
   "metadata": {},
   "source": [
    "Es posible crear funciones anónimas en Python. Las funciones anónimas no tienen un nombre. La palabra reservada lambda produce  funciones anónimas en  Python . Ellas son parte del paradigma funcional (Lisp) incorporados a Python."
   ]
  },
  {
   "cell_type": "code",
   "execution_count": 37,
   "metadata": {
    "collapsed": false
   },
   "outputs": [
    {
     "data": {
      "text/plain": [
       "8"
      ]
     },
     "execution_count": 37,
     "metadata": {},
     "output_type": "execute_result"
    }
   ],
   "source": [
    "def j(x):\n",
    "    return x*2\n",
    "j(4)"
   ]
  },
  {
   "cell_type": "code",
   "execution_count": 38,
   "metadata": {
    "collapsed": false
   },
   "outputs": [
    {
     "data": {
      "text/plain": [
       "10"
      ]
     },
     "execution_count": 38,
     "metadata": {},
     "output_type": "execute_result"
    }
   ],
   "source": [
    "# usando lambda \n",
    "\n",
    "g = lambda x: x*2\n",
    "g(5)"
   ]
  },
  {
   "cell_type": "code",
   "execution_count": 39,
   "metadata": {
    "collapsed": false
   },
   "outputs": [
    {
     "data": {
      "text/plain": [
       "8"
      ]
     },
     "execution_count": 39,
     "metadata": {},
     "output_type": "execute_result"
    }
   ],
   "source": [
    "# usamos lambda sin asignar una variable\n",
    "(lambda x: x*2)(4)"
   ]
  },
  {
   "cell_type": "markdown",
   "metadata": {},
   "source": [
    "La función lambda, puede ser usada por otras partes funcionales de Python, como las funciones filter(), map() o reduce(). \n",
    "\n",
    "La función de map() aplica una función a cada elemento de un iterable y devuelve el resultado."
   ]
  },
  {
   "cell_type": "code",
   "execution_count": 41,
   "metadata": {
    "collapsed": false
   },
   "outputs": [
    {
     "name": "stdout",
     "output_type": "stream",
     "text": [
      "[0, 1, 4, 9, 16, 25, 36, 49]\n"
     ]
    }
   ],
   "source": [
    "def cuadrado(x):\n",
    "    return x**2\n",
    "\n",
    "cuadrados = map(cuadrado, range(8))\n",
    "print(list(cuadrados))"
   ]
  },
  {
   "cell_type": "code",
   "execution_count": 42,
   "metadata": {
    "collapsed": false
   },
   "outputs": [
    {
     "name": "stdout",
     "output_type": "stream",
     "text": [
      "[0, 1, 4, 9, 16, 25, 36, 49]\n"
     ]
    }
   ],
   "source": [
    "# Usando lambda() y map() juntos\n",
    "cuadrados = map(lambda x: x**2, range(8))\n",
    "print(list(cuadrados))"
   ]
  },
  {
   "cell_type": "markdown",
   "metadata": {},
   "source": [
    "filter toma una función que devuelve True o False y lo aplica a una secuencia, devolviendo  una lista de los  miembros de la secuencia para el cual la función devolvió True."
   ]
  },
  {
   "cell_type": "code",
   "execution_count": 43,
   "metadata": {
    "collapsed": false
   },
   "outputs": [
    {
     "name": "stdout",
     "output_type": "stream",
     "text": [
      "[4, 9, 16, 25, 36]\n"
     ]
    }
   ],
   "source": [
    "# Usando lambda(), map() y filter() \n",
    "\n",
    "cuadrados = map(lambda x: x**2, range(8))\n",
    "cuadrados1 = filter(lambda x: x>3 and x < 40, cuadrados)\n",
    "print(list(cuadrados1))"
   ]
  },
  {
   "cell_type": "markdown",
   "metadata": {},
   "source": [
    "La función reduce() aplica una función a una lista de datos evaluando los elementos por pares. La primera vez se aplica al primer y segundo elemento, la siguiente, se aplicará al valor devuelto por la función junto al tercer elemento y así, sucesivamente, reduciendo la lista hasta que quede un sólo elemento.  \n",
    "\n",
    "Mayor información en [Functional Programming HOWTO](https://docs.python.org/3/howto/functional.html)."
   ]
  },
  {
   "cell_type": "code",
   "execution_count": 45,
   "metadata": {
    "collapsed": false
   },
   "outputs": [
    {
     "data": {
      "text/plain": [
       "18"
      ]
     },
     "execution_count": 45,
     "metadata": {},
     "output_type": "execute_result"
    }
   ],
   "source": [
    "import functools # modulo de python 3\n",
    "\n",
    "functools.reduce(lambda x ,y: x + y, [3, 6,9])"
   ]
  },
  {
   "cell_type": "code",
   "execution_count": 46,
   "metadata": {
    "collapsed": false
   },
   "outputs": [
    {
     "name": "stdout",
     "output_type": "stream",
     "text": [
      "2\n"
     ]
    }
   ],
   "source": [
    "# Otro ejemplo\n",
    "\n",
    "cadenas1 = ['Python es un lenguaje de programacion, multiparadigma'\\\n",
    "            'Lisp, C, C++ son utilizados en muchos paquetes' \\\n",
    "            \"Numpy, Scilab o Pandas son ejemplos de ellos\"]\n",
    "cont = 0\n",
    "for cadena in cadenas1:\n",
    "    cont += cadena.count('son')\n",
    "print(cont)"
   ]
  },
  {
   "cell_type": "markdown",
   "metadata": {},
   "source": [
    "Para revisar más ejemplos acerca del paradigma de la Programación Funcional en Python, revisar el [A Practical Introduction to Functional Programming](http://maryrosecook.com/blog/post/a-practical-introduction-to-functional-programming) de Mary Roose Cook."
   ]
  },
  {
   "cell_type": "markdown",
   "metadata": {},
   "source": [
    "## Listas por Comprensión\n",
    "\n",
    "Las listas por comprensión se añadieron con Python 2.0. En esencia, es una forma  de implementar una notación muy conocida en la teoria de  conjuntos y se escriben en Python de la siguiente manera:\n",
    "\n",
    "```python\n",
    "    [expresion_con_variable_del_bucle for variable_del_bucle in secuencia]\n",
    "```\n",
    "\n",
    "Las listas por comprensión  es una manera elegante de definir y crear  listas en Python y son un sustituto  para la función lambda, así como para las funciones map(), filter() y reduce():"
   ]
  },
  {
   "cell_type": "code",
   "execution_count": 48,
   "metadata": {
    "collapsed": false
   },
   "outputs": [
    {
     "name": "stdout",
     "output_type": "stream",
     "text": [
      "[0, 1, 4, 9, 16, 25, 36, 49]\n"
     ]
    }
   ],
   "source": [
    "cuadrados = [x **2 for x in range(8)]\n",
    "print(cuadrados)"
   ]
  },
  {
   "cell_type": "code",
   "execution_count": 49,
   "metadata": {
    "collapsed": false
   },
   "outputs": [
    {
     "name": "stdout",
     "output_type": "stream",
     "text": [
      "[102.56, 97.7, 99.14, 100.03999999999999]\n"
     ]
    }
   ],
   "source": [
    "# Otro ejemplo\n",
    "\n",
    "Celsius = [39.2, 36.5, 37.3, 37.8]\n",
    "Fahrenheit = [((float(9)/5)*x + 32) for x in Celsius ]\n",
    "print(Fahrenheit)"
   ]
  },
  {
   "cell_type": "markdown",
   "metadata": {},
   "source": [
    "Las lista por comprensión pueden ser anidadas y tienen la siguiente forma:\n",
    "\n",
    "```python\n",
    "    [expr_var_bucle for var_del_bucle_ext in secuencia_ext for var_del_bucle_int in secuencia_ext]\n",
    "```"
   ]
  },
  {
   "cell_type": "code",
   "execution_count": 50,
   "metadata": {
    "collapsed": false
   },
   "outputs": [
    {
     "name": "stdout",
     "output_type": "stream",
     "text": [
      "[['Python', 'Lisp'], ['Python', 'Haskell'], ['Python', 'Scala'], ['JavaScript', 'Lisp'], ['JavaScript', 'Haskell'], ['JavaScript', 'Scala'], ['SmallTalk', 'Lisp'], ['SmallTalk', 'Haskell'], ['SmallTalk', 'Scala']]\n"
     ]
    }
   ],
   "source": [
    "posible_paradigma = [ [OOP,FP] for OOP in ['Python', 'JavaScript', 'SmallTalk'] for FP in ['Lisp', 'Haskell', 'Scala'] ]\n",
    "print (posible_paradigma)"
   ]
  },
  {
   "cell_type": "code",
   "execution_count": 51,
   "metadata": {
    "collapsed": false
   },
   "outputs": [
    {
     "data": {
      "text/plain": [
       "[(3, 4, 5),\n",
       " (5, 12, 13),\n",
       " (6, 8, 10),\n",
       " (7, 24, 25),\n",
       " (8, 15, 17),\n",
       " (9, 12, 15),\n",
       " (10, 24, 26),\n",
       " (12, 16, 20),\n",
       " (15, 20, 25),\n",
       " (20, 21, 29)]"
      ]
     },
     "execution_count": 51,
     "metadata": {},
     "output_type": "execute_result"
    }
   ],
   "source": [
    "# La lista por comprension se puede usar para crear la ternas Pitagóricas\n",
    "\n",
    "[(x,y,z) for x in range(1,30) for y in range(x,30) for z in range(y,30) if x**2 + y**2 == z**2]"
   ]
  },
  {
   "cell_type": "markdown",
   "metadata": {},
   "source": [
    "## Módulos \n",
    "\n",
    "Un módulo es un archivo que contiene código Python. El nombre de un módulo es el nombre del archivo con la extensión .py.  \n",
    " \n",
    "La variable `__name__` es una variable que almacena el nombre del módulo que se está haciendo referencia. El actual módulo, el módulo que está siendo ejecutado tiene un especial nombre: `__main__`. Con este nombre puede ser referenciado desde el código Python.  \n",
    "\n",
    "Supongamos que tenemos dos archivos: mod1.py y mod2.py . El segundo módulo es el módulo principal, el cual es ejecutado. Este importa el primer módulo. Los módulos son importados usando la palabra clave import."
   ]
  },
  {
   "cell_type": "code",
   "execution_count": 52,
   "metadata": {
    "collapsed": false
   },
   "outputs": [
    {
     "name": "stdout",
     "output_type": "stream",
     "text": [
      "hola: yo soy un módulo\n"
     ]
    }
   ],
   "source": [
    "# Archivo mod1.py\n",
    "\n",
    "\"\"\" Ejemplo de un modulo\"\"\"\n",
    "\n",
    "print(\"hola: yo soy un módulo\")"
   ]
  },
  {
   "cell_type": "code",
   "execution_count": 53,
   "metadata": {
    "collapsed": false
   },
   "outputs": [
    {
     "name": "stdout",
     "output_type": "stream",
     "text": [
      "hola: yo soy un módulo\n",
      "__main__\n",
      "mod1\n",
      "sys\n"
     ]
    }
   ],
   "source": [
    "# Archivo mod2.py\n",
    "\n",
    "import mod1\n",
    "import sys\n",
    "\n",
    "print (__name__)\n",
    "print (mod1.__name__)\n",
    "print(sys.__name__)\n",
    "\n"
   ]
  },
  {
   "cell_type": "markdown",
   "metadata": {},
   "source": [
    "Cuando se importa un módulo, el intérprete busca entre los módulos integrados  ese nombre. Si no lo encuentra, entonces busca en una lista de directorios dada por la  variable  sys.path. La variable sys.path  es una lista de cadenas que especifica la ruta de búsqueda para los módulos. Consiste del directorio de trabajo actual, los nombres de directorios especificados en la variable de entorno PYTHONPATH y algunos directorios adicionales  dependientes de la instalación . Si no se encuentra el módulo, se produce una excepción ImportError."
   ]
  },
  {
   "cell_type": "markdown",
   "metadata": {},
   "source": [
    "La palabra clave import, puede ser usada de varias maneras:\n",
    "\n",
    "```python\n",
    "\n",
    "import modulo\n",
    "\n",
    "```"
   ]
  },
  {
   "cell_type": "code",
   "execution_count": 57,
   "metadata": {
    "collapsed": false
   },
   "outputs": [
    {
     "name": "stdout",
     "output_type": "stream",
     "text": [
      "<_sre.SRE_Match object; span=(25, 32), match='W12 7RJ'>\n"
     ]
    }
   ],
   "source": [
    "# Ejemplo\n",
    "\n",
    "import re   # modulo de expresiones regulares\n",
    "\n",
    "my_regex = r\"[A-z]{1,2}[0-9R][0-9A-Z]? [0-9][ABD-HJLNP-UW-Z]{2}\"\n",
    "add = \"BBC News Centre, London, W12 7RJ\"\n",
    "compile_re = re.compile(my_regex)\n",
    "res = compile_re.search(add)\n",
    "print(res)\n",
    "        "
   ]
  },
  {
   "cell_type": "markdown",
   "metadata": {},
   "source": [
    "Aquí re es el módulo conteniendo funciones y constantes que trabajan con expresiones regulares. Después de este tipo de ìmport  solo se puede acceder a esas funciones con el prefijo re.  Se puede usar un alias si es que por ejemplo tienes que escribir demasiado. Por ejemplo, en el uso de matplotlib y visualización de datos, una convención estándar es:\n",
    "\n",
    "```python\n",
    " import matplotlib.pyplot as plt\n",
    "```   "
   ]
  },
  {
   "cell_type": "markdown",
   "metadata": {},
   "source": [
    "Si tu necesitas especificar algunos valores de un módulo, puedes importarlos explícitamente y usarlos sin restricción:\n",
    "\n",
    "``` python\n",
    "  from module import f1, f2...\n",
    "```"
   ]
  },
  {
   "cell_type": "code",
   "execution_count": 59,
   "metadata": {
    "collapsed": false
   },
   "outputs": [
    {
     "data": {
      "text/plain": [
       "Counter()"
      ]
     },
     "execution_count": 59,
     "metadata": {},
     "output_type": "execute_result"
    }
   ],
   "source": [
    "from collections import defaultdict, Counter\n",
    "l = defaultdict(int)\n",
    "\n",
    "contador = Counter()\n",
    "\n",
    "contador"
   ]
  },
  {
   "cell_type": "markdown",
   "metadata": {},
   "source": [
    "Una manera poco recomendable sería importar todo el contenido de un módulo en tu espacio de nombres:\n",
    "\n",
    "```python\n",
    "from modulo import*\n",
    "```\n",
    "\n",
    "El uso de esta forma  de importación puede resultar en problemas en en el espacio de nombres. Podemos tener varios objetos del mismo nombre y sus definiciones pueden ser anuladas:"
   ]
  },
  {
   "cell_type": "code",
   "execution_count": 60,
   "metadata": {
    "collapsed": false
   },
   "outputs": [
    {
     "name": "stdout",
     "output_type": "stream",
     "text": [
      "<function match at 0x7fd505330ea0>\n"
     ]
    }
   ],
   "source": [
    "match = 10\n",
    "from re import *\n",
    "print(match)"
   ]
  },
  {
   "cell_type": "markdown",
   "metadata": {},
   "source": [
    "Una excepción ImportError es producido si un módulo no puede ser importado. Los módulos pueden ser importados en otros módulos o ellos pueden ser ejecutados. Si el módulo es ejecutado como un script, el atributo `__name__` es igual a `__main__`."
   ]
  },
  {
   "cell_type": "code",
   "execution_count": 61,
   "metadata": {
    "collapsed": false
   },
   "outputs": [
    {
     "name": "stdout",
     "output_type": "stream",
     "text": [
      "1\n",
      "1\n",
      "2\n",
      "3\n",
      "5\n",
      "8\n",
      "13\n"
     ]
    }
   ],
   "source": [
    "# Modulo conteniendo a la funcion de fibonacci\n",
    "\n",
    "\"\"\"\n",
    "Modulo que contiene una funcion que genera la \n",
    "secuencia de Fibonacci\n",
    "\"\"\"\n",
    "\n",
    "def fib(n):\n",
    "    x ,y = 0, 1\n",
    "    while y < n:\n",
    "        print(y)\n",
    "        (x , y ) = (y, x + y)\n",
    "\n",
    "#Prueba\n",
    "if __name__ == '__main__':\n",
    "    fib(20)"
   ]
  },
  {
   "cell_type": "markdown",
   "metadata": {},
   "source": [
    "Si el módulo fibo es importado, la `prueba`, no es ejecutada automáticamente:"
   ]
  },
  {
   "cell_type": "code",
   "execution_count": 62,
   "metadata": {
    "collapsed": false
   },
   "outputs": [
    {
     "name": "stdout",
     "output_type": "stream",
     "text": [
      "1\n",
      "1\n",
      "2\n",
      "3\n",
      "5\n",
      "8\n",
      "13\n"
     ]
    }
   ],
   "source": [
    "import fibo as fib\n",
    "fib.fib(20)"
   ]
  },
  {
   "cell_type": "markdown",
   "metadata": {},
   "source": [
    "La función dir() da una lista ordenada de cadenas que contienen los nombres definidos por un módulo. En el siguiente módulo, importamos dos sistemas de módulos. Nosotros definimos una variable, una lista y una función:"
   ]
  },
  {
   "cell_type": "code",
   "execution_count": 64,
   "metadata": {
    "collapsed": false
   },
   "outputs": [
    {
     "name": "stdout",
     "output_type": "stream",
     "text": [
      "['A', 'ASCII', 'Animalito', 'Celsius', 'Counter', 'DOTALL', 'Fahrenheit', 'I', 'IGNORECASE', 'In', 'L', 'LOCALE', 'M', 'MULTILINE', 'N', 'Out', 'Perrito', 'S', 'U', 'UNICODE', 'VERBOSE', 'X', '_', '_16', '_17', '_29', '_37', '_38', '_39', '_45', '_51', '_59', '_8', '__', '___', '__builtin__', '__builtins__', '__doc__', '__loader__', '__name__', '__package__', '__spec__', '_dh', '_i', '_i1', '_i10', '_i11', '_i12', '_i13', '_i14', '_i15', '_i16', '_i17', '_i18', '_i19', '_i2', '_i20', '_i21', '_i22', '_i23', '_i24', '_i25', '_i26', '_i27', '_i28', '_i29', '_i3', '_i30', '_i31', '_i32', '_i33', '_i34', '_i35', '_i36', '_i37', '_i38', '_i39', '_i4', '_i40', '_i41', '_i42', '_i43', '_i44', '_i45', '_i46', '_i47', '_i48', '_i49', '_i5', '_i50', '_i51', '_i52', '_i53', '_i54', '_i55', '_i56', '_i57', '_i58', '_i59', '_i6', '_i60', '_i61', '_i62', '_i63', '_i64', '_i7', '_i8', '_i9', '_ih', '_ii', '_iii', '_oh', '_sh', 'a', 'add', 'b', 'cadena', 'cadenas1', 'compile', 'compile_re', 'cont', 'contador', 'cuadrado', 'cuadrados', 'cuadrados1', 'cuadratica', 'defaultdict', 'doble', 'error', 'escape', 'estadistica', 'exit', 'f', 'f1', 'f2', 'fib', 'findall', 'finditer', 'fruta', 'frutas', 'fullmatch', 'fun1', 'functools', 'g', 'g1', 'get_ipython', 'gfun1', 'gmtime', 'h1', 'hfun1', 'i', 'j', 'k', 'k1', 'l', 'lenguajes', 'ln', 'match', 'math', 'mensaje', 'mn', 'mod1', 'mostrar_lenguajes', 'msg1', 'muestra', 'mx', 'my_regex', 'n', 'paridad', 'perrito', 'posible_paradigma', 'potencia', 'purge', 'quit', 're', 'res', 's', 'search', 'sign', 'sm', 'split', 'sqrt', 'strftime', 'sub', 'subn', 'suma', 'sys', 'template', 'term', 'this', 'x', 'z']\n"
     ]
    }
   ],
   "source": [
    "# Uso de la funcion dir() en el espacio de nombres del modulo\n",
    "\n",
    "\"\"\"\n",
    "Este es un modulo de ejemplo para el uso de \n",
    "la funcion dir()\n",
    "\"\"\"\n",
    "\n",
    "import math, sys\n",
    "\n",
    "x = math.sin(20)\n",
    "lenguajes = [\"Python\", \"R\", \"Java\", \"C\", \"Make\"]\n",
    "\n",
    "def mostrar_lenguajes():\n",
    "    for i in lenguajes:\n",
    "        print(i)\n",
    "        \n",
    "print(dir(sys.modules['__main__']))\n"
   ]
  },
  {
   "cell_type": "markdown",
   "metadata": {},
   "source": [
    "La función dir() retorna todos los nombres disponibles en el actual espacio de nombres. `__main__` es el nombre del actual módulo. Partiendo de la idea de que  los módulos como todo lo demás es un objeto, una vez importados, siempre se pude obtener una referencia a un módulo mediante el diccionario global sys.modules."
   ]
  },
  {
   "cell_type": "markdown",
   "metadata": {},
   "source": [
    "La función globals() retorna un diccionario que representa el actual espacio de nombres global. Este es un diccionario de nombres (globales) y  sus valores. Este es el diccionario del actual módulo y se usa para imprimir todos los nombres globales del actual módulo."
   ]
  },
  {
   "cell_type": "code",
   "execution_count": 65,
   "metadata": {
    "collapsed": false
   },
   "outputs": [
    {
     "name": "stdout",
     "output_type": "stream",
     "text": [
      "b,compile,_i5,mx,z,gl,__name__,fib,posible_paradigma,re,sign,_i62,sm,h\n",
      "1,_i27,my_regex,gmtime,_i56,sqrt,U,_i20,ln,_i45,_ih,___,_i65,perrito,_\n",
      "59,_i12,_dh,estadistica,__builtin__,_39,cuadrado,purge,split,_i36,this\n",
      ",contador,res,_i61,f2,search,cuadratica,Fahrenheit,_i31,X,quit,DOTALL,\n",
      "muestra,doble,_i43,g,_i17,VERBOSE,_i11,Counter,cadenas1,term,_,L,A,i,_\n",
      "i28,sys,_i41,mensaje,mod1,_i63,_i16,_i2,_i60,_i64,_i22,__package__,_i4\n",
      "6,cuadrados1,fruta,fullmatch,mostrar_lenguajes,_i18,_i39,_i33,functool\n",
      "s,hfun1,_i42,cont,_i44,_51,_i25,__doc__,_i55,_i35,defaultdict,_45,_i54\n",
      ",strftime,mn,escape,_i30,math,msg1,_37,ASCII,lenguajes,_i59,_i10,_oh,_\n",
      "i26,_i15,j,_i47,_i38,S,I,gfun1,UNICODE,paridad,__spec__,_i58,_i49,_8,_\n",
      "sh,Out,N,Perrito,_i40,_i14,_38,_29,_16,frutas,_i32,a,f,_i57,_i24,_iii,\n",
      "_i6,_i9,_17,_i1,__,_i4,g1,textwrap,x,get_ipython,_i34,l,cuadrados,_i51\n",
      ",fun1,_i,k,add,__loader__,Celsius,cadena,exit,__builtins__,subn,In,err\n",
      "or,_i48,_i23,_i3,findall,_i19,_i13,M,s,template,IGNORECASE,n,_i53,_i37\n",
      ",LOCALE,_i21,compile_re,_i52,_i29,_i8,_ii,MULTILINE,suma,k1,match,_i50\n",
      ",_i7,Animalito,f1,sub,potencia,finditer\n"
     ]
    }
   ],
   "source": [
    "# uso de la funcion globals() en el uso de modulos\n",
    "\n",
    "import math\n",
    "import textwrap\n",
    "\n",
    "z = math.sqrt(5)\n",
    "\n",
    "def f1():\n",
    "    pass\n",
    "\n",
    "gl = globals()\n",
    "gb = ','.join(gl)\n",
    "print(textwrap.fill(gb))"
   ]
  },
  {
   "cell_type": "markdown",
   "metadata": {},
   "source": [
    "El atributo de clase `__module__` tiene el nombre del módulo en el cual la clase es definida. Sea el módulo, llamado mod3.py"
   ]
  },
  {
   "cell_type": "code",
   "execution_count": 66,
   "metadata": {
    "collapsed": true
   },
   "outputs": [],
   "source": [
    "\"\"\"\n",
    "modulo ejemplo\n",
    "\"\"\"\n",
    "class m1:\n",
    "    pass \n",
    "\n",
    "class m2:\n",
    "    pass"
   ]
  },
  {
   "cell_type": "markdown",
   "metadata": {},
   "source": [
    "Escribamos ahora un segundo módulo, usando el atributo `__module__`:"
   ]
  },
  {
   "cell_type": "code",
   "execution_count": 68,
   "metadata": {
    "collapsed": false
   },
   "outputs": [
    {
     "name": "stdout",
     "output_type": "stream",
     "text": [
      "__main__\n",
      "mod3\n"
     ]
    }
   ],
   "source": [
    "# uso del atributo __mod__ en los modulos de Python\n",
    "\n",
    "from mod3 import m1\n",
    "\n",
    "class l1:\n",
    "    pass\n",
    "\n",
    "b = l1()    # Una instancia de clase es creada\n",
    "\n",
    "print (b.__module__) # Imprimimos el nombre de modulo\n",
    "\n",
    "c = m1()    #  creamos un objeto desde la clase m1\n",
    "print (c.__module__) # Imprimimos el nombre del modulo donde fue definido"
   ]
  },
  {
   "cell_type": "markdown",
   "metadata": {},
   "source": [
    "## Excepciones \n",
    "\n",
    "Cualquier error que se produce durante la ejecución del código es una excepción. Cada excepción generalmente  muestra algún mensaje de error. Usamos el bloque try...except para manejar excepciones. La sintaxis básica es la siguiente:\n",
    "\n",
    "```python\n",
    "try:\n",
    "   declaracion1\n",
    "   declaracion2\n",
    "   ...\n",
    "except Nombre_Excepcion:\n",
    "   declaracion a ser evaluada en caso de que\n",
    "   aparezca alguna excepcion.\n",
    "```\n",
    "\n",
    "Veamos algunos ejemplos:"
   ]
  },
  {
   "cell_type": "code",
   "execution_count": 69,
   "metadata": {
    "collapsed": false
   },
   "outputs": [
    {
     "ename": "TypeError",
     "evalue": "Can't convert 'int' object to str implicitly",
     "output_type": "error",
     "traceback": [
      "\u001b[1;31m---------------------------------------------------------------------------\u001b[0m",
      "\u001b[1;31mTypeError\u001b[0m                                 Traceback (most recent call last)",
      "\u001b[1;32m<ipython-input-69-66bd3e548560>\u001b[0m in \u001b[0;36m<module>\u001b[1;34m()\u001b[0m\n\u001b[1;32m----> 1\u001b[1;33m \u001b[0mprint\u001b[0m\u001b[1;33m(\u001b[0m\u001b[1;34m'c++'\u001b[0m \u001b[1;33m+\u001b[0m \u001b[1;36m1\u001b[0m\u001b[1;33m)\u001b[0m \u001b[1;31m# TypeError\u001b[0m\u001b[1;33m\u001b[0m\u001b[0m\n\u001b[0m",
      "\u001b[1;31mTypeError\u001b[0m: Can't convert 'int' object to str implicitly"
     ]
    }
   ],
   "source": [
    "print('c++' + 1) # TypeError"
   ]
  },
  {
   "cell_type": "code",
   "execution_count": 70,
   "metadata": {
    "collapsed": false
   },
   "outputs": [
    {
     "ename": "NameError",
     "evalue": "name 'w' is not defined",
     "output_type": "error",
     "traceback": [
      "\u001b[1;31m---------------------------------------------------------------------------\u001b[0m",
      "\u001b[1;31mNameError\u001b[0m                                 Traceback (most recent call last)",
      "\u001b[1;32m<ipython-input-70-497cc5102d93>\u001b[0m in \u001b[0;36m<module>\u001b[1;34m()\u001b[0m\n\u001b[1;32m----> 1\u001b[1;33m \u001b[0mprint\u001b[0m\u001b[1;33m(\u001b[0m\u001b[0mw\u001b[0m\u001b[1;33m)\u001b[0m \u001b[1;31m# NameError\u001b[0m\u001b[1;33m\u001b[0m\u001b[0m\n\u001b[0m",
      "\u001b[1;31mNameError\u001b[0m: name 'w' is not defined"
     ]
    }
   ],
   "source": [
    "print(w) # NameError"
   ]
  },
  {
   "cell_type": "code",
   "execution_count": 72,
   "metadata": {
    "collapsed": false
   },
   "outputs": [
    {
     "name": "stdout",
     "output_type": "stream",
     "text": [
      "Ingresa un numero: 2.3\n",
      "No es un numero entero, vuelve a intentarlo...\n",
      "Ingresa un numero: 3\n",
      "Bien, es un numero entero\n"
     ]
    }
   ],
   "source": [
    "while True:\n",
    "    try:\n",
    "        n = input(\"Ingresa un numero: \")\n",
    "        n = int(n)\n",
    "        break\n",
    "    except  ValueError:\n",
    "        print(\"No es un numero entero, vuelve a intentarlo...\")\n",
    "print (\"Bien, es un numero entero\")"
   ]
  },
  {
   "cell_type": "markdown",
   "metadata": {},
   "source": [
    "Una sentencia try  puede tener más de una cláusula  except para diferentes excepciones. Sin embargo, a lo sumo una cláusula except será ejecutada. veamos un ejemplo de la [documentacion de Python a Excepciones](https://docs.python.org/3/tutorial/errors.html):"
   ]
  },
  {
   "cell_type": "code",
   "execution_count": 73,
   "metadata": {
    "collapsed": false
   },
   "outputs": [
    {
     "name": "stdout",
     "output_type": "stream",
     "text": [
      "No se puedo convertir los datos a entero\n"
     ]
    }
   ],
   "source": [
    "import sys \n",
    "\n",
    "try:\n",
    "    f = open('Hadoop.txt')\n",
    "    s = f.readline()\n",
    "    i = int(s.strip())\n",
    "\n",
    "except OSError as err:\n",
    "    print(\"OS error: {0}\".format(err))\n",
    "    \n",
    "except ValueError:\n",
    "    print(\"No se puedo convertir los datos a entero\")\n",
    "    \n",
    "except:\n",
    "    print(\"Error inesperado:\", sys.exc_info()[0])\n",
    "    raise \n",
    "          "
   ]
  },
  {
   "cell_type": "markdown",
   "metadata": {},
   "source": [
    "Se puede lanzar una excepción usando raise, como muestra en el siguiente ejemplo:"
   ]
  },
  {
   "cell_type": "code",
   "execution_count": 74,
   "metadata": {
    "collapsed": false
   },
   "outputs": [
    {
     "ename": "ValueError",
     "evalue": "Un error de valor a ocurrido.",
     "output_type": "error",
     "traceback": [
      "\u001b[1;31m---------------------------------------------------------------------------\u001b[0m",
      "\u001b[1;31mValueError\u001b[0m                                Traceback (most recent call last)",
      "\u001b[1;32m<ipython-input-74-b659c556c190>\u001b[0m in \u001b[0;36m<module>\u001b[1;34m()\u001b[0m\n\u001b[1;32m----> 1\u001b[1;33m \u001b[1;32mraise\u001b[0m \u001b[0mValueError\u001b[0m\u001b[1;33m(\u001b[0m\u001b[1;34m\"Un error de valor a ocurrido.\"\u001b[0m\u001b[1;33m)\u001b[0m\u001b[1;33m\u001b[0m\u001b[0m\n\u001b[0m",
      "\u001b[1;31mValueError\u001b[0m: Un error de valor a ocurrido."
     ]
    }
   ],
   "source": [
    "raise ValueError(\"Un error de valor a ocurrido.\")"
   ]
  },
  {
   "cell_type": "markdown",
   "metadata": {},
   "source": [
    "Podemos manejar  estas excepciones como cualquier otras excepciones:"
   ]
  },
  {
   "cell_type": "code",
   "execution_count": 75,
   "metadata": {
    "collapsed": false
   },
   "outputs": [
    {
     "name": "stdout",
     "output_type": "stream",
     "text": [
      "ValueError en nuestro codigo.\n"
     ]
    }
   ],
   "source": [
    "try:\n",
    "    raise ValueError(\"Un valor a ocurrido.\")\n",
    "except ValueError:\n",
    "    print(\"ValueError en nuestro codigo.\")"
   ]
  },
  {
   "cell_type": "markdown",
   "metadata": {},
   "source": [
    "La sentencia try puede ser seguido por una cláusula finally. A la cláusula finally  se lo conoce como *cláusulas de limpieza*, y debe ser ejecutada en cualquier circunstancia, es decir, la cláusula se ejecuta siempre, independientemente si se ha producido una excepción en un bloque try o no."
   ]
  },
  {
   "cell_type": "code",
   "execution_count": 76,
   "metadata": {
    "collapsed": false
   },
   "outputs": [
    {
     "name": "stdout",
     "output_type": "stream",
     "text": [
      "Ingresa un numero: 5\n",
      "Hay o no hay una excepcion\n"
     ]
    }
   ],
   "source": [
    "try:\n",
    "    x = float(input(\"Ingresa un numero: \"))\n",
    "    inverse = 1.0 / x\n",
    "\n",
    "except ValueError:\n",
    "    print(\"Deberías haber dado  un int o un float\")\n",
    "\n",
    "except ZeroDivisionError:\n",
    "    print(\"Infinito\")\n",
    "finally:\n",
    "    print(\"Hay o no hay una excepcion\")"
   ]
  },
  {
   "cell_type": "markdown",
   "metadata": {},
   "source": [
    "La sentencia try...except tiene una cláusula else  opcional. Un bloque más tiene que ser colocado después de todas las cláusulas except. Una cláusula else se ejecutará si la cláusula try no lanza  una excepción:"
   ]
  },
  {
   "cell_type": "code",
   "execution_count": 79,
   "metadata": {
    "collapsed": false
   },
   "outputs": [
    {
     "name": "stdout",
     "output_type": "stream",
     "text": [
      "ejecutando la clausula finally\n"
     ]
    },
    {
     "ename": "TypeError",
     "evalue": "unsupported operand type(s) for /: 'str' and 'str'",
     "output_type": "error",
     "traceback": [
      "\u001b[1;31m---------------------------------------------------------------------------\u001b[0m",
      "\u001b[1;31mTypeError\u001b[0m                                 Traceback (most recent call last)",
      "\u001b[1;32m<ipython-input-79-7e1e97572cb2>\u001b[0m in \u001b[0;36m<module>\u001b[1;34m()\u001b[0m\n\u001b[0;32m      9\u001b[0m         \u001b[0mprint\u001b[0m \u001b[1;33m(\u001b[0m\u001b[1;34m\"ejecutando la clausula finally\"\u001b[0m\u001b[1;33m)\u001b[0m\u001b[1;33m\u001b[0m\u001b[0m\n\u001b[0;32m     10\u001b[0m \u001b[1;33m\u001b[0m\u001b[0m\n\u001b[1;32m---> 11\u001b[1;33m \u001b[0mdivision\u001b[0m\u001b[1;33m(\u001b[0m\u001b[1;34m\"uno\"\u001b[0m\u001b[1;33m,\u001b[0m \u001b[1;34m\"dos\"\u001b[0m\u001b[1;33m)\u001b[0m\u001b[1;33m\u001b[0m\u001b[0m\n\u001b[0m",
      "\u001b[1;32m<ipython-input-79-7e1e97572cb2>\u001b[0m in \u001b[0;36mdivision\u001b[1;34m(x, y)\u001b[0m\n\u001b[0;32m      1\u001b[0m \u001b[1;32mdef\u001b[0m \u001b[0mdivision\u001b[0m\u001b[1;33m(\u001b[0m\u001b[0mx\u001b[0m\u001b[1;33m,\u001b[0m \u001b[0my\u001b[0m\u001b[1;33m)\u001b[0m\u001b[1;33m:\u001b[0m\u001b[1;33m\u001b[0m\u001b[0m\n\u001b[0;32m      2\u001b[0m     \u001b[1;32mtry\u001b[0m\u001b[1;33m:\u001b[0m\u001b[1;33m\u001b[0m\u001b[0m\n\u001b[1;32m----> 3\u001b[1;33m         \u001b[0mresultado\u001b[0m \u001b[1;33m=\u001b[0m \u001b[0mx\u001b[0m\u001b[1;33m/\u001b[0m\u001b[0my\u001b[0m\u001b[1;33m\u001b[0m\u001b[0m\n\u001b[0m\u001b[0;32m      4\u001b[0m     \u001b[1;32mexcept\u001b[0m \u001b[0mZeroDivisionError\u001b[0m\u001b[1;33m:\u001b[0m\u001b[1;33m\u001b[0m\u001b[0m\n\u001b[0;32m      5\u001b[0m         \u001b[0mprint\u001b[0m\u001b[1;33m(\u001b[0m\u001b[1;34m\"division por cero\"\u001b[0m\u001b[1;33m)\u001b[0m\u001b[1;33m\u001b[0m\u001b[0m\n",
      "\u001b[1;31mTypeError\u001b[0m: unsupported operand type(s) for /: 'str' and 'str'"
     ]
    }
   ],
   "source": [
    "def division(x, y):\n",
    "    try:\n",
    "        resultado = x/y\n",
    "    except ZeroDivisionError:\n",
    "        print(\"division por cero\")\n",
    "    else:\n",
    "        print(\"el resultado es \", resultado)\n",
    "    finally :\n",
    "        print (\"ejecutando la clausula finally\")\n",
    "        \n",
    "division(\"uno\", \"dos\")"
   ]
  },
  {
   "cell_type": "code",
   "execution_count": 80,
   "metadata": {
    "collapsed": false
   },
   "outputs": [
    {
     "name": "stdout",
     "output_type": "stream",
     "text": [
      "division por cero\n",
      "ejecutando la clausula finally\n"
     ]
    }
   ],
   "source": [
    "division(2,0)"
   ]
  },
  {
   "cell_type": "markdown",
   "metadata": {},
   "source": [
    "## Listas\n",
    "\n",
    "Una de las estructuras fundamentales de Python, es sin lugar a dudas el de lista (list). Una lista es ordenación de objetos. Esto es similar a lo que en otros lenguaje pero con algo más de funcionalidad."
   ]
  },
  {
   "cell_type": "code",
   "execution_count": 81,
   "metadata": {
    "collapsed": false
   },
   "outputs": [
    {
     "data": {
      "text/plain": [
       "13"
      ]
     },
     "execution_count": 81,
     "metadata": {},
     "output_type": "execute_result"
    }
   ],
   "source": [
    "lista_entero = [2, 5,6]\n",
    "lista_heterogenea = ['Python', 0.3, True]\n",
    "lista_de_lista = [lista_entero, lista_heterogenea]\n",
    "\n",
    "lista_longitud = len(lista_entero)\n",
    "lista_suma     = sum(lista_entero)\n",
    "\n",
    "lista_longitud\n",
    "lista_suma\n"
   ]
  },
  {
   "cell_type": "code",
   "execution_count": 82,
   "metadata": {
    "collapsed": false
   },
   "outputs": [
    {
     "data": {
      "text/plain": [
       "(0, 1, 9, 8)"
      ]
     },
     "execution_count": 82,
     "metadata": {},
     "output_type": "execute_result"
    }
   ],
   "source": [
    "# Podemos conseguir el conjunto de elementos de una lista con corchetes\n",
    "\n",
    "x = list(range(10))\n",
    "zero = x[0]\n",
    "one  = x[1]\n",
    "nine  = x[-1]\n",
    "eight = x[-2]\n",
    "zero, one, nine, eight\n",
    "\n",
    "\n"
   ]
  },
  {
   "cell_type": "code",
   "execution_count": 83,
   "metadata": {
    "collapsed": false
   },
   "outputs": [
    {
     "data": {
      "text/plain": [
       "[-1, 1, 2, 3, 4, 5, 6, 7, 8, 9]"
      ]
     },
     "execution_count": 83,
     "metadata": {},
     "output_type": "execute_result"
    }
   ],
   "source": [
    "# Podemos modificar los valores de la lista\n",
    "\n",
    "x = list(range(10))\n",
    "x[0] = -1\n",
    "x"
   ]
  },
  {
   "cell_type": "code",
   "execution_count": 84,
   "metadata": {
    "collapsed": false
   },
   "outputs": [
    {
     "data": {
      "text/plain": [
       "[-1, 1, 2]"
      ]
     },
     "execution_count": 84,
     "metadata": {},
     "output_type": "execute_result"
    }
   ],
   "source": [
    "# Podemos ingresar corchetes para dividir una lista\n",
    "\n",
    "primeros_tres = x[:3]\n",
    "tres_ultimos  = x[3:]\n",
    "uno_al_cuatro = x[1:5]\n",
    "res = x[-3:]\n",
    "sin_el_primero_ultimo = x[1:-1]\n",
    "copia_de_x = x[:]\n",
    "primeros_tres"
   ]
  },
  {
   "cell_type": "code",
   "execution_count": 85,
   "metadata": {
    "collapsed": false
   },
   "outputs": [
    {
     "data": {
      "text/plain": [
       "[3, 4, 5, 6, 7, 8, 9]"
      ]
     },
     "execution_count": 85,
     "metadata": {},
     "output_type": "execute_result"
    }
   ],
   "source": [
    "tres_ultimos\n"
   ]
  },
  {
   "cell_type": "code",
   "execution_count": 86,
   "metadata": {
    "collapsed": false
   },
   "outputs": [
    {
     "data": {
      "text/plain": [
       "[1, 2, 3, 4, 5, 6, 7, 8]"
      ]
     },
     "execution_count": 86,
     "metadata": {},
     "output_type": "execute_result"
    }
   ],
   "source": [
    "sin_el_primero_ultimo"
   ]
  },
  {
   "cell_type": "markdown",
   "metadata": {},
   "source": [
    "Python tiene un operador **in** para verificar si un elemento pertenece a una lista. Esto implica que examina los elementos de la lista uno a la vez, de manera que es adecuado  usarlo  si es que la lista es muy pequeña."
   ]
  },
  {
   "cell_type": "code",
   "execution_count": 87,
   "metadata": {
    "collapsed": false
   },
   "outputs": [
    {
     "data": {
      "text/plain": [
       "False"
      ]
     },
     "execution_count": 87,
     "metadata": {},
     "output_type": "execute_result"
    }
   ],
   "source": [
    "'erika' in [\"Erika\", \"erika\", \"ErIka\"]"
   ]
  },
  {
   "cell_type": "code",
   "execution_count": 90,
   "metadata": {
    "collapsed": false
   },
   "outputs": [
    {
     "data": {
      "text/plain": [
       "['Python', 3, 'C++', 1.2, ['JavaScript', 'R'], 3, 5, 7]"
      ]
     },
     "execution_count": 90,
     "metadata": {},
     "output_type": "execute_result"
    }
   ],
   "source": [
    "# Es facil, concatenar listas, usando la funcion extend\n",
    "\n",
    "y = [\"Python\", 3,  \"C++\", 1.2, [\"JavaScript\", \"R\"]]\n",
    "y.extend([3,5,7])\n",
    "y"
   ]
  },
  {
   "cell_type": "code",
   "execution_count": 91,
   "metadata": {
    "collapsed": false
   },
   "outputs": [
    {
     "data": {
      "text/plain": [
       "[1, 3, 5, 7, 9]"
      ]
     },
     "execution_count": 91,
     "metadata": {},
     "output_type": "execute_result"
    }
   ],
   "source": [
    "# Es frecuente también agregar un elemento a la vez, usando la función append\n",
    "\n",
    "z = [1, 3, 5, 7]\n",
    "z.append(9)\n",
    "z"
   ]
  },
  {
   "cell_type": "markdown",
   "metadata": {},
   "source": [
    "Es conveniente desempaquetar listas si se conoce cuantos elementos ellas contienen, ya que de lo que contrario se puede encontrar un ValueError, sino tenemos el mismo número de elementos en ambos lados.  Es común usar un guión abajo, para un valor que estas lanzando"
   ]
  },
  {
   "cell_type": "code",
   "execution_count": 93,
   "metadata": {
    "collapsed": false
   },
   "outputs": [
    {
     "data": {
      "text/plain": [
       "2"
      ]
     },
     "execution_count": 93,
     "metadata": {},
     "output_type": "execute_result"
    }
   ],
   "source": [
    "x, y = [1 , 2]\n",
    "_,y = [1, 2]\n",
    "y"
   ]
  },
  {
   "cell_type": "markdown",
   "metadata": {},
   "source": [
    "## Tuplas \n",
    "\n",
    "Las tuplas son primas *inmutables* de las  listas. Casi todo lo que se puede hacer a una lista que no implica la modificación, se puede hacer para una tupla. Puede especificar una tupla utilizando paréntesis (o nada) en lugar de corchetes:"
   ]
  },
  {
   "cell_type": "code",
   "execution_count": 98,
   "metadata": {
    "collapsed": false
   },
   "outputs": [
    {
     "data": {
      "text/plain": [
       "('Python', 'R', 'C++', 'Bash')"
      ]
     },
     "execution_count": 98,
     "metadata": {},
     "output_type": "execute_result"
    }
   ],
   "source": [
    "a = 'Python', 'R', 'C++', 'Bash'\n",
    "a"
   ]
  },
  {
   "cell_type": "code",
   "execution_count": 95,
   "metadata": {
    "collapsed": false
   },
   "outputs": [
    {
     "name": "stdout",
     "output_type": "stream",
     "text": [
      "Python R C++ Bash "
     ]
    }
   ],
   "source": [
    "for x in a :\n",
    "    print(x, end= ' ')"
   ]
  },
  {
   "cell_type": "markdown",
   "metadata": {},
   "source": [
    "La tuplas no se pueden modificar, es decir no se puede eliminar, agregar o editar algún valor dentro de la tupla."
   ]
  },
  {
   "cell_type": "code",
   "execution_count": 99,
   "metadata": {
    "collapsed": false
   },
   "outputs": [
    {
     "name": "stdout",
     "output_type": "stream",
     "text": [
      "No se puede modificar la tupla\n"
     ]
    }
   ],
   "source": [
    "lista1 = [1 ,3]\n",
    "tupla1 = (1,3)\n",
    "tupla2 = 4, 5\n",
    "lista1[1] = 8  # lista1  es ahora [1,8]\n",
    "try:\n",
    "    tupla1[1] = 8\n",
    "\n",
    "except TypeError:\n",
    "    print (\"No se puede modificar la tupla\")"
   ]
  },
  {
   "cell_type": "markdown",
   "metadata": {},
   "source": [
    "Se pueden desempaquetar valores de alguna tupla en variables:"
   ]
  },
  {
   "cell_type": "code",
   "execution_count": 100,
   "metadata": {
    "collapsed": false
   },
   "outputs": [
    {
     "data": {
      "text/plain": [
       "2"
      ]
     },
     "execution_count": 100,
     "metadata": {},
     "output_type": "execute_result"
    }
   ],
   "source": [
    "divmod(23, 4)\n",
    "x ,y = divmod(23,8) # (2,7)\n",
    "x"
   ]
  },
  {
   "cell_type": "code",
   "execution_count": 101,
   "metadata": {
    "collapsed": false
   },
   "outputs": [
    {
     "data": {
      "text/plain": [
       "7"
      ]
     },
     "execution_count": 101,
     "metadata": {},
     "output_type": "execute_result"
    }
   ],
   "source": [
    "y"
   ]
  },
  {
   "cell_type": "markdown",
   "metadata": {},
   "source": [
    "Las tuplas son una manera conveniente de retornar múltiples valores de las funciones"
   ]
  },
  {
   "cell_type": "code",
   "execution_count": 103,
   "metadata": {
    "collapsed": false
   },
   "outputs": [
    {
     "data": {
      "text/plain": [
       "15"
      ]
     },
     "execution_count": 103,
     "metadata": {},
     "output_type": "execute_result"
    }
   ],
   "source": [
    "def sum_and_product(x, y):\n",
    "    return (x + y),(x * y)\n",
    "\n",
    "sp = sum_and_product(2, 3) # igual a  (5, 6)\n",
    "s, p = sum_and_product(5, 10)\n",
    "s\n"
   ]
  },
  {
   "cell_type": "code",
   "execution_count": 104,
   "metadata": {
    "collapsed": false
   },
   "outputs": [
    {
     "data": {
      "text/plain": [
       "50"
      ]
     },
     "execution_count": 104,
     "metadata": {},
     "output_type": "execute_result"
    }
   ],
   "source": [
    "p"
   ]
  },
  {
   "cell_type": "markdown",
   "metadata": {},
   "source": [
    "## Cadenas \n",
    "\n",
    "En Python, una cadena es una secuencia  de caracteres y son inmutables, es decir, una vez que son definidas no se pueden modificar.\n"
   ]
  },
  {
   "cell_type": "code",
   "execution_count": 105,
   "metadata": {
    "collapsed": false
   },
   "outputs": [
    {
     "name": "stdout",
     "output_type": "stream",
     "text": [
      "python, scala, R, C\n",
      "Machine Learning\n",
      " El\n",
      " mago de \n",
      " OZ\n",
      " \n"
     ]
    }
   ],
   "source": [
    "a = \"python, scala, R, C\"\n",
    "b = 'Machine Learning'\n",
    "c = \"\"\" El\n",
    " mago de \n",
    " OZ\n",
    " \"\"\"\n",
    "print(a)\n",
    "print(b)\n",
    "print(c)"
   ]
  },
  {
   "cell_type": "code",
   "execution_count": 106,
   "metadata": {
    "collapsed": false
   },
   "outputs": [
    {
     "name": "stdout",
     "output_type": "stream",
     "text": [
      "Python C++\n",
      "Python y Perl son muy diferentes\n"
     ]
    }
   ],
   "source": [
    "# Podemos realizar algunas operaciones con cadenas\n",
    "\n",
    "lenguajes = [\"Python\", \"C\",  \"C++\", \"Java\", \"Perl\"]\n",
    "len(lenguajes)\n",
    "print(lenguajes[0], lenguajes[2]) # Python, C++\n",
    "print(lenguajes[0] + \" y \" + lenguajes[4] + \" son muy diferentes\")"
   ]
  },
  {
   "cell_type": "code",
   "execution_count": 107,
   "metadata": {
    "collapsed": false
   },
   "outputs": [
    {
     "data": {
      "text/plain": [
       "'Python es un poderoso lenguaje de Programacion, Java es un lenguaje de programacion comercial'"
      ]
     },
     "execution_count": 107,
     "metadata": {},
     "output_type": "execute_result"
    }
   ],
   "source": [
    "# Slicing \n",
    "\n",
    "str1 = \"Python es un poderoso lenguaje de Programacion, Java es un lenguaje de programacion comercial\"\n",
    "s_str=str1[0:46]   # Python es un poderoso lenguaje de Programacion\n",
    "s1_str = str1[48:] # Java es un lenguaje de programacion comercial\n",
    "s1_str\n",
    "copia_str = str1[:]\n",
    "copia_str"
   ]
  },
  {
   "cell_type": "markdown",
   "metadata": {},
   "source": [
    "También el 'slicing' trabaja con tres argumentos:\n",
    "\n",
    "```python\n",
    "    s[inicio : final: paso]\n",
    "```"
   ]
  },
  {
   "cell_type": "markdown",
   "metadata": {},
   "source": [
    "El resultado es una secuencia consistente de los siguientes elementos:\n",
    "\n",
    "```python\n",
    "    s[inicio], s[inicio + 1 * paso], ... s[inicio + i * paso], donde  (inicio + i * paso) < final\n",
    "```"
   ]
  },
  {
   "cell_type": "code",
   "execution_count": 108,
   "metadata": {
    "collapsed": false
   },
   "outputs": [
    {
     "data": {
      "text/plain": [
       "'Ph  n,sdJyrsea'"
      ]
     },
     "execution_count": 108,
     "metadata": {},
     "output_type": "execute_result"
    }
   ],
   "source": [
    "str2 = 'Python en Linux, usando Jupyter es genial'\n",
    "str2[::3]"
   ]
  },
  {
   "cell_type": "markdown",
   "metadata": {},
   "source": [
    "Cuando usamos cadenas, podemos utilizar *secuencias de escape*. Las *secuencia de escape* son caracteres especiales, para própositos específicos, cuando es usada dentro de una cadena. Por ejemplo la secuencia de escape `\\\\t` coloca espacio de blanco entre texto:"
   ]
  },
  {
   "cell_type": "markdown",
   "metadata": {},
   "source": [
    "Si  anteponemos un `r` a  la cadena, se obtiene una cadena de texto (raw string). Las secuencias de escape no se interpretan."
   ]
  },
  {
   "cell_type": "code",
   "execution_count": 115,
   "metadata": {
    "collapsed": false
   },
   "outputs": [
    {
     "name": "stdout",
     "output_type": "stream",
     "text": [
      "Another world\\\\t\n"
     ]
    }
   ],
   "source": [
    "print (r\"Another world\\\\t\")"
   ]
  },
  {
   "cell_type": "markdown",
   "metadata": {},
   "source": [
    "Los métodos find(), index() y rindex() son usados para encontrar subcadenas en una cadena."
   ]
  },
  {
   "cell_type": "code",
   "execution_count": 117,
   "metadata": {
    "collapsed": false
   },
   "outputs": [
    {
     "name": "stdout",
     "output_type": "stream",
     "text": [
      "-1\n",
      "11\n",
      "23\n",
      "23\n"
     ]
    }
   ],
   "source": [
    "a = \"Yo aprendi Python!. Si Python\"\n",
    "print (a.find(\"Python \")) # Encuentra el indice de la subcadena en la cadena\n",
    "print (a.find(\"Python\", 10, 20))\n",
    "print (a.find(\"Python\", 15))\n",
    "\n",
    "print (a.rfind(\"Python\")) # Lo mismo que find(), solo le que empieza desde el final de la cadena"
   ]
  },
  {
   "cell_type": "code",
   "execution_count": 118,
   "metadata": {
    "collapsed": false
   },
   "outputs": [
    {
     "name": "stdout",
     "output_type": "stream",
     "text": [
      "11\n",
      "21\n",
      "No se encuentra en  la cadena\n"
     ]
    }
   ],
   "source": [
    "# Usemos el método ìndex() en el siguiente ejemplo\n",
    "\n",
    "a1 = \"Yo aprendi Java!. Si Java y Python\"\n",
    "print (a1.index(\"Java\"))\n",
    "print (a1.rindex(\"Java\"))\n",
    "                 \n",
    "try:\n",
    "    print (a1.rindex('Perl'))\n",
    "except ValueError:\n",
    "    print ('No se encuentra en  la cadena')"
   ]
  },
  {
   "cell_type": "markdown",
   "metadata": {},
   "source": [
    "El método replace()  reemplaza subcadenas en una cadena con otras. Por defecto, se reemplaza todas las ocurrencias de una subcadena. El método tiene un tercer argumento que limita los reemplazos a un determinado número.\n"
   ]
  },
  {
   "cell_type": "code",
   "execution_count": 119,
   "metadata": {
    "collapsed": false
   },
   "outputs": [
    {
     "name": "stdout",
     "output_type": "stream",
     "text": [
      "Yo aprendi Lisp!. Si Lisp y Python\n",
      "Yo aprendi C++!. Si Java y Python\n"
     ]
    }
   ],
   "source": [
    "a2 = \"Yo aprendi Java!. Si Java y Python\"\n",
    "a3 = a2.replace(\"Java\", \"Lisp\")\n",
    "print(a3)\n",
    "a4 = a2.replace(\"Java\", \"C++\", 1)\n",
    "print(a4)"
   ]
  },
  {
   "cell_type": "markdown",
   "metadata": {},
   "source": [
    "Una cadena se puede dividir con los métodos split() o rsplit() Estos devuelven  una lista de cadenas que 'fueron cortadas' de la cadena mediante un separador. Hay un segundo parámetro opcional que es el máximo de divisiones permitidos."
   ]
  },
  {
   "cell_type": "code",
   "execution_count": 121,
   "metadata": {
    "collapsed": false
   },
   "outputs": [
    {
     "name": "stdout",
     "output_type": "stream",
     "text": [
      "['1,3,5,7,9,11,13,15']\n"
     ]
    }
   ],
   "source": [
    "nums = \"1,3,5,7,9,11,13,15\"\n",
    "k = nums.split( \" \" )\n",
    "print(k)"
   ]
  },
  {
   "cell_type": "code",
   "execution_count": 127,
   "metadata": {
    "collapsed": false
   },
   "outputs": [
    {
     "data": {
      "text/plain": [
       "['abcdefghijklmnopqrstuvwxyz', '1']"
      ]
     },
     "execution_count": 127,
     "metadata": {},
     "output_type": "execute_result"
    }
   ],
   "source": [
    "letra = \"abcdefghijklmnopqrstuvwxyz,1\"\n",
    "letra.split(\",\", 1)\n",
    "letra.rsplit(\",\", 1)\n"
   ]
  },
  {
   "cell_type": "code",
   "execution_count": 131,
   "metadata": {
    "collapsed": false
   },
   "outputs": [
    {
     "data": {
      "text/plain": [
       "0.5094608889994561"
      ]
     },
     "execution_count": 131,
     "metadata": {},
     "output_type": "execute_result"
    }
   ],
   "source": [
    "from timeit import timeit\n",
    "timeit('\"abcdefghijklmnopqrstuvwxyz,1\".split(\",\", 1)')"
   ]
  },
  {
   "cell_type": "code",
   "execution_count": 134,
   "metadata": {
    "collapsed": false
   },
   "outputs": [
    {
     "data": {
      "text/plain": [
       "0.49028100600116886"
      ]
     },
     "execution_count": 134,
     "metadata": {},
     "output_type": "execute_result"
    }
   ],
   "source": [
    "from timeit import timeit\n",
    "timeit('\"abcdefghijklmnopqrstuvwxyz,1\".rsplit(\",\", 1)')"
   ]
  },
  {
   "cell_type": "markdown",
   "metadata": {},
   "source": [
    "Las cadenas pueden ser unidas con el método join(). Devuelve una cadena concatenada de las cadenas pasadas como parámetro. El separador entre los elementos es la cadena que proporciona este método:"
   ]
  },
  {
   "cell_type": "code",
   "execution_count": 136,
   "metadata": {
    "collapsed": false
   },
   "outputs": [
    {
     "name": "stdout",
     "output_type": "stream",
     "text": [
      "a- b- c\n"
     ]
    }
   ],
   "source": [
    "s = \"- \"\n",
    "seq = (\"a\", \"b\", \"c\") # Esta es una secuencia de cadenas\n",
    "print (s.join( seq ))\n"
   ]
  },
  {
   "cell_type": "markdown",
   "metadata": {},
   "source": [
    "\n",
    "Python tiene cuatro métodos  que  devuelven una nueva cadena modificada. Veamos un ejemplo:"
   ]
  },
  {
   "cell_type": "code",
   "execution_count": 150,
   "metadata": {
    "collapsed": false
   },
   "outputs": [
    {
     "name": "stdout",
     "output_type": "stream",
     "text": [
      "MACHINELEARNING\n",
      "machinelearning\n",
      "mACHINElEARNING\n",
      "Machinelearning\n"
     ]
    }
   ],
   "source": [
    "s = \"MachineLearning\"\n",
    "print (s.upper())   # copia de s con letras mayusculas\"\n",
    "print (s.lower())   # copia de s con letras minusculas \n",
    "print (s.swapcase()) # Intercambio de letras mayuscula a minuscula y viceversa\n",
    "print (s.title())"
   ]
  },
  {
   "cell_type": "markdown",
   "metadata": {},
   "source": [
    "Hay varias funciones incorporadas útiles en Python que se pueden utilizar para trabajar con cadenas"
   ]
  },
  {
   "cell_type": "code",
   "execution_count": 152,
   "metadata": {
    "collapsed": false
   },
   "outputs": [
    {
     "name": "stdout",
     "output_type": "stream",
     "text": [
      "Hay 62 caracteres\n",
      "Hay 51 caracteres alfabeticos\n",
      "Hay 0 digitos en la cadena\n",
      "Hay 8 espacios en la cadena\n"
     ]
    }
   ],
   "source": [
    "# Uso de funciones incorporadas a  Python para el uso de cadenas\n",
    "\n",
    "str1 = \"Hay muchos lenguajes de Programacion raros: Ook, Piet, Befunge\"\n",
    "\n",
    "letras = 0\n",
    "digitos= 0\n",
    "espacios=0\n",
    "\n",
    "for i in str1:\n",
    "    if i.isalpha():\n",
    "        letras += 1\n",
    "    if i.isdigit():\n",
    "        digitos += 1\n",
    "    if i.isspace():\n",
    "        espacios += 1\n",
    "        \n",
    "print (\"Hay\", len(str1),\"caracteres\")\n",
    "print (\"Hay\", letras, \"caracteres alfabeticos\")\n",
    "print  (\"Hay\", digitos, \"digitos en la cadena\")\n",
    "print (\"Hay\", espacios, \"espacios en la cadena\")"
   ]
  },
  {
   "cell_type": "markdown",
   "metadata": {},
   "source": [
    "Para el formato de cadenas, usamos el método format  agregado en la versión 2.6 de Python. La forma general de este método luce como\n",
    "\n",
    " ```python\n",
    "  str.format(p0,p1,..., k0 = v0, k1 = v1,...)\n",
    "```"
   ]
  },
  {
   "cell_type": "code",
   "execution_count": 156,
   "metadata": {
    "collapsed": false
   },
   "outputs": [
    {
     "data": {
      "text/plain": [
       "'First argument: 47, second one: 11'"
      ]
     },
     "execution_count": 156,
     "metadata": {},
     "output_type": "execute_result"
    }
   ],
   "source": [
    "'First argument: {0}, second one: {1}'.format(47,11)"
   ]
  },
  {
   "cell_type": "markdown",
   "metadata": {},
   "source": [
    "En el siguiente ejemplo se demuestra cómo los parámetros se puede utilizar con el método  format. Mayor información en [stackoverflow: % vs .format](http://stackoverflow.com/questions/5082452/python-string-formatting-vs-format)."
   ]
  },
  {
   "cell_type": "code",
   "execution_count": 158,
   "metadata": {
    "collapsed": false
   },
   "outputs": [
    {
     "data": {
      "text/plain": [
       "'Regalo:   453,  Precio:    59.06'"
      ]
     },
     "execution_count": 158,
     "metadata": {},
     "output_type": "execute_result"
    }
   ],
   "source": [
    "\"Regalo: {a:5d},  Precio: {p:8.2f}\".format(a=453, p=59.058)"
   ]
  },
  {
   "cell_type": "markdown",
   "metadata": {},
   "source": [
    "## Diccionarios \n",
    "\n",
    "Una estructura fundamental de Python, es el diccionario, el cual está asociado con *valores* y *claves* y permite recuperar el valor correspondiente a la clave."
   ]
  },
  {
   "cell_type": "code",
   "execution_count": 159,
   "metadata": {
    "collapsed": false
   },
   "outputs": [
    {
     "data": {
      "text/plain": [
       "{'Cesar': 85, 'Milagros': 89}"
      ]
     },
     "execution_count": 159,
     "metadata": {},
     "output_type": "execute_result"
    }
   ],
   "source": [
    "diccionario_vacio ={}\n",
    "diccionario_vacio1 = dict()\n",
    "Mili_notas = {'Cesar': 85, \"Milagros\": 89} # diccionario literal\n",
    "Mili_notas "
   ]
  },
  {
   "cell_type": "markdown",
   "metadata": {},
   "source": [
    "Conseguimos un KeyError si solicitas por una clave que no está en el diccionario"
   ]
  },
  {
   "cell_type": "code",
   "execution_count": 161,
   "metadata": {
    "collapsed": false
   },
   "outputs": [
    {
     "name": "stdout",
     "output_type": "stream",
     "text": [
      "No existen notas para checha!\n"
     ]
    }
   ],
   "source": [
    "try:\n",
    "    Checha_notas = Mili_notas[\"checha\"]\n",
    "except KeyError:\n",
    "    print (\"No existen notas para checha!\")"
   ]
  },
  {
   "cell_type": "code",
   "execution_count": 164,
   "metadata": {
    "collapsed": false
   },
   "outputs": [
    {
     "data": {
      "text/plain": [
       "True"
      ]
     },
     "execution_count": 164,
     "metadata": {},
     "output_type": "execute_result"
    }
   ],
   "source": [
    "# Verificamos la existencia de una clave usando: in\n",
    "\n",
    "mili= 'Milagros' in Mili_notas\n",
    "checha = 'checha' in Mili_notas\n",
    "\n",
    "mili"
   ]
  },
  {
   "cell_type": "markdown",
   "metadata": {},
   "source": [
    "Los diccionarios tienen un método get  que retorna un valor por defecto (en lugar de mostrar una excepción, cuando miras  que la clave no está en el diccionario:"
   ]
  },
  {
   "cell_type": "code",
   "execution_count": 165,
   "metadata": {
    "collapsed": true
   },
   "outputs": [],
   "source": [
    "mili = Mili_notas.get(\"Milagro\", 0)\n",
    "checha = Mili_notas.get(\"checha\", 0) # igual a 0\n",
    "no_hay_notas = Mili_notas.get(\"Ninguna\")   # el valor por defecto es None"
   ]
  },
  {
   "cell_type": "code",
   "execution_count": 169,
   "metadata": {
    "collapsed": false
   },
   "outputs": [
    {
     "data": {
      "text/plain": [
       "0"
      ]
     },
     "execution_count": 169,
     "metadata": {},
     "output_type": "execute_result"
    }
   ],
   "source": [
    "checha"
   ]
  },
  {
   "cell_type": "code",
   "execution_count": 170,
   "metadata": {
    "collapsed": true
   },
   "outputs": [],
   "source": [
    "no_hay_notas"
   ]
  },
  {
   "cell_type": "code",
   "execution_count": 172,
   "metadata": {
    "collapsed": false
   },
   "outputs": [
    {
     "data": {
      "text/plain": [
       "{'Cesar': 91, 'Gabriela': 88, 'Milagros': 89}"
      ]
     },
     "execution_count": 172,
     "metadata": {},
     "output_type": "execute_result"
    }
   ],
   "source": [
    "# Podemos asignar clave-valor  usando los mismos corchetes\n",
    "\n",
    "Mili_notas['Gabriela'] = 88\n",
    "Mili_notas['Cesar'] = 91\n",
    "num_estudiantes = len(Mili_notas)\n",
    "Mili_notas"
   ]
  },
  {
   "cell_type": "markdown",
   "metadata": {},
   "source": [
    "Los diccionarios se usan como una manera simple de representar datos estructurados:"
   ]
  },
  {
   "cell_type": "code",
   "execution_count": 174,
   "metadata": {
    "collapsed": false
   },
   "outputs": [
    {
     "data": {
      "text/plain": [
       "{'hashtag': ['#data', '#science', '#datascience', '#python', '#R'],\n",
       " 'respuestas': 100,\n",
       " 'texto': 'M-L',\n",
       " 'usuario': 'C-Lara'}"
      ]
     },
     "execution_count": 174,
     "metadata": {},
     "output_type": "execute_result"
    }
   ],
   "source": [
    "tweet = { \"usuario\" : \"C-Lara\",\n",
    "        \"texto\" : \"M-L\",\n",
    "    \"respuestas\": 100,\n",
    "    \"hashtag\" : [\"#data\", \"#science\", \"#datascience\", \"#python\", \"#R\"]\n",
    "    }\n",
    "tweet"
   ]
  },
  {
   "cell_type": "markdown",
   "metadata": {},
   "source": [
    "Además de buscar las claves específicas, podemos realizar todas las operaciones anteriores:"
   ]
  },
  {
   "cell_type": "code",
   "execution_count": 176,
   "metadata": {
    "collapsed": false
   },
   "outputs": [
    {
     "data": {
      "text/plain": [
       "True"
      ]
     },
     "execution_count": 176,
     "metadata": {},
     "output_type": "execute_result"
    }
   ],
   "source": [
    "tweet_claves  = tweet.keys() # lista todas las claves\n",
    "tweet_valores = tweet.values() # lista todos los valores\n",
    "tweet_items   = tweet.items()   # lista de (clave, valor) en tuplas\n",
    "'usuario' in tweet_claves\n",
    "'usuario' in  tweet\n",
    "'C-Lara'  in tweet_valores"
   ]
  },
  {
   "cell_type": "code",
   "execution_count": 178,
   "metadata": {
    "collapsed": false
   },
   "outputs": [
    {
     "data": {
      "text/plain": [
       "dict_values(['C-Lara', 100, ['#data', '#science', '#datascience', '#python', '#R'], 'M-L'])"
      ]
     },
     "execution_count": 178,
     "metadata": {},
     "output_type": "execute_result"
    }
   ],
   "source": [
    "tweet_valores"
   ]
  },
  {
   "cell_type": "markdown",
   "metadata": {},
   "source": [
    "Las claves de los diccionarios deben ser inmutables; en particular, no puede utilizar una lista como claves. Si\n",
    "es necesaria una clave se  debe usar una tupla o encontrar una manera de poner la clave en una cadena."
   ]
  },
  {
   "cell_type": "markdown",
   "metadata": {},
   "source": [
    "El módulo **json** proporciona una API para convertir objetos de Python en memoria a una representación serializada conocido como JavaScript Object Notation (JSON). JSON tiene la ventaja de contar con implementaciones en muchos lenguajes (especialmente en JavaScript),  que es adecuado para la comunicación entre aplicaciones. Por ejemplo:"
   ]
  },
  {
   "cell_type": "code",
   "execution_count": 179,
   "metadata": {
    "collapsed": false
   },
   "outputs": [
    {
     "data": {
      "text/plain": [
       "'{\"descarga\": 100, \"precio\": 542.23, \"nombre\": \"Python\"}'"
      ]
     },
     "execution_count": 179,
     "metadata": {},
     "output_type": "execute_result"
    }
   ],
   "source": [
    "import json\n",
    "\n",
    "data = {'nombre' : 'Python',\n",
    "      'descarga' : 100,\n",
    "      'precio' : 542.23,\n",
    "    }\n",
    "\n",
    "json_str = json.dumps(data)\n",
    "json_str   # Codificamos una estructura python en JSON\""
   ]
  },
  {
   "cell_type": "code",
   "execution_count": 180,
   "metadata": {
    "collapsed": false
   },
   "outputs": [
    {
     "data": {
      "text/plain": [
       "dict"
      ]
     },
     "execution_count": 180,
     "metadata": {},
     "output_type": "execute_result"
    }
   ],
   "source": [
    "# Realizamos el proceso inverso\n",
    "\n",
    "data = json.loads(json_str)\n",
    "type(data)"
   ]
  },
  {
   "cell_type": "markdown",
   "metadata": {},
   "source": [
    "EL formato JSON, es casi idéntico a la sintaxis de Python, salvo, algunas diferencias. Por ejemplo True es llevado a true, False es llevado a false y None es llevado a null:"
   ]
  },
  {
   "cell_type": "code",
   "execution_count": 181,
   "metadata": {
    "collapsed": false
   },
   "outputs": [
    {
     "data": {
      "text/plain": [
       "'false'"
      ]
     },
     "execution_count": 181,
     "metadata": {},
     "output_type": "execute_result"
    }
   ],
   "source": [
    "json.dumps(False)"
   ]
  },
  {
   "cell_type": "code",
   "execution_count": 182,
   "metadata": {
    "collapsed": false
   },
   "outputs": [
    {
     "data": {
      "text/plain": [
       "'{\"a\": true, \"c\": null, \"b\": \"Hello\"}'"
      ]
     },
     "execution_count": 182,
     "metadata": {},
     "output_type": "execute_result"
    }
   ],
   "source": [
    "d = {'a' : True,\n",
    "    'b': 'Hello',\n",
    "    'c' : None}\n",
    "json.dumps(d)"
   ]
  },
  {
   "cell_type": "markdown",
   "metadata": {},
   "source": [
    "Basados en el [artículo de John Strickler](https://www.accelebrate.com/blog/using-defaultdict-python/), el tipo defaultdict, es como un diccionario regular, pero es inicializado con una función que no toma argumentos y proporciona el valor por defecto de una clave no existente.  Con el fin de utilizar  defaultdict, tenemos  que importarlos desde collections."
   ]
  },
  {
   "cell_type": "code",
   "execution_count": 183,
   "metadata": {
    "collapsed": false
   },
   "outputs": [
    {
     "name": "stdout",
     "output_type": "stream",
     "text": [
      "Latex\n",
      "python\n"
     ]
    }
   ],
   "source": [
    "import collections\n",
    "from collections import defaultdict\n",
    "\n",
    "lenguajes = defaultdict(lambda:'python')\n",
    "lenguajes[\"Cesar\"] = \"R\"\n",
    "lenguajes[\"Lia\"] = \"Latex\"\n",
    "print(lenguajes[\"Lia\"])\n",
    "print(lenguajes[\"Claudi\"])"
   ]
  },
  {
   "cell_type": "markdown",
   "metadata": {},
   "source": [
    "En este ejemplo, default es usado para contar. La función por defecto es int , la cual a su vez tiene un valor por defecto igual a 0"
   ]
  },
  {
   "cell_type": "code",
   "execution_count": 1,
   "metadata": {
    "collapsed": false
   },
   "outputs": [
    {
     "data": {
      "text/plain": [
       "defaultdict(int, {'C': 1, 'Haskell': 1, 'Latex': 1, 'Python': 1, 'R': 1})"
      ]
     },
     "execution_count": 1,
     "metadata": {},
     "output_type": "execute_result"
    }
   ],
   "source": [
    "from collections import defaultdict\n",
    "\n",
    "lenguaje_lista = 'R Python Haskell C Latex'.split()\n",
    "lenguaje_contador = defaultdict(int)  # El valor por defecto de int es 0\n",
    "\n",
    "for lenguaje in lenguaje_lista :\n",
    "    lenguaje_contador[lenguaje] += 1\n",
    "    \n",
    "lenguaje_contador"
   ]
  },
  {
   "cell_type": "markdown",
   "metadata": {},
   "source": [
    "defaultdict puede ser útil con list, dict o incluso con funciones:"
   ]
  },
  {
   "cell_type": "code",
   "execution_count": 2,
   "metadata": {
    "collapsed": false
   },
   "outputs": [
    {
     "data": {
      "text/plain": [
       "defaultdict(list, {'Java': [1]})"
      ]
     },
     "execution_count": 2,
     "metadata": {},
     "output_type": "execute_result"
    }
   ],
   "source": [
    "lista1_ = defaultdict(list)  # Lista vacia\n",
    "lista1_[\"Java\"].append(1)\n",
    "lista1_"
   ]
  },
  {
   "cell_type": "code",
   "execution_count": 3,
   "metadata": {
    "collapsed": false
   },
   "outputs": [
    {
     "data": {
      "text/plain": [
       "defaultdict(dict, {'Cesar': {'Ciudad': 'Lima'}})"
      ]
     },
     "execution_count": 3,
     "metadata": {},
     "output_type": "execute_result"
    }
   ],
   "source": [
    "# Otro ejemplo\n",
    "\n",
    "dict1_ = defaultdict(dict)   #diccionario vacio\n",
    "dict1_[\"Cesar\"][\"Ciudad\"] = \"Lima\"\n",
    "\n",
    "dict1_"
   ]
  },
  {
   "cell_type": "code",
   "execution_count": 4,
   "metadata": {
    "collapsed": false
   },
   "outputs": [
    {
     "data": {
      "text/plain": [
       "defaultdict(<function __main__.<lambda>>, {2: [0, 1]})"
      ]
     },
     "execution_count": 4,
     "metadata": {},
     "output_type": "execute_result"
    }
   ],
   "source": [
    "# Para el caso de funciones\n",
    "\n",
    "fun1_ = defaultdict(lambda: [0, 0])\n",
    "fun1_[2][1] = 1\n",
    "fun1_"
   ]
  },
  {
   "cell_type": "markdown",
   "metadata": {},
   "source": [
    "Counter es un contenedor que mantiene un registro de cuántas veces se añaden valores equivalentes. Counter es compatible con tres formas de inicialización. Este constructor puede ser llamado con una secuencia de elementos, un diccionario conteniendo  claves y  conteos o usando nombres como argumentos para los conteos:"
   ]
  },
  {
   "cell_type": "code",
   "execution_count": 6,
   "metadata": {
    "collapsed": false
   },
   "outputs": [
    {
     "name": "stdout",
     "output_type": "stream",
     "text": [
      "Counter({'b': 3, 'a': 2, 'c': 1})\n",
      "Counter({'b': 3, 'a': 2, 'c': 1})\n",
      "Counter({'b': 3, 'a': 2, 'c': 1})\n"
     ]
    }
   ],
   "source": [
    "import collections\n",
    "\n",
    "print (collections.Counter(['a', 'b', 'c', 'a', 'b', 'b']))\n",
    "print (collections.Counter({'a':2, 'b':3, 'c':1}))\n",
    "print (collections.Counter(a=2, b=3, c=1))"
   ]
  },
  {
   "cell_type": "markdown",
   "metadata": {},
   "source": [
    "Podemos recuperar los valores desde Counter, de la siguiente forma :"
   ]
  },
  {
   "cell_type": "code",
   "execution_count": 7,
   "metadata": {
    "collapsed": false
   },
   "outputs": [
    {
     "name": "stdout",
     "output_type": "stream",
     "text": [
      "a: 3\n",
      "b: 5\n",
      "c: 3\n",
      "d: 2\n",
      "e: 2\n",
      "f: 0\n"
     ]
    }
   ],
   "source": [
    "import collections\n",
    "\n",
    "d = collections.Counter('abbeeddaabbbccc')\n",
    "for letra in 'abcdef':\n",
    "    print ('%s: %d' %(letra, d[letra]))\n",
    "    "
   ]
  },
  {
   "cell_type": "markdown",
   "metadata": {},
   "source": [
    "Counter no lanza  la excepción KeyError para los elementos desconocidos. Si un valor no se  encuentra (como la f en este ejemplo), el conteo es 0. Mayor información en el artículo de Doug Hellmann [PyMOTW-3](https://pymotw.com/2/collections/counter.html)."
   ]
  },
  {
   "cell_type": "markdown",
   "metadata": {},
   "source": [
    "El método most_common() produce una secuencia de los *n*  valores de entrada que más se 'encuentran' y sus respectivos números de coincidencia."
   ]
  },
  {
   "cell_type": "code",
   "execution_count": 8,
   "metadata": {
    "collapsed": false
   },
   "outputs": [
    {
     "name": "stdout",
     "output_type": "stream",
     "text": [
      "Mas comunes\n",
      " :     223\n",
      "e:     164\n",
      "a:     151\n",
      "s:     118\n",
      "o:     113\n"
     ]
    }
   ],
   "source": [
    "import collections\n",
    "\n",
    "c = collections.Counter()\n",
    "with open('Svm.txt', 'rt') as f:\n",
    "    for linea in f:\n",
    "        c.update(linea.rstrip().lower())\n",
    "        \n",
    "print(\"Mas comunes\")\n",
    "for letra, contador in  c.most_common(5):\n",
    "    print('%s: %7d' % (letra, contador))\n",
    "    "
   ]
  },
  {
   "cell_type": "markdown",
   "metadata": {},
   "source": [
    "[enumerate](https://docs.python.org/3/library/enum.html) es una función integrada de Python. Su utilidad no se puede resumir en una sóla línea.  Sin embargo, la mayoría de los recién llegados e incluso algunos programadores avanzados no son conscientes de ello. Con esta función se  nos permite iterar sobre algo y tener un contador automático.\n",
    "\n",
    "```python \n",
    "for i, valor in enumerate(lista):\n",
    "    print(i, valor)\n",
    "```\n",
    "\n"
   ]
  },
  {
   "cell_type": "code",
   "execution_count": 9,
   "metadata": {
    "collapsed": false
   },
   "outputs": [
    {
     "name": "stdout",
     "output_type": "stream",
     "text": [
      "1 R\n",
      "2 Python\n",
      "3 C++\n",
      "4 JavaScript\n"
     ]
    }
   ],
   "source": [
    "mis_lenguajes= ['R', 'Python', \"C++\", \"JavaScript\"]\n",
    "for i, lenguajes in enumerate(mis_lenguajes, 1):\n",
    "    print(i, lenguajes)\n",
    "    "
   ]
  },
  {
   "cell_type": "markdown",
   "metadata": {},
   "source": [
    "Muchas veces vamos a necesitar  comprimir dos o más listas juntas. La [función zip](https://docs.python.org/3.3/library/functions.html#zip) transforma varias listas en una única lista de tuplas de elementos correspondientes:"
   ]
  },
  {
   "cell_type": "code",
   "execution_count": 10,
   "metadata": {
    "collapsed": false
   },
   "outputs": [
    {
     "data": {
      "text/plain": [
       "[('Erika', 1), ('Delia', 2), ('Milagros', 3)]"
      ]
     },
     "execution_count": 10,
     "metadata": {},
     "output_type": "execute_result"
    }
   ],
   "source": [
    "lista1= ['Erika', 'Delia', 'Milagros']\n",
    "lista2 = [1, 2, 3]\n",
    "lista = zip(lista1, lista2)\n",
    "list(lista)"
   ]
  },
  {
   "cell_type": "markdown",
   "metadata": {},
   "source": [
    "Si las listas tienen diferentes longitud, zip se detiene tan pronto como la primera lista finaliza. Tu puedes 'descomprimir' una lista, usando un 'truco'"
   ]
  },
  {
   "cell_type": "code",
   "execution_count": 12,
   "metadata": {
    "collapsed": false
   },
   "outputs": [
    {
     "data": {
      "text/plain": [
       "('Erika', 'Delia', 'Milagros')"
      ]
     },
     "execution_count": 12,
     "metadata": {},
     "output_type": "execute_result"
    }
   ],
   "source": [
    "chicas = [('Erika', 1), ('Delia', 2), ('Milagros', 3)]\n",
    "lista1, lista2 = zip(*chicas)\n",
    "lista1"
   ]
  },
  {
   "cell_type": "code",
   "execution_count": 13,
   "metadata": {
    "collapsed": false
   },
   "outputs": [
    {
     "data": {
      "text/plain": [
       "(1, 2, 3)"
      ]
     },
     "execution_count": 13,
     "metadata": {},
     "output_type": "execute_result"
    }
   ],
   "source": [
    "lista2"
   ]
  },
  {
   "cell_type": "markdown",
   "metadata": {},
   "source": [
    "## Conjuntos\n",
    "\n",
    "Otra estructura de datos es `set`, que representa una colección de distintos elementos:"
   ]
  },
  {
   "cell_type": "code",
   "execution_count": 14,
   "metadata": {
    "collapsed": false
   },
   "outputs": [
    {
     "data": {
      "text/plain": [
       "(2, True, False)"
      ]
     },
     "execution_count": 14,
     "metadata": {},
     "output_type": "execute_result"
    }
   ],
   "source": [
    "s = set()\n",
    "s.add(1)  # s es ahora { 1 }   \n",
    "s.add(2)  # s es ahora { 1, 2 }\n",
    "s.add(2)  # s es aun  { 1, 2 }\n",
    "x = len(s) # igual a 2\n",
    "y = 2 in s # igual a  True\n",
    "z = 3 in s # igual a  False\n",
    "x, y, z"
   ]
  },
  {
   "cell_type": "markdown",
   "metadata": {},
   "source": [
    "Vamos a utilizar conjuntos por dos razones principales. La primera es que in es una operación es muy rápida con los conjuntos. Si tenemos una gran colección de objetos que queremos utilizar para una prueba de pertenencia, los conjuntos son más apropiados  que las listas:"
   ]
  },
  {
   "cell_type": "code",
   "execution_count": 15,
   "metadata": {
    "collapsed": false
   },
   "outputs": [
    {
     "name": "stdout",
     "output_type": "stream",
     "text": [
      "{'b', 'n'}\n"
     ]
    }
   ],
   "source": [
    "alguna_lista = ['a', 'b', 'c', 'b', 'd', 'm', 'n', 'n']\n",
    "duplicados = set([x for x in alguna_lista if alguna_lista.count(x) > 1])\n",
    "print(duplicados)"
   ]
  },
  {
   "cell_type": "markdown",
   "metadata": {},
   "source": [
    "La segunda razón  es para encontrar distintos ítems en una colección:"
   ]
  },
  {
   "cell_type": "code",
   "execution_count": 16,
   "metadata": {
    "collapsed": false
   },
   "outputs": [
    {
     "data": {
      "text/plain": [
       "(9, {1, 2, 3, 4, 5}, 5, [1, 2, 3, 4, 5])"
      ]
     },
     "execution_count": 16,
     "metadata": {},
     "output_type": "execute_result"
    }
   ],
   "source": [
    "item_lista = [1, 2, 3, 1, 2, 3, 4, 5, 5,]\n",
    "num_items = len(item_lista)\n",
    "item_set = set(item_lista)\n",
    "num_distintos_items = len(item_set)\n",
    "distintos_item_lista = list(item_set)\n",
    "\n",
    "num_items, item_set, num_distintos_items, distintos_item_lista\n"
   ]
  },
  {
   "cell_type": "markdown",
   "metadata": {
    "collapsed": true
   },
   "source": [
    "## Aleatoriedad \n",
    "\n",
    "En análisis de datos, es frecuente generar números aleatorios, el cual puede hacerse con el módulo [random](https://docs.python.org/3.0/library/random.html):"
   ]
  },
  {
   "cell_type": "code",
   "execution_count": 17,
   "metadata": {
    "collapsed": false
   },
   "outputs": [
    {
     "data": {
      "text/plain": [
       "[0.3534234522330121, 0.6905045774325141, 0.61963476214888, 0.9919302336166624]"
      ]
     },
     "execution_count": 17,
     "metadata": {},
     "output_type": "execute_result"
    }
   ],
   "source": [
    "import random \n",
    "\n",
    "cuatro_elementos_aleatorios = [random.random() for _ in range(4)]\n",
    "cuatro_elementos_aleatorios"
   ]
  },
  {
   "cell_type": "markdown",
   "metadata": {},
   "source": [
    "El módulo random, produce [números pseudoaleatorios](https://es.wikipedia.org/wiki/N%C3%BAmero_pseudoaleatorio). Las funciones a las que hacemos referencia, cada vez que son invocadas, devuelven un valor de una secuencia de números predeterminada. Esta secuencia tiene un periodo bastante largo, es decir, es necesario obtener muchos números antes de que se vuelva a reproducir la misma secuencia. De ahí, el tratamiento de pseudo (o falso), aunque la utilidad que nos ofrezca sea equivalente al de los números aleatorios. Cuando nos interese obtener varias veces la misma secuencia de números pseudoaleatoria se puede utilizar la función  [random.seed](http://stackoverflow.com/questions/22639587/random-seed-what-does-it-do)  que fija mediante una *semilla* el mismo comienzo en cada secuencia, permitiendo con ello obtener series con los mismos valores:"
   ]
  },
  {
   "cell_type": "code",
   "execution_count": 18,
   "metadata": {
    "collapsed": false
   },
   "outputs": [
    {
     "name": "stdout",
     "output_type": "stream",
     "text": [
      "0.23604808973743452\n",
      "0.23604808973743452\n",
      "0.23604808973743452\n",
      "0.23604808973743452\n"
     ]
    }
   ],
   "source": [
    "random.seed(4)\n",
    "print (random.random())\n",
    "random.seed(4)\n",
    "print (random.random())\n",
    "random.seed(4)\n",
    "print (random.random())\n",
    "random.seed(4)\n",
    "print (random.random())"
   ]
  },
  {
   "cell_type": "markdown",
   "metadata": {},
   "source": [
    "Algunas veces usamos la función random.randrange que devuelve enteros que van desde un valor inicial a otro final separados entre sí un número de valores determinados. Esta separación (o paso) se utiliza en primer lugar con el valor inicial para calcular el siguiente valor y los sucesivos hasta llegar al valor final o al más cercano posible."
   ]
  },
  {
   "cell_type": "code",
   "execution_count": 19,
   "metadata": {
    "collapsed": false
   },
   "outputs": [
    {
     "data": {
      "text/plain": [
       "3"
      ]
     },
     "execution_count": 19,
     "metadata": {},
     "output_type": "execute_result"
    }
   ],
   "source": [
    "random.randrange(3, 6) # Escoge aleatoriamente desde el rango[3,4,5]"
   ]
  },
  {
   "cell_type": "markdown",
   "metadata": {},
   "source": [
    "Hay otros métodos que también pueden ser convenientes. random.shuffle, mezcla o cambia aleatoriamente el orden de los elementos de una lista antes de realizar la selección de alguno de ellos."
   ]
  },
  {
   "cell_type": "code",
   "execution_count": 20,
   "metadata": {
    "collapsed": false
   },
   "outputs": [
    {
     "name": "stdout",
     "output_type": "stream",
     "text": [
      "[4, 1, 8, 3, 5, 9, 0, 2, 7, 6]\n"
     ]
    }
   ],
   "source": [
    "hasta_diez = list(range(10))\n",
    "random.shuffle(hasta_diez)\n",
    "print (hasta_diez)"
   ]
  },
  {
   "cell_type": "markdown",
   "metadata": {},
   "source": [
    "Si necesitamos aleatoriamente escoger un elemento de una lista, podemos usar la función random.choice()"
   ]
  },
  {
   "cell_type": "code",
   "execution_count": 21,
   "metadata": {
    "collapsed": false
   },
   "outputs": [
    {
     "data": {
      "text/plain": [
       "'Python'"
      ]
     },
     "execution_count": 21,
     "metadata": {},
     "output_type": "execute_result"
    }
   ],
   "source": [
    "mis_lenguajes_favoritos = random.choice(['Python', 'R', 'JavaScript', 'SQL', \"C\"])\n",
    "mis_lenguajes_favoritos"
   ]
  },
  {
   "cell_type": "markdown",
   "metadata": {},
   "source": [
    "Para escoger de manera aleatoria una muestra de elementos sin reemplazamiento ( sin duplicados), podemos usar la función random.sample():"
   ]
  },
  {
   "cell_type": "code",
   "execution_count": 22,
   "metadata": {
    "collapsed": false
   },
   "outputs": [
    {
     "data": {
      "text/plain": [
       "[14, 33, 34, 23, 17, 49]"
      ]
     },
     "execution_count": 22,
     "metadata": {},
     "output_type": "execute_result"
    }
   ],
   "source": [
    "numeros_loteria = list(range(60))\n",
    "numeros_ganadores = random.sample(numeros_loteria, 6)\n",
    "numeros_ganadores"
   ]
  },
  {
   "cell_type": "markdown",
   "metadata": {},
   "source": [
    "Para escoger una muestra de elementos con reemplazo (se permite duplicados), se hace llamadas múltiples a random.choice():"
   ]
  },
  {
   "cell_type": "code",
   "execution_count": 23,
   "metadata": {
    "collapsed": false
   },
   "outputs": [
    {
     "data": {
      "text/plain": [
       "[2, 1, 4, 3]"
      ]
     },
     "execution_count": 23,
     "metadata": {},
     "output_type": "execute_result"
    }
   ],
   "source": [
    "cuatro_con_reemplazamiento = [random.choice(list(range(10)) ) for _ in range(4)]\n",
    "cuatro_con_reemplazamiento"
   ]
  },
  {
   "cell_type": "markdown",
   "metadata": {},
   "source": [
    "## Expresiones regulares\n",
    "\n",
    "Las [expresiones regulares](https://docs.python.org/3/library/re.html) proporcionan una manera de buscar patrones en los textos. Estas son increiblemente útiles, pero bastante complicadas, de forma que hay libros enteros escritos acerca de ellos. Mostremos algunos ejemplos acerca de sus aplicaciones.  \n",
    "\n",
    "\n",
    "El método re.search() toma un patrón sobre  expresión regular y una cadena y busca ese patrón dentro de la cadena. Si la búsqueda es exitosa, search() devuelve un objeto que cumple con ese patrón o None en caso contrario. Por lo tanto, la búsqueda es generalmente seguida  por una sentencia if para comprobar si la búsqueda tuvo éxito."
   ]
  },
  {
   "cell_type": "code",
   "execution_count": 24,
   "metadata": {
    "collapsed": false
   },
   "outputs": [
    {
     "name": "stdout",
     "output_type": "stream",
     "text": [
      "palabra no encontrada \n"
     ]
    }
   ],
   "source": [
    "import re\n",
    "\n",
    "str = 'un ejemplo de  palabra:cat!!'\n",
    "match = re.search(r'palabra:\\\\w\\\\w\\\\w', str)\n",
    "if match:\n",
    "    print ('Encontramos la ', match.group() )\n",
    "else:\n",
    "    print ('palabra no encontrada ')"
   ]
  },
  {
   "cell_type": "markdown",
   "metadata": {},
   "source": [
    "El módulo re incluye funciones  para trabajar con expresiones regulares como cadena de textos, pero es usualmente más eficiente *compilar* las expresiones que tu programa usa frecuentemente. La función compile() convierte una cadena en un RegexObject."
   ]
  },
  {
   "cell_type": "code",
   "execution_count": 25,
   "metadata": {
    "collapsed": false
   },
   "outputs": [
    {
     "name": "stdout",
     "output_type": "stream",
     "text": [
      " Buscando por sc en Scala y python son lenguajes de programacion? ->\n",
      "No hay emparejamientos\n",
      " Buscando por py en Scala y python son lenguajes de programacion? ->\n",
      "Encontramos un emparejamiento\n"
     ]
    }
   ],
   "source": [
    "import re\n",
    "\n",
    "# Precompilamos el patron del texto\n",
    "\n",
    "regexes = [re.compile(p) for p in ['sc','py']]\n",
    "\n",
    "texto = \"Scala y python son lenguajes de programacion?\"\n",
    "for regex in regexes:\n",
    "    print(' Buscando por %s en %s ->' %(regex.pattern, texto),)\n",
    "    if regex.search(texto):\n",
    "        print ('Encontramos un emparejamiento')\n",
    "    else:\n",
    "        print ('No hay emparejamientos')"
   ]
  },
  {
   "cell_type": "code",
   "execution_count": null,
   "metadata": {
    "collapsed": true
   },
   "outputs": [],
   "source": []
  }
 ],
 "metadata": {
  "kernelspec": {
   "display_name": "Python 3",
   "language": "python",
   "name": "python3"
  },
  "language_info": {
   "codemirror_mode": {
    "name": "ipython",
    "version": 3
   },
   "file_extension": ".py",
   "mimetype": "text/x-python",
   "name": "python",
   "nbconvert_exporter": "python",
   "pygments_lexer": "ipython3",
   "version": "3.5.1"
  }
 },
 "nbformat": 4,
 "nbformat_minor": 0
}
