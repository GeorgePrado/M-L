{
 "cells": [
  {
   "cell_type": "markdown",
   "metadata": {},
   "source": [
    "# Programación orientada a objetos en Python\n",
    "\n",
    "## Referencias\n",
    "\n",
    "* Python 3 Object Oriented Programming, Dusty Phillips Packt Publishing 2010.\n",
    "* [Composing Programs](http://composingprograms.com/) Introducción online de Programación y Ciencia de la Computación, de la Universidad de Berkeley, escrita por John DeNero, basado en el Libro: Structure and Interpretation of Computer Programs SICP de Harold Abelson y Gerald Jay Sussman y Julie Sussman. "
   ]
  },
  {
   "cell_type": "markdown",
   "metadata": {},
   "source": [
    "La programación orientada a objetos es un paradigma de la programación que utiliza objetos y sus interacciones para diseñar aplicaciones y programas informáticos. Algunas palabras claves:\n",
    "\n",
    "- **Objetos ** combinan estados (datos) y comportamiento (algoritmos).\n",
    "\n",
    "\n",
    "\n",
    "- **Encapsulación ** Sólo lo que es necesario es expuesto (interfaz pública) al exterior. Los detalles de implementación se ocultan para la abstracción. La abstracción no debería filtrar detalles de  la implementación. Abstracción nos permite romper un gran problema en partes más comprensibles.\n",
    "\n",
    "\n",
    "\n",
    "- **Clases ** La clase de un objeto es su *tipo* (las clases son tipos objetos).\n",
    "\n",
    "\n",
    "\n",
    "- **Herencia **  es una manera de formar nuevas clases utilizando las clases que ya se han definido. El principio  de subtitución de Liskov (Lo que trabaja para una superclase debería trabajar para alguna subclase).\n",
    "\n",
    "\n",
    "\n",
    "- **Polimorfismo ** diferentes subclases pueden ser consideradas como superclases,  pero su ejecución es un comportamiento especializado. Por ejemplo cuando dejamos que un mamífero haga un sonido que es una instancia de la clase perro, entonces tenemos un ladrido."
   ]
  },
  {
   "cell_type": "markdown",
   "metadata": {},
   "source": [
    "### Algunas observaciones\n",
    "\n",
    "* Python es un lenguaje de tipos dinámicos, lo que significa que el tipo (clase) de una variable sólo se conoce cuando el código se ejecuta.\n",
    "\n",
    "\n",
    "\n",
    "* `Duck Typing ` No hay necesidad de saber la clase de un objeto si se ofrece los métodos necesarios.  \"Cuando veo un pájaro que camina como un pato y nada como un pato y grazna como un pato, yo  llamo a ese pájaro un pato.\"\n",
    "\n",
    "\n",
    "\n",
    "* La verificación de tipos puede ser realizado a través de la función `isinstance`, pero por lo general se prefiere `duck Typing` y polimorfismo.\n",
    "\n",
    "\n",
    "\n",
    "* Python se basa en la convención y la documentación en lugar de la ejecución. Para ejecutar  atributos privados se utiliza un solo guión abajo para indicar que un atributo no está destinado para uso público (encapsulación).\n"
   ]
  },
  {
   "cell_type": "code",
   "execution_count": 32,
   "metadata": {
    "collapsed": false
   },
   "outputs": [
    {
     "name": "stdout",
     "output_type": "stream",
     "text": [
      "Hola amigos, ni nombre es Cesar\n"
     ]
    }
   ],
   "source": [
    "# Un ejemplo de clases en Python\n",
    "\n",
    "class Persona: \n",
    "    \n",
    "    def __init__(self,nombre):\n",
    "        self.nombre = nombre\n",
    "        \n",
    "    def persona_hola(self):\n",
    "        print (\"Hola amigos, ni nombre es\", self.nombre)\n",
    "        \n",
    "    def persona_despide(self):\n",
    "        print(\"%s se despide!\" %self.nombre)\n",
    "\n",
    "A = Persona(\"Cesar\")\n",
    "A.persona_hola()"
   ]
  },
  {
   "cell_type": "markdown",
   "metadata": {},
   "source": [
    "En este ejemplo incluye: **definición de clases , función constructor, atributos, definición de métodos** y **definición de objetos **."
   ]
  },
  {
   "cell_type": "markdown",
   "metadata": {},
   "source": [
    "AL igual que trabajar con *funciones*, hay otra manera de organizar programas en Python, que es la combinación de datos y un conjunto de funcionalidades envueltos  dentro de algo que se llama  **objeto**.\n",
    "Esto es lo que se conoce como  **el paradigma de la programación orientada a objetos**, muy útil cuando se escriben  programas grandes o tienes un problema que se adapta mejor a este método.\n",
    "\n",
    "Las **clases** y los **objetos** son los dos aspectos principales de la programación orientada a objetos. Una *clase* crea un nuevo *tipo* donde los objetos son instancias(instances) de la clase. Una analogía o ejemplo a esto  es que se puede tener variables de *tipo int* que se traslada  a decir que las variables que almacenan números enteros son  instancias (objetos) de la *clase int*."
   ]
  },
  {
   "cell_type": "markdown",
   "metadata": {},
   "source": [
    "## Definición  de clase y instanciación de objetos\n",
    "\n",
    "* Sintaxis de definición de clases:\n",
    "\n",
    "```python\n",
    "class subclase[(superclase)]:\n",
    "    [atributos y metodos]\n",
    "```\n",
    "\n",
    "* Sintaxis de instanciación de objetos\n",
    "\n",
    "```python\n",
    "\n",
    "objeto = subclase()\n",
    "\n",
    "```"
   ]
  },
  {
   "cell_type": "markdown",
   "metadata": {},
   "source": [
    "Los objetos  pueden almacenar  datos usando  variables ordinarias que pertenecen al objeto. Las variables que pertenecen a un objeto o clase se conocen como **campos**."
   ]
  },
  {
   "cell_type": "code",
   "execution_count": 9,
   "metadata": {
    "collapsed": false
   },
   "outputs": [
    {
     "name": "stdout",
     "output_type": "stream",
     "text": [
      "<__main__.Persona object at 0x7fc18403cc18>\n"
     ]
    }
   ],
   "source": [
    "# Ejemplo básico\n",
    "\n",
    "class Persona:\n",
    "    pass  # bloque vacio\n",
    "\n",
    "p = Persona()\n",
    "\n",
    "print(p)"
   ]
  },
  {
   "cell_type": "markdown",
   "metadata": {},
   "source": [
    "Creamos una nueva clase con la sentencia *class* y el nombre de la clase. Esto es seguido por un bloque identado de los declaraciones  que forman el cuerpo de la clase. En este caso, tenemos un bloque vacío que está indicado mediante la instrucción *pass*.\n",
    "\n",
    "A continuación, creamos un objeto (instancia) de esta clase utilizando el nombre de la clase seguido de un par de paréntesis. Si imprimimos este objeto, nos dice que tenemos una instancia de la clase *Persona* en el módulo `__main__`.\n",
    "Observe la dirección de la memoria donde se almacena el objeto también se imprime. \n",
    "\n",
    "\n",
    "Las clases incluyen dos miembros:forma y objeto, como se indica en el siguiente ejemplo:"
   ]
  },
  {
   "cell_type": "code",
   "execution_count": 3,
   "metadata": {
    "collapsed": false
   },
   "outputs": [
    {
     "name": "stdout",
     "output_type": "stream",
     "text": [
      "Milagros\n",
      "Milagros se ha ido\n"
     ]
    }
   ],
   "source": [
    "class C1 :\n",
    "    i = \"Milagros\"\n",
    "    def __init__(self):\n",
    "        self.i = \"Milagros se ha ido\"\n",
    "        \n",
    "print (C1.i)      # se invoca una forma, solo se invoca data o metodo de una clase\n",
    "print(C1().i)     # se invoca un objeto, se inicializa el objeto, entonces luego se invoca la data o los metodos"
   ]
  },
  {
   "cell_type": "markdown",
   "metadata": {},
   "source": [
    "## Invocando atributos y métodos\n",
    "\n",
    "Un atributo de un objeto es un par nombre-valor asociado al objeto, que es accesible a través de la notación de punto. Los atributos específicos de un objeto en particular, a diferencia de todos los objetos de una clase, se denominan *atributos de objeto (instancia)*.\n",
    "\n",
    "* `objeto.atributo`\n",
    "\n",
    "Funciones que operan en el objeto o realizar cálculos específicos del objeto son llamados *métodos*. Los valores de retorno y los efectos secundarios de un método pueden depender y cambiar los atributos del objeto, es decir los objetos también pueden tener funcionalidad mediante el uso de funciones que pertenecen a una clase. \n",
    "\n",
    "Esta terminología es importante porque nos ayuda a diferenciar entre las funciones y variables que son independientes y aquellos que pertenecen a una clase o un objeto. \n",
    "\n",
    "\n",
    "* `objeto.metodo()`\n",
    "\n",
    "En conjunto, los campos y métodos pueden ser referidos como los atributos de una  clase. Los campos  son de dos tipos: los que pertenecer a un objeto (instancia) de la clase o pueden pertenecer a la clase misma. Ellas se  llaman variables de instancia y variables de clase, respectivamente."
   ]
  },
  {
   "cell_type": "code",
   "execution_count": 40,
   "metadata": {
    "collapsed": false
   },
   "outputs": [
    {
     "name": "stdout",
     "output_type": "stream",
     "text": [
      "Hola, que hay de nuevo?\n"
     ]
    }
   ],
   "source": [
    "class Persona:\n",
    "    def persona_hola(self):\n",
    "        print('Hola, que hay de nuevo?')\n",
    "\n",
    "p = Persona()\n",
    "p.persona_hola()"
   ]
  },
  {
   "cell_type": "markdown",
   "metadata": {},
   "source": [
    "Aquí vemos `self` en acción. Observe que el método  `persona_hola` no tiene paramétros, pero todavía tiene `self` en la definición de función."
   ]
  },
  {
   "cell_type": "markdown",
   "metadata": {},
   "source": [
    "##  self\n",
    "\n",
    "Equivalencias:\n",
    "\n",
    "- Puntero `this` de C++.\n",
    "- Referencia `this ` de Java o C#.\n",
    "\n",
    "\n",
    "\n",
    "Los métodos de clase sólo tienen una diferencia específica de las funciones ordinarias - que debe tener un nombre adicional que tiene que ser añadido al principio de la lista de parámetros, pero no debemos  darle un  valor a este parámetro cuando se llama al método, Python proporcionará eso. Esta variable en particular se refiere al objeto en sí mismo, y por convención, se le da el nombre de `self`.\n",
    "\n",
    "Aunque, se puede dar cualquier nombre para este parámetro, se recomienda encarecidamente que utilice el nombre de `self`."
   ]
  },
  {
   "cell_type": "code",
   "execution_count": 46,
   "metadata": {
    "collapsed": false
   },
   "outputs": [],
   "source": [
    "# Ejemplo \n",
    "\n",
    "class Banco(object):\n",
    "    deudas = False\n",
    "    def sucursal1(self):\n",
    "        if not self.deudas:\n",
    "            print(\"Sucursal 1 abierta\")\n",
    "\n"
   ]
  },
  {
   "cell_type": "markdown",
   "metadata": {},
   "source": [
    "Ahora se puede ver que `self`se refiere a la variable ligada u objeto. En el primer caso se trataba de x porque habíamos asignado  la clase Banco a x mientras que en el segundo caso se refiere `Banco()`.\n",
    "\n",
    "Ahora bien, si tenemos otro Banco y , `self` sabrá como acceder al valor deuda de y pero  no x:"
   ]
  },
  {
   "cell_type": "code",
   "execution_count": 47,
   "metadata": {
    "collapsed": false
   },
   "outputs": [
    {
     "data": {
      "text/plain": [
       "False"
      ]
     },
     "execution_count": 47,
     "metadata": {},
     "output_type": "execute_result"
    }
   ],
   "source": [
    "x = Banco()  # a es un banco que tiene la propiedad deudas y la funcion sucursal1\n",
    "x.deudas     # accedemos a la propiedad deudas (Banco().deudas)"
   ]
  },
  {
   "cell_type": "code",
   "execution_count": 48,
   "metadata": {
    "collapsed": false
   },
   "outputs": [
    {
     "data": {
      "text/plain": [
       "True"
      ]
     },
     "execution_count": 48,
     "metadata": {},
     "output_type": "execute_result"
    }
   ],
   "source": [
    "y = Banco()\n",
    "y.deudas = True\n",
    "y.deudas"
   ]
  },
  {
   "cell_type": "code",
   "execution_count": 49,
   "metadata": {
    "collapsed": false
   },
   "outputs": [
    {
     "data": {
      "text/plain": [
       "False"
      ]
     },
     "execution_count": 49,
     "metadata": {},
     "output_type": "execute_result"
    }
   ],
   "source": [
    "x.deudas"
   ]
  },
  {
   "cell_type": "markdown",
   "metadata": {},
   "source": [
    "Existen algunos atributos especiales que son proporcionados por el objeto módulo\n",
    "\n",
    "```\n",
    "__dict __     : Variable diccionario del espacio de nombre de la clase\n",
    "\n",
    "__doc__       : Devuelve la  cadena de documentación de un módulo  en la clase\n",
    "\n",
    "__name__      : nombre de la clase\n",
    "\n",
    "__module__    : Nombre de los módulos en la clase\n",
    "\n",
    "__bases__     : Tupla incluyendo las superclases\n",
    "```\n",
    "\n",
    "Mayor información en [https://docs.python.org/3/reference/datamodel.html](https://docs.python.org/3/reference/datamodel.html).\n",
    "\n",
    "\n",
    "Las clases en Python pueden implementar ciertas operaciones con  nombres de métodos especiales. Estos métodos no son llamados directamente, sino por una sintaxis del lenguaje específico. Esto es similar a lo que se conoce como la sobrecarga de operadores en C ++ o Ruby. Por ejemplo"
   ]
  },
  {
   "cell_type": "code",
   "execution_count": 41,
   "metadata": {
    "collapsed": false
   },
   "outputs": [
    {
     "name": "stdout",
     "output_type": "stream",
     "text": [
      "Un libro es creado\n",
      "Titulo:Mundo Anillo , autor:Larry Niven, paginas:310 \n",
      "310\n",
      "Un libro es leido de la biblioteca\n"
     ]
    },
    {
     "data": {
      "text/plain": [
       "'__main__'"
      ]
     },
     "execution_count": 41,
     "metadata": {},
     "output_type": "execute_result"
    }
   ],
   "source": [
    "# Un ejemplo de clases y metodos especiales\n",
    "\n",
    "class Libro:\n",
    "    \n",
    "    def __init__(self, titulo, autor, paginas):\n",
    "        print (\"Un libro es creado\")\n",
    "        self.titulo = titulo\n",
    "        self.autor = autor\n",
    "        self.paginas = paginas\n",
    "        \n",
    "    def __str__(self):\n",
    "        return \"Titulo:%s , autor:%s, paginas:%s \" % \\\n",
    "            (self.titulo, self.autor, self.paginas)\n",
    "        \n",
    "    def __len__(self):\n",
    "        return self.paginas\n",
    "\n",
    "    def __del__(self):\n",
    "        print (\"Un libro es leido de la biblioteca\")\n",
    "        \n",
    "    \n",
    "\n",
    "\n",
    "libro = Libro(\"Mundo Anillo\", \"Larry Niven\", 310)\n",
    "print(libro)\n",
    "print(len(libro))\n",
    "del (libro)\n",
    "Libro.__module__\n"
   ]
  },
  {
   "cell_type": "code",
   "execution_count": 42,
   "metadata": {
    "collapsed": false
   },
   "outputs": [
    {
     "data": {
      "text/plain": [
       "object"
      ]
     },
     "execution_count": 42,
     "metadata": {},
     "output_type": "execute_result"
    }
   ],
   "source": [
    "\n",
    "Libro.__base__"
   ]
  },
  {
   "cell_type": "markdown",
   "metadata": {},
   "source": [
    "En Python, una clase puede implementar ciertas operaciones que se invocan mediante una sintaxis especial (como las operaciones aritméticas o subíndices ) mediante la definición de métodos con nombres especiales. Este es el enfoque de Python para la sobrecarga de operadores, permitiendo que las clases puedan  definir su propio comportamiento con respecto a los operadores del lenguaje. Por ejemplo"
   ]
  },
  {
   "cell_type": "code",
   "execution_count": 43,
   "metadata": {
    "collapsed": false
   },
   "outputs": [
    {
     "data": {
      "text/plain": [
       "(5/6, 1/6, 1/6, 3/2)"
      ]
     },
     "execution_count": 43,
     "metadata": {},
     "output_type": "execute_result"
    }
   ],
   "source": [
    "class Numero_racional:\n",
    "    \n",
    "    \"\"\"\n",
    "    Operaciones sobre el conjunto de los numeros racionales\n",
    "    \"\"\"\n",
    "    \n",
    "    def __init__(self, numerador, denominador=1):\n",
    "        self.n = numerador\n",
    "        self.d = denominador\n",
    "\n",
    "    def __add__(self, otro):\n",
    "        if not isinstance(otro,  Numero_racional):\n",
    "            otro = Numero_racional(otro)\n",
    "\n",
    "        n = self.n * otro.d + self.d * otro.n\n",
    "        d = self.d * otro.d\n",
    "        return Numero_racional(n, d)\n",
    "\n",
    "    def __sub__(self, otro):\n",
    "        if not isinstance(otro, Numero_racional):\n",
    "            otro = Numero_racional(otro)\n",
    "\n",
    "        n1, d1 = self.n, self.d\n",
    "        n2, d2 = otro.n, otro.d\n",
    "        return Numero_racional(n1*d2 - n2*d1, d1*d2)\n",
    "\n",
    "    def __mul__(self, otro):\n",
    "        if not isinstance(otro, Numero_racional):\n",
    "            otro = Numero_racional(otro)\n",
    "\n",
    "        n1, d1 = self.n, self.d\n",
    "        n2, d2 = otro.n, otro.d\n",
    "        return Numero_racional(n1*n2, d1*d2)\n",
    "\n",
    "    def __truediv__(self, otro):\n",
    "        if not isinstance(otro, Numero_racional):\n",
    "            otro = Numero_racional(otro)\n",
    "\n",
    "        n1, d1 = self.n, self.d\n",
    "        n2, d2 = otro.n, otro.d\n",
    "        return RationalNumber(n1*d2, d1*n2)\n",
    "\n",
    "    def __str__(self):\n",
    "        return \"%s/%s\" % (self.n, self.d)\n",
    "\n",
    "    __repr__ = __str__\n",
    "    \n",
    "\n",
    "a = Numero_racional(1, 2)\n",
    "b = Numero_racional(1, 3)\n",
    "a + b, a - b, a * b, a/b"
   ]
  },
  {
   "cell_type": "code",
   "execution_count": 37,
   "metadata": {
    "collapsed": false
   },
   "outputs": [
    {
     "data": {
      "text/plain": [
       "'\\n    Operaciones sobre el conjunto de los numeros racionales\\n    '"
      ]
     },
     "execution_count": 37,
     "metadata": {},
     "output_type": "execute_result"
    }
   ],
   "source": [
    "Numero_racional.__doc__"
   ]
  },
  {
   "cell_type": "markdown",
   "metadata": {},
   "source": [
    "## El método `__init__()`\n",
    "\n",
    "\n",
    "El método `__init__ `se ejecuta tan pronto como un objeto de una clase es instanciado. Su objetivo es inicializar el objeto."
   ]
  },
  {
   "cell_type": "code",
   "execution_count": 39,
   "metadata": {
    "collapsed": false
   },
   "outputs": [
    {
     "name": "stdout",
     "output_type": "stream",
     "text": [
      "Hola amigos, ni nombre es Python\n"
     ]
    }
   ],
   "source": [
    "class Persona: \n",
    "    \n",
    "    def __init__(self,nombre):\n",
    "        self.nombre = nombre\n",
    "        \n",
    "    def persona_hola(self):\n",
    "        print (\"Hola amigos, ni nombre es\", self.nombre)\n",
    "        \n",
    "    def persona_despide(self):\n",
    "        print(\"%s se despide!\" %self.nombre)\n",
    "\n",
    "p = Persona(\"Python\")\n",
    "p.persona_hola()"
   ]
  },
  {
   "cell_type": "markdown",
   "metadata": {},
   "source": [
    "\n",
    "En el ejemplo  definimos  el método `__init__`  tomando como  parámetros a `nombre` (junto con `self`). Aquí, solo  creamos también un nuevo campo llamado `nombre`. Debes notar que  estas dos variables son  diferentes a pesar de que ambas son llamadas \"nombre\". No hay ningún problema porque ls notación  `self.name` significa que hay algo que se llama \"nombre\" que forma parte del objeto llamado \"self\" y el otro nombre es una variable local. \n",
    "\n",
    "Cuando creamos una nueva instancia `p`, de la clase Persona, lo hacemos utilizando el nombre de la clase, seguido de los argumentos entre paréntesis: `p = Persona ('Python')`. No llamamos  explícitamente al método `__init__`. Este es el significado especial de este método.\n",
    "Ahora, somos capaces de utilizar el campo `self.name` en nuestros métodos que se demuestra en el método `persona_hola`."
   ]
  },
  {
   "cell_type": "code",
   "execution_count": 29,
   "metadata": {
    "collapsed": false
   },
   "outputs": [
    {
     "data": {
      "text/plain": [
       "<bound method Dado.lanzamiento of <__main__.Dado object at 0x7f1f042d6a90>>"
      ]
     },
     "execution_count": 29,
     "metadata": {},
     "output_type": "execute_result"
    }
   ],
   "source": [
    "# Otro ejemplo\n",
    "\n",
    "import random \n",
    "\n",
    "class Dado(object):   #derivamos desde object para una nueva clase\n",
    "    \n",
    "    def __init__(self, lados = 6):\n",
    "        \n",
    "        self._lados = lados # cargamos el guion bajo, señal de privado\n",
    "        self._valores = None \n",
    "        self.lanzamiento()\n",
    "        \n",
    "    def lanzamiento(self):\n",
    "        \"\"\"Lanzamos el dado y retornamos el resultado\"\"\"\n",
    "        \n",
    "        self._valores = 1 + random.randrange(self._lados)\n",
    "        return self._valores\n",
    "        \n",
    "    def __str__(self):\n",
    "        \"\"\"Retorna una cadena con una descripcion del estado del dado\"\"\"\n",
    "        \n",
    "        return \"Dado con %d lados, con un valor %d\" %(self._lados, self._valores)\n",
    "            \n",
    "\n",
    "dado = Dado()\n",
    "dado._lados   # no podemos acceder a esto resultado\n",
    "dado.lanzamiento\n",
    "    "
   ]
  },
  {
   "cell_type": "code",
   "execution_count": 30,
   "metadata": {
    "collapsed": false
   },
   "outputs": [
    {
     "name": "stdout",
     "output_type": "stream",
     "text": [
      "2\n",
      "1\n",
      "2\n",
      "5\n",
      "5\n",
      "4\n",
      "3\n",
      "2\n",
      "3\n",
      "1\n"
     ]
    }
   ],
   "source": [
    "# más del ejemplo \n",
    "\n",
    "for _ in range(10):\n",
    "    print (dado.lanzamiento())"
   ]
  },
  {
   "cell_type": "code",
   "execution_count": 31,
   "metadata": {
    "collapsed": false
   },
   "outputs": [
    {
     "name": "stdout",
     "output_type": "stream",
     "text": [
      "Dado con 6 lados, con un valor 1\n"
     ]
    }
   ],
   "source": [
    "# más del ejemplo: esto llama a __str__\n",
    "\n",
    "print(dado)"
   ]
  },
  {
   "cell_type": "markdown",
   "metadata": {},
   "source": [
    "## Variables de clases y objetos\n",
    "\n",
    "La parte de la funcionalidad de las clases y objetos son los  métodos. La parte de datos, es decir, los campos, no son más que las variables ordinarias que están enlazados a los espacios de nombres de las clases y objetos. Esto significa que estos nombres son válidos en el contexto de estas clases y objetos (eso se llama espacio de nombres).\n",
    "\n",
    "Hay dos tipos de campos:  `variables de clase`  y `variables de objeto` que se clasifican en función de si son parte de la clase o el objeto  respectivamente.\n",
    "\n",
    "Las **variables de clase** son compartidas, es decir  pueden ser accedidas por todas las instancias de la clase. Sólo hay una copia de la variable de clase y cuando cualquier objeto realiza un cambio en una variable de clase,  el cambio será visto por las otras instancias.\n",
    "\n",
    "Las **variables de objeto** son propiedad de cada objeto (instancia ) de la clase. En este caso, cada objeto tiene una   copia propia  del campo es decir, que las variables de objeto no son compartidas y no están relacionadas de alguna manera con el campo del  mismo nombre de una instancia diferente. "
   ]
  },
  {
   "cell_type": "code",
   "execution_count": 50,
   "metadata": {
    "collapsed": false
   },
   "outputs": [
    {
     "name": "stdout",
     "output_type": "stream",
     "text": [
      "(Inicializando  R2-D2)\n",
      "Saludos, jefe llamame1.\n",
      "Nosotros tenemos 1 robots.\n",
      "(Inicializando  C-3PO)\n",
      "Saludos, jefe llamame2.\n",
      "Nosotros tenemos 2 robots.\n",
      "\n",
      "Robots  pueden hacer algun trabajo aqui .\n",
      "\n",
      "Robots finaliza su trabajo. Puedes cambiarme a otro trabajo.\n",
      "R2-D2 esta siendo cambiado!\n",
      "Hay aun   1 robots trabajando.\n",
      "C-3PO esta siendo cambiado!\n",
      "C-3PO fue el ultimo.\n",
      "Nosotros tenemos 0 robots.\n"
     ]
    }
   ],
   "source": [
    "# Ejemplo desde A Byte of Python\n",
    "\n",
    "class Robot:\n",
    "    \n",
    "    \"\"\"Representa un  robot, con un nombre\"\"\"\n",
    "\n",
    "    # Una variable de clase , contando el numero de robots \n",
    "    \n",
    "    poblacion = 0\n",
    "\n",
    "    def __init__(self, nombre):\n",
    "        \n",
    "        \"\"\"Inicializamos los datos.\"\"\"\n",
    "        \n",
    "        self.nombre = nombre\n",
    "        \n",
    "        print(\"(Inicializando  {})\".format(self.nombre))\n",
    "\n",
    "        # Cuando  se crea esta persona  , se agrega  el robo se suma a la poblacion\n",
    "        \n",
    "        Robot.poblacion  += 1\n",
    "\n",
    "    def robot_cambiar(self):\n",
    "        \n",
    "        \"\"\"Cambiamos el robot a otro trabajo .\"\"\"\n",
    "       \n",
    "        print(\"{} esta siendo cambiado!\".format(self.nombre))\n",
    "\n",
    "        Robot.poblacion -= 1\n",
    "\n",
    "        if Robot.poblacion == 0:\n",
    "            print(\"{} fue el ultimo.\".format(self.nombre))\n",
    "        else:\n",
    "            print(\"Hay aun   {:d} robots trabajando.\".format(Robot.poblacion ))\n",
    "\n",
    "    def robot_hola(self):\n",
    "        \n",
    "        \"\"\"Saludo inicial del robot.\n",
    "\n",
    "        Hola, que puedo hacer por ustedes.\"\"\"\n",
    "        \n",
    "        print(\"Saludos, jefe llamame{}.\".format(self.poblacion))\n",
    "\n",
    "    @classmethod\n",
    "    \n",
    "    def cuantos_robots(cls):\n",
    "        \n",
    "        \"\"\"Imprimimos la actual poblacion  .\"\"\"\n",
    "        \n",
    "        print(\"Nosotros tenemos {:d} robots.\".format(cls.poblacion))\n",
    "\n",
    "\n",
    "droid1 = Robot(\"R2-D2\")\n",
    "droid1.robot_hola()\n",
    "Robot.cuantos_robots()\n",
    "\n",
    "droid2 = Robot(\"C-3PO\")\n",
    "droid2.robot_hola()\n",
    "Robot.cuantos_robots()\n",
    "\n",
    "print(\"\\nRobots  pueden hacer algun trabajo aqui .\\n\")\n",
    "\n",
    "print(\"Robots finaliza su trabajo. Puedes cambiarme a otro trabajo.\")\n",
    "droid1.robot_cambiar()\n",
    "droid2.robot_cambiar()\n",
    "\n",
    "Robot.cuantos_robots()"
   ]
  },
  {
   "cell_type": "markdown",
   "metadata": {},
   "source": [
    " Aquí, `población` pertenece a la clase  `robot` y por lo tanto es una variable de clase. La variable `nombre` pertenece al objeto (se le asigna el uso de `self`) y por lo tanto es una variable de objeto.\n",
    "\n",
    "Por lo tanto, nos referimos a la variable de clase `población` como  `Robot.poblacion` y no como `self.poblacion`. Nos referimos al nombre de la variable objeto usando la notación `self.nombre ` en los métodos de dicho objeto. Recuerda esta simple diferencia entre las variables de clase y objeto. Ten  en cuenta que una variable de objeto con el mismo nombre que una variable de clase ocultará la variable de clase!.\n",
    "\n",
    "En lugar de `Robot.poblacion`, podríamos también hemos utilizado `self.__clase__poblacion`, porque cada objeto se refiere a su clase a través del atributo `self .__ class__`.\n",
    "\n",
    "El `cuantos_robots` es en realidad un método que pertenece a la clase y no al objeto. Esto significa que podemos definirla ya sea como un `classmethod` o un `staticmethod ` dependiendo de si tenemos que saber de que  clase somos parte. Como nos referimos a una variable de clase, se utiliza  `classmethod`.\n",
    "\n",
    "Hemos marcado el método `cuantos_robots` como un método de clase utilizando un decorador, que es lo mismo que\n",
    "\n",
    "```python\n",
    "cuantos_robots = classmethod(cuantos_robots)\n",
    "```"
   ]
  },
  {
   "cell_type": "markdown",
   "metadata": {},
   "source": [
    "Se debe notar que el método `__init__` se utiliza para inicializar la instancia `robot` con un nombre. En este método, se aumenta el recuento de la población en 1 ya que hemos añadido un  robot. También  se observa que los valores de `self.nombre` es específico para cada objeto que indica la naturaleza de las variables de objeto.\n",
    "\n",
    "Recuerda que debes hacer referencia a las variables y métodos del mismo objeto utilizando sólo `self`. Esto se llama una `referencia de atributo`.\n",
    "\n",
    "En este programa, también se ve el uso de cadenas de documentación para las clases, así como para  los métodos. Podemos acceder a la cadena de documentación de clase en tiempo de ejecución utilizando `Robot .__ doc__`  y la cadena de documentación del método `Robot.robot_hola.__doc__`. En el método `robot_cambiar`, se limita a disminuir el recuento de la población  por 1.\n",
    "\n",
    "Todos los miembros de la clase son públicas. Una excepción: si utilizas los miembros de datos con nombres usando el prefijo de subrayado doble como `__metodo`, Python utiliza esto para hacer efectiva una variable privada."
   ]
  },
  {
   "cell_type": "code",
   "execution_count": 52,
   "metadata": {
    "collapsed": false
   },
   "outputs": [
    {
     "data": {
      "text/plain": [
       "'Saludo inicial del robot.\\n\\n        Hola, que puedo hacer por ustedes.'"
      ]
     },
     "execution_count": 52,
     "metadata": {},
     "output_type": "execute_result"
    }
   ],
   "source": [
    "Robot.robot_hola.__doc__"
   ]
  },
  {
   "cell_type": "markdown",
   "metadata": {},
   "source": [
    "Hay algunos conceptos básicos de la programación orientada a objetos en:\n",
    "\n",
    "* Abstracción\n",
    "* Polimorfismo\n",
    "* Encapsulamiento\n",
    "* Herencia\n",
    "\n",
    "La *abstracción* es simplificar la realidad compleja mediante el modelado de clases apropiadas para el problema. El *polimorfismo* es el proceso de usar un operador o función de diferentes maneras para diferentes de entrada de datos. El  *encapsulamiento*  oculta los detalles de implementación de una clase de otros objetos. La *herencia* es una manera de formar nuevas clases utilizando las clases que ya se han definido."
   ]
  },
  {
   "cell_type": "markdown",
   "metadata": {},
   "source": [
    "## Herencia\n",
    "\n",
    "Una de las principales ventajas de la programación orientada a objetos es la  reutilización de código y una de las maneras en que esto se logra es a través del mecanismo de herencia. La herencia puede ser mejor imaginado como la implementación de una relación de tipo y subtipo entre clases."
   ]
  },
  {
   "cell_type": "code",
   "execution_count": 59,
   "metadata": {
    "collapsed": false
   },
   "outputs": [
    {
     "name": "stdout",
     "output_type": "stream",
     "text": [
      " Un animalito  creado:\n",
      "Woof \n",
      "Soy un cachorrito\n",
      "Estoy comiendo el desayuno\n",
      "Woof!\n"
     ]
    }
   ],
   "source": [
    "# Un ejemplo \n",
    "\n",
    "class Animalito(object):\n",
    "    def __init__(self):\n",
    "        print (\" Un animalito  creado:\")\n",
    "        \n",
    "    def quien_soy(self):\n",
    "        print (\"Animalito\")\n",
    "        \n",
    "    def comer(self):\n",
    "        print (\"Estoy comiendo el desayuno\")\n",
    "\n",
    "\n",
    "class Perrito(Animalito):\n",
    "    \n",
    "    def __init__(self):\n",
    "        Animalito.__init__(self)\n",
    "        print (\"Woof \")\n",
    "        \n",
    "    def quien_soy(self):\n",
    "        print (\"Soy un cachorrito\")\n",
    "\n",
    "    def ladrar(self):\n",
    "        print (\"Woof!\")\n",
    "\n",
    "d = Perrito()\n",
    "d.quien_soy()\n",
    "d.comer()\n",
    "d.ladrar()"
   ]
  },
  {
   "cell_type": "markdown",
   "metadata": {},
   "source": [
    "En este ejemplo, tenemos dos clases: `Animalito` y `perrito`. `Animalito` es la clase base (superclase), y `perrito` es la clase derivada (subclase). La clase derivada hereda la funcionalidad de la clase base. \n",
    "\n",
    "Esto se muestra en  el método `comer()`. La clase derivada modifica el comportamiento existente de la clase base, que se muestra por el método `quien_soy()`. Por último, la clase derivada amplía la funcionalidad de la clase base, mediante la definición de un nuevo `método ladrido()`.\n",
    "\n",
    "Ponemos las superclases  figuran entre paréntesis después del nombre de la subclase. Las subclases proporciona su propio método ` __init __ ()`, debe de llamar explícitamente al método  `__init __ ()` de la clase base(superclase)."
   ]
  },
  {
   "cell_type": "code",
   "execution_count": 61,
   "metadata": {
    "collapsed": true
   },
   "outputs": [],
   "source": [
    "class Perrito(Animalito):\n",
    "    \n",
    "    def __init__(self):\n",
    "        Animalito.__init__(self)\n",
    "        print (\"Soy un cachorrito\")\n"
   ]
  },
  {
   "cell_type": "markdown",
   "metadata": {},
   "source": [
    "Un ejemplo más acerca de herencia en Python, en el cual por ejemplo la clase `Rectangulo` es una subclase de la clase `Forma`, que a su vez es una superclase de la clase `Cuadrado`. La función `pintar` tiene distintos resultados ya que pertenece a dos clases diferentes, por que le que realiza **polimorfismo**."
   ]
  },
  {
   "cell_type": "code",
   "execution_count": 71,
   "metadata": {
    "collapsed": false
   },
   "outputs": [],
   "source": [
    "class Canvas:\n",
    "    \n",
    "    def __init__(self, ancho, altura):\n",
    "        self.ancho= ancho\n",
    "        self.altura = altura\n",
    "        self.data = [[' '] * ancho for i in range(altura)]\n",
    "\n",
    "    def spixel(self, fil, col):\n",
    "        self.data[fil][col] = '*'\n",
    "\n",
    "    def gpixel(self, fil, col):\n",
    "        return self.data[fil][col]\n",
    "\n",
    "    def muestra(self):\n",
    "        print (\"\\n\".join([\"\".join(fil) for fil in self.data]))\n",
    "\n",
    "class Forma:\n",
    "    def pintar(self, canvas): pass\n",
    "\n",
    "class Rectangulo(Forma):\n",
    "    def __init__(self, x, y, w, h):\n",
    "        self.x = x\n",
    "        self.y = y\n",
    "        self.w = w\n",
    "        self.h = h\n",
    "\n",
    "    def hlinea(self, x, y, w):\n",
    "        pass\n",
    "\n",
    "    def vlinea(self, x, y, h):\n",
    "        pass\n",
    "\n",
    "    def pintar(self, canvas):\n",
    "        hlinea(self.x, self.y, self.w)\n",
    "        hlinea(self.x, self.y + self.h, self.w)\n",
    "        vlinea(self.x, self.y, self.h)\n",
    "        vlinea(self.x + self.w, self.y, self.h)\n",
    "\n",
    "class Cuadrado(Rectangulo):\n",
    "    def __init__(self, x, y, tam):\n",
    "        Rectangulo.__init__(self, x, y, tam, tam)\n",
    "\n",
    "class Forma_compuesta(Forma):\n",
    "    def __init__(self, formas):\n",
    "        self.formas = formas\n",
    "\n",
    "    def pintar(self, canvas):\n",
    "        for s in self.formas:\n",
    "            s.pintar(canvas)"
   ]
  },
  {
   "cell_type": "markdown",
   "metadata": {},
   "source": [
    "Usamos `super` para llamar un método desde una superclase."
   ]
  },
  {
   "cell_type": "code",
   "execution_count": 38,
   "metadata": {
    "collapsed": false
   },
   "outputs": [
    {
     "name": "stdout",
     "output_type": "stream",
     "text": [
      "<__main__.Sdatos object at 0x7f1f042d6da0>\n"
     ]
    }
   ],
   "source": [
    "class Datos (object):\n",
    "    def   __init__(self, datos):\n",
    "        self.datos = datos\n",
    "\n",
    "        \n",
    "class Sdatos(Datos):\n",
    "    \n",
    "    # __init__ not tiene que seguir el principio de  Liskov \n",
    "\n",
    "    def   __init__ (self, datos, parametros):\n",
    "        # Aqui tiene el mismo efecto que llamar\n",
    "        # Datos.__init__(self)\n",
    "        \n",
    "         super(Sdatos, self).__init__(datos)\n",
    "         self.parametros = parametros\n",
    "        \n",
    "data1 = Sdatos([1,2,3],{'amplitud' : 11   })\n",
    "print(data1)"
   ]
  },
  {
   "cell_type": "markdown",
   "metadata": {},
   "source": [
    "En el siguiente ejemplo, nuestra clase base es `Persona`, que representa cualquier persona asociada a una universidad. Creamos una subclase para representar a los estudiantes y una subclase para las personas que enseñan cursos (profesores).\n",
    "Representamos tanto el número de estudiantes y el número de profesores por un solo atributo `numero `, que se define en la clase base. Utilizamos diferentes atributos para el tipo de estudiante (pregrado o  postgrado) o  si un miembro del profesorado tiene un empleo  permanente o temporal, ya que esto produce diferentes  opciones.\n",
    "\n",
    "También hemos añadido un método a `Estudiante` para inscribir a un estudiante en un curso, y un método a `Profesor` para asignar un curso a ser impartido por un profesor:"
   ]
  },
  {
   "cell_type": "code",
   "execution_count": 83,
   "metadata": {
    "collapsed": false
   },
   "outputs": [],
   "source": [
    "class Persona:\n",
    "    \n",
    "    def __init__(self, nombre, apellido, numero):\n",
    "        self.nombre = nombre\n",
    "        self.apellido = apellido\n",
    "        self.numero= numero\n",
    "\n",
    "\n",
    "class Estudiante(Persona):\n",
    "    PREGRADUADO, POSTGRADUADO = range(2)\n",
    "\n",
    "    def __init__(self, tipo_estudiante, *args, **kwargs):\n",
    "        self.tipo_estudiante = tipo_estudiante\n",
    "        self.clases = []\n",
    "        super(Estudiante, self).__init__(*args, **kwargs)\n",
    "\n",
    "    def enrolado(self, curso):\n",
    "        self.clases.append(curso)\n",
    "\n",
    "\n",
    "class Profesores(Persona):\n",
    "    PERMANENTE, TEMPORAL = range(2)\n",
    "\n",
    "    def __init__(self, tipo_empleo, *args, **kwargs):\n",
    "        self.tipo_empleo = tipo_empleo\n",
    "        super(Profesores, self).__init__(*args, **kwargs)\n",
    "\n",
    "\n",
    "class Conferencista(Profesores):\n",
    "    def __init__(self, *args, **kwargs):\n",
    "        self.cursos = []\n",
    "        super(Conferencista, self).__init__(*args, **kwargs)\n",
    "\n",
    "    def profesor_asistente(self, curso):\n",
    "        self.cursos.append(curso)\n",
    "\n",
    "Claudio = Estudiante(Estudiante.POSTGRADUADO, \"Claudio\", \"Lara\", \"SMTJNX045\")\n",
    "Claudio.enrolado(\" \")\n",
    "Cesar = Conferencista(Profesores.PERMANENTE, \"Cesar\", \"Avila\", \"123456789\")\n",
    "Cesar.profesor_asistente(\" \")\n",
    "\n"
   ]
  },
  {
   "cell_type": "markdown",
   "metadata": {},
   "source": [
    "El método `__init__` de la superclase inicializa todas las variables de instancia que son comunes a todas las subclases.\n",
    "\n",
    "En cada subclase *override* el método `__init__` para que podamos usarlo al   inicializar los atributos de cada clase, además  para inicializar los atributos de la superclase , tenemos que  llamar al método `__init__`  de la superclase  desde las subclases. Para encontrar el método correcto, usamos la función `super`  que cuando se pasa a la clase actual y el objeto como parámetros, devolverá un `objeto proxy` con el método `__init__` correcto, que podremos llamar.\n",
    "\n",
    "En cada uno de nuestros métodos `__init__` *overridden*   usamos los parámetros del método que son específicos de nuestra clase dentro del método, y luego pasar el resto de parámetros al método  `__init__` de la superclase.\n",
    "\n",
    "Una convención común para hacer esto es añadir los parámetros específicos para cada subclase sucesiva  a la lista de parámetros, y definir todos los demás parámetros utilizando `args *` y `** kwargs`, de esta manera  la subclase no necesita conocer los detalles acerca  de la  parámetros de la superclase.\n",
    "\n",
    "Debido a esto, si añadimos un nuevo parámetro al  `__init__` de la superclase, sólo vamos a tener que añadir en todos los lugares en los que creamos esa clase o una de sus subclases."
   ]
  },
  {
   "cell_type": "markdown",
   "metadata": {
    "collapsed": true
   },
   "source": [
    "\n",
    "## Polimorfismo\n",
    "\n",
    "El polimorfismo es el proceso de usar un operador o una función  de diferentes maneras para diferentes  entradas de datos. En términos prácticos, el polimorfismo significa que si la clase B hereda de la clase A, no tiene que heredar todo lo relacionado con la clase A; puede hacer algunas de las cosas que la clase A realiza en forma diferente. \n",
    "\n",
    "Podemos realizar polimorfismo en Python al igual que en Java (* polimorfismo tradicional*), pero no es el único en Python. Se debe notar que  Java es un lenguaje que  tiene una  definición estricta  de tipo de accesibilidad con palabras claves, Python se allana  a que todos los tipos de accesibilidad sean  públicos excepto para soportar un método que realiza  accesibilidad privada virtual.\n"
   ]
  },
  {
   "cell_type": "code",
   "execution_count": 8,
   "metadata": {
    "collapsed": false
   },
   "outputs": [
    {
     "name": "stdout",
     "output_type": "stream",
     "text": [
      " Yo soy un perrito\n",
      "dormir\n",
      "Guau\n",
      "Yo soy un gato\n",
      "dormir\n",
      "Meow\n",
      "Yo soy un gallo\n",
      "dormir\n",
      "kiriki\n"
     ]
    }
   ],
   "source": [
    "# Polimorfismo tradicional \n",
    "\n",
    "class Animalito:\n",
    "    def nombre(self):\n",
    "        pass\n",
    "    def dormir(self):\n",
    "        print(\"dormir\")\n",
    "    def hacer_ruido(self):\n",
    "        pass\n",
    "    \n",
    "class Perrito(Animalito):\n",
    "    def nombre(self):\n",
    "        print(\" Yo soy un perrito\")\n",
    "    def hacer_ruido(self):\n",
    "        print (\"Guau\")\n",
    "\n",
    "class Gato(Animalito):\n",
    "    def nombre(self):\n",
    "        print(\"Yo soy un gato\")\n",
    "    def hacer_ruido(self):\n",
    "        print(\"Meow\")\n",
    "        \n",
    "class Gallo(Animalito):\n",
    "    def nombre(self):\n",
    "        print(\"Yo soy un gallo\")\n",
    "    def hacer_ruido(self):\n",
    "        print(\"kiriki\")\n",
    "        \n",
    "        \n",
    "class Animalito1:\n",
    "    def impr_nombre(self, animalito):\n",
    "        animalito.nombre()\n",
    "    def ir_dormir(self, animalito):\n",
    "        animalito.dormir()\n",
    "    def hacer_ruido(self, animalito):\n",
    "        animalito.hacer_ruido()\n",
    "        \n",
    "        \n",
    "Animalito1 = Animalito1()\n",
    "perrito = Perrito()\n",
    "gatito = Gato()\n",
    "gallito = Gallo()\n",
    "\n",
    "Animalito1.impr_nombre(perrito)\n",
    "Animalito1.ir_dormir(perrito)\n",
    "Animalito1.hacer_ruido(perrito)\n",
    "Animalito1.impr_nombre(gatito)\n",
    "Animalito1.ir_dormir(gatito)\n",
    "Animalito1.hacer_ruido(gatito)\n",
    "\n",
    "Animalito1.impr_nombre(gallito)\n",
    "Animalito1.ir_dormir(gallito)\n",
    "Animalito1.hacer_ruido(gallito)\n"
   ]
  },
  {
   "cell_type": "code",
   "execution_count": null,
   "metadata": {
    "collapsed": true
   },
   "outputs": [],
   "source": []
  }
 ],
 "metadata": {
  "kernelspec": {
   "display_name": "Python 3",
   "language": "python",
   "name": "python3"
  },
  "language_info": {
   "codemirror_mode": {
    "name": "ipython",
    "version": 3
   },
   "file_extension": ".py",
   "mimetype": "text/x-python",
   "name": "python",
   "nbconvert_exporter": "python",
   "pygments_lexer": "ipython3",
   "version": "3.5.1"
  }
 },
 "nbformat": 4,
 "nbformat_minor": 0
}
