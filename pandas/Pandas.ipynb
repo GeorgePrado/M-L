{
 "cells": [
  {
   "cell_type": "markdown",
   "metadata": {},
   "source": [
    "# Análisis de datos en Python\n",
    "\n",
    "Numpy y SciPy son dos librerías  para la computación científica en general, que roporcionan bibliotecas de gran alcance para la manipulación de arrays (como NumPy) y la de  gráficos (como matplotlib). Hasta hace poco, una librería  ausente era una para el manejo y manipulación de datos.\n",
    "\n",
    "Los datos, por lo general no vienen  en una forma  lista para utilizar. Una parte muy importante de trabajar en problemas basados en datos como el machine learning  es el análisis de datos y la administración de datos.\n",
    "\n",
    "- Análisis de datos: Este es el uso de  herramientas como estadística y visualización de datos para entender mejor el problema mediante el entendimiento  de los datos.\n",
    "- Administración de datos : Este es el proceso de transformación de datos  en una forma  que sea apropiado para realizar  análisis de datos o  machine learning.\n"
   ]
  },
  {
   "cell_type": "markdown",
   "metadata": {},
   "source": [
    "## Pandas \n",
    "\n",
    "\n",
    "Lecturas\n",
    "\n",
    "- [Tutoriales de Panda](http://pandas.pydata.org/pandas-docs/stable/tutorials.html).\n",
    "- [10 minutos de Pandas de Wes McKinney](https://vimeo.com/59324550).\n",
    "- [Pandas para R](http://pandas.pydata.org/pandas-docs/stable/comparison_with_r.html).\n",
    "\n",
    "El módulo `numpy` es una excelente librería para cálculos numéricos, pero no es muy útil, para manejar errores en los datos o arrays con tipos de distintos puntos. La librería [pandas](http://pandas.pydata.org/) proporciona objetos similares a los datos frames de [R](https://cran.r-project.org/) y son más convenientes para el análisis estadístico.\n",
    "\n",
    "Pandas proporciona muchos métodos para importar y manipular datos. \n",
    "\n",
    "\n",
    "Pandas  utiliza NumPy para el manejo  rápido de arrays, ofrece convenientes propiedades  de operaciones estadísticas con [StatsModels](http://statsmodels.sourceforge.net/) y gráficos  con matplotlib.\n",
    "\n",
    "\n",
    "Hay un fuerte enfoque en las series de tiempo dado que la creación de la  biblioteca surgió  en el ámbito financiero.\n",
    "\n",
    "Tiene un fuerte enfoque en los data frames para el manejo de datos  estándar. El manejo de datos es un requisito básico de una biblioteca de este tipo y la velocidad se ha convertido en una prioridad. Es rápido y proporciona estructuras de datos y operaciones como la indexación y agrupación de operaciones."
   ]
  },
  {
   "cell_type": "markdown",
   "metadata": {},
   "source": [
    "###  Características de Pandas\n",
    "\n",
    "Pandas tiene importantes características:\n",
    "\n",
    "* Manipulación: movimiento de  columnas, remodelación, unión,filtración, etc.\n",
    "* Manejo de series de tiempo: remuestreo, auto-alineación de conjuntos de datos, etc.\n",
    "* Manejo de datos pérdidos: reemplazo, interpolación, etc de datos pérdidos.\n",
    "* Operaciones por grupos: Agrupados como SQL.\n",
    "* Indexado jerarquico: nivel en estructuras de datos, eficiencia en la organización de datos por columnas, etc.\n",
    "* Propiedades de estadística: manejo  rápido y eficiente  de operaciones con datos estadísticos.\n",
    "* Visualización: acceso a los gráficos de la estructura de datos."
   ]
  },
  {
   "cell_type": "code",
   "execution_count": 4,
   "metadata": {
    "collapsed": false
   },
   "outputs": [],
   "source": [
    "import pandas as pd\n",
    "import numpy as np\n",
    "import matplotlib.pyplot as plt\n",
    "import statsmodels.api as sm\n",
    "from pandas import Series, DataFrame, Panel\n",
    "from string import ascii_lowercase as letters\n",
    "from scipy.stats import chisqprob\n",
    "%matplotlib inline"
   ]
  },
  {
   "cell_type": "markdown",
   "metadata": {},
   "source": [
    "## Series \n",
    "\n",
    "Las series es 1-D arrays con etiquetas en los ejes."
   ]
  },
  {
   "cell_type": "code",
   "execution_count": 3,
   "metadata": {
    "collapsed": false
   },
   "outputs": [
    {
     "data": {
      "text/plain": [
       "0          3\n",
       "1     Python\n",
       "2       3.56\n",
       "3    -123999\n",
       "4    ggplot2\n",
       "dtype: object"
      ]
     },
     "execution_count": 3,
     "metadata": {},
     "output_type": "execute_result"
    }
   ],
   "source": [
    "# Creando una serie con lista arbitraria\n",
    "\n",
    "s = pd.Series([3, \"Python\", 3.56, -123999, \"ggplot2\"])\n",
    "s"
   ]
  },
  {
   "cell_type": "code",
   "execution_count": 4,
   "metadata": {
    "collapsed": false
   },
   "outputs": [
    {
     "data": {
      "text/plain": [
       "A                7\n",
       "Z             Java\n",
       "C             3.14\n",
       "Y      -1789710578\n",
       "E    Hola a todos!\n",
       "dtype: object"
      ]
     },
     "execution_count": 4,
     "metadata": {},
     "output_type": "execute_result"
    }
   ],
   "source": [
    "# Podemos especificar un indices para crear las Series\n",
    "\n",
    "s1 = pd.Series([7, 'Java', 3.14, -1789710578, 'Hola a todos!'],\n",
    "              index=['A', 'Z', 'C', 'Y', 'E'])\n",
    "s1"
   ]
  },
  {
   "cell_type": "code",
   "execution_count": 5,
   "metadata": {
    "collapsed": false
   },
   "outputs": [
    {
     "data": {
      "text/plain": [
       "C         1100\n",
       "Java       450\n",
       "Latex      900\n",
       "Python    1000\n",
       "R         1300\n",
       "html5      NaN\n",
       "dtype: float64"
      ]
     },
     "execution_count": 5,
     "metadata": {},
     "output_type": "execute_result"
    }
   ],
   "source": [
    "# El constructor de las series puede convertir tambien un diccionario,\n",
    "# usando los keys de los diccionarios como indices\n",
    "\n",
    "d = {'Python': 1000, 'R': 1300, 'Latex': 900, 'C': 1100,\n",
    "     'Java': 450, 'html5': None}\n",
    "lenguajes = pd.Series(d)\n",
    "lenguajes\n"
   ]
  },
  {
   "cell_type": "code",
   "execution_count": 6,
   "metadata": {
    "collapsed": false
   },
   "outputs": [
    {
     "data": {
      "text/plain": [
       "Python    1000\n",
       "Latex      900\n",
       "html5      NaN\n",
       "dtype: float64"
      ]
     },
     "execution_count": 6,
     "metadata": {},
     "output_type": "execute_result"
    }
   ],
   "source": [
    "# Indexando los indices para seleccionar elementos desde la serie\n",
    "\n",
    "lenguajes[['Python', 'Latex', 'html5']]"
   ]
  },
  {
   "cell_type": "code",
   "execution_count": 7,
   "metadata": {
    "collapsed": false
   },
   "outputs": [
    {
     "name": "stdout",
     "output_type": "stream",
     "text": [
      "C         False\n",
      "Java       True\n",
      "Latex      True\n",
      "Python    False\n",
      "R         False\n",
      "html5     False\n",
      "dtype: bool\n",
      "\n",
      "\n",
      "Java     450\n",
      "Latex    900\n",
      "dtype: float64\n"
     ]
    }
   ],
   "source": [
    "# Usamos indexado booleano\n",
    "\n",
    "s2 = lenguajes < 1000\n",
    "print(s2)\n",
    "print('\\n')\n",
    "print(lenguajes[s2])"
   ]
  },
  {
   "cell_type": "code",
   "execution_count": 8,
   "metadata": {
    "collapsed": false
   },
   "outputs": [
    {
     "name": "stdout",
     "output_type": "stream",
     "text": [
      "otro valor: 900.0\n",
      "Nuevo valor: 1400.0\n"
     ]
    }
   ],
   "source": [
    "# podemos cambiar los valores en una series\n",
    "\n",
    "print('otro valor:', lenguajes['Latex'])\n",
    "lenguajes['Latex'] = 1400\n",
    "print('Nuevo valor:', lenguajes['Latex'])"
   ]
  },
  {
   "cell_type": "code",
   "execution_count": 11,
   "metadata": {
    "collapsed": false
   },
   "outputs": [
    {
     "name": "stdout",
     "output_type": "stream",
     "text": [
      "Java    750\n",
      "dtype: float64\n",
      "\n",
      "\n",
      "Java    750\n",
      "dtype: float64\n"
     ]
    }
   ],
   "source": [
    "# Cambiando valores con logica booleana\n",
    "\n",
    "print(lenguajes[lenguajes < 1000])\n",
    "print('\\n')\n",
    "lenguajes[lenguajes < 1000] = 750\n",
    "\n",
    "print (lenguajes[lenguajes < 1000])"
   ]
  },
  {
   "cell_type": "code",
   "execution_count": 13,
   "metadata": {
    "collapsed": false
   },
   "outputs": [
    {
     "name": "stdout",
     "output_type": "stream",
     "text": [
      "True\n",
      "False\n"
     ]
    }
   ],
   "source": [
    "# Verificamos sin un indice esta en una serie\n",
    "\n",
    "print('Python' in lenguajes)\n",
    "print('haskell' in lenguajes)"
   ]
  },
  {
   "cell_type": "code",
   "execution_count": 15,
   "metadata": {
    "collapsed": false
   },
   "outputs": [
    {
     "data": {
      "text/plain": [
       "C         275.0\n",
       "Java      187.5\n",
       "Latex     350.0\n",
       "Python    250.0\n",
       "R         325.0\n",
       "html5       NaN\n",
       "dtype: float64"
      ]
     },
     "execution_count": 15,
     "metadata": {},
     "output_type": "execute_result"
    }
   ],
   "source": [
    "# podemos realizar operaciones matematicas usando escalares y funciones\n",
    "\n",
    "lenguajes/4"
   ]
  },
  {
   "cell_type": "code",
   "execution_count": 18,
   "metadata": {
    "collapsed": false
   },
   "outputs": [
    {
     "data": {
      "text/plain": [
       "C         1210000\n",
       "Java       562500\n",
       "Latex     1960000\n",
       "Python    1000000\n",
       "R         1690000\n",
       "html5         NaN\n",
       "dtype: float64"
      ]
     },
     "execution_count": 18,
     "metadata": {},
     "output_type": "execute_result"
    }
   ],
   "source": [
    "# cuadrados de los valores de los lenguajes\n",
    "\n",
    "np.square(lenguajes)"
   ]
  },
  {
   "cell_type": "markdown",
   "metadata": {},
   "source": [
    "Se pueden añadir dos series, que devuelven una unión de las dos series con la propiedad adicional que ocurren en los valores de los índices compartidos. Los valores en  las series que no tienen un índice  compartido producirán un `NULL/NaN` (no es un número)."
   ]
  },
  {
   "cell_type": "code",
   "execution_count": 19,
   "metadata": {
    "collapsed": false
   },
   "outputs": [
    {
     "name": "stdout",
     "output_type": "stream",
     "text": [
      "Python    1000\n",
      "R         1300\n",
      "C         1100\n",
      "dtype: float64\n",
      "\n",
      "\n",
      "R       1300\n",
      "Java     750\n",
      "dtype: float64\n",
      "\n",
      "\n",
      "C          NaN\n",
      "Java       NaN\n",
      "Python     NaN\n",
      "R         2600\n",
      "dtype: float64\n"
     ]
    }
   ],
   "source": [
    "print(lenguajes[['Python', 'R', 'C']])\n",
    "print('\\n')\n",
    "print(lenguajes[['R', 'Java']])\n",
    "print('\\n')\n",
    "print(lenguajes[['Python', 'R', 'C']] + lenguajes[['R', 'Java']])"
   ]
  },
  {
   "cell_type": "markdown",
   "metadata": {},
   "source": [
    "`C, Java, Python` no se encuentran en la nueva serie, así que se retorna  valores `NULL/NA`."
   ]
  },
  {
   "cell_type": "code",
   "execution_count": 20,
   "metadata": {
    "collapsed": false
   },
   "outputs": [
    {
     "data": {
      "text/plain": [
       "C          True\n",
       "Java       True\n",
       "Latex      True\n",
       "Python     True\n",
       "R          True\n",
       "html5     False\n",
       "dtype: bool"
      ]
     },
     "execution_count": 20,
     "metadata": {},
     "output_type": "execute_result"
    }
   ],
   "source": [
    "# retornamos una serie de valores booleanos, que no son NULL\n",
    "\n",
    "lenguajes.notnull()"
   ]
  },
  {
   "cell_type": "code",
   "execution_count": 21,
   "metadata": {
    "collapsed": false
   },
   "outputs": [
    {
     "name": "stdout",
     "output_type": "stream",
     "text": [
      "C         False\n",
      "Java      False\n",
      "Latex     False\n",
      "Python    False\n",
      "R         False\n",
      "html5      True\n",
      "dtype: bool\n",
      "\n",
      "\n",
      "html5   NaN\n",
      "dtype: float64\n"
     ]
    }
   ],
   "source": [
    "# usando logica booleana para guardar los valores NULL\n",
    "\n",
    "print(lenguajes.isnull())\n",
    "print('\\n')\n",
    "print(lenguajes[lenguajes.isnull()])"
   ]
  },
  {
   "cell_type": "code",
   "execution_count": 29,
   "metadata": {
    "collapsed": false
   },
   "outputs": [
    {
     "name": "stdout",
     "output_type": "stream",
     "text": [
      "a    0\n",
      "b    1\n",
      "c    2\n",
      "dtype: int32 \n",
      "\n",
      "h     7\n",
      "i     8\n",
      "j     9\n",
      "k    10\n",
      "l    11\n",
      "m    12\n",
      "n    13\n",
      "o    14\n",
      "p    15\n",
      "q    16\n",
      "r    17\n",
      "s    18\n",
      "t    19\n",
      "u    20\n",
      "v    21\n",
      "w    22\n",
      "x    23\n",
      "y    24\n",
      "dtype: int32 \n",
      "\n",
      "a     0\n",
      "d     3\n",
      "g     6\n",
      "j     9\n",
      "m    12\n",
      "p    15\n",
      "s    18\n",
      "v    21\n",
      "y    24\n",
      "dtype: int32 \n",
      "\n",
      "d    3\n",
      "f    5\n",
      "h    7\n",
      "dtype: int32 \n",
      "\n",
      "3 5 7\n"
     ]
    }
   ],
   "source": [
    "# otro ejemplo\n",
    "\n",
    "s3 = Series(np.arange(25), index=tuple(letters[:25]))\n",
    "\n",
    "print (s3[:3],'\\n')\n",
    "print (s3[7:], '\\n')\n",
    "print (s3[::3], '\\n')\n",
    "print (s3[['d', 'f', 'h']], '\\n')\n",
    "print (s3.d, s3.f, s3.h)"
   ]
  },
  {
   "cell_type": "code",
   "execution_count": 30,
   "metadata": {
    "collapsed": false
   },
   "outputs": [
    {
     "data": {
      "text/plain": [
       "(12.0, 52.0)"
      ]
     },
     "execution_count": 30,
     "metadata": {},
     "output_type": "execute_result"
    }
   ],
   "source": [
    "# Todas las funciones de Numpy se pueden utilizar con objetos Series y retornar otra Serie\n",
    "\n",
    "a ,b = np.mean(s3), np.var(s3)\n",
    "a ,b"
   ]
  },
  {
   "cell_type": "code",
   "execution_count": 31,
   "metadata": {
    "collapsed": false
   },
   "outputs": [
    {
     "data": {
      "image/png": "[encoded data removed]",
      "text/plain": [
       "<matplotlib.figure.Figure at 0x1cb27d9f940>"
      ]
     },
     "metadata": {},
     "output_type": "display_data"
    }
   ],
   "source": [
    "# Matplotlib funciona con los objeto Series\n",
    "\n",
    "plt.plot(s3, np.sin(s3), 'r-o', s3, np.cos(s3), 'b-x');"
   ]
  },
  {
   "cell_type": "code",
   "execution_count": 38,
   "metadata": {
    "collapsed": false
   },
   "outputs": [
    {
     "name": "stdout",
     "output_type": "stream",
     "text": [
      "2015-01-21 00:00:00 \n",
      "\n",
      "2015-01-21     8.551924\n",
      "2015-01-22    10.134389\n",
      "2015-01-23     9.799162\n",
      "2015-01-24    11.103569\n",
      "Freq: D, dtype: float64 \n",
      "\n",
      "2015-01-21     8.551924\n",
      "2015-01-22    10.134389\n",
      "2015-01-23     9.799162\n",
      "2015-01-24    11.103569\n",
      "2015-01-25     7.545525\n",
      "2015-01-26    10.797901\n",
      "2015-01-27    11.335752\n",
      "2015-01-28     9.132736\n",
      "Freq: D, dtype: float64 \n",
      "\n"
     ]
    }
   ],
   "source": [
    "# Ejemplo sobre el uso del objeto Series en la representacion de series de tiempo\n",
    "\n",
    "import datetime as dt\n",
    "from pandas import date_range\n",
    "\n",
    "# dias y fechas\n",
    "hoy = dt.datetime.strptime('Jan 21 2015', '%b %d %Y')\n",
    "print (hoy, '\\n')\n",
    "dias = date_range(hoy, periods=35, freq='D')\n",
    "st = Series(np.random.normal(10, 1, len(dias)), index=dias)\n",
    "\n",
    "# Extraemos elementos\n",
    "print (st[0:4], '\\n')\n",
    "print (st['2015-01-21':'2015-01-28'], '\\n') "
   ]
  },
  {
   "cell_type": "code",
   "execution_count": 39,
   "metadata": {
    "collapsed": false
   },
   "outputs": [
    {
     "data": {
      "text/html": [
       "<div>\n",
       "<table border=\"1\" class=\"dataframe\">\n",
       "  <thead>\n",
       "    <tr style=\"text-align: right;\">\n",
       "      <th></th>\n",
       "      <th>mean</th>\n",
       "      <th>std</th>\n",
       "      <th>&lt;lambda&gt;</th>\n",
       "    </tr>\n",
       "  </thead>\n",
       "  <tbody>\n",
       "    <tr>\n",
       "      <th>2015-01-25</th>\n",
       "      <td>9.426914</td>\n",
       "      <td>1.392434</td>\n",
       "      <td>452.089026</td>\n",
       "    </tr>\n",
       "    <tr>\n",
       "      <th>2015-02-01</th>\n",
       "      <td>10.064265</td>\n",
       "      <td>0.855725</td>\n",
       "      <td>713.419628</td>\n",
       "    </tr>\n",
       "    <tr>\n",
       "      <th>2015-02-08</th>\n",
       "      <td>9.784719</td>\n",
       "      <td>0.420047</td>\n",
       "      <td>671.243748</td>\n",
       "    </tr>\n",
       "    <tr>\n",
       "      <th>2015-02-15</th>\n",
       "      <td>9.279470</td>\n",
       "      <td>1.342445</td>\n",
       "      <td>613.572912</td>\n",
       "    </tr>\n",
       "    <tr>\n",
       "      <th>2015-02-22</th>\n",
       "      <td>9.638094</td>\n",
       "      <td>1.058458</td>\n",
       "      <td>656.972058</td>\n",
       "    </tr>\n",
       "    <tr>\n",
       "      <th>2015-03-01</th>\n",
       "      <td>9.490383</td>\n",
       "      <td>0.540561</td>\n",
       "      <td>180.426960</td>\n",
       "    </tr>\n",
       "  </tbody>\n",
       "</table>\n",
       "</div>"
      ],
      "text/plain": [
       "                 mean       std    <lambda>\n",
       "2015-01-25   9.426914  1.392434  452.089026\n",
       "2015-02-01  10.064265  0.855725  713.419628\n",
       "2015-02-08   9.784719  0.420047  671.243748\n",
       "2015-02-15   9.279470  1.342445  613.572912\n",
       "2015-02-22   9.638094  1.058458  656.972058\n",
       "2015-03-01   9.490383  0.540561  180.426960"
      ]
     },
     "execution_count": 39,
     "metadata": {},
     "output_type": "execute_result"
    }
   ],
   "source": [
    "# podemos generar operaciones estadisticas con el metodo resamble\n",
    "\n",
    "df = st.resample(rule ='W', how =('mean', 'std', lambda x: sum(x*x)))\n",
    "df                                  "
   ]
  },
  {
   "cell_type": "markdown",
   "metadata": {},
   "source": [
    "## Data frames\n",
    "\n",
    "Un data frame es similar a un data frame en R, base de datos o hojas de cálculo, es decir es una estructura de datos tabular que comprende filas y columnas. Los data frames  se puede considerar como un grupo de objetos Series que comparten un índice (el nombre de las columnas)."
   ]
  },
  {
   "cell_type": "code",
   "execution_count": 40,
   "metadata": {
    "collapsed": false
   },
   "outputs": [
    {
     "name": "stdout",
     "output_type": "stream",
     "text": [
      "<class 'pandas.core.frame.DataFrame'>\n"
     ]
    }
   ],
   "source": [
    "print(type(df))"
   ]
  },
  {
   "cell_type": "code",
   "execution_count": 41,
   "metadata": {
    "collapsed": false
   },
   "outputs": [
    {
     "name": "stdout",
     "output_type": "stream",
     "text": [
      "                media  desviacion   suma_cuad\n",
      "2015-01-25   9.426914    1.392434  452.089026\n",
      "2015-02-01  10.064265    0.855725  713.419628\n",
      "2015-02-08   9.784719    0.420047  671.243748\n",
      "2015-02-15   9.279470    1.342445  613.572912\n",
      "2015-02-22   9.638094    1.058458  656.972058\n",
      "2015-03-01   9.490383    0.540561  180.426960\n"
     ]
    }
   ],
   "source": [
    "# Renombrando columnas\n",
    "\n",
    "df.columns = ('media', 'desviacion', 'suma_cuad')\n",
    "print(df)"
   ]
  },
  {
   "cell_type": "code",
   "execution_count": 42,
   "metadata": {
    "collapsed": false
   },
   "outputs": [
    {
     "name": "stdout",
     "output_type": "stream",
     "text": [
      "2015-01-25     9.426914\n",
      "2015-02-01    10.064265\n",
      "2015-02-08     9.784719\n",
      "2015-02-15     9.279470\n",
      "2015-02-22     9.638094\n",
      "2015-03-01     9.490383\n",
      "Freq: W-SUN, Name: media, dtype: float64 \n",
      "\n",
      "2015-01-25    1.392434\n",
      "2015-02-01    0.855725\n",
      "2015-02-08    0.420047\n",
      "2015-02-15    1.342445\n",
      "2015-02-22    1.058458\n",
      "2015-03-01    0.540561\n",
      "Freq: W-SUN, Name: desviacion, dtype: float64\n"
     ]
    }
   ],
   "source": [
    "# extrayendo columnas desde el data frame\n",
    "\n",
    "print (df.media, '\\n') # por atributos\n",
    "print (df['desviacion'])  # por columnas"
   ]
  },
  {
   "cell_type": "code",
   "execution_count": 43,
   "metadata": {
    "collapsed": false
   },
   "outputs": [
    {
     "name": "stdout",
     "output_type": "stream",
     "text": [
      "671.243748484 \n",
      "\n",
      "2015-01-25    452.089026\n",
      "2015-02-01    713.419628\n",
      "2015-02-08    671.243748\n",
      "2015-02-15    613.572912\n",
      "2015-02-22    656.972058\n",
      "2015-03-01    180.426960\n",
      "Freq: W-SUN, Name: suma_cuad, dtype: float64 \n",
      "\n",
      "2015-01-25    452.089026\n",
      "2015-02-01    713.419628\n",
      "2015-02-08    671.243748\n",
      "Freq: W-SUN, Name: suma_cuad, dtype: float64 \n",
      "\n",
      "2015-01-25    452.089026\n",
      "2015-02-01    713.419628\n",
      "2015-02-08    671.243748\n",
      "Freq: W-SUN, Name: suma_cuad, dtype: float64 \n",
      "\n"
     ]
    }
   ],
   "source": [
    "# Extrayendo bloques y escalares\n",
    "\n",
    "print (df.iat[2, 2], '\\n')         # extraemos un elemento con  iat()\n",
    "print (df.loc['2015-01-25':'2015-03-01', 'suma_cuad'], '\\n') # indexando por etiquetas\n",
    "print (df.iloc[:3, 2], '\\n')       # indexando por posicion \n",
    "print (df.ix[:3, 'suma_cuad'], '\\n')     # por etiqueta o posicion"
   ]
  },
  {
   "cell_type": "code",
   "execution_count": 46,
   "metadata": {
    "collapsed": false
   },
   "outputs": [
    {
     "name": "stdout",
     "output_type": "stream",
     "text": [
      "Empty DataFrame\n",
      "Columns: [media, desviacion, suma_cuad]\n",
      "Index: [] \n",
      "\n",
      "               media  desviacion   suma_cuad\n",
      "2015-02-08  9.784719    0.420047  671.243748\n",
      "2015-03-01  9.490383    0.540561  180.426960\n"
     ]
    }
   ],
   "source": [
    "# usando condiciones booleanas para seleccionar elementos\n",
    "\n",
    "print (df[(df.media < 1) & (df.suma_cuad < 700)], '\\n' )\n",
    "print (df.query('desviacion < 1 and suma_cuad < 700'))  # uso del metodo query "
   ]
  },
  {
   "cell_type": "markdown",
   "metadata": {},
   "source": [
    "Para crear un data frame  de las estructuras de datos de Python, podemos pasar un diccionario de  listas al constructor del data frame .\n",
    "\n",
    "Utilizando el parámetro `columns` nos permite indicar  al constructor de cómo nos gustaría ordenar las columnas. De manera predeterminada, el constructor del data frame  ordenará las columnas alfabéticamente (aunque esto no es el caso cuando se lee de un archivo)."
   ]
  },
  {
   "cell_type": "code",
   "execution_count": 47,
   "metadata": {
    "collapsed": false
   },
   "outputs": [
    {
     "data": {
      "text/html": [
       "<div>\n",
       "<table border=\"1\" class=\"dataframe\">\n",
       "  <thead>\n",
       "    <tr style=\"text-align: right;\">\n",
       "      <th></th>\n",
       "      <th>Fechas</th>\n",
       "      <th>Lenguaje</th>\n",
       "      <th>vic</th>\n",
       "      <th>per</th>\n",
       "    </tr>\n",
       "  </thead>\n",
       "  <tbody>\n",
       "    <tr>\n",
       "      <th>0</th>\n",
       "      <td>2010</td>\n",
       "      <td>R</td>\n",
       "      <td>11</td>\n",
       "      <td>5</td>\n",
       "    </tr>\n",
       "    <tr>\n",
       "      <th>1</th>\n",
       "      <td>2011</td>\n",
       "      <td>Python</td>\n",
       "      <td>8</td>\n",
       "      <td>8</td>\n",
       "    </tr>\n",
       "    <tr>\n",
       "      <th>2</th>\n",
       "      <td>2012</td>\n",
       "      <td>Python</td>\n",
       "      <td>10</td>\n",
       "      <td>6</td>\n",
       "    </tr>\n",
       "    <tr>\n",
       "      <th>3</th>\n",
       "      <td>2011</td>\n",
       "      <td>Java</td>\n",
       "      <td>15</td>\n",
       "      <td>1</td>\n",
       "    </tr>\n",
       "    <tr>\n",
       "      <th>4</th>\n",
       "      <td>2012</td>\n",
       "      <td>Java</td>\n",
       "      <td>11</td>\n",
       "      <td>5</td>\n",
       "    </tr>\n",
       "    <tr>\n",
       "      <th>5</th>\n",
       "      <td>2010</td>\n",
       "      <td>C++</td>\n",
       "      <td>6</td>\n",
       "      <td>10</td>\n",
       "    </tr>\n",
       "    <tr>\n",
       "      <th>6</th>\n",
       "      <td>2011</td>\n",
       "      <td>C++</td>\n",
       "      <td>10</td>\n",
       "      <td>6</td>\n",
       "    </tr>\n",
       "    <tr>\n",
       "      <th>7</th>\n",
       "      <td>2012</td>\n",
       "      <td>C++</td>\n",
       "      <td>4</td>\n",
       "      <td>12</td>\n",
       "    </tr>\n",
       "  </tbody>\n",
       "</table>\n",
       "</div>"
      ],
      "text/plain": [
       "   Fechas Lenguaje  vic  per\n",
       "0    2010        R   11    5\n",
       "1    2011   Python    8    8\n",
       "2    2012   Python   10    6\n",
       "3    2011     Java   15    1\n",
       "4    2012     Java   11    5\n",
       "5    2010      C++    6   10\n",
       "6    2011      C++   10    6\n",
       "7    2012      C++    4   12"
      ]
     },
     "execution_count": 47,
     "metadata": {},
     "output_type": "execute_result"
    }
   ],
   "source": [
    "data1 = {'Fechas': [2010, 2011, 2012, 2011, 2012, 2010, 2011, 2012],\n",
    "        'Lenguaje': ['R', 'Python', 'Python', 'Java', 'Java', 'C++', 'C++', 'C++'],\n",
    "        'vic': [11, 8, 10, 15, 11, 6, 10, 4],\n",
    "        'per': [5, 8, 6, 1, 5, 10, 6, 12]}\n",
    "df2 = pd.DataFrame(data1, columns=['Fechas', 'Lenguaje', 'vic', 'per'])\n",
    "df2"
   ]
  },
  {
   "cell_type": "markdown",
   "metadata": {},
   "source": [
    "## Split-Apply-Combine\n",
    "\n",
    "Muchas operaciones  estadísticas se dividen (`split`) a lo largo de una cierta característica, a continuación,se aplica (`apply`) una función  a cada subgrupo y finalmente  se combina (`combine`) el resultado  en un objeto. Esto se conoce como la estrategia `split-apply-combine` y  se implementa en  pandas a través de  `groupby()` y una función que se puede aplicar a cada subgrupo."
   ]
  },
  {
   "cell_type": "code",
   "execution_count": 27,
   "metadata": {
    "collapsed": false
   },
   "outputs": [
    {
     "data": {
      "text/html": [
       "<div>\n",
       "<table border=\"1\" class=\"dataframe\">\n",
       "  <thead>\n",
       "    <tr style=\"text-align: right;\">\n",
       "      <th></th>\n",
       "      <th>total_bill</th>\n",
       "      <th>tip</th>\n",
       "      <th>sex</th>\n",
       "      <th>smoker</th>\n",
       "      <th>day</th>\n",
       "      <th>time</th>\n",
       "      <th>size</th>\n",
       "    </tr>\n",
       "  </thead>\n",
       "  <tbody>\n",
       "    <tr>\n",
       "      <th>0</th>\n",
       "      <td>16.99</td>\n",
       "      <td>1.01</td>\n",
       "      <td>Female</td>\n",
       "      <td>No</td>\n",
       "      <td>Sun</td>\n",
       "      <td>Dinner</td>\n",
       "      <td>2</td>\n",
       "    </tr>\n",
       "    <tr>\n",
       "      <th>1</th>\n",
       "      <td>10.34</td>\n",
       "      <td>1.66</td>\n",
       "      <td>Male</td>\n",
       "      <td>No</td>\n",
       "      <td>Sun</td>\n",
       "      <td>Dinner</td>\n",
       "      <td>3</td>\n",
       "    </tr>\n",
       "    <tr>\n",
       "      <th>2</th>\n",
       "      <td>21.01</td>\n",
       "      <td>3.50</td>\n",
       "      <td>Male</td>\n",
       "      <td>No</td>\n",
       "      <td>Sun</td>\n",
       "      <td>Dinner</td>\n",
       "      <td>3</td>\n",
       "    </tr>\n",
       "    <tr>\n",
       "      <th>3</th>\n",
       "      <td>23.68</td>\n",
       "      <td>3.31</td>\n",
       "      <td>Male</td>\n",
       "      <td>No</td>\n",
       "      <td>Sun</td>\n",
       "      <td>Dinner</td>\n",
       "      <td>2</td>\n",
       "    </tr>\n",
       "    <tr>\n",
       "      <th>4</th>\n",
       "      <td>24.59</td>\n",
       "      <td>3.61</td>\n",
       "      <td>Female</td>\n",
       "      <td>No</td>\n",
       "      <td>Sun</td>\n",
       "      <td>Dinner</td>\n",
       "      <td>4</td>\n",
       "    </tr>\n",
       "  </tbody>\n",
       "</table>\n",
       "</div>"
      ],
      "text/plain": [
       "   total_bill   tip     sex smoker  day    time  size\n",
       "0       16.99  1.01  Female     No  Sun  Dinner     2\n",
       "1       10.34  1.66    Male     No  Sun  Dinner     3\n",
       "2       21.01  3.50    Male     No  Sun  Dinner     3\n",
       "3       23.68  3.31    Male     No  Sun  Dinner     2\n",
       "4       24.59  3.61  Female     No  Sun  Dinner     4"
      ]
     },
     "execution_count": 27,
     "metadata": {},
     "output_type": "execute_result"
    }
   ],
   "source": [
    "#Ejemplo de la estrategia: split-apply-combine\n",
    "\n",
    "url = 'https://raw.github.com/pydata/pandas/master/pandas/tests/data/tips.csv'\n",
    "tips = pd.read_csv(url)\n",
    "tips.head()"
   ]
  },
  {
   "cell_type": "code",
   "execution_count": 38,
   "metadata": {
    "collapsed": false
   },
   "outputs": [
    {
     "data": {
      "text/plain": [
       "<pandas.core.groupby.DataFrameGroupBy object at 0x7fc57afe6e10>"
      ]
     },
     "execution_count": 38,
     "metadata": {},
     "output_type": "execute_result"
    }
   ],
   "source": [
    "# Dividimos la base de datos sex y smoker en 2x2 grupos \n",
    "\n",
    "grupos = tips.groupby(['sex', 'smoker'])\n",
    "grupos"
   ]
  },
  {
   "cell_type": "code",
   "execution_count": 39,
   "metadata": {
    "collapsed": false
   },
   "outputs": [
    {
     "data": {
      "text/plain": [
       "sex     smoker\n",
       "Female  No        54\n",
       "        Yes       33\n",
       "Male    No        97\n",
       "        Yes       60\n",
       "dtype: int64"
      ]
     },
     "execution_count": 39,
     "metadata": {},
     "output_type": "execute_result"
    }
   ],
   "source": [
    "# Aplicamos la funcion size() para contar el numero de entradas por grupo\n",
    "\n",
    "grupos.size()"
   ]
  },
  {
   "cell_type": "code",
   "execution_count": 40,
   "metadata": {
    "collapsed": false
   },
   "outputs": [
    {
     "data": {
      "text/html": [
       "<div>\n",
       "<table border=\"1\" class=\"dataframe\">\n",
       "  <thead>\n",
       "    <tr style=\"text-align: right;\">\n",
       "      <th>smoker</th>\n",
       "      <th>No</th>\n",
       "      <th>Yes</th>\n",
       "      <th>All</th>\n",
       "    </tr>\n",
       "    <tr>\n",
       "      <th>sex</th>\n",
       "      <th></th>\n",
       "      <th></th>\n",
       "      <th></th>\n",
       "    </tr>\n",
       "  </thead>\n",
       "  <tbody>\n",
       "    <tr>\n",
       "      <th>Female</th>\n",
       "      <td>54</td>\n",
       "      <td>33</td>\n",
       "      <td>87</td>\n",
       "    </tr>\n",
       "    <tr>\n",
       "      <th>Male</th>\n",
       "      <td>97</td>\n",
       "      <td>60</td>\n",
       "      <td>157</td>\n",
       "    </tr>\n",
       "    <tr>\n",
       "      <th>All</th>\n",
       "      <td>151</td>\n",
       "      <td>93</td>\n",
       "      <td>244</td>\n",
       "    </tr>\n",
       "  </tbody>\n",
       "</table>\n",
       "</div>"
      ],
      "text/plain": [
       "smoker   No  Yes  All\n",
       "sex                  \n",
       "Female   54   33   87\n",
       "Male     97   60  157\n",
       "All     151   93  244"
      ]
     },
     "execution_count": 40,
     "metadata": {},
     "output_type": "execute_result"
    }
   ],
   "source": [
    "# Si necesitamos los margenes, usamos la funcion crosstab\n",
    "\n",
    "pd.crosstab(tips.sex, tips.smoker, margins=True)"
   ]
  },
  {
   "cell_type": "code",
   "execution_count": 41,
   "metadata": {
    "collapsed": false
   },
   "outputs": [
    {
     "data": {
      "text/html": [
       "<div>\n",
       "<table border=\"1\" class=\"dataframe\">\n",
       "  <thead>\n",
       "    <tr style=\"text-align: right;\">\n",
       "      <th></th>\n",
       "      <th></th>\n",
       "      <th>total_bill</th>\n",
       "      <th>tip</th>\n",
       "      <th>size</th>\n",
       "    </tr>\n",
       "    <tr>\n",
       "      <th>sex</th>\n",
       "      <th>smoker</th>\n",
       "      <th></th>\n",
       "      <th></th>\n",
       "      <th></th>\n",
       "    </tr>\n",
       "  </thead>\n",
       "  <tbody>\n",
       "    <tr>\n",
       "      <th rowspan=\"2\" valign=\"top\">Female</th>\n",
       "      <th>No</th>\n",
       "      <td>18.105185</td>\n",
       "      <td>2.773519</td>\n",
       "      <td>2.592593</td>\n",
       "    </tr>\n",
       "    <tr>\n",
       "      <th>Yes</th>\n",
       "      <td>17.977879</td>\n",
       "      <td>2.931515</td>\n",
       "      <td>2.242424</td>\n",
       "    </tr>\n",
       "    <tr>\n",
       "      <th rowspan=\"2\" valign=\"top\">Male</th>\n",
       "      <th>No</th>\n",
       "      <td>19.791237</td>\n",
       "      <td>3.113402</td>\n",
       "      <td>2.711340</td>\n",
       "    </tr>\n",
       "    <tr>\n",
       "      <th>Yes</th>\n",
       "      <td>22.284500</td>\n",
       "      <td>3.051167</td>\n",
       "      <td>2.500000</td>\n",
       "    </tr>\n",
       "  </tbody>\n",
       "</table>\n",
       "</div>"
      ],
      "text/plain": [
       "               total_bill       tip      size\n",
       "sex    smoker                                \n",
       "Female No       18.105185  2.773519  2.592593\n",
       "       Yes      17.977879  2.931515  2.242424\n",
       "Male   No       19.791237  3.113402  2.711340\n",
       "       Yes      22.284500  3.051167  2.500000"
      ]
     },
     "execution_count": 41,
     "metadata": {},
     "output_type": "execute_result"
    }
   ],
   "source": [
    "# Si se genera más de 1 columna en  los resultados, se devuelve una data frame\n",
    "\n",
    "grupos.mean()"
   ]
  },
  {
   "cell_type": "code",
   "execution_count": 46,
   "metadata": {
    "collapsed": false
   },
   "outputs": [
    {
     "data": {
      "text/html": [
       "<div>\n",
       "<table border=\"1\" class=\"dataframe\">\n",
       "  <thead>\n",
       "    <tr style=\"text-align: right;\">\n",
       "      <th></th>\n",
       "      <th>total_bill</th>\n",
       "      <th>tip</th>\n",
       "    </tr>\n",
       "  </thead>\n",
       "  <tbody>\n",
       "    <tr>\n",
       "      <th>0</th>\n",
       "      <td>-0.153049</td>\n",
       "      <td>-1.562813</td>\n",
       "    </tr>\n",
       "    <tr>\n",
       "      <th>1</th>\n",
       "      <td>-1.083042</td>\n",
       "      <td>-0.975727</td>\n",
       "    </tr>\n",
       "    <tr>\n",
       "      <th>2</th>\n",
       "      <td>0.139661</td>\n",
       "      <td>0.259539</td>\n",
       "    </tr>\n",
       "    <tr>\n",
       "      <th>3</th>\n",
       "      <td>0.445623</td>\n",
       "      <td>0.131984</td>\n",
       "    </tr>\n",
       "  </tbody>\n",
       "</table>\n",
       "</div>"
      ],
      "text/plain": [
       "   total_bill       tip\n",
       "0   -0.153049 -1.562813\n",
       "1   -1.083042 -0.975727\n",
       "2    0.139661  0.259539\n",
       "3    0.445623  0.131984"
      ]
     },
     "execution_count": 46,
     "metadata": {},
     "output_type": "execute_result"
    }
   ],
   "source": [
    "# Podemos transformar los datos originales para analisis mas conveniente\n",
    "# Por ejemplo, supongamos que queremos estandizar unidades para total_bill y tips\n",
    "\n",
    "zscore = lambda x: (x - x.mean())/x.std()\n",
    "\n",
    "std_grupos = grupos['total_bill', 'tip'].transform(zscore)\n",
    "std_grupos.head(n=4)"
   ]
  },
  {
   "cell_type": "code",
   "execution_count": 47,
   "metadata": {
    "collapsed": false
   },
   "outputs": [
    {
     "data": {
      "text/html": [
       "<div>\n",
       "<table border=\"1\" class=\"dataframe\">\n",
       "  <thead>\n",
       "    <tr>\n",
       "      <th></th>\n",
       "      <th></th>\n",
       "      <th colspan=\"3\" halign=\"left\">total_bill</th>\n",
       "      <th colspan=\"3\" halign=\"left\">tip</th>\n",
       "    </tr>\n",
       "    <tr>\n",
       "      <th></th>\n",
       "      <th></th>\n",
       "      <th>mean</th>\n",
       "      <th>min</th>\n",
       "      <th>max</th>\n",
       "      <th>mean</th>\n",
       "      <th>min</th>\n",
       "      <th>max</th>\n",
       "    </tr>\n",
       "    <tr>\n",
       "      <th>sex</th>\n",
       "      <th>smoker</th>\n",
       "      <th></th>\n",
       "      <th></th>\n",
       "      <th></th>\n",
       "      <th></th>\n",
       "      <th></th>\n",
       "      <th></th>\n",
       "    </tr>\n",
       "  </thead>\n",
       "  <tbody>\n",
       "    <tr>\n",
       "      <th rowspan=\"2\" valign=\"top\">Female</th>\n",
       "      <th>No</th>\n",
       "      <td>18.105185</td>\n",
       "      <td>7.25</td>\n",
       "      <td>35.83</td>\n",
       "      <td>2.773519</td>\n",
       "      <td>1.00</td>\n",
       "      <td>5.2</td>\n",
       "    </tr>\n",
       "    <tr>\n",
       "      <th>Yes</th>\n",
       "      <td>17.977879</td>\n",
       "      <td>3.07</td>\n",
       "      <td>44.30</td>\n",
       "      <td>2.931515</td>\n",
       "      <td>1.00</td>\n",
       "      <td>6.5</td>\n",
       "    </tr>\n",
       "    <tr>\n",
       "      <th rowspan=\"2\" valign=\"top\">Male</th>\n",
       "      <th>No</th>\n",
       "      <td>19.791237</td>\n",
       "      <td>7.51</td>\n",
       "      <td>48.33</td>\n",
       "      <td>3.113402</td>\n",
       "      <td>1.25</td>\n",
       "      <td>9.0</td>\n",
       "    </tr>\n",
       "    <tr>\n",
       "      <th>Yes</th>\n",
       "      <td>22.284500</td>\n",
       "      <td>7.25</td>\n",
       "      <td>50.81</td>\n",
       "      <td>3.051167</td>\n",
       "      <td>1.00</td>\n",
       "      <td>10.0</td>\n",
       "    </tr>\n",
       "  </tbody>\n",
       "</table>\n",
       "</div>"
      ],
      "text/plain": [
       "              total_bill                    tip            \n",
       "                    mean   min    max      mean   min   max\n",
       "sex    smoker                                              \n",
       "Female No      18.105185  7.25  35.83  2.773519  1.00   5.2\n",
       "       Yes     17.977879  3.07  44.30  2.931515  1.00   6.5\n",
       "Male   No      19.791237  7.51  48.33  3.113402  1.25   9.0\n",
       "       Yes     22.284500  7.25  50.81  3.051167  1.00  10.0"
      ]
     },
     "execution_count": 47,
     "metadata": {},
     "output_type": "execute_result"
    }
   ],
   "source": [
    "# Supongamos que queremos aplicar  un conjunto de funciones a\n",
    "# algunas columnas del conjunto de datos\n",
    "\n",
    "grupos['total_bill', 'tip'].agg(['mean', 'min', 'max'])"
   ]
  },
  {
   "cell_type": "code",
   "execution_count": 49,
   "metadata": {
    "collapsed": false
   },
   "outputs": [
    {
     "data": {
      "text/html": [
       "<div>\n",
       "<table border=\"1\" class=\"dataframe\">\n",
       "  <thead>\n",
       "    <tr>\n",
       "      <th></th>\n",
       "      <th></th>\n",
       "      <th colspan=\"2\" halign=\"left\">total_bill</th>\n",
       "      <th>tip</th>\n",
       "    </tr>\n",
       "    <tr>\n",
       "      <th></th>\n",
       "      <th></th>\n",
       "      <th>min</th>\n",
       "      <th>max</th>\n",
       "      <th>sum</th>\n",
       "    </tr>\n",
       "    <tr>\n",
       "      <th>sex</th>\n",
       "      <th>smoker</th>\n",
       "      <th></th>\n",
       "      <th></th>\n",
       "      <th></th>\n",
       "    </tr>\n",
       "  </thead>\n",
       "  <tbody>\n",
       "    <tr>\n",
       "      <th rowspan=\"2\" valign=\"top\">Female</th>\n",
       "      <th>No</th>\n",
       "      <td>7.25</td>\n",
       "      <td>35.83</td>\n",
       "      <td>149.77</td>\n",
       "    </tr>\n",
       "    <tr>\n",
       "      <th>Yes</th>\n",
       "      <td>3.07</td>\n",
       "      <td>44.30</td>\n",
       "      <td>96.74</td>\n",
       "    </tr>\n",
       "    <tr>\n",
       "      <th rowspan=\"2\" valign=\"top\">Male</th>\n",
       "      <th>No</th>\n",
       "      <td>7.51</td>\n",
       "      <td>48.33</td>\n",
       "      <td>302.00</td>\n",
       "    </tr>\n",
       "    <tr>\n",
       "      <th>Yes</th>\n",
       "      <td>7.25</td>\n",
       "      <td>50.81</td>\n",
       "      <td>183.07</td>\n",
       "    </tr>\n",
       "  </tbody>\n",
       "</table>\n",
       "</div>"
      ],
      "text/plain": [
       "              total_bill            tip\n",
       "                     min    max     sum\n",
       "sex    smoker                          \n",
       "Female No           7.25  35.83  149.77\n",
       "       Yes          3.07  44.30   96.74\n",
       "Male   No           7.51  48.33  302.00\n",
       "       Yes          7.25  50.81  183.07"
      ]
     },
     "execution_count": 49,
     "metadata": {},
     "output_type": "execute_result"
    }
   ],
   "source": [
    "# Podemos aplicar funciones especificas para especificas columnas\n",
    "\n",
    "df5 = grupos.agg({'total_bill': (min, max), 'tip': sum})\n",
    "df5"
   ]
  },
  {
   "cell_type": "markdown",
   "metadata": {},
   "source": [
    "### CSV\n",
    "\n",
    "Leer archivos `csv` se realiza utilizando la función `read_csv`. Por defecto esta función usa la coma como un separador de columnas, pero se puede cambiar con el parámetro `sep`."
   ]
  },
  {
   "cell_type": "code",
   "execution_count": 58,
   "metadata": {
    "collapsed": false
   },
   "outputs": [
    {
     "name": "stdout",
     "output_type": "stream",
     "text": [
      "iris.csv\n",
      "Pandas.ipynb\n"
     ]
    }
   ],
   "source": [
    "%%bash\n",
    "ls"
   ]
  },
  {
   "cell_type": "code",
   "execution_count": 59,
   "metadata": {
    "collapsed": false
   },
   "outputs": [
    {
     "name": "stdout",
     "output_type": "stream",
     "text": [
      "Sepalo.Longitud,Sepalo.Ancho,Petalo.Longitud,Petalo.Ancho,Especies\n",
      "5.1,3.5,1.4,0.2,setosa\n",
      "4.9,3,1.4,0.2,setosa\n",
      "4.7,3.2,1.3,0.2,setosa\n",
      "4.6,3.1,1.5,0.2,setosa\n"
     ]
    }
   ],
   "source": [
    "!head -n 5 iris.csv"
   ]
  },
  {
   "cell_type": "code",
   "execution_count": 60,
   "metadata": {
    "collapsed": false
   },
   "outputs": [
    {
     "data": {
      "text/html": [
       "<div>\n",
       "<table border=\"1\" class=\"dataframe\">\n",
       "  <thead>\n",
       "    <tr style=\"text-align: right;\">\n",
       "      <th></th>\n",
       "      <th>Sepalo.Longitud</th>\n",
       "      <th>Sepalo.Ancho</th>\n",
       "      <th>Petalo.Longitud</th>\n",
       "      <th>Petalo.Ancho</th>\n",
       "      <th>Especies</th>\n",
       "    </tr>\n",
       "  </thead>\n",
       "  <tbody>\n",
       "    <tr>\n",
       "      <th>0</th>\n",
       "      <td>5.1</td>\n",
       "      <td>3.5</td>\n",
       "      <td>1.4</td>\n",
       "      <td>0.2</td>\n",
       "      <td>setosa</td>\n",
       "    </tr>\n",
       "    <tr>\n",
       "      <th>1</th>\n",
       "      <td>4.9</td>\n",
       "      <td>3.0</td>\n",
       "      <td>1.4</td>\n",
       "      <td>0.2</td>\n",
       "      <td>setosa</td>\n",
       "    </tr>\n",
       "    <tr>\n",
       "      <th>2</th>\n",
       "      <td>4.7</td>\n",
       "      <td>3.2</td>\n",
       "      <td>1.3</td>\n",
       "      <td>0.2</td>\n",
       "      <td>setosa</td>\n",
       "    </tr>\n",
       "    <tr>\n",
       "      <th>3</th>\n",
       "      <td>4.6</td>\n",
       "      <td>3.1</td>\n",
       "      <td>1.5</td>\n",
       "      <td>0.2</td>\n",
       "      <td>setosa</td>\n",
       "    </tr>\n",
       "    <tr>\n",
       "      <th>4</th>\n",
       "      <td>5.0</td>\n",
       "      <td>3.6</td>\n",
       "      <td>1.4</td>\n",
       "      <td>0.2</td>\n",
       "      <td>setosa</td>\n",
       "    </tr>\n",
       "  </tbody>\n",
       "</table>\n",
       "</div>"
      ],
      "text/plain": [
       "   Sepalo.Longitud  Sepalo.Ancho  Petalo.Longitud  Petalo.Ancho Especies\n",
       "0              5.1           3.5              1.4           0.2   setosa\n",
       "1              4.9           3.0              1.4           0.2   setosa\n",
       "2              4.7           3.2              1.3           0.2   setosa\n",
       "3              4.6           3.1              1.5           0.2   setosa\n",
       "4              5.0           3.6              1.4           0.2   setosa"
      ]
     },
     "execution_count": 60,
     "metadata": {},
     "output_type": "execute_result"
    }
   ],
   "source": [
    "csv1 = pd.read_csv('iris.csv')\n",
    "csv1.head()"
   ]
  },
  {
   "cell_type": "markdown",
   "metadata": {},
   "source": [
    "## Usando statsmodels\n",
    "\n",
    "Muchas de las herramientas estadísticas de R, son replicadas por [Statsmodels](http://statsmodels.sourceforge.net/) un módulo de Python para computación estadística y análisis de datos en Python. Statsmodels abarca los siguientes ítems:\n",
    "\n",
    "* Modelos de regresión lineal.\n",
    "* Modelos lineales generalizados.\n",
    "* Estimados noparamétricos.\n",
    "* Colección de conjuntos de datos\n",
    "* Gráfico de funciones.\n",
    "* Test estadísticos.\n",
    "* Pruebas unitarias.\n",
    "* Análisis de series de tiempo.\n",
    "* Herramientas de entrada y salida.\n"
   ]
  },
  {
   "cell_type": "code",
   "execution_count": 6,
   "metadata": {
    "collapsed": false
   },
   "outputs": [
    {
     "name": "stdout",
     "output_type": "stream",
     "text": [
      "iris.csv\n",
      "Pandas.ipynb\n",
      "salario.table\n"
     ]
    }
   ],
   "source": [
    "%%bash\n",
    "ls"
   ]
  },
  {
   "cell_type": "code",
   "execution_count": 16,
   "metadata": {
    "collapsed": false
   },
   "outputs": [],
   "source": [
    "# Ejemplo de Jonathan Taylor ANOVA (Documentacion de Statsmodels)\n",
    "\n",
    "from __future__ import print_function\n",
    "from statsmodels.compat import urlopen\n",
    "np.set_printoptions(precision=4, suppress=True)\n",
    "import statsmodels.api as sm\n",
    "pd.set_option(\"display.width\", 100)\n",
    "from statsmodels.formula.api import ols\n",
    "from statsmodels.graphics.api import interaction_plot, abline_plot\n",
    "from statsmodels.stats.anova import anova_lm\n",
    "\n",
    "try:\n",
    "    salary_table = pd.read_csv('salary.table')\n",
    "except:  \n",
    "    url = 'http://stats191.stanford.edu/data/salary.table'\n",
    "    fh = urlopen(url)\n",
    "    salary_table = pd.read_table(fh)\n",
    "    salary_table.to_csv('salary.table')\n",
    "\n",
    "E = salary_table.E\n",
    "M = salary_table.M\n",
    "X = salary_table.X\n",
    "S = salary_table.S\n"
   ]
  },
  {
   "cell_type": "markdown",
   "metadata": {},
   "source": [
    "Grafiquemos los datos."
   ]
  },
  {
   "cell_type": "code",
   "execution_count": 18,
   "metadata": {
    "collapsed": false
   },
   "outputs": [
    {
     "data": {
      "image/png": "[encoded data removed]",
      "text/plain": [
       "<matplotlib.figure.Figure at 0x7fc57b4f5ef0>"
      ]
     },
     "metadata": {},
     "output_type": "display_data"
    }
   ],
   "source": [
    "plt.figure(figsize=(6,6))\n",
    "simbolos = ['D', '^']\n",
    "colores = ['r', 'g', 'blue']\n",
    "f_g = salary_table.groupby(['E','M'])\n",
    "for valores, group in f_g:\n",
    "    i,j = valores\n",
    "    plt.scatter(group['X'], group['S'], marker=simbolos[j], color=colores[i-1],\n",
    "               s=144)\n",
    "plt.xlabel('Experiencia');\n",
    "plt.ylabel('Salario');"
   ]
  },
  {
   "cell_type": "markdown",
   "metadata": {},
   "source": [
    "Fijamos un modelo"
   ]
  },
  {
   "cell_type": "code",
   "execution_count": 19,
   "metadata": {
    "collapsed": false
   },
   "outputs": [
    {
     "name": "stdout",
     "output_type": "stream",
     "text": [
      "                            OLS Regression Results                            \n",
      "==============================================================================\n",
      "Dep. Variable:                      S   R-squared:                       0.957\n",
      "Model:                            OLS   Adj. R-squared:                  0.953\n",
      "Method:                 Least Squares   F-statistic:                     226.8\n",
      "Date:                lun, 30 may 2016   Prob (F-statistic):           2.23e-27\n",
      "Time:                        19:27:04   Log-Likelihood:                -381.63\n",
      "No. Observations:                  46   AIC:                             773.3\n",
      "Df Residuals:                      41   BIC:                             782.4\n",
      "Df Model:                           4                                         \n",
      "Covariance Type:            nonrobust                                         \n",
      "==============================================================================\n",
      "                 coef    std err          t      P>|t|      [95.0% Conf. Int.]\n",
      "------------------------------------------------------------------------------\n",
      "Intercept   8035.5976    386.689     20.781      0.000      7254.663  8816.532\n",
      "C(E)[T.2]   3144.0352    361.968      8.686      0.000      2413.025  3875.045\n",
      "C(E)[T.3]   2996.2103    411.753      7.277      0.000      2164.659  3827.762\n",
      "C(M)[T.1]   6883.5310    313.919     21.928      0.000      6249.559  7517.503\n",
      "X            546.1840     30.519     17.896      0.000       484.549   607.819\n",
      "==============================================================================\n",
      "Omnibus:                        2.293   Durbin-Watson:                   2.237\n",
      "Prob(Omnibus):                  0.318   Jarque-Bera (JB):                1.362\n",
      "Skew:                          -0.077   Prob(JB):                        0.506\n",
      "Kurtosis:                       2.171   Cond. No.                         33.5\n",
      "==============================================================================\n",
      "\n",
      "Warnings:\n",
      "[1] Standard Errors assume that the covariance matrix of the errors is correctly specified.\n"
     ]
    }
   ],
   "source": [
    "formula = 'S ~ C(E) + C(M) + X'\n",
    "lm = ols(formula, salary_table).fit()\n",
    "print(lm.summary())"
   ]
  },
  {
   "cell_type": "code",
   "execution_count": 22,
   "metadata": {
    "collapsed": false
   },
   "outputs": [
    {
     "data": {
      "text/html": [
       "<div>\n",
       "<table border=\"1\" class=\"dataframe\">\n",
       "  <thead>\n",
       "    <tr style=\"text-align: right;\">\n",
       "      <th></th>\n",
       "      <th>Intercept</th>\n",
       "      <th>C(E)[T.2]</th>\n",
       "      <th>C(E)[T.3]</th>\n",
       "      <th>C(M)[T.1]</th>\n",
       "      <th>X</th>\n",
       "    </tr>\n",
       "  </thead>\n",
       "  <tbody>\n",
       "    <tr>\n",
       "      <th>0</th>\n",
       "      <td>1</td>\n",
       "      <td>0</td>\n",
       "      <td>0</td>\n",
       "      <td>1</td>\n",
       "      <td>1</td>\n",
       "    </tr>\n",
       "    <tr>\n",
       "      <th>1</th>\n",
       "      <td>1</td>\n",
       "      <td>0</td>\n",
       "      <td>1</td>\n",
       "      <td>0</td>\n",
       "      <td>1</td>\n",
       "    </tr>\n",
       "    <tr>\n",
       "      <th>2</th>\n",
       "      <td>1</td>\n",
       "      <td>0</td>\n",
       "      <td>1</td>\n",
       "      <td>1</td>\n",
       "      <td>1</td>\n",
       "    </tr>\n",
       "    <tr>\n",
       "      <th>3</th>\n",
       "      <td>1</td>\n",
       "      <td>1</td>\n",
       "      <td>0</td>\n",
       "      <td>0</td>\n",
       "      <td>1</td>\n",
       "    </tr>\n",
       "    <tr>\n",
       "      <th>4</th>\n",
       "      <td>1</td>\n",
       "      <td>0</td>\n",
       "      <td>1</td>\n",
       "      <td>0</td>\n",
       "      <td>1</td>\n",
       "    </tr>\n",
       "  </tbody>\n",
       "</table>\n",
       "</div>"
      ],
      "text/plain": [
       "   Intercept  C(E)[T.2]  C(E)[T.3]  C(M)[T.1]  X\n",
       "0          1          0          0          1  1\n",
       "1          1          0          1          0  1\n",
       "2          1          0          1          1  1\n",
       "3          1          1          0          0  1\n",
       "4          1          0          1          0  1"
      ]
     },
     "execution_count": 22,
     "metadata": {},
     "output_type": "execute_result"
    }
   ],
   "source": [
    "# data frame disponible\n",
    "\n",
    "lm.model.data.orig_exog[:5]"
   ]
  },
  {
   "cell_type": "code",
   "execution_count": 23,
   "metadata": {
    "collapsed": false
   },
   "outputs": [
    {
     "data": {
      "text/html": [
       "<div>\n",
       "<table border=\"1\" class=\"dataframe\">\n",
       "  <thead>\n",
       "    <tr style=\"text-align: right;\">\n",
       "      <th></th>\n",
       "      <th>Unnamed: 0</th>\n",
       "      <th>S</th>\n",
       "      <th>X</th>\n",
       "      <th>E</th>\n",
       "      <th>M</th>\n",
       "    </tr>\n",
       "  </thead>\n",
       "  <tbody>\n",
       "    <tr>\n",
       "      <th>0</th>\n",
       "      <td>0</td>\n",
       "      <td>13876</td>\n",
       "      <td>1</td>\n",
       "      <td>1</td>\n",
       "      <td>1</td>\n",
       "    </tr>\n",
       "    <tr>\n",
       "      <th>1</th>\n",
       "      <td>1</td>\n",
       "      <td>11608</td>\n",
       "      <td>1</td>\n",
       "      <td>3</td>\n",
       "      <td>0</td>\n",
       "    </tr>\n",
       "    <tr>\n",
       "      <th>2</th>\n",
       "      <td>2</td>\n",
       "      <td>18701</td>\n",
       "      <td>1</td>\n",
       "      <td>3</td>\n",
       "      <td>1</td>\n",
       "    </tr>\n",
       "    <tr>\n",
       "      <th>3</th>\n",
       "      <td>3</td>\n",
       "      <td>11283</td>\n",
       "      <td>1</td>\n",
       "      <td>2</td>\n",
       "      <td>0</td>\n",
       "    </tr>\n",
       "    <tr>\n",
       "      <th>4</th>\n",
       "      <td>4</td>\n",
       "      <td>11767</td>\n",
       "      <td>1</td>\n",
       "      <td>3</td>\n",
       "      <td>0</td>\n",
       "    </tr>\n",
       "  </tbody>\n",
       "</table>\n",
       "</div>"
      ],
      "text/plain": [
       "   Unnamed: 0      S  X  E  M\n",
       "0           0  13876  1  1  1\n",
       "1           1  11608  1  3  0\n",
       "2           2  18701  1  3  1\n",
       "3           3  11283  1  2  0\n",
       "4           4  11767  1  3  0"
      ]
     },
     "execution_count": 23,
     "metadata": {},
     "output_type": "execute_result"
    }
   ],
   "source": [
    "# Mantenemos una referencia a los datos originales\n",
    "\n",
    "lm.model.data.frame[:5]"
   ]
  },
  {
   "cell_type": "markdown",
   "metadata": {},
   "source": [
    "Probemos algunas interacciones mediante `ANOVA` o `f_test`"
   ]
  },
  {
   "cell_type": "code",
   "execution_count": 24,
   "metadata": {
    "collapsed": false
   },
   "outputs": [
    {
     "name": "stdout",
     "output_type": "stream",
     "text": [
      "                            OLS Regression Results                            \n",
      "==============================================================================\n",
      "Dep. Variable:                      S   R-squared:                       0.961\n",
      "Model:                            OLS   Adj. R-squared:                  0.955\n",
      "Method:                 Least Squares   F-statistic:                     158.6\n",
      "Date:                lun, 30 may 2016   Prob (F-statistic):           8.23e-26\n",
      "Time:                        19:53:04   Log-Likelihood:                -379.47\n",
      "No. Observations:                  46   AIC:                             772.9\n",
      "Df Residuals:                      39   BIC:                             785.7\n",
      "Df Model:                           6                                         \n",
      "Covariance Type:            nonrobust                                         \n",
      "===============================================================================\n",
      "                  coef    std err          t      P>|t|      [95.0% Conf. Int.]\n",
      "-------------------------------------------------------------------------------\n",
      "Intercept    7256.2800    549.494     13.205      0.000      6144.824  8367.736\n",
      "C(E)[T.2]    4172.5045    674.966      6.182      0.000      2807.256  5537.753\n",
      "C(E)[T.3]    3946.3649    686.693      5.747      0.000      2557.396  5335.333\n",
      "C(M)[T.1]    7102.4539    333.442     21.300      0.000      6428.005  7776.903\n",
      "X             632.2878     53.185     11.888      0.000       524.710   739.865\n",
      "C(E)[T.2]:X  -125.5147     69.863     -1.797      0.080      -266.826    15.796\n",
      "C(E)[T.3]:X  -141.2741     89.281     -1.582      0.122      -321.861    39.313\n",
      "==============================================================================\n",
      "Omnibus:                        0.432   Durbin-Watson:                   2.179\n",
      "Prob(Omnibus):                  0.806   Jarque-Bera (JB):                0.590\n",
      "Skew:                           0.144   Prob(JB):                        0.744\n",
      "Kurtosis:                       2.526   Cond. No.                         69.7\n",
      "==============================================================================\n",
      "\n",
      "Warnings:\n",
      "[1] Standard Errors assume that the covariance matrix of the errors is correctly specified.\n"
     ]
    }
   ],
   "source": [
    "interX_lm = ols(\"S ~ C(E) * X + C(M)\", salary_table).fit()\n",
    "print(interX_lm.summary())"
   ]
  },
  {
   "cell_type": "markdown",
   "metadata": {},
   "source": [
    "## Usando R\n",
    "\n",
    "Jupyter permite usar R sin problemas usando la extensión `Rmagic (rpy2.ipython)`. Hay dos maneras de usar `Rmagic`:\n",
    "\n",
    "- Usando `%R` que se aplica a una sóla línea.\n",
    "- `%% R`, se aplica a toda una caja.\n",
    "\n",
    "Los objetos Python puede ser pasados en R con el flag `-i` y los objetos R, son pasados con el flag `-o`."
   ]
  },
  {
   "cell_type": "code",
   "execution_count": null,
   "metadata": {
    "collapsed": true
   },
   "outputs": [],
   "source": []
  }
 ],
 "metadata": {
  "kernelspec": {
   "display_name": "Python 3",
   "language": "python",
   "name": "python3"
  },
  "language_info": {
   "codemirror_mode": {
    "name": "ipython",
    "version": 3
   },
   "file_extension": ".py",
   "mimetype": "text/x-python",
   "name": "python",
   "nbconvert_exporter": "python",
   "pygments_lexer": "ipython3",
   "version": "3.5.1"
  }
 },
 "nbformat": 4,
 "nbformat_minor": 0
}
