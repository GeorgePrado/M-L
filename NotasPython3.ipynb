{
 "cells": [
  {
   "cell_type": "markdown",
   "metadata": {},
   "source": [
    "# Notas de Python\n",
    "\n",
    "1. Introduction to programming and Composing Programs John DeNero"
   ]
  },
  {
   "cell_type": "markdown",
   "metadata": {},
   "source": [
    "## 1. Construyendo abstracciones con funciones\n",
    "\n",
    "\n",
    "Ciencia de la Computación  es una amplia disciplina académica. Las áreas de los sistemas distribuidos a nivel mundial, la inteligencia artificial, la robótica, las técnicas para gráficos, la seguridad, la computación científica, la arquitectura de computadores, y docenas de nuevos subcampos se  amplían con nuevas técnicas y descubrimientos cada año. El rápido avance de la Cienciad de la Computación  ha dejado pocos aspectos de la vida humana no afectado. El comercio, la comunicación, la ciencia, el arte, el ocio y la política todos se han reinventado como dominios computacionales.\n",
    "\n",
    "Esta alta productividad sólo es posible debido a que la disciplina se basa en un conjunto elegante y potente de  ideas fundamentales. Todo empieza con la  representación de la información, especificando la lógica para procesar esta  y el diseño de las abstracciones que gestionan la complejidad de esa lógica. El dominio de estos fundamentos nos obliga a entender con precisión cómo las computadoras interpretan los programas y como  llevan a cabo procesos computacionales."
   ]
  },
  {
   "cell_type": "markdown",
   "metadata": {},
   "source": [
    "### 1.1 Python"
   ]
  },
  {
   "cell_type": "markdown",
   "metadata": {},
   "source": [
    "Con el fin de definir los procesos computacionales, necesitamos un lenguaje de programación; preferiblemente uno que muchos seres humanos y una gran variedad de computadoras pueden todos entender. En estas notas, vamos a trabajar principalmente con el lenguaje [Python](https://docs.python.org/3/).\n",
    "\n",
    "Python es un lenguaje de programación ampliamente utilizado que ha reclutado a entusiastas de muchas profesiones: programadores web, ingenieros  de juegos, científicos, académicos, e incluso  diseñadores de nuevos lenguajes de programación. Cuando aprendes Python, te unes a una fuerte comunidad de desarrolladores en todo el mundo. Las comunidades de desarrolladores son importantes instituciones: los miembros se ayudan mutuamente a resolver problemas, comparten sus proyectos y experiencias, y colectivamente desarrollan software y herramientas. Miembros dedicados a menudo logra fama y estima  por sus contribuciones.\n",
    "\n",
    "Python destaca como lenguaje instructivo, ya que, a lo largo de su historia, los desarrolladores de Python han hecho hincapié en la interpretabilidad humana del código Python, reforzada por los principios del [zen de Python](https://www.python.org/dev/peps/pep-0020/),  una guía sobre la sencillez, y la legibilidad del lenguaje.\n",
    "\n",
    "Python posee un  amplio conjunto de características sobre  diferentes estilos de programación, si bien no hay una única manera de programar en Python, hay un conjunto de convenciones compartida a través de la comunidad de desarrolladores que facilitan la lectura, la comprensión y la ampliación de los programas existentes. "
   ]
  },
  {
   "cell_type": "markdown",
   "metadata": {},
   "source": [
    "### 1.2 Instalando Python 3\n",
    "\n",
    "Python tiene muchas versiones. El libro [Dive Into Python 3](http://getpython3.com/diveintopython3/) tiene [instrucciones detalladas ](http://getpython3.com/diveintopython3/installing-python.html)  de la instalación para todas las plataformas. Estas instrucciones mencionan la versión de Python 3.1 en varias ocasiones, pero es mejor contar con la última versión de Python 3, como es mi caso\n",
    "\n",
    "```python\n",
    "c-lara@Lara:~/M-L$ python3\n",
    "Python 3.5.1 |Anaconda 2.4.1 (64-bit)| (default, Dec  7 2015, 11:16:01) \n",
    "[GCC 4.4.7 20120313 (Red Hat 4.4.7-1)] on linux\n",
    "Type \"help\", \"copyright\", \"credits\" or \"license\" for more information.\n",
    ">>> \n",
    "```\n",
    "\n",
    "Para mayor orientación, puedes probar estos  en vídeo sobre la [instalación  en Windows](https://www.youtube.com/watch?v=54-wuFsPi0w) y la [instalación en Mac](https://www.youtube.com/watch?v=smHuBHxJdK8) de Python3 , creado por Julia Oh."
   ]
  },
  {
   "cell_type": "markdown",
   "metadata": {},
   "source": [
    "### 1.3 Sesiones Interactivas\n",
    "\n",
    "En una sesión interactiva de Python, escribes algo de código Python tras el símbolo, `>>>`. El *intérprete de Python* lee y ejecuta lo que se  escribe, llevando a cabo diversos comandos. Para iniciar una sesión interactiva, ejecute la aplicación Python 3. Escriba python3 en una terminal (Mac / Unix / Linux) o abra la aplicación Python 3 en Windows.\n",
    "\n",
    "Si ves el indicador de Python, `>>>`, entonces has  iniciado correctamente una sesión interactiva. Estas notas representan ejemplos de interacciones utilizando el sistema, seguido de alguna entrada."
   ]
  },
  {
   "cell_type": "code",
   "execution_count": 8,
   "metadata": {
    "collapsed": false
   },
   "outputs": [
    {
     "data": {
      "text/plain": [
       "5"
      ]
     },
     "execution_count": 8,
     "metadata": {},
     "output_type": "execute_result"
    }
   ],
   "source": [
    "2 +3"
   ]
  },
  {
   "cell_type": "code",
   "execution_count": 9,
   "metadata": {
    "collapsed": true
   },
   "outputs": [],
   "source": [
    "def test_args_kwargs(arg1, arg2, arg3):\n",
    "    print(\"arg1:\", arg1)\n",
    "    print(\"arg2:\", arg2)\n",
    "    print(\"arg3:\", arg3)"
   ]
  },
  {
   "cell_type": "code",
   "execution_count": 10,
   "metadata": {
    "collapsed": false
   },
   "outputs": [
    {
     "name": "stdout",
     "output_type": "stream",
     "text": [
      "arg1: dos\n",
      "arg2: 3\n",
      "arg3: 5\n",
      "arg1: 5\n",
      "arg2: cinco\n",
      "arg3: 3\n"
     ]
    }
   ],
   "source": [
    "args = (\"dos\", 3, 5)\n",
    "test_args_kwargs(*args)\n",
    "kwargs = {\"arg3\": 3, \"arg2\": \"cinco\", \"arg1\": 5}\n",
    "test_args_kwargs(**kwargs)"
   ]
  },
  {
   "cell_type": "markdown",
   "metadata": {},
   "source": [
    "Controles interactivos: cada  sesión mantiene una historia de lo que has escrito. Para acceder a esa historia, pulsa `<control> -P (anterior)` y `<Control> -N (siguiente)`. `<Control> -D` te permite  salir de una sesión, lo que descarta esa historia. Las flechas arriba y abajo  también permiten navegar  través de la historia  de una sesión en algunos sistemas."
   ]
  },
  {
   "cell_type": "markdown",
   "metadata": {},
   "source": [
    "### 1.4 Primer Ejemplo\n",
    "\n",
    "\n",
    "Python tiene  incorporado soporte para una amplia gama de actividades de programación comunes, tales como la manipulación de texto, visualización de gráficos, y la comunicación a través de Internet. La línea de código Python"
   ]
  },
  {
   "cell_type": "code",
   "execution_count": 11,
   "metadata": {
    "collapsed": true
   },
   "outputs": [],
   "source": [
    "from urllib.request import urlopen\n",
    "\n"
   ]
  },
  {
   "cell_type": "markdown",
   "metadata": {},
   "source": [
    "es una declaración de `import ` que carga funcionalidades para acceder a datos en Internet. En particular, pone a disposición una función llamada `urlopen`, que puede acceder al contenido de un localizador uniforme de recursos (URL), la localización de alguna cosa en Internet.\n",
    "\n",
    "**Declaraciones y Expresiones**\n",
    "\n",
    "Python consiste de expresiones y declaraciones. En términos generales, los programas de computador consisten en instrucciones ya sea\n",
    "\n",
    "    1. Calculen algún valor.\n",
    "    2. Lleven a cabo alguna acción.\n",
    "\n",
    "Las declaraciones suelen describir acciones. Cuando el intérprete de Python ejecuta una sentencia, lleva a cabo la acción correspondiente. Por otro lado, las expresiones describen típicamente cálculos. Cuando Python evalúa una expresión, se calcula el valor de esa expresión.\n",
    "\n",
    "La declaración de asignación "
   ]
  },
  {
   "cell_type": "code",
   "execution_count": 12,
   "metadata": {
    "collapsed": true
   },
   "outputs": [],
   "source": [
    "shakespeare = urlopen('http://composingprograms.com/shakespeare.txt')"
   ]
  },
  {
   "cell_type": "markdown",
   "metadata": {},
   "source": [
    "asocia el nombre Shakespeare con el valor de la expresión que sigue a =. Esa expresión  aplica la función `urlopen` a una dirección URL que contiene el texto completo de 37 obras de William Shakespeare, todo en un solo documento de texto.\n",
    "\n",
    "**Funciones**. Las funciones encapsulan la lógica que manipula los  datos. `urlopen` es una función. Una dirección web es un ejemplos de  datos, y el texto de las obras de Shakespeare es otra. El proceso por el cual lo anterior  conduce a este último puede ser compleja, pero podemos aplicar ese proceso utilizando sólo una expresión simple, porque esa complejidad está escondida dentro de nuestra  función.\n",
    "\n",
    "Sea ahora otra declaración de asignamiento"
   ]
  },
  {
   "cell_type": "code",
   "execution_count": 13,
   "metadata": {
    "collapsed": true
   },
   "outputs": [],
   "source": [
    "w = set(shakespeare.read().decode().split())"
   ]
  },
  {
   "cell_type": "markdown",
   "metadata": {},
   "source": [
    "asocia el nombre `w` al conjunto de todas las palabras únicas que aparecen en las obras de Shakespeare, 33,721 de ellas. La cadena de comandos `read`, `decode` y `split`, opera sobre  una entidad computacional intermedia: leemos los datos de la dirección URL abierta (`read`), entonces decodificamos los datos en texto (`decode`), y finalmente dividimos el texto en palabras (`split`). Todas esas palabras se colocan en un conjunto (`set`).\n",
    "\n",
    "\n",
    "**Objetos**. `set` es un tipo de objeto que soporta operaciones de conjuntos como intersecciones e uniones. Un objeto agrupa datos y la lógica que manipula los datos, de  manera que gestiona la complejidad de ambos. "
   ]
  },
  {
   "cell_type": "code",
   "execution_count": 14,
   "metadata": {
    "collapsed": false
   },
   "outputs": [
    {
     "data": {
      "text/plain": [
       "{'diaper', 'drawer', 'redder', 'repaid', 'reward'}"
      ]
     },
     "execution_count": 14,
     "metadata": {},
     "output_type": "execute_result"
    }
   ],
   "source": [
    "{w1 for w1 in w if len(w1) == 6 and w1[::-1] in w}"
   ]
  },
  {
   "cell_type": "markdown",
   "metadata": {},
   "source": [
    "es una expresión compuesta que  evalúa  el conjunto de todas las palabras de Shakespeare que son al mismo tiempo una palabra deletreada al revés. La notación críptica `w1[:: - 1]` enumera cada letra en una palabra, pero el -1 dicta al paso hacia atrás. Cuando se introduce una expresión en una sesión interactiva, Python imprime su valor en la línea siguiente.\n",
    "\n",
    "**Intérpretes**. La evaluación de expresiones compuestas requiere un procedimiento preciso que interprete código de una manera predecible. Un programa que implementa un procedimiento de este tipo, evaluando expresiones compuestas, se llama un intérprete. En comparación con otros programas de ordenador, los intérpretes de lenguajes de programación son únicos en su generalidad. Python no fue diseñado con Shakespeare en mente. Sin embargo, su gran flexibilidad permite que podamos procesar una gran cantidad de texto con sólo unas pocas declaraciones y expresiones.\n",
    "\n",
    "Al final, nos encontraremos con que todos estos conceptos centrales están estrechamente relacionados: las funciones son objetos, los objetos son funciones, y los intérpretes son instancias de ambos. Sin embargo, el desarrollo de una comprensión clara de cada uno de estos conceptos y su papel en la organización de código es fundamental para dominar el arte de la programación."
   ]
  },
  {
   "cell_type": "code",
   "execution_count": null,
   "metadata": {
    "collapsed": true
   },
   "outputs": [],
   "source": []
  }
 ],
 "metadata": {
  "kernelspec": {
   "display_name": "Python 3",
   "language": "python",
   "name": "python3"
  },
  "language_info": {
   "codemirror_mode": {
    "name": "ipython",
    "version": 3
   },
   "file_extension": ".py",
   "mimetype": "text/x-python",
   "name": "python",
   "nbconvert_exporter": "python",
   "pygments_lexer": "ipython3",
   "version": "3.5.1"
  }
 },
 "nbformat": 4,
 "nbformat_minor": 0
}
