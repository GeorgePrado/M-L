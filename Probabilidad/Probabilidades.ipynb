{
 "cells": [
  {
   "cell_type": "markdown",
   "metadata": {},
   "source": [
    "## Probabilidades \n",
    "\n",
    "Referencia:\n",
    "\n",
    "1 . [Probability and Statistics for Computer Scientists](https://www.crcpress.com/Probability-and-Statistics-for-Computer-Scientists-Second-Edition/Baron/9781439875902) de Michael Baron."
   ]
  },
  {
   "cell_type": "markdown",
   "metadata": {},
   "source": [
    "## Variables Aleatorias "
   ]
  },
  {
   "cell_type": "markdown",
   "metadata": {
    "collapsed": true
   },
   "source": [
    "## La distribución Normal\n",
    "\n",
    "Una de las distribuciones más importantes de la teoria de las Probabilidades es la `distribución normal`, determinada completamente determinada por dos parámetros: su media ($\\mu$) y su desviación estándar ($\\sigma$). La media indica donde la distribución es centrada y la desviación estándar cuán 'ancha' es. La distribución normal tiene la forma:\n",
    "\n",
    "$$ \n",
    "\\begin{equation}\n",
    "f(x | \\mu, \\sigma) =  \\frac{1}{\\sqrt{2\\pi}\\sigma} exp\\biggl(-\\frac{(x - \\mu)^2}{2\\sigma^2}\\biggr)$$\n",
    "\\end{equation}\n",
    "Que se implementa en Python:"
   ]
  },
  {
   "cell_type": "code",
   "execution_count": 8,
   "metadata": {
    "collapsed": false
   },
   "outputs": [],
   "source": [
    "import math\n",
    "\n",
    "def normal_pdf(x, mu=0, sigma=1):\n",
    "    sqrt_two_pi = math.sqrt(2 * math.pi)\n",
    "    return (math.exp(-(x-mu) ** 2 / 2 / sigma ** 2)/ (sqrt_two_pi * sigma))"
   ]
  },
  {
   "cell_type": "markdown",
   "metadata": {
    "collapsed": true
   },
   "source": [
    "Mostremos algunos gráficos de las funciones de densidad, para distintos valores de la media y desviación estándar:"
   ]
  },
  {
   "cell_type": "code",
   "execution_count": 2,
   "metadata": {
    "collapsed": true
   },
   "outputs": [],
   "source": [
    "from matplotlib import pyplot as plt\n",
    "\n",
    "xs = [x / 10.0 for x in range(-50, 50)]\n",
    "plt.plot(xs,[normal_pdf(x,sigma=1) for x in xs],'-',label='mu=0,sigma=1')\n",
    "plt.plot(xs,[normal_pdf(x,sigma=2) for x in xs],'--',label='mu=0,sigma=2')\n",
    "plt.plot(xs,[normal_pdf(x,sigma=0.5) for x in xs],':',label='mu=0,sigma=0.5')\n",
    "plt.plot(xs,[normal_pdf(x,mu=-1) for x in xs],'-.',label='mu=-1,sigma=1')\n",
    "plt.legend()\n",
    "plt.title(\"Varias funciones de densidad  para la distribucion Normal \")\n",
    "plt.show()"
   ]
  },
  {
   "cell_type": "markdown",
   "metadata": {
    "collapsed": true
   },
   "source": [
    "Cuando $\\mu = 0$ y $\\sigma = 1$, la distribución normal se conoce como, **distribución normal estándar**. Si `Z` es una distribución normal estándar, entonces resulta que:\n",
    "\n",
    "$$X = \\sigma Z + \\mu$$\n",
    "\n",
    "es también normal, pero con media $\\mu$ y desviación estándar $\\sigma$. Por otro lado, si $X$ es una variable aleatoria normal con media  $\\mu$ y desviación estándar $\\sigma$,\n",
    "\n",
    "$$Z = (X -\\mu)/\\sigma$$\n",
    "\n",
    "es una variable normal estándar. La función de distribución acumulativa (CDF), no puede ser escrita de manera 'elemental', pero puede ser escrita usando `math.erf`, que retorna la [función error](https://en.wikipedia.org/wiki/Error_function):\n",
    "\n",
    "$F(x) = \\frac{1}{2}\\biggl[1 + erf\\biggl( \\frac{x - \\mu}{\\sqrt{2}\\sigma}\\biggr)\\biggr]$"
   ]
  },
  {
   "cell_type": "code",
   "execution_count": 9,
   "metadata": {
    "collapsed": false
   },
   "outputs": [],
   "source": [
    "import math\n",
    "def normal_cdf(x, mu=0,sigma=1):\n",
    "    return (1 + math.erf((x - mu) / math.sqrt(2) / sigma)) / 2"
   ]
  },
  {
   "cell_type": "markdown",
   "metadata": {},
   "source": [
    "Otra vez mostremos los gráficos de  algunas  CDF:"
   ]
  },
  {
   "cell_type": "code",
   "execution_count": 10,
   "metadata": {
    "collapsed": true
   },
   "outputs": [],
   "source": [
    "from matplotlib import pyplot as plt\n",
    "\n",
    "xs = [x / 10.0 for x in range(-50, 50)]\n",
    "plt.plot(xs,[normal_cdf(x,sigma=1) for x in xs],'-',label='mu=0,sigma=1')\n",
    "plt.plot(xs,[normal_cdf(x,sigma=2) for x in xs],'--',label='mu=0,sigma=2')\n",
    "plt.plot(xs,[normal_cdf(x,sigma=0.5) for x in xs],':',label='mu=0,sigma=0.5')\n",
    "plt.plot(xs,[normal_cdf(x,mu=-1) for x in xs],'-.',label='mu=-1,sigma=1')\n",
    "plt.legend(loc=4) \n",
    "plt.title(\"Varias  cdfs de la distribución normal\")\n",
    "plt.show()"
   ]
  },
  {
   "cell_type": "markdown",
   "metadata": {},
   "source": [
    "A veces tendremos que invertir `normal_cdf` para encontrar el valor correspondiente a una probabilidad específica(funcion cuantil). No hay manera fácil de calcular su inversa, pero  `normal_cdf` es  continua y estrictamente creciente, por lo que podemos utilizar  `búsqueda binaria` *(Joel Grus-Data Science from Scratch: First Principles with Python)*"
   ]
  },
  {
   "cell_type": "code",
   "execution_count": 11,
   "metadata": {
    "collapsed": true
   },
   "outputs": [],
   "source": [
    "def inversa_normal_cdf(p, mu=0, sigma=1, tolerancia=0.00001):\n",
    "    \n",
    "    \"\"\"encuentra aproximadamente la inversa de CDF usando busqueda binaria\"\"\"\n",
    "    \n",
    "    # si no es estándar, calculamos el estándar y reescalamos\n",
    "    \n",
    "    if mu != 0 or sigma != 1:\n",
    "        return mu + sigma * inverse_normal_cdf(p, tolerancia=tolerancia)\n",
    "    l_z, l_p = -10.0, 0 # normal_cdf(-10) es (muy cerca a) 0\n",
    "    h_z, h_p = 10.0, 1 # normal_cdf(10) es (muy cerca a) 1\n",
    "    \n",
    "    while h_z - l_z > tolerancia:\n",
    "        medio_z = (l_z + h_z) / 2 # consideramo el punto medio\n",
    "        mid_p = normal_cdf(medio_z) # y el valor cdf's existe\n",
    "        if medio_p < p:\n",
    "            #  el punto medio es aun muy bajo, buscamos arriba \n",
    "            l_z, l_p = medio_z, medio_p\n",
    "        elif medio_p > p:\n",
    "            \n",
    "            # el punto medio es muy alto, busco \n",
    "            h_z, h_p = medio_z, medio_p\n",
    "        else:\n",
    "            break\n",
    "    return medio_z"
   ]
  },
  {
   "cell_type": "markdown",
   "metadata": {},
   "source": [
    "La función repetidamente biseca un intervalo, hasta que se acerca en un Z que es lo suficiente cerca a la probabilidad deseada."
   ]
  },
  {
   "cell_type": "markdown",
   "metadata": {},
   "source": [
    "## Ley de los Grandes Números\n",
    "\n"
   ]
  },
  {
   "cell_type": "code",
   "execution_count": null,
   "metadata": {
    "collapsed": true
   },
   "outputs": [],
   "source": []
  },
  {
   "cell_type": "markdown",
   "metadata": {},
   "source": [
    "## El teorema del Límite Central \n",
    "\n",
    "Una de las razones por la que la  distribución normal es tan útil, proviene del teorema del límite central, que\n",
    "dice (en esencia) que una variable aleatoria definida como el promedio de un gran número de variables aleatorias independientes e idénticamente distribuidas es en sí misma aproximadamente  una distribución normal.\n",
    "\n",
    "\n",
    "En particular, si $x_1,\\dots , x_n $ son variables aleatorias con media $\\mu$ y desviación estándar $\\sigma$,\n",
    "y si $n$ es grande, entonces:\n",
    "\n",
    "$$\\frac{1}{n}\\bigl(x_1 + \\cdots x_n\\bigr)$$\n",
    "\n",
    "es aproximadamente una distribución normal con media $\\mu$ y desviación estándar  $\\sigma /\\sqrt{n}$. Equivalentemente:\n",
    "\n",
    "$$\\frac{\\bigl(x_1 + \\cdots +x_n \\bigr)}{\\sigma\\sqrt{n}}$$\n",
    "\n",
    "es aproximadamente una distribución normal con media `0` y desviación estándar `1`.\n",
    "\n",
    "Una manera de ver este resultado, es a través de las variables aleatorias binomiales, las cuales tienen dos parámetros $n$ y $p$. Una variable aleatoria `Binomial(n,p)` es simplemente la suma de $n$ variables aleatorias Bernoulli independientes `Bernoulli(p)` cada uno de los cuales es igual a `1` con probabilidad `p` y `0` con probabilidad `1 - p`:"
   ]
  },
  {
   "cell_type": "code",
   "execution_count": 12,
   "metadata": {
    "collapsed": false
   },
   "outputs": [],
   "source": [
    "import random, collections \n",
    "\n",
    "def bernoulli_prueba(p):\n",
    "    return 1 if random.random() < p else 0\n",
    "\n",
    "def binomial(n,p):\n",
    "    return sum(bernoulli_prueba(p) for _ in range(n))"
   ]
  },
  {
   "cell_type": "markdown",
   "metadata": {},
   "source": [
    "La media de una variable `Bernoulli(p)` es $p$ y su desviación estándar es $\\sqrt{p(1 -p)}$. El teorema del Límite Central dice que cuando $n$ es muy grande, una variable `Binomial(n ,p)` es aproximadamente una variable aleatoria normal con media $\\mu = np$ y desviación estándar $\\sigma = \\sqrt{np(1 -p)}$. Veamos un gráfico que muestra este resultado:"
   ]
  },
  {
   "cell_type": "code",
   "execution_count": 13,
   "metadata": {
    "collapsed": false
   },
   "outputs": [],
   "source": [
    "import math, random\n",
    "from collections import Counter\n",
    "from matplotlib import pyplot as plt\n",
    "\n",
    "\n",
    "def bernoulli_prueba(p):\n",
    "    return 1 if random.random() < p else 0\n",
    "\n",
    "def binomial(n,p):\n",
    "    return sum(bernoulli_prueba(p) for _ in range(n))\n",
    "    \n",
    "\n",
    "def normal_cdf(x, mu=0,sigma=1):\n",
    "    return (1 + math.erf((x - mu) / math.sqrt(2) / sigma)) / 2\n",
    "\n",
    "\n",
    "def graf_histograma(p, n, num_puntos):\n",
    "    data = [binomial(n, p) for _ in range(num_puntos)]\n",
    "\n",
    "    # usamos un grafico de barras para mostrar las muestras binomiales\n",
    "    histograma  = Counter(data)\n",
    "    plt.bar([x - 0.4 for x in histograma .keys()],\n",
    "            [v / num_puntos for v in histograma .values()],\n",
    "            0.8,\n",
    "            color='0.75')\n",
    "    mu = p * n\n",
    "    sigma = math.sqrt(n * p * (1 - p))\n",
    "    # usamos un grafico de  lineas para mostrar una  aproximacion normal\n",
    "    xs = range(min(data), max(data) + 1)\n",
    "    ys = [normal_cdf(i + 0.5, mu, sigma) - normal_cdf(i - 0.5, mu, sigma)\n",
    "          for i in xs]\n",
    "    plt.plot(xs,ys)\n",
    "    plt.title(\"Distribucion Binomial vs. Approximacion Normal\")\n",
    "    plt.show()\n",
    "    \n",
    "# graf_histograma(0.75, 100, 10000) "
   ]
  },
  {
   "cell_type": "code",
   "execution_count": null,
   "metadata": {
    "collapsed": true
   },
   "outputs": [],
   "source": []
  },
  {
   "cell_type": "markdown",
   "metadata": {},
   "source": [
    "[scipy.stats](http://docs.scipy.org/doc/scipy/reference/stats.html) es módulo de la libreria científica Scipy que  contiene un gran número de distribuciones de probabilidad, así como una creciente biblioteca de funciones estadísticas:\n"
   ]
  },
  {
   "cell_type": "markdown",
   "metadata": {},
   "source": [
    "[animation](http://yihui.name/animation/) es un paquete de R para crear y exportar animaciones a una variedad de formatos (HTML / JS, GIF, vídeo, PDF), así como una galería de animaciones estadísticas, como muestra el siguiente ejemplo, acerca del teorema del Límite Central de la documentación de animation de Yuihui Xie\n",
    "\n",
    "```R\n",
    "library(animation)\n",
    "\n",
    "saveHTML({\n",
    "  par(mar = c(3, 3, 1, 0.5), mgp = c(1.5, 0.5, 0), tcl = -0.3)\n",
    "  ani.options(interval = 0.1, nmax = ifelse(interactive(), 150, 10))\n",
    "  clt.ani(type = \"h\")\n",
    "}, img.name = \"clt.ani\", htmlfile = \"clt.ani.html\", ani.height = 500,\n",
    "ani.width = 600, title = \"Demonstracion del teorema del Limite Central\",\n",
    "description = c(\"Esta animación muestra la distribución de la muestra \",\n",
    "                  \" significa que el tamaño de la muestra crece.\"))\n",
    "```"
   ]
  },
  {
   "cell_type": "code",
   "execution_count": null,
   "metadata": {
    "collapsed": true
   },
   "outputs": [],
   "source": []
  }
 ],
 "metadata": {
  "kernelspec": {
   "display_name": "Python 3",
   "language": "python",
   "name": "python3"
  },
  "language_info": {
   "codemirror_mode": {
    "name": "ipython",
    "version": 3
   },
   "file_extension": ".py",
   "mimetype": "text/x-python",
   "name": "python",
   "nbconvert_exporter": "python",
   "pygments_lexer": "ipython3",
   "version": "3.5.1"
  }
 },
 "nbformat": 4,
 "nbformat_minor": 0
}
