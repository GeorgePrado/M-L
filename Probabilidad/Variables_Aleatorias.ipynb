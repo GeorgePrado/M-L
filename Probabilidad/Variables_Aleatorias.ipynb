{
 "cells": [
  {
   "cell_type": "markdown",
   "metadata": {},
   "source": [
    "## Variables Aleatorias Continuas\n",
    "\n",
    "\n",
    "\n",
    "1 . $X$ tiene una distribución Uniforme en $(a,b)$, escrita como $X \\sim \\mbox{Uniform}(a,b)$ si\n",
    "\n",
    "\n",
    "$$\n",
    "f(x) = \\begin{cases}\n",
    "\\frac{1}{b -a} & \\mbox{para}\\ x\\in [a,b]\\\\\n",
    "0 & \\mbox{en otro caso}.\n",
    "\\end{cases}\n",
    "$$\n",
    "\n",
    "donde $a < b$. \n",
    "\n",
    "2 . $X$ tiene una distribución Exponencial con perímetro $\\beta$ y denotado por $X \\sim \\mbox{Exp}(\\beta)$, si\n",
    "\n",
    "$$\n",
    "f(x) = \\frac{1}{\\beta}e^{-x/\\beta}\\ \\ , x > 0\n",
    "$$\n",
    "\n",
    "\n",
    "donde $\\beta > 0$. La distribución exponencial es usada para modelar el tiempo de vida de componentes electrónicos y el tiempo de espera entre ciertos eventos.\n",
    "\n",
    "3 .  Para $\\alpha > 0$, con la función Gamma  definida como $\\Gamma(\\alpha) = \\int_{0}^{\\infty}y^{\\alpha -1}e^{-y}dy$, $X$ tiene una distribución Gamma con parámetros $\\alpha$ y $\\beta$ denotado por $X \\sim \\mbox{Gamma}(\\alpha, \\beta)$, si\n",
    "\n",
    "$$\n",
    "f(x) = \\frac{1}{\\beta^{\\alpha}\\Gamma(\\alpha)}x^{\\alpha -1}e^{-x/\\beta}\\ \\, x >0\n",
    "$$\n",
    "\n",
    "donde $\\alpha, \\beta > 0$. La distribución exponencial es sólo la distribución $\\Gamma(1, \\beta)$. Si $X_i \\sim \\mbox{Gamma}(\\alpha_i, \\beta)$ son independientes, entonces $\\sum_{i = 1}^{n} X_i \\sim \\mbox{Gamma}(\\sum_{i = 1}^{n} \\alpha_i, \\beta)$. \n",
    "\n",
    "4 . $X$ tiene una distribución $\\mbox{Beta}$ con par\\'ametros $\\alpha > 0$  y $\\beta > 0$, denotado por $X \\sim \\mbox{Beta}(\\alpha, \\beta)$, si\n",
    "\n",
    "$$\n",
    "f(x) = \\frac{\\Gamma(\\alpha + \\beta)}{\\Gamma(\\alpha)\\Gamma(\\beta)}x^{\\alpha -1}(1 -x)^{\\beta -1}, \\ \\ 0< x < 1.\n",
    "$$\n",
    "\n",
    "\n",
    "5 . $X$ tiene una distribución $\\chi^2$ con $p$ grados de libertad, (escribe como $X \\sim \\chi_{p}^2$) si\n",
    "\n",
    "$$\n",
    "f(x) = \\frac{1}{\\Gamma(p/2)2^{p/2}}x^{(p/2)-1}e^{-x/2}, \\ \\ x >0.\n",
    "$$\n",
    "\n",
    "Si $Z_1, \\dots, Z_p $ son variables aleatorias normales est\\'andar independientes entonces $\\sum_{i = 1}^{p}Z_i^{2} \\sim \\chi_{2}^{p}.$\n",
    "\n",
    "\n"
   ]
  },
  {
   "cell_type": "code",
   "execution_count": null,
   "metadata": {
    "collapsed": true
   },
   "outputs": [],
   "source": []
  }
 ],
 "metadata": {
  "kernelspec": {
   "display_name": "Python 3",
   "language": "python",
   "name": "python3"
  },
  "language_info": {
   "codemirror_mode": {
    "name": "ipython",
    "version": 3
   },
   "file_extension": ".py",
   "mimetype": "text/x-python",
   "name": "python",
   "nbconvert_exporter": "python",
   "pygments_lexer": "ipython3",
   "version": "3.5.1"
  }
 },
 "nbformat": 4,
 "nbformat_minor": 0
}
