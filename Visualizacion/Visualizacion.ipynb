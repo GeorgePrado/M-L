{
 "cells": [
  {
   "cell_type": "markdown",
   "metadata": {},
   "source": [
    "# Visualización de Datos \n",
    "\n",
    "[Visualización de datos](https://es.wikipedia.org/wiki/Visualizaci%C3%B3n_de_datos), es una herramienta fundamental, para todo aquel que se dedica al [Análisis de Datos](https://es.wikipedia.org/wiki/An%C3%A1lisis_de_datos) y es parte fundamental de la BigData que consiste en representar de manera general comprensible y medible  los datos. \n",
    "\n",
    "De wikipedia:\n",
    "\n",
    "Los procedimientos que engloban la visualización de datos son varios:\n",
    "\n",
    "1. En primer lugar es necesario analizar los datos para compendiar aquellos útiles para el conocimiento del tema y descartar los inconexos. \n",
    "\n",
    "2. En segundo lugar es necesario interpretar los datos seleccionados de tal forma que sean comprensibles de forma exacta y detallada. Antes de continuar es imprescindible contrastar estos datos con otros vinculados y estudiar todos ellos para no cometer errores y saber discernir los verdaderamente significativos. \n",
    "\n",
    "3. El último paso en este proceso es saber comunicar la información obtenida, de tal forma que el usuario adquiera los conocimientos necesarios para comprender correctamente los datos facilitados. \n",
    "\n",
    "Así se puede decir que hay dos usos primarios para la visualización:\n",
    "\n",
    "1. Para explorar datos.\n",
    "2. Para comunicar datos.\n"
   ]
  },
  {
   "cell_type": "markdown",
   "metadata": {},
   "source": [
    "En el mundo de Python, hay múltiples opciones para visualizar datos. En este cuaderno ilustraremos el uso de esas herramientas, en diversas situaciones\n",
    "\n",
    "1. [Matplotlib](http://matplotlib.org/).\n",
    "2. [seaborn](http://stanford.edu/~mwaskom/software/seaborn/).\n",
    "3. [ggplot2](http://ggplot.yhathq.com/).\n",
    "4. [Bokeh](http://bokeh.pydata.org/en/latest/).\n",
    "5. [pygal](http://www.pygal.org/en/latest/).\n",
    "6. [Plotly](https://plot.ly/).\n",
    "7. [Pandas](http://pandas.pydata.org/)."
   ]
  },
  {
   "cell_type": "markdown",
   "metadata": {},
   "source": [
    "## Matplotlib"
   ]
  },
  {
   "cell_type": "markdown",
   "metadata": {},
   "source": [
    "[Matplotlib](http://matplotlib.org/) es una biblioteca de visualización que produce gráficos de alta calidad, en una variedad de formatos impresos y entornos interactivos a través de diversas plataformas. Puede generar, histogramas, gráficos de barras,diagramas de dispersión, etc, con sólo unas pocas líneas de código. Pese a ello, hacer en Matplotlib  visualización estadística sofisticada es más o menos dificil , por que  a menudo requiere una gran cantidad de código repetitivo. \n",
    "\n",
    "Matplotlib,pese a ello, destaca entre otras por sus expresiones y textos en Latex, que mejora considerablemente los gráficos en publicaciones científicas."
   ]
  },
  {
   "cell_type": "code",
   "execution_count": 17,
   "metadata": {
    "collapsed": true
   },
   "outputs": [],
   "source": [
    "import warnings\n",
    "warnings.filterwarnings(\"ignore\")"
   ]
  },
  {
   "cell_type": "markdown",
   "metadata": {},
   "source": [
    "### Gráfico de Líneas \n",
    "\n",
    "Los gráficos de líneas muestran una serie como un conjunto de puntos conectados mediante una sola línea. Los gráficos de líneas se usan para representar grandes cantidades de datos que tienen lugar durante un período continuado de tiempo."
   ]
  },
  {
   "cell_type": "code",
   "execution_count": 18,
   "metadata": {
    "collapsed": false
   },
   "outputs": [],
   "source": [
    "import numpy as np\n",
    "import matplotlib.mlab as mlab\n",
    "from matplotlib import pyplot as plt\n",
    "\n",
    "fechas = [1944, 1954, 1983, 1986, 1988, 1992, 1997]\n",
    "gdp =[300.2, 567.3, 1075.3, 2789.4, 5965.5, 10345.5, 14897.2]\n",
    "\n",
    "# Creamos un gráfico de linea, con fechas en el eje X, gdp en el eje Y\n",
    "\n",
    "plt.plot(fechas, gdp, color='red', marker='o', linestyle='solid')\n",
    "\n",
    "# Agregamos un título\n",
    "plt.title(\"Grafico de Linea\")\n",
    "\n",
    "# Agregamos una etiqueta al eje Y \n",
    "plt.ylabel(\"Ganancias en $\")\n",
    "plt.show()"
   ]
  },
  {
   "cell_type": "markdown",
   "metadata": {},
   "source": [
    "### Diagrama  de Barras \n",
    "\n",
    "Un diagrama de barras,  es una forma de representar gráficamente un conjunto de datos o valores, y está conformado por barras rectangulares de longitudes proporcionales a los valores representados. Los gráficos de barras son usados para comparar dos o más valores. Las barras pueden orientarse verticalmente u horizontalmente (Wikipedia). Un ejemplo usando Matplotlib es:"
   ]
  },
  {
   "cell_type": "code",
   "execution_count": 19,
   "metadata": {
    "collapsed": false
   },
   "outputs": [],
   "source": [
    "peliculas = [\"Annie Hall\", \"Ben-Hur\", \"Casablanca\", \"Gandhi\", \"West Side Story\"]\n",
    "num_oscars = [5, 11, 3, 8, 10]\n",
    "\n",
    "# Centremos las barras\n",
    "xs = [i + 0.1 for i, _ in enumerate(peliculas)]\n",
    "\n",
    "plt.bar(xs, num_oscars)\n",
    "\n",
    "plt.ylabel(\"# de Oscars\")\n",
    "plt.title(\"Peliculas Galardonadas con el Oscar\")\n",
    "\n",
    "# Etiquetamos el eje X con el nombre de las peliculas en el centro de las barras\n",
    "\n",
    "plt.xticks([i + 0.5 for i, _ in enumerate(peliculas)], peliculas)\n",
    "\n",
    "plt.show()"
   ]
  },
  {
   "cell_type": "markdown",
   "metadata": {},
   "source": [
    "### Gráfico de varias  líneas \n",
    "\n",
    "Es posible tener varios gráficos con diversas características en Matplotlib."
   ]
  },
  {
   "cell_type": "code",
   "execution_count": 20,
   "metadata": {
    "collapsed": false
   },
   "outputs": [],
   "source": [
    "varianza= [1,2,4,8,16,32,64,128,256]\n",
    "bs_2= [256,128,64,32,16,8,4,2,1]\n",
    "total_error = [x + y for x, y in zip(varianza, bs_2)]\n",
    "xs = range(len(varianza))\n",
    "\n",
    "# Podemos llamar a plt.plot varias veces para mostrar\n",
    "# un grupo de figuras del mismo 'grafico'\n",
    "\n",
    "plt.plot(xs, varianza,     'g-',  label='varianza')    \n",
    "plt.plot(xs, bs_2, 'r-.', label='bias^2')      \n",
    "plt.plot(xs, total_error,  'b:',  label='total error') \n",
    "\n",
    "# Podemos asignas lebels s ese grupo de figuras\n",
    "# Contamos con una leyenda para el grafico resultante\n",
    "# loc=9 significa \"top center\"\n",
    "    \n",
    "plt.legend(loc=9)\n",
    "plt.xlabel(\"Modelo de  complexidad\")\n",
    "plt.title(\"Bias-Varianza\")\n",
    "plt.show()"
   ]
  },
  {
   "cell_type": "markdown",
   "metadata": {},
   "source": [
    "### Gráficos de dispersión\n",
    "\n",
    "Los gráficos de dispersión también son conocidos como gráficos XY y su función principal es la de mostrar la relación que existe entre los valores numéricos de diferentes series de datos sobre los ejes de coordenadas XY. Veamos un ejemplo:"
   ]
  },
  {
   "cell_type": "code",
   "execution_count": 21,
   "metadata": {
    "collapsed": false
   },
   "outputs": [],
   "source": [
    "fr = [45, 78, 67, 89, 71, 68, 60, 74, 65]\n",
    "minu = [145, 167, 132, 156, 143, 122, 114, 183, 143]\n",
    "labels = ['a', 'b', 'c', 'd','e','f','g', 'h','i']\n",
    "    \n",
    "plt.scatter(fr, minu)\n",
    "\n",
    "# Etiquetamos cada punto\n",
    "for label, f_c, m_c in zip(labels, fr, minu):\n",
    "    plt.annotate(label,\n",
    "                 xy = (f_c, m_c),\n",
    "                 xytext = (-5, 5),\n",
    "                 textcoords='offset points')\n",
    "    \n",
    "    \n",
    "plt.title(\"Minutos diarios-Numero de amigos\")\n",
    "plt.xlabel(\"Numero de amigos\")\n",
    "plt.ylabel(\"Minutos diarios en el sitio \")\n",
    "plt.show()\n"
   ]
  },
  {
   "cell_type": "markdown",
   "metadata": {},
   "source": [
    "### Histogramas \n",
    "\n",
    "Un histograma es una representación gráfica de una variable en forma de barras. Un ejemplo en Matplotlib, sería:"
   ]
  },
  {
   "cell_type": "code",
   "execution_count": 22,
   "metadata": {
    "collapsed": false
   },
   "outputs": [],
   "source": [
    "mu = 100  # media de la distribución\n",
    "sigma = 15   # desviación estándar de la distribución\n",
    "x = mu + sigma * np.random.randn(10000)\n",
    "    \n",
    "num_bins = 50\n",
    " # El histograma de la data\n",
    "\n",
    "n, bins, patches = plt.hist(x, num_bins, normed=1, facecolor='green', alpha=0.5)\n",
    "\n",
    " # agregamos una mejor 'linea de ajuste ' \n",
    "y = mlab.normpdf(bins, mu, sigma)\n",
    "plt.plot(bins, y, 'r--')\n",
    "plt.xlabel('Habilidades')\n",
    "plt.ylabel('Probabilidad')\n",
    "plt.title(r'Histograma de IQ: $\\mu=100$, $\\sigma=15$')\n",
    "\n",
    "# Ajustando el espaciado en la figura\n",
    "plt.subplots_adjust(left=0.15)\n",
    "plt.show()"
   ]
  },
  {
   "cell_type": "markdown",
   "metadata": {},
   "source": [
    "## Seaborn \n",
    "\n",
    "[Seaborn](http://stanford.edu/~mwaskom/software/seaborn/) es una librería de visualización basada en matplotlib y creada para hacer visualizaciones de datos  mucho más atractivos visualmente e informativos. Seaborn ofrece varias características como  el construido en temas, paletas de colores, funciones y herramientas para visualizar regresiones lineales univariadad y bivariadad, matrices de datos,  series temporales en estadística, etc, que nos permiten construir visualizaciones complejas. También se integra  bien con Pandas.\n",
    "\n",
    "Para una breve introducción a las ideas detrás del paquete, se puede leer las [notas introductorias ](http://stanford.edu/~mwaskom/software/seaborn/introduction.html#introduction)."
   ]
  },
  {
   "cell_type": "markdown",
   "metadata": {},
   "source": [
    "Vemos algunos ejemplos del uso de Seaborn. Empezemos por un simple gráfico:"
   ]
  },
  {
   "cell_type": "code",
   "execution_count": 23,
   "metadata": {
    "collapsed": false
   },
   "outputs": [],
   "source": [
    "# Las funciones seno y coseno graficadas con seaborn\n",
    "\n",
    "import matplotlib.pyplot as plt\n",
    "import seaborn as sns \n",
    "import pandas as pd\n",
    "import numpy as np\n",
    "\n",
    "\n",
    "sns.set()\n",
    "x = np.linspace(0, 10, 1000)\n",
    "plt.plot(x, np.sin(x), x, np.cos(x))\n",
    "plt.show()"
   ]
  },
  {
   "cell_type": "markdown",
   "metadata": {},
   "source": [
    "A menudo, en la visualización de datos estadísticos, se quiere  dibujar histogramas y distribuciones conjuntas de las variables. Seaborn ofrece herramientas sencillas para que esto suceda:"
   ]
  },
  {
   "cell_type": "code",
   "execution_count": 24,
   "metadata": {
    "collapsed": false
   },
   "outputs": [],
   "source": [
    "# Podemos dibujar un estimado de la distribución usando Kernel Density Estimation (KDE)\n",
    "\n",
    "data = np.random.multivariate_normal([0, 0], [[5, 2], [2, 2]], size=2000)\n",
    "data = pd.DataFrame(data, columns=['x', 'y'])\n",
    "\n",
    "for col in 'xy':\n",
    "    sns.kdeplot(data[col], shade=True)\n",
    "plt.show()\n",
    "    "
   ]
  },
  {
   "cell_type": "markdown",
   "metadata": {},
   "source": [
    "A veces la mejor manera de ver los datos es a través de histogramas de subconjuntos. Los [**FacetGrid**](https://stanford.edu/~mwaskom/software/seaborn/tutorial/axis_grids.html) de Seaborn hace que esto es muy  simple. Vamos a echar un vistazo a algunos datos que muestra la cantidad que el personal de un  restaurante reciben de  propinas en base a diversos datos:"
   ]
  },
  {
   "cell_type": "code",
   "execution_count": 25,
   "metadata": {
    "collapsed": true
   },
   "outputs": [],
   "source": [
    "tips = sns.load_dataset('tips')\n",
    "tips.head()\n",
    "tips['tip_pct'] = 100 * tips['tip'] / tips['total_bill']\n",
    "\n",
    "grid = sns.FacetGrid(tips, row=\"sex\", col=\"time\", margin_titles=True)\n",
    "grid.map(plt.hist, \"tip_pct\", bins=np.linspace(0, 40, 15));\n",
    "plt.show()\n"
   ]
  },
  {
   "cell_type": "markdown",
   "metadata": {
    "collapsed": true
   },
   "source": [
    "Al generalizar gráficos para conjuntos de datos de mayores dimensiones, se termina en **pair plots**. Esto es muy útil para explorar correlaciones entre los datos multidimensionales. Vemos esto con el conocido conjunto de datos *iris*, que enumera las medidas de pétalos y sépalos de tres especies de iris:"
   ]
  },
  {
   "cell_type": "code",
   "execution_count": 26,
   "metadata": {
    "collapsed": true
   },
   "outputs": [],
   "source": [
    "iris = sns.load_dataset(\"iris\")\n",
    "iris.head()\n",
    "sns.pairplot(iris, hue=\"species\", size=2.5)\n",
    "\n",
    "plt.show()"
   ]
  },
  {
   "cell_type": "markdown",
   "metadata": {},
   "source": [
    "En este  ejemplo, consideramos  los datos en términos de series de tiempo de la temperatura interior y exterior y el gráfico producido por Pandas, la importación de la librería de seaborn cambian la apariencia de este gráfico. El código es el siguiente:"
   ]
  },
  {
   "cell_type": "code",
   "execution_count": 27,
   "metadata": {
    "collapsed": false
   },
   "outputs": [],
   "source": [
    "# Un ejemplo más avanzado\n",
    "\n",
    "df1 = pd.read_csv('te_2014.tsv', delimiter=\"\\t\", names=[\"time\", \"exterior\"])\n",
    "df1.time = pd.to_datetime(df1.time.values, unit=\"s\").tz_localize('UTC').tz_convert('Europe/Stockholm')\n",
    "df1 = df1.set_index(\"time\").resample(\"10min\")\n",
    "df2 = pd.read_csv('ti_2014.tsv', delimiter=\"\\t\", names=[\"time\", \"interior\"])\n",
    "df2.time = pd.to_datetime(df2.time.values, unit=\"s\").tz_localize('UTC').tz_convert('Europe/Stockholm')\n",
    "df2 = df2.set_index(\"time\").resample(\"10min\")\n",
    "df_temp = pd.concat([df1, df2], axis=1)\n",
    "\n",
    "fig, ax = plt.subplots(1, 1, figsize=(8, 4))\n",
    "df_temp.resample(\"D\").plot(y=[\"exterior\", \"interior\"], ax=ax)\n",
    "fig.tight_layout()\n",
    "fig.savefig(\"plot-seaborn.pdf\")"
   ]
  },
  {
   "cell_type": "markdown",
   "metadata": {},
   "source": [
    "La principal habilidad  de la biblioteca Seaborn, aparte de generar gráficos vistosos, es su colección de gráficos estadísticos. Ejemplos de estos es [**kdeplot**](http://stanford.edu/~mwaskom/software/seaborn/generated/seaborn.kdeplot.html) que muestra  el [KDE](https://en.wikipedia.org/wiki/Kernel_density_estimation), una manera no paramétrica para estimar la densidad de una variable aleatoria y [**distplot**](http://stanford.edu/~mwaskom/software/seaborn/generated/seaborn.distplot.html?highlight=distplot) que muestra una distribución univariada de observaciones  respectivamente. Por ejemplo, las siguientes dos líneas de código producen el gráfico donde  las líneas azules y verdes son el KDE calculado."
   ]
  },
  {
   "cell_type": "code",
   "execution_count": 28,
   "metadata": {
    "collapsed": false
   },
   "outputs": [],
   "source": [
    "sns.distplot(df_temp.to_period(\"M\")[\"exterior\"][\"2014-04\"].dropna().values, bins=50);\n",
    "sns.distplot(df_temp.to_period(\"M\")[\"interior\"][\"2014-04\"].dropna().values, bins=50);\n",
    "\n",
    "plt.show()"
   ]
  },
  {
   "cell_type": "markdown",
   "metadata": {},
   "source": [
    "Usamos la función jointplot para graficar  la distribución conjunta para dos conjuntos de datos independientes."
   ]
  },
  {
   "cell_type": "code",
   "execution_count": 29,
   "metadata": {
    "collapsed": false
   },
   "outputs": [],
   "source": [
    "\n",
    "with sns.axes_style(\"white\"):\n",
    "    sns.jointplot(df_temp.resample(\"H\")[\"exterior\"].values,\n",
    "                  df_temp.resample(\"H\")[\"interior\"].values, kind=\"hex\");\n",
    "\n",
    "plt.show()\n",
    "#plt.savefig(\"seaborn-jointplot.pdf\")"
   ]
  },
  {
   "cell_type": "markdown",
   "metadata": {},
   "source": [
    "La función kdeplot también puede operar sobre datos bidimensionales, utilizando las funciones kdeplot y jointplot mostramos   la correlación de series de datos de *temperatura interior y exterior*, mediante un gráfico"
   ]
  },
  {
   "cell_type": "code",
   "execution_count": 30,
   "metadata": {
    "collapsed": false
   },
   "outputs": [],
   "source": [
    "sns.kdeplot(df_temp.resample(\"H\")[\"exterior\"].dropna().values,\n",
    "            df_temp.resample(\"H\")[\"interior\"].dropna().values, shade=False);\n",
    "\n",
    "plt.show()"
   ]
  },
  {
   "cell_type": "markdown",
   "metadata": {},
   "source": [
    "## ggplot"
   ]
  },
  {
   "cell_type": "markdown",
   "metadata": {},
   "source": [
    "[ggplot](http://ggplot.yhathq.com/), es similar a Seaborn en que se construye basado en matplotlib y tiene como objetivo mejorar el atractivo de las visualizaciones matplotlib de una manera sencilla. Diverge de  Seaborn en que se trata de un puerto de [ggplot2](http://ggplot2.org/) de  R. Dado a esto  parte de la API no es sólo Python, lo que no implica que no sea  muy poderoso. Muchos [ejemplos](http://ggplot.yhathq.com/docs/index.html) del uso de ggplot en áreas como estadística o geometría.\n"
   ]
  },
  {
   "cell_type": "code",
   "execution_count": 31,
   "metadata": {
    "collapsed": false
   },
   "outputs": [
    {
     "name": "stdout",
     "output_type": "stream",
     "text": [
      "<ggplot: (8784193832438)>\n"
     ]
    },
    {
     "name": "stderr",
     "output_type": "stream",
     "text": [
      "stat_bin: binwidth defaulted to range/30.\n",
      "    Use 'binwidth = x' to adjust this.\n"
     ]
    }
   ],
   "source": [
    "from matplotlib import pyplot as plt\n",
    "from ggplot import *\n",
    "\n",
    "p = ggplot(mtcars, aes('cyl'))\n",
    "print (p + geom_bar())\n",
    "\n",
    "plt.show(1)"
   ]
  },
  {
   "cell_type": "code",
   "execution_count": 36,
   "metadata": {
    "collapsed": false
   },
   "outputs": [
    {
     "data": {
      "text/plain": [
       "<ggplot: (8784182820321)>"
      ]
     },
     "execution_count": 36,
     "metadata": {},
     "output_type": "execute_result"
    }
   ],
   "source": [
    "# Ejemplo de ggplot en funciones estadísticas\n",
    "\n",
    "import scipy\n",
    "import numpy as np\n",
    "import pandas as pd\n",
    "from ggplot import *\n",
    "def dnorm(x, mean, var):\n",
    "    return scipy.stats.norm(mean,var).pdf(x)\n",
    "data = pd.DataFrame({'x':np.arange(-5,6)})\n",
    "ggplot(aes(x='x'),data=data) + \\\n",
    "    stat_function(fun=dnorm,color=\"blue\",\n",
    "                  args={'mean':0.0,'var':0.2}) + \\\n",
    "    stat_function(fun=dnorm,color=\"red\",\n",
    "                  args={'mean':0.0,'var':1.0}) + \\\n",
    "    stat_function(fun=dnorm,color=\"yellow\",\n",
    "                  args={'mean':0.0,'var':5.0}) + \\\n",
    "    stat_function(fun=dnorm,color=\"green\",\n",
    "                  args={'mean':-2.0,'var':0.5})"
   ]
  },
  {
   "cell_type": "markdown",
   "metadata": {
    "collapsed": true
   },
   "source": [
    "## Bokeh"
   ]
  },
  {
   "cell_type": "markdown",
   "metadata": {},
   "source": [
    "[Bokeh](http://bokeh.pydata.org/en/latest/) es una biblioteca de visualización interactiva de Python para el manejo de grandes conjuntos de datos que  utilizan las últimas tecnologías web. Su objetivo es proporcionar una  elegante construcción, concisa de nuevos gráficos al estilo de [Protovis](http://mbostock.github.io/protovis/) o [D3](http://d3js.org/). Bokeh utiliza Canvas en lugar de SVG y tiene múltiples lenguajes enlazados 'bindings' como Python, Lua, R y Julia. Estos producen un archivo JSON, el cual trabaja como una entrada para [BokehJS](http://bokeh.pydata.org/en/latest/docs/dev_guide/bokehjs.html)(una librería de Java Script) que a su vez presenta los datos a los navegadores web."
   ]
  },
  {
   "cell_type": "code",
   "execution_count": 33,
   "metadata": {
    "collapsed": false
   },
   "outputs": [
    {
     "data": {
      "text/html": [
       "\n",
       "\n",
       "    <script type=\"text/javascript\">\n",
       "      \n",
       "      (function(global) {\n",
       "        function now() {\n",
       "          return new Date();\n",
       "        }\n",
       "      \n",
       "        if (typeof (window._bokeh_onload_callbacks) === \"undefined\") {\n",
       "          window._bokeh_onload_callbacks = [];\n",
       "        }\n",
       "      \n",
       "        function run_callbacks() {\n",
       "          window._bokeh_onload_callbacks.forEach(function(callback) { callback() });\n",
       "          delete window._bokeh_onload_callbacks\n",
       "          console.info(\"Bokeh: all callbacks have finished\");\n",
       "        }\n",
       "      \n",
       "        function load_libs(js_urls, callback) {\n",
       "          window._bokeh_onload_callbacks.push(callback);\n",
       "          if (window._bokeh_is_loading > 0) {\n",
       "            console.log(\"Bokeh: BokehJS is being loaded, scheduling callback at\", now());\n",
       "            return null;\n",
       "          }\n",
       "          if (js_urls == null || js_urls.length === 0) {\n",
       "            run_callbacks();\n",
       "            return null;\n",
       "          }\n",
       "          console.log(\"Bokeh: BokehJS not loaded, scheduling load and callback at\", now());\n",
       "          window._bokeh_is_loading = js_urls.length;\n",
       "          for (var i = 0; i < js_urls.length; i++) {\n",
       "            var url = js_urls[i];\n",
       "            var s = document.createElement('script');\n",
       "            s.src = url;\n",
       "            s.async = false;\n",
       "            s.onreadystatechange = s.onload = function() {\n",
       "              window._bokeh_is_loading--;\n",
       "              if (window._bokeh_is_loading === 0) {\n",
       "                console.log(\"Bokeh: all BokehJS libraries loaded\");\n",
       "                run_callbacks()\n",
       "              }\n",
       "            };\n",
       "            s.onerror = function() {\n",
       "              console.warn(\"failed to load library \" + url);\n",
       "            };\n",
       "            console.log(\"Bokeh: injecting script tag for BokehJS library: \", url);\n",
       "            document.getElementsByTagName(\"head\")[0].appendChild(s);\n",
       "          }\n",
       "        };var js_urls = ['https://cdn.pydata.org/bokeh/release/bokeh-0.11.0.min.js', 'https://cdn.pydata.org/bokeh/release/bokeh-widgets-0.11.0.min.js', 'https://cdn.pydata.org/bokeh/release/bokeh-compiler-0.11.0.min.js'];\n",
       "      \n",
       "        var inline_js = [\n",
       "          function(Bokeh) {\n",
       "            Bokeh.set_log_level(\"info\");\n",
       "          },\n",
       "          function(Bokeh) {\n",
       "            console.log(\"Bokeh: injecting CSS: https://cdn.pydata.org/bokeh/release/bokeh-0.11.0.min.css\");\n",
       "            Bokeh.embed.inject_css(\"https://cdn.pydata.org/bokeh/release/bokeh-0.11.0.min.css\");\n",
       "            console.log(\"Bokeh: injecting CSS: https://cdn.pydata.org/bokeh/release/bokeh-widgets-0.11.0.min.css\");\n",
       "            Bokeh.embed.inject_css(\"https://cdn.pydata.org/bokeh/release/bokeh-widgets-0.11.0.min.css\");\n",
       "          }\n",
       "        ];\n",
       "      \n",
       "        function run_inline_js() {\n",
       "          for (var i = 0; i < inline_js.length; i++) {\n",
       "            inline_js[i](window.Bokeh);\n",
       "          }\n",
       "        }\n",
       "      \n",
       "        if (window._bokeh_is_loading === 0) {\n",
       "          console.log(\"Bokeh: BokehJS loaded, going straight to plotting\");\n",
       "          run_inline_js();\n",
       "        } else {\n",
       "          load_libs(js_urls, function() {\n",
       "            console.log(\"Bokeh: BokehJS plotting callback run at\", now());\n",
       "            run_inline_js();\n",
       "          });\n",
       "        }\n",
       "      }(this));\n",
       "    </script>\n",
       "    <div>\n",
       "        <a href=\"http://bokeh.pydata.org\" target=\"_blank\" class=\"bk-logo bk-logo-small bk-logo-notebook\"></a>\n",
       "        <span>BokehJS successfully loaded.</span>\n",
       "    </div>"
      ]
     },
     "metadata": {},
     "output_type": "display_data"
    }
   ],
   "source": [
    "from bokeh.io import output_notebook, show\n",
    "from bokeh.plotting import figure\n",
    "output_notebook()"
   ]
  },
  {
   "cell_type": "code",
   "execution_count": 34,
   "metadata": {
    "collapsed": false
   },
   "outputs": [
    {
     "data": {
      "text/html": [
       "\n",
       "\n",
       "    <div class=\"plotdiv\" id=\"35770ff9-9f05-47fd-99bb-25763233d18b\"></div>\n",
       "<script type=\"text/javascript\">\n",
       "  \n",
       "  (function(global) {\n",
       "    function now() {\n",
       "      return new Date();\n",
       "    }\n",
       "  \n",
       "    if (typeof (window._bokeh_onload_callbacks) === \"undefined\") {\n",
       "      window._bokeh_onload_callbacks = [];\n",
       "    }\n",
       "  \n",
       "    function run_callbacks() {\n",
       "      window._bokeh_onload_callbacks.forEach(function(callback) { callback() });\n",
       "      delete window._bokeh_onload_callbacks\n",
       "      console.info(\"Bokeh: all callbacks have finished\");\n",
       "    }\n",
       "  \n",
       "    function load_libs(js_urls, callback) {\n",
       "      window._bokeh_onload_callbacks.push(callback);\n",
       "      if (window._bokeh_is_loading > 0) {\n",
       "        console.log(\"Bokeh: BokehJS is being loaded, scheduling callback at\", now());\n",
       "        return null;\n",
       "      }\n",
       "      if (js_urls == null || js_urls.length === 0) {\n",
       "        run_callbacks();\n",
       "        return null;\n",
       "      }\n",
       "      console.log(\"Bokeh: BokehJS not loaded, scheduling load and callback at\", now());\n",
       "      window._bokeh_is_loading = js_urls.length;\n",
       "      for (var i = 0; i < js_urls.length; i++) {\n",
       "        var url = js_urls[i];\n",
       "        var s = document.createElement('script');\n",
       "        s.src = url;\n",
       "        s.async = false;\n",
       "        s.onreadystatechange = s.onload = function() {\n",
       "          window._bokeh_is_loading--;\n",
       "          if (window._bokeh_is_loading === 0) {\n",
       "            console.log(\"Bokeh: all BokehJS libraries loaded\");\n",
       "            run_callbacks()\n",
       "          }\n",
       "        };\n",
       "        s.onerror = function() {\n",
       "          console.warn(\"failed to load library \" + url);\n",
       "        };\n",
       "        console.log(\"Bokeh: injecting script tag for BokehJS library: \", url);\n",
       "        document.getElementsByTagName(\"head\")[0].appendChild(s);\n",
       "      }\n",
       "    };var element = document.getElementById(\"35770ff9-9f05-47fd-99bb-25763233d18b\");\n",
       "    if (element == null) {\n",
       "      console.log(\"Bokeh: ERROR: autoload.js configured with elementid '35770ff9-9f05-47fd-99bb-25763233d18b' but no matching script tag was found. \")\n",
       "      return false;\n",
       "    }var js_urls = [];\n",
       "  \n",
       "    var inline_js = [\n",
       "      function(Bokeh) {\n",
       "        Bokeh.$(function() {\n",
       "            var docs_json = {\"ff615ffc-eaf9-4c90-a9e7-1d4336803df2\": {\"roots\": {\"references\": [{\"type\": \"HelpTool\", \"attributes\": {\"plot\": {\"type\": \"Plot\", \"subtype\": \"Figure\", \"id\": \"2070b63c-cfb8-437d-906e-7fed7b266e56\"}}, \"id\": \"b14d7596-1834-4512-a325-39dddd65f585\"}, {\"type\": \"ColumnDataSource\", \"attributes\": {\"callback\": null, \"column_names\": [\"x\", \"y\"], \"data\": {\"x\": [1, 2, 3, 4, 5], \"y\": [6, 7, 2, 4, 5]}}, \"id\": \"6f3ca921-0127-44d9-885e-3f49e26a1872\"}, {\"type\": \"PanTool\", \"attributes\": {\"plot\": {\"type\": \"Plot\", \"subtype\": \"Figure\", \"id\": \"2070b63c-cfb8-437d-906e-7fed7b266e56\"}}, \"id\": \"c20698cc-4947-47f3-9add-a23d047a2ddb\"}, {\"type\": \"Circle\", \"attributes\": {\"x\": {\"field\": \"x\"}, \"size\": {\"value\": 15, \"units\": \"screen\"}, \"fill_alpha\": {\"value\": 0.5}, \"line_color\": {\"value\": \"navy\"}, \"y\": {\"field\": \"y\"}, \"fill_color\": {\"value\": \"orange\"}}, \"id\": \"65f89745-9545-4b37-a8d8-be4a90640e6a\"}, {\"type\": \"BasicTickFormatter\", \"attributes\": {}, \"id\": \"2449ebdf-9dd6-41fa-920d-2726aabd30ea\"}, {\"type\": \"BoxAnnotation\", \"attributes\": {\"left_units\": \"screen\", \"fill_alpha\": {\"value\": 0.5}, \"line_width\": {\"value\": 2}, \"render_mode\": \"css\", \"right_units\": \"screen\", \"line_alpha\": {\"value\": 1.0}, \"level\": \"overlay\", \"fill_color\": {\"value\": \"lightgrey\"}, \"top_units\": \"screen\", \"line_color\": {\"value\": \"black\"}, \"bottom_units\": \"screen\", \"line_dash\": [4, 4], \"plot\": null}, \"id\": \"8360b8d9-186e-46e3-b96b-7a9fb7a552ab\"}, {\"type\": \"GlyphRenderer\", \"attributes\": {\"selection_glyph\": null, \"glyph\": {\"type\": \"Circle\", \"id\": \"65f89745-9545-4b37-a8d8-be4a90640e6a\"}, \"nonselection_glyph\": {\"type\": \"Circle\", \"id\": \"27521458-4032-4bc1-bf68-a65121cd301b\"}, \"data_source\": {\"type\": \"ColumnDataSource\", \"id\": \"6f3ca921-0127-44d9-885e-3f49e26a1872\"}, \"hover_glyph\": null}, \"id\": \"0666f7f8-f716-472b-a20a-ba6ad9482d57\"}, {\"type\": \"Plot\", \"attributes\": {\"x_range\": {\"type\": \"DataRange1d\", \"id\": \"a40cc3a1-ce23-4ce3-840c-682f62e3b70c\"}, \"left\": [{\"type\": \"LinearAxis\", \"id\": \"c354ffbf-ce4b-46bd-9f01-7aeec2420d2d\"}], \"below\": [{\"type\": \"LinearAxis\", \"id\": \"3ef2be12-6c69-499b-a51d-9bac50e0b588\"}], \"plot_width\": 400, \"tools\": [{\"type\": \"PanTool\", \"id\": \"c20698cc-4947-47f3-9add-a23d047a2ddb\"}, {\"type\": \"WheelZoomTool\", \"id\": \"d1947e17-3365-461c-94fe-7eb0a7e8194b\"}, {\"type\": \"BoxZoomTool\", \"id\": \"53bf96ac-4336-4038-be68-dcfce56fd6ff\"}, {\"type\": \"PreviewSaveTool\", \"id\": \"2bc669ca-0e07-4fdd-ba85-206e0b2ff3d2\"}, {\"type\": \"ResizeTool\", \"id\": \"32a69ec0-7e9d-4345-b53a-6ebefd86a63a\"}, {\"type\": \"ResetTool\", \"id\": \"4a5e520b-844d-4611-a6ec-b8ed0fb4e669\"}, {\"type\": \"HelpTool\", \"id\": \"b14d7596-1834-4512-a325-39dddd65f585\"}], \"renderers\": [{\"type\": \"LinearAxis\", \"id\": \"3ef2be12-6c69-499b-a51d-9bac50e0b588\"}, {\"type\": \"Grid\", \"id\": \"33dedf12-496e-451f-8ef8-e791bd0a5e66\"}, {\"type\": \"LinearAxis\", \"id\": \"c354ffbf-ce4b-46bd-9f01-7aeec2420d2d\"}, {\"type\": \"Grid\", \"id\": \"2dbaba7f-08f7-4d6f-9c16-311ba9b3758e\"}, {\"type\": \"BoxAnnotation\", \"id\": \"8360b8d9-186e-46e3-b96b-7a9fb7a552ab\"}, {\"type\": \"GlyphRenderer\", \"id\": \"0666f7f8-f716-472b-a20a-ba6ad9482d57\"}], \"plot_height\": 400, \"y_range\": {\"type\": \"DataRange1d\", \"id\": \"47e1a937-022e-4915-bc5f-1f59542a9054\"}, \"tool_events\": {\"type\": \"ToolEvents\", \"id\": \"62ece12f-dfb4-44cf-9089-bba3ed35157d\"}}, \"id\": \"2070b63c-cfb8-437d-906e-7fed7b266e56\", \"subtype\": \"Figure\"}, {\"type\": \"BoxZoomTool\", \"attributes\": {\"overlay\": {\"type\": \"BoxAnnotation\", \"id\": \"8360b8d9-186e-46e3-b96b-7a9fb7a552ab\"}, \"plot\": {\"type\": \"Plot\", \"subtype\": \"Figure\", \"id\": \"2070b63c-cfb8-437d-906e-7fed7b266e56\"}}, \"id\": \"53bf96ac-4336-4038-be68-dcfce56fd6ff\"}, {\"type\": \"BasicTicker\", \"attributes\": {}, \"id\": \"2b307f51-4205-483c-b933-3896f9dc0b34\"}, {\"type\": \"Grid\", \"attributes\": {\"ticker\": {\"type\": \"BasicTicker\", \"id\": \"2b307f51-4205-483c-b933-3896f9dc0b34\"}, \"plot\": {\"type\": \"Plot\", \"subtype\": \"Figure\", \"id\": \"2070b63c-cfb8-437d-906e-7fed7b266e56\"}}, \"id\": \"33dedf12-496e-451f-8ef8-e791bd0a5e66\"}, {\"type\": \"BasicTicker\", \"attributes\": {}, \"id\": \"7c96f4d4-4c39-4527-ab74-e83494979b4d\"}, {\"type\": \"LinearAxis\", \"attributes\": {\"formatter\": {\"type\": \"BasicTickFormatter\", \"id\": \"83fd725d-e802-4287-8ce6-1db24feb6ce1\"}, \"ticker\": {\"type\": \"BasicTicker\", \"id\": \"7c96f4d4-4c39-4527-ab74-e83494979b4d\"}, \"plot\": {\"type\": \"Plot\", \"subtype\": \"Figure\", \"id\": \"2070b63c-cfb8-437d-906e-7fed7b266e56\"}}, \"id\": \"c354ffbf-ce4b-46bd-9f01-7aeec2420d2d\"}, {\"type\": \"LinearAxis\", \"attributes\": {\"formatter\": {\"type\": \"BasicTickFormatter\", \"id\": \"2449ebdf-9dd6-41fa-920d-2726aabd30ea\"}, \"ticker\": {\"type\": \"BasicTicker\", \"id\": \"2b307f51-4205-483c-b933-3896f9dc0b34\"}, \"plot\": {\"type\": \"Plot\", \"subtype\": \"Figure\", \"id\": \"2070b63c-cfb8-437d-906e-7fed7b266e56\"}}, \"id\": \"3ef2be12-6c69-499b-a51d-9bac50e0b588\"}, {\"type\": \"WheelZoomTool\", \"attributes\": {\"plot\": {\"type\": \"Plot\", \"subtype\": \"Figure\", \"id\": \"2070b63c-cfb8-437d-906e-7fed7b266e56\"}}, \"id\": \"d1947e17-3365-461c-94fe-7eb0a7e8194b\"}, {\"type\": \"DataRange1d\", \"attributes\": {\"callback\": null}, \"id\": \"a40cc3a1-ce23-4ce3-840c-682f62e3b70c\"}, {\"type\": \"DataRange1d\", \"attributes\": {\"callback\": null}, \"id\": \"47e1a937-022e-4915-bc5f-1f59542a9054\"}, {\"type\": \"ResetTool\", \"attributes\": {\"plot\": {\"type\": \"Plot\", \"subtype\": \"Figure\", \"id\": \"2070b63c-cfb8-437d-906e-7fed7b266e56\"}}, \"id\": \"4a5e520b-844d-4611-a6ec-b8ed0fb4e669\"}, {\"type\": \"ToolEvents\", \"attributes\": {}, \"id\": \"62ece12f-dfb4-44cf-9089-bba3ed35157d\"}, {\"type\": \"BasicTickFormatter\", \"attributes\": {}, \"id\": \"83fd725d-e802-4287-8ce6-1db24feb6ce1\"}, {\"type\": \"ResizeTool\", \"attributes\": {\"plot\": {\"type\": \"Plot\", \"subtype\": \"Figure\", \"id\": \"2070b63c-cfb8-437d-906e-7fed7b266e56\"}}, \"id\": \"32a69ec0-7e9d-4345-b53a-6ebefd86a63a\"}, {\"type\": \"PreviewSaveTool\", \"attributes\": {\"plot\": {\"type\": \"Plot\", \"subtype\": \"Figure\", \"id\": \"2070b63c-cfb8-437d-906e-7fed7b266e56\"}}, \"id\": \"2bc669ca-0e07-4fdd-ba85-206e0b2ff3d2\"}, {\"type\": \"Grid\", \"attributes\": {\"ticker\": {\"type\": \"BasicTicker\", \"id\": \"7c96f4d4-4c39-4527-ab74-e83494979b4d\"}, \"dimension\": 1, \"plot\": {\"type\": \"Plot\", \"subtype\": \"Figure\", \"id\": \"2070b63c-cfb8-437d-906e-7fed7b266e56\"}}, \"id\": \"2dbaba7f-08f7-4d6f-9c16-311ba9b3758e\"}, {\"type\": \"Circle\", \"attributes\": {\"x\": {\"field\": \"x\"}, \"size\": {\"value\": 15, \"units\": \"screen\"}, \"fill_alpha\": {\"value\": 0.1}, \"line_alpha\": {\"value\": 0.1}, \"line_color\": {\"value\": \"#1f77b4\"}, \"y\": {\"field\": \"y\"}, \"fill_color\": {\"value\": \"#1f77b4\"}}, \"id\": \"27521458-4032-4bc1-bf68-a65121cd301b\"}], \"root_ids\": [\"2070b63c-cfb8-437d-906e-7fed7b266e56\"]}, \"title\": \"Bokeh Application\", \"version\": \"0.11.0\"}};\n",
       "            var render_items = [{\"docid\": \"ff615ffc-eaf9-4c90-a9e7-1d4336803df2\", \"elementid\": \"35770ff9-9f05-47fd-99bb-25763233d18b\", \"modelid\": \"2070b63c-cfb8-437d-906e-7fed7b266e56\", \"notebook_comms_target\": \"23bfd033-4661-410b-985c-b813a7697bb2\"}];\n",
       "            \n",
       "            Bokeh.embed.embed_items(docs_json, render_items);\n",
       "        });\n",
       "      },\n",
       "      function(Bokeh) {\n",
       "      }\n",
       "    ];\n",
       "  \n",
       "    function run_inline_js() {\n",
       "      for (var i = 0; i < inline_js.length; i++) {\n",
       "        inline_js[i](window.Bokeh);\n",
       "      }\n",
       "    }\n",
       "  \n",
       "    if (window._bokeh_is_loading === 0) {\n",
       "      console.log(\"Bokeh: BokehJS loaded, going straight to plotting\");\n",
       "      run_inline_js();\n",
       "    } else {\n",
       "      load_libs(js_urls, function() {\n",
       "        console.log(\"Bokeh: BokehJS plotting callback run at\", now());\n",
       "        run_inline_js();\n",
       "      });\n",
       "    }\n",
       "  }(this));\n",
       "</script>"
      ]
     },
     "metadata": {},
     "output_type": "display_data"
    },
    {
     "data": {
      "text/plain": [
       "<bokeh.io._CommsHandle at 0x7fd3a0ff1b38>"
      ]
     },
     "execution_count": 34,
     "metadata": {},
     "output_type": "execute_result"
    }
   ],
   "source": [
    "# Creamos un grafico con herramientas por defecto, usando figure\n",
    "p = figure(plot_width=400, plot_height=400)\n",
    "\n",
    "# Agregamos un circulo con ciertas propiedades\n",
    "p.circle([1, 2, 3, 4, 5], [6, 7, 2, 4, 5], size=15, line_color=\"navy\", fill_color=\"orange\", fill_alpha=0.5)\n",
    "\n",
    "show(p) # Muestra los resultados"
   ]
  },
  {
   "cell_type": "markdown",
   "metadata": {},
   "source": [
    "Veamos un ejemplo de como utilizar el [Bokeh server](http://bokeh.pydata.org/en/latest/docs/user_guide/server.html). Hay muchas ventajas en usar el Bokeh server:\n",
    "\n",
    "1. Los gráficos se pueden publicar con mayor audiencia.\n",
    "2. Visualización de grandes datos interactivamente.\n",
    "3. Construcción de desarrollo de aplicaciones (apps)."
   ]
  },
  {
   "cell_type": "code",
   "execution_count": null,
   "metadata": {
    "collapsed": true
   },
   "outputs": [],
   "source": []
  },
  {
   "cell_type": "markdown",
   "metadata": {
    "collapsed": true
   },
   "source": [
    "## Pygal"
   ]
  },
  {
   "cell_type": "markdown",
   "metadata": {},
   "source": [
    "[Pygal](http://www.pygal.org/en/latest/) se utiliza para la creación de gráficos SVG. Si se han instalado las dependencias adecuadas, también se puede guardar un archivo en formato  *png*. Los archivos SVG son bastante útiles para hacer  gráficos interactivos. Mayor información en [documentación de pygal](http://www.pygal.org/en/latest/documentation/index.html)."
   ]
  },
  {
   "cell_type": "code",
   "execution_count": 35,
   "metadata": {
    "collapsed": false
   },
   "outputs": [],
   "source": [
    "import pygal\n",
    "# http://blog.codeeval.com/codeevalblog/2014\n",
    "data = [\n",
    "  [\"Python\", 30.3],\n",
    "  [\"Java\", 22.2],\n",
    "  [\"C++\", 13],\n",
    "  [\"Ruby\", 10.6],\n",
    "  [\"Javascript\", 5.2],\n",
    "  [\"C#\", 5],\n",
    "  [\"C\", 4.1],\n",
    "  [\"PHP\", 3.3],\n",
    "  [\"Perl\", 1.6],\n",
    "  [\"Go\", 1.5],\n",
    "  [\"Haskell\", 1.2],\n",
    "  [\"Scala\", 1],\n",
    "  [\"Objective-C\", 0.4],\n",
    "  [\"Clojure\", 0.2],\n",
    "  [\"Bash\", 0.1],\n",
    "  [\"Lua\", 0.04],\n",
    "  [\"TCL\", 0.03]\n",
    "]\n",
    "    \n",
    "\n",
    "# Hacemos un gráfico circular en Pygal\n",
    "pie_chart = pygal.Pie()\n",
    "\n",
    "# Agregando un título\n",
    "pie_chart.title = \"CodeEval: Lenguajes de Programación Populares del 2014 \"\n",
    "\n",
    "# agregamos los datos \n",
    "for label, data_points in data:\n",
    "    pie_chart.add(label, data_points)\n",
    "\n",
    "# Enviamos el grafico a formato svg\n",
    "pie_chart.render_to_file('Ranking_Programas.svg')\n"
   ]
  },
  {
   "cell_type": "markdown",
   "metadata": {},
   "source": [
    "## Plotly\n",
    "\n",
    "[plot.ly](https://plot.ly/) se diferencia por ser una herramienta en línea para hacer el análisis y la visualización de datos. Tiene una  API que incluye a python, Excel y R. En el  sitio web de esta herramientas, se pueden encontrar  muchos  gráficos de alta calidad  e interactivos. Gracias a su  excelente [documentación](https://plot.ly/python/user-guide/), crear un  gráfico de barras es relativamente simple.\n",
    "\n",
    "Plotly se integra a la perfección con  [pandas](http://pandas.pydata.org/). \n",
    "\n",
    "\n",
    "\n"
   ]
  },
  {
   "cell_type": "markdown",
   "metadata": {
    "collapsed": true
   },
   "source": [
    "## Lecturas importantes:\n",
    "\n",
    "\n",
    "1. Una lectura interesante acerca de este tema es el artículo de Ignasi Alcalde [Visualización de datos, retos y mitos](http://www.ignasialcalde.es/visualizacion-de-datos-retos-y-mitos/).\n",
    "\n",
    "2. [Recursos para comprender la Visualización de Datos](http://www.analyticsvidhya.com/blog/2015/05/data-visualization-resource/).\n",
    "3. [Visualización usando Bokeh de Python](http://www.analyticsvidhya.com/blog/2015/08/interactive-data-visualization-library-python-bokeh/).\n",
    "4. [Uso de seaborn en Visualización de datos](https://www.oreilly.com/learning/data-visualization-with-seaborn)."
   ]
  },
  {
   "cell_type": "code",
   "execution_count": null,
   "metadata": {
    "collapsed": true
   },
   "outputs": [],
   "source": []
  }
 ],
 "metadata": {
  "kernelspec": {
   "display_name": "Python 3",
   "language": "python",
   "name": "python3"
  },
  "language_info": {
   "codemirror_mode": {
    "name": "ipython",
    "version": 3
   },
   "file_extension": ".py",
   "mimetype": "text/x-python",
   "name": "python",
   "nbconvert_exporter": "python",
   "pygments_lexer": "ipython3",
   "version": "3.5.1"
  }
 },
 "nbformat": 4,
 "nbformat_minor": 0
}
