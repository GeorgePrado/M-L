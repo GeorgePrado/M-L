{
 "cells": [
  {
   "cell_type": "markdown",
   "metadata": {},
   "source": [
    "# Visualización de Datos \n",
    "\n",
    "## Lecturas importantes:\n",
    "\n",
    "1. [Recursos para comprender la Visualización de Datos](http://www.analyticsvidhya.com/blog/2015/05/data-visualization-resource/).\n",
    "2. [Visualización usando Bokeh de Python](http://www.analyticsvidhya.com/blog/2015/08/interactive-data-visualization-library-python-bokeh/)."
   ]
  },
  {
   "cell_type": "markdown",
   "metadata": {},
   "source": [
    "En el mundo de Python, hay múltiples opciones para visualizar datos. En este cuaderno ilustraremos el uso de esas herramientas, en diversas situaciones\n",
    "\n",
    "1. [Matplotlib](http://matplotlib.org/).\n",
    "2. [seaborn](http://stanford.edu/~mwaskom/software/seaborn/).\n",
    "3. [ggplot2](http://ggplot.yhathq.com/).\n",
    "4. [Bokeh](http://bokeh.pydata.org/en/latest/).\n",
    "5. [pygal](http://www.pygal.org/en/latest/).\n",
    "6. [Plotly](https://plot.ly/).\n",
    "7. [Pandas](http://pandas.pydata.org/)."
   ]
  },
  {
   "cell_type": "code",
   "execution_count": null,
   "metadata": {
    "collapsed": true
   },
   "outputs": [],
   "source": [
    "## Matplotlib"
   ]
  },
  {
   "cell_type": "markdown",
   "metadata": {},
   "source": []
  },
  {
   "cell_type": "code",
   "execution_count": null,
   "metadata": {
    "collapsed": true
   },
   "outputs": [],
   "source": []
  },
  {
   "cell_type": "code",
   "execution_count": 10,
   "metadata": {
    "collapsed": false
   },
   "outputs": [],
   "source": [
    "from matplotlib import pyplot as plt\n",
    "fechas = [1944, 1954, 1983, 1986, 1988, 1992, 1997]\n",
    "gdp =[300.2, 567.3, 1075.3, 2789.4, 5965.5, 10345.5, 14897.2]\n",
    "\n",
    "# Creamos un gráfico de linea, con fechas en el eje X, gdp en el eje Y\n",
    "\n",
    "plt.plot(fechas, gdp, color='red', marker='o', linestyle='solid')\n",
    "\n",
    "# Agregamos un título\n",
    "plt.title(\"Grafico de Linea\")\n",
    "\n",
    "# Agregamos una etiqueta al eje Y \n",
    "plt.ylabel(\"Ganancias en $\")\n",
    "plt.show()"
   ]
  },
  {
   "cell_type": "markdown",
   "metadata": {},
   "source": [
    "### Gráfico de Barras "
   ]
  },
  {
   "cell_type": "code",
   "execution_count": 2,
   "metadata": {
    "collapsed": false
   },
   "outputs": [],
   "source": [
    "peliculas = [\"Annie Hall\", \"Ben-Hur\", \"Casablanca\", \"Gandhi\", \"West Side Story\"]\n",
    "num_oscars = [5, 11, 3, 8, 10]\n",
    "\n",
    "# Centremos las barras\n",
    "xs = [i + 0.1 for i, _ in enumerate(peliculas)]\n",
    "\n",
    "plt.bar(xs, num_oscars)\n",
    "\n",
    "plt.ylabel(\"# de Oscars\")\n",
    "plt.title(\"Peliculas Galardonadas con el Oscar\")\n",
    "\n",
    "# Etiquetamos el eje X con el nombre de las peliculas en el centro de las barras\n",
    "\n",
    "plt.xticks([i + 0.5 for i, _ in enumerate(peliculas)], peliculas)\n",
    "\n",
    "plt.show()"
   ]
  },
  {
   "cell_type": "markdown",
   "metadata": {},
   "source": [
    "### Gráfico de Líneas "
   ]
  },
  {
   "cell_type": "code",
   "execution_count": 9,
   "metadata": {
    "collapsed": false
   },
   "outputs": [],
   "source": [
    "varianza= [1,2,4,8,16,32,64,128,256]\n",
    "bs_2= [256,128,64,32,16,8,4,2,1]\n",
    "total_error = [x + y for x, y in zip(varianza, bs_2)]\n",
    "xs = range(len(varianza))\n",
    "\n",
    "# Podemos llamar a plt.plot varias veces para mostrar\n",
    "# un grupo de figuras del mismo 'grafico'\n",
    "\n",
    "plt.plot(xs, varianza,     'g-',  label='varianza')    \n",
    "plt.plot(xs, bs_2, 'r-.', label='bias^2')      \n",
    "plt.plot(xs, total_error,  'b:',  label='total error') \n",
    "\n",
    "# Podemos asignas lebels s ese grupo de figuras\n",
    "# Contamos con una leyenda para el grafico resultante\n",
    "# loc=9 significa \"top center\"\n",
    "    \n",
    "plt.legend(loc=9)\n",
    "plt.xlabel(\"Modelo de  complexidad\")\n",
    "plt.title(\"Bias-Varianza\")\n",
    "plt.show()"
   ]
  },
  {
   "cell_type": "markdown",
   "metadata": {},
   "source": [
    "### Gráficos de dispersión"
   ]
  },
  {
   "cell_type": "code",
   "execution_count": 12,
   "metadata": {
    "collapsed": false
   },
   "outputs": [],
   "source": [
    "fr = [45, 78, 67, 89, 71, 68, 60, 74, 65]\n",
    "minu = [145, 167, 132, 156, 143, 122, 114, 183, 143]\n",
    "labels = ['a', 'b', 'c', 'd','e','f','g', 'h','i']\n",
    "    \n",
    "plt.scatter(fr, minu)\n",
    "\n",
    "# Etiquetamos cada punto\n",
    "for label, f_c, m_c in zip(labels, fr, minu):\n",
    "    plt.annotate(label,\n",
    "                 xy = (f_c, m_c),\n",
    "                 xytext = (-5, 5),\n",
    "                 textcoords='offset points')\n",
    "    \n",
    "    \n",
    "plt.title(\"Minutos diarios-Numero de amigos\")\n",
    "plt.xlabel(\"Numero de amigos\")\n",
    "plt.ylabel(\"Minutos diarios en el sitio \")\n",
    "plt.show()\n"
   ]
  },
  {
   "cell_type": "code",
   "execution_count": null,
   "metadata": {
    "collapsed": true
   },
   "outputs": [],
   "source": []
  },
  {
   "cell_type": "markdown",
   "metadata": {},
   "source": [
    "## Seaborn \n",
    "\n",
    "[Seaborn](http://stanford.edu/~mwaskom/software/seaborn/) es una librería de visualización basada en matplotlib y creada para hacer visualizaciones de datos  mucho más atractivos visualmente e informativos. Seaborn ofrece varias características como  el construido en temas, paletas de colores, funciones y herramientas para visualizar regresiones lineales univariadad y bivariadad, matrices de datos,  series temporales en estadística, etc, que nos permiten construir visualizaciones complejas. También se integra  bien con Pandas.\n",
    "\n",
    "Para una breve introducción a las ideas detrás del paquete, se puede leer las [notas introductorias ](http://stanford.edu/~mwaskom/software/seaborn/introduction.html#introduction)."
   ]
  },
  {
   "cell_type": "code",
   "execution_count": 8,
   "metadata": {
    "collapsed": false
   },
   "outputs": [],
   "source": [
    "import seaborn as sns \n",
    "import pandas as pd"
   ]
  },
  {
   "cell_type": "code",
   "execution_count": 9,
   "metadata": {
    "collapsed": false
   },
   "outputs": [],
   "source": [
    "df1 = pd.read_csv('te_2014.tsv', delimiter=\"\\t\", names=[\"time\", \"exterior\"])\n",
    "df1.time = pd.to_datetime(df1.time.values, unit=\"s\").tz_localize('UTC').tz_convert('Europe/Stockholm')\n",
    "df1 = df1.set_index(\"time\").resample(\"10min\")\n",
    "df2 = pd.read_csv('ti_2014.tsv', delimiter=\"\\t\", names=[\"time\", \"interior\"])\n",
    "df2.time = pd.to_datetime(df2.time.values, unit=\"s\").tz_localize('UTC').tz_convert('Europe/Stockholm')\n",
    "df2 = df2.set_index(\"time\").resample(\"10min\")\n",
    "df_temp = pd.concat([df1, df2], axis=1)"
   ]
  },
  {
   "cell_type": "code",
   "execution_count": 10,
   "metadata": {
    "collapsed": false
   },
   "outputs": [],
   "source": [
    "fig, ax = plt.subplots(1, 1, figsize=(8, 4))\n",
    "df_temp.resample(\"D\").plot(y=[\"exterior\", \"interior\"], ax=ax)\n",
    "fig.tight_layout()\n",
    "fig.savefig(\"plot-seaborn.pdf\")"
   ]
  },
  {
   "cell_type": "markdown",
   "metadata": {},
   "source": [
    "La principal habilidad  de la biblioteca Seaborn, aparte de generar gráficos vistosos, es su colección de gráficos estadísticos. Ejemplos de estos es [**kdeplot**](http://stanford.edu/~mwaskom/software/seaborn/generated/seaborn.kdeplot.html) que muestra  el [KDE](https://en.wikipedia.org/wiki/Kernel_density_estimation), una manera no paramétrica para estimar la densidad de una variable aleatoria y [**distplot**](http://stanford.edu/~mwaskom/software/seaborn/generated/seaborn.distplot.html?highlight=distplot) que muestra una distribución univariada de observaciones  respectivamente. Por ejemplo, las siguientes dos líneas de código producen el gráfico donde  las líneas azules y verdes son el KDE calculado."
   ]
  },
  {
   "cell_type": "code",
   "execution_count": 12,
   "metadata": {
    "collapsed": false
   },
   "outputs": [],
   "source": [
    "sns.distplot(df_temp.to_period(\"M\")[\"exterior\"][\"2014-04\"].dropna().values, bins=50);\n",
    "sns.distplot(df_temp.to_period(\"M\")[\"interior\"][\"2014-04\"].dropna().values, bins=50);\n",
    "\n",
    "plt.savefig(\"seaborn-distplot.pdf\")"
   ]
  },
  {
   "cell_type": "markdown",
   "metadata": {},
   "source": [
    "## ggplot"
   ]
  },
  {
   "cell_type": "markdown",
   "metadata": {},
   "source": [
    "[ggplot](http://ggplot.yhathq.com/), es similar a Seaborn en que se construye basado en matplotlib y tiene como objetivo mejorar el atractivo de las visualizaciones matplotlib de una manera sencilla. Diverge de  Seaborn en que se trata de un puerto de [ggplot2](http://ggplot2.org/) de  R. Dado a esto  parte de la API no es sólo Python, lo que no implica que no sea  muy poderoso.\n"
   ]
  },
  {
   "cell_type": "code",
   "execution_count": 5,
   "metadata": {
    "collapsed": false
   },
   "outputs": [
    {
     "name": "stdout",
     "output_type": "stream",
     "text": [
      "<ggplot: (8784434663856)>\n"
     ]
    },
    {
     "name": "stderr",
     "output_type": "stream",
     "text": [
      "/home/c-lara/anaconda3/lib/python3.5/site-packages/matplotlib/__init__.py:872: UserWarning: axes.color_cycle is deprecated and replaced with axes.prop_cycle; please use the latter.\n",
      "  warnings.warn(self.msg_depr % (key, alt_key))\n"
     ]
    }
   ],
   "source": [
    "from matplotlib import pyplot as plt\n",
    "from ggplot import *\n",
    "\n",
    "p = ggplot(mtcars, aes('cyl'))\n",
    "print (p + geom_bar())\n",
    "\n",
    "plt.show(1)"
   ]
  },
  {
   "cell_type": "markdown",
   "metadata": {
    "collapsed": true
   },
   "source": [
    "## Bokeh"
   ]
  },
  {
   "cell_type": "markdown",
   "metadata": {},
   "source": [
    "[Bokeh](http://bokeh.pydata.org/en/latest/) es una biblioteca de visualización interactiva de Python para el manejo de grandes conjuntos de datos que  utilizan las últimas tecnologías web. Su objetivo es proporcionar una  elegante construcción, concisa de nuevos gráficos al estilo de [Protovis](http://mbostock.github.io/protovis/) o [D3](http://d3js.org/). Bokeh utiliza Canvas en lugar de SVG y tiene múltiples lenguajes enlazados 'bindings' como Python, Lua, R y Julia. Estos producen un archivo JSON, el cual trabaja como una entrada para [BokehJS](http://bokeh.pydata.org/en/latest/docs/dev_guide/bokehjs.html)(una librería de Java Script) que a su vez presenta los datos a los navegadores web."
   ]
  },
  {
   "cell_type": "code",
   "execution_count": 14,
   "metadata": {
    "collapsed": false
   },
   "outputs": [
    {
     "data": {
      "text/html": [
       "\n",
       "\n",
       "    <script type=\"text/javascript\">\n",
       "      \n",
       "      (function(global) {\n",
       "        function now() {\n",
       "          return new Date();\n",
       "        }\n",
       "      \n",
       "        if (typeof (window._bokeh_onload_callbacks) === \"undefined\") {\n",
       "          window._bokeh_onload_callbacks = [];\n",
       "        }\n",
       "      \n",
       "        function run_callbacks() {\n",
       "          window._bokeh_onload_callbacks.forEach(function(callback) { callback() });\n",
       "          delete window._bokeh_onload_callbacks\n",
       "          console.info(\"Bokeh: all callbacks have finished\");\n",
       "        }\n",
       "      \n",
       "        function load_libs(js_urls, callback) {\n",
       "          window._bokeh_onload_callbacks.push(callback);\n",
       "          if (window._bokeh_is_loading > 0) {\n",
       "            console.log(\"Bokeh: BokehJS is being loaded, scheduling callback at\", now());\n",
       "            return null;\n",
       "          }\n",
       "          if (js_urls == null || js_urls.length === 0) {\n",
       "            run_callbacks();\n",
       "            return null;\n",
       "          }\n",
       "          console.log(\"Bokeh: BokehJS not loaded, scheduling load and callback at\", now());\n",
       "          window._bokeh_is_loading = js_urls.length;\n",
       "          for (var i = 0; i < js_urls.length; i++) {\n",
       "            var url = js_urls[i];\n",
       "            var s = document.createElement('script');\n",
       "            s.src = url;\n",
       "            s.async = false;\n",
       "            s.onreadystatechange = s.onload = function() {\n",
       "              window._bokeh_is_loading--;\n",
       "              if (window._bokeh_is_loading === 0) {\n",
       "                console.log(\"Bokeh: all BokehJS libraries loaded\");\n",
       "                run_callbacks()\n",
       "              }\n",
       "            };\n",
       "            s.onerror = function() {\n",
       "              console.warn(\"failed to load library \" + url);\n",
       "            };\n",
       "            console.log(\"Bokeh: injecting script tag for BokehJS library: \", url);\n",
       "            document.getElementsByTagName(\"head\")[0].appendChild(s);\n",
       "          }\n",
       "        };var js_urls = ['https://cdn.pydata.org/bokeh/release/bokeh-0.11.0.min.js', 'https://cdn.pydata.org/bokeh/release/bokeh-widgets-0.11.0.min.js', 'https://cdn.pydata.org/bokeh/release/bokeh-compiler-0.11.0.min.js'];\n",
       "      \n",
       "        var inline_js = [\n",
       "          function(Bokeh) {\n",
       "            Bokeh.set_log_level(\"info\");\n",
       "          },\n",
       "          function(Bokeh) {\n",
       "            console.log(\"Bokeh: injecting CSS: https://cdn.pydata.org/bokeh/release/bokeh-0.11.0.min.css\");\n",
       "            Bokeh.embed.inject_css(\"https://cdn.pydata.org/bokeh/release/bokeh-0.11.0.min.css\");\n",
       "            console.log(\"Bokeh: injecting CSS: https://cdn.pydata.org/bokeh/release/bokeh-widgets-0.11.0.min.css\");\n",
       "            Bokeh.embed.inject_css(\"https://cdn.pydata.org/bokeh/release/bokeh-widgets-0.11.0.min.css\");\n",
       "          }\n",
       "        ];\n",
       "      \n",
       "        function run_inline_js() {\n",
       "          for (var i = 0; i < inline_js.length; i++) {\n",
       "            inline_js[i](window.Bokeh);\n",
       "          }\n",
       "        }\n",
       "      \n",
       "        if (window._bokeh_is_loading === 0) {\n",
       "          console.log(\"Bokeh: BokehJS loaded, going straight to plotting\");\n",
       "          run_inline_js();\n",
       "        } else {\n",
       "          load_libs(js_urls, function() {\n",
       "            console.log(\"Bokeh: BokehJS plotting callback run at\", now());\n",
       "            run_inline_js();\n",
       "          });\n",
       "        }\n",
       "      }(this));\n",
       "    </script>\n",
       "    <div>\n",
       "        <a href=\"http://bokeh.pydata.org\" target=\"_blank\" class=\"bk-logo bk-logo-small bk-logo-notebook\"></a>\n",
       "        <span>BokehJS successfully loaded.</span>\n",
       "    </div>"
      ]
     },
     "metadata": {},
     "output_type": "display_data"
    }
   ],
   "source": [
    "from bokeh.io import output_notebook, show\n",
    "from bokeh.plotting import figure\n",
    "output_notebook()"
   ]
  },
  {
   "cell_type": "code",
   "execution_count": 15,
   "metadata": {
    "collapsed": false
   },
   "outputs": [
    {
     "data": {
      "text/html": [
       "\n",
       "\n",
       "    <div class=\"plotdiv\" id=\"31a77d52-a6bc-4db9-b6f4-0874259d079d\"></div>\n",
       "<script type=\"text/javascript\">\n",
       "  \n",
       "  (function(global) {\n",
       "    function now() {\n",
       "      return new Date();\n",
       "    }\n",
       "  \n",
       "    if (typeof (window._bokeh_onload_callbacks) === \"undefined\") {\n",
       "      window._bokeh_onload_callbacks = [];\n",
       "    }\n",
       "  \n",
       "    function run_callbacks() {\n",
       "      window._bokeh_onload_callbacks.forEach(function(callback) { callback() });\n",
       "      delete window._bokeh_onload_callbacks\n",
       "      console.info(\"Bokeh: all callbacks have finished\");\n",
       "    }\n",
       "  \n",
       "    function load_libs(js_urls, callback) {\n",
       "      window._bokeh_onload_callbacks.push(callback);\n",
       "      if (window._bokeh_is_loading > 0) {\n",
       "        console.log(\"Bokeh: BokehJS is being loaded, scheduling callback at\", now());\n",
       "        return null;\n",
       "      }\n",
       "      if (js_urls == null || js_urls.length === 0) {\n",
       "        run_callbacks();\n",
       "        return null;\n",
       "      }\n",
       "      console.log(\"Bokeh: BokehJS not loaded, scheduling load and callback at\", now());\n",
       "      window._bokeh_is_loading = js_urls.length;\n",
       "      for (var i = 0; i < js_urls.length; i++) {\n",
       "        var url = js_urls[i];\n",
       "        var s = document.createElement('script');\n",
       "        s.src = url;\n",
       "        s.async = false;\n",
       "        s.onreadystatechange = s.onload = function() {\n",
       "          window._bokeh_is_loading--;\n",
       "          if (window._bokeh_is_loading === 0) {\n",
       "            console.log(\"Bokeh: all BokehJS libraries loaded\");\n",
       "            run_callbacks()\n",
       "          }\n",
       "        };\n",
       "        s.onerror = function() {\n",
       "          console.warn(\"failed to load library \" + url);\n",
       "        };\n",
       "        console.log(\"Bokeh: injecting script tag for BokehJS library: \", url);\n",
       "        document.getElementsByTagName(\"head\")[0].appendChild(s);\n",
       "      }\n",
       "    };var element = document.getElementById(\"31a77d52-a6bc-4db9-b6f4-0874259d079d\");\n",
       "    if (element == null) {\n",
       "      console.log(\"Bokeh: ERROR: autoload.js configured with elementid '31a77d52-a6bc-4db9-b6f4-0874259d079d' but no matching script tag was found. \")\n",
       "      return false;\n",
       "    }var js_urls = [];\n",
       "  \n",
       "    var inline_js = [\n",
       "      function(Bokeh) {\n",
       "        Bokeh.$(function() {\n",
       "            var docs_json = {\"d5f1381b-84ed-44e5-a0fd-b28a593722d1\": {\"version\": \"0.11.0\", \"title\": \"Bokeh Application\", \"roots\": {\"root_ids\": [\"d1a13cd7-b02e-4fa1-b3b4-729b2e69b3d8\"], \"references\": [{\"attributes\": {\"y\": {\"field\": \"y\"}, \"x\": {\"field\": \"x\"}, \"size\": {\"value\": 15, \"units\": \"screen\"}, \"fill_color\": {\"value\": \"#1f77b4\"}, \"fill_alpha\": {\"value\": 0.1}, \"line_color\": {\"value\": \"#1f77b4\"}, \"line_alpha\": {\"value\": 0.1}}, \"id\": \"20a1c6b7-ce13-4be5-94ba-09d74e93154a\", \"type\": \"Circle\"}, {\"attributes\": {\"dimension\": 1, \"ticker\": {\"id\": \"22725ab3-674f-426f-819d-72b7e87ce8b8\", \"type\": \"BasicTicker\"}, \"plot\": {\"id\": \"d1a13cd7-b02e-4fa1-b3b4-729b2e69b3d8\", \"type\": \"Plot\", \"subtype\": \"Figure\"}}, \"id\": \"73c1e824-d824-4078-b731-aefd58f77bb9\", \"type\": \"Grid\"}, {\"attributes\": {\"formatter\": {\"id\": \"cabb392f-9a03-44f1-8f53-00ca7bc68052\", \"type\": \"BasicTickFormatter\"}, \"plot\": {\"id\": \"d1a13cd7-b02e-4fa1-b3b4-729b2e69b3d8\", \"type\": \"Plot\", \"subtype\": \"Figure\"}, \"ticker\": {\"id\": \"22725ab3-674f-426f-819d-72b7e87ce8b8\", \"type\": \"BasicTicker\"}}, \"id\": \"1948ba39-87e1-4ead-9e57-0db3ba993a63\", \"type\": \"LinearAxis\"}, {\"attributes\": {}, \"id\": \"3fa6b69b-6411-472f-88a4-7967c9d3726d\", \"type\": \"BasicTickFormatter\"}, {\"attributes\": {\"plot\": {\"id\": \"d1a13cd7-b02e-4fa1-b3b4-729b2e69b3d8\", \"type\": \"Plot\", \"subtype\": \"Figure\"}}, \"id\": \"6b6fb104-9adc-4807-8541-84199bc4233a\", \"type\": \"ResizeTool\"}, {\"attributes\": {\"below\": [{\"id\": \"745af39e-4985-47db-8a11-714692464eec\", \"type\": \"LinearAxis\"}], \"left\": [{\"id\": \"1948ba39-87e1-4ead-9e57-0db3ba993a63\", \"type\": \"LinearAxis\"}], \"tool_events\": {\"id\": \"27a7e15a-4c7a-4b8a-9776-09126ad21e32\", \"type\": \"ToolEvents\"}, \"renderers\": [{\"id\": \"745af39e-4985-47db-8a11-714692464eec\", \"type\": \"LinearAxis\"}, {\"id\": \"8628636e-aa9e-4214-a0c4-14b1d6f3b7c9\", \"type\": \"Grid\"}, {\"id\": \"1948ba39-87e1-4ead-9e57-0db3ba993a63\", \"type\": \"LinearAxis\"}, {\"id\": \"73c1e824-d824-4078-b731-aefd58f77bb9\", \"type\": \"Grid\"}, {\"id\": \"2dd89d11-3042-4c9a-8dfa-e38366e8c377\", \"type\": \"BoxAnnotation\"}, {\"id\": \"c69eb93c-3688-40cc-b2f5-9e8c1b42202e\", \"type\": \"GlyphRenderer\"}], \"tools\": [{\"id\": \"5d4ee50a-9c7c-4549-a471-ea1e89ce5725\", \"type\": \"PanTool\"}, {\"id\": \"69e72597-a2ed-400a-b657-8193703d68f3\", \"type\": \"WheelZoomTool\"}, {\"id\": \"f9a06e78-c866-4e65-8353-c3df7e61a6d9\", \"type\": \"BoxZoomTool\"}, {\"id\": \"92970baf-5724-4c28-861f-89ace5e0ade2\", \"type\": \"PreviewSaveTool\"}, {\"id\": \"6b6fb104-9adc-4807-8541-84199bc4233a\", \"type\": \"ResizeTool\"}, {\"id\": \"3959bd13-d122-4bb5-b673-71fa9f8d9535\", \"type\": \"ResetTool\"}, {\"id\": \"e684008f-ec80-4008-843e-e9a6043ea15f\", \"type\": \"HelpTool\"}], \"plot_width\": 400, \"plot_height\": 400, \"x_range\": {\"id\": \"4d8f7779-d813-4d7a-9733-3693f6f4667d\", \"type\": \"DataRange1d\"}, \"y_range\": {\"id\": \"e8add1df-87e8-4b76-8d31-44ba5334d118\", \"type\": \"DataRange1d\"}}, \"id\": \"d1a13cd7-b02e-4fa1-b3b4-729b2e69b3d8\", \"type\": \"Plot\", \"subtype\": \"Figure\"}, {\"attributes\": {\"plot\": {\"id\": \"d1a13cd7-b02e-4fa1-b3b4-729b2e69b3d8\", \"type\": \"Plot\", \"subtype\": \"Figure\"}}, \"id\": \"5d4ee50a-9c7c-4549-a471-ea1e89ce5725\", \"type\": \"PanTool\"}, {\"attributes\": {}, \"id\": \"27a7e15a-4c7a-4b8a-9776-09126ad21e32\", \"type\": \"ToolEvents\"}, {\"attributes\": {\"glyph\": {\"id\": \"dfd9101c-df0c-44a0-b564-170cec840d4f\", \"type\": \"Circle\"}, \"nonselection_glyph\": {\"id\": \"20a1c6b7-ce13-4be5-94ba-09d74e93154a\", \"type\": \"Circle\"}, \"data_source\": {\"id\": \"61b219b3-0123-4f81-ba3e-d46b39193abf\", \"type\": \"ColumnDataSource\"}, \"selection_glyph\": null, \"hover_glyph\": null}, \"id\": \"c69eb93c-3688-40cc-b2f5-9e8c1b42202e\", \"type\": \"GlyphRenderer\"}, {\"attributes\": {}, \"id\": \"22725ab3-674f-426f-819d-72b7e87ce8b8\", \"type\": \"BasicTicker\"}, {\"attributes\": {\"plot\": {\"id\": \"d1a13cd7-b02e-4fa1-b3b4-729b2e69b3d8\", \"type\": \"Plot\", \"subtype\": \"Figure\"}, \"ticker\": {\"id\": \"b88b9e68-5cd0-4261-b960-ace4d6e9bf7f\", \"type\": \"BasicTicker\"}}, \"id\": \"8628636e-aa9e-4214-a0c4-14b1d6f3b7c9\", \"type\": \"Grid\"}, {\"attributes\": {\"right_units\": \"screen\", \"top_units\": \"screen\", \"fill_alpha\": {\"value\": 0.5}, \"level\": \"overlay\", \"line_dash\": [4, 4], \"left_units\": \"screen\", \"line_width\": {\"value\": 2}, \"bottom_units\": \"screen\", \"render_mode\": \"css\", \"fill_color\": {\"value\": \"lightgrey\"}, \"line_color\": {\"value\": \"black\"}, \"plot\": null, \"line_alpha\": {\"value\": 1.0}}, \"id\": \"2dd89d11-3042-4c9a-8dfa-e38366e8c377\", \"type\": \"BoxAnnotation\"}, {\"attributes\": {}, \"id\": \"cabb392f-9a03-44f1-8f53-00ca7bc68052\", \"type\": \"BasicTickFormatter\"}, {\"attributes\": {\"callback\": null, \"data\": {\"y\": [6, 7, 2, 4, 5], \"x\": [1, 2, 3, 4, 5]}, \"column_names\": [\"y\", \"x\"]}, \"id\": \"61b219b3-0123-4f81-ba3e-d46b39193abf\", \"type\": \"ColumnDataSource\"}, {\"attributes\": {\"formatter\": {\"id\": \"3fa6b69b-6411-472f-88a4-7967c9d3726d\", \"type\": \"BasicTickFormatter\"}, \"plot\": {\"id\": \"d1a13cd7-b02e-4fa1-b3b4-729b2e69b3d8\", \"type\": \"Plot\", \"subtype\": \"Figure\"}, \"ticker\": {\"id\": \"b88b9e68-5cd0-4261-b960-ace4d6e9bf7f\", \"type\": \"BasicTicker\"}}, \"id\": \"745af39e-4985-47db-8a11-714692464eec\", \"type\": \"LinearAxis\"}, {\"attributes\": {\"y\": {\"field\": \"y\"}, \"x\": {\"field\": \"x\"}, \"size\": {\"value\": 15, \"units\": \"screen\"}, \"fill_color\": {\"value\": \"orange\"}, \"fill_alpha\": {\"value\": 0.5}, \"line_color\": {\"value\": \"navy\"}}, \"id\": \"dfd9101c-df0c-44a0-b564-170cec840d4f\", \"type\": \"Circle\"}, {\"attributes\": {\"plot\": {\"id\": \"d1a13cd7-b02e-4fa1-b3b4-729b2e69b3d8\", \"type\": \"Plot\", \"subtype\": \"Figure\"}}, \"id\": \"92970baf-5724-4c28-861f-89ace5e0ade2\", \"type\": \"PreviewSaveTool\"}, {\"attributes\": {\"plot\": {\"id\": \"d1a13cd7-b02e-4fa1-b3b4-729b2e69b3d8\", \"type\": \"Plot\", \"subtype\": \"Figure\"}}, \"id\": \"3959bd13-d122-4bb5-b673-71fa9f8d9535\", \"type\": \"ResetTool\"}, {\"attributes\": {\"plot\": {\"id\": \"d1a13cd7-b02e-4fa1-b3b4-729b2e69b3d8\", \"type\": \"Plot\", \"subtype\": \"Figure\"}}, \"id\": \"e684008f-ec80-4008-843e-e9a6043ea15f\", \"type\": \"HelpTool\"}, {\"attributes\": {}, \"id\": \"b88b9e68-5cd0-4261-b960-ace4d6e9bf7f\", \"type\": \"BasicTicker\"}, {\"attributes\": {\"callback\": null}, \"id\": \"e8add1df-87e8-4b76-8d31-44ba5334d118\", \"type\": \"DataRange1d\"}, {\"attributes\": {\"callback\": null}, \"id\": \"4d8f7779-d813-4d7a-9733-3693f6f4667d\", \"type\": \"DataRange1d\"}, {\"attributes\": {\"overlay\": {\"id\": \"2dd89d11-3042-4c9a-8dfa-e38366e8c377\", \"type\": \"BoxAnnotation\"}, \"plot\": {\"id\": \"d1a13cd7-b02e-4fa1-b3b4-729b2e69b3d8\", \"type\": \"Plot\", \"subtype\": \"Figure\"}}, \"id\": \"f9a06e78-c866-4e65-8353-c3df7e61a6d9\", \"type\": \"BoxZoomTool\"}, {\"attributes\": {\"plot\": {\"id\": \"d1a13cd7-b02e-4fa1-b3b4-729b2e69b3d8\", \"type\": \"Plot\", \"subtype\": \"Figure\"}}, \"id\": \"69e72597-a2ed-400a-b657-8193703d68f3\", \"type\": \"WheelZoomTool\"}]}}};\n",
       "            var render_items = [{\"docid\": \"d5f1381b-84ed-44e5-a0fd-b28a593722d1\", \"elementid\": \"31a77d52-a6bc-4db9-b6f4-0874259d079d\", \"notebook_comms_target\": \"49924680-43ab-4003-ae69-d08b2ccdcc52\", \"modelid\": \"d1a13cd7-b02e-4fa1-b3b4-729b2e69b3d8\"}];\n",
       "            \n",
       "            Bokeh.embed.embed_items(docs_json, render_items);\n",
       "        });\n",
       "      },\n",
       "      function(Bokeh) {\n",
       "      }\n",
       "    ];\n",
       "  \n",
       "    function run_inline_js() {\n",
       "      for (var i = 0; i < inline_js.length; i++) {\n",
       "        inline_js[i](window.Bokeh);\n",
       "      }\n",
       "    }\n",
       "  \n",
       "    if (window._bokeh_is_loading === 0) {\n",
       "      console.log(\"Bokeh: BokehJS loaded, going straight to plotting\");\n",
       "      run_inline_js();\n",
       "    } else {\n",
       "      load_libs(js_urls, function() {\n",
       "        console.log(\"Bokeh: BokehJS plotting callback run at\", now());\n",
       "        run_inline_js();\n",
       "      });\n",
       "    }\n",
       "  }(this));\n",
       "</script>"
      ]
     },
     "metadata": {},
     "output_type": "display_data"
    },
    {
     "data": {
      "text/plain": [
       "<bokeh.io._CommsHandle at 0x5e10c91d30>"
      ]
     },
     "execution_count": 15,
     "metadata": {},
     "output_type": "execute_result"
    }
   ],
   "source": [
    "# Creamos un grafico con herramientas por defecto, usando figure\n",
    "p = figure(plot_width=400, plot_height=400)\n",
    "\n",
    "# Agregamos un circulo con ciertas propiedades\n",
    "p.circle([1, 2, 3, 4, 5], [6, 7, 2, 4, 5], size=15, line_color=\"navy\", fill_color=\"orange\", fill_alpha=0.5)\n",
    "\n",
    "show(p) # Muestra los resultados"
   ]
  },
  {
   "cell_type": "markdown",
   "metadata": {
    "collapsed": true
   },
   "source": [
    "## Pygal"
   ]
  },
  {
   "cell_type": "markdown",
   "metadata": {},
   "source": [
    "[Pygal](http://www.pygal.org/en/latest/) se utiliza para la creación de gráficos SVG. Si se han instalado las dependencias adecuadas, también se puede guardar un archivo en formato  *png*. Los archivos SVG son bastante útiles para hacer  gráficos interactivos. Mayor información en [documentación de pygal](http://www.pygal.org/en/latest/documentation/index.html)."
   ]
  },
  {
   "cell_type": "code",
   "execution_count": 6,
   "metadata": {
    "collapsed": false
   },
   "outputs": [],
   "source": [
    "import pygal\n",
    "# http://blog.codeeval.com/codeevalblog/2014\n",
    "data = [\n",
    "  [\"Python\", 30.3],\n",
    "  [\"Java\", 22.2],\n",
    "  [\"C++\", 13],\n",
    "  [\"Ruby\", 10.6],\n",
    "  [\"Javascript\", 5.2],\n",
    "  [\"C#\", 5],\n",
    "  [\"C\", 4.1],\n",
    "  [\"PHP\", 3.3],\n",
    "  [\"Perl\", 1.6],\n",
    "  [\"Go\", 1.5],\n",
    "  [\"Haskell\", 1.2],\n",
    "  [\"Scala\", 1],\n",
    "  [\"Objective-C\", 0.4],\n",
    "  [\"Clojure\", 0.2],\n",
    "  [\"Bash\", 0.1],\n",
    "  [\"Lua\", 0.04],\n",
    "  [\"TCL\", 0.03]\n",
    "]\n",
    "    \n",
    "\n",
    "# Hacemos un gráfico circular en Pygal\n",
    "pie_chart = pygal.Pie()\n",
    "\n",
    "# Agregando un título\n",
    "pie_chart.title = \"CodeEval: Lenguajes de Programación Populares del 2014 \"\n",
    "\n",
    "# agregamos los datos \n",
    "for label, data_points in data:\n",
    "    pie_chart.add(label, data_points)\n",
    "\n",
    "# Enviamos el grafico a formato svg\n",
    "pie_chart.render_to_file('Ranking_Programas.svg')\n"
   ]
  },
  {
   "cell_type": "markdown",
   "metadata": {},
   "source": [
    "## Plotly\n",
    "\n",
    "[plot.ly](https://plot.ly/) se diferencia por ser una herramienta en línea para hacer el análisis y la visualización de datos. Tiene una  API que incluye a python, Excel y R. En el  sitio web de esta herramientas, se pueden encontrar  muchos  gráficos de alta calidad  e interactivos. Gracias a su  excelente [documentación](https://plot.ly/python/user-guide/), crear un  gráfico de barras es relativamente simple.\n",
    "\n",
    "Plotly se integra a la perfección con  [pandas](http://pandas.pydata.org/). \n",
    "\n",
    "\n",
    "\n"
   ]
  },
  {
   "cell_type": "code",
   "execution_count": null,
   "metadata": {
    "collapsed": true
   },
   "outputs": [],
   "source": []
  }
 ],
 "metadata": {
  "kernelspec": {
   "display_name": "Python 3",
   "language": "python",
   "name": "python3"
  },
  "language_info": {
   "codemirror_mode": {
    "name": "ipython",
    "version": 3
   },
   "file_extension": ".py",
   "mimetype": "text/x-python",
   "name": "python",
   "nbconvert_exporter": "python",
   "pygments_lexer": "ipython3",
   "version": "3.5.1"
  }
 },
 "nbformat": 4,
 "nbformat_minor": 0
}
