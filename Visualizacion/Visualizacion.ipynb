{
 "cells": [
  {
   "cell_type": "markdown",
   "metadata": {},
   "source": [
    "# Visualización de Datos \n",
    "\n",
    "## Lecturas importantes:\n",
    "\n",
    "1. [Recursos para comprender la Visualización de Datos](http://www.analyticsvidhya.com/blog/2015/05/data-visualization-resource/)."
   ]
  },
  {
   "cell_type": "markdown",
   "metadata": {},
   "source": [
    "En el mundo de Python, hay múltiples opciones para visualizar datos. En este cuaderno ilustraremos el uso de esas herramientas, en diversas situaciones\n",
    "\n",
    "1. [Matplotlib](http://matplotlib.org/).\n",
    "2. [seaborn](http://stanford.edu/~mwaskom/software/seaborn/).\n",
    "3. [ggplot2](http://ggplot.yhathq.com/).\n",
    "4. [Bokeh](http://bokeh.pydata.org/en/latest/).\n",
    "5. [pygal](http://www.pygal.org/en/latest/).\n",
    "6. [Plotly](https://plot.ly/).\n",
    "7. [Pandas](http://pandas.pydata.org/)."
   ]
  },
  {
   "cell_type": "code",
   "execution_count": 49,
   "metadata": {
    "collapsed": false
   },
   "outputs": [],
   "source": [
    "from matplotlib import pyplot as plt\n",
    "fechas = [1944, 1954, 1983, 1986, 1988, 1992, 1997]\n",
    "gdp =[300.2, 567.3, 1075.3, 2789.4, 5965.5, 10345.5, 14897.2]\n",
    "\n",
    "# Creamos un gráfico de linea, con fechas en el eje X, gdp en el eje Y\n",
    "\n",
    "plt.plot(fechas, gdp, color='red', marker='o', linestyle='solid')\n",
    "\n",
    "# Agregamos un título\n",
    "plt.title(\"Grafico de Linea\")\n",
    "\n",
    "# Agregamos una etiqueta al eje Y \n",
    "plt.ylabel(\"Ganancias en $\")\n",
    "plt.show()"
   ]
  },
  {
   "cell_type": "markdown",
   "metadata": {},
   "source": [
    "### Gráfico de Barras "
   ]
  },
  {
   "cell_type": "code",
   "execution_count": 50,
   "metadata": {
    "collapsed": false
   },
   "outputs": [],
   "source": [
    "peliculas = [\"Annie Hall\", \"Ben-Hur\", \"Casablanca\", \"Gandhi\", \"West Side Story\"]\n",
    "num_oscars = [5, 11, 3, 8, 10]\n",
    "\n",
    "# Centremos las barras\n",
    "xs = [i + 0.1 for i, _ in enumerate(peliculas)]\n",
    "\n",
    "plt.bar(xs, num_oscars)\n",
    "\n",
    "plt.ylabel(\"# de Oscars\")\n",
    "plt.title(\"Peliculas Galardonadas con el Oscar\")\n",
    "\n",
    "# Etiquetamos el eje X con el nombre de las peliculas en el centro de las barras\n",
    "\n",
    "plt.xticks([i + 0.5 for i, _ in enumerate(peliculas)], peliculas)\n",
    "\n",
    "plt.show()"
   ]
  },
  {
   "cell_type": "markdown",
   "metadata": {},
   "source": [
    "## Seaborn \n",
    "\n",
    "[Seaborn](http://stanford.edu/~mwaskom/software/seaborn/) es una librería de visualización basada en matplotlib y creada para hacer visualizaciones de datos  mucho más atractivos visualmente e informativos. Seaborn ofrece varias características como  el construido en temas, paletas de colores, funciones y herramientas para visualizar regresiones lineales univariadad y bivariadad, matrices de datos,  series temporales en estadística, etc, que nos permiten construir visualizaciones complejas. También se integra  bien con Pandas.\n",
    "\n",
    "Para una breve introducción a las ideas detrás del paquete, se puede leer las [notas introductorias ](http://stanford.edu/~mwaskom/software/seaborn/introduction.html#introduction)."
   ]
  },
  {
   "cell_type": "code",
   "execution_count": 51,
   "metadata": {
    "collapsed": false
   },
   "outputs": [],
   "source": [
    "import seaborn as sns "
   ]
  },
  {
   "cell_type": "code",
   "execution_count": 60,
   "metadata": {
    "collapsed": false
   },
   "outputs": [],
   "source": [
    "df1 = pd.read_csv('te_2014.tsv', delimiter=\"\\t\", names=[\"time\", \"exterior\"])\n",
    "df1.time = pd.to_datetime(df1.time.values, unit=\"s\").tz_localize('UTC').tz_convert('Europe/Stockholm')\n",
    "df1 = df1.set_index(\"time\").resample(\"10min\")\n",
    "df2 = pd.read_csv('ti_2014.tsv', delimiter=\"\\t\", names=[\"time\", \"interior\"])\n",
    "df2.time = pd.to_datetime(df2.time.values, unit=\"s\").tz_localize('UTC').tz_convert('Europe/Stockholm')\n",
    "df2 = df2.set_index(\"time\").resample(\"10min\")\n",
    "df_temp = pd.concat([df1, df2], axis=1)"
   ]
  },
  {
   "cell_type": "code",
   "execution_count": 62,
   "metadata": {
    "collapsed": false
   },
   "outputs": [],
   "source": [
    "fig, ax = plt.subplots(1, 1, figsize=(8, 4))\n",
    "df_temp.resample(\"D\").plot(y=[\"exterior\", \"interior\"], ax=ax)\n",
    "fig.tight_layout()\n",
    "fig.savefig(\"plot-seaborn.pdf\")"
   ]
  },
  {
   "cell_type": "markdown",
   "metadata": {},
   "source": [
    "La principal habilidad  de la biblioteca Seaborn, aparte de generar gráficos vistosos, es su colección de gráficos estadísticos. Ejemplos de estos es [**kdeplot**](http://stanford.edu/~mwaskom/software/seaborn/generated/seaborn.kdeplot.html) que muestra  el [KDE](https://en.wikipedia.org/wiki/Kernel_density_estimation), una manera no paramétrica para estimar la densidad de una variable aleatoria y [**distplot**](http://stanford.edu/~mwaskom/software/seaborn/generated/seaborn.distplot.html?highlight=distplot) que muestra una distribución univariada de observaciones  respectivamente. Por ejemplo, las siguientes dos líneas de código producen el gráfico donde  las líneas azules y verdes son el KDE calculado."
   ]
  },
  {
   "cell_type": "code",
   "execution_count": 63,
   "metadata": {
    "collapsed": false
   },
   "outputs": [],
   "source": [
    "sns.distplot(df_temp.to_period(\"M\")[\"exterior\"][\"2014-04\"].dropna().values, bins=50);\n",
    "sns.distplot(df_temp.to_period(\"M\")[\"interior\"][\"2014-04\"].dropna().values, bins=50);\n",
    "\n",
    "plt.savefig(\"seaborn-distplot.pdf\")"
   ]
  },
  {
   "cell_type": "code",
   "execution_count": null,
   "metadata": {
    "collapsed": true
   },
   "outputs": [],
   "source": []
  }
 ],
 "metadata": {
  "kernelspec": {
   "display_name": "Python 3",
   "language": "python",
   "name": "python3"
  },
  "language_info": {
   "codemirror_mode": {
    "name": "ipython",
    "version": 3
   },
   "file_extension": ".py",
   "mimetype": "text/x-python",
   "name": "python",
   "nbconvert_exporter": "python",
   "pygments_lexer": "ipython3",
   "version": "3.5.1"
  }
 },
 "nbformat": 4,
 "nbformat_minor": 0
}
