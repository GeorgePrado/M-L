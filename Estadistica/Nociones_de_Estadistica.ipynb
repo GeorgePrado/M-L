{
 "cells": [
  {
   "cell_type": "markdown",
   "metadata": {},
   "source": [
    "## Nociones de Estadistica\n",
    "\n",
    "Referencia:\n",
    "\n",
    "1 . Using R for Introductory Statistics] de John Verzani.\n",
    "2 . [OpenStax introductory Statisticals](https://www.openstaxcollege.org/textbooks/introductory-statistics)"
   ]
  }
 ],
 "metadata": {
  "kernelspec": {
   "display_name": "Python 3",
   "language": "python",
   "name": "python3"
  },
  "language_info": {
   "codemirror_mode": {
    "name": "ipython",
    "version": 3
   },
   "file_extension": ".py",
   "mimetype": "text/x-python",
   "name": "python",
   "nbconvert_exporter": "python",
   "pygments_lexer": "ipython3",
   "version": "3.5.1"
  }
 },
 "nbformat": 4,
 "nbformat_minor": 0
}
